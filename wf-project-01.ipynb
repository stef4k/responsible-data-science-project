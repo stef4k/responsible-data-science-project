{
 "cells": [
  {
   "cell_type": "code",
   "execution_count": 2,
   "id": "81c8f238-7f91-4150-a7d7-72e8cf37bc33",
   "metadata": {},
   "outputs": [],
   "source": [
    "import pandas as pd\n",
    "import numpy as np\n",
    "import matplotlib.pyplot as plt\n",
    "import seaborn as sns"
   ]
  },
  {
   "cell_type": "markdown",
   "id": "4f1715ab-c7ed-48e1-8a07-9c477a66f226",
   "metadata": {},
   "source": [
    "## Load Data and Preprocessing"
   ]
  },
  {
   "cell_type": "code",
   "execution_count": 4,
   "id": "0c09b850-68f8-4bb2-991b-dbc6beb4e313",
   "metadata": {},
   "outputs": [
    {
     "name": "stderr",
     "output_type": "stream",
     "text": [
      "C:\\Users\\stef4\\AppData\\Local\\Temp\\ipykernel_14284\\1809994134.py:40: FutureWarning: The behavior of Series.replace (and DataFrame.replace) with CategoricalDtype is deprecated. In a future version, replace will only be used for cases that preserve the categories. To change the categories, use ser.cat.rename_categories instead.\n",
      "  df[\"Relationship\"] = df[\"Relationship\"].replace('Husband','Married')\n",
      "C:\\Users\\stef4\\AppData\\Local\\Temp\\ipykernel_14284\\1809994134.py:41: FutureWarning: The behavior of Series.replace (and DataFrame.replace) with CategoricalDtype is deprecated. In a future version, replace will only be used for cases that preserve the categories. To change the categories, use ser.cat.rename_categories instead.\n",
      "  df[\"Relationship\"] = df[\"Relationship\"].replace('Wife','Married')\n",
      "C:\\Users\\stef4\\AppData\\Local\\Temp\\ipykernel_14284\\1809994134.py:44: FutureWarning: The behavior of Series.replace (and DataFrame.replace) with CategoricalDtype is deprecated. In a future version, replace will only be used for cases that preserve the categories. To change the categories, use ser.cat.rename_categories instead.\n",
      "  df[\"label\"] = df[\"label\"].replace('>50K',1)\n",
      "C:\\Users\\stef4\\AppData\\Local\\Temp\\ipykernel_14284\\1809994134.py:45: FutureWarning: Downcasting behavior in `replace` is deprecated and will be removed in a future version. To retain the old behavior, explicitly call `result.infer_objects(copy=False)`. To opt-in to the future behavior, set `pd.set_option('future.no_silent_downcasting', True)`\n",
      "  df[\"label\"] = df[\"label\"].replace('<=50K',0)\n",
      "C:\\Users\\stef4\\AppData\\Local\\Temp\\ipykernel_14284\\1809994134.py:45: FutureWarning: The behavior of Series.replace (and DataFrame.replace) with CategoricalDtype is deprecated. In a future version, replace will only be used for cases that preserve the categories. To change the categories, use ser.cat.rename_categories instead.\n",
      "  df[\"label\"] = df[\"label\"].replace('<=50K',0)\n"
     ]
    },
    {
     "data": {
      "text/html": [
       "<div>\n",
       "<style scoped>\n",
       "    .dataframe tbody tr th:only-of-type {\n",
       "        vertical-align: middle;\n",
       "    }\n",
       "\n",
       "    .dataframe tbody tr th {\n",
       "        vertical-align: top;\n",
       "    }\n",
       "\n",
       "    .dataframe thead th {\n",
       "        text-align: right;\n",
       "    }\n",
       "</style>\n",
       "<table border=\"1\" class=\"dataframe\">\n",
       "  <thead>\n",
       "    <tr style=\"text-align: right;\">\n",
       "      <th></th>\n",
       "      <th>Age</th>\n",
       "      <th>Workclass</th>\n",
       "      <th>Education</th>\n",
       "      <th>Occupation</th>\n",
       "      <th>Relationship</th>\n",
       "      <th>Race</th>\n",
       "      <th>Sex</th>\n",
       "      <th>Capital Gain</th>\n",
       "      <th>Capital Loss</th>\n",
       "      <th>Hours per week</th>\n",
       "      <th>Country</th>\n",
       "      <th>label</th>\n",
       "    </tr>\n",
       "  </thead>\n",
       "  <tbody>\n",
       "    <tr>\n",
       "      <th>22255</th>\n",
       "      <td>Young</td>\n",
       "      <td>Private</td>\n",
       "      <td>HS-grad</td>\n",
       "      <td>Adm-clerical</td>\n",
       "      <td>Not-in-family</td>\n",
       "      <td>White</td>\n",
       "      <td>Female</td>\n",
       "      <td>0</td>\n",
       "      <td>0</td>\n",
       "      <td>OverTime</td>\n",
       "      <td>United-States</td>\n",
       "      <td>0</td>\n",
       "    </tr>\n",
       "    <tr>\n",
       "      <th>24104</th>\n",
       "      <td>Aged</td>\n",
       "      <td>Private</td>\n",
       "      <td>HS-grad</td>\n",
       "      <td>Craft-repair</td>\n",
       "      <td>Married</td>\n",
       "      <td>White</td>\n",
       "      <td>Male</td>\n",
       "      <td>0</td>\n",
       "      <td>0</td>\n",
       "      <td>OverTime</td>\n",
       "      <td>United-States</td>\n",
       "      <td>1</td>\n",
       "    </tr>\n",
       "    <tr>\n",
       "      <th>15479</th>\n",
       "      <td>Aged</td>\n",
       "      <td>Private</td>\n",
       "      <td>9th</td>\n",
       "      <td>Other-service</td>\n",
       "      <td>Unmarried</td>\n",
       "      <td>Black</td>\n",
       "      <td>Female</td>\n",
       "      <td>0</td>\n",
       "      <td>0</td>\n",
       "      <td>FullTime</td>\n",
       "      <td>United-States</td>\n",
       "      <td>0</td>\n",
       "    </tr>\n",
       "    <tr>\n",
       "      <th>13704</th>\n",
       "      <td>Aged</td>\n",
       "      <td>Private</td>\n",
       "      <td>11th</td>\n",
       "      <td>Farming-fishing</td>\n",
       "      <td>Married</td>\n",
       "      <td>White</td>\n",
       "      <td>Male</td>\n",
       "      <td>0</td>\n",
       "      <td>0</td>\n",
       "      <td>OverTime</td>\n",
       "      <td>United-States</td>\n",
       "      <td>0</td>\n",
       "    </tr>\n",
       "    <tr>\n",
       "      <th>12508</th>\n",
       "      <td>Aged</td>\n",
       "      <td>Self-emp-inc</td>\n",
       "      <td>Some-college</td>\n",
       "      <td>Exec-managerial</td>\n",
       "      <td>Married</td>\n",
       "      <td>White</td>\n",
       "      <td>Male</td>\n",
       "      <td>0</td>\n",
       "      <td>0</td>\n",
       "      <td>BrainDrain</td>\n",
       "      <td>United-States</td>\n",
       "      <td>1</td>\n",
       "    </tr>\n",
       "  </tbody>\n",
       "</table>\n",
       "</div>"
      ],
      "text/plain": [
       "         Age     Workclass     Education       Occupation   Relationship  \\\n",
       "22255  Young       Private       HS-grad     Adm-clerical  Not-in-family   \n",
       "24104   Aged       Private       HS-grad     Craft-repair        Married   \n",
       "15479   Aged       Private           9th    Other-service      Unmarried   \n",
       "13704   Aged       Private          11th  Farming-fishing        Married   \n",
       "12508   Aged  Self-emp-inc  Some-college  Exec-managerial        Married   \n",
       "\n",
       "        Race     Sex  Capital Gain  Capital Loss Hours per week  \\\n",
       "22255  White  Female             0             0       OverTime   \n",
       "24104  White    Male             0             0       OverTime   \n",
       "15479  Black  Female             0             0       FullTime   \n",
       "13704  White    Male             0             0       OverTime   \n",
       "12508  White    Male             0             0     BrainDrain   \n",
       "\n",
       "             Country label  \n",
       "22255  United-States     0  \n",
       "24104  United-States     1  \n",
       "15479  United-States     0  \n",
       "13704  United-States     0  \n",
       "12508  United-States     1  "
      ]
     },
     "execution_count": 4,
     "metadata": {},
     "output_type": "execute_result"
    }
   ],
   "source": [
    "# Keep only needed columns\n",
    "feature_names = [\n",
    "    \"Age\", \"Workclass\", \"Education\", \n",
    "    \"Occupation\", \"Relationship\", \"Race\", \n",
    "    \"Sex\", \"Capital Gain\", \"Capital Loss\", \n",
    "    \"Hours per week\", \"Country\", \"label\"\n",
    "]\n",
    "\n",
    "df = pd.DataFrame(\n",
    "  np.genfromtxt('dataset/adult.csv', delimiter=', ', dtype=str, usecols=(0,1,3,6,7,8,9,10,11,12,13,14)),    \n",
    "  columns=feature_names\n",
    ")\n",
    "\n",
    "# Drop missing values denoted as ?\n",
    "cols = list(df.columns)\n",
    "df[cols] = df[cols].replace(['?'], np.nan)\n",
    "df = df.dropna()\n",
    "\n",
    "\n",
    "# Declare categorical columns\n",
    "categorical_columns=[\n",
    "   \"Workclass\", \"Education\", \"Occupation\", \"Relationship\", \"Race\", \"Sex\", \"Country\", \"label\"\n",
    "]\n",
    "\n",
    "# Assign type to features\n",
    "for feature in feature_names:\n",
    "    if feature in categorical_columns:\n",
    "        df[feature] = df[feature].astype(\"category\")\n",
    "    else:\n",
    "        df[feature] = df[feature].astype(\"int\")\n",
    "\n",
    "# Make bins for age and hours per week\n",
    "df['Age'] = pd.cut(df['Age'], bins=[16, 35 , 90],labels=['Young','Aged'])\n",
    "df[\"Hours per week\"] = pd.cut(\n",
    "            x=df[\"Hours per week\"],\n",
    "            bins=[0.9, 25, 39, 40, 55, 100],\n",
    "            labels=[\"PartTime\", \"MidTime\", \"FullTime\", \"OverTime\", \"BrainDrain\"])\n",
    "\n",
    "# Replace \"Husband\" and \"Wife\" values with the unisex \"Married\"\n",
    "df[\"Relationship\"] = df[\"Relationship\"].replace('Husband','Married')\n",
    "df[\"Relationship\"] = df[\"Relationship\"].replace('Wife','Married')\n",
    "\n",
    "# Will have income >50k (1 or 0)\n",
    "df[\"label\"] = df[\"label\"].replace('>50K',1)\n",
    "df[\"label\"] = df[\"label\"].replace('<=50K',0)\n",
    "\n",
    "df.sample(5)"
   ]
  },
  {
   "cell_type": "code",
   "execution_count": 5,
   "id": "b82abdd0-926e-4946-b25b-5385d141f842",
   "metadata": {},
   "outputs": [
    {
     "name": "stdout",
     "output_type": "stream",
     "text": [
      "<class 'pandas.core.frame.DataFrame'>\n",
      "Index: 30162 entries, 0 to 32560\n",
      "Data columns (total 12 columns):\n",
      " #   Column          Non-Null Count  Dtype   \n",
      "---  ------          --------------  -----   \n",
      " 0   Age             30162 non-null  category\n",
      " 1   Workclass       30162 non-null  category\n",
      " 2   Education       30162 non-null  category\n",
      " 3   Occupation      30162 non-null  category\n",
      " 4   Relationship    30162 non-null  category\n",
      " 5   Race            30162 non-null  category\n",
      " 6   Sex             30162 non-null  category\n",
      " 7   Capital Gain    30162 non-null  int32   \n",
      " 8   Capital Loss    30162 non-null  int32   \n",
      " 9   Hours per week  30162 non-null  category\n",
      " 10  Country         30162 non-null  category\n",
      " 11  label           30162 non-null  category\n",
      "dtypes: category(10), int32(2)\n",
      "memory usage: 769.9 KB\n"
     ]
    }
   ],
   "source": [
    "df.info()"
   ]
  },
  {
   "cell_type": "markdown",
   "id": "e112092b-8a61-4565-a13e-2e7def2a39f2",
   "metadata": {},
   "source": [
    "## Model Creation"
   ]
  },
  {
   "cell_type": "code",
   "execution_count": 7,
   "id": "e6fd9277-5fbe-409e-972d-14042d76eba3",
   "metadata": {},
   "outputs": [
    {
     "name": "stdout",
     "output_type": "stream",
     "text": [
      "Training data shape:   (21113, 99)\n",
      "Validation data shape:  (4524, 99)\n",
      "Test data shape:        (4525, 99)\n"
     ]
    },
    {
     "data": {
      "text/plain": [
       "'label'"
      ]
     },
     "metadata": {},
     "output_type": "display_data"
    },
    {
     "data": {
      "text/plain": [
       "array([1., 0.])"
      ]
     },
     "metadata": {},
     "output_type": "display_data"
    }
   ],
   "source": [
    "# Data preprocessing to train model\n",
    "from omnixai.data.tabular import Tabular\n",
    "from omnixai.preprocessing.tabular import TabularTransform\n",
    "from sklearn.model_selection import train_test_split\n",
    "from sklearn.ensemble import RandomForestClassifier\n",
    "\n",
    "tabular_data = Tabular(\n",
    "   df,\n",
    "   categorical_columns=[\n",
    "  \"Age\", \"Workclass\", \"Education\", \"Occupation\", \"Relationship\", \"Race\", \"Sex\", \"Hours per week\", \"Country\"\n",
    "],\n",
    "   target_column='label'\n",
    ")\n",
    "transformer = TabularTransform().fit(tabular_data)\n",
    "class_names = transformer.class_names\n",
    "x = transformer.transform(tabular_data)\n",
    "\n",
    "# Split data into training and (validation + test) datasets\n",
    "train, X_temp, train_labels, y_temp  = \\\n",
    "    train_test_split(x[:, :-1], x[:, -1], train_size=0.70, random_state = 123)\n",
    "\n",
    "# Split data validation and test sets\n",
    "val, test, val_labels, test_labels = train_test_split(X_temp, y_temp, test_size=0.5, random_state=123)\n",
    "\n",
    "test_labels = test_labels.astype(int)\n",
    "\n",
    "print('Training data shape:   {}'.format(train.shape))\n",
    "print('Validation data shape:  {}'.format(val.shape))\n",
    "print('Test data shape:        {}'.format(test.shape))\n",
    "\n",
    "# Train a Random Forest model\n",
    "model = RandomForestClassifier(random_state=123)\n",
    "model.fit(train, train_labels)\n",
    "\n",
    "predict_function=lambda z: model.predict_proba(transformer.transform(z))\n",
    "\n",
    "# Convert the transformed data back to Tabular instances\n",
    "train_data = transformer.invert(train)\n",
    "test_data = transformer.invert(test)\n",
    "\n",
    "display(tabular_data.target_column)\n",
    "display(train_labels[:2])"
   ]
  },
  {
   "cell_type": "code",
   "execution_count": 8,
   "id": "f2976258-ac1a-4bac-b9b7-dfad5f7ede64",
   "metadata": {},
   "outputs": [
    {
     "data": {
      "text/html": [
       "<div>\n",
       "<style scoped>\n",
       "    .dataframe tbody tr th:only-of-type {\n",
       "        vertical-align: middle;\n",
       "    }\n",
       "\n",
       "    .dataframe tbody tr th {\n",
       "        vertical-align: top;\n",
       "    }\n",
       "\n",
       "    .dataframe thead th {\n",
       "        text-align: right;\n",
       "    }\n",
       "</style>\n",
       "<table border=\"1\" class=\"dataframe\">\n",
       "  <thead>\n",
       "    <tr style=\"text-align: right;\">\n",
       "      <th></th>\n",
       "      <th>Age</th>\n",
       "      <th>Workclass</th>\n",
       "      <th>Education</th>\n",
       "      <th>Occupation</th>\n",
       "      <th>Relationship</th>\n",
       "      <th>Race</th>\n",
       "      <th>Sex</th>\n",
       "      <th>Capital Gain</th>\n",
       "      <th>Capital Loss</th>\n",
       "      <th>Hours per week</th>\n",
       "      <th>Country</th>\n",
       "      <th>label</th>\n",
       "      <th>prediction</th>\n",
       "    </tr>\n",
       "  </thead>\n",
       "  <tbody>\n",
       "    <tr>\n",
       "      <th>3624</th>\n",
       "      <td>Aged</td>\n",
       "      <td>State-gov</td>\n",
       "      <td>Bachelors</td>\n",
       "      <td>Exec-managerial</td>\n",
       "      <td>Married</td>\n",
       "      <td>White</td>\n",
       "      <td>Male</td>\n",
       "      <td>0.0</td>\n",
       "      <td>0.0</td>\n",
       "      <td>FullTime</td>\n",
       "      <td>United-States</td>\n",
       "      <td>1</td>\n",
       "      <td>1.0</td>\n",
       "    </tr>\n",
       "    <tr>\n",
       "      <th>304</th>\n",
       "      <td>Aged</td>\n",
       "      <td>Private</td>\n",
       "      <td>Bachelors</td>\n",
       "      <td>Prof-specialty</td>\n",
       "      <td>Unmarried</td>\n",
       "      <td>White</td>\n",
       "      <td>Female</td>\n",
       "      <td>0.0</td>\n",
       "      <td>0.0</td>\n",
       "      <td>MidTime</td>\n",
       "      <td>United-States</td>\n",
       "      <td>0</td>\n",
       "      <td>0.0</td>\n",
       "    </tr>\n",
       "    <tr>\n",
       "      <th>4243</th>\n",
       "      <td>Aged</td>\n",
       "      <td>Private</td>\n",
       "      <td>Some-college</td>\n",
       "      <td>Transport-moving</td>\n",
       "      <td>Not-in-family</td>\n",
       "      <td>White</td>\n",
       "      <td>Male</td>\n",
       "      <td>0.0</td>\n",
       "      <td>0.0</td>\n",
       "      <td>FullTime</td>\n",
       "      <td>United-States</td>\n",
       "      <td>0</td>\n",
       "      <td>0.0</td>\n",
       "    </tr>\n",
       "    <tr>\n",
       "      <th>2046</th>\n",
       "      <td>Aged</td>\n",
       "      <td>Local-gov</td>\n",
       "      <td>Masters</td>\n",
       "      <td>Exec-managerial</td>\n",
       "      <td>Married</td>\n",
       "      <td>Black</td>\n",
       "      <td>Male</td>\n",
       "      <td>0.0</td>\n",
       "      <td>1977.0</td>\n",
       "      <td>OverTime</td>\n",
       "      <td>United-States</td>\n",
       "      <td>1</td>\n",
       "      <td>1.0</td>\n",
       "    </tr>\n",
       "    <tr>\n",
       "      <th>3462</th>\n",
       "      <td>Aged</td>\n",
       "      <td>Private</td>\n",
       "      <td>7th-8th</td>\n",
       "      <td>Transport-moving</td>\n",
       "      <td>Married</td>\n",
       "      <td>White</td>\n",
       "      <td>Male</td>\n",
       "      <td>0.0</td>\n",
       "      <td>0.0</td>\n",
       "      <td>FullTime</td>\n",
       "      <td>United-States</td>\n",
       "      <td>0</td>\n",
       "      <td>0.0</td>\n",
       "    </tr>\n",
       "  </tbody>\n",
       "</table>\n",
       "</div>"
      ],
      "text/plain": [
       "       Age  Workclass     Education        Occupation   Relationship   Race  \\\n",
       "3624  Aged  State-gov     Bachelors   Exec-managerial        Married  White   \n",
       "304   Aged    Private     Bachelors    Prof-specialty      Unmarried  White   \n",
       "4243  Aged    Private  Some-college  Transport-moving  Not-in-family  White   \n",
       "2046  Aged  Local-gov       Masters   Exec-managerial        Married  Black   \n",
       "3462  Aged    Private       7th-8th  Transport-moving        Married  White   \n",
       "\n",
       "         Sex  Capital Gain  Capital Loss Hours per week        Country  label  \\\n",
       "3624    Male           0.0           0.0       FullTime  United-States      1   \n",
       "304   Female           0.0           0.0        MidTime  United-States      0   \n",
       "4243    Male           0.0           0.0       FullTime  United-States      0   \n",
       "2046    Male           0.0        1977.0       OverTime  United-States      1   \n",
       "3462    Male           0.0           0.0       FullTime  United-States      0   \n",
       "\n",
       "      prediction  \n",
       "3624         1.0  \n",
       "304          0.0  \n",
       "4243         0.0  \n",
       "2046         1.0  \n",
       "3462         0.0  "
      ]
     },
     "execution_count": 8,
     "metadata": {},
     "output_type": "execute_result"
    }
   ],
   "source": [
    "# Model Predictions\n",
    "test_df = test_data.to_pd()\n",
    "test_df[\"label\"] = test_labels\n",
    "predictions = model.predict(test)\n",
    "test_df[\"prediction\"] = predictions\n",
    "\n",
    "test_df.sample(5)"
   ]
  },
  {
   "cell_type": "code",
   "execution_count": 9,
   "id": "04761915-3a1a-4df6-8947-ce527263a62b",
   "metadata": {},
   "outputs": [
    {
     "name": "stdout",
     "output_type": "stream",
     "text": [
      "Test: accuracy=0.8513\n",
      "Test: TP=734, TN=3118, FP=263, FN=410\n"
     ]
    },
    {
     "data": {
      "text/plain": [
       "<sklearn.metrics._plot.confusion_matrix.ConfusionMatrixDisplay at 0x187da2bbb90>"
      ]
     },
     "execution_count": 9,
     "metadata": {},
     "output_type": "execute_result"
    },
    {
     "data": {
      "image/png": "[encoded data removed]",
      "text/plain": [
       "<Figure size 640x480 with 2 Axes>"
      ]
     },
     "metadata": {},
     "output_type": "display_data"
    }
   ],
   "source": [
    "from sklearn.metrics import accuracy_score, confusion_matrix, ConfusionMatrixDisplay\n",
    "\n",
    "accuracy = accuracy_score(test_labels, predictions)\n",
    "print(f'Test: {accuracy=:.4f}')\n",
    "\n",
    "cm = confusion_matrix(test_labels, predictions)\n",
    "\n",
    "TN = cm[0][0]\n",
    "FN = cm[1][0]\n",
    "TP = cm[1][1]\n",
    "FP = cm[0][1]\n",
    "print(f\"Test: {TP=}, {TN=}, {FP=}, {FN=}\")\n",
    "\n",
    "disp = ConfusionMatrixDisplay(confusion_matrix=cm, )\n",
    "disp.plot()"
   ]
  },
  {
   "cell_type": "markdown",
   "id": "46760902",
   "metadata": {},
   "source": [
    "## Fairness\n",
    "Now the fairness will be analyzed\n",
    "\n",
    "First we import the necessary libraries"
   ]
  },
  {
   "cell_type": "code",
   "execution_count": 11,
   "id": "e72a1992-ab24-4e1b-a52e-b1bf19be7a06",
   "metadata": {},
   "outputs": [
    {
     "name": "stderr",
     "output_type": "stream",
     "text": [
      "WARNING:root:No module named 'tensorflow': AdversarialDebiasing will be unavailable. To install, run:\n",
      "pip install 'aif360[AdversarialDebiasing]'\n",
      "WARNING:root:No module named 'tensorflow': AdversarialDebiasing will be unavailable. To install, run:\n",
      "pip install 'aif360[AdversarialDebiasing]'\n",
      "WARNING:root:No module named 'fairlearn': ExponentiatedGradientReduction will be unavailable. To install, run:\n",
      "pip install 'aif360[Reductions]'\n",
      "WARNING:root:No module named 'fairlearn': GridSearchReduction will be unavailable. To install, run:\n",
      "pip install 'aif360[Reductions]'\n",
      "WARNING:root:No module named 'inFairness': SenSeI and SenSR will be unavailable. To install, run:\n",
      "pip install 'aif360[inFairness]'\n",
      "WARNING:root:No module named 'fairlearn': GridSearchReduction will be unavailable. To install, run:\n",
      "pip install 'aif360[Reductions]'\n"
     ]
    }
   ],
   "source": [
    "import warnings\n",
    "# Suppress warnings\n",
    "warnings.filterwarnings(\"ignore\")\n",
    "\n",
    "from aif360.datasets import BinaryLabelDataset\n",
    "from aif360.algorithms.preprocessing import Reweighing\n",
    "import random\n",
    "from aif360.metrics import ClassificationMetric"
   ]
  },
  {
   "cell_type": "markdown",
   "id": "3f9380a5-042f-4188-85f8-bc485232370b",
   "metadata": {},
   "source": [
    "Since for the fairness analysis, we can not use the Tabular data, we create a new dataframe with the transformed values of TabularTransform. This is because we need to have access to a dataframe structure containing the binarized values (for age, sex and all categorical attributes) and not the categorical values (e.g. Young/Aged, Female/Male etc.)"
   ]
  },
  {
   "cell_type": "code",
   "execution_count": 13,
   "id": "4e414966-fefd-47c8-84ed-0dafc180a348",
   "metadata": {},
   "outputs": [
    {
     "data": {
      "text/html": [
       "<div>\n",
       "<style scoped>\n",
       "    .dataframe tbody tr th:only-of-type {\n",
       "        vertical-align: middle;\n",
       "    }\n",
       "\n",
       "    .dataframe tbody tr th {\n",
       "        vertical-align: top;\n",
       "    }\n",
       "\n",
       "    .dataframe thead th {\n",
       "        text-align: right;\n",
       "    }\n",
       "</style>\n",
       "<table border=\"1\" class=\"dataframe\">\n",
       "  <thead>\n",
       "    <tr style=\"text-align: right;\">\n",
       "      <th></th>\n",
       "      <th>Age_Aged</th>\n",
       "      <th>Age_Young</th>\n",
       "      <th>Workclass_Federal-gov</th>\n",
       "      <th>Workclass_Local-gov</th>\n",
       "      <th>Workclass_Private</th>\n",
       "      <th>Workclass_Self-emp-inc</th>\n",
       "      <th>Workclass_Self-emp-not-inc</th>\n",
       "      <th>Workclass_State-gov</th>\n",
       "      <th>Workclass_Without-pay</th>\n",
       "      <th>Education_10th</th>\n",
       "      <th>...</th>\n",
       "      <th>Country_South</th>\n",
       "      <th>Country_Taiwan</th>\n",
       "      <th>Country_Thailand</th>\n",
       "      <th>Country_Trinadad&amp;Tobago</th>\n",
       "      <th>Country_United-States</th>\n",
       "      <th>Country_Vietnam</th>\n",
       "      <th>Country_Yugoslavia</th>\n",
       "      <th>Capital Gain</th>\n",
       "      <th>Capital Loss</th>\n",
       "      <th>label</th>\n",
       "    </tr>\n",
       "  </thead>\n",
       "  <tbody>\n",
       "    <tr>\n",
       "      <th>0</th>\n",
       "      <td>1.0</td>\n",
       "      <td>0.0</td>\n",
       "      <td>0.0</td>\n",
       "      <td>0.0</td>\n",
       "      <td>0.0</td>\n",
       "      <td>0.0</td>\n",
       "      <td>0.0</td>\n",
       "      <td>1.0</td>\n",
       "      <td>0.0</td>\n",
       "      <td>0.0</td>\n",
       "      <td>...</td>\n",
       "      <td>0.0</td>\n",
       "      <td>0.0</td>\n",
       "      <td>0.0</td>\n",
       "      <td>0.0</td>\n",
       "      <td>1.0</td>\n",
       "      <td>0.0</td>\n",
       "      <td>0.0</td>\n",
       "      <td>2174.0</td>\n",
       "      <td>0.0</td>\n",
       "      <td>0.0</td>\n",
       "    </tr>\n",
       "    <tr>\n",
       "      <th>1</th>\n",
       "      <td>1.0</td>\n",
       "      <td>0.0</td>\n",
       "      <td>0.0</td>\n",
       "      <td>0.0</td>\n",
       "      <td>0.0</td>\n",
       "      <td>0.0</td>\n",
       "      <td>1.0</td>\n",
       "      <td>0.0</td>\n",
       "      <td>0.0</td>\n",
       "      <td>0.0</td>\n",
       "      <td>...</td>\n",
       "      <td>0.0</td>\n",
       "      <td>0.0</td>\n",
       "      <td>0.0</td>\n",
       "      <td>0.0</td>\n",
       "      <td>1.0</td>\n",
       "      <td>0.0</td>\n",
       "      <td>0.0</td>\n",
       "      <td>0.0</td>\n",
       "      <td>0.0</td>\n",
       "      <td>0.0</td>\n",
       "    </tr>\n",
       "    <tr>\n",
       "      <th>2</th>\n",
       "      <td>1.0</td>\n",
       "      <td>0.0</td>\n",
       "      <td>0.0</td>\n",
       "      <td>0.0</td>\n",
       "      <td>1.0</td>\n",
       "      <td>0.0</td>\n",
       "      <td>0.0</td>\n",
       "      <td>0.0</td>\n",
       "      <td>0.0</td>\n",
       "      <td>0.0</td>\n",
       "      <td>...</td>\n",
       "      <td>0.0</td>\n",
       "      <td>0.0</td>\n",
       "      <td>0.0</td>\n",
       "      <td>0.0</td>\n",
       "      <td>1.0</td>\n",
       "      <td>0.0</td>\n",
       "      <td>0.0</td>\n",
       "      <td>0.0</td>\n",
       "      <td>0.0</td>\n",
       "      <td>0.0</td>\n",
       "    </tr>\n",
       "  </tbody>\n",
       "</table>\n",
       "<p>3 rows × 100 columns</p>\n",
       "</div>"
      ],
      "text/plain": [
       "   Age_Aged  Age_Young  Workclass_Federal-gov  Workclass_Local-gov  \\\n",
       "0       1.0        0.0                    0.0                  0.0   \n",
       "1       1.0        0.0                    0.0                  0.0   \n",
       "2       1.0        0.0                    0.0                  0.0   \n",
       "\n",
       "   Workclass_Private  Workclass_Self-emp-inc  Workclass_Self-emp-not-inc  \\\n",
       "0                0.0                     0.0                         0.0   \n",
       "1                0.0                     0.0                         1.0   \n",
       "2                1.0                     0.0                         0.0   \n",
       "\n",
       "   Workclass_State-gov  Workclass_Without-pay  Education_10th  ...  \\\n",
       "0                  1.0                    0.0             0.0  ...   \n",
       "1                  0.0                    0.0             0.0  ...   \n",
       "2                  0.0                    0.0             0.0  ...   \n",
       "\n",
       "   Country_South  Country_Taiwan  Country_Thailand  Country_Trinadad&Tobago  \\\n",
       "0            0.0             0.0               0.0                      0.0   \n",
       "1            0.0             0.0               0.0                      0.0   \n",
       "2            0.0             0.0               0.0                      0.0   \n",
       "\n",
       "   Country_United-States  Country_Vietnam  Country_Yugoslavia  Capital Gain  \\\n",
       "0                    1.0              0.0                 0.0        2174.0   \n",
       "1                    1.0              0.0                 0.0           0.0   \n",
       "2                    1.0              0.0                 0.0           0.0   \n",
       "\n",
       "   Capital Loss  label  \n",
       "0           0.0    0.0  \n",
       "1           0.0    0.0  \n",
       "2           0.0    0.0  \n",
       "\n",
       "[3 rows x 100 columns]"
      ]
     },
     "execution_count": 13,
     "metadata": {},
     "output_type": "execute_result"
    }
   ],
   "source": [
    "column_names = transformer.get_feature_names()\n",
    "# Last column is the label which is not included in the get_feature_names\n",
    "column_names.append('label')\n",
    "\n",
    "fairness_dataset = pd.DataFrame(x, columns=column_names)\n",
    "fairness_dataset.head(3)"
   ]
  },
  {
   "cell_type": "markdown",
   "id": "67441c00-008d-4a34-9076-febbfee68d45",
   "metadata": {},
   "source": [
    "As seen below there are four columns for the protected attributes of sex and age. Two boolean columns for each:"
   ]
  },
  {
   "cell_type": "code",
   "execution_count": 15,
   "id": "97f4bcd7-c809-4f64-8719-d5930e832940",
   "metadata": {},
   "outputs": [
    {
     "data": {
      "text/html": [
       "<div>\n",
       "<style scoped>\n",
       "    .dataframe tbody tr th:only-of-type {\n",
       "        vertical-align: middle;\n",
       "    }\n",
       "\n",
       "    .dataframe tbody tr th {\n",
       "        vertical-align: top;\n",
       "    }\n",
       "\n",
       "    .dataframe thead th {\n",
       "        text-align: right;\n",
       "    }\n",
       "</style>\n",
       "<table border=\"1\" class=\"dataframe\">\n",
       "  <thead>\n",
       "    <tr style=\"text-align: right;\">\n",
       "      <th></th>\n",
       "      <th>Age_Aged</th>\n",
       "      <th>Age_Young</th>\n",
       "      <th>Sex_Male</th>\n",
       "      <th>Sex_Female</th>\n",
       "    </tr>\n",
       "  </thead>\n",
       "  <tbody>\n",
       "    <tr>\n",
       "      <th>0</th>\n",
       "      <td>1.0</td>\n",
       "      <td>0.0</td>\n",
       "      <td>1.0</td>\n",
       "      <td>0.0</td>\n",
       "    </tr>\n",
       "    <tr>\n",
       "      <th>1</th>\n",
       "      <td>1.0</td>\n",
       "      <td>0.0</td>\n",
       "      <td>1.0</td>\n",
       "      <td>0.0</td>\n",
       "    </tr>\n",
       "    <tr>\n",
       "      <th>2</th>\n",
       "      <td>1.0</td>\n",
       "      <td>0.0</td>\n",
       "      <td>1.0</td>\n",
       "      <td>0.0</td>\n",
       "    </tr>\n",
       "  </tbody>\n",
       "</table>\n",
       "</div>"
      ],
      "text/plain": [
       "   Age_Aged  Age_Young  Sex_Male  Sex_Female\n",
       "0       1.0        0.0       1.0         0.0\n",
       "1       1.0        0.0       1.0         0.0\n",
       "2       1.0        0.0       1.0         0.0"
      ]
     },
     "execution_count": 15,
     "metadata": {},
     "output_type": "execute_result"
    }
   ],
   "source": [
    "fairness_dataset[['Age_Aged', 'Age_Young', 'Sex_Male', 'Sex_Female']].head(3)"
   ]
  },
  {
   "cell_type": "markdown",
   "id": "61cd035d-69e3-48d3-8e6e-5497bf6695b0",
   "metadata": {},
   "source": [
    "We decide only to keep `Age_Aged` and `Sex_Male`, and renaming those to columns to `Age` and `Sex` meaning that:\n",
    "- when `Sex` is 0, the person is female and when when `Sex` is 1, the person is male\n",
    "- when `Age` is 0, the person is young and  when `Age` is 0, the person is aged\n"
   ]
  },
  {
   "cell_type": "code",
   "execution_count": 17,
   "id": "2263308a-4403-4d99-87aa-9339cc1bb5b8",
   "metadata": {},
   "outputs": [],
   "source": [
    "fairness_dataset = fairness_dataset.drop(columns=['Age_Young', 'Sex_Female'])\n",
    "fairness_dataset.rename(columns={'Age_Aged': 'Age', 'Sex_Male': 'Sex'}, inplace=True)"
   ]
  },
  {
   "cell_type": "markdown",
   "id": "88f149d9-c863-4efa-8a4f-67a62ab460ef",
   "metadata": {},
   "source": [
    "Next we want to ensure that we train the classifier on the exact same data as the previous normal classifier, keeping the train, validation and test split:"
   ]
  },
  {
   "cell_type": "code",
   "execution_count": 19,
   "id": "b5ee85cf-da53-48df-adee-04f476f739ea",
   "metadata": {},
   "outputs": [],
   "source": [
    "# Split data into training and (validation + test) datasets\n",
    "train, X_temp, _, y_temp  = \\\n",
    "    train_test_split(fairness_dataset, fairness_dataset.label, train_size=0.70, random_state = 123)\n",
    "\n",
    "# Split data validation and test sets\n",
    "val, test, _, _ = train_test_split(X_temp, y_temp, test_size=0.5, random_state=123)"
   ]
  },
  {
   "cell_type": "markdown",
   "id": "81ef0d7f-e38f-427b-8ebd-34d99f8653af",
   "metadata": {},
   "source": [
    "Now we can transform the previous data structures into BinaryLabelDatasets:"
   ]
  },
  {
   "cell_type": "code",
   "execution_count": 21,
   "id": "738e8fad-eab3-4451-8278-f056bc2b68ad",
   "metadata": {},
   "outputs": [],
   "source": [
    "# Transform to BinaryLabelDataset\n",
    "dataset_fair_train = BinaryLabelDataset(df=train, label_names=['label'], protected_attribute_names=['Age', 'Sex'])\n",
    "dataset_fair_valid = BinaryLabelDataset(df=val, label_names=['label'], protected_attribute_names=['Age', 'Sex'])\n",
    "dataset_fair_test = BinaryLabelDataset(df=test, label_names=['label'], protected_attribute_names=['Age', 'Sex'])"
   ]
  },
  {
   "cell_type": "markdown",
   "id": "57a5ee5a-fe59-43ae-9169-095a99009cb7",
   "metadata": {},
   "source": [
    "Now the group fairness of the classifier will be assessed, assuming the protected attributes are Age, Sex.\n",
    "\n",
    "We assume that:\n",
    "- Young age (corresponding to 0) is one unprivileged group and Aged (corresponding to 1) is one privileged group\n",
    "- Female sex is one unprivileged (corresponding to 0) group and male sex (corresponding to 1) is one privileged group:"
   ]
  },
  {
   "cell_type": "code",
   "execution_count": 23,
   "id": "c1c29bcf-b09b-4a1b-8ca2-f3a840d6a66e",
   "metadata": {},
   "outputs": [],
   "source": [
    "privileged_groups = [{'Age':1,\n",
    "                      'Sex':1}]\n",
    "unprivileged_groups = [{'Age': 0,\n",
    "                       'Sex':0}]"
   ]
  },
  {
   "cell_type": "markdown",
   "id": "782e714e-9d6c-418d-bd8b-819c10c4d85a",
   "metadata": {},
   "source": [
    "Since there is a significant difference in the positive rates and true positive rate thus there is unfairness. Actually, the priviliged groups (aged and male) has 37% more chance to be predicted as >50k income comparing to the unprivileged group (young, female)\n",
    "\n",
    "Now, we will try to mitigate this bias in the training dataset by using the `Reweighing algorithm`. By reweighing we ensure that there is better fairness when we compare the positive rates between privileged and unprivileged groups"
   ]
  },
  {
   "cell_type": "code",
   "execution_count": 25,
   "id": "4a4f7198-4ec2-4a0f-8f7d-d5029ef45a96",
   "metadata": {},
   "outputs": [],
   "source": [
    "RW = Reweighing(unprivileged_groups=unprivileged_groups,\n",
    "                privileged_groups=privileged_groups)\n",
    "dataset_transf_train = RW.fit_transform(dataset_fair_train)"
   ]
  },
  {
   "cell_type": "markdown",
   "id": "ed3b4cea-7088-468c-950f-c636d1f83e8c",
   "metadata": {},
   "source": [
    "### Fair classifier\n",
    "\n",
    "Since reweighting does not achieve the goal of $0$ statistical parity difference or Equal opportunity difference, we will oversample the underprivileged classes (female young) and undersample the privileged classes (male aged) to teach the classifier to be more fair. After some experimentation, it was decided:\n",
    "- $750$ extra samples of young female with income >50k were randomly oversampled in the training data, and random weights of values between $[1.2,1.6]$ were given for each sample\n",
    "- $1500$ samples of aged male with income >50k were randomly undersampled in the training data (completely removed from the training set)"
   ]
  },
  {
   "cell_type": "code",
   "execution_count": 27,
   "id": "726d4be2-61e1-4082-979d-c32d026ce8b3",
   "metadata": {},
   "outputs": [],
   "source": [
    "# Seed to reproduce results\n",
    "random.seed(1)\n",
    "\n",
    "# Number of over-samples produced for training dataset\n",
    "number_oversamples = 750\n",
    "# Number of under-samples to be removed for training dataset\n",
    "number_undersamples = 1500\n",
    "\n",
    "# Train and target data\n",
    "X_train = dataset_transf_train.features\n",
    "y_train = dataset_transf_train.labels.ravel()\n",
    "\n",
    "# Resampled data structures\n",
    "X_train_resampled = X_train.copy()\n",
    "y_train_resampled = y_train.copy()\n",
    "weights_resampled = dataset_transf_train.instance_weights.copy()\n",
    "\n",
    "# list to keep for indexes of undersamples (to be deleted after)\n",
    "list_indexes_undersamples = []\n",
    "# List to keep the over_samples and counters of oversamples and undersamples\n",
    "oversamples = []\n",
    "counter_oversamples = 0\n",
    "counter_undersamples = 0\n",
    "\n",
    "# Iterate over the whole training dataset\n",
    "for counter in range(len(X_train)):\n",
    "    # Only append rows that contain young female since this is the heavily underprivileged class\n",
    "    if (X_train[counter][0] == 0) and (X_train[counter][1] == 0) and (y_train[counter] == 1)\\\n",
    "        and (counter_oversamples < number_oversamples):\n",
    "        oversamples.append(X_train[counter].copy())\n",
    "        counter_oversamples += 1\n",
    "    # Store index of rows that contain aged male since this is the heavily overprivileged class\n",
    "    if ((X_train[counter][0] == 1) or (X_train[counter][1] == 1)) and (y_train[counter] == 1)\\\n",
    "        and (counter_undersamples < number_undersamples):\n",
    "        list_indexes_undersamples.append(counter)\n",
    "        counter_undersamples += 1\n",
    "    # When number of extra oversamples and undersamples is reached, stop loop\n",
    "    if (counter_oversamples == number_oversamples) and (counter_undersamples == number_undersamples):\n",
    "        break\n",
    "    counter += 1\n",
    "\n",
    "# Remove all indexes of undersamples\n",
    "X_train_resampled = np.delete(X_train_resampled, list_indexes_undersamples, axis=0)\n",
    "y_train_resampled = np.delete(y_train_resampled, list_indexes_undersamples)\n",
    "weights_resampled = np.delete(weights_resampled, list_indexes_undersamples)\n",
    "\n",
    "\n",
    "# Only assign positive labels to favor underprivileged class \n",
    "arr = np.array([1 for i in range(number_oversamples)])\n",
    "\n",
    "# Append extra samples and labels to the training data and \n",
    "y_train_resampled = np.append(y_train_resampled, arr)\n",
    "X_train_resampled = np.vstack([X_train_resampled, oversamples])\n",
    "# Randomize weights of extra samples to take values between 1 and 1.5\n",
    "weights_resampled = np.append(weights_resampled, np.array([random.uniform(1.2, 1.6) for i in range(number_oversamples)]))"
   ]
  },
  {
   "cell_type": "markdown",
   "id": "621f0b73-2378-4fce-a54d-bafb2c38a49a",
   "metadata": {},
   "source": [
    "Now we can train the classifier:"
   ]
  },
  {
   "cell_type": "code",
   "execution_count": 29,
   "id": "03636381-824f-40c2-bf21-96486fc2838e",
   "metadata": {},
   "outputs": [],
   "source": [
    "model_fair_reweighted = RandomForestClassifier(random_state=123)\n",
    "model_fair_reweighted.fit(X_train_resampled, y_train_resampled, sample_weight=weights_resampled)\n",
    "\n",
    "X_test = dataset_fair_test.features\n",
    "y_test = dataset_fair_test.labels"
   ]
  },
  {
   "cell_type": "markdown",
   "id": "2cb5a56f-13a1-48fc-a1fd-9febf87f9d5f",
   "metadata": {},
   "source": [
    "Next predict the test data <b> based on the threshold </b> found in the fairness analysis:"
   ]
  },
  {
   "cell_type": "code",
   "execution_count": 31,
   "id": "c22a3357-cf61-42e8-83e0-4742eef04306",
   "metadata": {},
   "outputs": [],
   "source": [
    "predictions = []\n",
    "threshold_fairness = 0.2080\n",
    "# positive class index\n",
    "pos_ind = 1\n",
    "\n",
    "for item in model_fair_reweighted.predict_proba(X_test)[:,pos_ind].reshape(-1,1):\n",
    "    if item >=  threshold_fairness:\n",
    "        predictions.append(1)\n",
    "    else:\n",
    "        predictions.append(0)"
   ]
  },
  {
   "cell_type": "markdown",
   "id": "c918ff8d-7e7f-434d-bdc6-5108fe334976",
   "metadata": {},
   "source": [
    "Last let's print the metrics for this classifier:"
   ]
  },
  {
   "cell_type": "code",
   "execution_count": 33,
   "id": "23a0060e-40e1-40cf-a064-3bf59639ca8d",
   "metadata": {
    "scrolled": true
   },
   "outputs": [
    {
     "name": "stdout",
     "output_type": "stream",
     "text": [
      "Test: accuracy=0.7929\n",
      "Test: TP=886, TN=2702, FP=679, FN=258\n"
     ]
    },
    {
     "data": {
      "text/plain": [
       "<sklearn.metrics._plot.confusion_matrix.ConfusionMatrixDisplay at 0x187db45f890>"
      ]
     },
     "execution_count": 33,
     "metadata": {},
     "output_type": "execute_result"
    },
    {
     "data": {
      "image/png": "[encoded data removed]",
      "text/plain": [
       "<Figure size 640x480 with 2 Axes>"
      ]
     },
     "metadata": {},
     "output_type": "display_data"
    }
   ],
   "source": [
    "accuracy = accuracy_score(y_test, predictions)\n",
    "print(f'Test: {accuracy=:.4f}')\n",
    "\n",
    "cm = confusion_matrix(y_test, predictions)\n",
    "\n",
    "TN = cm[0][0]\n",
    "FN = cm[1][0]\n",
    "TP = cm[1][1]\n",
    "FP = cm[0][1]\n",
    "print(f\"Test: {TP=}, {TN=}, {FP=}, {FN=}\")\n",
    "\n",
    "disp = ConfusionMatrixDisplay(confusion_matrix=cm, )\n",
    "disp.plot()"
   ]
  },
  {
   "cell_type": "markdown",
   "id": "0b8856cf-2370-44aa-9c7b-c878dc2b312f",
   "metadata": {},
   "source": [
    "Also the fairness metric of `equal opportunity difference` will be printed for the fair classifier:"
   ]
  },
  {
   "cell_type": "code",
   "execution_count": 35,
   "id": "a70a783d-6843-432c-8c67-853b61dc7bf4",
   "metadata": {},
   "outputs": [
    {
     "name": "stdout",
     "output_type": "stream",
     "text": [
      "Equal opportunity difference: equal_opportunity_diff_metric=-0.0141\n"
     ]
    }
   ],
   "source": [
    "# Preparation of predictions dateset - transform into BinaryLabelDataset with right predictions based on the fairness threshold\n",
    "dataset_fair_test_pred = dataset_fair_test.copy(deepcopy=True)\n",
    "dataset_fair_test_pred.scores = model_fair_reweighted.predict_proba(X_test)[:,pos_ind].reshape(-1,1)\n",
    "fav_inds = dataset_fair_test_pred.scores > threshold_fairness\n",
    "dataset_fair_test_pred.labels[fav_inds] = dataset_fair_test_pred.favorable_label\n",
    "dataset_fair_test_pred.labels[~fav_inds] = dataset_fair_test_pred.unfavorable_label\n",
    "\n",
    "# Calculate metric\n",
    "equal_opportunity_diff_metric = ClassificationMetric(dataset_fair_test, dataset_fair_test_pred, \n",
    "                                            unprivileged_groups=unprivileged_groups,\n",
    "                                            privileged_groups=privileged_groups).equal_opportunity_difference()\n",
    "print(f'Equal opportunity difference: {equal_opportunity_diff_metric=:.4f}')"
   ]
  },
  {
   "cell_type": "markdown",
   "id": "04628eaf",
   "metadata": {
    "jp-MarkdownHeadingCollapsed": true
   },
   "source": [
    "## Privacy"
   ]
  },
  {
   "cell_type": "code",
   "execution_count": null,
   "id": "92b505f9",
   "metadata": {},
   "outputs": [],
   "source": [
    "# Helper Functions for local differential privacy\n",
    "\n",
    "import random\n",
    "import math\n",
    "\n",
    "# randomized response \n",
    "def rand_resp(x, p=0.75, q=0.75):\n",
    "    toss = random.random()\n",
    "    if x == 0:\n",
    "        y = 0 if toss <= q else 1\n",
    "    else:\n",
    "        y = 1 if toss <= p else 0\n",
    "    return y\n",
    "\n",
    "def estimate(column, p=0.75, q=0.75):\n",
    "    n_people = len(column)\n",
    "    n_reported = np.sum(column.astype(int))\n",
    "    return (n_reported/n_people + q - 1)/(p+q-1)*n_people\n",
    "\n",
    "# apply attribute to a attribute\n",
    "def privatize_attribute(column, true_label, false_label, p, q):\n",
    "    # Convert labels to binary values\n",
    "    binary_values = column.apply(lambda x: 1 if x == true_label else 0).values\n",
    "    \n",
    "    # Apply randomized response\n",
    "    privatized_values = pd.Series([rand_resp(x, p, q) for x in binary_values])\n",
    "\n",
    "    # Convert back to original labels\n",
    "    return privatized_values.apply(lambda x: true_label if x == 1 else false_label)\n",
    "\n",
    "def get_epsilon(p=0.75, q=0.75):\n",
    "    return math.log( max(q/(1-p), p/(1-q)) )\n",
    "\n",
    "def get_p_q(epsilon):\n",
    "    p = math.exp(epsilon)/(1+math.exp(epsilon))\n",
    "    return p, p"
   ]
  },
  {
   "cell_type": "code",
   "execution_count": null,
   "id": "e69dc2cb",
   "metadata": {},
   "outputs": [],
   "source": [
    "# Create a copy of the original data\n",
    "df_private = df.copy(deep=True)\n",
    "\n",
    "# Set values of p and q\n",
    "p_age, q_age = 0.9, 0.9\n",
    "p_sex, q_sex = 0.9, 0.9  \n",
    "\n",
    "epsilon_age = get_epsilon(p_age, q_age)\n",
    "epsilon_sex = get_epsilon(p_sex, q_sex)\n",
    "print(f\"We will apply {epsilon_age:.3f}-LDP setting p={p_age}, q={q_age} for age \\\n",
    "AND {epsilon_sex:.3f}-LDP setting p={p_sex}, q={q_sex} for sex.\")\n",
    "\n",
    "# Apply randomized response to Age and Sex\n",
    "df_private['Age'] = privatize_attribute(df_private['Age'], 'Aged', 'Young', p_age, q_age)\n",
    "df_private['Sex'] = privatize_attribute(df_private['Sex'], 'Male', 'Female', p_sex, q_sex)\n",
    "\n",
    "# Display the new DataFrame\n",
    "df_private.head()"
   ]
  },
  {
   "cell_type": "code",
   "execution_count": null,
   "id": "2fdf0b94",
   "metadata": {},
   "outputs": [],
   "source": [
    "# Showing cross tabulation\n",
    "print(\"\\nOriginal Cross-tabulation:\")\n",
    "print(pd.crosstab(df['Age'], df['Sex']))\n",
    "\n",
    "print(\"\\nPrivatized Cross-tabulation:\")\n",
    "print(pd.crosstab(df_private['Age'], df_private['Sex']))"
   ]
  },
  {
   "cell_type": "code",
   "execution_count": null,
   "id": "67dc3e28",
   "metadata": {},
   "outputs": [],
   "source": [
    "# Quantify the Error    "
   ]
  },
  {
   "cell_type": "code",
   "execution_count": null,
   "id": "f980363f",
   "metadata": {},
   "outputs": [],
   "source": [
    "# Implement Private Classifier\n",
    "\n",
    "tabular_data_private = Tabular(\n",
    "   df_private,\n",
    "   categorical_columns=[\n",
    "  \"Age\", \"Workclass\", \"Education\", \"Occupation\", \"Relationship\", \"Race\", \"Sex\", \"Hours per week\", \"Country\"\n",
    "],\n",
    "   target_column='label'\n",
    ")\n",
    "transformer_private = TabularTransform().fit(tabular_data_private)\n",
    "class_names = transformer_private.class_names\n",
    "x_private = transformer_private.transform(tabular_data_private)\n",
    "\n",
    "# Split data into training and (validation + test) datasets\n",
    "train_private, X_private_temp, train_labels_private, y_private_temp  = \\\n",
    "    train_test_split(x_private[:, :-1], x_private[:, -1], train_size=0.70, random_state = 123)\n",
    "\n",
    "# Split data validation and test sets\n",
    "val_private, test_private, val_labels_private, test_labels_private = train_test_split(X_private_temp, y_private_temp, test_size=0.5, random_state=123)\n",
    "\n",
    "test_labels_private = test_labels_private.astype(int)\n",
    "\n",
    "print('Private Classfier')\n",
    "print('Training data shape:   {}'.format(train_private.shape))\n",
    "print('Validation data shape:  {}'.format(val_private.shape))\n",
    "print('Test data shape:        {}'.format(test_private.shape))\n",
    "\n",
    "# Train a Random Forest model\n",
    "model_private = RandomForestClassifier(random_state=123)\n",
    "model_private.fit(train_private, train_labels_private)\n",
    "\n",
    "predict_function_private=lambda z: model_private.predict_proba(transformer_private.transform(z))\n",
    "\n",
    "# # Convert the transformed data back to Tabular instances\n",
    "train_data_private = transformer_private.invert(train_private)\n",
    "test_data_private = transformer_private.invert(test_private)\n",
    "\n",
    "display(tabular_data_private.target_column)\n",
    "display(train_labels_private[:2])"
   ]
  },
  {
   "cell_type": "code",
   "execution_count": null,
   "id": "75289973",
   "metadata": {},
   "outputs": [],
   "source": [
    "# Model Predictions\n",
    "test_df_private = test_data_private.to_pd()\n",
    "test_df_private[\"label\"] = test_labels_private\n",
    "predictions_private = model_private.predict(test_private)\n",
    "test_df_private[\"prediction\"] = predictions_private\n",
    "\n",
    "test_df_private.sample(5)"
   ]
  },
  {
   "cell_type": "code",
   "execution_count": null,
   "id": "3a49b39d",
   "metadata": {},
   "outputs": [],
   "source": [
    "accuracy_private = accuracy_score(test_labels_private, predictions_private)\n",
    "print(f'Test: {accuracy_private=:.4f}')\n",
    "\n",
    "cm_private = confusion_matrix(test_labels_private, predictions_private)\n",
    "\n",
    "TN = cm_private[0][0]\n",
    "FN = cm_private[1][0]\n",
    "TP = cm_private[1][1]\n",
    "FP = cm_private[0][1]\n",
    "print(f\"Test: {TP=}, {TN=}, {FP=}, {FN=}\")\n",
    "\n",
    "disp = ConfusionMatrixDisplay(confusion_matrix=cm_private, )\n",
    "disp.plot()"
   ]
  }
 ],
 "metadata": {
  "kernelspec": {
   "display_name": "BW_myenv",
   "language": "python",
   "name": "omnixai"
  },
  "language_info": {
   "codemirror_mode": {
    "name": "ipython",
    "version": 3
   },
   "file_extension": ".py",
   "mimetype": "text/x-python",
   "name": "python",
   "nbconvert_exporter": "python",
   "pygments_lexer": "ipython3",
   "version": "3.11.10"
  }
 },
 "nbformat": 4,
 "nbformat_minor": 5
}
