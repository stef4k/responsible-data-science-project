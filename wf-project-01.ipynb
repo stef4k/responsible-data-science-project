{
 "cells": [
  {
   "cell_type": "code",
   "execution_count": 473,
   "id": "81c8f238-7f91-4150-a7d7-72e8cf37bc33",
   "metadata": {},
   "outputs": [],
   "source": [
    "import pandas as pd\n",
    "import numpy as np\n",
    "import matplotlib.pyplot as plt\n",
    "import seaborn as sns"
   ]
  },
  {
   "cell_type": "markdown",
   "id": "4f1715ab-c7ed-48e1-8a07-9c477a66f226",
   "metadata": {},
   "source": [
    "## Load Data and Preprocessing"
   ]
  },
  {
   "cell_type": "code",
   "execution_count": 474,
   "id": "0c09b850-68f8-4bb2-991b-dbc6beb4e313",
   "metadata": {},
   "outputs": [
    {
     "data": {
      "text/html": [
       "<div>\n",
       "<style scoped>\n",
       "    .dataframe tbody tr th:only-of-type {\n",
       "        vertical-align: middle;\n",
       "    }\n",
       "\n",
       "    .dataframe tbody tr th {\n",
       "        vertical-align: top;\n",
       "    }\n",
       "\n",
       "    .dataframe thead th {\n",
       "        text-align: right;\n",
       "    }\n",
       "</style>\n",
       "<table border=\"1\" class=\"dataframe\">\n",
       "  <thead>\n",
       "    <tr style=\"text-align: right;\">\n",
       "      <th></th>\n",
       "      <th>Age</th>\n",
       "      <th>Workclass</th>\n",
       "      <th>Education</th>\n",
       "      <th>Occupation</th>\n",
       "      <th>Relationship</th>\n",
       "      <th>Race</th>\n",
       "      <th>Sex</th>\n",
       "      <th>Capital Gain</th>\n",
       "      <th>Capital Loss</th>\n",
       "      <th>Hours per week</th>\n",
       "      <th>Country</th>\n",
       "      <th>label</th>\n",
       "    </tr>\n",
       "  </thead>\n",
       "  <tbody>\n",
       "    <tr>\n",
       "      <th>2880</th>\n",
       "      <td>Young</td>\n",
       "      <td>Private</td>\n",
       "      <td>HS-grad</td>\n",
       "      <td>Handlers-cleaners</td>\n",
       "      <td>Other-relative</td>\n",
       "      <td>White</td>\n",
       "      <td>Male</td>\n",
       "      <td>0</td>\n",
       "      <td>0</td>\n",
       "      <td>FullTime</td>\n",
       "      <td>United-States</td>\n",
       "      <td>0</td>\n",
       "    </tr>\n",
       "    <tr>\n",
       "      <th>27864</th>\n",
       "      <td>Young</td>\n",
       "      <td>Private</td>\n",
       "      <td>11th</td>\n",
       "      <td>Other-service</td>\n",
       "      <td>Married</td>\n",
       "      <td>White</td>\n",
       "      <td>Female</td>\n",
       "      <td>0</td>\n",
       "      <td>0</td>\n",
       "      <td>BrainDrain</td>\n",
       "      <td>United-States</td>\n",
       "      <td>0</td>\n",
       "    </tr>\n",
       "    <tr>\n",
       "      <th>1461</th>\n",
       "      <td>Aged</td>\n",
       "      <td>Private</td>\n",
       "      <td>10th</td>\n",
       "      <td>Machine-op-inspct</td>\n",
       "      <td>Not-in-family</td>\n",
       "      <td>Black</td>\n",
       "      <td>Male</td>\n",
       "      <td>0</td>\n",
       "      <td>0</td>\n",
       "      <td>FullTime</td>\n",
       "      <td>United-States</td>\n",
       "      <td>0</td>\n",
       "    </tr>\n",
       "    <tr>\n",
       "      <th>8553</th>\n",
       "      <td>Young</td>\n",
       "      <td>Private</td>\n",
       "      <td>Assoc-voc</td>\n",
       "      <td>Other-service</td>\n",
       "      <td>Own-child</td>\n",
       "      <td>White</td>\n",
       "      <td>Female</td>\n",
       "      <td>0</td>\n",
       "      <td>0</td>\n",
       "      <td>PartTime</td>\n",
       "      <td>United-States</td>\n",
       "      <td>0</td>\n",
       "    </tr>\n",
       "    <tr>\n",
       "      <th>8454</th>\n",
       "      <td>Young</td>\n",
       "      <td>Private</td>\n",
       "      <td>Bachelors</td>\n",
       "      <td>Exec-managerial</td>\n",
       "      <td>Married</td>\n",
       "      <td>White</td>\n",
       "      <td>Female</td>\n",
       "      <td>0</td>\n",
       "      <td>0</td>\n",
       "      <td>FullTime</td>\n",
       "      <td>United-States</td>\n",
       "      <td>1</td>\n",
       "    </tr>\n",
       "  </tbody>\n",
       "</table>\n",
       "</div>"
      ],
      "text/plain": [
       "         Age Workclass  Education         Occupation    Relationship   Race  \\\n",
       "2880   Young   Private    HS-grad  Handlers-cleaners  Other-relative  White   \n",
       "27864  Young   Private       11th      Other-service         Married  White   \n",
       "1461    Aged   Private       10th  Machine-op-inspct   Not-in-family  Black   \n",
       "8553   Young   Private  Assoc-voc      Other-service       Own-child  White   \n",
       "8454   Young   Private  Bachelors    Exec-managerial         Married  White   \n",
       "\n",
       "          Sex  Capital Gain  Capital Loss Hours per week        Country label  \n",
       "2880     Male             0             0       FullTime  United-States     0  \n",
       "27864  Female             0             0     BrainDrain  United-States     0  \n",
       "1461     Male             0             0       FullTime  United-States     0  \n",
       "8553   Female             0             0       PartTime  United-States     0  \n",
       "8454   Female             0             0       FullTime  United-States     1  "
      ]
     },
     "execution_count": 474,
     "metadata": {},
     "output_type": "execute_result"
    }
   ],
   "source": [
    "# Keep only needed columns\n",
    "feature_names = [\n",
    "    \"Age\", \"Workclass\", \"Education\", \n",
    "    \"Occupation\", \"Relationship\", \"Race\", \n",
    "    \"Sex\", \"Capital Gain\", \"Capital Loss\", \n",
    "    \"Hours per week\", \"Country\", \"label\"\n",
    "]\n",
    "\n",
    "df = pd.DataFrame(\n",
    "  np.genfromtxt('dataset/adult.csv', delimiter=', ', dtype=str, usecols=(0,1,3,6,7,8,9,10,11,12,13,14)),    \n",
    "  columns=feature_names\n",
    ")\n",
    "\n",
    "# Drop missing values denoted as ?\n",
    "cols = list(df.columns)\n",
    "df[cols] = df[cols].replace(['?'], np.nan)\n",
    "df = df.dropna()\n",
    "\n",
    "\n",
    "# Declare categorical columns\n",
    "categorical_columns=[\n",
    "   \"Workclass\", \"Education\", \"Occupation\", \"Relationship\", \"Race\", \"Sex\", \"Country\", \"label\"\n",
    "]\n",
    "\n",
    "# Assign type to features\n",
    "for feature in feature_names:\n",
    "    if feature in categorical_columns:\n",
    "        df[feature] = df[feature].astype(\"category\")\n",
    "    else:\n",
    "        df[feature] = df[feature].astype(\"int\")\n",
    "\n",
    "# Make bins for age and hours per week\n",
    "df['Age'] = pd.cut(df['Age'], bins=[16, 35 , 90],labels=['Young','Aged'])\n",
    "df[\"Hours per week\"] = pd.cut(\n",
    "            x=df[\"Hours per week\"],\n",
    "            bins=[0.9, 25, 39, 40, 55, 100],\n",
    "            labels=[\"PartTime\", \"MidTime\", \"FullTime\", \"OverTime\", \"BrainDrain\"])\n",
    "\n",
    "# Replace \"Husband\" and \"Wife\" values with the unisex \"Married\"\n",
    "df[\"Relationship\"] = df[\"Relationship\"].replace('Husband','Married')\n",
    "df[\"Relationship\"] = df[\"Relationship\"].replace('Wife','Married')\n",
    "\n",
    "# Will have income >50k (1 or 0)\n",
    "df[\"label\"] = df[\"label\"].replace('>50K',1)\n",
    "df[\"label\"] = df[\"label\"].replace('<=50K',0)\n",
    "\n",
    "df.sample(5)"
   ]
  },
  {
   "cell_type": "code",
   "execution_count": 475,
   "id": "b82abdd0-926e-4946-b25b-5385d141f842",
   "metadata": {},
   "outputs": [
    {
     "name": "stdout",
     "output_type": "stream",
     "text": [
      "<class 'pandas.core.frame.DataFrame'>\n",
      "Index: 30162 entries, 0 to 32560\n",
      "Data columns (total 12 columns):\n",
      " #   Column          Non-Null Count  Dtype   \n",
      "---  ------          --------------  -----   \n",
      " 0   Age             30162 non-null  category\n",
      " 1   Workclass       30162 non-null  category\n",
      " 2   Education       30162 non-null  category\n",
      " 3   Occupation      30162 non-null  category\n",
      " 4   Relationship    30162 non-null  category\n",
      " 5   Race            30162 non-null  category\n",
      " 6   Sex             30162 non-null  category\n",
      " 7   Capital Gain    30162 non-null  int64   \n",
      " 8   Capital Loss    30162 non-null  int64   \n",
      " 9   Hours per week  30162 non-null  category\n",
      " 10  Country         30162 non-null  category\n",
      " 11  label           30162 non-null  category\n",
      "dtypes: category(10), int64(2)\n",
      "memory usage: 1005.5 KB\n"
     ]
    }
   ],
   "source": [
    "df.info()"
   ]
  },
  {
   "cell_type": "markdown",
   "id": "e112092b-8a61-4565-a13e-2e7def2a39f2",
   "metadata": {},
   "source": [
    "## Model Creation"
   ]
  },
  {
   "cell_type": "code",
   "execution_count": 476,
   "id": "e6fd9277-5fbe-409e-972d-14042d76eba3",
   "metadata": {},
   "outputs": [
    {
     "name": "stdout",
     "output_type": "stream",
     "text": [
      "Training data shape:   (21113, 99)\n",
      "Validation data shape:  (4524, 99)\n",
      "Test data shape:        (4525, 99)\n"
     ]
    },
    {
     "data": {
      "text/plain": [
       "'label'"
      ]
     },
     "metadata": {},
     "output_type": "display_data"
    },
    {
     "data": {
      "text/plain": [
       "array([1., 0.])"
      ]
     },
     "metadata": {},
     "output_type": "display_data"
    }
   ],
   "source": [
    "# Data preprocessing to train model\n",
    "from omnixai.data.tabular import Tabular\n",
    "from omnixai.preprocessing.tabular import TabularTransform\n",
    "from sklearn.model_selection import train_test_split\n",
    "from sklearn.ensemble import RandomForestClassifier\n",
    "\n",
    "tabular_data = Tabular(\n",
    "   df,\n",
    "   categorical_columns=[\n",
    "  \"Age\", \"Workclass\", \"Education\", \"Occupation\", \"Relationship\", \"Race\", \"Sex\", \"Hours per week\", \"Country\"\n",
    "],\n",
    "   target_column='label'\n",
    ")\n",
    "transformer = TabularTransform().fit(tabular_data)\n",
    "class_names = transformer.class_names\n",
    "x = transformer.transform(tabular_data)\n",
    "\n",
    "# Split data into training and (validation + test) datasets\n",
    "train, X_temp, train_labels, y_temp  = \\\n",
    "    train_test_split(x[:, :-1], x[:, -1], train_size=0.70, random_state = 123)\n",
    "\n",
    "# Split data validation and test sets\n",
    "val, test, val_labels, test_labels = train_test_split(X_temp, y_temp, test_size=0.5, random_state=123)\n",
    "\n",
    "test_labels = test_labels.astype(int)\n",
    "\n",
    "print('Training data shape:   {}'.format(train.shape))\n",
    "print('Validation data shape:  {}'.format(val.shape))\n",
    "print('Test data shape:        {}'.format(test.shape))\n",
    "\n",
    "# Train a Random Forest model\n",
    "model = RandomForestClassifier(random_state=123)\n",
    "model.fit(train, train_labels)\n",
    "\n",
    "predict_function=lambda z: model.predict_proba(transformer.transform(z))\n",
    "\n",
    "# Convert the transformed data back to Tabular instances\n",
    "train_data = transformer.invert(train)\n",
    "test_data = transformer.invert(test)\n",
    "\n",
    "display(tabular_data.target_column)\n",
    "display(train_labels[:2])"
   ]
  },
  {
   "cell_type": "code",
   "execution_count": 477,
   "id": "f2976258-ac1a-4bac-b9b7-dfad5f7ede64",
   "metadata": {},
   "outputs": [
    {
     "data": {
      "text/html": [
       "<div>\n",
       "<style scoped>\n",
       "    .dataframe tbody tr th:only-of-type {\n",
       "        vertical-align: middle;\n",
       "    }\n",
       "\n",
       "    .dataframe tbody tr th {\n",
       "        vertical-align: top;\n",
       "    }\n",
       "\n",
       "    .dataframe thead th {\n",
       "        text-align: right;\n",
       "    }\n",
       "</style>\n",
       "<table border=\"1\" class=\"dataframe\">\n",
       "  <thead>\n",
       "    <tr style=\"text-align: right;\">\n",
       "      <th></th>\n",
       "      <th>Age</th>\n",
       "      <th>Workclass</th>\n",
       "      <th>Education</th>\n",
       "      <th>Occupation</th>\n",
       "      <th>Relationship</th>\n",
       "      <th>Race</th>\n",
       "      <th>Sex</th>\n",
       "      <th>Capital Gain</th>\n",
       "      <th>Capital Loss</th>\n",
       "      <th>Hours per week</th>\n",
       "      <th>Country</th>\n",
       "      <th>label</th>\n",
       "      <th>prediction</th>\n",
       "    </tr>\n",
       "  </thead>\n",
       "  <tbody>\n",
       "    <tr>\n",
       "      <th>2959</th>\n",
       "      <td>Young</td>\n",
       "      <td>Private</td>\n",
       "      <td>Masters</td>\n",
       "      <td>Prof-specialty</td>\n",
       "      <td>Not-in-family</td>\n",
       "      <td>White</td>\n",
       "      <td>Female</td>\n",
       "      <td>0.0</td>\n",
       "      <td>0.0</td>\n",
       "      <td>OverTime</td>\n",
       "      <td>United-States</td>\n",
       "      <td>0</td>\n",
       "      <td>0.0</td>\n",
       "    </tr>\n",
       "    <tr>\n",
       "      <th>3401</th>\n",
       "      <td>Aged</td>\n",
       "      <td>Private</td>\n",
       "      <td>Assoc-acdm</td>\n",
       "      <td>Tech-support</td>\n",
       "      <td>Not-in-family</td>\n",
       "      <td>White</td>\n",
       "      <td>Female</td>\n",
       "      <td>0.0</td>\n",
       "      <td>0.0</td>\n",
       "      <td>FullTime</td>\n",
       "      <td>United-States</td>\n",
       "      <td>0</td>\n",
       "      <td>0.0</td>\n",
       "    </tr>\n",
       "    <tr>\n",
       "      <th>334</th>\n",
       "      <td>Aged</td>\n",
       "      <td>Private</td>\n",
       "      <td>Some-college</td>\n",
       "      <td>Prof-specialty</td>\n",
       "      <td>Married</td>\n",
       "      <td>White</td>\n",
       "      <td>Male</td>\n",
       "      <td>0.0</td>\n",
       "      <td>0.0</td>\n",
       "      <td>FullTime</td>\n",
       "      <td>United-States</td>\n",
       "      <td>0</td>\n",
       "      <td>0.0</td>\n",
       "    </tr>\n",
       "    <tr>\n",
       "      <th>1650</th>\n",
       "      <td>Aged</td>\n",
       "      <td>State-gov</td>\n",
       "      <td>Some-college</td>\n",
       "      <td>Farming-fishing</td>\n",
       "      <td>Married</td>\n",
       "      <td>White</td>\n",
       "      <td>Male</td>\n",
       "      <td>0.0</td>\n",
       "      <td>0.0</td>\n",
       "      <td>OverTime</td>\n",
       "      <td>United-States</td>\n",
       "      <td>0</td>\n",
       "      <td>0.0</td>\n",
       "    </tr>\n",
       "    <tr>\n",
       "      <th>3998</th>\n",
       "      <td>Young</td>\n",
       "      <td>Local-gov</td>\n",
       "      <td>Bachelors</td>\n",
       "      <td>Protective-serv</td>\n",
       "      <td>Married</td>\n",
       "      <td>White</td>\n",
       "      <td>Male</td>\n",
       "      <td>0.0</td>\n",
       "      <td>0.0</td>\n",
       "      <td>BrainDrain</td>\n",
       "      <td>United-States</td>\n",
       "      <td>1</td>\n",
       "      <td>1.0</td>\n",
       "    </tr>\n",
       "  </tbody>\n",
       "</table>\n",
       "</div>"
      ],
      "text/plain": [
       "        Age  Workclass     Education       Occupation   Relationship   Race  \\\n",
       "2959  Young    Private       Masters   Prof-specialty  Not-in-family  White   \n",
       "3401   Aged    Private    Assoc-acdm     Tech-support  Not-in-family  White   \n",
       "334    Aged    Private  Some-college   Prof-specialty        Married  White   \n",
       "1650   Aged  State-gov  Some-college  Farming-fishing        Married  White   \n",
       "3998  Young  Local-gov     Bachelors  Protective-serv        Married  White   \n",
       "\n",
       "         Sex  Capital Gain  Capital Loss Hours per week        Country  label  \\\n",
       "2959  Female           0.0           0.0       OverTime  United-States      0   \n",
       "3401  Female           0.0           0.0       FullTime  United-States      0   \n",
       "334     Male           0.0           0.0       FullTime  United-States      0   \n",
       "1650    Male           0.0           0.0       OverTime  United-States      0   \n",
       "3998    Male           0.0           0.0     BrainDrain  United-States      1   \n",
       "\n",
       "      prediction  \n",
       "2959         0.0  \n",
       "3401         0.0  \n",
       "334          0.0  \n",
       "1650         0.0  \n",
       "3998         1.0  "
      ]
     },
     "execution_count": 477,
     "metadata": {},
     "output_type": "execute_result"
    }
   ],
   "source": [
    "# Model Predictions\n",
    "test_df = test_data.to_pd()\n",
    "test_df[\"label\"] = test_labels\n",
    "predictions = model.predict(test)\n",
    "test_df[\"prediction\"] = predictions\n",
    "\n",
    "test_df.sample(5)"
   ]
  },
  {
   "cell_type": "code",
   "execution_count": 478,
   "id": "04761915-3a1a-4df6-8947-ce527263a62b",
   "metadata": {},
   "outputs": [
    {
     "name": "stdout",
     "output_type": "stream",
     "text": [
      "Test: accuracy=0.8513\n",
      "Test: TP=734, TN=3118, FP=263, FN=410\n"
     ]
    },
    {
     "data": {
      "text/plain": [
       "<sklearn.metrics._plot.confusion_matrix.ConfusionMatrixDisplay at 0x7fc2ed64ebd0>"
      ]
     },
     "execution_count": 478,
     "metadata": {},
     "output_type": "execute_result"
    },
    {
     "data": {
      "image/png": "[encoded data removed]",
      "text/plain": [
       "<Figure size 640x480 with 2 Axes>"
      ]
     },
     "metadata": {},
     "output_type": "display_data"
    }
   ],
   "source": [
    "from sklearn.metrics import accuracy_score, confusion_matrix, ConfusionMatrixDisplay\n",
    "\n",
    "accuracy = accuracy_score(test_labels, predictions)\n",
    "print(f'Test: {accuracy=:.4f}')\n",
    "\n",
    "cm = confusion_matrix(test_labels, predictions)\n",
    "\n",
    "TN = cm[0][0]\n",
    "FN = cm[1][0]\n",
    "TP = cm[1][1]\n",
    "FP = cm[0][1]\n",
    "print(f\"Test: {TP=}, {TN=}, {FP=}, {FN=}\")\n",
    "\n",
    "disp = ConfusionMatrixDisplay(confusion_matrix=cm, )\n",
    "disp.plot()"
   ]
  },
  {
   "cell_type": "markdown",
   "id": "46760902",
   "metadata": {},
   "source": [
    "## Fairness\n",
    "Now the fairness will be analyzed\n",
    "\n",
    "First we import the necessary libraries"
   ]
  },
  {
   "cell_type": "code",
   "execution_count": 479,
   "id": "e72a1992-ab24-4e1b-a52e-b1bf19be7a06",
   "metadata": {},
   "outputs": [],
   "source": [
    "import warnings\n",
    "# Suppress warnings\n",
    "warnings.filterwarnings(\"ignore\")\n",
    "\n",
    "from aif360.datasets import BinaryLabelDataset\n",
    "from aif360.algorithms.preprocessing import Reweighing\n",
    "import random\n",
    "from aif360.metrics import ClassificationMetric"
   ]
  },
  {
   "cell_type": "markdown",
   "id": "3f9380a5-042f-4188-85f8-bc485232370b",
   "metadata": {},
   "source": [
    "Since for the fairness analysis, we can not use the Tabular data, we create a new dataframe with the transformed values of TabularTransform. This is because we need to have access to a dataframe structure containing the binarized values (for age, sex and all categorical attributes) and not the categorical values (e.g. Young/Aged, Female/Male etc.)"
   ]
  },
  {
   "cell_type": "code",
   "execution_count": 480,
   "id": "4e414966-fefd-47c8-84ed-0dafc180a348",
   "metadata": {},
   "outputs": [
    {
     "data": {
      "text/html": [
       "<div>\n",
       "<style scoped>\n",
       "    .dataframe tbody tr th:only-of-type {\n",
       "        vertical-align: middle;\n",
       "    }\n",
       "\n",
       "    .dataframe tbody tr th {\n",
       "        vertical-align: top;\n",
       "    }\n",
       "\n",
       "    .dataframe thead th {\n",
       "        text-align: right;\n",
       "    }\n",
       "</style>\n",
       "<table border=\"1\" class=\"dataframe\">\n",
       "  <thead>\n",
       "    <tr style=\"text-align: right;\">\n",
       "      <th></th>\n",
       "      <th>Age_Aged</th>\n",
       "      <th>Age_Young</th>\n",
       "      <th>Workclass_Federal-gov</th>\n",
       "      <th>Workclass_Local-gov</th>\n",
       "      <th>Workclass_Private</th>\n",
       "      <th>Workclass_Self-emp-inc</th>\n",
       "      <th>Workclass_Self-emp-not-inc</th>\n",
       "      <th>Workclass_State-gov</th>\n",
       "      <th>Workclass_Without-pay</th>\n",
       "      <th>Education_10th</th>\n",
       "      <th>...</th>\n",
       "      <th>Country_South</th>\n",
       "      <th>Country_Taiwan</th>\n",
       "      <th>Country_Thailand</th>\n",
       "      <th>Country_Trinadad&amp;Tobago</th>\n",
       "      <th>Country_United-States</th>\n",
       "      <th>Country_Vietnam</th>\n",
       "      <th>Country_Yugoslavia</th>\n",
       "      <th>Capital Gain</th>\n",
       "      <th>Capital Loss</th>\n",
       "      <th>label</th>\n",
       "    </tr>\n",
       "  </thead>\n",
       "  <tbody>\n",
       "    <tr>\n",
       "      <th>0</th>\n",
       "      <td>1.0</td>\n",
       "      <td>0.0</td>\n",
       "      <td>0.0</td>\n",
       "      <td>0.0</td>\n",
       "      <td>0.0</td>\n",
       "      <td>0.0</td>\n",
       "      <td>0.0</td>\n",
       "      <td>1.0</td>\n",
       "      <td>0.0</td>\n",
       "      <td>0.0</td>\n",
       "      <td>...</td>\n",
       "      <td>0.0</td>\n",
       "      <td>0.0</td>\n",
       "      <td>0.0</td>\n",
       "      <td>0.0</td>\n",
       "      <td>1.0</td>\n",
       "      <td>0.0</td>\n",
       "      <td>0.0</td>\n",
       "      <td>2174.0</td>\n",
       "      <td>0.0</td>\n",
       "      <td>0.0</td>\n",
       "    </tr>\n",
       "    <tr>\n",
       "      <th>1</th>\n",
       "      <td>1.0</td>\n",
       "      <td>0.0</td>\n",
       "      <td>0.0</td>\n",
       "      <td>0.0</td>\n",
       "      <td>0.0</td>\n",
       "      <td>0.0</td>\n",
       "      <td>1.0</td>\n",
       "      <td>0.0</td>\n",
       "      <td>0.0</td>\n",
       "      <td>0.0</td>\n",
       "      <td>...</td>\n",
       "      <td>0.0</td>\n",
       "      <td>0.0</td>\n",
       "      <td>0.0</td>\n",
       "      <td>0.0</td>\n",
       "      <td>1.0</td>\n",
       "      <td>0.0</td>\n",
       "      <td>0.0</td>\n",
       "      <td>0.0</td>\n",
       "      <td>0.0</td>\n",
       "      <td>0.0</td>\n",
       "    </tr>\n",
       "    <tr>\n",
       "      <th>2</th>\n",
       "      <td>1.0</td>\n",
       "      <td>0.0</td>\n",
       "      <td>0.0</td>\n",
       "      <td>0.0</td>\n",
       "      <td>1.0</td>\n",
       "      <td>0.0</td>\n",
       "      <td>0.0</td>\n",
       "      <td>0.0</td>\n",
       "      <td>0.0</td>\n",
       "      <td>0.0</td>\n",
       "      <td>...</td>\n",
       "      <td>0.0</td>\n",
       "      <td>0.0</td>\n",
       "      <td>0.0</td>\n",
       "      <td>0.0</td>\n",
       "      <td>1.0</td>\n",
       "      <td>0.0</td>\n",
       "      <td>0.0</td>\n",
       "      <td>0.0</td>\n",
       "      <td>0.0</td>\n",
       "      <td>0.0</td>\n",
       "    </tr>\n",
       "  </tbody>\n",
       "</table>\n",
       "<p>3 rows × 100 columns</p>\n",
       "</div>"
      ],
      "text/plain": [
       "   Age_Aged  Age_Young  Workclass_Federal-gov  Workclass_Local-gov  \\\n",
       "0       1.0        0.0                    0.0                  0.0   \n",
       "1       1.0        0.0                    0.0                  0.0   \n",
       "2       1.0        0.0                    0.0                  0.0   \n",
       "\n",
       "   Workclass_Private  Workclass_Self-emp-inc  Workclass_Self-emp-not-inc  \\\n",
       "0                0.0                     0.0                         0.0   \n",
       "1                0.0                     0.0                         1.0   \n",
       "2                1.0                     0.0                         0.0   \n",
       "\n",
       "   Workclass_State-gov  Workclass_Without-pay  Education_10th  ...  \\\n",
       "0                  1.0                    0.0             0.0  ...   \n",
       "1                  0.0                    0.0             0.0  ...   \n",
       "2                  0.0                    0.0             0.0  ...   \n",
       "\n",
       "   Country_South  Country_Taiwan  Country_Thailand  Country_Trinadad&Tobago  \\\n",
       "0            0.0             0.0               0.0                      0.0   \n",
       "1            0.0             0.0               0.0                      0.0   \n",
       "2            0.0             0.0               0.0                      0.0   \n",
       "\n",
       "   Country_United-States  Country_Vietnam  Country_Yugoslavia  Capital Gain  \\\n",
       "0                    1.0              0.0                 0.0        2174.0   \n",
       "1                    1.0              0.0                 0.0           0.0   \n",
       "2                    1.0              0.0                 0.0           0.0   \n",
       "\n",
       "   Capital Loss  label  \n",
       "0           0.0    0.0  \n",
       "1           0.0    0.0  \n",
       "2           0.0    0.0  \n",
       "\n",
       "[3 rows x 100 columns]"
      ]
     },
     "execution_count": 480,
     "metadata": {},
     "output_type": "execute_result"
    }
   ],
   "source": [
    "column_names = transformer.get_feature_names()\n",
    "# Last column is the label which is not included in the get_feature_names\n",
    "column_names.append('label')\n",
    "\n",
    "fairness_dataset = pd.DataFrame(x, columns=column_names)\n",
    "fairness_dataset.head(3)"
   ]
  },
  {
   "cell_type": "markdown",
   "id": "67441c00-008d-4a34-9076-febbfee68d45",
   "metadata": {},
   "source": [
    "As seen below there are four columns for the protected attributes of sex and age. Two boolean columns for each:"
   ]
  },
  {
   "cell_type": "code",
   "execution_count": 481,
   "id": "97f4bcd7-c809-4f64-8719-d5930e832940",
   "metadata": {},
   "outputs": [
    {
     "data": {
      "text/html": [
       "<div>\n",
       "<style scoped>\n",
       "    .dataframe tbody tr th:only-of-type {\n",
       "        vertical-align: middle;\n",
       "    }\n",
       "\n",
       "    .dataframe tbody tr th {\n",
       "        vertical-align: top;\n",
       "    }\n",
       "\n",
       "    .dataframe thead th {\n",
       "        text-align: right;\n",
       "    }\n",
       "</style>\n",
       "<table border=\"1\" class=\"dataframe\">\n",
       "  <thead>\n",
       "    <tr style=\"text-align: right;\">\n",
       "      <th></th>\n",
       "      <th>Age_Aged</th>\n",
       "      <th>Age_Young</th>\n",
       "      <th>Sex_Male</th>\n",
       "      <th>Sex_Female</th>\n",
       "    </tr>\n",
       "  </thead>\n",
       "  <tbody>\n",
       "    <tr>\n",
       "      <th>0</th>\n",
       "      <td>1.0</td>\n",
       "      <td>0.0</td>\n",
       "      <td>1.0</td>\n",
       "      <td>0.0</td>\n",
       "    </tr>\n",
       "    <tr>\n",
       "      <th>1</th>\n",
       "      <td>1.0</td>\n",
       "      <td>0.0</td>\n",
       "      <td>1.0</td>\n",
       "      <td>0.0</td>\n",
       "    </tr>\n",
       "    <tr>\n",
       "      <th>2</th>\n",
       "      <td>1.0</td>\n",
       "      <td>0.0</td>\n",
       "      <td>1.0</td>\n",
       "      <td>0.0</td>\n",
       "    </tr>\n",
       "  </tbody>\n",
       "</table>\n",
       "</div>"
      ],
      "text/plain": [
       "   Age_Aged  Age_Young  Sex_Male  Sex_Female\n",
       "0       1.0        0.0       1.0         0.0\n",
       "1       1.0        0.0       1.0         0.0\n",
       "2       1.0        0.0       1.0         0.0"
      ]
     },
     "execution_count": 481,
     "metadata": {},
     "output_type": "execute_result"
    }
   ],
   "source": [
    "fairness_dataset[['Age_Aged', 'Age_Young', 'Sex_Male', 'Sex_Female']].head(3)"
   ]
  },
  {
   "cell_type": "markdown",
   "id": "61cd035d-69e3-48d3-8e6e-5497bf6695b0",
   "metadata": {},
   "source": [
    "We decide only to keep `Age_Aged` and `Sex_Male`, and renaming those to columns to `Age` and `Sex` meaning that:\n",
    "- when `Sex` is 0, the person is female and when when `Sex` is 1, the person is male\n",
    "- when `Age` is 0, the person is young and  when `Age` is 0, the person is aged\n"
   ]
  },
  {
   "cell_type": "code",
   "execution_count": 482,
   "id": "2263308a-4403-4d99-87aa-9339cc1bb5b8",
   "metadata": {},
   "outputs": [],
   "source": [
    "fairness_dataset = fairness_dataset.drop(columns=['Age_Young', 'Sex_Female'])\n",
    "fairness_dataset.rename(columns={'Age_Aged': 'Age', 'Sex_Male': 'Sex'}, inplace=True)"
   ]
  },
  {
   "cell_type": "markdown",
   "id": "88f149d9-c863-4efa-8a4f-67a62ab460ef",
   "metadata": {},
   "source": [
    "Next we want to ensure that we train the classifier on the exact same data as the previous normal classifier, keeping the train, validation and test split:"
   ]
  },
  {
   "cell_type": "code",
   "execution_count": 483,
   "id": "b5ee85cf-da53-48df-adee-04f476f739ea",
   "metadata": {},
   "outputs": [],
   "source": [
    "# Split data into training and (validation + test) datasets\n",
    "train, X_temp, _, y_temp  = \\\n",
    "    train_test_split(fairness_dataset, fairness_dataset.label, train_size=0.70, random_state = 123)\n",
    "\n",
    "# Split data validation and test sets\n",
    "val, test, _, _ = train_test_split(X_temp, y_temp, test_size=0.5, random_state=123)"
   ]
  },
  {
   "cell_type": "markdown",
   "id": "81ef0d7f-e38f-427b-8ebd-34d99f8653af",
   "metadata": {},
   "source": [
    "Now we can transform the previous data structures into BinaryLabelDatasets:"
   ]
  },
  {
   "cell_type": "code",
   "execution_count": 484,
   "id": "738e8fad-eab3-4451-8278-f056bc2b68ad",
   "metadata": {},
   "outputs": [],
   "source": [
    "# Transform to BinaryLabelDataset\n",
    "dataset_fair_train = BinaryLabelDataset(df=train, label_names=['label'], protected_attribute_names=['Age', 'Sex'])\n",
    "dataset_fair_valid = BinaryLabelDataset(df=val, label_names=['label'], protected_attribute_names=['Age', 'Sex'])\n",
    "dataset_fair_test = BinaryLabelDataset(df=test, label_names=['label'], protected_attribute_names=['Age', 'Sex'])"
   ]
  },
  {
   "cell_type": "markdown",
   "id": "57a5ee5a-fe59-43ae-9169-095a99009cb7",
   "metadata": {},
   "source": [
    "Now the group fairness of the classifier will be assessed, assuming the protected attributes are Age, Sex.\n",
    "\n",
    "We assume that:\n",
    "- Young age (corresponding to 0) is one unprivileged group and Aged (corresponding to 1) is one privileged group\n",
    "- Female sex is one unprivileged (corresponding to 0) group and male sex (corresponding to 1) is one privileged group:"
   ]
  },
  {
   "cell_type": "code",
   "execution_count": 485,
   "id": "c1c29bcf-b09b-4a1b-8ca2-f3a840d6a66e",
   "metadata": {},
   "outputs": [],
   "source": [
    "privileged_groups = [{'Age':1,\n",
    "                      'Sex':1}]\n",
    "unprivileged_groups = [{'Age': 0,\n",
    "                       'Sex':0}]"
   ]
  },
  {
   "cell_type": "markdown",
   "id": "782e714e-9d6c-418d-bd8b-819c10c4d85a",
   "metadata": {},
   "source": [
    "Since there is a significant difference in the positive rates and true positive rate thus there is unfairness. Actually, the priviliged groups (aged and male) has 37% more chance to be predicted as >50k income comparing to the unprivileged group (young, female)\n",
    "\n",
    "Now, we will try to mitigate this bias in the training dataset by using the `Reweighing algorithm`. By reweighing we ensure that there is better fairness when we compare the positive rates between privileged and unprivileged groups"
   ]
  },
  {
   "cell_type": "code",
   "execution_count": 486,
   "id": "4a4f7198-4ec2-4a0f-8f7d-d5029ef45a96",
   "metadata": {},
   "outputs": [],
   "source": [
    "RW = Reweighing(unprivileged_groups=unprivileged_groups,\n",
    "                privileged_groups=privileged_groups)\n",
    "dataset_transf_train = RW.fit_transform(dataset_fair_train)"
   ]
  },
  {
   "cell_type": "markdown",
   "id": "62dcf4e9-000c-4bd0-bb7f-3940baac0526",
   "metadata": {},
   "source": [
    "### Fair classifier\n",
    "\n",
    "Since reweighting does not achieve the goal of $0$ statistical parity difference or Equal opportunity difference, we will oversample the underprivileged classes (female young) and undersample the privileged classes (male aged) to teach the classifier to be more fair. After some experimentation, it was decided:\n",
    "- $750$ extra samples of young female with income >50k were randomly oversampled in the training data, and random weights of values between $[1.2,1.6]$ were given for each sample\n",
    "- $1500$ samples of aged male with income >50k were randomly undersampled in the training data (completely removed from the training set)"
   ]
  },
  {
   "cell_type": "code",
   "execution_count": 487,
   "id": "726d4be2-61e1-4082-979d-c32d026ce8b3",
   "metadata": {},
   "outputs": [],
   "source": [
    "# Seed to reproduce results\n",
    "random.seed(1)\n",
    "\n",
    "# Number of over-samples produced for training dataset\n",
    "number_oversamples = 750\n",
    "# Number of under-samples to be removed for training dataset\n",
    "number_undersamples = 1500\n",
    "\n",
    "# Train and target data\n",
    "X_train = dataset_transf_train.features\n",
    "y_train = dataset_transf_train.labels.ravel()\n",
    "\n",
    "# Resampled data structures\n",
    "X_train_resampled = X_train.copy()\n",
    "y_train_resampled = y_train.copy()\n",
    "weights_resampled = dataset_transf_train.instance_weights.copy()\n",
    "\n",
    "# list to keep for indexes of undersamples (to be deleted after)\n",
    "list_indexes_undersamples = []\n",
    "# List to keep the over_samples and counters of oversamples and undersamples\n",
    "oversamples = []\n",
    "counter_oversamples = 0\n",
    "counter_undersamples = 0\n",
    "\n",
    "# Iterate over the whole training dataset\n",
    "for counter in range(len(X_train)):\n",
    "    # Only append rows that contain young female since this is the heavily underprivileged class\n",
    "    if (X_train[counter][0] == 0) and (X_train[counter][1] == 0) and (y_train[counter] == 1)\\\n",
    "        and (counter_oversamples < number_oversamples):\n",
    "        oversamples.append(X_train[counter].copy())\n",
    "        counter_oversamples += 1\n",
    "    # Store index of rows that contain aged male since this is the heavily overprivileged class\n",
    "    if ((X_train[counter][0] == 1) or (X_train[counter][1] == 1)) and (y_train[counter] == 1)\\\n",
    "        and (counter_undersamples < number_undersamples):\n",
    "        list_indexes_undersamples.append(counter)\n",
    "        counter_undersamples += 1\n",
    "    # When number of extra oversamples and undersamples is reached, stop loop\n",
    "    if (counter_oversamples == number_oversamples) and (counter_undersamples == number_undersamples):\n",
    "        break\n",
    "    counter += 1\n",
    "\n",
    "# Remove all indexes of undersamples\n",
    "X_train_resampled = np.delete(X_train_resampled, list_indexes_undersamples, axis=0)\n",
    "y_train_resampled = np.delete(y_train_resampled, list_indexes_undersamples)\n",
    "weights_resampled = np.delete(weights_resampled, list_indexes_undersamples)\n",
    "\n",
    "\n",
    "# Only assign positive labels to favor underprivileged class \n",
    "arr = np.array([1 for i in range(number_oversamples)])\n",
    "\n",
    "# Append extra samples and labels to the training data and \n",
    "y_train_resampled = np.append(y_train_resampled, arr)\n",
    "X_train_resampled = np.vstack([X_train_resampled, oversamples])\n",
    "# Randomize weights of extra samples to take values between 1 and 1.5\n",
    "weights_resampled = np.append(weights_resampled, np.array([random.uniform(1.2, 1.6) for i in range(number_oversamples)]))"
   ]
  },
  {
   "cell_type": "markdown",
   "id": "621f0b73-2378-4fce-a54d-bafb2c38a49a",
   "metadata": {},
   "source": [
    "Now we can train the classifier:"
   ]
  },
  {
   "cell_type": "code",
   "execution_count": 488,
   "id": "03636381-824f-40c2-bf21-96486fc2838e",
   "metadata": {},
   "outputs": [],
   "source": [
    "model_fair_reweighted = RandomForestClassifier(random_state=123)\n",
    "model_fair_reweighted.fit(X_train_resampled, y_train_resampled, sample_weight=weights_resampled)\n",
    "\n",
    "X_test = dataset_fair_test.features\n",
    "y_test = dataset_fair_test.labels"
   ]
  },
  {
   "cell_type": "markdown",
   "id": "2cb5a56f-13a1-48fc-a1fd-9febf87f9d5f",
   "metadata": {},
   "source": [
    "Next predict the test data <b> based on the threshold </b> found in the fairness analysis:"
   ]
  },
  {
   "cell_type": "code",
   "execution_count": 489,
   "id": "c22a3357-cf61-42e8-83e0-4742eef04306",
   "metadata": {},
   "outputs": [],
   "source": [
    "predictions = []\n",
    "threshold_fairness = 0.4555\n",
    "# positive class index\n",
    "pos_ind = 1\n",
    "\n",
    "for item in model_fair_reweighted.predict_proba(X_test)[:,pos_ind].reshape(-1,1):\n",
    "    if item >=  threshold_fairness:\n",
    "        predictions.append(1)\n",
    "    else:\n",
    "        predictions.append(0)"
   ]
  },
  {
   "cell_type": "markdown",
   "id": "c918ff8d-7e7f-434d-bdc6-5108fe334976",
   "metadata": {},
   "source": [
    "Last let's print the metrics for this classifier:"
   ]
  },
  {
   "cell_type": "code",
   "execution_count": 490,
   "id": "23a0060e-40e1-40cf-a064-3bf59639ca8d",
   "metadata": {
    "scrolled": true
   },
   "outputs": [
    {
     "name": "stdout",
     "output_type": "stream",
     "text": [
      "Test: accuracy_fair=0.8296\n",
      "Test: TP=633, TN=3121, FP=260, FN=511\n"
     ]
    },
    {
     "data": {
      "text/plain": [
       "<sklearn.metrics._plot.confusion_matrix.ConfusionMatrixDisplay at 0x7fc2d1774a10>"
      ]
     },
     "execution_count": 490,
     "metadata": {},
     "output_type": "execute_result"
    },
    {
     "data": {
      "image/png": "[encoded data removed]",
      "text/plain": [
       "<Figure size 640x480 with 2 Axes>"
      ]
     },
     "metadata": {},
     "output_type": "display_data"
    }
   ],
   "source": [
    "accuracy_fair = accuracy_score(y_test, predictions)\n",
    "print(f'Test: {accuracy_fair=:.4f}')\n",
    "\n",
    "cm = confusion_matrix(y_test, predictions)\n",
    "\n",
    "TN = cm[0][0]\n",
    "FN = cm[1][0]\n",
    "TP = cm[1][1]\n",
    "FP = cm[0][1]\n",
    "print(f\"Test: {TP=}, {TN=}, {FP=}, {FN=}\")\n",
    "\n",
    "disp = ConfusionMatrixDisplay(confusion_matrix=cm, )\n",
    "disp.plot()"
   ]
  },
  {
   "cell_type": "markdown",
   "id": "0b8856cf-2370-44aa-9c7b-c878dc2b312f",
   "metadata": {},
   "source": [
    "Also the fairness metric of `equal opportunity difference` will be printed for the fair classifier:"
   ]
  },
  {
   "cell_type": "code",
   "execution_count": 491,
   "id": "a70a783d-6843-432c-8c67-853b61dc7bf4",
   "metadata": {},
   "outputs": [
    {
     "name": "stdout",
     "output_type": "stream",
     "text": [
      "Equal opportunity difference: equal_opportunity_diff_metric=0.0202\n"
     ]
    }
   ],
   "source": [
    "# Preparation of predictions dateset - transform into BinaryLabelDataset with right predictions based on the fairness threshold\n",
    "dataset_fair_test_pred = dataset_fair_test.copy(deepcopy=True)\n",
    "dataset_fair_test_pred.scores = model_fair_reweighted.predict_proba(X_test)[:,pos_ind].reshape(-1,1)\n",
    "fav_inds = dataset_fair_test_pred.scores > threshold_fairness\n",
    "dataset_fair_test_pred.labels[fav_inds] = dataset_fair_test_pred.favorable_label\n",
    "dataset_fair_test_pred.labels[~fav_inds] = dataset_fair_test_pred.unfavorable_label\n",
    "\n",
    "# Calculate metric\n",
    "equal_opportunity_diff_metric = ClassificationMetric(dataset_fair_test, dataset_fair_test_pred, \n",
    "                                            unprivileged_groups=unprivileged_groups,\n",
    "                                            privileged_groups=privileged_groups).equal_opportunity_difference()\n",
    "print(f'Equal opportunity difference: {equal_opportunity_diff_metric=:.4f}')"
   ]
  },
  {
   "cell_type": "markdown",
   "id": "dcc4139a",
   "metadata": {},
   "source": [
    "## Privacy"
   ]
  },
  {
   "cell_type": "markdown",
   "id": "ad5174f0",
   "metadata": {},
   "source": [
    "To start off, let's define a new dataframe similar to the one above, the set the values of p and q for both sensitive attributes and compute for epsilon. For now, both attributes are assumed to have the same p and q, but they can be redefined to any value as seen fit. We computed the appropriate p and q to get an epsilon = 2.\n",
    "\n",
    "Random response is applied to the relevant attributes afterwards."
   ]
  },
  {
   "cell_type": "code",
   "execution_count": 492,
   "id": "2fdf0b94",
   "metadata": {},
   "outputs": [
    {
     "name": "stdout",
     "output_type": "stream",
     "text": [
      "We will apply 1.000-LDP setting p=0.7310585786300049, q=0.7310585786300049 for both age and sex.\n"
     ]
    },
    {
     "data": {
      "text/html": [
       "<div>\n",
       "<style scoped>\n",
       "    .dataframe tbody tr th:only-of-type {\n",
       "        vertical-align: middle;\n",
       "    }\n",
       "\n",
       "    .dataframe tbody tr th {\n",
       "        vertical-align: top;\n",
       "    }\n",
       "\n",
       "    .dataframe thead th {\n",
       "        text-align: right;\n",
       "    }\n",
       "</style>\n",
       "<table border=\"1\" class=\"dataframe\">\n",
       "  <thead>\n",
       "    <tr style=\"text-align: right;\">\n",
       "      <th></th>\n",
       "      <th>Age</th>\n",
       "      <th>Workclass</th>\n",
       "      <th>Education</th>\n",
       "      <th>Occupation</th>\n",
       "      <th>Relationship</th>\n",
       "      <th>Race</th>\n",
       "      <th>Sex</th>\n",
       "      <th>Capital Gain</th>\n",
       "      <th>Capital Loss</th>\n",
       "      <th>Hours per week</th>\n",
       "      <th>Country</th>\n",
       "      <th>label</th>\n",
       "    </tr>\n",
       "  </thead>\n",
       "  <tbody>\n",
       "    <tr>\n",
       "      <th>0</th>\n",
       "      <td>Aged</td>\n",
       "      <td>State-gov</td>\n",
       "      <td>Bachelors</td>\n",
       "      <td>Adm-clerical</td>\n",
       "      <td>Not-in-family</td>\n",
       "      <td>White</td>\n",
       "      <td>Male</td>\n",
       "      <td>2174</td>\n",
       "      <td>0</td>\n",
       "      <td>FullTime</td>\n",
       "      <td>United-States</td>\n",
       "      <td>0</td>\n",
       "    </tr>\n",
       "    <tr>\n",
       "      <th>1</th>\n",
       "      <td>Aged</td>\n",
       "      <td>Self-emp-not-inc</td>\n",
       "      <td>Bachelors</td>\n",
       "      <td>Exec-managerial</td>\n",
       "      <td>Married</td>\n",
       "      <td>White</td>\n",
       "      <td>Male</td>\n",
       "      <td>0</td>\n",
       "      <td>0</td>\n",
       "      <td>PartTime</td>\n",
       "      <td>United-States</td>\n",
       "      <td>0</td>\n",
       "    </tr>\n",
       "    <tr>\n",
       "      <th>2</th>\n",
       "      <td>Aged</td>\n",
       "      <td>Private</td>\n",
       "      <td>HS-grad</td>\n",
       "      <td>Handlers-cleaners</td>\n",
       "      <td>Not-in-family</td>\n",
       "      <td>White</td>\n",
       "      <td>Male</td>\n",
       "      <td>0</td>\n",
       "      <td>0</td>\n",
       "      <td>FullTime</td>\n",
       "      <td>United-States</td>\n",
       "      <td>0</td>\n",
       "    </tr>\n",
       "    <tr>\n",
       "      <th>3</th>\n",
       "      <td>Aged</td>\n",
       "      <td>Private</td>\n",
       "      <td>11th</td>\n",
       "      <td>Handlers-cleaners</td>\n",
       "      <td>Married</td>\n",
       "      <td>Black</td>\n",
       "      <td>Male</td>\n",
       "      <td>0</td>\n",
       "      <td>0</td>\n",
       "      <td>FullTime</td>\n",
       "      <td>United-States</td>\n",
       "      <td>0</td>\n",
       "    </tr>\n",
       "    <tr>\n",
       "      <th>4</th>\n",
       "      <td>Aged</td>\n",
       "      <td>Private</td>\n",
       "      <td>Bachelors</td>\n",
       "      <td>Prof-specialty</td>\n",
       "      <td>Married</td>\n",
       "      <td>Black</td>\n",
       "      <td>Female</td>\n",
       "      <td>0</td>\n",
       "      <td>0</td>\n",
       "      <td>FullTime</td>\n",
       "      <td>Cuba</td>\n",
       "      <td>0</td>\n",
       "    </tr>\n",
       "  </tbody>\n",
       "</table>\n",
       "</div>"
      ],
      "text/plain": [
       "    Age         Workclass  Education         Occupation   Relationship   Race  \\\n",
       "0  Aged         State-gov  Bachelors       Adm-clerical  Not-in-family  White   \n",
       "1  Aged  Self-emp-not-inc  Bachelors    Exec-managerial        Married  White   \n",
       "2  Aged           Private    HS-grad  Handlers-cleaners  Not-in-family  White   \n",
       "3  Aged           Private       11th  Handlers-cleaners        Married  Black   \n",
       "4  Aged           Private  Bachelors     Prof-specialty        Married  Black   \n",
       "\n",
       "      Sex  Capital Gain  Capital Loss Hours per week        Country label  \n",
       "0    Male          2174             0       FullTime  United-States     0  \n",
       "1    Male             0             0       PartTime  United-States     0  \n",
       "2    Male             0             0       FullTime  United-States     0  \n",
       "3    Male             0             0       FullTime  United-States     0  \n",
       "4  Female             0             0       FullTime           Cuba     0  "
      ]
     },
     "execution_count": 492,
     "metadata": {},
     "output_type": "execute_result"
    }
   ],
   "source": [
    "import random\n",
    "import math\n",
    "random.seed(123)  # Set the random seed for reproducibility\n",
    "\n",
    "# randomized response \n",
    "def rand_resp(x, p=0.75, q=0.75):\n",
    "    toss = random.random()\n",
    "    if x == 0:\n",
    "        y = 0 if toss <= q else 1\n",
    "    else:\n",
    "        y = 1 if toss <= p else 0\n",
    "    return y\n",
    "\n",
    "def get_epsilon(p=0.75, q=0.75):\n",
    "    return math.log( max(q/(1-p), p/(1-q)) )\n",
    "\n",
    "# apply attribute to a attribute\n",
    "def privatize_attribute(column, true_label, false_label, p, q):\n",
    "    # Convert labels to binary values\n",
    "    binary_values = column.apply(lambda x: 1 if x == true_label else 0).values\n",
    "    \n",
    "    # Apply randomized response\n",
    "    privatized_values = pd.Series([rand_resp(x, p, q) for x in binary_values], index=column.index)\n",
    "\n",
    "    # Convert back to original labels\n",
    "    return privatized_values.apply(lambda x: true_label if x == 1 else false_label)\n",
    "\n",
    "# Create a copy of the original data\n",
    "df_private = df.copy(deep=True)\n",
    "\n",
    "# Set values of p and q\n",
    "p, q = 0.7310585786300049, 0.7310585786300049\n",
    "\n",
    "epsilon = get_epsilon(p, q)\n",
    "print(f\"We will apply {epsilon:.3f}-LDP setting p={p}, q={q} for both age and sex.\")\n",
    "\n",
    "# Apply randomized response to Age and Sex\n",
    "df_private['Age'] = privatize_attribute(df_private['Age'], 'Aged', 'Young', p, q)\n",
    "df_private['Sex'] = privatize_attribute(df_private['Sex'], 'Male', 'Female', p, q)\n",
    "\n",
    "# Display the new DataFrame\n",
    "df_private.head()"
   ]
  },
  {
   "cell_type": "markdown",
   "id": "e61ccbd6",
   "metadata": {},
   "source": [
    "We compute the cross-tabulation on the original data and private data to estimate how many people exist in value combinations of the two sensitive attributes."
   ]
  },
  {
   "cell_type": "code",
   "execution_count": 493,
   "id": "9cc92407",
   "metadata": {},
   "outputs": [
    {
     "name": "stdout",
     "output_type": "stream",
     "text": [
      "\n",
      "Original Cross-tabulation:\n",
      "+-------+--------+-------+\n",
      "|  Age  | Female | Male  |\n",
      "+-------+--------+-------+\n",
      "| Young |  4960  | 8778  |\n",
      "| Aged  |  4822  | 11602 |\n",
      "+-------+--------+-------+\n",
      "\n",
      "Privatized Cross-tabulation:\n",
      "+-------+--------+------+\n",
      "|  Age  | Female | Male |\n",
      "+-------+--------+------+\n",
      "| Aged  |  6528  | 9154 |\n",
      "| Young |  6229  | 8251 |\n",
      "+-------+--------+------+\n"
     ]
    }
   ],
   "source": [
    "from tabulate import tabulate\n",
    "\n",
    "# Showing cross tabulation\n",
    "print(\"\\nOriginal Cross-tabulation:\")\n",
    "original_crosstab = pd.crosstab(df['Age'], df['Sex'])\n",
    "print(tabulate(original_crosstab, headers='keys', tablefmt='pretty'))\n",
    "\n",
    "print(\"\\nPrivatized Cross-tabulation:\")\n",
    "privatized_crosstab = pd.crosstab(df_private['Age'], df_private['Sex'])\n",
    "print(tabulate(privatized_crosstab, headers='keys', tablefmt='pretty'))"
   ]
  },
  {
   "cell_type": "markdown",
   "id": "246286dc",
   "metadata": {},
   "source": [
    "Compute the error between the privatized and the original data."
   ]
  },
  {
   "cell_type": "code",
   "execution_count": 494,
   "id": "67dc3e28",
   "metadata": {},
   "outputs": [
    {
     "name": "stdout",
     "output_type": "stream",
     "text": [
      "\n",
      "Error Crosstab:\n",
      "+-------+--------+------+\n",
      "|  Age  | Female | Male |\n",
      "+-------+--------+------+\n",
      "| Aged  | -1706  | 2448 |\n",
      "| Young | -1269  | 527  |\n",
      "+-------+--------+------+\n",
      "\n",
      "The percent error for young female responses is: 25.58467741935484%\n",
      "The percent error for aged female responses is: 35.37951057652427%\n",
      "The percent error for young male responses is: 6.003645477329688%\n",
      "The percent error for aged male responses is: 21.099810377521116%\n"
     ]
    }
   ],
   "source": [
    "def pct_error(true_value, estimated_value):\n",
    "\n",
    "    if true_value == 0:\n",
    "        # If the true value is zero, the percent error is undefined.\n",
    "        return float('inf')\n",
    "    \n",
    "    # Calculate the absolute difference\n",
    "    abs_error = abs(true_value - estimated_value)\n",
    "        \n",
    "    # Calculate the percent error\n",
    "    pct_error = (abs_error / true_value) * 100\n",
    "        \n",
    "    return pct_error\n",
    "\n",
    "print(\"\\nError Crosstab:\")\n",
    "print(tabulate(original_crosstab - privatized_crosstab, headers='keys', tablefmt='pretty'))\n",
    "\n",
    "error_female_young = pct_error(original_crosstab[\"Female\"][\"Young\"], privatized_crosstab[\"Female\"][\"Young\"])\n",
    "print(f\"\\nThe percent error for young female responses is: {error_female_young}%\")\n",
    "\n",
    "error_female_aged = pct_error(original_crosstab[\"Female\"][\"Aged\"], privatized_crosstab[\"Female\"][\"Aged\"])\n",
    "print(f\"The percent error for aged female responses is: {error_female_aged}%\")\n",
    "\n",
    "error_male_young = pct_error(original_crosstab[\"Male\"][\"Young\"], privatized_crosstab[\"Male\"][\"Young\"])\n",
    "print(f\"The percent error for young male responses is: {error_male_young}%\")\n",
    "\n",
    "error_male_aged = pct_error(original_crosstab[\"Male\"][\"Aged\"], privatized_crosstab[\"Male\"][\"Aged\"])\n",
    "print(f\"The percent error for aged male responses is: {error_male_aged}%\")"
   ]
  },
  {
   "cell_type": "code",
   "execution_count": 495,
   "id": "f980363f",
   "metadata": {},
   "outputs": [
    {
     "name": "stdout",
     "output_type": "stream",
     "text": [
      "Private Classfier\n",
      "Training data shape:   (21113, 99)\n",
      "Validation data shape:  (4524, 99)\n",
      "Test data shape:        (4525, 99)\n"
     ]
    },
    {
     "data": {
      "text/plain": [
       "'label'"
      ]
     },
     "metadata": {},
     "output_type": "display_data"
    },
    {
     "data": {
      "text/plain": [
       "array([1., 0.])"
      ]
     },
     "metadata": {},
     "output_type": "display_data"
    }
   ],
   "source": [
    "# Implement Private Classifier\n",
    "\n",
    "tabular_data_private = Tabular(\n",
    "   df_private,\n",
    "   categorical_columns=[\n",
    "  \"Age\", \"Workclass\", \"Education\", \"Occupation\", \"Relationship\", \"Race\", \"Sex\", \"Hours per week\", \"Country\"\n",
    "],\n",
    "   target_column='label'\n",
    ")\n",
    "transformer_private = TabularTransform().fit(tabular_data_private)\n",
    "class_names = transformer_private.class_names\n",
    "x_private = transformer_private.transform(tabular_data_private)\n",
    "\n",
    "# Split data into training and (validation + test) datasets\n",
    "train_private, X_private_temp, train_labels_private, y_private_temp  = \\\n",
    "    train_test_split(x_private[:, :-1], x_private[:, -1], train_size=0.70, random_state = 123)\n",
    "\n",
    "# Split data validation and test sets\n",
    "val_private, test_private, val_labels_private, test_labels_private = train_test_split(X_private_temp, y_private_temp, test_size=0.5, random_state=123)\n",
    "\n",
    "test_labels_private = test_labels_private.astype(int)\n",
    "\n",
    "print('Private Classfier')\n",
    "print('Training data shape:   {}'.format(train_private.shape))\n",
    "print('Validation data shape:  {}'.format(val_private.shape))\n",
    "print('Test data shape:        {}'.format(test_private.shape))\n",
    "\n",
    "# Train a Random Forest model\n",
    "model_private = RandomForestClassifier(random_state=123)\n",
    "model_private.fit(train_private, train_labels_private)\n",
    "\n",
    "predict_function_private=lambda z: model_private.predict_proba(transformer_private.transform(z))\n",
    "\n",
    "# # Convert the transformed data back to Tabular instances\n",
    "train_data_private = transformer_private.invert(train_private)\n",
    "test_data_private = transformer_private.invert(test_private)\n",
    "\n",
    "display(tabular_data_private.target_column)\n",
    "display(train_labels_private[:2])"
   ]
  },
  {
   "cell_type": "code",
   "execution_count": 496,
   "id": "89e25585",
   "metadata": {},
   "outputs": [
    {
     "data": {
      "text/html": [
       "<div>\n",
       "<style scoped>\n",
       "    .dataframe tbody tr th:only-of-type {\n",
       "        vertical-align: middle;\n",
       "    }\n",
       "\n",
       "    .dataframe tbody tr th {\n",
       "        vertical-align: top;\n",
       "    }\n",
       "\n",
       "    .dataframe thead th {\n",
       "        text-align: right;\n",
       "    }\n",
       "</style>\n",
       "<table border=\"1\" class=\"dataframe\">\n",
       "  <thead>\n",
       "    <tr style=\"text-align: right;\">\n",
       "      <th></th>\n",
       "      <th>Age</th>\n",
       "      <th>Workclass</th>\n",
       "      <th>Education</th>\n",
       "      <th>Occupation</th>\n",
       "      <th>Relationship</th>\n",
       "      <th>Race</th>\n",
       "      <th>Sex</th>\n",
       "      <th>Capital Gain</th>\n",
       "      <th>Capital Loss</th>\n",
       "      <th>Hours per week</th>\n",
       "      <th>Country</th>\n",
       "      <th>label</th>\n",
       "      <th>prediction</th>\n",
       "    </tr>\n",
       "  </thead>\n",
       "  <tbody>\n",
       "    <tr>\n",
       "      <th>284</th>\n",
       "      <td>Aged</td>\n",
       "      <td>Self-emp-not-inc</td>\n",
       "      <td>HS-grad</td>\n",
       "      <td>Craft-repair</td>\n",
       "      <td>Married</td>\n",
       "      <td>White</td>\n",
       "      <td>Female</td>\n",
       "      <td>0.0</td>\n",
       "      <td>0.0</td>\n",
       "      <td>OverTime</td>\n",
       "      <td>United-States</td>\n",
       "      <td>0</td>\n",
       "      <td>1.0</td>\n",
       "    </tr>\n",
       "    <tr>\n",
       "      <th>2856</th>\n",
       "      <td>Young</td>\n",
       "      <td>Private</td>\n",
       "      <td>HS-grad</td>\n",
       "      <td>Other-service</td>\n",
       "      <td>Not-in-family</td>\n",
       "      <td>White</td>\n",
       "      <td>Female</td>\n",
       "      <td>0.0</td>\n",
       "      <td>0.0</td>\n",
       "      <td>PartTime</td>\n",
       "      <td>United-States</td>\n",
       "      <td>0</td>\n",
       "      <td>0.0</td>\n",
       "    </tr>\n",
       "    <tr>\n",
       "      <th>711</th>\n",
       "      <td>Aged</td>\n",
       "      <td>Private</td>\n",
       "      <td>1st-4th</td>\n",
       "      <td>Transport-moving</td>\n",
       "      <td>Married</td>\n",
       "      <td>White</td>\n",
       "      <td>Male</td>\n",
       "      <td>0.0</td>\n",
       "      <td>0.0</td>\n",
       "      <td>OverTime</td>\n",
       "      <td>United-States</td>\n",
       "      <td>0</td>\n",
       "      <td>0.0</td>\n",
       "    </tr>\n",
       "    <tr>\n",
       "      <th>2784</th>\n",
       "      <td>Aged</td>\n",
       "      <td>Private</td>\n",
       "      <td>HS-grad</td>\n",
       "      <td>Farming-fishing</td>\n",
       "      <td>Unmarried</td>\n",
       "      <td>White</td>\n",
       "      <td>Male</td>\n",
       "      <td>0.0</td>\n",
       "      <td>0.0</td>\n",
       "      <td>FullTime</td>\n",
       "      <td>United-States</td>\n",
       "      <td>0</td>\n",
       "      <td>0.0</td>\n",
       "    </tr>\n",
       "    <tr>\n",
       "      <th>1827</th>\n",
       "      <td>Young</td>\n",
       "      <td>Private</td>\n",
       "      <td>Some-college</td>\n",
       "      <td>Transport-moving</td>\n",
       "      <td>Not-in-family</td>\n",
       "      <td>White</td>\n",
       "      <td>Female</td>\n",
       "      <td>0.0</td>\n",
       "      <td>0.0</td>\n",
       "      <td>PartTime</td>\n",
       "      <td>United-States</td>\n",
       "      <td>0</td>\n",
       "      <td>0.0</td>\n",
       "    </tr>\n",
       "  </tbody>\n",
       "</table>\n",
       "</div>"
      ],
      "text/plain": [
       "        Age         Workclass     Education        Occupation   Relationship  \\\n",
       "284    Aged  Self-emp-not-inc       HS-grad      Craft-repair        Married   \n",
       "2856  Young           Private       HS-grad     Other-service  Not-in-family   \n",
       "711    Aged           Private       1st-4th  Transport-moving        Married   \n",
       "2784   Aged           Private       HS-grad   Farming-fishing      Unmarried   \n",
       "1827  Young           Private  Some-college  Transport-moving  Not-in-family   \n",
       "\n",
       "       Race     Sex  Capital Gain  Capital Loss Hours per week        Country  \\\n",
       "284   White  Female           0.0           0.0       OverTime  United-States   \n",
       "2856  White  Female           0.0           0.0       PartTime  United-States   \n",
       "711   White    Male           0.0           0.0       OverTime  United-States   \n",
       "2784  White    Male           0.0           0.0       FullTime  United-States   \n",
       "1827  White  Female           0.0           0.0       PartTime  United-States   \n",
       "\n",
       "      label  prediction  \n",
       "284       0         1.0  \n",
       "2856      0         0.0  \n",
       "711       0         0.0  \n",
       "2784      0         0.0  \n",
       "1827      0         0.0  "
      ]
     },
     "execution_count": 496,
     "metadata": {},
     "output_type": "execute_result"
    }
   ],
   "source": [
    "# Model Predictions\n",
    "test_df_private = test_data_private.to_pd()\n",
    "test_df_private[\"label\"] = test_labels_private\n",
    "predictions_private = model_private.predict(test_private)\n",
    "test_df_private[\"prediction\"] = predictions_private\n",
    "\n",
    "test_df_private.sample(5)"
   ]
  },
  {
   "cell_type": "code",
   "execution_count": 497,
   "id": "68cca831",
   "metadata": {},
   "outputs": [
    {
     "name": "stdout",
     "output_type": "stream",
     "text": [
      "Test: accuracy_private=0.8420\n",
      "Test: TP=718, TN=3092, FP=289, FN=426\n"
     ]
    },
    {
     "data": {
      "text/plain": [
       "<sklearn.metrics._plot.confusion_matrix.ConfusionMatrixDisplay at 0x7fc2eb9bccd0>"
      ]
     },
     "execution_count": 497,
     "metadata": {},
     "output_type": "execute_result"
    },
    {
     "data": {
      "image/png": "[encoded data removed]",
      "text/plain": [
       "<Figure size 640x480 with 2 Axes>"
      ]
     },
     "metadata": {},
     "output_type": "display_data"
    }
   ],
   "source": [
    "accuracy_private = accuracy_score(test_labels_private, predictions_private)\n",
    "print(f'Test: {accuracy_private=:.4f}')\n",
    "\n",
    "cm_private = confusion_matrix(test_labels_private, predictions_private)\n",
    "\n",
    "TN = cm_private[0][0]\n",
    "FN = cm_private[1][0]\n",
    "TP = cm_private[1][1]\n",
    "FP = cm_private[0][1]\n",
    "print(f\"Test: {TP=}, {TN=}, {FP=}, {FN=}\")\n",
    "\n",
    "disp = ConfusionMatrixDisplay(confusion_matrix=cm_private, )\n",
    "disp.plot()"
   ]
  },
  {
   "cell_type": "markdown",
   "id": "6c4359d9",
   "metadata": {},
   "source": [
    "Implementing differential privacy involves adding noise to the training process to protect individual data points at the expense of degrading the model's accuracy. Lower epsilon values correspond to stronger privacy guarantees but also result in greater noise, which can lead to decreased model performance."
   ]
  },
  {
   "cell_type": "markdown",
   "id": "0722f53e",
   "metadata": {},
   "source": [
    "### Fairness of the Private Classifier"
   ]
  },
  {
   "cell_type": "code",
   "execution_count": 498,
   "id": "27dd4275",
   "metadata": {},
   "outputs": [
    {
     "data": {
      "text/html": [
       "<div>\n",
       "<style scoped>\n",
       "    .dataframe tbody tr th:only-of-type {\n",
       "        vertical-align: middle;\n",
       "    }\n",
       "\n",
       "    .dataframe tbody tr th {\n",
       "        vertical-align: top;\n",
       "    }\n",
       "\n",
       "    .dataframe thead th {\n",
       "        text-align: right;\n",
       "    }\n",
       "</style>\n",
       "<table border=\"1\" class=\"dataframe\">\n",
       "  <thead>\n",
       "    <tr style=\"text-align: right;\">\n",
       "      <th></th>\n",
       "      <th>Age_Aged</th>\n",
       "      <th>Age_Young</th>\n",
       "      <th>Workclass_Federal-gov</th>\n",
       "      <th>Workclass_Local-gov</th>\n",
       "      <th>Workclass_Private</th>\n",
       "      <th>Workclass_Self-emp-inc</th>\n",
       "      <th>Workclass_Self-emp-not-inc</th>\n",
       "      <th>Workclass_State-gov</th>\n",
       "      <th>Workclass_Without-pay</th>\n",
       "      <th>Education_10th</th>\n",
       "      <th>...</th>\n",
       "      <th>Country_South</th>\n",
       "      <th>Country_Taiwan</th>\n",
       "      <th>Country_Thailand</th>\n",
       "      <th>Country_Trinadad&amp;Tobago</th>\n",
       "      <th>Country_United-States</th>\n",
       "      <th>Country_Vietnam</th>\n",
       "      <th>Country_Yugoslavia</th>\n",
       "      <th>Capital Gain</th>\n",
       "      <th>Capital Loss</th>\n",
       "      <th>label</th>\n",
       "    </tr>\n",
       "  </thead>\n",
       "  <tbody>\n",
       "    <tr>\n",
       "      <th>0</th>\n",
       "      <td>1.0</td>\n",
       "      <td>0.0</td>\n",
       "      <td>0.0</td>\n",
       "      <td>0.0</td>\n",
       "      <td>0.0</td>\n",
       "      <td>0.0</td>\n",
       "      <td>0.0</td>\n",
       "      <td>1.0</td>\n",
       "      <td>0.0</td>\n",
       "      <td>0.0</td>\n",
       "      <td>...</td>\n",
       "      <td>0.0</td>\n",
       "      <td>0.0</td>\n",
       "      <td>0.0</td>\n",
       "      <td>0.0</td>\n",
       "      <td>1.0</td>\n",
       "      <td>0.0</td>\n",
       "      <td>0.0</td>\n",
       "      <td>2174.0</td>\n",
       "      <td>0.0</td>\n",
       "      <td>0.0</td>\n",
       "    </tr>\n",
       "    <tr>\n",
       "      <th>1</th>\n",
       "      <td>1.0</td>\n",
       "      <td>0.0</td>\n",
       "      <td>0.0</td>\n",
       "      <td>0.0</td>\n",
       "      <td>0.0</td>\n",
       "      <td>0.0</td>\n",
       "      <td>1.0</td>\n",
       "      <td>0.0</td>\n",
       "      <td>0.0</td>\n",
       "      <td>0.0</td>\n",
       "      <td>...</td>\n",
       "      <td>0.0</td>\n",
       "      <td>0.0</td>\n",
       "      <td>0.0</td>\n",
       "      <td>0.0</td>\n",
       "      <td>1.0</td>\n",
       "      <td>0.0</td>\n",
       "      <td>0.0</td>\n",
       "      <td>0.0</td>\n",
       "      <td>0.0</td>\n",
       "      <td>0.0</td>\n",
       "    </tr>\n",
       "    <tr>\n",
       "      <th>2</th>\n",
       "      <td>1.0</td>\n",
       "      <td>0.0</td>\n",
       "      <td>0.0</td>\n",
       "      <td>0.0</td>\n",
       "      <td>1.0</td>\n",
       "      <td>0.0</td>\n",
       "      <td>0.0</td>\n",
       "      <td>0.0</td>\n",
       "      <td>0.0</td>\n",
       "      <td>0.0</td>\n",
       "      <td>...</td>\n",
       "      <td>0.0</td>\n",
       "      <td>0.0</td>\n",
       "      <td>0.0</td>\n",
       "      <td>0.0</td>\n",
       "      <td>1.0</td>\n",
       "      <td>0.0</td>\n",
       "      <td>0.0</td>\n",
       "      <td>0.0</td>\n",
       "      <td>0.0</td>\n",
       "      <td>0.0</td>\n",
       "    </tr>\n",
       "  </tbody>\n",
       "</table>\n",
       "<p>3 rows × 100 columns</p>\n",
       "</div>"
      ],
      "text/plain": [
       "   Age_Aged  Age_Young  Workclass_Federal-gov  Workclass_Local-gov  \\\n",
       "0       1.0        0.0                    0.0                  0.0   \n",
       "1       1.0        0.0                    0.0                  0.0   \n",
       "2       1.0        0.0                    0.0                  0.0   \n",
       "\n",
       "   Workclass_Private  Workclass_Self-emp-inc  Workclass_Self-emp-not-inc  \\\n",
       "0                0.0                     0.0                         0.0   \n",
       "1                0.0                     0.0                         1.0   \n",
       "2                1.0                     0.0                         0.0   \n",
       "\n",
       "   Workclass_State-gov  Workclass_Without-pay  Education_10th  ...  \\\n",
       "0                  1.0                    0.0             0.0  ...   \n",
       "1                  0.0                    0.0             0.0  ...   \n",
       "2                  0.0                    0.0             0.0  ...   \n",
       "\n",
       "   Country_South  Country_Taiwan  Country_Thailand  Country_Trinadad&Tobago  \\\n",
       "0            0.0             0.0               0.0                      0.0   \n",
       "1            0.0             0.0               0.0                      0.0   \n",
       "2            0.0             0.0               0.0                      0.0   \n",
       "\n",
       "   Country_United-States  Country_Vietnam  Country_Yugoslavia  Capital Gain  \\\n",
       "0                    1.0              0.0                 0.0        2174.0   \n",
       "1                    1.0              0.0                 0.0           0.0   \n",
       "2                    1.0              0.0                 0.0           0.0   \n",
       "\n",
       "   Capital Loss  label  \n",
       "0           0.0    0.0  \n",
       "1           0.0    0.0  \n",
       "2           0.0    0.0  \n",
       "\n",
       "[3 rows x 100 columns]"
      ]
     },
     "execution_count": 498,
     "metadata": {},
     "output_type": "execute_result"
    }
   ],
   "source": [
    "np.random.seed(123)\n",
    "random.seed(123)\n",
    "\n",
    "# Step 1: Assign feature names and create DataFrame\n",
    "column_names_pf = transformer_private.get_feature_names()\n",
    "column_names_pf.append('label')  # Add the label column\n",
    "privatized_data_fair = pd.DataFrame(x_private, columns=column_names_pf)\n",
    "privatized_data_fair.head(3)"
   ]
  },
  {
   "cell_type": "code",
   "execution_count": 499,
   "id": "b3444bad",
   "metadata": {},
   "outputs": [],
   "source": [
    "privatized_data_fair = privatized_data_fair.drop(columns=['Age_Young', 'Sex_Female'])\n",
    "privatized_data_fair.rename(columns={'Age_Aged': 'Age', 'Sex_Male': 'Sex'}, inplace=True)"
   ]
  },
  {
   "cell_type": "code",
   "execution_count": 500,
   "id": "7b48ce2c",
   "metadata": {},
   "outputs": [],
   "source": [
    "# Split into train, validation, and test sets\n",
    "train_priv, X_temp_priv, _, y_temp_priv = train_test_split(\n",
    "    privatized_data_fair, privatized_data_fair.label, train_size=0.70, random_state=123\n",
    ")\n",
    "val_priv, test_priv, _, _ = train_test_split(X_temp_priv, y_temp_priv, test_size=0.5, random_state=123)"
   ]
  },
  {
   "cell_type": "code",
   "execution_count": 501,
   "id": "7608e23d",
   "metadata": {},
   "outputs": [],
   "source": [
    "# Create BinaryLabelDataset for privatized data\n",
    "dataset_priv_train = BinaryLabelDataset(\n",
    "    df=train_priv, label_names=['label'], protected_attribute_names=['Age', 'Sex']\n",
    ")\n",
    "dataset_priv_valid = BinaryLabelDataset(\n",
    "    df=val_priv, label_names=['label'], protected_attribute_names=['Age', 'Sex']\n",
    ")\n",
    "dataset_priv_test = BinaryLabelDataset(\n",
    "    df=test_priv, label_names=['label'], protected_attribute_names=['Age', 'Sex']\n",
    ")\n",
    "\n",
    "X_train_priv = dataset_priv_train.features\n",
    "y_train_priv = dataset_priv_train.labels.ravel()\n",
    "weights_priv = dataset_priv_train.instance_weights.copy()"
   ]
  },
  {
   "cell_type": "code",
   "execution_count": 502,
   "id": "38ba6e9f",
   "metadata": {},
   "outputs": [],
   "source": [
    "# Train a Random Forest model\n",
    "model_priv_fair = RandomForestClassifier(random_state=123)\n",
    "model_priv_fair.fit(X_train_priv, y_train_priv, sample_weight=weights_priv)\n",
    "\n",
    "# Test data\n",
    "X_test_priv = dataset_priv_test.features\n",
    "y_test_priv = dataset_priv_test.labels\n",
    "\n",
    "# Predictions\n",
    "predictions_priv_fair = []\n",
    "threshold_priv_fair = 0.4555  # Example threshold\n",
    "pos_ind = 1  # Positive class index\n",
    "\n",
    "for prob in model_priv_fair.predict_proba(X_test_priv)[:, pos_ind]:\n",
    "    predictions_priv_fair.append(1 if prob >= threshold_priv_fair else 0)"
   ]
  },
  {
   "cell_type": "code",
   "execution_count": 503,
   "id": "664bbca8",
   "metadata": {},
   "outputs": [],
   "source": [
    "dataset_transf_test_pred = dataset_priv_test.copy(deepcopy=True)\n",
    "X_test = dataset_transf_test_pred.features\n",
    "y_test = dataset_transf_test_pred.labels\n",
    "dataset_transf_test_pred.scores = model_priv_fair.predict_proba(X_test)[:,pos_ind].reshape(-1,1)"
   ]
  },
  {
   "cell_type": "code",
   "execution_count": null,
   "id": "1e3e5026",
   "metadata": {},
   "outputs": [
    {
     "name": "stdout",
     "output_type": "stream",
     "text": [
      "Best Normal accuracy (no reweighing) = 0.8501\n",
      "Optimal classification threshold (no reweighing) = 0.5247\n"
     ]
    }
   ],
   "source": [
    "dataset_fair_valid_pred = dataset_priv_valid.copy(deepcopy=True)\n",
    "X_valid = dataset_priv_valid.features\n",
    "y_valid = dataset_priv_valid.labels\n",
    "dataset_fair_valid_pred.scores = model_priv_fair.predict_proba(X_valid)[:,pos_ind].reshape(-1,1)\n",
    "\n",
    "\n",
    "num_thresh = 100\n",
    "ba_arr = np.zeros(num_thresh)\n",
    "class_thresh_arr = np.linspace(0.01, 0.99, num_thresh)\n",
    "for idx, class_thresh in enumerate(class_thresh_arr):\n",
    "    \n",
    "    fav_inds = dataset_fair_valid_pred.scores > class_thresh\n",
    "    dataset_fair_valid_pred.labels[fav_inds] = dataset_fair_valid_pred.favorable_label\n",
    "    dataset_fair_valid_pred.labels[~fav_inds] = dataset_fair_valid_pred.unfavorable_label\n",
    "    \n",
    "    classified_metric_orig_valid = ClassificationMetric(dataset_priv_valid,\n",
    "                                             dataset_fair_valid_pred, \n",
    "                                             unprivileged_groups=unprivileged_groups,\n",
    "                                             privileged_groups=privileged_groups)\n",
    "    # Metric we wish to maximize\n",
    "    ba_arr[idx] = classified_metric_orig_valid.accuracy()\n",
    "    #ba_arr[idx] = 0.5*(classified_metric_orig_valid.true_positive_rate() + classified_metric_orig_valid.true_negative_rate())\n",
    "\n",
    "best_ind = np.where(ba_arr == np.max(ba_arr))[0][0]\n",
    "best_class_thresh = class_thresh_arr[best_ind]\n",
    "\n",
    "print(\"Best Normal accuracy (no reweighing) = %.4f\" % np.max(ba_arr))\n",
    "print(\"Optimal classification threshold (no reweighing) = %.4f\" % best_class_thresh)"
   ]
  },
  {
   "cell_type": "code",
   "execution_count": 505,
   "id": "1e99814f",
   "metadata": {},
   "outputs": [
    {
     "name": "stdout",
     "output_type": "stream",
     "text": [
      " Predictions from transformed testing data\n",
      "Classification threshold used = 0.5247\n"
     ]
    },
    {
     "name": "stderr",
     "output_type": "stream",
     "text": [
      "100%|██████████| 100/100 [00:00<00:00, 610.39it/s]"
     ]
    },
    {
     "name": "stdout",
     "output_type": "stream",
     "text": [
      "Balanced accuracy = 0.7650\n",
      "Normal accuracy = 0.8424\n",
      "Statistical parity difference = -0.1655\n",
      "Disparate impact = 0.4477\n",
      "Average odds difference = -0.0413\n",
      "Equal opportunity difference = -0.0149\n",
      "Theil index = 0.1259\n"
     ]
    },
    {
     "name": "stderr",
     "output_type": "stream",
     "text": [
      "\n"
     ]
    }
   ],
   "source": [
    "import sys\n",
    "import os\n",
    "# setting path to import common_utils file found inside utils folder\n",
    "sys.path.append(os.path.abspath('./utils'))\n",
    "\n",
    "from common_utils import compute_metrics\n",
    "from tqdm import tqdm\n",
    "\n",
    "print(\" Predictions from transformed testing data\")\n",
    "bal_acc_arr_transf = []\n",
    "eq_opp_diff_tranf = []\n",
    "\n",
    "print(\"Classification threshold used = %.4f\" % best_class_thresh)\n",
    "for thresh in tqdm(class_thresh_arr):\n",
    "    \n",
    "    if thresh == best_class_thresh:\n",
    "        disp = True\n",
    "    else:\n",
    "        disp = False\n",
    "    \n",
    "    fav_inds = dataset_transf_test_pred.scores > thresh\n",
    "    dataset_transf_test_pred.labels[fav_inds] = dataset_transf_test_pred.favorable_label\n",
    "    dataset_transf_test_pred.labels[~fav_inds] = dataset_transf_test_pred.unfavorable_label\n",
    "    \n",
    "    metric_test_aft = compute_metrics(dataset_priv_test, dataset_transf_test_pred, \n",
    "                                      unprivileged_groups, privileged_groups,\n",
    "                                      disp = disp)\n",
    "\n",
    "    bal_acc_arr_transf.append(metric_test_aft[\"Normal accuracy\"])\n",
    "    eq_opp_diff_tranf.append(metric_test_aft[\"Equal opportunity difference\"])"
   ]
  },
  {
   "cell_type": "markdown",
   "id": "d7800b9b-8e48-4cd8-b73b-2afd7029ba90",
   "metadata": {},
   "source": [
    "## Privacy and Fairness\n",
    "Now a fair version of the private classifier will be analyzed\n",
    "\n",
    "We use the private data set from earlier and transform it to be compatible with the fairness classifier"
   ]
  },
  {
   "cell_type": "code",
   "execution_count": null,
   "id": "4098f668-9a77-4171-8655-d80c30af9a26",
   "metadata": {},
   "outputs": [
    {
     "data": {
      "text/html": [
       "<div>\n",
       "<style scoped>\n",
       "    .dataframe tbody tr th:only-of-type {\n",
       "        vertical-align: middle;\n",
       "    }\n",
       "\n",
       "    .dataframe tbody tr th {\n",
       "        vertical-align: top;\n",
       "    }\n",
       "\n",
       "    .dataframe thead th {\n",
       "        text-align: right;\n",
       "    }\n",
       "</style>\n",
       "<table border=\"1\" class=\"dataframe\">\n",
       "  <thead>\n",
       "    <tr style=\"text-align: right;\">\n",
       "      <th></th>\n",
       "      <th>Age_Aged</th>\n",
       "      <th>Age_Young</th>\n",
       "      <th>Workclass_Federal-gov</th>\n",
       "      <th>Workclass_Local-gov</th>\n",
       "      <th>Workclass_Private</th>\n",
       "      <th>Workclass_Self-emp-inc</th>\n",
       "      <th>Workclass_Self-emp-not-inc</th>\n",
       "      <th>Workclass_State-gov</th>\n",
       "      <th>Workclass_Without-pay</th>\n",
       "      <th>Education_10th</th>\n",
       "      <th>...</th>\n",
       "      <th>Country_South</th>\n",
       "      <th>Country_Taiwan</th>\n",
       "      <th>Country_Thailand</th>\n",
       "      <th>Country_Trinadad&amp;Tobago</th>\n",
       "      <th>Country_United-States</th>\n",
       "      <th>Country_Vietnam</th>\n",
       "      <th>Country_Yugoslavia</th>\n",
       "      <th>Capital Gain</th>\n",
       "      <th>Capital Loss</th>\n",
       "      <th>label</th>\n",
       "    </tr>\n",
       "  </thead>\n",
       "  <tbody>\n",
       "    <tr>\n",
       "      <th>0</th>\n",
       "      <td>1.0</td>\n",
       "      <td>0.0</td>\n",
       "      <td>0.0</td>\n",
       "      <td>0.0</td>\n",
       "      <td>0.0</td>\n",
       "      <td>0.0</td>\n",
       "      <td>0.0</td>\n",
       "      <td>1.0</td>\n",
       "      <td>0.0</td>\n",
       "      <td>0.0</td>\n",
       "      <td>...</td>\n",
       "      <td>0.0</td>\n",
       "      <td>0.0</td>\n",
       "      <td>0.0</td>\n",
       "      <td>0.0</td>\n",
       "      <td>1.0</td>\n",
       "      <td>0.0</td>\n",
       "      <td>0.0</td>\n",
       "      <td>2174.0</td>\n",
       "      <td>0.0</td>\n",
       "      <td>0.0</td>\n",
       "    </tr>\n",
       "    <tr>\n",
       "      <th>1</th>\n",
       "      <td>1.0</td>\n",
       "      <td>0.0</td>\n",
       "      <td>0.0</td>\n",
       "      <td>0.0</td>\n",
       "      <td>0.0</td>\n",
       "      <td>0.0</td>\n",
       "      <td>1.0</td>\n",
       "      <td>0.0</td>\n",
       "      <td>0.0</td>\n",
       "      <td>0.0</td>\n",
       "      <td>...</td>\n",
       "      <td>0.0</td>\n",
       "      <td>0.0</td>\n",
       "      <td>0.0</td>\n",
       "      <td>0.0</td>\n",
       "      <td>1.0</td>\n",
       "      <td>0.0</td>\n",
       "      <td>0.0</td>\n",
       "      <td>0.0</td>\n",
       "      <td>0.0</td>\n",
       "      <td>0.0</td>\n",
       "    </tr>\n",
       "    <tr>\n",
       "      <th>2</th>\n",
       "      <td>1.0</td>\n",
       "      <td>0.0</td>\n",
       "      <td>0.0</td>\n",
       "      <td>0.0</td>\n",
       "      <td>1.0</td>\n",
       "      <td>0.0</td>\n",
       "      <td>0.0</td>\n",
       "      <td>0.0</td>\n",
       "      <td>0.0</td>\n",
       "      <td>0.0</td>\n",
       "      <td>...</td>\n",
       "      <td>0.0</td>\n",
       "      <td>0.0</td>\n",
       "      <td>0.0</td>\n",
       "      <td>0.0</td>\n",
       "      <td>1.0</td>\n",
       "      <td>0.0</td>\n",
       "      <td>0.0</td>\n",
       "      <td>0.0</td>\n",
       "      <td>0.0</td>\n",
       "      <td>0.0</td>\n",
       "    </tr>\n",
       "  </tbody>\n",
       "</table>\n",
       "<p>3 rows × 100 columns</p>\n",
       "</div>"
      ],
      "text/plain": [
       "   Age_Aged  Age_Young  Workclass_Federal-gov  Workclass_Local-gov  \\\n",
       "0       1.0        0.0                    0.0                  0.0   \n",
       "1       1.0        0.0                    0.0                  0.0   \n",
       "2       1.0        0.0                    0.0                  0.0   \n",
       "\n",
       "   Workclass_Private  Workclass_Self-emp-inc  Workclass_Self-emp-not-inc  \\\n",
       "0                0.0                     0.0                         0.0   \n",
       "1                0.0                     0.0                         1.0   \n",
       "2                1.0                     0.0                         0.0   \n",
       "\n",
       "   Workclass_State-gov  Workclass_Without-pay  Education_10th  ...  \\\n",
       "0                  1.0                    0.0             0.0  ...   \n",
       "1                  0.0                    0.0             0.0  ...   \n",
       "2                  0.0                    0.0             0.0  ...   \n",
       "\n",
       "   Country_South  Country_Taiwan  Country_Thailand  Country_Trinadad&Tobago  \\\n",
       "0            0.0             0.0               0.0                      0.0   \n",
       "1            0.0             0.0               0.0                      0.0   \n",
       "2            0.0             0.0               0.0                      0.0   \n",
       "\n",
       "   Country_United-States  Country_Vietnam  Country_Yugoslavia  Capital Gain  \\\n",
       "0                    1.0              0.0                 0.0        2174.0   \n",
       "1                    1.0              0.0                 0.0           0.0   \n",
       "2                    1.0              0.0                 0.0           0.0   \n",
       "\n",
       "   Capital Loss  label  \n",
       "0           0.0    0.0  \n",
       "1           0.0    0.0  \n",
       "2           0.0    0.0  \n",
       "\n",
       "[3 rows x 100 columns]"
      ]
     },
     "execution_count": 533,
     "metadata": {},
     "output_type": "execute_result"
    }
   ],
   "source": [
    "np.random.seed(123)\n",
    "random.seed(123)\n",
    "\n",
    "# Step 1: Assign feature names and create DataFrame\n",
    "column_names_pf = transformer_private.get_feature_names()\n",
    "column_names_pf.append('label')  # Add the label column\n",
    "privatized_data_fair = pd.DataFrame(x, columns=column_names_pf)\n",
    "privatized_data_fair.head(3)"
   ]
  },
  {
   "cell_type": "code",
   "execution_count": 534,
   "id": "207b5129-c106-45d8-b901-07e7df97cb78",
   "metadata": {},
   "outputs": [
    {
     "data": {
      "text/html": [
       "<div>\n",
       "<style scoped>\n",
       "    .dataframe tbody tr th:only-of-type {\n",
       "        vertical-align: middle;\n",
       "    }\n",
       "\n",
       "    .dataframe tbody tr th {\n",
       "        vertical-align: top;\n",
       "    }\n",
       "\n",
       "    .dataframe thead th {\n",
       "        text-align: right;\n",
       "    }\n",
       "</style>\n",
       "<table border=\"1\" class=\"dataframe\">\n",
       "  <thead>\n",
       "    <tr style=\"text-align: right;\">\n",
       "      <th></th>\n",
       "      <th>Age_Aged</th>\n",
       "      <th>Age_Young</th>\n",
       "      <th>Sex_Male</th>\n",
       "      <th>Sex_Female</th>\n",
       "    </tr>\n",
       "  </thead>\n",
       "  <tbody>\n",
       "    <tr>\n",
       "      <th>0</th>\n",
       "      <td>1.0</td>\n",
       "      <td>0.0</td>\n",
       "      <td>1.0</td>\n",
       "      <td>0.0</td>\n",
       "    </tr>\n",
       "    <tr>\n",
       "      <th>1</th>\n",
       "      <td>1.0</td>\n",
       "      <td>0.0</td>\n",
       "      <td>1.0</td>\n",
       "      <td>0.0</td>\n",
       "    </tr>\n",
       "    <tr>\n",
       "      <th>2</th>\n",
       "      <td>1.0</td>\n",
       "      <td>0.0</td>\n",
       "      <td>1.0</td>\n",
       "      <td>0.0</td>\n",
       "    </tr>\n",
       "  </tbody>\n",
       "</table>\n",
       "</div>"
      ],
      "text/plain": [
       "   Age_Aged  Age_Young  Sex_Male  Sex_Female\n",
       "0       1.0        0.0       1.0         0.0\n",
       "1       1.0        0.0       1.0         0.0\n",
       "2       1.0        0.0       1.0         0.0"
      ]
     },
     "execution_count": 534,
     "metadata": {},
     "output_type": "execute_result"
    }
   ],
   "source": [
    "privatized_data_fair[['Age_Aged', 'Age_Young', 'Sex_Male', 'Sex_Female']].head(3)"
   ]
  },
  {
   "cell_type": "code",
   "execution_count": 535,
   "id": "274d47ea-d2ef-43a8-a90c-744992337cb1",
   "metadata": {},
   "outputs": [],
   "source": [
    "privatized_data_fair = privatized_data_fair.drop(columns=['Age_Young', 'Sex_Female'])\n",
    "privatized_data_fair.rename(columns={'Age_Aged': 'Age', 'Sex_Male': 'Sex'}, inplace=True)"
   ]
  },
  {
   "cell_type": "code",
   "execution_count": 536,
   "id": "f5847f50-bcaf-4c5d-b335-433b6be147b2",
   "metadata": {},
   "outputs": [],
   "source": [
    "# Split into train, validation, and test sets\n",
    "train_priv, X_temp_priv, _, y_temp_priv = train_test_split(\n",
    "    privatized_data_fair, privatized_data_fair.label, train_size=0.70, random_state=123\n",
    ")\n",
    "val_priv, test_priv, _, _ = train_test_split(X_temp_priv, y_temp_priv, test_size=0.5, random_state=123)"
   ]
  },
  {
   "cell_type": "code",
   "execution_count": 537,
   "id": "31da9d39-5dd9-412f-b0e9-8d01ec3073cf",
   "metadata": {},
   "outputs": [],
   "source": [
    "# Create BinaryLabelDataset for privatized data\n",
    "dataset_priv_train = BinaryLabelDataset(\n",
    "    df=train_priv, label_names=['label'], protected_attribute_names=['Age', 'Sex']\n",
    ")\n",
    "dataset_priv_valid = BinaryLabelDataset(\n",
    "    df=val_priv, label_names=['label'], protected_attribute_names=['Age', 'Sex']\n",
    ")\n",
    "dataset_priv_test = BinaryLabelDataset(\n",
    "    df=test_priv, label_names=['label'], protected_attribute_names=['Age', 'Sex']\n",
    ")"
   ]
  },
  {
   "cell_type": "markdown",
   "id": "35025612-d8ac-44b3-ab88-2b1fa3eb45f8",
   "metadata": {},
   "source": [
    "### Reweighing\n",
    "Use the Reweighing technique on the privatized dataset to adjust for fairness."
   ]
  },
  {
   "cell_type": "code",
   "execution_count": 538,
   "id": "eecb10e9-208b-47f6-94de-c49fc1126278",
   "metadata": {},
   "outputs": [],
   "source": [
    "privileged_groups = [{'Age':1,\n",
    "                      'Sex':1}]\n",
    "unprivileged_groups = [{'Age': 0,\n",
    "                       'Sex':0}]\n",
    "# Apply Reweighing\n",
    "RW_priv = Reweighing(\n",
    "    unprivileged_groups=unprivileged_groups,\n",
    "    privileged_groups=privileged_groups\n",
    ")\n",
    "dataset_transf_priv_train = RW_priv.fit_transform(dataset_priv_train)"
   ]
  },
  {
   "cell_type": "markdown",
   "id": "8908324a-4e79-40b6-a62f-2e8734e919c4",
   "metadata": {},
   "source": [
    "### Resampling\n",
    "Resample the data to correct for underprivileged and overprivileged classes."
   ]
  },
  {
   "cell_type": "code",
   "execution_count": 539,
   "id": "68989826-bba6-4c33-8cfc-3a1213858613",
   "metadata": {},
   "outputs": [],
   "source": [
    "# Train and target data\n",
    "X_train_priv = dataset_transf_priv_train.features\n",
    "y_train_priv = dataset_transf_priv_train.labels.ravel()\n",
    "weights_priv = dataset_transf_priv_train.instance_weights.copy()\n",
    "\n",
    "# Resampling parameters\n",
    "number_oversamples = 750\n",
    "number_undersamples = 1500\n",
    "\n",
    "# Resampling logic (use the same logic from Part 2)\n",
    "oversamples_priv = []\n",
    "undersamples_indexes_priv = []\n",
    "counter_oversamples_priv = 0\n",
    "counter_undersamples_priv = 0\n",
    "\n",
    "for i in range(len(X_train_priv)):\n",
    "    # Over-sample underprivileged group (Young Female, 0,0)\n",
    "    if (X_train_priv[i][0] == 0) and (X_train_priv[i][1] == 0) and (y_train_priv[i] == 1) \\\n",
    "            and counter_oversamples_priv < number_oversamples:\n",
    "        oversamples_priv.append(X_train_priv[i].copy())\n",
    "        counter_oversamples_priv += 1\n",
    "    # Under-sample overprivileged group (Aged Male, 1,1)\n",
    "    if ((X_train_priv[i][0] == 1) or (X_train_priv[i][1] == 1)) and (y_train_priv[i] == 1) \\\n",
    "            and counter_undersamples_priv < number_undersamples:\n",
    "        undersamples_indexes_priv.append(i)\n",
    "        counter_undersamples_priv += 1\n",
    "    # Stop when limits are reached\n",
    "    if counter_oversamples_priv == number_oversamples and counter_undersamples_priv == number_undersamples:\n",
    "        break\n",
    "\n",
    "# Remove under-samples\n",
    "X_train_priv_resampled = np.delete(X_train_priv, undersamples_indexes_priv, axis=0)\n",
    "y_train_priv_resampled = np.delete(y_train_priv, undersamples_indexes_priv)\n",
    "weights_priv_resampled = np.delete(weights_priv, undersamples_indexes_priv)\n",
    "\n",
    "# Add over-samples\n",
    "X_train_priv_resampled = np.vstack([X_train_priv_resampled, oversamples_priv])\n",
    "y_train_priv_resampled = np.append(y_train_priv_resampled, [1] * len(oversamples_priv))\n",
    "weights_priv_resampled = np.append(weights_priv_resampled, np.random.uniform(1.2, 1.6, len(oversamples_priv)))\n"
   ]
  },
  {
   "cell_type": "markdown",
   "id": "badf4f89-888b-4fe5-bae0-f1a4cbfc1e9c",
   "metadata": {},
   "source": [
    "### Train Privacy + Fairness Classifier\n",
    "Train a classifier using the resampled, reweighted, and privacy-preserved dataset.\n"
   ]
  },
  {
   "cell_type": "code",
   "execution_count": 540,
   "id": "76967f4d-fa1d-4f89-92dd-eec3c7cb5bb5",
   "metadata": {},
   "outputs": [],
   "source": [
    "# Train a Random Forest model\n",
    "model_priv_fair = RandomForestClassifier(random_state=123)\n",
    "model_priv_fair.fit(X_train_priv_resampled, y_train_priv_resampled, sample_weight=weights_priv_resampled)\n",
    "\n",
    "# Test data\n",
    "X_test_priv = dataset_priv_test.features\n",
    "y_test_priv = dataset_priv_test.labels\n",
    "\n",
    "# Predictions\n",
    "predictions_priv_fair = []\n",
    "threshold_priv_fair = 0.4555  # Example threshold\n",
    "pos_ind = 1  # Positive class index\n",
    "\n",
    "for prob in model_priv_fair.predict_proba(X_test_priv)[:, pos_ind]:\n",
    "    predictions_priv_fair.append(1 if prob >= threshold_priv_fair else 0)"
   ]
  },
  {
   "cell_type": "markdown",
   "id": "0870f5d7-d2eb-441e-b1eb-173dfa1fea6d",
   "metadata": {},
   "source": [
    "### Evaluate Privacy + Fairness\n",
    "Accuracy\n",
    "Evaluate the accuracy of the classifier."
   ]
  },
  {
   "cell_type": "code",
   "execution_count": 541,
   "id": "6b5038c8-ad9e-4d65-b2ac-ab2f5dec9374",
   "metadata": {},
   "outputs": [
    {
     "name": "stdout",
     "output_type": "stream",
     "text": [
      "Test Accuracy (Privacy + Fairness): 0.8340\n"
     ]
    }
   ],
   "source": [
    "accuracy_priv_fair = accuracy_score(y_test_priv, predictions_priv_fair)\n",
    "print(f'Test Accuracy (Privacy + Fairness): {accuracy_priv_fair:.4f}')"
   ]
  },
  {
   "cell_type": "markdown",
   "id": "793e2da0-b2cb-43ac-87a6-5684e24f6628",
   "metadata": {},
   "source": [
    "Confusion Matrix"
   ]
  },
  {
   "cell_type": "code",
   "execution_count": 542,
   "id": "218fa3cc-fa94-4805-b168-8ecca28624ad",
   "metadata": {},
   "outputs": [
    {
     "data": {
      "text/plain": [
       "<sklearn.metrics._plot.confusion_matrix.ConfusionMatrixDisplay at 0x7fc2d054c290>"
      ]
     },
     "execution_count": 542,
     "metadata": {},
     "output_type": "execute_result"
    },
    {
     "data": {
      "image/png": "[encoded data removed]",
      "text/plain": [
       "<Figure size 640x480 with 2 Axes>"
      ]
     },
     "metadata": {},
     "output_type": "display_data"
    }
   ],
   "source": [
    "cm_priv_fair = confusion_matrix(y_test_priv, predictions_priv_fair)\n",
    "disp_priv_fair = ConfusionMatrixDisplay(confusion_matrix=cm_priv_fair)\n",
    "disp_priv_fair.plot()"
   ]
  },
  {
   "cell_type": "markdown",
   "id": "165dd126-487f-4745-9171-1a0bad04b1e2",
   "metadata": {},
   "source": [
    "Fairness Metric calculated using the real age and sex values\n"
   ]
  },
  {
   "cell_type": "code",
   "execution_count": 544,
   "id": "18475e0e-a00a-4051-9772-3acc08cad8d6",
   "metadata": {},
   "outputs": [
    {
     "name": "stdout",
     "output_type": "stream",
     "text": [
      "Equal Opportunity Difference (Privacy + Fairness): 0.1643\n"
     ]
    }
   ],
   "source": [
    "dataset_priv_test_pred = dataset_priv_test.copy(deepcopy=True)\n",
    "dataset_priv_test_pred.scores = model_priv_fair.predict_proba(X_test_priv)[:, pos_ind].reshape(-1, 1)\n",
    "\n",
    "fav_inds_priv = dataset_priv_test_pred.scores > threshold_priv_fair\n",
    "dataset_priv_test_pred.labels[fav_inds_priv] = dataset_priv_test_pred.favorable_label\n",
    "dataset_priv_test_pred.labels[~fav_inds_priv] = dataset_priv_test_pred.unfavorable_label\n",
    "\n",
    "eod_priv_fair = ClassificationMetric(\n",
    "    # dataset_priv_test\n",
    "    dataset_fair_test\n",
    "    , dataset_priv_test_pred,\n",
    "    unprivileged_groups=unprivileged_groups,\n",
    "    privileged_groups=privileged_groups\n",
    ").equal_opportunity_difference()\n",
    "\n",
    "print(f'Equal Opportunity Difference (Privacy + Fairness): {eod_priv_fair:.4f}')"
   ]
  },
  {
   "cell_type": "code",
   "execution_count": 545,
   "id": "23b8b953-c89f-420c-adf5-4d22a8a78d6f",
   "metadata": {},
   "outputs": [
    {
     "data": {
      "image/png": "[encoded data removed]",
      "text/plain": [
       "<Figure size 800x600 with 1 Axes>"
      ]
     },
     "metadata": {},
     "output_type": "display_data"
    }
   ],
   "source": [
    "# Example values (replace with actual results)\n",
    "models = ['Fairness-Only', 'Privacy+Fairness']\n",
    "# accuracy_met=accuracy\n",
    "accuracy = [accuracy_fair, accuracy_priv_fair]\n",
    "fairness = [equal_opportunity_diff_metric, eod_priv_fair]  # EOD values (lower is better)\n",
    "\n",
    "# Scatter plot\n",
    "plt.figure(figsize=(8, 6))\n",
    "plt.scatter(fairness, accuracy, color=['green', 'orange'], s=100, label=models)\n",
    "\n",
    "# Annotate points\n",
    "for i, model in enumerate(models):\n",
    "    plt.text(fairness[i] + 0.01, accuracy[i], model, fontsize=10)\n",
    "\n",
    "# Labels and title\n",
    "plt.xlabel('Fairness (EOD)')\n",
    "plt.ylabel('Accuracy')\n",
    "plt.title('Accuracy vs. Fairness Trade-off')\n",
    "plt.axhline(y=max(accuracy), color='gray', linestyle='--', label='Max Accuracy')\n",
    "plt.axvline(x=min(fairness), color='red', linestyle='--', label='Max Fairness')\n",
    "plt.legend()\n",
    "plt.grid(True)\n",
    "plt.show()"
   ]
  },
  {
   "cell_type": "markdown",
   "id": "b1a14287-7a08-4f26-a84f-697838fd7b39",
   "metadata": {},
   "source": [
    "As expected the accuracy of the fairness only classifier is higher because the model is trained on the unaltered data. On the other hand, adding privacy via the Local Differential Privacy introduces noise to sensitive attributes, which leads to less accurate models because the underlying data quality is degraded. When combined with fairness adjustments, the performance further decreases because these adjustments reduce bias but may also reduce model fit. Moreover, the noise from the privacy mechanisms adds noise to sensitive attributes. \n",
    "This noise:\n",
    "\n",
    "1- Makes it harder to accurately distinguish between privileged and unprivileged groups.\n",
    "\n",
    "2- Could lead to unintentional oversampling or misclassification of the unprivileged group as privileged during fairness adjustments, or vice versa.\n",
    "\n",
    "3- If the noise disproportionately affects the privileged group, it may unintentionally boost the TPR for the unprivileged group."
   ]
  },
  {
   "cell_type": "markdown",
   "id": "a0635a01-c174-4553-a861-3c2b38b7899b",
   "metadata": {},
   "source": [
    "## Explainability"
   ]
  },
  {
   "cell_type": "markdown",
   "id": "97336e46-692a-4808-a2f1-6bfa4f9d453d",
   "metadata": {},
   "source": [
    "### Global Explainability"
   ]
  },
  {
   "cell_type": "code",
   "execution_count": 546,
   "id": "0de72784-70a3-4099-9e14-40e49d9b0581",
   "metadata": {},
   "outputs": [],
   "source": [
    "# import necessary libraries for explainability\n",
    "import warnings\n",
    "warnings.filterwarnings(\"ignore\")\n",
    "\n",
    "import sys\n",
    "sys.path.append(\"dependencies\")\n",
    "\n",
    "from omnixai.data.tabular import Tabular\n",
    "from omnixai.preprocessing.tabular import TabularTransform\n",
    "from omnixai.explainers.tabular import TabularExplainer\n",
    "import xgboost as xgboost\n",
    "from itertools import cycle, islice\n",
    "\n",
    "import pandas as pd\n",
    "import numpy as np\n",
    "import sklearn"
   ]
  },
  {
   "cell_type": "code",
   "execution_count": 547,
   "id": "e0849be2-8507-4ca8-bd57-bf1c69633e18",
   "metadata": {},
   "outputs": [],
   "source": [
    "# ace:  predicts how sensitive the model is to individual feature values\n",
    "explainers = TabularExplainer(\n",
    "  explainers=[\"ale\"],                 # The explainers to apply\n",
    "  mode=\"classification\",                             # The task type\n",
    "  data=train_data_private,                           # The data for initializing the explainers\n",
    "  model=model_private,                               # The ML model to explain\n",
    "  preprocess=lambda z: transformer.transform(z),     # Converts raw features into the model inputs\n",
    ")\n",
    "\n",
    "global_explanations = explainers.explain_global()"
   ]
  },
  {
   "cell_type": "code",
   "execution_count": 548,
   "id": "0c996e8a-661f-43d6-a4ef-116dbf63dd2b",
   "metadata": {},
   "outputs": [
    {
     "name": "stdout",
     "output_type": "stream",
     "text": [
      "ALE results:\n"
     ]
    },
    {
     "data": {
      "application/vnd.plotly.v1+json": {
       "config": {
        "linkText": "Export to plot.ly",
        "plotlyServerURL": "https://plot.ly",
        "showLink": false
       },
       "data": [
        {
         "legendgroup": "0",
         "legendgrouptitle": {
          "text": "0"
         },
         "name": "Age",
         "type": "scatter",
         "x": [
          "Aged",
          "Young"
         ],
         "xaxis": "x",
         "y": [
          -0.01385496565743344,
          0.01494203079258105
         ],
         "yaxis": "y"
        },
        {
         "legendgroup": "1",
         "legendgrouptitle": {
          "text": "1"
         },
         "name": "Age",
         "type": "scatter",
         "x": [
          "Aged",
          "Young"
         ],
         "xaxis": "x",
         "y": [
          0.013854965657433445,
          -0.014942030792581055
         ],
         "yaxis": "y"
        },
        {
         "legendgroup": "0",
         "line": {
          "color": "#808080"
         },
         "mode": "lines",
         "opacity": 0.1,
         "showlegend": false,
         "type": "scatter",
         "x": [
          "Aged",
          "Young"
         ],
         "xaxis": "x",
         "y": [
          -0.01315348462964026,
          0.01419021249518184
         ],
         "yaxis": "y"
        },
        {
         "legendgroup": "1",
         "line": {
          "color": "#808080"
         },
         "mode": "lines",
         "opacity": 0.1,
         "showlegend": false,
         "type": "scatter",
         "x": [
          "Aged",
          "Young"
         ],
         "xaxis": "x",
         "y": [
          0.013153484629640264,
          -0.014190212495181844
         ],
         "yaxis": "y"
        },
        {
         "legendgroup": "0",
         "line": {
          "color": "#808080"
         },
         "mode": "lines",
         "opacity": 0.1,
         "showlegend": false,
         "type": "scatter",
         "x": [
          "Aged",
          "Young"
         ],
         "xaxis": "x",
         "y": [
          -0.013575957308348492,
          0.014645983513514833
         ],
         "yaxis": "y"
        },
        {
         "legendgroup": "1",
         "line": {
          "color": "#808080"
         },
         "mode": "lines",
         "opacity": 0.1,
         "showlegend": false,
         "type": "scatter",
         "x": [
          "Aged",
          "Young"
         ],
         "xaxis": "x",
         "y": [
          0.013575957308348499,
          -0.01464598351351484
         ],
         "yaxis": "y"
        },
        {
         "legendgroup": "0",
         "line": {
          "color": "#808080"
         },
         "mode": "lines",
         "opacity": 0.1,
         "showlegend": false,
         "type": "scatter",
         "x": [
          "Aged",
          "Young"
         ],
         "xaxis": "x",
         "y": [
          -0.015329135836796688,
          0.016537343602582764
         ],
         "yaxis": "y"
        },
        {
         "legendgroup": "1",
         "line": {
          "color": "#808080"
         },
         "mode": "lines",
         "opacity": 0.1,
         "showlegend": false,
         "type": "scatter",
         "x": [
          "Aged",
          "Young"
         ],
         "xaxis": "x",
         "y": [
          0.015329135836796688,
          -0.016537343602582764
         ],
         "yaxis": "y"
        },
        {
         "legendgroup": "0",
         "line": {
          "color": "#808080"
         },
         "mode": "lines",
         "opacity": 0.1,
         "showlegend": false,
         "type": "scatter",
         "x": [
          "Aged",
          "Young"
         ],
         "xaxis": "x",
         "y": [
          -0.012947586906067163,
          0.013968086379400127
         ],
         "yaxis": "y"
        },
        {
         "legendgroup": "1",
         "line": {
          "color": "#808080"
         },
         "mode": "lines",
         "opacity": 0.1,
         "showlegend": false,
         "type": "scatter",
         "x": [
          "Aged",
          "Young"
         ],
         "xaxis": "x",
         "y": [
          0.012947586906067168,
          -0.013968086379400132
         ],
         "yaxis": "y"
        },
        {
         "legendgroup": "0",
         "line": {
          "color": "#808080"
         },
         "mode": "lines",
         "opacity": 0.1,
         "showlegend": false,
         "type": "scatter",
         "x": [
          "Aged",
          "Young"
         ],
         "xaxis": "x",
         "y": [
          -0.010544833998676843,
          0.011375953930143817
         ],
         "yaxis": "y"
        },
        {
         "legendgroup": "1",
         "line": {
          "color": "#808080"
         },
         "mode": "lines",
         "opacity": 0.1,
         "showlegend": false,
         "type": "scatter",
         "x": [
          "Aged",
          "Young"
         ],
         "xaxis": "x",
         "y": [
          0.01054483399867685,
          -0.011375953930143824
         ],
         "yaxis": "y"
        },
        {
         "legendgroup": "0",
         "line": {
          "color": "#808080"
         },
         "mode": "lines",
         "opacity": 0.1,
         "showlegend": false,
         "type": "scatter",
         "x": [
          "Aged",
          "Young"
         ],
         "xaxis": "x",
         "y": [
          -0.01678256048595997,
          0.018105323890550466
         ],
         "yaxis": "y"
        },
        {
         "legendgroup": "1",
         "line": {
          "color": "#808080"
         },
         "mode": "lines",
         "opacity": 0.1,
         "showlegend": false,
         "type": "scatter",
         "x": [
          "Aged",
          "Young"
         ],
         "xaxis": "x",
         "y": [
          0.016782560485959972,
          -0.01810532389055047
         ],
         "yaxis": "y"
        },
        {
         "legendgroup": "0",
         "line": {
          "color": "#808080"
         },
         "mode": "lines",
         "opacity": 0.1,
         "showlegend": false,
         "type": "scatter",
         "x": [
          "Aged",
          "Young"
         ],
         "xaxis": "x",
         "y": [
          -0.012428386652555167,
          0.013407963937907679
         ],
         "yaxis": "y"
        },
        {
         "legendgroup": "1",
         "line": {
          "color": "#808080"
         },
         "mode": "lines",
         "opacity": 0.1,
         "showlegend": false,
         "type": "scatter",
         "x": [
          "Aged",
          "Young"
         ],
         "xaxis": "x",
         "y": [
          0.012428386652555173,
          -0.013407963937907684
         ],
         "yaxis": "y"
        },
        {
         "legendgroup": "0",
         "line": {
          "color": "#808080"
         },
         "mode": "lines",
         "opacity": 0.1,
         "showlegend": false,
         "type": "scatter",
         "x": [
          "Aged",
          "Young"
         ],
         "xaxis": "x",
         "y": [
          -0.012759409565824683,
          0.013765077327426047
         ],
         "yaxis": "y"
        },
        {
         "legendgroup": "1",
         "line": {
          "color": "#808080"
         },
         "mode": "lines",
         "opacity": 0.1,
         "showlegend": false,
         "type": "scatter",
         "x": [
          "Aged",
          "Young"
         ],
         "xaxis": "x",
         "y": [
          0.012759409565824692,
          -0.013765077327426056
         ],
         "yaxis": "y"
        },
        {
         "legendgroup": "0",
         "line": {
          "color": "#808080"
         },
         "mode": "lines",
         "opacity": 0.1,
         "showlegend": false,
         "type": "scatter",
         "x": [
          "Aged",
          "Young"
         ],
         "xaxis": "x",
         "y": [
          -0.015143728029115932,
          0.016337322371453862
         ],
         "yaxis": "y"
        },
        {
         "legendgroup": "1",
         "line": {
          "color": "#808080"
         },
         "mode": "lines",
         "opacity": 0.1,
         "showlegend": false,
         "type": "scatter",
         "x": [
          "Aged",
          "Young"
         ],
         "xaxis": "x",
         "y": [
          0.01514372802911594,
          -0.01633732237145387
         ],
         "yaxis": "y"
        },
        {
         "legendgroup": "0",
         "line": {
          "color": "#808080"
         },
         "mode": "lines",
         "opacity": 0.1,
         "showlegend": false,
         "type": "scatter",
         "x": [
          "Aged",
          "Young"
         ],
         "xaxis": "x",
         "y": [
          -0.011227007063026316,
          0.012111894330286524
         ],
         "yaxis": "y"
        },
        {
         "legendgroup": "1",
         "line": {
          "color": "#808080"
         },
         "mode": "lines",
         "opacity": 0.1,
         "showlegend": false,
         "type": "scatter",
         "x": [
          "Aged",
          "Young"
         ],
         "xaxis": "x",
         "y": [
          0.011227007063026321,
          -0.012111894330286529
         ],
         "yaxis": "y"
        },
        {
         "legendgroup": "0",
         "legendgrouptitle": {
          "text": "0"
         },
         "name": "Workclass",
         "type": "scatter",
         "x": [
          "Federal-gov",
          "Local-gov",
          "Private",
          "Self-emp-inc",
          "Self-emp-not-in*",
          "State-gov",
          "Without-pay"
         ],
         "xaxis": "x2",
         "y": [
          -0.06869525879742426,
          -0.010373556895538955,
          0.004390296077097899,
          -0.06843708636752215,
          0.02200916840762393,
          0.007272168951858268,
          0.001733871974482451
         ],
         "yaxis": "y2"
        },
        {
         "legendgroup": "1",
         "legendgrouptitle": {
          "text": "1"
         },
         "name": "Workclass",
         "type": "scatter",
         "x": [
          "Federal-gov",
          "Local-gov",
          "Private",
          "Self-emp-inc",
          "Self-emp-not-in*",
          "State-gov",
          "Without-pay"
         ],
         "xaxis": "x2",
         "y": [
          0.06869525879742429,
          0.010373556895538968,
          -0.004390296077097913,
          0.06843708636752219,
          -0.022009168407623916,
          -0.0072721689518582405,
          -0.0017338719744824371
         ],
         "yaxis": "y2"
        },
        {
         "legendgroup": "0",
         "line": {
          "color": "#808080"
         },
         "mode": "lines",
         "opacity": 0.1,
         "showlegend": false,
         "type": "scatter",
         "x": [
          "Federal-gov",
          "Local-gov",
          "Private",
          "Self-emp-inc",
          "Self-emp-not-in*",
          "State-gov",
          "Without-pay"
         ],
         "xaxis": "x2",
         "y": [
          -0.05387580758954567,
          -0.011030929654718233,
          0.004028547707840377,
          -0.08046704084630935,
          0.02939494807787052,
          -0.0012813279262348792,
          0.004982325934916737
         ],
         "yaxis": "y2"
        },
        {
         "legendgroup": "1",
         "line": {
          "color": "#808080"
         },
         "mode": "lines",
         "opacity": 0.1,
         "showlegend": false,
         "type": "scatter",
         "x": [
          "Federal-gov",
          "Local-gov",
          "Private",
          "Self-emp-inc",
          "Self-emp-not-in*",
          "State-gov",
          "Without-pay"
         ],
         "xaxis": "x2",
         "y": [
          0.05387580758954571,
          0.011030929654718233,
          -0.004028547707840377,
          0.0804670408463094,
          -0.029394948077870492,
          0.0012813279262349209,
          -0.004982325934916709
         ],
         "yaxis": "y2"
        },
        {
         "legendgroup": "0",
         "line": {
          "color": "#808080"
         },
         "mode": "lines",
         "opacity": 0.1,
         "showlegend": false,
         "type": "scatter",
         "x": [
          "Federal-gov",
          "Local-gov",
          "Private",
          "Self-emp-inc",
          "Self-emp-not-in*",
          "State-gov",
          "Without-pay"
         ],
         "xaxis": "x2",
         "y": [
          -0.07542001020470361,
          0.00851110089786316,
          0.0020671972044447526,
          -0.044549629604673305,
          0.015987254275706783,
          0.011871400848548763,
          -0.000674686763257111
         ],
         "yaxis": "y2"
        },
        {
         "legendgroup": "1",
         "line": {
          "color": "#808080"
         },
         "mode": "lines",
         "opacity": 0.1,
         "showlegend": false,
         "type": "scatter",
         "x": [
          "Federal-gov",
          "Local-gov",
          "Private",
          "Self-emp-inc",
          "Self-emp-not-in*",
          "State-gov",
          "Without-pay"
         ],
         "xaxis": "x2",
         "y": [
          0.07542001020470365,
          -0.00851110089786316,
          -0.0020671972044447526,
          0.04454962960467334,
          -0.015987254275706762,
          -0.011871400848548742,
          0.0006746867632571457
         ],
         "yaxis": "y2"
        },
        {
         "legendgroup": "0",
         "line": {
          "color": "#808080"
         },
         "mode": "lines",
         "opacity": 0.1,
         "showlegend": false,
         "type": "scatter",
         "x": [
          "Federal-gov",
          "Local-gov",
          "Private",
          "Self-emp-inc",
          "Self-emp-not-in*",
          "State-gov",
          "Without-pay"
         ],
         "xaxis": "x2",
         "y": [
          -0.0623660187260235,
          -0.035525986894804504,
          0.008573059277401707,
          -0.09659620575410831,
          0.021507700125061716,
          -0.004767858609300499,
          0.0034351525993180504
         ],
         "yaxis": "y2"
        },
        {
         "legendgroup": "1",
         "line": {
          "color": "#808080"
         },
         "mode": "lines",
         "opacity": 0.1,
         "showlegend": false,
         "type": "scatter",
         "x": [
          "Federal-gov",
          "Local-gov",
          "Private",
          "Self-emp-inc",
          "Self-emp-not-in*",
          "State-gov",
          "Without-pay"
         ],
         "xaxis": "x2",
         "y": [
          0.06236601872602353,
          0.035525986894804525,
          -0.008573059277401707,
          0.09659620575410835,
          -0.0215077001250617,
          0.00476785860930054,
          -0.0034351525993180226
         ],
         "yaxis": "y2"
        },
        {
         "legendgroup": "0",
         "line": {
          "color": "#808080"
         },
         "mode": "lines",
         "opacity": 0.1,
         "showlegend": false,
         "type": "scatter",
         "x": [
          "Federal-gov",
          "Local-gov",
          "Private",
          "Self-emp-inc",
          "Self-emp-not-in*",
          "State-gov",
          "Without-pay"
         ],
         "xaxis": "x2",
         "y": [
          -0.06566421122055542,
          -0.01210863333559252,
          0.004528286706382029,
          -0.059359200935035245,
          0.01583553479528242,
          0.008899425599091765,
          -0.0016885807150803164
         ],
         "yaxis": "y2"
        },
        {
         "legendgroup": "1",
         "line": {
          "color": "#808080"
         },
         "mode": "lines",
         "opacity": 0.1,
         "showlegend": false,
         "type": "scatter",
         "x": [
          "Federal-gov",
          "Local-gov",
          "Private",
          "Self-emp-inc",
          "Self-emp-not-in*",
          "State-gov",
          "Without-pay"
         ],
         "xaxis": "x2",
         "y": [
          0.06566421122055546,
          0.012108633335592527,
          -0.004528286706382036,
          0.05935920093503528,
          -0.0158355347952824,
          -0.00889942559909173,
          0.0016885807150803372
         ],
         "yaxis": "y2"
        },
        {
         "legendgroup": "0",
         "line": {
          "color": "#808080"
         },
         "mode": "lines",
         "opacity": 0.1,
         "showlegend": false,
         "type": "scatter",
         "x": [
          "Federal-gov",
          "Local-gov",
          "Private",
          "Self-emp-inc",
          "Self-emp-not-in*",
          "State-gov",
          "Without-pay"
         ],
         "xaxis": "x2",
         "y": [
          -0.07331325435300651,
          -0.021273991475111005,
          0.005892435052116118,
          -0.07031450954136821,
          0.023774275378522156,
          -0.00040365891430789447,
          0.005866034550298979
         ],
         "yaxis": "y2"
        },
        {
         "legendgroup": "1",
         "line": {
          "color": "#808080"
         },
         "mode": "lines",
         "opacity": 0.1,
         "showlegend": false,
         "type": "scatter",
         "x": [
          "Federal-gov",
          "Local-gov",
          "Private",
          "Self-emp-inc",
          "Self-emp-not-in*",
          "State-gov",
          "Without-pay"
         ],
         "xaxis": "x2",
         "y": [
          0.07331325435300655,
          0.021273991475111033,
          -0.005892435052116118,
          0.07031450954136827,
          -0.02377427537852214,
          0.0004036589143079361,
          -0.005866034550298951
         ],
         "yaxis": "y2"
        },
        {
         "legendgroup": "0",
         "line": {
          "color": "#808080"
         },
         "mode": "lines",
         "opacity": 0.1,
         "showlegend": false,
         "type": "scatter",
         "x": [
          "Federal-gov",
          "Local-gov",
          "Private",
          "Self-emp-inc",
          "Self-emp-not-in*",
          "State-gov",
          "Without-pay"
         ],
         "xaxis": "x2",
         "y": [
          -0.08694656789756951,
          0.008069111803476615,
          0.002663675615925107,
          -0.043460723875632934,
          0.021042010482297008,
          -0.0003241384173721662,
          0.0012268577322704158
         ],
         "yaxis": "y2"
        },
        {
         "legendgroup": "1",
         "line": {
          "color": "#808080"
         },
         "mode": "lines",
         "opacity": 0.1,
         "showlegend": false,
         "type": "scatter",
         "x": [
          "Federal-gov",
          "Local-gov",
          "Private",
          "Self-emp-inc",
          "Self-emp-not-in*",
          "State-gov",
          "Without-pay"
         ],
         "xaxis": "x2",
         "y": [
          0.08694656789756952,
          -0.008069111803476615,
          -0.0026636756159251207,
          0.043460723875632955,
          -0.021042010482297,
          0.00032413841737217314,
          -0.001226857732270395
         ],
         "yaxis": "y2"
        },
        {
         "legendgroup": "0",
         "line": {
          "color": "#808080"
         },
         "mode": "lines",
         "opacity": 0.1,
         "showlegend": false,
         "type": "scatter",
         "x": [
          "Federal-gov",
          "Local-gov",
          "Private",
          "Self-emp-inc",
          "Self-emp-not-in*",
          "State-gov",
          "Without-pay"
         ],
         "xaxis": "x2",
         "y": [
          -0.07254580310614389,
          0.0036249248122229433,
          0.0019081469302479753,
          -0.06378191679781227,
          0.02461141168030903,
          0.020413538799513548,
          0.0012636646592589645
         ],
         "yaxis": "y2"
        },
        {
         "legendgroup": "1",
         "line": {
          "color": "#808080"
         },
         "mode": "lines",
         "opacity": 0.1,
         "showlegend": false,
         "type": "scatter",
         "x": [
          "Federal-gov",
          "Local-gov",
          "Private",
          "Self-emp-inc",
          "Self-emp-not-in*",
          "State-gov",
          "Without-pay"
         ],
         "xaxis": "x2",
         "y": [
          0.07254580310614392,
          -0.0036249248122229433,
          -0.0019081469302479753,
          0.06378191679781228,
          -0.024611411680309003,
          -0.020413538799513534,
          -0.001263664659258923
         ],
         "yaxis": "y2"
        },
        {
         "legendgroup": "0",
         "line": {
          "color": "#808080"
         },
         "mode": "lines",
         "opacity": 0.1,
         "showlegend": false,
         "type": "scatter",
         "x": [
          "Federal-gov",
          "Local-gov",
          "Private",
          "Self-emp-inc",
          "Self-emp-not-in*",
          "State-gov",
          "Without-pay"
         ],
         "xaxis": "x2",
         "y": [
          -0.05420818570202396,
          0.00047919769223557507,
          0.0018462699550896439,
          -0.060706515207059636,
          0.021000073512656717,
          0.01776411809638488,
          -0.004591401622339168
         ],
         "yaxis": "y2"
        },
        {
         "legendgroup": "1",
         "line": {
          "color": "#808080"
         },
         "mode": "lines",
         "opacity": 0.1,
         "showlegend": false,
         "type": "scatter",
         "x": [
          "Federal-gov",
          "Local-gov",
          "Private",
          "Self-emp-inc",
          "Self-emp-not-in*",
          "State-gov",
          "Without-pay"
         ],
         "xaxis": "x2",
         "y": [
          0.05420818570202399,
          -0.0004791976922355612,
          -0.0018462699550896577,
          0.06070651520705968,
          -0.021000073512656703,
          -0.017764118096384854,
          0.004591401622339189
         ],
         "yaxis": "y2"
        },
        {
         "legendgroup": "0",
         "line": {
          "color": "#808080"
         },
         "mode": "lines",
         "opacity": 0.1,
         "showlegend": false,
         "type": "scatter",
         "x": [
          "Federal-gov",
          "Local-gov",
          "Private",
          "Self-emp-inc",
          "Self-emp-not-in*",
          "State-gov",
          "Without-pay"
         ],
         "xaxis": "x2",
         "y": [
          -0.0661906125521346,
          -0.027158663160595918,
          0.008042181241473781,
          -0.08892326660043985,
          0.021032061214958472,
          -0.012334221612841298,
          0.00522903298113378
         ],
         "yaxis": "y2"
        },
        {
         "legendgroup": "1",
         "line": {
          "color": "#808080"
         },
         "mode": "lines",
         "opacity": 0.1,
         "showlegend": false,
         "type": "scatter",
         "x": [
          "Federal-gov",
          "Local-gov",
          "Private",
          "Self-emp-inc",
          "Self-emp-not-in*",
          "State-gov",
          "Without-pay"
         ],
         "xaxis": "x2",
         "y": [
          0.06619061255213463,
          0.027158663160595925,
          -0.008042181241473795,
          0.08892326660043989,
          -0.02103206121495846,
          0.012334221612841312,
          -0.005229032981133752
         ],
         "yaxis": "y2"
        },
        {
         "legendgroup": "0",
         "line": {
          "color": "#808080"
         },
         "mode": "lines",
         "opacity": 0.1,
         "showlegend": false,
         "type": "scatter",
         "x": [
          "Federal-gov",
          "Local-gov",
          "Private",
          "Self-emp-inc",
          "Self-emp-not-in*",
          "State-gov",
          "Without-pay"
         ],
         "xaxis": "x2",
         "y": [
          -0.058414716189534116,
          -0.008202815496262353,
          0.004487454732414853,
          -0.07604593040161864,
          0.023482968467869056,
          -0.002962589046034317,
          0.0016513050752265668
         ],
         "yaxis": "y2"
        },
        {
         "legendgroup": "1",
         "line": {
          "color": "#808080"
         },
         "mode": "lines",
         "opacity": 0.1,
         "showlegend": false,
         "type": "scatter",
         "x": [
          "Federal-gov",
          "Local-gov",
          "Private",
          "Self-emp-inc",
          "Self-emp-not-in*",
          "State-gov",
          "Without-pay"
         ],
         "xaxis": "x2",
         "y": [
          0.05841471618953415,
          0.008202815496262353,
          -0.004487454732414867,
          0.07604593040161865,
          -0.023482968467869028,
          0.0029625890460343307,
          -0.001651305075226539
         ],
         "yaxis": "y2"
        },
        {
         "legendgroup": "0",
         "legendgrouptitle": {
          "text": "0"
         },
         "name": "Education",
         "type": "scatter",
         "x": [
          "10th",
          "11th",
          "12th",
          "1st-4th",
          "5th-6th",
          "7th-8th",
          "9th",
          "Assoc-acdm",
          "Assoc-voc",
          "Bachelors",
          "Doctorate",
          "HS-grad",
          "Masters",
          "Preschool",
          "Prof-school",
          "Some-college"
         ],
         "xaxis": "x3",
         "y": [
          0.07466781266561029,
          0.07987234608965002,
          0.036847459249990916,
          0.05007222287742058,
          0.07321918137531111,
          0.08621634326633901,
          0.08326917353604651,
          0.004552357596796203,
          -0.00452283600085443,
          -0.07340536383587566,
          -0.1537037572860425,
          0.040781905102185656,
          -0.14044780725037578,
          0.0553625066426994,
          -0.1733430001821166,
          0.010628668467293378
         ],
         "yaxis": "y3"
        },
        {
         "legendgroup": "1",
         "legendgrouptitle": {
          "text": "1"
         },
         "name": "Education",
         "type": "scatter",
         "x": [
          "10th",
          "11th",
          "12th",
          "1st-4th",
          "5th-6th",
          "7th-8th",
          "9th",
          "Assoc-acdm",
          "Assoc-voc",
          "Bachelors",
          "Doctorate",
          "HS-grad",
          "Masters",
          "Preschool",
          "Prof-school",
          "Some-college"
         ],
         "xaxis": "x3",
         "y": [
          -0.07466781266561026,
          -0.07987234608964996,
          -0.03684745924999089,
          -0.05007222287742055,
          -0.07321918137531108,
          -0.08621634326633898,
          -0.08326917353604649,
          -0.004552357596796175,
          0.004522836000854458,
          0.07340536383587563,
          0.15370375728604252,
          -0.040781905102185656,
          0.14044780725037576,
          -0.055362506642699344,
          0.17334300018211662,
          -0.010628668467293378
         ],
         "yaxis": "y3"
        },
        {
         "legendgroup": "0",
         "line": {
          "color": "#808080"
         },
         "mode": "lines",
         "opacity": 0.1,
         "showlegend": false,
         "type": "scatter",
         "x": [
          "10th",
          "11th",
          "12th",
          "1st-4th",
          "5th-6th",
          "7th-8th",
          "9th",
          "Assoc-acdm",
          "Assoc-voc",
          "Bachelors",
          "Doctorate",
          "HS-grad",
          "Masters",
          "Preschool",
          "Prof-school",
          "Some-college"
         ],
         "xaxis": "x3",
         "y": [
          0.07604131259592689,
          0.06981079853178701,
          0.019650314972673527,
          0.04020029319545801,
          0.07390720635785217,
          0.08259133559032072,
          0.08141146480952188,
          0.004624342163918507,
          -0.001498837404951145,
          -0.07601613827579022,
          -0.11384653059167102,
          0.045495717858206636,
          -0.1503664505458583,
          0.03723203537680658,
          -0.18117183040268942,
          0.008769896061077864
         ],
         "yaxis": "y3"
        },
        {
         "legendgroup": "1",
         "line": {
          "color": "#808080"
         },
         "mode": "lines",
         "opacity": 0.1,
         "showlegend": false,
         "type": "scatter",
         "x": [
          "10th",
          "11th",
          "12th",
          "1st-4th",
          "5th-6th",
          "7th-8th",
          "9th",
          "Assoc-acdm",
          "Assoc-voc",
          "Bachelors",
          "Doctorate",
          "HS-grad",
          "Masters",
          "Preschool",
          "Prof-school",
          "Some-college"
         ],
         "xaxis": "x3",
         "y": [
          -0.07604131259592682,
          -0.06981079853178694,
          -0.019650314972673458,
          -0.04020029319545791,
          -0.07390720635785207,
          -0.08259133559032066,
          -0.08141146480952181,
          -0.004624342163918466,
          0.0014988374049511727,
          0.0760161382757902,
          0.113846530591671,
          -0.04549571785820662,
          0.15036645054585823,
          -0.03723203537680646,
          0.18117183040268942,
          -0.008769896061077864
         ],
         "yaxis": "y3"
        },
        {
         "legendgroup": "0",
         "line": {
          "color": "#808080"
         },
         "mode": "lines",
         "opacity": 0.1,
         "showlegend": false,
         "type": "scatter",
         "x": [
          "10th",
          "11th",
          "12th",
          "1st-4th",
          "5th-6th",
          "7th-8th",
          "9th",
          "Assoc-acdm",
          "Assoc-voc",
          "Bachelors",
          "Doctorate",
          "HS-grad",
          "Masters",
          "Preschool",
          "Prof-school",
          "Some-college"
         ],
         "xaxis": "x3",
         "y": [
          0.08600694907449125,
          0.09540375105952692,
          0.049983318042121694,
          0.02755390904011157,
          0.07273184408346231,
          0.08149086691318358,
          0.07306834996725176,
          0.010952228495660354,
          0.00015727185689035084,
          -0.07683153119555962,
          -0.14045649605794408,
          0.03945958920253487,
          -0.1420349315870957,
          0.03308528405786276,
          -0.15646577451342275,
          0.008976759480328278
         ],
         "yaxis": "y3"
        },
        {
         "legendgroup": "1",
         "line": {
          "color": "#808080"
         },
         "mode": "lines",
         "opacity": 0.1,
         "showlegend": false,
         "type": "scatter",
         "x": [
          "10th",
          "11th",
          "12th",
          "1st-4th",
          "5th-6th",
          "7th-8th",
          "9th",
          "Assoc-acdm",
          "Assoc-voc",
          "Bachelors",
          "Doctorate",
          "HS-grad",
          "Masters",
          "Preschool",
          "Prof-school",
          "Some-college"
         ],
         "xaxis": "x3",
         "y": [
          -0.08600694907449119,
          -0.09540375105952681,
          -0.04998331804212158,
          -0.027553909040111402,
          -0.07273184408346217,
          -0.08149086691318352,
          -0.07306834996725167,
          -0.010952228495660299,
          -0.00015727185689032308,
          0.0768315311955596,
          0.14045649605794408,
          -0.03945958920253487,
          0.14203493158709568,
          -0.03308528405786257,
          0.15646577451342278,
          -0.008976759480328278
         ],
         "yaxis": "y3"
        },
        {
         "legendgroup": "0",
         "line": {
          "color": "#808080"
         },
         "mode": "lines",
         "opacity": 0.1,
         "showlegend": false,
         "type": "scatter",
         "x": [
          "10th",
          "11th",
          "12th",
          "1st-4th",
          "5th-6th",
          "7th-8th",
          "9th",
          "Assoc-acdm",
          "Assoc-voc",
          "Bachelors",
          "Doctorate",
          "HS-grad",
          "Masters",
          "Preschool",
          "Prof-school",
          "Some-college"
         ],
         "xaxis": "x3",
         "y": [
          0.05643759994706472,
          0.05721711350712032,
          0.025442933086539152,
          0.038126066566068414,
          0.03864080176384445,
          0.09608653214958617,
          0.06017762944974568,
          -0.00420326897742844,
          0.004635617332558781,
          -0.06667860282044236,
          -0.11616100373571493,
          0.040074523507795265,
          -0.14013875231270279,
          0.028002989642991513,
          -0.1383537818657083,
          0.01011075123734885
         ],
         "yaxis": "y3"
        },
        {
         "legendgroup": "1",
         "line": {
          "color": "#808080"
         },
         "mode": "lines",
         "opacity": 0.1,
         "showlegend": false,
         "type": "scatter",
         "x": [
          "10th",
          "11th",
          "12th",
          "1st-4th",
          "5th-6th",
          "7th-8th",
          "9th",
          "Assoc-acdm",
          "Assoc-voc",
          "Bachelors",
          "Doctorate",
          "HS-grad",
          "Masters",
          "Preschool",
          "Prof-school",
          "Some-college"
         ],
         "xaxis": "x3",
         "y": [
          -0.05643759994706472,
          -0.05721711350712029,
          -0.025442933086539152,
          -0.03812606656606839,
          -0.03864080176384442,
          -0.09608653214958614,
          -0.060177629449745654,
          0.004203268977428495,
          -0.004635617332558753,
          0.06667860282044238,
          0.11616100373571502,
          -0.040074523507795265,
          0.14013875231270279,
          -0.028002989642991458,
          0.13835378186570835,
          -0.01011075123734885
         ],
         "yaxis": "y3"
        },
        {
         "legendgroup": "0",
         "line": {
          "color": "#808080"
         },
         "mode": "lines",
         "opacity": 0.1,
         "showlegend": false,
         "type": "scatter",
         "x": [
          "10th",
          "11th",
          "12th",
          "1st-4th",
          "5th-6th",
          "7th-8th",
          "9th",
          "Assoc-acdm",
          "Assoc-voc",
          "Bachelors",
          "Doctorate",
          "HS-grad",
          "Masters",
          "Preschool",
          "Prof-school",
          "Some-college"
         ],
         "xaxis": "x3",
         "y": [
          0.05596178911181049,
          0.051572625455071075,
          0.03156272682417163,
          0.056544193296202055,
          0.05622212694326548,
          0.08939258541821424,
          0.07082141584753732,
          0.0031894977085762666,
          -0.0010359643185382655,
          -0.07270592511891541,
          -0.08289423599177331,
          0.039826590950821694,
          -0.12945728105409382,
          0.047888750572962435,
          -0.1325797889424194,
          0.009347151844355903
         ],
         "yaxis": "y3"
        },
        {
         "legendgroup": "1",
         "line": {
          "color": "#808080"
         },
         "mode": "lines",
         "opacity": 0.1,
         "showlegend": false,
         "type": "scatter",
         "x": [
          "10th",
          "11th",
          "12th",
          "1st-4th",
          "5th-6th",
          "7th-8th",
          "9th",
          "Assoc-acdm",
          "Assoc-voc",
          "Bachelors",
          "Doctorate",
          "HS-grad",
          "Masters",
          "Preschool",
          "Prof-school",
          "Some-college"
         ],
         "xaxis": "x3",
         "y": [
          -0.0559617891118105,
          -0.05157262545507109,
          -0.03156272682417166,
          -0.05654419329620207,
          -0.05622212694326549,
          -0.08939258541821422,
          -0.07082141584753733,
          -0.0031894977085762527,
          0.0010359643185382655,
          0.07270592511891541,
          0.08289423599177335,
          -0.03982659095082172,
          0.12945728105409382,
          -0.04788875057296245,
          0.13257978894241942,
          -0.00934715184435593
         ],
         "yaxis": "y3"
        },
        {
         "legendgroup": "0",
         "line": {
          "color": "#808080"
         },
         "mode": "lines",
         "opacity": 0.1,
         "showlegend": false,
         "type": "scatter",
         "x": [
          "10th",
          "11th",
          "12th",
          "1st-4th",
          "5th-6th",
          "7th-8th",
          "9th",
          "Assoc-acdm",
          "Assoc-voc",
          "Bachelors",
          "Doctorate",
          "HS-grad",
          "Masters",
          "Preschool",
          "Prof-school",
          "Some-college"
         ],
         "xaxis": "x3",
         "y": [
          0.07801292375642069,
          0.07497371717352677,
          0.05095040479723159,
          0.0434064100707931,
          0.06843401377280744,
          0.08156563102881839,
          0.07548893769108272,
          -0.005134395277341525,
          -0.012755358120817128,
          -0.07980243870831934,
          -0.16996247174717147,
          0.04893333005642453,
          -0.15527005775562078,
          0.05491153827592132,
          -0.16040805768680502,
          0.010778472836735387
         ],
         "yaxis": "y3"
        },
        {
         "legendgroup": "1",
         "line": {
          "color": "#808080"
         },
         "mode": "lines",
         "opacity": 0.1,
         "showlegend": false,
         "type": "scatter",
         "x": [
          "10th",
          "11th",
          "12th",
          "1st-4th",
          "5th-6th",
          "7th-8th",
          "9th",
          "Assoc-acdm",
          "Assoc-voc",
          "Bachelors",
          "Doctorate",
          "HS-grad",
          "Masters",
          "Preschool",
          "Prof-school",
          "Some-college"
         ],
         "xaxis": "x3",
         "y": [
          -0.07801292375642069,
          -0.0749737171735268,
          -0.05095040479723162,
          -0.04340641007079313,
          -0.06843401377280747,
          -0.08156563102881839,
          -0.07548893769108275,
          0.005134395277341469,
          0.012755358120817073,
          0.07980243870831924,
          0.1699624717471714,
          -0.04893333005642461,
          0.15527005775562067,
          -0.05491153827592135,
          0.16040805768680497,
          -0.01077847283673547
         ],
         "yaxis": "y3"
        },
        {
         "legendgroup": "0",
         "line": {
          "color": "#808080"
         },
         "mode": "lines",
         "opacity": 0.1,
         "showlegend": false,
         "type": "scatter",
         "x": [
          "10th",
          "11th",
          "12th",
          "1st-4th",
          "5th-6th",
          "7th-8th",
          "9th",
          "Assoc-acdm",
          "Assoc-voc",
          "Bachelors",
          "Doctorate",
          "HS-grad",
          "Masters",
          "Preschool",
          "Prof-school",
          "Some-college"
         ],
         "xaxis": "x3",
         "y": [
          0.07915524803976517,
          0.0890254050260734,
          0.0465379927965216,
          0.07766187937603322,
          0.08912021837156517,
          0.09672807685368817,
          0.07921186461965121,
          -0.0038140283951115794,
          -0.012713245494859582,
          -0.0806696774063318,
          -0.15856345921383053,
          0.04307220463660638,
          -0.13631567394453456,
          0.06880208111203984,
          -0.14890494241371305,
          0.008525163705977001
         ],
         "yaxis": "y3"
        },
        {
         "legendgroup": "1",
         "line": {
          "color": "#808080"
         },
         "mode": "lines",
         "opacity": 0.1,
         "showlegend": false,
         "type": "scatter",
         "x": [
          "10th",
          "11th",
          "12th",
          "1st-4th",
          "5th-6th",
          "7th-8th",
          "9th",
          "Assoc-acdm",
          "Assoc-voc",
          "Bachelors",
          "Doctorate",
          "HS-grad",
          "Masters",
          "Preschool",
          "Prof-school",
          "Some-college"
         ],
         "xaxis": "x3",
         "y": [
          -0.07915524803976512,
          -0.08902540502607331,
          -0.04653799279652154,
          -0.07766187937603317,
          -0.08912021837156509,
          -0.09672807685368812,
          -0.07921186461965113,
          0.0038140283951116627,
          0.012713245494859637,
          0.08066967740633185,
          0.15856345921383058,
          -0.043072204636606354,
          0.1363156739445346,
          -0.06880208111203975,
          0.14890494241371313,
          -0.008525163705976974
         ],
         "yaxis": "y3"
        },
        {
         "legendgroup": "0",
         "line": {
          "color": "#808080"
         },
         "mode": "lines",
         "opacity": 0.1,
         "showlegend": false,
         "type": "scatter",
         "x": [
          "10th",
          "11th",
          "12th",
          "1st-4th",
          "5th-6th",
          "7th-8th",
          "9th",
          "Assoc-acdm",
          "Assoc-voc",
          "Bachelors",
          "Doctorate",
          "HS-grad",
          "Masters",
          "Preschool",
          "Prof-school",
          "Some-college"
         ],
         "xaxis": "x3",
         "y": [
          0.06458274369176759,
          0.07963354702604136,
          0.05702236462178267,
          0.06535218492840156,
          0.09023781186038937,
          0.08206163428353608,
          0.06568161076352252,
          -0.0062350994679498395,
          -0.009702440413956293,
          -0.0666635483182334,
          -0.21033712155001,
          0.041727402416367465,
          -0.14213399205604021,
          0.06334357561318849,
          -0.1562284716116499,
          0.009570005741087406
         ],
         "yaxis": "y3"
        },
        {
         "legendgroup": "1",
         "line": {
          "color": "#808080"
         },
         "mode": "lines",
         "opacity": 0.1,
         "showlegend": false,
         "type": "scatter",
         "x": [
          "10th",
          "11th",
          "12th",
          "1st-4th",
          "5th-6th",
          "7th-8th",
          "9th",
          "Assoc-acdm",
          "Assoc-voc",
          "Bachelors",
          "Doctorate",
          "HS-grad",
          "Masters",
          "Preschool",
          "Prof-school",
          "Some-college"
         ],
         "xaxis": "x3",
         "y": [
          -0.06458274369176761,
          -0.07963354702604133,
          -0.057022364621782645,
          -0.06535218492840153,
          -0.09023781186038934,
          -0.08206163428353605,
          -0.0656816107635225,
          0.006235099467949923,
          0.009702440413956348,
          0.06666354831823343,
          0.21033712155001008,
          -0.04172740241636749,
          0.14213399205604024,
          -0.06334357561318846,
          0.15622847161165,
          -0.009570005741087378
         ],
         "yaxis": "y3"
        },
        {
         "legendgroup": "0",
         "line": {
          "color": "#808080"
         },
         "mode": "lines",
         "opacity": 0.1,
         "showlegend": false,
         "type": "scatter",
         "x": [
          "10th",
          "11th",
          "12th",
          "1st-4th",
          "5th-6th",
          "7th-8th",
          "9th",
          "Assoc-acdm",
          "Assoc-voc",
          "Bachelors",
          "Doctorate",
          "HS-grad",
          "Masters",
          "Preschool",
          "Prof-school",
          "Some-college"
         ],
         "xaxis": "x3",
         "y": [
          0.09515964511860675,
          0.07273126011426836,
          0.0388532520982523,
          0.062087573915866195,
          0.06418834467288695,
          0.08774502190651706,
          0.08105828279957883,
          0.012978399843298127,
          -0.012925617812404228,
          -0.07122863690509948,
          -0.1660419363128378,
          0.03845793856119861,
          -0.1399757457811376,
          0.06101065083894311,
          -0.18785705769938776,
          0.013271908272866673
         ],
         "yaxis": "y3"
        },
        {
         "legendgroup": "1",
         "line": {
          "color": "#808080"
         },
         "mode": "lines",
         "opacity": 0.1,
         "showlegend": false,
         "type": "scatter",
         "x": [
          "10th",
          "11th",
          "12th",
          "1st-4th",
          "5th-6th",
          "7th-8th",
          "9th",
          "Assoc-acdm",
          "Assoc-voc",
          "Bachelors",
          "Doctorate",
          "HS-grad",
          "Masters",
          "Preschool",
          "Prof-school",
          "Some-college"
         ],
         "xaxis": "x3",
         "y": [
          -0.09515964511860675,
          -0.07273126011426834,
          -0.0388532520982523,
          -0.062087573915866195,
          -0.06418834467288695,
          -0.08774502190651706,
          -0.08105828279957883,
          -0.012978399843298127,
          0.012925617812404228,
          0.07122863690509942,
          0.1660419363128378,
          -0.03845793856119867,
          0.13997574578113756,
          -0.06101065083894311,
          0.18785705769938776,
          -0.013271908272866728
         ],
         "yaxis": "y3"
        },
        {
         "legendgroup": "0",
         "line": {
          "color": "#808080"
         },
         "mode": "lines",
         "opacity": 0.1,
         "showlegend": false,
         "type": "scatter",
         "x": [
          "10th",
          "11th",
          "12th",
          "1st-4th",
          "5th-6th",
          "7th-8th",
          "9th",
          "Assoc-acdm",
          "Assoc-voc",
          "Bachelors",
          "Doctorate",
          "HS-grad",
          "Masters",
          "Preschool",
          "Prof-school",
          "Some-college"
         ],
         "xaxis": "x3",
         "y": [
          0.09196715894189908,
          0.07662899216715172,
          0.048547825431030506,
          0.06984360068766968,
          0.07925766323826453,
          0.0871691673529234,
          0.08634549588723611,
          0.02117432449345011,
          -0.014042030682444667,
          -0.0628492835397589,
          -0.1556591242455211,
          0.03437288160706156,
          -0.11484228246970293,
          0.041290232009854155,
          -0.19989210634661916,
          0.004604301829159468
         ],
         "yaxis": "y3"
        },
        {
         "legendgroup": "1",
         "line": {
          "color": "#808080"
         },
         "mode": "lines",
         "opacity": 0.1,
         "showlegend": false,
         "type": "scatter",
         "x": [
          "10th",
          "11th",
          "12th",
          "1st-4th",
          "5th-6th",
          "7th-8th",
          "9th",
          "Assoc-acdm",
          "Assoc-voc",
          "Bachelors",
          "Doctorate",
          "HS-grad",
          "Masters",
          "Preschool",
          "Prof-school",
          "Some-college"
         ],
         "xaxis": "x3",
         "y": [
          -0.09196715894189902,
          -0.07662899216715166,
          -0.04854782543103048,
          -0.06984360068766965,
          -0.07925766323826447,
          -0.08716916735292335,
          -0.08634549588723608,
          -0.02117432449345008,
          0.014042030682444667,
          0.06284928353975888,
          0.15565912424552114,
          -0.03437288160706156,
          0.11484228246970293,
          -0.04129023200985413,
          0.1998921063466192,
          -0.004604301829159468
         ],
         "yaxis": "y3"
        },
        {
         "legendgroup": "0",
         "line": {
          "color": "#808080"
         },
         "mode": "lines",
         "opacity": 0.1,
         "showlegend": false,
         "type": "scatter",
         "x": [
          "10th",
          "11th",
          "12th",
          "1st-4th",
          "5th-6th",
          "7th-8th",
          "9th",
          "Assoc-acdm",
          "Assoc-voc",
          "Bachelors",
          "Doctorate",
          "HS-grad",
          "Masters",
          "Preschool",
          "Prof-school",
          "Some-college"
         ],
         "xaxis": "x3",
         "y": [
          0.06055041001619836,
          0.07680258766211052,
          0.034710522208417624,
          0.05418987022367548,
          0.06825325098434439,
          0.09124986158233668,
          0.0734148244833439,
          0.0036316204325465423,
          0.006486298887976999,
          -0.07099281590051114,
          -0.11024790270154063,
          0.038165377574176,
          -0.13616230274248847,
          0.04775424748390823,
          -0.16450587579266676,
          0.009253056996221531
         ],
         "yaxis": "y3"
        },
        {
         "legendgroup": "1",
         "line": {
          "color": "#808080"
         },
         "mode": "lines",
         "opacity": 0.1,
         "showlegend": false,
         "type": "scatter",
         "x": [
          "10th",
          "11th",
          "12th",
          "1st-4th",
          "5th-6th",
          "7th-8th",
          "9th",
          "Assoc-acdm",
          "Assoc-voc",
          "Bachelors",
          "Doctorate",
          "HS-grad",
          "Masters",
          "Preschool",
          "Prof-school",
          "Some-college"
         ],
         "xaxis": "x3",
         "y": [
          -0.06055041001619832,
          -0.07680258766211046,
          -0.03471052220841758,
          -0.05418987022367541,
          -0.06825325098434434,
          -0.09124986158233661,
          -0.07341482448334383,
          -0.0036316204325465284,
          -0.006486298887976985,
          0.0709928159005111,
          0.11024790270154064,
          -0.038165377574175985,
          0.13616230274248844,
          -0.04775424748390816,
          0.1645058757926668,
          -0.009253056996221531
         ],
         "yaxis": "y3"
        },
        {
         "legendgroup": "0",
         "legendgrouptitle": {
          "text": "0"
         },
         "name": "Occupation",
         "type": "scatter",
         "x": [
          "Adm-clerical",
          "Armed-Forces",
          "Craft-repair",
          "Exec-managerial",
          "Farming-fishing",
          "Handlers-cleane*",
          "Machine-op-insp*",
          "Other-service",
          "Priv-house-serv",
          "Prof-specialty",
          "Protective-serv",
          "Sales",
          "Tech-support",
          "Transport-movin*"
         ],
         "xaxis": "x4",
         "y": [
          -0.006806970770217073,
          0.003815940778016065,
          0.04182503348683304,
          -0.07136830997756966,
          0.10836803237867126,
          0.03994372112075335,
          0.030182386000242308,
          0.0441838452558696,
          0.027741304954049535,
          -0.03560246322931806,
          0.003564488219035343,
          -0.029821157292059176,
          -0.06482806789477638,
          0.05079723882543256
         ],
         "yaxis": "y4"
        },
        {
         "legendgroup": "1",
         "legendgrouptitle": {
          "text": "1"
         },
         "name": "Occupation",
         "type": "scatter",
         "x": [
          "Adm-clerical",
          "Armed-Forces",
          "Craft-repair",
          "Exec-managerial",
          "Farming-fishing",
          "Handlers-cleane*",
          "Machine-op-insp*",
          "Other-service",
          "Priv-house-serv",
          "Prof-specialty",
          "Protective-serv",
          "Sales",
          "Tech-support",
          "Transport-movin*"
         ],
         "xaxis": "x4",
         "y": [
          0.006806970770217094,
          -0.0038159407780160165,
          -0.04182503348683305,
          0.07136830997756964,
          -0.10836803237867124,
          -0.03994372112075331,
          -0.03018238600024232,
          -0.04418384525586956,
          -0.027741304954049487,
          0.03560246322931805,
          -0.003564488219035322,
          0.029821157292059156,
          0.06482806789477638,
          -0.050797238825432564
         ],
         "yaxis": "y4"
        },
        {
         "legendgroup": "0",
         "line": {
          "color": "#808080"
         },
         "mode": "lines",
         "opacity": 0.1,
         "showlegend": false,
         "type": "scatter",
         "x": [
          "Adm-clerical",
          "Armed-Forces",
          "Craft-repair",
          "Exec-managerial",
          "Farming-fishing",
          "Handlers-cleane*",
          "Machine-op-insp*",
          "Other-service",
          "Priv-house-serv",
          "Prof-specialty",
          "Protective-serv",
          "Sales",
          "Tech-support",
          "Transport-movin*"
         ],
         "xaxis": "x4",
         "y": [
          -0.024405543766676384,
          -0.008581910536447405,
          0.03313075604413794,
          -0.05525167578417808,
          0.0997683732782384,
          0.03477280026254384,
          0.036660983949938906,
          0.05179867152398929,
          0.03036974312578892,
          -0.021848035337074488,
          0.019134028557164375,
          -0.0362657548807852,
          -0.06346285543572125,
          0.03345724764928181
         ],
         "yaxis": "y4"
        },
        {
         "legendgroup": "1",
         "line": {
          "color": "#808080"
         },
         "mode": "lines",
         "opacity": 0.1,
         "showlegend": false,
         "type": "scatter",
         "x": [
          "Adm-clerical",
          "Armed-Forces",
          "Craft-repair",
          "Exec-managerial",
          "Farming-fishing",
          "Handlers-cleane*",
          "Machine-op-insp*",
          "Other-service",
          "Priv-house-serv",
          "Prof-specialty",
          "Protective-serv",
          "Sales",
          "Tech-support",
          "Transport-movin*"
         ],
         "xaxis": "x4",
         "y": [
          0.024405543766676432,
          0.008581910536447482,
          -0.03313075604413797,
          0.055251675784178014,
          -0.0997683732782384,
          -0.034772800262543785,
          -0.03666098394993887,
          -0.051798671523989245,
          -0.03036974312578887,
          0.021848035337074433,
          -0.01913402855716441,
          0.036265754880785206,
          0.06346285543572129,
          -0.03345724764928182
         ],
         "yaxis": "y4"
        },
        {
         "legendgroup": "0",
         "line": {
          "color": "#808080"
         },
         "mode": "lines",
         "opacity": 0.1,
         "showlegend": false,
         "type": "scatter",
         "x": [
          "Adm-clerical",
          "Armed-Forces",
          "Craft-repair",
          "Exec-managerial",
          "Farming-fishing",
          "Handlers-cleane*",
          "Machine-op-insp*",
          "Other-service",
          "Priv-house-serv",
          "Prof-specialty",
          "Protective-serv",
          "Sales",
          "Tech-support",
          "Transport-movin*"
         ],
         "xaxis": "x4",
         "y": [
          0.00702796478868143,
          0.009542048840767984,
          0.04384822039131996,
          -0.08081502627747081,
          0.11711240574913666,
          0.04393726054128513,
          0.03263840270500655,
          0.036957876093993904,
          0.031967502877404075,
          -0.03845887398367104,
          0.0067855295180473535,
          -0.031649530081812205,
          -0.06752121913386039,
          0.05126331376197785
         ],
         "yaxis": "y4"
        },
        {
         "legendgroup": "1",
         "line": {
          "color": "#808080"
         },
         "mode": "lines",
         "opacity": 0.1,
         "showlegend": false,
         "type": "scatter",
         "x": [
          "Adm-clerical",
          "Armed-Forces",
          "Craft-repair",
          "Exec-managerial",
          "Farming-fishing",
          "Handlers-cleane*",
          "Machine-op-insp*",
          "Other-service",
          "Priv-house-serv",
          "Prof-specialty",
          "Protective-serv",
          "Sales",
          "Tech-support",
          "Transport-movin*"
         ],
         "xaxis": "x4",
         "y": [
          -0.0070279647886814095,
          -0.009542048840767942,
          -0.04384822039132002,
          0.08081502627747081,
          -0.11711240574913664,
          -0.04393726054128508,
          -0.03263840270500657,
          -0.036957876093993876,
          -0.031967502877404026,
          0.03845887398367103,
          -0.006785529518047333,
          0.031649530081812184,
          0.06752121913386039,
          -0.05126331376197788
         ],
         "yaxis": "y4"
        },
        {
         "legendgroup": "0",
         "line": {
          "color": "#808080"
         },
         "mode": "lines",
         "opacity": 0.1,
         "showlegend": false,
         "type": "scatter",
         "x": [
          "Adm-clerical",
          "Armed-Forces",
          "Craft-repair",
          "Exec-managerial",
          "Farming-fishing",
          "Handlers-cleane*",
          "Machine-op-insp*",
          "Other-service",
          "Priv-house-serv",
          "Prof-specialty",
          "Protective-serv",
          "Sales",
          "Tech-support",
          "Transport-movin*"
         ],
         "xaxis": "x4",
         "y": [
          -0.010092192677652666,
          -0.0034983187765536446,
          0.044726154554661925,
          -0.08238847075905005,
          0.11510218998208416,
          0.04424793678822962,
          0.018353143285432503,
          0.04592617577480761,
          0.029056086331398497,
          -0.02398542901442283,
          0.007581168946066152,
          -0.031614400441241655,
          -0.07435057061754557,
          0.06083979848229207
         ],
         "yaxis": "y4"
        },
        {
         "legendgroup": "1",
         "line": {
          "color": "#808080"
         },
         "mode": "lines",
         "opacity": 0.1,
         "showlegend": false,
         "type": "scatter",
         "x": [
          "Adm-clerical",
          "Armed-Forces",
          "Craft-repair",
          "Exec-managerial",
          "Farming-fishing",
          "Handlers-cleane*",
          "Machine-op-insp*",
          "Other-service",
          "Priv-house-serv",
          "Prof-specialty",
          "Protective-serv",
          "Sales",
          "Tech-support",
          "Transport-movin*"
         ],
         "xaxis": "x4",
         "y": [
          0.010092192677652687,
          0.003498318776553707,
          -0.044726154554661945,
          0.08238847075905001,
          -0.11510218998208413,
          -0.04424793678822957,
          -0.018353143285432506,
          -0.04592617577480756,
          -0.029056086331398442,
          0.02398542901442281,
          -0.007581168946066138,
          0.03161440044124164,
          0.07435057061754557,
          -0.06083979848229207
         ],
         "yaxis": "y4"
        },
        {
         "legendgroup": "0",
         "line": {
          "color": "#808080"
         },
         "mode": "lines",
         "opacity": 0.1,
         "showlegend": false,
         "type": "scatter",
         "x": [
          "Adm-clerical",
          "Armed-Forces",
          "Craft-repair",
          "Exec-managerial",
          "Farming-fishing",
          "Handlers-cleane*",
          "Machine-op-insp*",
          "Other-service",
          "Priv-house-serv",
          "Prof-specialty",
          "Protective-serv",
          "Sales",
          "Tech-support",
          "Transport-movin*"
         ],
         "xaxis": "x4",
         "y": [
          -0.006749842359508401,
          0.0031280033025229484,
          0.03311680243074753,
          -0.057287762338352026,
          0.09766979894147931,
          0.04654807939583216,
          0.0385962182510512,
          0.043971259681199075,
          0.0352785330003389,
          -0.03734817819571428,
          0.010855379049542833,
          -0.031378747840445524,
          -0.08305483243649883,
          0.043956364826230616
         ],
         "yaxis": "y4"
        },
        {
         "legendgroup": "1",
         "line": {
          "color": "#808080"
         },
         "mode": "lines",
         "opacity": 0.1,
         "showlegend": false,
         "type": "scatter",
         "x": [
          "Adm-clerical",
          "Armed-Forces",
          "Craft-repair",
          "Exec-managerial",
          "Farming-fishing",
          "Handlers-cleane*",
          "Machine-op-insp*",
          "Other-service",
          "Priv-house-serv",
          "Prof-specialty",
          "Protective-serv",
          "Sales",
          "Tech-support",
          "Transport-movin*"
         ],
         "xaxis": "x4",
         "y": [
          0.006749842359508429,
          -0.003128003302522886,
          -0.033116802430747556,
          0.057287762338352,
          -0.09766979894147931,
          -0.04654807939583211,
          -0.038596218251051195,
          -0.04397125968119903,
          -0.03527853300033886,
          0.03734817819571425,
          -0.010855379049542833,
          0.03137874784044551,
          0.08305483243649883,
          -0.043956364826230644
         ],
         "yaxis": "y4"
        },
        {
         "legendgroup": "0",
         "line": {
          "color": "#808080"
         },
         "mode": "lines",
         "opacity": 0.1,
         "showlegend": false,
         "type": "scatter",
         "x": [
          "Adm-clerical",
          "Armed-Forces",
          "Craft-repair",
          "Exec-managerial",
          "Farming-fishing",
          "Handlers-cleane*",
          "Machine-op-insp*",
          "Other-service",
          "Priv-house-serv",
          "Prof-specialty",
          "Protective-serv",
          "Sales",
          "Tech-support",
          "Transport-movin*"
         ],
         "xaxis": "x4",
         "y": [
          0.004252439499983836,
          0.012442748505944987,
          0.04526569496726285,
          -0.08005797046359424,
          0.11151444721680011,
          0.04398949183666198,
          0.03773507978400738,
          0.051847628210320684,
          0.03824301089251157,
          -0.04416208098662605,
          -0.00963290479465019,
          -0.03612342012240928,
          -0.06478771594467171,
          0.04946587222920866
         ],
         "yaxis": "y4"
        },
        {
         "legendgroup": "1",
         "line": {
          "color": "#808080"
         },
         "mode": "lines",
         "opacity": 0.1,
         "showlegend": false,
         "type": "scatter",
         "x": [
          "Adm-clerical",
          "Armed-Forces",
          "Craft-repair",
          "Exec-managerial",
          "Farming-fishing",
          "Handlers-cleane*",
          "Machine-op-insp*",
          "Other-service",
          "Priv-house-serv",
          "Prof-specialty",
          "Protective-serv",
          "Sales",
          "Tech-support",
          "Transport-movin*"
         ],
         "xaxis": "x4",
         "y": [
          -0.004252439499983829,
          -0.012442748505944956,
          -0.04526569496726287,
          0.0800579704635942,
          -0.11151444721680008,
          -0.043989491836661954,
          -0.037735079784007405,
          -0.05184762821032068,
          -0.03824301089251156,
          0.04416208098662602,
          0.00963290479465019,
          0.03612342012240925,
          0.06478771594467173,
          -0.049465872229208674
         ],
         "yaxis": "y4"
        },
        {
         "legendgroup": "0",
         "line": {
          "color": "#808080"
         },
         "mode": "lines",
         "opacity": 0.1,
         "showlegend": false,
         "type": "scatter",
         "x": [
          "Adm-clerical",
          "Armed-Forces",
          "Craft-repair",
          "Exec-managerial",
          "Farming-fishing",
          "Handlers-cleane*",
          "Machine-op-insp*",
          "Other-service",
          "Priv-house-serv",
          "Prof-specialty",
          "Protective-serv",
          "Sales",
          "Tech-support",
          "Transport-movin*"
         ],
         "xaxis": "x4",
         "y": [
          -0.021234387421864547,
          -0.012974615146960695,
          0.05101691417995251,
          -0.06496661769022087,
          0.11290129887246159,
          0.019826653027530252,
          0.029208379060315155,
          0.0223837860147117,
          0.008651829485652431,
          -0.01909723753772347,
          0.014304883368548082,
          -0.022531506600244014,
          -0.08128695003216763,
          0.05239364124338991
         ],
         "yaxis": "y4"
        },
        {
         "legendgroup": "1",
         "line": {
          "color": "#808080"
         },
         "mode": "lines",
         "opacity": 0.1,
         "showlegend": false,
         "type": "scatter",
         "x": [
          "Adm-clerical",
          "Armed-Forces",
          "Craft-repair",
          "Exec-managerial",
          "Farming-fishing",
          "Handlers-cleane*",
          "Machine-op-insp*",
          "Other-service",
          "Priv-house-serv",
          "Prof-specialty",
          "Protective-serv",
          "Sales",
          "Tech-support",
          "Transport-movin*"
         ],
         "xaxis": "x4",
         "y": [
          0.02123438742186458,
          0.01297461514696074,
          -0.051016914179952536,
          0.06496661769022086,
          -0.11290129887246156,
          -0.019826653027530207,
          -0.02920837906031516,
          -0.022383786014711665,
          -0.008651829485652376,
          0.019097237537723456,
          -0.014304883368548082,
          0.02253150660024399,
          0.08128695003216761,
          -0.052393641243389924
         ],
         "yaxis": "y4"
        },
        {
         "legendgroup": "0",
         "line": {
          "color": "#808080"
         },
         "mode": "lines",
         "opacity": 0.1,
         "showlegend": false,
         "type": "scatter",
         "x": [
          "Adm-clerical",
          "Armed-Forces",
          "Craft-repair",
          "Exec-managerial",
          "Farming-fishing",
          "Handlers-cleane*",
          "Machine-op-insp*",
          "Other-service",
          "Priv-house-serv",
          "Prof-specialty",
          "Protective-serv",
          "Sales",
          "Tech-support",
          "Transport-movin*"
         ],
         "xaxis": "x4",
         "y": [
          -0.015525761490442321,
          -0.004192948043685089,
          0.05021676981856629,
          -0.07208560438645417,
          0.10035992103159157,
          0.02939199389798278,
          0.03547838327829743,
          0.025899505274997618,
          0.009899529712168297,
          -0.03048656745548346,
          0.012364045730393205,
          -0.020204192135682208,
          -0.06716777356465796,
          0.06006452175638981
         ],
         "yaxis": "y4"
        },
        {
         "legendgroup": "1",
         "line": {
          "color": "#808080"
         },
         "mode": "lines",
         "opacity": 0.1,
         "showlegend": false,
         "type": "scatter",
         "x": [
          "Adm-clerical",
          "Armed-Forces",
          "Craft-repair",
          "Exec-managerial",
          "Farming-fishing",
          "Handlers-cleane*",
          "Machine-op-insp*",
          "Other-service",
          "Priv-house-serv",
          "Prof-specialty",
          "Protective-serv",
          "Sales",
          "Tech-support",
          "Transport-movin*"
         ],
         "xaxis": "x4",
         "y": [
          0.015525761490442363,
          0.004192948043685151,
          -0.050216769818566334,
          0.07208560438645416,
          -0.10035992103159155,
          -0.029391993897982725,
          -0.03547838327829744,
          -0.02589950527499757,
          -0.009899529712168242,
          0.030486567455483445,
          -0.012364045730393191,
          0.020204192135682194,
          0.06716777356465796,
          -0.060064521756389835
         ],
         "yaxis": "y4"
        },
        {
         "legendgroup": "0",
         "line": {
          "color": "#808080"
         },
         "mode": "lines",
         "opacity": 0.1,
         "showlegend": false,
         "type": "scatter",
         "x": [
          "Adm-clerical",
          "Armed-Forces",
          "Craft-repair",
          "Exec-managerial",
          "Farming-fishing",
          "Handlers-cleane*",
          "Machine-op-insp*",
          "Other-service",
          "Priv-house-serv",
          "Prof-specialty",
          "Protective-serv",
          "Sales",
          "Tech-support",
          "Transport-movin*"
         ],
         "xaxis": "x4",
         "y": [
          -0.009457187480497849,
          0.006957782900609163,
          0.0479080313233806,
          -0.07385723704642433,
          0.09596057074796374,
          0.04662070901294968,
          0.04099181601145804,
          0.04082369641835483,
          0.03165746505713413,
          -0.036318175832924494,
          -0.0017164423520720715,
          -0.028044941402792213,
          -0.0602085910531557,
          0.0407010007783414
         ],
         "yaxis": "y4"
        },
        {
         "legendgroup": "1",
         "line": {
          "color": "#808080"
         },
         "mode": "lines",
         "opacity": 0.1,
         "showlegend": false,
         "type": "scatter",
         "x": [
          "Adm-clerical",
          "Armed-Forces",
          "Craft-repair",
          "Exec-managerial",
          "Farming-fishing",
          "Handlers-cleane*",
          "Machine-op-insp*",
          "Other-service",
          "Priv-house-serv",
          "Prof-specialty",
          "Protective-serv",
          "Sales",
          "Tech-support",
          "Transport-movin*"
         ],
         "xaxis": "x4",
         "y": [
          0.009457187480497876,
          -0.006957782900609121,
          -0.04790803132338059,
          0.0738572370464243,
          -0.09596057074796371,
          -0.04662070901294963,
          -0.04099181601145806,
          -0.04082369641835479,
          -0.03165746505713409,
          0.03631817583292447,
          0.0017164423520720853,
          0.028044941402792185,
          0.060208591053155715,
          -0.040701000778341385
         ],
         "yaxis": "y4"
        },
        {
         "legendgroup": "0",
         "line": {
          "color": "#808080"
         },
         "mode": "lines",
         "opacity": 0.1,
         "showlegend": false,
         "type": "scatter",
         "x": [
          "Adm-clerical",
          "Armed-Forces",
          "Craft-repair",
          "Exec-managerial",
          "Farming-fishing",
          "Handlers-cleane*",
          "Machine-op-insp*",
          "Other-service",
          "Priv-house-serv",
          "Prof-specialty",
          "Protective-serv",
          "Sales",
          "Tech-support",
          "Transport-movin*"
         ],
         "xaxis": "x4",
         "y": [
          -0.006454833766646576,
          0.0016609505587646851,
          0.06834386918252638,
          -0.07235003359302754,
          0.11373452386634512,
          0.03778288388929378,
          0.011166070135487875,
          0.03753882436931359,
          0.02178966933393707,
          -0.03903400519394731,
          -0.004180355843939304,
          -0.040258224507557935,
          -0.07079769580465088,
          0.06108231751737421
         ],
         "yaxis": "y4"
        },
        {
         "legendgroup": "1",
         "line": {
          "color": "#808080"
         },
         "mode": "lines",
         "opacity": 0.1,
         "showlegend": false,
         "type": "scatter",
         "x": [
          "Adm-clerical",
          "Armed-Forces",
          "Craft-repair",
          "Exec-managerial",
          "Farming-fishing",
          "Handlers-cleane*",
          "Machine-op-insp*",
          "Other-service",
          "Priv-house-serv",
          "Prof-specialty",
          "Protective-serv",
          "Sales",
          "Tech-support",
          "Transport-movin*"
         ],
         "xaxis": "x4",
         "y": [
          0.006454833766646639,
          -0.001660950558764595,
          -0.06834386918252641,
          0.07235003359302747,
          -0.11373452386634511,
          -0.0377828838892937,
          -0.011166070135487833,
          -0.037538824369313536,
          -0.021789669333936997,
          0.03903400519394726,
          0.00418035584393928,
          0.04025822450755795,
          0.07079769580465091,
          -0.06108231751737424
         ],
         "yaxis": "y4"
        },
        {
         "legendgroup": "0",
         "line": {
          "color": "#808080"
         },
         "mode": "lines",
         "opacity": 0.1,
         "showlegend": false,
         "type": "scatter",
         "x": [
          "Adm-clerical",
          "Armed-Forces",
          "Craft-repair",
          "Exec-managerial",
          "Farming-fishing",
          "Handlers-cleane*",
          "Machine-op-insp*",
          "Other-service",
          "Priv-house-serv",
          "Prof-specialty",
          "Protective-serv",
          "Sales",
          "Tech-support",
          "Transport-movin*"
         ],
         "xaxis": "x4",
         "y": [
          0.0032625449719588147,
          0.006166962033289272,
          0.054480939882728716,
          -0.0832283036656834,
          0.0995549748815327,
          0.044560578294185804,
          0.030468113193725183,
          0.04928613471284951,
          0.029981932736594802,
          -0.058744764414609796,
          -0.019026711844323668,
          -0.019961180216807928,
          -0.05619063226279086,
          0.05746667041683905
         ],
         "yaxis": "y4"
        },
        {
         "legendgroup": "1",
         "line": {
          "color": "#808080"
         },
         "mode": "lines",
         "opacity": 0.1,
         "showlegend": false,
         "type": "scatter",
         "x": [
          "Adm-clerical",
          "Armed-Forces",
          "Craft-repair",
          "Exec-managerial",
          "Farming-fishing",
          "Handlers-cleane*",
          "Machine-op-insp*",
          "Other-service",
          "Priv-house-serv",
          "Prof-specialty",
          "Protective-serv",
          "Sales",
          "Tech-support",
          "Transport-movin*"
         ],
         "xaxis": "x4",
         "y": [
          -0.00326254497195878,
          -0.006166962033289206,
          -0.05448093988272874,
          0.08322830366568337,
          -0.0995549748815327,
          -0.04456057829418576,
          -0.030468113193725176,
          -0.04928613471284947,
          -0.029981932736594767,
          0.058744764414609775,
          0.01902671184432366,
          0.01996118021680792,
          0.05619063226279087,
          -0.05746667041683908
         ],
         "yaxis": "y4"
        },
        {
         "legendgroup": "0",
         "legendgrouptitle": {
          "text": "0"
         },
         "name": "Relationsh*",
         "type": "scatter",
         "x": [
          "Married",
          "Not-in-family",
          "Other-relative",
          "Own-child",
          "Unmarried"
         ],
         "xaxis": "x5",
         "y": [
          -0.16733539473375256,
          0.1333666234187393,
          0.14347922305622493,
          0.16166535472624746,
          0.1384981562676836
         ],
         "yaxis": "y5"
        },
        {
         "legendgroup": "1",
         "legendgrouptitle": {
          "text": "1"
         },
         "name": "Relationsh*",
         "type": "scatter",
         "x": [
          "Married",
          "Not-in-family",
          "Other-relative",
          "Own-child",
          "Unmarried"
         ],
         "xaxis": "x5",
         "y": [
          0.16733539473375256,
          -0.13336662341873926,
          -0.14347922305622487,
          -0.1616653547262474,
          -0.13849815626768355
         ],
         "yaxis": "y5"
        },
        {
         "legendgroup": "0",
         "line": {
          "color": "#808080"
         },
         "mode": "lines",
         "opacity": 0.1,
         "showlegend": false,
         "type": "scatter",
         "x": [
          "Married",
          "Not-in-family",
          "Other-relative",
          "Own-child",
          "Unmarried"
         ],
         "xaxis": "x5",
         "y": [
          -0.16707274167216143,
          0.13330439146369702,
          0.13799829170582475,
          0.16101977388516134,
          0.14072407734218698
         ],
         "yaxis": "y5"
        },
        {
         "legendgroup": "1",
         "line": {
          "color": "#808080"
         },
         "mode": "lines",
         "opacity": 0.1,
         "showlegend": false,
         "type": "scatter",
         "x": [
          "Married",
          "Not-in-family",
          "Other-relative",
          "Own-child",
          "Unmarried"
         ],
         "xaxis": "x5",
         "y": [
          0.16707274167216138,
          -0.13330439146369702,
          -0.1379982917058247,
          -0.16101977388516128,
          -0.14072407734218692
         ],
         "yaxis": "y5"
        },
        {
         "legendgroup": "0",
         "line": {
          "color": "#808080"
         },
         "mode": "lines",
         "opacity": 0.1,
         "showlegend": false,
         "type": "scatter",
         "x": [
          "Married",
          "Not-in-family",
          "Other-relative",
          "Own-child",
          "Unmarried"
         ],
         "xaxis": "x5",
         "y": [
          -0.16866677243419065,
          0.12934442266738017,
          0.14962827273913076,
          0.16890390753974993,
          0.1431008043046304
         ],
         "yaxis": "y5"
        },
        {
         "legendgroup": "1",
         "line": {
          "color": "#808080"
         },
         "mode": "lines",
         "opacity": 0.1,
         "showlegend": false,
         "type": "scatter",
         "x": [
          "Married",
          "Not-in-family",
          "Other-relative",
          "Own-child",
          "Unmarried"
         ],
         "xaxis": "x5",
         "y": [
          0.1686667724341906,
          -0.12934442266738022,
          -0.1496282727391307,
          -0.16890390753974993,
          -0.1431008043046304
         ],
         "yaxis": "y5"
        },
        {
         "legendgroup": "0",
         "line": {
          "color": "#808080"
         },
         "mode": "lines",
         "opacity": 0.1,
         "showlegend": false,
         "type": "scatter",
         "x": [
          "Married",
          "Not-in-family",
          "Other-relative",
          "Own-child",
          "Unmarried"
         ],
         "xaxis": "x5",
         "y": [
          -0.16705434443493059,
          0.13523724113363692,
          0.14084194387119445,
          0.16008540591948098,
          0.13638548026130817
         ],
         "yaxis": "y5"
        },
        {
         "legendgroup": "1",
         "line": {
          "color": "#808080"
         },
         "mode": "lines",
         "opacity": 0.1,
         "showlegend": false,
         "type": "scatter",
         "x": [
          "Married",
          "Not-in-family",
          "Other-relative",
          "Own-child",
          "Unmarried"
         ],
         "xaxis": "x5",
         "y": [
          0.16705434443493059,
          -0.13523724113363692,
          -0.14084194387119445,
          -0.16008540591948098,
          -0.13638548026130817
         ],
         "yaxis": "y5"
        },
        {
         "legendgroup": "0",
         "line": {
          "color": "#808080"
         },
         "mode": "lines",
         "opacity": 0.1,
         "showlegend": false,
         "type": "scatter",
         "x": [
          "Married",
          "Not-in-family",
          "Other-relative",
          "Own-child",
          "Unmarried"
         ],
         "xaxis": "x5",
         "y": [
          -0.17397129184468837,
          0.13786322536603815,
          0.14595075909361224,
          0.16845960743214752,
          0.147109293344686
         ],
         "yaxis": "y5"
        },
        {
         "legendgroup": "1",
         "line": {
          "color": "#808080"
         },
         "mode": "lines",
         "opacity": 0.1,
         "showlegend": false,
         "type": "scatter",
         "x": [
          "Married",
          "Not-in-family",
          "Other-relative",
          "Own-child",
          "Unmarried"
         ],
         "xaxis": "x5",
         "y": [
          0.17397129184468837,
          -0.13786322536603815,
          -0.14595075909361224,
          -0.16845960743214752,
          -0.147109293344686
         ],
         "yaxis": "y5"
        },
        {
         "legendgroup": "0",
         "line": {
          "color": "#808080"
         },
         "mode": "lines",
         "opacity": 0.1,
         "showlegend": false,
         "type": "scatter",
         "x": [
          "Married",
          "Not-in-family",
          "Other-relative",
          "Own-child",
          "Unmarried"
         ],
         "xaxis": "x5",
         "y": [
          -0.16281528242619034,
          0.1268957587761209,
          0.14128850088403447,
          0.16162276097836867,
          0.13600957088437962
         ],
         "yaxis": "y5"
        },
        {
         "legendgroup": "1",
         "line": {
          "color": "#808080"
         },
         "mode": "lines",
         "opacity": 0.1,
         "showlegend": false,
         "type": "scatter",
         "x": [
          "Married",
          "Not-in-family",
          "Other-relative",
          "Own-child",
          "Unmarried"
         ],
         "xaxis": "x5",
         "y": [
          0.16281528242619034,
          -0.1268957587761209,
          -0.1412885008840344,
          -0.16162276097836867,
          -0.13600957088437962
         ],
         "yaxis": "y5"
        },
        {
         "legendgroup": "0",
         "line": {
          "color": "#808080"
         },
         "mode": "lines",
         "opacity": 0.1,
         "showlegend": false,
         "type": "scatter",
         "x": [
          "Married",
          "Not-in-family",
          "Other-relative",
          "Own-child",
          "Unmarried"
         ],
         "xaxis": "x5",
         "y": [
          -0.16564421549883407,
          0.13646790725851077,
          0.13843636948439314,
          0.15453443009177548,
          0.13563270253581466
         ],
         "yaxis": "y5"
        },
        {
         "legendgroup": "1",
         "line": {
          "color": "#808080"
         },
         "mode": "lines",
         "opacity": 0.1,
         "showlegend": false,
         "type": "scatter",
         "x": [
          "Married",
          "Not-in-family",
          "Other-relative",
          "Own-child",
          "Unmarried"
         ],
         "xaxis": "x5",
         "y": [
          0.16564421549883407,
          -0.13646790725851077,
          -0.13843636948439308,
          -0.15453443009177548,
          -0.13563270253581466
         ],
         "yaxis": "y5"
        },
        {
         "legendgroup": "0",
         "line": {
          "color": "#808080"
         },
         "mode": "lines",
         "opacity": 0.1,
         "showlegend": false,
         "type": "scatter",
         "x": [
          "Married",
          "Not-in-family",
          "Other-relative",
          "Own-child",
          "Unmarried"
         ],
         "xaxis": "x5",
         "y": [
          -0.1691184952236204,
          0.13758066572453678,
          0.14611640483404978,
          0.1590062220625151,
          0.1396964458514983
         ],
         "yaxis": "y5"
        },
        {
         "legendgroup": "1",
         "line": {
          "color": "#808080"
         },
         "mode": "lines",
         "opacity": 0.1,
         "showlegend": false,
         "type": "scatter",
         "x": [
          "Married",
          "Not-in-family",
          "Other-relative",
          "Own-child",
          "Unmarried"
         ],
         "xaxis": "x5",
         "y": [
          0.1691184952236204,
          -0.13758066572453678,
          -0.14611640483404972,
          -0.15900622206251505,
          -0.13969644585149824
         ],
         "yaxis": "y5"
        },
        {
         "legendgroup": "0",
         "line": {
          "color": "#808080"
         },
         "mode": "lines",
         "opacity": 0.1,
         "showlegend": false,
         "type": "scatter",
         "x": [
          "Married",
          "Not-in-family",
          "Other-relative",
          "Own-child",
          "Unmarried"
         ],
         "xaxis": "x5",
         "y": [
          -0.17670467868785486,
          0.13937336300067357,
          0.1532743405036365,
          0.17030815925217083,
          0.1507209090060783
         ],
         "yaxis": "y5"
        },
        {
         "legendgroup": "1",
         "line": {
          "color": "#808080"
         },
         "mode": "lines",
         "opacity": 0.1,
         "showlegend": false,
         "type": "scatter",
         "x": [
          "Married",
          "Not-in-family",
          "Other-relative",
          "Own-child",
          "Unmarried"
         ],
         "xaxis": "x5",
         "y": [
          0.17670467868785483,
          -0.13937336300067354,
          -0.15327434050363647,
          -0.1703081592521708,
          -0.15072090900607826
         ],
         "yaxis": "y5"
        },
        {
         "legendgroup": "0",
         "line": {
          "color": "#808080"
         },
         "mode": "lines",
         "opacity": 0.1,
         "showlegend": false,
         "type": "scatter",
         "x": [
          "Married",
          "Not-in-family",
          "Other-relative",
          "Own-child",
          "Unmarried"
         ],
         "xaxis": "x5",
         "y": [
          -0.16686716263336235,
          0.13459986485479888,
          0.13841080568746186,
          0.1592082726615194,
          0.13905539963561211
         ],
         "yaxis": "y5"
        },
        {
         "legendgroup": "1",
         "line": {
          "color": "#808080"
         },
         "mode": "lines",
         "opacity": 0.1,
         "showlegend": false,
         "type": "scatter",
         "x": [
          "Married",
          "Not-in-family",
          "Other-relative",
          "Own-child",
          "Unmarried"
         ],
         "xaxis": "x5",
         "y": [
          0.16686716263336235,
          -0.13459986485479888,
          -0.13841080568746186,
          -0.1592082726615194,
          -0.13905539963561211
         ],
         "yaxis": "y5"
        },
        {
         "legendgroup": "0",
         "line": {
          "color": "#808080"
         },
         "mode": "lines",
         "opacity": 0.1,
         "showlegend": false,
         "type": "scatter",
         "x": [
          "Married",
          "Not-in-family",
          "Other-relative",
          "Own-child",
          "Unmarried"
         ],
         "xaxis": "x5",
         "y": [
          -0.16563017044574777,
          0.1334804872832497,
          0.13917855028009105,
          0.1572882195562029,
          0.13885028894251036
         ],
         "yaxis": "y5"
        },
        {
         "legendgroup": "1",
         "line": {
          "color": "#808080"
         },
         "mode": "lines",
         "opacity": 0.1,
         "showlegend": false,
         "type": "scatter",
         "x": [
          "Married",
          "Not-in-family",
          "Other-relative",
          "Own-child",
          "Unmarried"
         ],
         "xaxis": "x5",
         "y": [
          0.16563017044574777,
          -0.1334804872832497,
          -0.13917855028009105,
          -0.1572882195562029,
          -0.13885028894251036
         ],
         "yaxis": "y5"
        },
        {
         "legendgroup": "0",
         "legendgrouptitle": {
          "text": "0"
         },
         "name": "Race",
         "type": "scatter",
         "x": [
          "Amer-Indian-Esk*",
          "Asian-Pac-Islan*",
          "Black",
          "Other",
          "White"
         ],
         "xaxis": "x6",
         "y": [
          0.03034541094490347,
          0.0018047786967613846,
          0.02834042797898231,
          0.03223247769937248,
          -0.0037574379441693215
         ],
         "yaxis": "y6"
        },
        {
         "legendgroup": "1",
         "legendgrouptitle": {
          "text": "1"
         },
         "name": "Race",
         "type": "scatter",
         "x": [
          "Amer-Indian-Esk*",
          "Asian-Pac-Islan*",
          "Black",
          "Other",
          "White"
         ],
         "xaxis": "x6",
         "y": [
          -0.030345410944903436,
          -0.0018047786967613534,
          -0.02834042797898227,
          -0.032232477699372444,
          0.0037574379441693215
         ],
         "yaxis": "y6"
        },
        {
         "legendgroup": "0",
         "line": {
          "color": "#808080"
         },
         "mode": "lines",
         "opacity": 0.1,
         "showlegend": false,
         "type": "scatter",
         "x": [
          "Amer-Indian-Esk*",
          "Asian-Pac-Islan*",
          "Black",
          "Other",
          "White"
         ],
         "xaxis": "x6",
         "y": [
          0.031157784113029493,
          0.00446257633873921,
          0.021440585158797907,
          0.020413941717520773,
          -0.00297801432552745
         ],
         "yaxis": "y6"
        },
        {
         "legendgroup": "1",
         "line": {
          "color": "#808080"
         },
         "mode": "lines",
         "opacity": 0.1,
         "showlegend": false,
         "type": "scatter",
         "x": [
          "Amer-Indian-Esk*",
          "Asian-Pac-Islan*",
          "Black",
          "Other",
          "White"
         ],
         "xaxis": "x6",
         "y": [
          -0.03115778411302946,
          -0.004462576338739185,
          -0.02144058515879788,
          -0.020413941717520746,
          0.0029780143255274463
         ],
         "yaxis": "y6"
        },
        {
         "legendgroup": "0",
         "line": {
          "color": "#808080"
         },
         "mode": "lines",
         "opacity": 0.1,
         "showlegend": false,
         "type": "scatter",
         "x": [
          "Amer-Indian-Esk*",
          "Asian-Pac-Islan*",
          "Black",
          "Other",
          "White"
         ],
         "xaxis": "x6",
         "y": [
          0.025624912336056176,
          0.0002148681145623041,
          0.025283817823230734,
          0.035923140904875125,
          -0.003324591295125051
         ],
         "yaxis": "y6"
        },
        {
         "legendgroup": "1",
         "line": {
          "color": "#808080"
         },
         "mode": "lines",
         "opacity": 0.1,
         "showlegend": false,
         "type": "scatter",
         "x": [
          "Amer-Indian-Esk*",
          "Asian-Pac-Islan*",
          "Black",
          "Other",
          "White"
         ],
         "xaxis": "x6",
         "y": [
          -0.025624912336056148,
          -0.00021486811456227634,
          -0.02528381782323071,
          -0.035923140904875105,
          0.003324591295125051
         ],
         "yaxis": "y6"
        },
        {
         "legendgroup": "0",
         "line": {
          "color": "#808080"
         },
         "mode": "lines",
         "opacity": 0.1,
         "showlegend": false,
         "type": "scatter",
         "x": [
          "Amer-Indian-Esk*",
          "Asian-Pac-Islan*",
          "Black",
          "Other",
          "White"
         ],
         "xaxis": "x6",
         "y": [
          0.026680393880046137,
          -0.00015451239172831893,
          0.0352828230552394,
          0.03887489310228466,
          -0.004429230898776379
         ],
         "yaxis": "y6"
        },
        {
         "legendgroup": "1",
         "line": {
          "color": "#808080"
         },
         "mode": "lines",
         "opacity": 0.1,
         "showlegend": false,
         "type": "scatter",
         "x": [
          "Amer-Indian-Esk*",
          "Asian-Pac-Islan*",
          "Black",
          "Other",
          "White"
         ],
         "xaxis": "x6",
         "y": [
          -0.026680393880046106,
          0.00015451239172835363,
          -0.03528282305523937,
          -0.03887489310228463,
          0.004429230898776379
         ],
         "yaxis": "y6"
        },
        {
         "legendgroup": "0",
         "line": {
          "color": "#808080"
         },
         "mode": "lines",
         "opacity": 0.1,
         "showlegend": false,
         "type": "scatter",
         "x": [
          "Amer-Indian-Esk*",
          "Asian-Pac-Islan*",
          "Black",
          "Other",
          "White"
         ],
         "xaxis": "x6",
         "y": [
          0.032893625690356865,
          0.006105035098088223,
          0.019522054499541835,
          0.03090456376792272,
          -0.0029384739980142585
         ],
         "yaxis": "y6"
        },
        {
         "legendgroup": "1",
         "line": {
          "color": "#808080"
         },
         "mode": "lines",
         "opacity": 0.1,
         "showlegend": false,
         "type": "scatter",
         "x": [
          "Amer-Indian-Esk*",
          "Asian-Pac-Islan*",
          "Black",
          "Other",
          "White"
         ],
         "xaxis": "x6",
         "y": [
          -0.03289362569035684,
          -0.0061050350980882025,
          -0.019522054499541808,
          -0.03090456376792269,
          0.002938473998014255
         ],
         "yaxis": "y6"
        },
        {
         "legendgroup": "0",
         "line": {
          "color": "#808080"
         },
         "mode": "lines",
         "opacity": 0.1,
         "showlegend": false,
         "type": "scatter",
         "x": [
          "Amer-Indian-Esk*",
          "Asian-Pac-Islan*",
          "Black",
          "Other",
          "White"
         ],
         "xaxis": "x6",
         "y": [
          0.027064097169743895,
          0.0005095622996239418,
          0.025707964630254675,
          0.034263519122019796,
          -0.003381090230897013
         ],
         "yaxis": "y6"
        },
        {
         "legendgroup": "1",
         "line": {
          "color": "#808080"
         },
         "mode": "lines",
         "opacity": 0.1,
         "showlegend": false,
         "type": "scatter",
         "x": [
          "Amer-Indian-Esk*",
          "Asian-Pac-Islan*",
          "Black",
          "Other",
          "White"
         ],
         "xaxis": "x6",
         "y": [
          -0.02706409716974386,
          -0.0005095622996239141,
          -0.02570796463025464,
          -0.03426351912201977,
          0.003381090230897006
         ],
         "yaxis": "y6"
        },
        {
         "legendgroup": "0",
         "line": {
          "color": "#808080"
         },
         "mode": "lines",
         "opacity": 0.1,
         "showlegend": false,
         "type": "scatter",
         "x": [
          "Amer-Indian-Esk*",
          "Asian-Pac-Islan*",
          "Black",
          "Other",
          "White"
         ],
         "xaxis": "x6",
         "y": [
          0.03269187881204846,
          0.0013284642992366195,
          0.036249808154817056,
          0.029233647643462878,
          -0.004563142082775095
         ],
         "yaxis": "y6"
        },
        {
         "legendgroup": "1",
         "line": {
          "color": "#808080"
         },
         "mode": "lines",
         "opacity": 0.1,
         "showlegend": false,
         "type": "scatter",
         "x": [
          "Amer-Indian-Esk*",
          "Asian-Pac-Islan*",
          "Black",
          "Other",
          "White"
         ],
         "xaxis": "x6",
         "y": [
          -0.03269187881204843,
          -0.0013284642992365918,
          -0.03624980815481702,
          -0.02923364764346285,
          0.004563142082775088
         ],
         "yaxis": "y6"
        },
        {
         "legendgroup": "0",
         "line": {
          "color": "#808080"
         },
         "mode": "lines",
         "opacity": 0.1,
         "showlegend": false,
         "type": "scatter",
         "x": [
          "Amer-Indian-Esk*",
          "Asian-Pac-Islan*",
          "Black",
          "Other",
          "White"
         ],
         "xaxis": "x6",
         "y": [
          0.029373276386767993,
          0.0008672843300749355,
          0.036867678526653444,
          0.027081224890536885,
          -0.00456014100369195
         ],
         "yaxis": "y6"
        },
        {
         "legendgroup": "1",
         "line": {
          "color": "#808080"
         },
         "mode": "lines",
         "opacity": 0.1,
         "showlegend": false,
         "type": "scatter",
         "x": [
          "Amer-Indian-Esk*",
          "Asian-Pac-Islan*",
          "Black",
          "Other",
          "White"
         ],
         "xaxis": "x6",
         "y": [
          -0.029373276386767958,
          -0.0008672843300749113,
          -0.03686767852665341,
          -0.027081224890536854,
          0.004560141003691946
         ],
         "yaxis": "y6"
        },
        {
         "legendgroup": "0",
         "line": {
          "color": "#808080"
         },
         "mode": "lines",
         "opacity": 0.1,
         "showlegend": false,
         "type": "scatter",
         "x": [
          "Amer-Indian-Esk*",
          "Asian-Pac-Islan*",
          "Black",
          "Other",
          "White"
         ],
         "xaxis": "x6",
         "y": [
          0.029251092128457622,
          -0.001447795920285301,
          0.03958552226675288,
          0.04226976936128286,
          -0.004906085073757754
         ],
         "yaxis": "y6"
        },
        {
         "legendgroup": "1",
         "line": {
          "color": "#808080"
         },
         "mode": "lines",
         "opacity": 0.1,
         "showlegend": false,
         "type": "scatter",
         "x": [
          "Amer-Indian-Esk*",
          "Asian-Pac-Islan*",
          "Black",
          "Other",
          "White"
         ],
         "xaxis": "x6",
         "y": [
          -0.029251092128457595,
          0.0014477959202853358,
          -0.03958552226675286,
          -0.042269769361282836,
          0.004906085073757754
         ],
         "yaxis": "y6"
        },
        {
         "legendgroup": "0",
         "line": {
          "color": "#808080"
         },
         "mode": "lines",
         "opacity": 0.1,
         "showlegend": false,
         "type": "scatter",
         "x": [
          "Amer-Indian-Esk*",
          "Asian-Pac-Islan*",
          "Black",
          "Other",
          "White"
         ],
         "xaxis": "x6",
         "y": [
          0.030273619559034334,
          0.0006035540861725752,
          0.0299046620548567,
          0.028588962404897486,
          -0.0038213670721442966
         ],
         "yaxis": "y6"
        },
        {
         "legendgroup": "1",
         "line": {
          "color": "#808080"
         },
         "mode": "lines",
         "opacity": 0.1,
         "showlegend": false,
         "type": "scatter",
         "x": [
          "Amer-Indian-Esk*",
          "Asian-Pac-Islan*",
          "Black",
          "Other",
          "White"
         ],
         "xaxis": "x6",
         "y": [
          -0.030273619559034307,
          -0.0006035540861725544,
          -0.029904662054856663,
          -0.02858896240489746,
          0.0038213670721442897
         ],
         "yaxis": "y6"
        },
        {
         "legendgroup": "0",
         "line": {
          "color": "#808080"
         },
         "mode": "lines",
         "opacity": 0.1,
         "showlegend": false,
         "type": "scatter",
         "x": [
          "Amer-Indian-Esk*",
          "Asian-Pac-Islan*",
          "Black",
          "Other",
          "White"
         ],
         "xaxis": "x6",
         "y": [
          0.028099703118166425,
          -0.002328455930785421,
          0.03168264011771349,
          0.03625161918306167,
          -0.003956463639392574
         ],
         "yaxis": "y6"
        },
        {
         "legendgroup": "1",
         "line": {
          "color": "#808080"
         },
         "mode": "lines",
         "opacity": 0.1,
         "showlegend": false,
         "type": "scatter",
         "x": [
          "Amer-Indian-Esk*",
          "Asian-Pac-Islan*",
          "Black",
          "Other",
          "White"
         ],
         "xaxis": "x6",
         "y": [
          -0.028099703118166394,
          0.002328455930785442,
          -0.03168264011771345,
          -0.03625161918306164,
          0.003956463639392567
         ],
         "yaxis": "y6"
        },
        {
         "legendgroup": "0",
         "legendgrouptitle": {
          "text": "0"
         },
         "name": "Sex",
         "type": "scatter",
         "x": [
          "Female",
          "Male"
         ],
         "xaxis": "x7",
         "y": [
          -0.0019259155662021859,
          0.0014119481139121361
         ],
         "yaxis": "y7"
        },
        {
         "legendgroup": "1",
         "legendgrouptitle": {
          "text": "1"
         },
         "name": "Sex",
         "type": "scatter",
         "x": [
          "Female",
          "Male"
         ],
         "xaxis": "x7",
         "y": [
          0.00192591556620219,
          -0.001411948113912139
         ],
         "yaxis": "y7"
        },
        {
         "legendgroup": "0",
         "line": {
          "color": "#808080"
         },
         "mode": "lines",
         "opacity": 0.1,
         "showlegend": false,
         "type": "scatter",
         "x": [
          "Female",
          "Male"
         ],
         "xaxis": "x7",
         "y": [
          0.00021042013858285776,
          -0.000154273550053294
         ],
         "yaxis": "y7"
        },
        {
         "legendgroup": "1",
         "line": {
          "color": "#808080"
         },
         "mode": "lines",
         "opacity": 0.1,
         "showlegend": false,
         "type": "scatter",
         "x": [
          "Female",
          "Male"
         ],
         "xaxis": "x7",
         "y": [
          -0.0002104201385828539,
          0.00015427355005329116
         ],
         "yaxis": "y7"
        },
        {
         "legendgroup": "0",
         "line": {
          "color": "#808080"
         },
         "mode": "lines",
         "opacity": 0.1,
         "showlegend": false,
         "type": "scatter",
         "x": [
          "Female",
          "Male"
         ],
         "xaxis": "x7",
         "y": [
          -0.00587614247209428,
          0.00430820626720553
         ],
         "yaxis": "y7"
        },
        {
         "legendgroup": "1",
         "line": {
          "color": "#808080"
         },
         "mode": "lines",
         "opacity": 0.1,
         "showlegend": false,
         "type": "scatter",
         "x": [
          "Female",
          "Male"
         ],
         "xaxis": "x7",
         "y": [
          0.005876142472094287,
          -0.004308206267205535
         ],
         "yaxis": "y7"
        },
        {
         "legendgroup": "0",
         "line": {
          "color": "#808080"
         },
         "mode": "lines",
         "opacity": 0.1,
         "showlegend": false,
         "type": "scatter",
         "x": [
          "Female",
          "Male"
         ],
         "xaxis": "x7",
         "y": [
          0.0021270100622010593,
          -0.0015594581179577635
         ],
         "yaxis": "y7"
        },
        {
         "legendgroup": "1",
         "line": {
          "color": "#808080"
         },
         "mode": "lines",
         "opacity": 0.1,
         "showlegend": false,
         "type": "scatter",
         "x": [
          "Female",
          "Male"
         ],
         "xaxis": "x7",
         "y": [
          -0.0021270100622010537,
          0.0015594581179577596
         ],
         "yaxis": "y7"
        },
        {
         "legendgroup": "0",
         "line": {
          "color": "#808080"
         },
         "mode": "lines",
         "opacity": 0.1,
         "showlegend": false,
         "type": "scatter",
         "x": [
          "Female",
          "Male"
         ],
         "xaxis": "x7",
         "y": [
          -0.003944699675732396,
          0.002892132031505525
         ],
         "yaxis": "y7"
        },
        {
         "legendgroup": "1",
         "line": {
          "color": "#808080"
         },
         "mode": "lines",
         "opacity": 0.1,
         "showlegend": false,
         "type": "scatter",
         "x": [
          "Female",
          "Male"
         ],
         "xaxis": "x7",
         "y": [
          0.003944699675732398,
          -0.002892132031505527
         ],
         "yaxis": "y7"
        },
        {
         "legendgroup": "0",
         "line": {
          "color": "#808080"
         },
         "mode": "lines",
         "opacity": 0.1,
         "showlegend": false,
         "type": "scatter",
         "x": [
          "Female",
          "Male"
         ],
         "xaxis": "x7",
         "y": [
          -0.001249955769048032,
          0.0009164289844087424
         ],
         "yaxis": "y7"
        },
        {
         "legendgroup": "1",
         "line": {
          "color": "#808080"
         },
         "mode": "lines",
         "opacity": 0.1,
         "showlegend": false,
         "type": "scatter",
         "x": [
          "Female",
          "Male"
         ],
         "xaxis": "x7",
         "y": [
          0.0012499557690480339,
          -0.0009164289844087439
         ],
         "yaxis": "y7"
        },
        {
         "legendgroup": "0",
         "line": {
          "color": "#808080"
         },
         "mode": "lines",
         "opacity": 0.1,
         "showlegend": false,
         "type": "scatter",
         "x": [
          "Female",
          "Male"
         ],
         "xaxis": "x7",
         "y": [
          0.0008611913930818691,
          -0.0006313989448959774
         ],
         "yaxis": "y7"
        },
        {
         "legendgroup": "1",
         "line": {
          "color": "#808080"
         },
         "mode": "lines",
         "opacity": 0.1,
         "showlegend": false,
         "type": "scatter",
         "x": [
          "Female",
          "Male"
         ],
         "xaxis": "x7",
         "y": [
          -0.0008611913930818635,
          0.0006313989448959732
         ],
         "yaxis": "y7"
        },
        {
         "legendgroup": "0",
         "line": {
          "color": "#808080"
         },
         "mode": "lines",
         "opacity": 0.1,
         "showlegend": false,
         "type": "scatter",
         "x": [
          "Female",
          "Male"
         ],
         "xaxis": "x7",
         "y": [
          -0.0009034907198150698,
          0.0006624115054994647
         ],
         "yaxis": "y7"
        },
        {
         "legendgroup": "1",
         "line": {
          "color": "#808080"
         },
         "mode": "lines",
         "opacity": 0.1,
         "showlegend": false,
         "type": "scatter",
         "x": [
          "Female",
          "Male"
         ],
         "xaxis": "x7",
         "y": [
          0.0009034907198150743,
          -0.000662411505499468
         ],
         "yaxis": "y7"
        },
        {
         "legendgroup": "0",
         "line": {
          "color": "#808080"
         },
         "mode": "lines",
         "opacity": 0.1,
         "showlegend": false,
         "type": "scatter",
         "x": [
          "Female",
          "Male"
         ],
         "xaxis": "x7",
         "y": [
          -0.0023873526301151408,
          0.001750333252118369
         ],
         "yaxis": "y7"
        },
        {
         "legendgroup": "1",
         "line": {
          "color": "#808080"
         },
         "mode": "lines",
         "opacity": 0.1,
         "showlegend": false,
         "type": "scatter",
         "x": [
          "Female",
          "Male"
         ],
         "xaxis": "x7",
         "y": [
          0.0023873526301151464,
          -0.0017503332521183728
         ],
         "yaxis": "y7"
        },
        {
         "legendgroup": "0",
         "line": {
          "color": "#808080"
         },
         "mode": "lines",
         "opacity": 0.1,
         "showlegend": false,
         "type": "scatter",
         "x": [
          "Female",
          "Male"
         ],
         "xaxis": "x7",
         "y": [
          -0.0017242739874413359,
          0.0012641844601883308
         ],
         "yaxis": "y7"
        },
        {
         "legendgroup": "1",
         "line": {
          "color": "#808080"
         },
         "mode": "lines",
         "opacity": 0.1,
         "showlegend": false,
         "type": "scatter",
         "x": [
          "Female",
          "Male"
         ],
         "xaxis": "x7",
         "y": [
          0.0017242739874413404,
          -0.001264184460188334
         ],
         "yaxis": "y7"
        },
        {
         "legendgroup": "0",
         "line": {
          "color": "#808080"
         },
         "mode": "lines",
         "opacity": 0.1,
         "showlegend": false,
         "type": "scatter",
         "x": [
          "Female",
          "Male"
         ],
         "xaxis": "x7",
         "y": [
          -0.0026798294023220146,
          0.0019647681929009756
         ],
         "yaxis": "y7"
        },
        {
         "legendgroup": "1",
         "line": {
          "color": "#808080"
         },
         "mode": "lines",
         "opacity": 0.1,
         "showlegend": false,
         "type": "scatter",
         "x": [
          "Female",
          "Male"
         ],
         "xaxis": "x7",
         "y": [
          0.0026798294023220185,
          -0.0019647681929009786
         ],
         "yaxis": "y7"
        },
        {
         "legendgroup": "0",
         "legendgrouptitle": {
          "text": "0"
         },
         "name": "Hours per *",
         "type": "scatter",
         "x": [
          "BrainDrain",
          "FullTime",
          "MidTime",
          "OverTime",
          "PartTime"
         ],
         "xaxis": "x8",
         "y": [
          -0.04644632061909239,
          0.004402503637364413,
          0.04069208563391835,
          -0.04486637611411262,
          0.0677470754192453
         ],
         "yaxis": "y8"
        },
        {
         "legendgroup": "1",
         "legendgrouptitle": {
          "text": "1"
         },
         "name": "Hours per *",
         "type": "scatter",
         "x": [
          "BrainDrain",
          "FullTime",
          "MidTime",
          "OverTime",
          "PartTime"
         ],
         "xaxis": "x8",
         "y": [
          0.04644632061909242,
          -0.004402503637364427,
          -0.04069208563391833,
          0.04486637611411262,
          -0.06774707541924527
         ],
         "yaxis": "y8"
        },
        {
         "legendgroup": "0",
         "line": {
          "color": "#808080"
         },
         "mode": "lines",
         "opacity": 0.1,
         "showlegend": false,
         "type": "scatter",
         "x": [
          "BrainDrain",
          "FullTime",
          "MidTime",
          "OverTime",
          "PartTime"
         ],
         "xaxis": "x8",
         "y": [
          -0.044161491042590664,
          0.0031669121504350473,
          0.04091838459220988,
          -0.038670639521164514,
          0.05823859506126529
         ],
         "yaxis": "y8"
        },
        {
         "legendgroup": "1",
         "line": {
          "color": "#808080"
         },
         "mode": "lines",
         "opacity": 0.1,
         "showlegend": false,
         "type": "scatter",
         "x": [
          "BrainDrain",
          "FullTime",
          "MidTime",
          "OverTime",
          "PartTime"
         ],
         "xaxis": "x8",
         "y": [
          0.04416149104259069,
          -0.003166912150435061,
          -0.04091838459220987,
          0.03867063952116451,
          -0.05823859506126526
         ],
         "yaxis": "y8"
        },
        {
         "legendgroup": "0",
         "line": {
          "color": "#808080"
         },
         "mode": "lines",
         "opacity": 0.1,
         "showlegend": false,
         "type": "scatter",
         "x": [
          "BrainDrain",
          "FullTime",
          "MidTime",
          "OverTime",
          "PartTime"
         ],
         "xaxis": "x8",
         "y": [
          -0.031410103681782445,
          0.0020168625461544215,
          0.041214698331016805,
          -0.045582539727592936,
          0.06698315156307455
         ],
         "yaxis": "y8"
        },
        {
         "legendgroup": "1",
         "line": {
          "color": "#808080"
         },
         "mode": "lines",
         "opacity": 0.1,
         "showlegend": false,
         "type": "scatter",
         "x": [
          "BrainDrain",
          "FullTime",
          "MidTime",
          "OverTime",
          "PartTime"
         ],
         "xaxis": "x8",
         "y": [
          0.03141010368178248,
          -0.0020168625461544354,
          -0.0412146983310168,
          0.04558253972759293,
          -0.06698315156307452
         ],
         "yaxis": "y8"
        },
        {
         "legendgroup": "0",
         "line": {
          "color": "#808080"
         },
         "mode": "lines",
         "opacity": 0.1,
         "showlegend": false,
         "type": "scatter",
         "x": [
          "BrainDrain",
          "FullTime",
          "MidTime",
          "OverTime",
          "PartTime"
         ],
         "xaxis": "x8",
         "y": [
          -0.03810978713952169,
          0.003889864973438621,
          0.03872773735902482,
          -0.04145829908408145,
          0.05823076018017022
         ],
         "yaxis": "y8"
        },
        {
         "legendgroup": "1",
         "line": {
          "color": "#808080"
         },
         "mode": "lines",
         "opacity": 0.1,
         "showlegend": false,
         "type": "scatter",
         "x": [
          "BrainDrain",
          "FullTime",
          "MidTime",
          "OverTime",
          "PartTime"
         ],
         "xaxis": "x8",
         "y": [
          0.03810978713952171,
          -0.003889864973438635,
          -0.038727737359024815,
          0.04145829908408144,
          -0.0582307601801702
         ],
         "yaxis": "y8"
        },
        {
         "legendgroup": "0",
         "line": {
          "color": "#808080"
         },
         "mode": "lines",
         "opacity": 0.1,
         "showlegend": false,
         "type": "scatter",
         "x": [
          "BrainDrain",
          "FullTime",
          "MidTime",
          "OverTime",
          "PartTime"
         ],
         "xaxis": "x8",
         "y": [
          -0.03252339496780337,
          0.004223051415066986,
          0.03371862142187473,
          -0.04797202588365673,
          0.07096817619123746
         ],
         "yaxis": "y8"
        },
        {
         "legendgroup": "1",
         "line": {
          "color": "#808080"
         },
         "mode": "lines",
         "opacity": 0.1,
         "showlegend": false,
         "type": "scatter",
         "x": [
          "BrainDrain",
          "FullTime",
          "MidTime",
          "OverTime",
          "PartTime"
         ],
         "xaxis": "x8",
         "y": [
          0.03252339496780339,
          -0.004223051415066993,
          -0.03371862142187472,
          0.047972025883656726,
          -0.07096817619123745
         ],
         "yaxis": "y8"
        },
        {
         "legendgroup": "0",
         "line": {
          "color": "#808080"
         },
         "mode": "lines",
         "opacity": 0.1,
         "showlegend": false,
         "type": "scatter",
         "x": [
          "BrainDrain",
          "FullTime",
          "MidTime",
          "OverTime",
          "PartTime"
         ],
         "xaxis": "x8",
         "y": [
          -0.04806170845533648,
          0.006437378495903007,
          0.041986996410730594,
          -0.049212240968867255,
          0.06756267155865447
         ],
         "yaxis": "y8"
        },
        {
         "legendgroup": "1",
         "line": {
          "color": "#808080"
         },
         "mode": "lines",
         "opacity": 0.1,
         "showlegend": false,
         "type": "scatter",
         "x": [
          "BrainDrain",
          "FullTime",
          "MidTime",
          "OverTime",
          "PartTime"
         ],
         "xaxis": "x8",
         "y": [
          0.048061708455336506,
          -0.006437378495903014,
          -0.04198699641073058,
          0.04921224096886726,
          -0.06756267155865445
         ],
         "yaxis": "y8"
        },
        {
         "legendgroup": "0",
         "line": {
          "color": "#808080"
         },
         "mode": "lines",
         "opacity": 0.1,
         "showlegend": false,
         "type": "scatter",
         "x": [
          "BrainDrain",
          "FullTime",
          "MidTime",
          "OverTime",
          "PartTime"
         ],
         "xaxis": "x8",
         "y": [
          -0.039222098565998724,
          0.0018497043693133722,
          0.04107995245615204,
          -0.043065596451734536,
          0.06896374329191388
         ],
         "yaxis": "y8"
        },
        {
         "legendgroup": "1",
         "line": {
          "color": "#808080"
         },
         "mode": "lines",
         "opacity": 0.1,
         "showlegend": false,
         "type": "scatter",
         "x": [
          "BrainDrain",
          "FullTime",
          "MidTime",
          "OverTime",
          "PartTime"
         ],
         "xaxis": "x8",
         "y": [
          0.03922209856599876,
          -0.001849704369313393,
          -0.041079952456152036,
          0.043065596451734536,
          -0.06896374329191386
         ],
         "yaxis": "y8"
        },
        {
         "legendgroup": "0",
         "line": {
          "color": "#808080"
         },
         "mode": "lines",
         "opacity": 0.1,
         "showlegend": false,
         "type": "scatter",
         "x": [
          "BrainDrain",
          "FullTime",
          "MidTime",
          "OverTime",
          "PartTime"
         ],
         "xaxis": "x8",
         "y": [
          -0.04067569367091391,
          0.0034468900755750542,
          0.04444120224729535,
          -0.04478788714787107,
          0.06309989451099694
         ],
         "yaxis": "y8"
        },
        {
         "legendgroup": "1",
         "line": {
          "color": "#808080"
         },
         "mode": "lines",
         "opacity": 0.1,
         "showlegend": false,
         "type": "scatter",
         "x": [
          "BrainDrain",
          "FullTime",
          "MidTime",
          "OverTime",
          "PartTime"
         ],
         "xaxis": "x8",
         "y": [
          0.04067569367091393,
          -0.003446890075575075,
          -0.04444120224729533,
          0.04478788714787106,
          -0.0630998945109969
         ],
         "yaxis": "y8"
        },
        {
         "legendgroup": "0",
         "line": {
          "color": "#808080"
         },
         "mode": "lines",
         "opacity": 0.1,
         "showlegend": false,
         "type": "scatter",
         "x": [
          "BrainDrain",
          "FullTime",
          "MidTime",
          "OverTime",
          "PartTime"
         ],
         "xaxis": "x8",
         "y": [
          -0.042690246363688455,
          0.002887978265458356,
          0.04322779441805752,
          -0.04597764454072319,
          0.07091892847211886
         ],
         "yaxis": "y8"
        },
        {
         "legendgroup": "1",
         "line": {
          "color": "#808080"
         },
         "mode": "lines",
         "opacity": 0.1,
         "showlegend": false,
         "type": "scatter",
         "x": [
          "BrainDrain",
          "FullTime",
          "MidTime",
          "OverTime",
          "PartTime"
         ],
         "xaxis": "x8",
         "y": [
          0.04269024636368847,
          -0.00288797826545837,
          -0.043227794418057505,
          0.04597764454072318,
          -0.07091892847211884
         ],
         "yaxis": "y8"
        },
        {
         "legendgroup": "0",
         "line": {
          "color": "#808080"
         },
         "mode": "lines",
         "opacity": 0.1,
         "showlegend": false,
         "type": "scatter",
         "x": [
          "BrainDrain",
          "FullTime",
          "MidTime",
          "OverTime",
          "PartTime"
         ],
         "xaxis": "x8",
         "y": [
          -0.06247050865287662,
          0.0037696263828376486,
          0.04496211876483193,
          -0.04022082876032075,
          0.06926211092869192
         ],
         "yaxis": "y8"
        },
        {
         "legendgroup": "1",
         "line": {
          "color": "#808080"
         },
         "mode": "lines",
         "opacity": 0.1,
         "showlegend": false,
         "type": "scatter",
         "x": [
          "BrainDrain",
          "FullTime",
          "MidTime",
          "OverTime",
          "PartTime"
         ],
         "xaxis": "x8",
         "y": [
          0.06247050865287665,
          -0.0037696263828376625,
          -0.044962118764831915,
          0.04022082876032075,
          -0.06926211092869186
         ],
         "yaxis": "y8"
        },
        {
         "legendgroup": "0",
         "line": {
          "color": "#808080"
         },
         "mode": "lines",
         "opacity": 0.1,
         "showlegend": false,
         "type": "scatter",
         "x": [
          "BrainDrain",
          "FullTime",
          "MidTime",
          "OverTime",
          "PartTime"
         ],
         "xaxis": "x8",
         "y": [
          -0.04213854963838882,
          0.0035864989130954886,
          0.041991418428557144,
          -0.04442754329760126,
          0.06549891261351637
         ],
         "yaxis": "y8"
        },
        {
         "legendgroup": "1",
         "line": {
          "color": "#808080"
         },
         "mode": "lines",
         "opacity": 0.1,
         "showlegend": false,
         "type": "scatter",
         "x": [
          "BrainDrain",
          "FullTime",
          "MidTime",
          "OverTime",
          "PartTime"
         ],
         "xaxis": "x8",
         "y": [
          0.04213854963838884,
          -0.0035864989130954955,
          -0.04199141842855712,
          0.044427543297601256,
          -0.06549891261351634
         ],
         "yaxis": "y8"
        },
        {
         "legendgroup": "0",
         "legendgrouptitle": {
          "text": "0"
         },
         "name": "Country",
         "type": "scatter",
         "x": [
          "Cambodia",
          "Canada",
          "China",
          "Columbia",
          "Cuba",
          "Dominican-Repub*",
          "Ecuador",
          "El-Salvador",
          "England",
          "France",
          "Germany",
          "Greece",
          "Guatemala",
          "Haiti",
          "Honduras",
          "Hong",
          "Hungary",
          "India",
          "Iran",
          "Ireland",
          "Italy",
          "Jamaica",
          "Japan",
          "Laos",
          "Mexico",
          "Nicaragua",
          "Outlying-US(Gua*",
          "Peru",
          "Philippines",
          "Poland",
          "Portugal",
          "Puerto-Rico",
          "Scotland",
          "South",
          "Taiwan",
          "Thailand",
          "Trinadad&Tobago",
          "United-States",
          "Vietnam",
          "Yugoslavia"
         ],
         "xaxis": "x9",
         "y": [
          0.0026143851047359216,
          -0.005906617406783481,
          0.0344400006163969,
          0.0322214946532397,
          0.0035571966120852908,
          0.024831010082816414,
          0.013489632976321761,
          0.04576029758120148,
          -0.022476707418732735,
          0.013175769991282614,
          -0.026584655047806383,
          0.03081967646065481,
          0.016113587499832348,
          0.0015877177735898421,
          0.02323341318509061,
          0.026014881121794065,
          0.009774226986864275,
          0.0437419184724257,
          0.009991036828736394,
          -0.0009721635640601387,
          -0.012005900671219677,
          0.005305758437905378,
          -0.033879621956477125,
          0.0239379453105997,
          0.047200353523089364,
          0.03513612629119886,
          0.028016026766184546,
          0.027780513935399927,
          -0.010097366875936972,
          0.0332844109174484,
          0.00027571225686766516,
          0.014090073067605069,
          0.018745212987918442,
          0.06094175019038259,
          0.014119371484810087,
          0.023718912351826424,
          0.021660041254919236,
          -0.0018420158193180602,
          0.03137284887061257,
          0.008250296855875472
         ],
         "yaxis": "y9"
        },
        {
         "legendgroup": "1",
         "legendgrouptitle": {
          "text": "1"
         },
         "name": "Country",
         "type": "scatter",
         "x": [
          "Cambodia",
          "Canada",
          "China",
          "Columbia",
          "Cuba",
          "Dominican-Repub*",
          "Ecuador",
          "El-Salvador",
          "England",
          "France",
          "Germany",
          "Greece",
          "Guatemala",
          "Haiti",
          "Honduras",
          "Hong",
          "Hungary",
          "India",
          "Iran",
          "Ireland",
          "Italy",
          "Jamaica",
          "Japan",
          "Laos",
          "Mexico",
          "Nicaragua",
          "Outlying-US(Gua*",
          "Peru",
          "Philippines",
          "Poland",
          "Portugal",
          "Puerto-Rico",
          "Scotland",
          "South",
          "Taiwan",
          "Thailand",
          "Trinadad&Tobago",
          "United-States",
          "Vietnam",
          "Yugoslavia"
         ],
         "xaxis": "x9",
         "y": [
          -0.0026143851047359286,
          0.005906617406783509,
          -0.034440000616396904,
          -0.03222149465323966,
          -0.00355719661208527,
          -0.024831010082816386,
          -0.013489632976321728,
          -0.045760297581201426,
          0.02247670741873276,
          -0.013175769991282588,
          0.026584655047806407,
          -0.030819676460654796,
          -0.016113587499832292,
          -0.0015877177735898196,
          -0.023233413185090555,
          -0.02601488112179406,
          -0.009774226986864244,
          -0.0437419184724257,
          -0.009991036828736363,
          0.0009721635640601665,
          0.012005900671219712,
          -0.005305758437905357,
          0.03387962195647713,
          -0.02393794531059969,
          -0.04720035352308932,
          -0.03513612629119881,
          -0.028016026766184525,
          -0.02778051393539987,
          0.010097366875936976,
          -0.033284410917448395,
          -0.00027571225686764955,
          -0.01409007306760504,
          -0.018745212987918404,
          -0.06094175019038259,
          -0.014119371484810097,
          -0.023718912351826417,
          -0.02166004125491923,
          0.0018420158193180602,
          -0.03137284887061256,
          -0.008250296855875451
         ],
         "yaxis": "y9"
        },
        {
         "legendgroup": "0",
         "line": {
          "color": "#808080"
         },
         "mode": "lines",
         "opacity": 0.1,
         "showlegend": false,
         "type": "scatter",
         "x": [
          "Cambodia",
          "Canada",
          "China",
          "Columbia",
          "Cuba",
          "Dominican-Repub*",
          "Ecuador",
          "El-Salvador",
          "England",
          "France",
          "Germany",
          "Greece",
          "Guatemala",
          "Haiti",
          "Honduras",
          "Hong",
          "Hungary",
          "India",
          "Iran",
          "Ireland",
          "Italy",
          "Jamaica",
          "Japan",
          "Laos",
          "Mexico",
          "Nicaragua",
          "Outlying-US(Gua*",
          "Peru",
          "Philippines",
          "Poland",
          "Portugal",
          "Puerto-Rico",
          "Scotland",
          "South",
          "Taiwan",
          "Thailand",
          "Trinadad&Tobago",
          "United-States",
          "Vietnam",
          "Yugoslavia"
         ],
         "xaxis": "x9",
         "y": [
          -0.01100162540333697,
          0.0036526335676561623,
          0.006486469834758262,
          -0.19653566639387987,
          -0.032365220553237276,
          -0.2021395227818963,
          -0.21653566639387986,
          -0.2126789749469479,
          -0.009331294637784949,
          0.02105735191377689,
          -0.004491430878106934,
          0.046724018580443547,
          -0.1899742231083726,
          -0.019236917548217693,
          -0.18694882628297577,
          0.03180393015221853,
          -0.23375788861610206,
          -0.005430196831908393,
          0.0599125459498095,
          -0.2833299493877787,
          0.04225735191377691,
          0.009303637135194128,
          0.03890710475539311,
          0.03935948570777409,
          -0.1704923004686597,
          -0.20377885273800217,
          0.08619897988767974,
          -0.25152290035704983,
          -0.03053102193273355,
          0.05359980141697197,
          -0.27065603676425026,
          -0.20001267856406812,
          -0.2080056231761697,
          0.08400539535368373,
          0.015319803168091567,
          0.05650234285063123,
          0.038136970468527466,
          0.007177429843947775,
          0.017359485707774062,
          -0.035323275506104965
         ],
         "yaxis": "y9"
        },
        {
         "legendgroup": "1",
         "line": {
          "color": "#808080"
         },
         "mode": "lines",
         "opacity": 0.1,
         "showlegend": false,
         "type": "scatter",
         "x": [
          "Cambodia",
          "Canada",
          "China",
          "Columbia",
          "Cuba",
          "Dominican-Repub*",
          "Ecuador",
          "El-Salvador",
          "England",
          "France",
          "Germany",
          "Greece",
          "Guatemala",
          "Haiti",
          "Honduras",
          "Hong",
          "Hungary",
          "India",
          "Iran",
          "Ireland",
          "Italy",
          "Jamaica",
          "Japan",
          "Laos",
          "Mexico",
          "Nicaragua",
          "Outlying-US(Gua*",
          "Peru",
          "Philippines",
          "Poland",
          "Portugal",
          "Puerto-Rico",
          "Scotland",
          "South",
          "Taiwan",
          "Thailand",
          "Trinadad&Tobago",
          "United-States",
          "Vietnam",
          "Yugoslavia"
         ],
         "xaxis": "x9",
         "y": [
          0.011001625403336992,
          -0.003652633567656145,
          -0.006486469834758257,
          0.19653566639388004,
          0.03236522055323736,
          0.20213952278189645,
          0.21653566639388003,
          0.2126789749469481,
          0.00933129463778492,
          -0.021057351913776876,
          0.004491430878106948,
          -0.04672401858044353,
          0.18997422310837273,
          0.01923691754821765,
          0.1869488262829759,
          -0.03180393015221855,
          0.2337578886161022,
          0.00543019683190841,
          -0.05991254594980951,
          0.28332994938777895,
          -0.042257351913776886,
          -0.009303637135194191,
          -0.03890710475539318,
          -0.03935948570777412,
          0.17049230046865987,
          0.20377885273800236,
          -0.08619897988767979,
          0.25152290035705,
          0.03053102193273352,
          -0.053599801416971904,
          0.2706560367642504,
          0.2000126785640683,
          0.20800562317616986,
          -0.08400539535368377,
          -0.01531980316809158,
          -0.05650234285063125,
          -0.03813697046852751,
          -0.007177429843947784,
          -0.017359485707774118,
          0.035323275506105006
         ],
         "yaxis": "y9"
        },
        {
         "legendgroup": "0",
         "line": {
          "color": "#808080"
         },
         "mode": "lines",
         "opacity": 0.1,
         "showlegend": false,
         "type": "scatter",
         "x": [
          "Cambodia",
          "Canada",
          "China",
          "Columbia",
          "Cuba",
          "Dominican-Repub*",
          "Ecuador",
          "El-Salvador",
          "England",
          "France",
          "Germany",
          "Greece",
          "Guatemala",
          "Haiti",
          "Honduras",
          "Hong",
          "Hungary",
          "India",
          "Iran",
          "Ireland",
          "Italy",
          "Jamaica",
          "Japan",
          "Laos",
          "Mexico",
          "Nicaragua",
          "Outlying-US(Gua*",
          "Peru",
          "Philippines",
          "Poland",
          "Portugal",
          "Puerto-Rico",
          "Scotland",
          "South",
          "Taiwan",
          "Thailand",
          "Trinadad&Tobago",
          "United-States",
          "Vietnam",
          "Yugoslavia"
         ],
         "xaxis": "x9",
         "y": [
          -0.0015352881607313823,
          -0.0004994673080048612,
          -0.0004757643512075596,
          -0.1151958131409184,
          0.05360700285949613,
          -0.14619985292792192,
          -0.1550708131409184,
          -0.0932070217786637,
          -0.0951318263985038,
          0.017626844129337384,
          -0.06499267330771744,
          0.03590462190711517,
          -0.09907902292566484,
          0.038133433065132866,
          -0.09367377262041454,
          0.043172383796940605,
          -0.15219985292792193,
          0.02310756898212578,
          0.004579526654083559,
          -0.19143597281148075,
          0.05645382825632153,
          -0.03157090624634931,
          0.043639050463607346,
          0.03858666951122634,
          -0.09897037751223398,
          -0.09554083611247804,
          0.04201703094873076,
          -0.14328488373152568,
          -0.02892804447848768,
          0.0627958801427108,
          -0.11981352609142745,
          -0.1836033227630719,
          -0.13525394187245882,
          0.07724645787101465,
          -0.042023383398826636,
          0.05420571713027403,
          0.05895452665408356,
          0.004347625081092779,
          0.12267714570170254,
          0.00531393213582608
         ],
         "yaxis": "y9"
        },
        {
         "legendgroup": "1",
         "line": {
          "color": "#808080"
         },
         "mode": "lines",
         "opacity": 0.1,
         "showlegend": false,
         "type": "scatter",
         "x": [
          "Cambodia",
          "Canada",
          "China",
          "Columbia",
          "Cuba",
          "Dominican-Repub*",
          "Ecuador",
          "El-Salvador",
          "England",
          "France",
          "Germany",
          "Greece",
          "Guatemala",
          "Haiti",
          "Honduras",
          "Hong",
          "Hungary",
          "India",
          "Iran",
          "Ireland",
          "Italy",
          "Jamaica",
          "Japan",
          "Laos",
          "Mexico",
          "Nicaragua",
          "Outlying-US(Gua*",
          "Peru",
          "Philippines",
          "Poland",
          "Portugal",
          "Puerto-Rico",
          "Scotland",
          "South",
          "Taiwan",
          "Thailand",
          "Trinadad&Tobago",
          "United-States",
          "Vietnam",
          "Yugoslavia"
         ],
         "xaxis": "x9",
         "y": [
          0.0015352881607312158,
          0.0004994673080048889,
          0.0004757643512074,
          0.11519581314091838,
          -0.0536070028594961,
          0.1461998529279219,
          0.1550708131409184,
          0.0932070217786637,
          0.09513182639850386,
          -0.017626844129337356,
          0.06499267330771744,
          -0.03590462190711513,
          0.09907902292566488,
          -0.03813343306513288,
          0.09367377262041457,
          -0.043172383796940744,
          0.1521998529279219,
          -0.02310756898212593,
          -0.0045795266540836,
          0.19143597281148073,
          -0.05645382825632149,
          0.031570906246349326,
          -0.0436390504636074,
          -0.03858666951122647,
          0.09897037751223398,
          0.09554083611247804,
          -0.04201703094873076,
          0.14328488373152565,
          0.028928044478487527,
          -0.06279588014271077,
          0.11981352609142747,
          0.1836033227630719,
          0.1352539418724588,
          -0.0772464578710148,
          0.04202338339882644,
          -0.0542057171302741,
          -0.0589545266540836,
          -0.004347625081092772,
          -0.12267714570170268,
          -0.005313932135826066
         ],
         "yaxis": "y9"
        },
        {
         "legendgroup": "0",
         "line": {
          "color": "#808080"
         },
         "mode": "lines",
         "opacity": 0.1,
         "showlegend": false,
         "type": "scatter",
         "x": [
          "Cambodia",
          "Canada",
          "China",
          "Columbia",
          "Cuba",
          "Dominican-Repub*",
          "Ecuador",
          "El-Salvador",
          "England",
          "France",
          "Germany",
          "Greece",
          "Guatemala",
          "Haiti",
          "Honduras",
          "Hong",
          "Hungary",
          "India",
          "Iran",
          "Ireland",
          "Italy",
          "Jamaica",
          "Japan",
          "Laos",
          "Mexico",
          "Nicaragua",
          "Outlying-US(Gua*",
          "Peru",
          "Philippines",
          "Poland",
          "Portugal",
          "Puerto-Rico",
          "Scotland",
          "South",
          "Taiwan",
          "Thailand",
          "Trinadad&Tobago",
          "United-States",
          "Vietnam",
          "Yugoslavia"
         ],
         "xaxis": "x9",
         "y": [
          -0.03709153111524701,
          -0.00610006231820532,
          0.012029902647069136,
          0.09397466768357826,
          0.0032074658064831854,
          0.015714930563947953,
          0.009437152786170154,
          0.11820327196204544,
          -0.01868279915601269,
          0.014260777309794699,
          -0.04732528901319667,
          -0.029539222690205334,
          0.04778762761047344,
          -0.05454823763909823,
          0.04578762761047344,
          -0.0864097129334288,
          0.015964930563947953,
          0.024507225683509805,
          -0.0660451698500177,
          -0.02959919281267543,
          0.04800407567809307,
          -0.032762523353383935,
          -0.05742241134612723,
          -0.06755098277469862,
          0.11764905741819276,
          0.0837402190005648,
          -0.05454823763909823,
          0.11146090803375386,
          -0.12872564884936474,
          -0.02905729720827987,
          0.009437152786170154,
          0.0365525929016103,
          0.0828818838656405,
          0.05964908937537348,
          -0.05928662396357514,
          -0.05826526848898437,
          -0.04317919002005062,
          -0.0018898223159354854,
          -0.0848366970604129,
          0.00640080718732456
         ],
         "yaxis": "y9"
        },
        {
         "legendgroup": "1",
         "line": {
          "color": "#808080"
         },
         "mode": "lines",
         "opacity": 0.1,
         "showlegend": false,
         "type": "scatter",
         "x": [
          "Cambodia",
          "Canada",
          "China",
          "Columbia",
          "Cuba",
          "Dominican-Repub*",
          "Ecuador",
          "El-Salvador",
          "England",
          "France",
          "Germany",
          "Greece",
          "Guatemala",
          "Haiti",
          "Honduras",
          "Hong",
          "Hungary",
          "India",
          "Iran",
          "Ireland",
          "Italy",
          "Jamaica",
          "Japan",
          "Laos",
          "Mexico",
          "Nicaragua",
          "Outlying-US(Gua*",
          "Peru",
          "Philippines",
          "Poland",
          "Portugal",
          "Puerto-Rico",
          "Scotland",
          "South",
          "Taiwan",
          "Thailand",
          "Trinadad&Tobago",
          "United-States",
          "Vietnam",
          "Yugoslavia"
         ],
         "xaxis": "x9",
         "y": [
          0.03709153111524705,
          0.006100062318205347,
          -0.012029902647069074,
          -0.09397466768357819,
          -0.0032074658064831923,
          -0.015714930563947904,
          -0.009437152786170133,
          -0.11820327196204537,
          0.01868279915601271,
          -0.014260777309794678,
          0.047325289013196686,
          0.029539222690205313,
          -0.04778762761047335,
          0.05454823763909825,
          -0.04578762761047335,
          0.0864097129334289,
          -0.015964930563947904,
          -0.02450722568350973,
          0.06604516985001778,
          0.029599192812675465,
          -0.04800407567809303,
          0.03276252335338396,
          0.05742241134612726,
          0.06755098277469873,
          -0.11764905741819272,
          -0.08374021900056473,
          0.05454823763909825,
          -0.11146090803375379,
          0.12872564884936477,
          0.029057297208279834,
          -0.009437152786170133,
          -0.03655259290161024,
          -0.08288188386564042,
          -0.0596490893753734,
          0.059286623963575216,
          0.058265268488984445,
          0.043179190020050634,
          0.0018898223159354854,
          0.08483669706041302,
          -0.006400807187324567
         ],
         "yaxis": "y9"
        },
        {
         "legendgroup": "0",
         "line": {
          "color": "#808080"
         },
         "mode": "lines",
         "opacity": 0.1,
         "showlegend": false,
         "type": "scatter",
         "x": [
          "Cambodia",
          "Canada",
          "China",
          "Columbia",
          "Cuba",
          "Dominican-Repub*",
          "Ecuador",
          "El-Salvador",
          "England",
          "France",
          "Germany",
          "Greece",
          "Guatemala",
          "Haiti",
          "Honduras",
          "Hong",
          "Hungary",
          "India",
          "Iran",
          "Ireland",
          "Italy",
          "Jamaica",
          "Japan",
          "Laos",
          "Mexico",
          "Nicaragua",
          "Outlying-US(Gua*",
          "Peru",
          "Philippines",
          "Poland",
          "Portugal",
          "Puerto-Rico",
          "Scotland",
          "South",
          "Taiwan",
          "Thailand",
          "Trinadad&Tobago",
          "United-States",
          "Vietnam",
          "Yugoslavia"
         ],
         "xaxis": "x9",
         "y": [
          0.012118628438516195,
          -0.0020359446264179328,
          0.03924958081946858,
          -0.04375726595410871,
          -0.06429498397826401,
          -0.011923932620775377,
          -0.04375726595410871,
          -0.02470023949010809,
          -0.031945656551789936,
          0.015737050191068993,
          -0.029107898677221206,
          -0.016215364854203173,
          -0.04589658508488133,
          0.010031743405180545,
          -0.05149133477963104,
          0.019883779953667722,
          -0.04042393262077537,
          0.02892815224804001,
          0.014878810029032869,
          -0.0665537486380914,
          0.021691865530119418,
          0.006806486519209414,
          -0.08927121168177912,
          0.02641711328700107,
          -0.03242010721900328,
          -0.04315800144629771,
          0.003365076738513873,
          -0.0331580014462977,
          -0.05134984937996161,
          -0.00436745576429853,
          -0.04013407754831162,
          -0.02230632800317076,
          -0.05546522169082142,
          0.10609932829421605,
          0.02082214317774524,
          0.01570282757271535,
          0.019152619552842417,
          0.001663766580324643,
          0.0017028275727153375,
          -0.021553748638091393
         ],
         "yaxis": "y9"
        },
        {
         "legendgroup": "1",
         "line": {
          "color": "#808080"
         },
         "mode": "lines",
         "opacity": 0.1,
         "showlegend": false,
         "type": "scatter",
         "x": [
          "Cambodia",
          "Canada",
          "China",
          "Columbia",
          "Cuba",
          "Dominican-Repub*",
          "Ecuador",
          "El-Salvador",
          "England",
          "France",
          "Germany",
          "Greece",
          "Guatemala",
          "Haiti",
          "Honduras",
          "Hong",
          "Hungary",
          "India",
          "Iran",
          "Ireland",
          "Italy",
          "Jamaica",
          "Japan",
          "Laos",
          "Mexico",
          "Nicaragua",
          "Outlying-US(Gua*",
          "Peru",
          "Philippines",
          "Poland",
          "Portugal",
          "Puerto-Rico",
          "Scotland",
          "South",
          "Taiwan",
          "Thailand",
          "Trinadad&Tobago",
          "United-States",
          "Vietnam",
          "Yugoslavia"
         ],
         "xaxis": "x9",
         "y": [
          -0.012118628438516238,
          0.00203594462641795,
          -0.03924958081946861,
          0.04375726595410885,
          0.06429498397826411,
          0.011923932620775523,
          0.04375726595410885,
          0.02470023949010822,
          0.03194565655178998,
          -0.015737050191068976,
          0.029107898677221255,
          0.016215364854203215,
          0.045896585084881494,
          -0.010031743405180546,
          0.05149133477963119,
          -0.019883779953667736,
          0.040423932620775524,
          -0.028928152248040045,
          -0.014878810029032869,
          0.06655374863809152,
          -0.021691865530119373,
          -0.006806486519209376,
          0.08927121168177911,
          -0.02641711328700107,
          0.032420107219003416,
          0.04315800144629786,
          -0.00336507673851388,
          0.03315800144629785,
          0.05134984937996158,
          0.004367455764298599,
          0.04013407754831175,
          0.022306328003170905,
          0.05546522169082156,
          -0.10609932829421606,
          -0.02082214317774528,
          -0.015702827572715364,
          -0.019152619552842403,
          -0.0016637665803246465,
          -0.0017028275727153548,
          0.021553748638091477
         ],
         "yaxis": "y9"
        },
        {
         "legendgroup": "0",
         "line": {
          "color": "#808080"
         },
         "mode": "lines",
         "opacity": 0.1,
         "showlegend": false,
         "type": "scatter",
         "x": [
          "Cambodia",
          "Canada",
          "China",
          "Columbia",
          "Cuba",
          "Dominican-Repub*",
          "Ecuador",
          "El-Salvador",
          "England",
          "France",
          "Germany",
          "Greece",
          "Guatemala",
          "Haiti",
          "Honduras",
          "Hong",
          "Hungary",
          "India",
          "Iran",
          "Ireland",
          "Italy",
          "Jamaica",
          "Japan",
          "Laos",
          "Mexico",
          "Nicaragua",
          "Outlying-US(Gua*",
          "Peru",
          "Philippines",
          "Poland",
          "Portugal",
          "Puerto-Rico",
          "Scotland",
          "South",
          "Taiwan",
          "Thailand",
          "Trinadad&Tobago",
          "United-States",
          "Vietnam",
          "Yugoslavia"
         ],
         "xaxis": "x9",
         "y": [
          0.1259244626767329,
          -0.011288906771081908,
          0.21693911202112148,
          0.10899634387400725,
          -0.012591449785139985,
          0.084961621651785,
          0.09285051054067392,
          0.12328917182012317,
          -0.08030863703060226,
          0.007311278754349504,
          -0.03029426131798607,
          0.07393985134014314,
          0.06746384514062981,
          0.08773708745897851,
          0.06746384514062981,
          0.12925779601006626,
          0.07618384387400723,
          0.24910544278037314,
          0.16493241792216612,
          0.06652772915539251,
          -0.13141140025465725,
          0.026041295156043365,
          0.018398042469857545,
          0.14059112934339957,
          0.14425861594848255,
          0.10641391127819597,
          0.08773708745897851,
          0.1420260144527992,
          0.08493557378784403,
          -0.012152324508106882,
          0.09618384387400722,
          0.07913189582205918,
          0.09360658704378838,
          0.24145926121153144,
          0.2528186497821719,
          0.14859112934339963,
          0.1277419417316899,
          -0.008241206091938014,
          0.17759112934339957,
          0.00953106417345373
         ],
         "yaxis": "y9"
        },
        {
         "legendgroup": "1",
         "line": {
          "color": "#808080"
         },
         "mode": "lines",
         "opacity": 0.1,
         "showlegend": false,
         "type": "scatter",
         "x": [
          "Cambodia",
          "Canada",
          "China",
          "Columbia",
          "Cuba",
          "Dominican-Repub*",
          "Ecuador",
          "El-Salvador",
          "England",
          "France",
          "Germany",
          "Greece",
          "Guatemala",
          "Haiti",
          "Honduras",
          "Hong",
          "Hungary",
          "India",
          "Iran",
          "Ireland",
          "Italy",
          "Jamaica",
          "Japan",
          "Laos",
          "Mexico",
          "Nicaragua",
          "Outlying-US(Gua*",
          "Peru",
          "Philippines",
          "Poland",
          "Portugal",
          "Puerto-Rico",
          "Scotland",
          "South",
          "Taiwan",
          "Thailand",
          "Trinadad&Tobago",
          "United-States",
          "Vietnam",
          "Yugoslavia"
         ],
         "xaxis": "x9",
         "y": [
          -0.12592446267673296,
          0.011288906771081908,
          -0.21693911202112154,
          -0.10899634387400722,
          0.012591449785140152,
          -0.084961621651785,
          -0.09285051054067389,
          -0.12328917182012314,
          0.08030863703060226,
          -0.007311278754349476,
          0.03029426131798607,
          -0.07393985134014303,
          -0.06746384514062981,
          -0.08773708745897854,
          -0.06746384514062981,
          -0.12925779601006632,
          -0.07618384387400723,
          -0.2491054427803732,
          -0.16493241792216615,
          -0.06652772915539251,
          0.1314114002546573,
          -0.026041295156043365,
          -0.0183980424698576,
          -0.14059112934339962,
          -0.14425861594848252,
          -0.10641391127819594,
          -0.08773708745897854,
          -0.1420260144527991,
          -0.08493557378784408,
          0.012152324508106993,
          -0.09618384387400722,
          -0.07913189582205918,
          -0.09360658704378835,
          -0.24145926121153155,
          -0.2528186497821719,
          -0.14859112934339963,
          -0.12774194173168996,
          0.008241206091938014,
          -0.17759112934339966,
          -0.009531064173453563
         ],
         "yaxis": "y9"
        },
        {
         "legendgroup": "0",
         "line": {
          "color": "#808080"
         },
         "mode": "lines",
         "opacity": 0.1,
         "showlegend": false,
         "type": "scatter",
         "x": [
          "Cambodia",
          "Canada",
          "China",
          "Columbia",
          "Cuba",
          "Dominican-Repub*",
          "Ecuador",
          "El-Salvador",
          "England",
          "France",
          "Germany",
          "Greece",
          "Guatemala",
          "Haiti",
          "Honduras",
          "Hong",
          "Hungary",
          "India",
          "Iran",
          "Ireland",
          "Italy",
          "Jamaica",
          "Japan",
          "Laos",
          "Mexico",
          "Nicaragua",
          "Outlying-US(Gua*",
          "Peru",
          "Philippines",
          "Poland",
          "Portugal",
          "Puerto-Rico",
          "Scotland",
          "South",
          "Taiwan",
          "Thailand",
          "Trinadad&Tobago",
          "United-States",
          "Vietnam",
          "Yugoslavia"
         ],
         "xaxis": "x9",
         "y": [
          0.05214789408053324,
          -0.003237146637856743,
          0.05664202019251647,
          -0.005043466446610641,
          -0.0071149772085453145,
          -0.012195769236413419,
          -0.03710596644661066,
          -0.006908795707775563,
          -0.009880267730697945,
          0.014900047612571993,
          -0.025222035004818167,
          0.007010042379709612,
          -0.051583179342483826,
          -0.12228801501764688,
          -0.04224984600915049,
          -0.020086954404315203,
          -0.00813350372414788,
          0.08647355254904884,
          -0.02987562968324891,
          -0.04690216489830654,
          0.08681676771352714,
          -0.07248241249412016,
          -0.05820101336123133,
          -0.000442509959870753,
          0.004669456878280548,
          0.0016966298279786768,
          0.0321108453812135,
          -0.03300513701444148,
          -0.034642509959870754,
          0.030954977958836345,
          -0.070439299779944,
          -0.051374488785919194,
          -0.012408795707775592,
          0.14585875266639184,
          -0.0393916222854537,
          0.0018432043258435407,
          -0.04183396301658226,
          0.00029069567753118447,
          0.046647966230605444,
          0.008097835101693464
         ],
         "yaxis": "y9"
        },
        {
         "legendgroup": "1",
         "line": {
          "color": "#808080"
         },
         "mode": "lines",
         "opacity": 0.1,
         "showlegend": false,
         "type": "scatter",
         "x": [
          "Cambodia",
          "Canada",
          "China",
          "Columbia",
          "Cuba",
          "Dominican-Repub*",
          "Ecuador",
          "El-Salvador",
          "England",
          "France",
          "Germany",
          "Greece",
          "Guatemala",
          "Haiti",
          "Honduras",
          "Hong",
          "Hungary",
          "India",
          "Iran",
          "Ireland",
          "Italy",
          "Jamaica",
          "Japan",
          "Laos",
          "Mexico",
          "Nicaragua",
          "Outlying-US(Gua*",
          "Peru",
          "Philippines",
          "Poland",
          "Portugal",
          "Puerto-Rico",
          "Scotland",
          "South",
          "Taiwan",
          "Thailand",
          "Trinadad&Tobago",
          "United-States",
          "Vietnam",
          "Yugoslavia"
         ],
         "xaxis": "x9",
         "y": [
          -0.052147894080533296,
          0.0032371466378567776,
          -0.05664202019251655,
          0.005043466446610634,
          0.007114977208545245,
          0.01219576923641344,
          0.037105966446610635,
          0.0069087957077755766,
          0.009880267730697986,
          -0.014900047612571958,
          0.025222035004818184,
          -0.007010042379709584,
          0.051583179342483826,
          0.12228801501764691,
          0.04224984600915053,
          0.020086954404315217,
          0.008133503724147943,
          -0.0864735525490489,
          0.029875629683248917,
          0.04690216489830653,
          -0.08681676771352714,
          0.07248241249412024,
          0.05820101336123134,
          0.00044250995987076686,
          -0.004669456878280583,
          -0.001696629827978656,
          -0.03211084538121347,
          0.03300513701444153,
          0.034642509959870754,
          -0.03095497795883636,
          0.070439299779944,
          0.05137448878591918,
          0.012408795707775571,
          -0.14585875266639187,
          0.03939162228545363,
          -0.0018432043258435268,
          0.04183396301658228,
          -0.00029069567753117753,
          -0.04664796623060543,
          -0.008097835101693505
         ],
         "yaxis": "y9"
        },
        {
         "legendgroup": "0",
         "line": {
          "color": "#808080"
         },
         "mode": "lines",
         "opacity": 0.1,
         "showlegend": false,
         "type": "scatter",
         "x": [
          "Cambodia",
          "Canada",
          "China",
          "Columbia",
          "Cuba",
          "Dominican-Repub*",
          "Ecuador",
          "El-Salvador",
          "England",
          "France",
          "Germany",
          "Greece",
          "Guatemala",
          "Haiti",
          "Honduras",
          "Hong",
          "Hungary",
          "India",
          "Iran",
          "Ireland",
          "Italy",
          "Jamaica",
          "Japan",
          "Laos",
          "Mexico",
          "Nicaragua",
          "Outlying-US(Gua*",
          "Peru",
          "Philippines",
          "Poland",
          "Portugal",
          "Puerto-Rico",
          "Scotland",
          "South",
          "Taiwan",
          "Thailand",
          "Trinadad&Tobago",
          "United-States",
          "Vietnam",
          "Yugoslavia"
         ],
         "xaxis": "x9",
         "y": [
          -0.09494678832478048,
          0.001708169901134815,
          -0.07019678832478048,
          0.03473085890132238,
          -0.03436194308817597,
          0.06533951830040774,
          0.016008215803679282,
          0.03572362931604153,
          -0.060302556369585564,
          0.02025537422122406,
          -0.06871249028357078,
          0.012384548615800933,
          -0.00007807823566596817,
          -0.027357641923786424,
          -0.004649506807094528,
          -0.0269150097547666,
          0.00225821580367927,
          -0.07682774070573287,
          0.0043181822520377555,
          0.019278597530575592,
          -0.08302479890802028,
          -0.06741258697873148,
          -0.06896449251999873,
          -0.04199997707502803,
          0.055071679879073826,
          0.04334267693508917,
          -0.027357641923786424,
          0.019640656733068945,
          -0.10896175402356971,
          0.033229948922992664,
          -0.05811215456669111,
          0.05361684608757414,
          0.023210874214000726,
          -0.03869678832478052,
          -0.1616015502295424,
          0.008142880067829095,
          0.01931818225203774,
          0.0010171099609413148,
          -0.042999977075028034,
          0.0054847663617443865
         ],
         "yaxis": "y9"
        },
        {
         "legendgroup": "1",
         "line": {
          "color": "#808080"
         },
         "mode": "lines",
         "opacity": 0.1,
         "showlegend": false,
         "type": "scatter",
         "x": [
          "Cambodia",
          "Canada",
          "China",
          "Columbia",
          "Cuba",
          "Dominican-Repub*",
          "Ecuador",
          "El-Salvador",
          "England",
          "France",
          "Germany",
          "Greece",
          "Guatemala",
          "Haiti",
          "Honduras",
          "Hong",
          "Hungary",
          "India",
          "Iran",
          "Ireland",
          "Italy",
          "Jamaica",
          "Japan",
          "Laos",
          "Mexico",
          "Nicaragua",
          "Outlying-US(Gua*",
          "Peru",
          "Philippines",
          "Poland",
          "Portugal",
          "Puerto-Rico",
          "Scotland",
          "South",
          "Taiwan",
          "Thailand",
          "Trinadad&Tobago",
          "United-States",
          "Vietnam",
          "Yugoslavia"
         ],
         "xaxis": "x9",
         "y": [
          0.09494678832478046,
          -0.0017081699011348705,
          0.07019678832478045,
          -0.03473085890132227,
          0.03436194308817597,
          -0.06533951830040774,
          -0.01600821580367917,
          -0.03572362931604145,
          0.060302556369585605,
          -0.020255374221224115,
          0.06871249028357077,
          -0.012384548615800989,
          0.0000780782356661347,
          0.027357641923786424,
          0.004649506807094694,
          0.0269150097547666,
          -0.0022582158036792144,
          0.07682774070573282,
          -0.004318182252037728,
          -0.019278597530575592,
          0.08302479890802028,
          0.06741258697873147,
          0.06896449251999873,
          0.04199997707502806,
          -0.055071679879073715,
          -0.04334267693508906,
          0.027357641923786424,
          -0.019640656733068862,
          0.1089617540235697,
          -0.03322994892299269,
          0.05811215456669114,
          -0.05361684608757414,
          -0.023210874214000643,
          0.038696788324780435,
          0.1616015502295423,
          -0.008142880067829067,
          -0.01931818225203774,
          -0.001017109960941398,
          0.04299997707502806,
          -0.005484766361744414
         ],
         "yaxis": "y9"
        },
        {
         "legendgroup": "0",
         "line": {
          "color": "#808080"
         },
         "mode": "lines",
         "opacity": 0.1,
         "showlegend": false,
         "type": "scatter",
         "x": [
          "Cambodia",
          "Canada",
          "China",
          "Columbia",
          "Cuba",
          "Dominican-Repub*",
          "Ecuador",
          "El-Salvador",
          "England",
          "France",
          "Germany",
          "Greece",
          "Guatemala",
          "Haiti",
          "Honduras",
          "Hong",
          "Hungary",
          "India",
          "Iran",
          "Ireland",
          "Italy",
          "Jamaica",
          "Japan",
          "Laos",
          "Mexico",
          "Nicaragua",
          "Outlying-US(Gua*",
          "Peru",
          "Philippines",
          "Poland",
          "Portugal",
          "Puerto-Rico",
          "Scotland",
          "South",
          "Taiwan",
          "Thailand",
          "Trinadad&Tobago",
          "United-States",
          "Vietnam",
          "Yugoslavia"
         ],
         "xaxis": "x9",
         "y": [
          0.004414461930414462,
          -0.005799743203981696,
          0.11310595852905393,
          0.03901404751529215,
          0.06392672547569929,
          0.04382205816786558,
          0.041514047515292155,
          0.08602983353554729,
          -0.06309629698807138,
          0.014610058809032635,
          -0.06008078247303003,
          0.045375138174112026,
          0.037968538657585746,
          0.022077854257508467,
          0.032373788962836034,
          0.06033509685104939,
          0.03603975673515028,
          0.07210040297349839,
          -0.01695054184887501,
          0.05982769950167337,
          0.03212590276040292,
          0.0649982308958093,
          0.016437213253165786,
          0.05759435611030865,
          0.03284961942333471,
          0.03987378896283604,
          0.00541118759084179,
          0.03737378896283604,
          0.05326817042235826,
          0.058033868332842145,
          0.056818774727357815,
          0.007036979804703636,
          0.023861227835691612,
          0.06533509685104939,
          -0.04344166051856514,
          0.007594356110308655,
          0.008257791484458321,
          -0.002717509407005027,
          0.04959435611030867,
          0.04603386833284216
         ],
         "yaxis": "y9"
        },
        {
         "legendgroup": "1",
         "line": {
          "color": "#808080"
         },
         "mode": "lines",
         "opacity": 0.1,
         "showlegend": false,
         "type": "scatter",
         "x": [
          "Cambodia",
          "Canada",
          "China",
          "Columbia",
          "Cuba",
          "Dominican-Repub*",
          "Ecuador",
          "El-Salvador",
          "England",
          "France",
          "Germany",
          "Greece",
          "Guatemala",
          "Haiti",
          "Honduras",
          "Hong",
          "Hungary",
          "India",
          "Iran",
          "Ireland",
          "Italy",
          "Jamaica",
          "Japan",
          "Laos",
          "Mexico",
          "Nicaragua",
          "Outlying-US(Gua*",
          "Peru",
          "Philippines",
          "Poland",
          "Portugal",
          "Puerto-Rico",
          "Scotland",
          "South",
          "Taiwan",
          "Thailand",
          "Trinadad&Tobago",
          "United-States",
          "Vietnam",
          "Yugoslavia"
         ],
         "xaxis": "x9",
         "y": [
          -0.004414461930414455,
          0.0057997432039817234,
          -0.11310595852905392,
          -0.039014047515292034,
          -0.06392672547569925,
          -0.04382205816786552,
          -0.04151404751529204,
          -0.08602983353554722,
          0.06309629698807137,
          -0.014610058809032607,
          0.060080782473030045,
          -0.04537513817411195,
          -0.037968538657585656,
          -0.022077854257508432,
          -0.03237378896283596,
          -0.060335096851049395,
          -0.036039756735150204,
          -0.07210040297349837,
          0.016950541848875046,
          -0.05982769950167328,
          -0.03212590276040286,
          -0.06499823089580928,
          -0.016437213253165807,
          -0.05759435611030866,
          -0.03284961942333458,
          -0.039873788962835964,
          -0.005411187590841769,
          -0.03737378896283596,
          -0.05326817042235827,
          -0.05803386833284211,
          -0.056818774727357725,
          -0.00703697980470358,
          -0.023861227835691494,
          -0.06533509685104938,
          0.04344166051856511,
          -0.007594356110308655,
          -0.008257791484458314,
          0.0027175094070050337,
          -0.04959435611030865,
          -0.046033868332842114
         ],
         "yaxis": "y9"
        },
        {
         "legendgroup": "0",
         "line": {
          "color": "#808080"
         },
         "mode": "lines",
         "opacity": 0.1,
         "showlegend": false,
         "type": "scatter",
         "x": [
          "Cambodia",
          "Canada",
          "China",
          "Columbia",
          "Cuba",
          "Dominican-Repub*",
          "Ecuador",
          "El-Salvador",
          "England",
          "France",
          "Germany",
          "Greece",
          "Guatemala",
          "Haiti",
          "Honduras",
          "Hong",
          "Hungary",
          "India",
          "Iran",
          "Ireland",
          "Italy",
          "Jamaica",
          "Japan",
          "Laos",
          "Mexico",
          "Nicaragua",
          "Outlying-US(Gua*",
          "Peru",
          "Philippines",
          "Poland",
          "Portugal",
          "Puerto-Rico",
          "Scotland",
          "South",
          "Taiwan",
          "Thailand",
          "Trinadad&Tobago",
          "United-States",
          "Vietnam",
          "Yugoslavia"
         ],
         "xaxis": "x9",
         "y": [
          0.03812107839907228,
          0.00006410595090035331,
          0.040559173637167524,
          -0.13415273479215373,
          -0.04985161465349331,
          -0.036380984170719714,
          -0.14724202050643947,
          -0.11102179802567233,
          0.007191942760730929,
          0.02028427529075575,
          -0.02315896212557645,
          0.006380375578496876,
          -0.11187191424378953,
          0.06951212134305645,
          -0.10704521871709402,
          0.1004920825583118,
          -0.12160289111731001,
          0.0744226657006596,
          0.0022412533221884065,
          -0.15258286154136222,
          0.032893279341400655,
          0.07903593086686596,
          0.006762815093750214,
          0.0857628150937502,
          -0.12252564200229357,
          -0.13012524517212043,
          0.046178788009723096,
          -0.17161929279116805,
          0.07449841102803034,
          0.029716458206386263,
          -0.12828814426995458,
          -0.07495625876110842,
          -0.1462891289491923,
          0.2095243973023912,
          0.055937684015677926,
          0.08476281509375022,
          0.07646648642242154,
          0.0024138066657949306,
          0.12756757699851207,
          0.0034271473583727743
         ],
         "yaxis": "y9"
        },
        {
         "legendgroup": "1",
         "line": {
          "color": "#808080"
         },
         "mode": "lines",
         "opacity": 0.1,
         "showlegend": false,
         "type": "scatter",
         "x": [
          "Cambodia",
          "Canada",
          "China",
          "Columbia",
          "Cuba",
          "Dominican-Repub*",
          "Ecuador",
          "El-Salvador",
          "England",
          "France",
          "Germany",
          "Greece",
          "Guatemala",
          "Haiti",
          "Honduras",
          "Hong",
          "Hungary",
          "India",
          "Iran",
          "Ireland",
          "Italy",
          "Jamaica",
          "Japan",
          "Laos",
          "Mexico",
          "Nicaragua",
          "Outlying-US(Gua*",
          "Peru",
          "Philippines",
          "Poland",
          "Portugal",
          "Puerto-Rico",
          "Scotland",
          "South",
          "Taiwan",
          "Thailand",
          "Trinadad&Tobago",
          "United-States",
          "Vietnam",
          "Yugoslavia"
         ],
         "xaxis": "x9",
         "y": [
          -0.038121078399072306,
          -0.0000641059509003325,
          -0.04055917363716757,
          0.1341527347921537,
          0.04985161465349334,
          0.03638098417071973,
          0.14724202050643942,
          0.1110217980256723,
          -0.007191942760730867,
          -0.020284275290755736,
          0.023158962125576506,
          -0.006380375578496911,
          0.1118719142437895,
          -0.06951212134305641,
          0.10704521871709399,
          -0.10049208255831171,
          0.12160289111731004,
          -0.07442266570065961,
          -0.002241253322188351,
          0.15258286154136222,
          -0.032893279341400614,
          -0.07903593086686594,
          -0.006762815093750145,
          -0.08576281509375014,
          0.12252564200229354,
          0.13012524517212043,
          -0.04617878800972308,
          0.17161929279116805,
          -0.07449841102803029,
          -0.029716458206386277,
          0.1282881442699545,
          0.0749562587611084,
          0.14628912894919227,
          -0.20952439730239117,
          -0.055937684015677884,
          -0.08476281509375017,
          -0.07646648642242149,
          -0.0024138066657949306,
          -0.12756757699851207,
          -0.0034271473583727605
         ],
         "yaxis": "y9"
        },
        {
         "legendgroup": "0",
         "line": {
          "color": "#808080"
         },
         "mode": "lines",
         "opacity": 0.1,
         "showlegend": false,
         "type": "scatter",
         "x": [
          "Cambodia",
          "Canada",
          "China",
          "Columbia",
          "Cuba",
          "Dominican-Repub*",
          "Ecuador",
          "El-Salvador",
          "England",
          "France",
          "Germany",
          "Greece",
          "Guatemala",
          "Haiti",
          "Honduras",
          "Hong",
          "Hungary",
          "India",
          "Iran",
          "Ireland",
          "Italy",
          "Jamaica",
          "Japan",
          "Laos",
          "Mexico",
          "Nicaragua",
          "Outlying-US(Gua*",
          "Peru",
          "Philippines",
          "Poland",
          "Portugal",
          "Puerto-Rico",
          "Scotland",
          "South",
          "Taiwan",
          "Thailand",
          "Trinadad&Tobago",
          "United-States",
          "Vietnam",
          "Yugoslavia"
         ],
         "xaxis": "x9",
         "y": [
          -0.1727217469800435,
          0.0031662761550017154,
          -0.08789402589160811,
          0.07721342874278316,
          0.019753264682121838,
          0.07374676207611648,
          0.07721342874278316,
          0.04524168552051873,
          -0.09482124547549486,
          0.01896941579271466,
          -0.024476350071785738,
          0.068902749126048,
          0.0484742471384854,
          -0.17480157671766938,
          0.0484742471384854,
          -0.12744716045545698,
          0.0705467620761165,
          -0.13687140684398905,
          -0.1708290839326766,
          0.06581810045995486,
          0.07890274912604799,
          -0.12551952543561812,
          -0.1475104700069198,
          -0.13343632034705588,
          0.09002938035435527,
          0.05565936654868377,
          -0.06339742531351801,
          0.0484742471384854,
          -0.16583007281910842,
          0.04866664047755252,
          0.06915787318722764,
          0.06685282268217706,
          0.06587480400914224,
          -0.11382048157877805,
          -0.10580672430430653,
          -0.13204856524501507,
          -0.10881317622926893,
          0.0011141781986645505,
          -0.19256132034705586,
          0.07412365601551031
         ],
         "yaxis": "y9"
        },
        {
         "legendgroup": "1",
         "line": {
          "color": "#808080"
         },
         "mode": "lines",
         "opacity": 0.1,
         "showlegend": false,
         "type": "scatter",
         "x": [
          "Cambodia",
          "Canada",
          "China",
          "Columbia",
          "Cuba",
          "Dominican-Repub*",
          "Ecuador",
          "El-Salvador",
          "England",
          "France",
          "Germany",
          "Greece",
          "Guatemala",
          "Haiti",
          "Honduras",
          "Hong",
          "Hungary",
          "India",
          "Iran",
          "Ireland",
          "Italy",
          "Jamaica",
          "Japan",
          "Laos",
          "Mexico",
          "Nicaragua",
          "Outlying-US(Gua*",
          "Peru",
          "Philippines",
          "Poland",
          "Portugal",
          "Puerto-Rico",
          "Scotland",
          "South",
          "Taiwan",
          "Thailand",
          "Trinadad&Tobago",
          "United-States",
          "Vietnam",
          "Yugoslavia"
         ],
         "xaxis": "x9",
         "y": [
          0.17272174698004356,
          -0.0031662761550017016,
          0.08789402589160816,
          -0.07721342874278297,
          -0.019753264682121796,
          -0.0737467620761163,
          -0.07721342874278297,
          -0.04524168552051855,
          0.09482124547549486,
          -0.01896941579271466,
          0.024476350071785724,
          -0.06890274912604799,
          -0.04847424713848522,
          0.17480157671766944,
          -0.04847424713848522,
          0.127447160455457,
          -0.07054676207611629,
          0.13687140684398913,
          0.1708290839326767,
          -0.06581810045995468,
          -0.078902749126048,
          0.12551952543561815,
          0.14751047000691986,
          0.13343632034705594,
          -0.09002938035435509,
          -0.055659366548683586,
          0.06339742531351801,
          -0.04847424713848522,
          0.16583007281910847,
          -0.04866664047755248,
          -0.06915787318722741,
          -0.0668528226821769,
          -0.06587480400914206,
          0.11382048157877814,
          0.1058067243043066,
          0.13204856524501513,
          0.10881317622926895,
          -0.0011141781986645644,
          0.19256132034705592,
          -0.07412365601551024
         ],
         "yaxis": "y9"
        },
        {
         "legendgroup": "0",
         "legendgrouptitle": {
          "text": "0"
         },
         "name": "Capital Ga*",
         "type": "scatter",
         "x": [
          0,
          99999
         ],
         "xaxis": "x10",
         "y": [
          0.2751189613140763,
          -0.2751189613401379
         ],
         "yaxis": "y10"
        },
        {
         "legendgroup": "1",
         "legendgrouptitle": {
          "text": "1"
         },
         "name": "Capital Ga*",
         "type": "scatter",
         "x": [
          0,
          99999
         ],
         "xaxis": "x10",
         "y": [
          -0.27511896131407637,
          0.27511896134013797
         ],
         "yaxis": "y10"
        },
        {
         "legendgroup": "0",
         "line": {
          "color": "#808080"
         },
         "mode": "lines",
         "opacity": 0.1,
         "showlegend": false,
         "type": "scatter",
         "x": [
          0,
          99999
         ],
         "xaxis": "x10",
         "y": [
          0.27455131859606974,
          -0.27455131885618467
         ],
         "yaxis": "y10"
        },
        {
         "legendgroup": "1",
         "line": {
          "color": "#808080"
         },
         "mode": "lines",
         "opacity": 0.1,
         "showlegend": false,
         "type": "scatter",
         "x": [
          0,
          99999
         ],
         "xaxis": "x10",
         "y": [
          -0.27455131859606974,
          0.27455131885618467
         ],
         "yaxis": "y10"
        },
        {
         "legendgroup": "0",
         "line": {
          "color": "#808080"
         },
         "mode": "lines",
         "opacity": 0.1,
         "showlegend": false,
         "type": "scatter",
         "x": [
          0,
          99999
         ],
         "xaxis": "x10",
         "y": [
          0.27412744297875125,
          -0.2741274432384645
         ],
         "yaxis": "y10"
        },
        {
         "legendgroup": "1",
         "line": {
          "color": "#808080"
         },
         "mode": "lines",
         "opacity": 0.1,
         "showlegend": false,
         "type": "scatter",
         "x": [
          0,
          99999
         ],
         "xaxis": "x10",
         "y": [
          -0.27412744297875125,
          0.2741274432384645
         ],
         "yaxis": "y10"
        },
        {
         "legendgroup": "0",
         "line": {
          "color": "#808080"
         },
         "mode": "lines",
         "opacity": 0.1,
         "showlegend": false,
         "type": "scatter",
         "x": [
          0,
          99999
         ],
         "xaxis": "x10",
         "y": [
          0.2729901804606949,
          -0.2729901807193308
         ],
         "yaxis": "y10"
        },
        {
         "legendgroup": "1",
         "line": {
          "color": "#808080"
         },
         "mode": "lines",
         "opacity": 0.1,
         "showlegend": false,
         "type": "scatter",
         "x": [
          0,
          99999
         ],
         "xaxis": "x10",
         "y": [
          -0.2729901804606949,
          0.2729901807193308
         ],
         "yaxis": "y10"
        },
        {
         "legendgroup": "0",
         "line": {
          "color": "#808080"
         },
         "mode": "lines",
         "opacity": 0.1,
         "showlegend": false,
         "type": "scatter",
         "x": [
          0,
          99999
         ],
         "xaxis": "x10",
         "y": [
          0.28088651949949944,
          -0.28088651976561646
         ],
         "yaxis": "y10"
        },
        {
         "legendgroup": "1",
         "line": {
          "color": "#808080"
         },
         "mode": "lines",
         "opacity": 0.1,
         "showlegend": false,
         "type": "scatter",
         "x": [
          0,
          99999
         ],
         "xaxis": "x10",
         "y": [
          -0.28088651949949944,
          0.28088651976561646
         ],
         "yaxis": "y10"
        },
        {
         "legendgroup": "0",
         "line": {
          "color": "#808080"
         },
         "mode": "lines",
         "opacity": 0.1,
         "showlegend": false,
         "type": "scatter",
         "x": [
          0,
          99999
         ],
         "xaxis": "x10",
         "y": [
          0.2746743554617118,
          -0.2746743557219433
         ],
         "yaxis": "y10"
        },
        {
         "legendgroup": "1",
         "line": {
          "color": "#808080"
         },
         "mode": "lines",
         "opacity": 0.1,
         "showlegend": false,
         "type": "scatter",
         "x": [
          0,
          99999
         ],
         "xaxis": "x10",
         "y": [
          -0.27467435546171187,
          0.2746743557219434
         ],
         "yaxis": "y10"
        },
        {
         "legendgroup": "0",
         "line": {
          "color": "#808080"
         },
         "mode": "lines",
         "opacity": 0.1,
         "showlegend": false,
         "type": "scatter",
         "x": [
          0,
          99999
         ],
         "xaxis": "x10",
         "y": [
          0.2746892330878276,
          -0.2746892333480732
         ],
         "yaxis": "y10"
        },
        {
         "legendgroup": "1",
         "line": {
          "color": "#808080"
         },
         "mode": "lines",
         "opacity": 0.1,
         "showlegend": false,
         "type": "scatter",
         "x": [
          0,
          99999
         ],
         "xaxis": "x10",
         "y": [
          -0.27468923308782767,
          0.27468923334807327
         ],
         "yaxis": "y10"
        },
        {
         "legendgroup": "0",
         "line": {
          "color": "#808080"
         },
         "mode": "lines",
         "opacity": 0.1,
         "showlegend": false,
         "type": "scatter",
         "x": [
          0,
          99999
         ],
         "xaxis": "x10",
         "y": [
          0.2747940274806465,
          -0.2747940277409914
         ],
         "yaxis": "y10"
        },
        {
         "legendgroup": "1",
         "line": {
          "color": "#808080"
         },
         "mode": "lines",
         "opacity": 0.1,
         "showlegend": false,
         "type": "scatter",
         "x": [
          0,
          99999
         ],
         "xaxis": "x10",
         "y": [
          -0.2747940274806466,
          0.27479402774099143
         ],
         "yaxis": "y10"
        },
        {
         "legendgroup": "0",
         "line": {
          "color": "#808080"
         },
         "mode": "lines",
         "opacity": 0.1,
         "showlegend": false,
         "type": "scatter",
         "x": [
          0,
          99999
         ],
         "xaxis": "x10",
         "y": [
          0.27863951989088936,
          -0.27863952015487753
         ],
         "yaxis": "y10"
        },
        {
         "legendgroup": "1",
         "line": {
          "color": "#808080"
         },
         "mode": "lines",
         "opacity": 0.1,
         "showlegend": false,
         "type": "scatter",
         "x": [
          0,
          99999
         ],
         "xaxis": "x10",
         "y": [
          -0.27863951989088936,
          0.27863952015487753
         ],
         "yaxis": "y10"
        },
        {
         "legendgroup": "0",
         "line": {
          "color": "#808080"
         },
         "mode": "lines",
         "opacity": 0.1,
         "showlegend": false,
         "type": "scatter",
         "x": [
          0,
          99999
         ],
         "xaxis": "x10",
         "y": [
          0.27860003236241637,
          -0.2786000326263671
         ],
         "yaxis": "y10"
        },
        {
         "legendgroup": "1",
         "line": {
          "color": "#808080"
         },
         "mode": "lines",
         "opacity": 0.1,
         "showlegend": false,
         "type": "scatter",
         "x": [
          0,
          99999
         ],
         "xaxis": "x10",
         "y": [
          -0.27860003236241637,
          0.2786000326263671
         ],
         "yaxis": "y10"
        },
        {
         "legendgroup": "0",
         "line": {
          "color": "#808080"
         },
         "mode": "lines",
         "opacity": 0.1,
         "showlegend": false,
         "type": "scatter",
         "x": [
          0,
          99999
         ],
         "xaxis": "x10",
         "y": [
          0.27967707532607144,
          -0.2796770755910426
         ],
         "yaxis": "y10"
        },
        {
         "legendgroup": "1",
         "line": {
          "color": "#808080"
         },
         "mode": "lines",
         "opacity": 0.1,
         "showlegend": false,
         "type": "scatter",
         "x": [
          0,
          99999
         ],
         "xaxis": "x10",
         "y": [
          -0.2796770753260715,
          0.27967707559104266
         ],
         "yaxis": "y10"
        },
        {
         "legendgroup": "0",
         "legendgrouptitle": {
          "text": "0"
         },
         "name": "Capital Lo*",
         "type": "scatter",
         "x": [
          0,
          3900
         ],
         "xaxis": "x11",
         "y": [
          0.10347249580188336,
          -0.10347249581168513
         ],
         "yaxis": "y11"
        },
        {
         "legendgroup": "1",
         "legendgrouptitle": {
          "text": "1"
         },
         "name": "Capital Lo*",
         "type": "scatter",
         "x": [
          0,
          3900
         ],
         "xaxis": "x11",
         "y": [
          -0.10347249580188338,
          0.10347249581168518
         ],
         "yaxis": "y11"
        },
        {
         "legendgroup": "0",
         "line": {
          "color": "#808080"
         },
         "mode": "lines",
         "opacity": 0.1,
         "showlegend": false,
         "type": "scatter",
         "x": [
          0,
          3900
         ],
         "xaxis": "x11",
         "y": [
          0.10518689080205865,
          -0.1051868909017146
         ],
         "yaxis": "y11"
        },
        {
         "legendgroup": "1",
         "line": {
          "color": "#808080"
         },
         "mode": "lines",
         "opacity": 0.1,
         "showlegend": false,
         "type": "scatter",
         "x": [
          0,
          3900
         ],
         "xaxis": "x11",
         "y": [
          -0.10518689080205866,
          0.10518689090171464
         ],
         "yaxis": "y11"
        },
        {
         "legendgroup": "0",
         "line": {
          "color": "#808080"
         },
         "mode": "lines",
         "opacity": 0.1,
         "showlegend": false,
         "type": "scatter",
         "x": [
          0,
          3900
         ],
         "xaxis": "x11",
         "y": [
          0.10572199819510367,
          -0.1057219982952666
         ],
         "yaxis": "y11"
        },
        {
         "legendgroup": "1",
         "line": {
          "color": "#808080"
         },
         "mode": "lines",
         "opacity": 0.1,
         "showlegend": false,
         "type": "scatter",
         "x": [
          0,
          3900
         ],
         "xaxis": "x11",
         "y": [
          -0.10572199819510368,
          0.10572199829526661
         ],
         "yaxis": "y11"
        },
        {
         "legendgroup": "0",
         "line": {
          "color": "#808080"
         },
         "mode": "lines",
         "opacity": 0.1,
         "showlegend": false,
         "type": "scatter",
         "x": [
          0,
          3900
         ],
         "xaxis": "x11",
         "y": [
          0.10157231978040351,
          -0.10157231987663495
         ],
         "yaxis": "y11"
        },
        {
         "legendgroup": "1",
         "line": {
          "color": "#808080"
         },
         "mode": "lines",
         "opacity": 0.1,
         "showlegend": false,
         "type": "scatter",
         "x": [
          0,
          3900
         ],
         "xaxis": "x11",
         "y": [
          -0.10157231978040354,
          0.10157231987663498
         ],
         "yaxis": "y11"
        },
        {
         "legendgroup": "0",
         "line": {
          "color": "#808080"
         },
         "mode": "lines",
         "opacity": 0.1,
         "showlegend": false,
         "type": "scatter",
         "x": [
          0,
          3900
         ],
         "xaxis": "x11",
         "y": [
          0.10599653640812821,
          -0.10599653650855127
         ],
         "yaxis": "y11"
        },
        {
         "legendgroup": "1",
         "line": {
          "color": "#808080"
         },
         "mode": "lines",
         "opacity": 0.1,
         "showlegend": false,
         "type": "scatter",
         "x": [
          0,
          3900
         ],
         "xaxis": "x11",
         "y": [
          -0.10599653640812824,
          0.1059965365085513
         ],
         "yaxis": "y11"
        },
        {
         "legendgroup": "0",
         "line": {
          "color": "#808080"
         },
         "mode": "lines",
         "opacity": 0.1,
         "showlegend": false,
         "type": "scatter",
         "x": [
          0,
          3900
         ],
         "xaxis": "x11",
         "y": [
          0.1030243541041929,
          -0.10302435420180005
         ],
         "yaxis": "y11"
        },
        {
         "legendgroup": "1",
         "line": {
          "color": "#808080"
         },
         "mode": "lines",
         "opacity": 0.1,
         "showlegend": false,
         "type": "scatter",
         "x": [
          0,
          3900
         ],
         "xaxis": "x11",
         "y": [
          -0.10302435410419293,
          0.10302435420180008
         ],
         "yaxis": "y11"
        },
        {
         "legendgroup": "0",
         "line": {
          "color": "#808080"
         },
         "mode": "lines",
         "opacity": 0.1,
         "showlegend": false,
         "type": "scatter",
         "x": [
          0,
          3900
         ],
         "xaxis": "x11",
         "y": [
          0.10302247157231635,
          -0.10302247166992172
         ],
         "yaxis": "y11"
        },
        {
         "legendgroup": "1",
         "line": {
          "color": "#808080"
         },
         "mode": "lines",
         "opacity": 0.1,
         "showlegend": false,
         "type": "scatter",
         "x": [
          0,
          3900
         ],
         "xaxis": "x11",
         "y": [
          -0.10302247157231638,
          0.10302247166992175
         ],
         "yaxis": "y11"
        },
        {
         "legendgroup": "0",
         "line": {
          "color": "#808080"
         },
         "mode": "lines",
         "opacity": 0.1,
         "showlegend": false,
         "type": "scatter",
         "x": [
          0,
          3900
         ],
         "xaxis": "x11",
         "y": [
          0.10426751939827975,
          -0.1042675194970647
         ],
         "yaxis": "y11"
        },
        {
         "legendgroup": "1",
         "line": {
          "color": "#808080"
         },
         "mode": "lines",
         "opacity": 0.1,
         "showlegend": false,
         "type": "scatter",
         "x": [
          0,
          3900
         ],
         "xaxis": "x11",
         "y": [
          -0.10426751939827977,
          0.10426751949706473
         ],
         "yaxis": "y11"
        },
        {
         "legendgroup": "0",
         "line": {
          "color": "#808080"
         },
         "mode": "lines",
         "opacity": 0.1,
         "showlegend": false,
         "type": "scatter",
         "x": [
          0,
          3900
         ],
         "xaxis": "x11",
         "y": [
          0.10186843016970663,
          -0.10186843026621863
         ],
         "yaxis": "y11"
        },
        {
         "legendgroup": "1",
         "line": {
          "color": "#808080"
         },
         "mode": "lines",
         "opacity": 0.1,
         "showlegend": false,
         "type": "scatter",
         "x": [
          0,
          3900
         ],
         "xaxis": "x11",
         "y": [
          -0.10186843016970665,
          0.10186843026621864
         ],
         "yaxis": "y11"
        },
        {
         "legendgroup": "0",
         "line": {
          "color": "#808080"
         },
         "mode": "lines",
         "opacity": 0.1,
         "showlegend": false,
         "type": "scatter",
         "x": [
          0,
          3900
         ],
         "xaxis": "x11",
         "y": [
          0.10116320247720922,
          -0.10116320257305308
         ],
         "yaxis": "y11"
        },
        {
         "legendgroup": "1",
         "line": {
          "color": "#808080"
         },
         "mode": "lines",
         "opacity": 0.1,
         "showlegend": false,
         "type": "scatter",
         "x": [
          0,
          3900
         ],
         "xaxis": "x11",
         "y": [
          -0.10116320247720925,
          0.10116320257305311
         ],
         "yaxis": "y11"
        },
        {
         "legendgroup": "0",
         "line": {
          "color": "#808080"
         },
         "mode": "lines",
         "opacity": 0.1,
         "showlegend": false,
         "type": "scatter",
         "x": [
          0,
          3900
         ],
         "xaxis": "x11",
         "y": [
          0.10507006951211682,
          -0.10507006961166211
         ],
         "yaxis": "y11"
        },
        {
         "legendgroup": "1",
         "line": {
          "color": "#808080"
         },
         "mode": "lines",
         "opacity": 0.1,
         "showlegend": false,
         "type": "scatter",
         "x": [
          0,
          3900
         ],
         "xaxis": "x11",
         "y": [
          -0.10507006951211684,
          0.10507006961166213
         ],
         "yaxis": "y11"
        }
       ],
       "layout": {
        "annotations": [
         {
          "font": {
           "size": 16
          },
          "showarrow": false,
          "text": "Age",
          "x": 0.225,
          "xanchor": "center",
          "xref": "paper",
          "y": 0.9999999999999999,
          "yanchor": "bottom",
          "yref": "paper"
         },
         {
          "font": {
           "size": 16
          },
          "showarrow": false,
          "text": "Workclass",
          "x": 0.775,
          "xanchor": "center",
          "xref": "paper",
          "y": 0.9999999999999999,
          "yanchor": "bottom",
          "yref": "paper"
         },
         {
          "font": {
           "size": 16
          },
          "showarrow": false,
          "text": "Education",
          "x": 0.225,
          "xanchor": "center",
          "xref": "paper",
          "y": 0.8194444444444444,
          "yanchor": "bottom",
          "yref": "paper"
         },
         {
          "font": {
           "size": 16
          },
          "showarrow": false,
          "text": "Occupation",
          "x": 0.775,
          "xanchor": "center",
          "xref": "paper",
          "y": 0.8194444444444444,
          "yanchor": "bottom",
          "yref": "paper"
         },
         {
          "font": {
           "size": 16
          },
          "showarrow": false,
          "text": "Relationship",
          "x": 0.225,
          "xanchor": "center",
          "xref": "paper",
          "y": 0.638888888888889,
          "yanchor": "bottom",
          "yref": "paper"
         },
         {
          "font": {
           "size": 16
          },
          "showarrow": false,
          "text": "Race",
          "x": 0.775,
          "xanchor": "center",
          "xref": "paper",
          "y": 0.638888888888889,
          "yanchor": "bottom",
          "yref": "paper"
         },
         {
          "font": {
           "size": 16
          },
          "showarrow": false,
          "text": "Sex",
          "x": 0.225,
          "xanchor": "center",
          "xref": "paper",
          "y": 0.4583333333333333,
          "yanchor": "bottom",
          "yref": "paper"
         },
         {
          "font": {
           "size": 16
          },
          "showarrow": false,
          "text": "Hours per week",
          "x": 0.775,
          "xanchor": "center",
          "xref": "paper",
          "y": 0.4583333333333333,
          "yanchor": "bottom",
          "yref": "paper"
         },
         {
          "font": {
           "size": 16
          },
          "showarrow": false,
          "text": "Country",
          "x": 0.225,
          "xanchor": "center",
          "xref": "paper",
          "y": 0.2777777777777778,
          "yanchor": "bottom",
          "yref": "paper"
         },
         {
          "font": {
           "size": 16
          },
          "showarrow": false,
          "text": "Capital Gain",
          "x": 0.775,
          "xanchor": "center",
          "xref": "paper",
          "y": 0.2777777777777778,
          "yanchor": "bottom",
          "yref": "paper"
         },
         {
          "font": {
           "size": 16
          },
          "showarrow": false,
          "text": "Capital Loss",
          "x": 0.225,
          "xanchor": "center",
          "xref": "paper",
          "y": 0.09722222222222222,
          "yanchor": "bottom",
          "yref": "paper"
         }
        ],
        "height": 1560,
        "template": {
         "data": {
          "bar": [
           {
            "error_x": {
             "color": "#2a3f5f"
            },
            "error_y": {
             "color": "#2a3f5f"
            },
            "marker": {
             "line": {
              "color": "#E5ECF6",
              "width": 0.5
             },
             "pattern": {
              "fillmode": "overlay",
              "size": 10,
              "solidity": 0.2
             }
            },
            "type": "bar"
           }
          ],
          "barpolar": [
           {
            "marker": {
             "line": {
              "color": "#E5ECF6",
              "width": 0.5
             },
             "pattern": {
              "fillmode": "overlay",
              "size": 10,
              "solidity": 0.2
             }
            },
            "type": "barpolar"
           }
          ],
          "carpet": [
           {
            "aaxis": {
             "endlinecolor": "#2a3f5f",
             "gridcolor": "white",
             "linecolor": "white",
             "minorgridcolor": "white",
             "startlinecolor": "#2a3f5f"
            },
            "baxis": {
             "endlinecolor": "#2a3f5f",
             "gridcolor": "white",
             "linecolor": "white",
             "minorgridcolor": "white",
             "startlinecolor": "#2a3f5f"
            },
            "type": "carpet"
           }
          ],
          "choropleth": [
           {
            "colorbar": {
             "outlinewidth": 0,
             "ticks": ""
            },
            "type": "choropleth"
           }
          ],
          "contour": [
           {
            "colorbar": {
             "outlinewidth": 0,
             "ticks": ""
            },
            "colorscale": [
             [
              0,
              "#0d0887"
             ],
             [
              0.1111111111111111,
              "#46039f"
             ],
             [
              0.2222222222222222,
              "#7201a8"
             ],
             [
              0.3333333333333333,
              "#9c179e"
             ],
             [
              0.4444444444444444,
              "#bd3786"
             ],
             [
              0.5555555555555556,
              "#d8576b"
             ],
             [
              0.6666666666666666,
              "#ed7953"
             ],
             [
              0.7777777777777778,
              "#fb9f3a"
             ],
             [
              0.8888888888888888,
              "#fdca26"
             ],
             [
              1,
              "#f0f921"
             ]
            ],
            "type": "contour"
           }
          ],
          "contourcarpet": [
           {
            "colorbar": {
             "outlinewidth": 0,
             "ticks": ""
            },
            "type": "contourcarpet"
           }
          ],
          "heatmap": [
           {
            "colorbar": {
             "outlinewidth": 0,
             "ticks": ""
            },
            "colorscale": [
             [
              0,
              "#0d0887"
             ],
             [
              0.1111111111111111,
              "#46039f"
             ],
             [
              0.2222222222222222,
              "#7201a8"
             ],
             [
              0.3333333333333333,
              "#9c179e"
             ],
             [
              0.4444444444444444,
              "#bd3786"
             ],
             [
              0.5555555555555556,
              "#d8576b"
             ],
             [
              0.6666666666666666,
              "#ed7953"
             ],
             [
              0.7777777777777778,
              "#fb9f3a"
             ],
             [
              0.8888888888888888,
              "#fdca26"
             ],
             [
              1,
              "#f0f921"
             ]
            ],
            "type": "heatmap"
           }
          ],
          "heatmapgl": [
           {
            "colorbar": {
             "outlinewidth": 0,
             "ticks": ""
            },
            "colorscale": [
             [
              0,
              "#0d0887"
             ],
             [
              0.1111111111111111,
              "#46039f"
             ],
             [
              0.2222222222222222,
              "#7201a8"
             ],
             [
              0.3333333333333333,
              "#9c179e"
             ],
             [
              0.4444444444444444,
              "#bd3786"
             ],
             [
              0.5555555555555556,
              "#d8576b"
             ],
             [
              0.6666666666666666,
              "#ed7953"
             ],
             [
              0.7777777777777778,
              "#fb9f3a"
             ],
             [
              0.8888888888888888,
              "#fdca26"
             ],
             [
              1,
              "#f0f921"
             ]
            ],
            "type": "heatmapgl"
           }
          ],
          "histogram": [
           {
            "marker": {
             "pattern": {
              "fillmode": "overlay",
              "size": 10,
              "solidity": 0.2
             }
            },
            "type": "histogram"
           }
          ],
          "histogram2d": [
           {
            "colorbar": {
             "outlinewidth": 0,
             "ticks": ""
            },
            "colorscale": [
             [
              0,
              "#0d0887"
             ],
             [
              0.1111111111111111,
              "#46039f"
             ],
             [
              0.2222222222222222,
              "#7201a8"
             ],
             [
              0.3333333333333333,
              "#9c179e"
             ],
             [
              0.4444444444444444,
              "#bd3786"
             ],
             [
              0.5555555555555556,
              "#d8576b"
             ],
             [
              0.6666666666666666,
              "#ed7953"
             ],
             [
              0.7777777777777778,
              "#fb9f3a"
             ],
             [
              0.8888888888888888,
              "#fdca26"
             ],
             [
              1,
              "#f0f921"
             ]
            ],
            "type": "histogram2d"
           }
          ],
          "histogram2dcontour": [
           {
            "colorbar": {
             "outlinewidth": 0,
             "ticks": ""
            },
            "colorscale": [
             [
              0,
              "#0d0887"
             ],
             [
              0.1111111111111111,
              "#46039f"
             ],
             [
              0.2222222222222222,
              "#7201a8"
             ],
             [
              0.3333333333333333,
              "#9c179e"
             ],
             [
              0.4444444444444444,
              "#bd3786"
             ],
             [
              0.5555555555555556,
              "#d8576b"
             ],
             [
              0.6666666666666666,
              "#ed7953"
             ],
             [
              0.7777777777777778,
              "#fb9f3a"
             ],
             [
              0.8888888888888888,
              "#fdca26"
             ],
             [
              1,
              "#f0f921"
             ]
            ],
            "type": "histogram2dcontour"
           }
          ],
          "mesh3d": [
           {
            "colorbar": {
             "outlinewidth": 0,
             "ticks": ""
            },
            "type": "mesh3d"
           }
          ],
          "parcoords": [
           {
            "line": {
             "colorbar": {
              "outlinewidth": 0,
              "ticks": ""
             }
            },
            "type": "parcoords"
           }
          ],
          "pie": [
           {
            "automargin": true,
            "type": "pie"
           }
          ],
          "scatter": [
           {
            "fillpattern": {
             "fillmode": "overlay",
             "size": 10,
             "solidity": 0.2
            },
            "type": "scatter"
           }
          ],
          "scatter3d": [
           {
            "line": {
             "colorbar": {
              "outlinewidth": 0,
              "ticks": ""
             }
            },
            "marker": {
             "colorbar": {
              "outlinewidth": 0,
              "ticks": ""
             }
            },
            "type": "scatter3d"
           }
          ],
          "scattercarpet": [
           {
            "marker": {
             "colorbar": {
              "outlinewidth": 0,
              "ticks": ""
             }
            },
            "type": "scattercarpet"
           }
          ],
          "scattergeo": [
           {
            "marker": {
             "colorbar": {
              "outlinewidth": 0,
              "ticks": ""
             }
            },
            "type": "scattergeo"
           }
          ],
          "scattergl": [
           {
            "marker": {
             "colorbar": {
              "outlinewidth": 0,
              "ticks": ""
             }
            },
            "type": "scattergl"
           }
          ],
          "scattermapbox": [
           {
            "marker": {
             "colorbar": {
              "outlinewidth": 0,
              "ticks": ""
             }
            },
            "type": "scattermapbox"
           }
          ],
          "scatterpolar": [
           {
            "marker": {
             "colorbar": {
              "outlinewidth": 0,
              "ticks": ""
             }
            },
            "type": "scatterpolar"
           }
          ],
          "scatterpolargl": [
           {
            "marker": {
             "colorbar": {
              "outlinewidth": 0,
              "ticks": ""
             }
            },
            "type": "scatterpolargl"
           }
          ],
          "scatterternary": [
           {
            "marker": {
             "colorbar": {
              "outlinewidth": 0,
              "ticks": ""
             }
            },
            "type": "scatterternary"
           }
          ],
          "surface": [
           {
            "colorbar": {
             "outlinewidth": 0,
             "ticks": ""
            },
            "colorscale": [
             [
              0,
              "#0d0887"
             ],
             [
              0.1111111111111111,
              "#46039f"
             ],
             [
              0.2222222222222222,
              "#7201a8"
             ],
             [
              0.3333333333333333,
              "#9c179e"
             ],
             [
              0.4444444444444444,
              "#bd3786"
             ],
             [
              0.5555555555555556,
              "#d8576b"
             ],
             [
              0.6666666666666666,
              "#ed7953"
             ],
             [
              0.7777777777777778,
              "#fb9f3a"
             ],
             [
              0.8888888888888888,
              "#fdca26"
             ],
             [
              1,
              "#f0f921"
             ]
            ],
            "type": "surface"
           }
          ],
          "table": [
           {
            "cells": {
             "fill": {
              "color": "#EBF0F8"
             },
             "line": {
              "color": "white"
             }
            },
            "header": {
             "fill": {
              "color": "#C8D4E3"
             },
             "line": {
              "color": "white"
             }
            },
            "type": "table"
           }
          ]
         },
         "layout": {
          "annotationdefaults": {
           "arrowcolor": "#2a3f5f",
           "arrowhead": 0,
           "arrowwidth": 1
          },
          "autotypenumbers": "strict",
          "coloraxis": {
           "colorbar": {
            "outlinewidth": 0,
            "ticks": ""
           }
          },
          "colorscale": {
           "diverging": [
            [
             0,
             "#8e0152"
            ],
            [
             0.1,
             "#c51b7d"
            ],
            [
             0.2,
             "#de77ae"
            ],
            [
             0.3,
             "#f1b6da"
            ],
            [
             0.4,
             "#fde0ef"
            ],
            [
             0.5,
             "#f7f7f7"
            ],
            [
             0.6,
             "#e6f5d0"
            ],
            [
             0.7,
             "#b8e186"
            ],
            [
             0.8,
             "#7fbc41"
            ],
            [
             0.9,
             "#4d9221"
            ],
            [
             1,
             "#276419"
            ]
           ],
           "sequential": [
            [
             0,
             "#0d0887"
            ],
            [
             0.1111111111111111,
             "#46039f"
            ],
            [
             0.2222222222222222,
             "#7201a8"
            ],
            [
             0.3333333333333333,
             "#9c179e"
            ],
            [
             0.4444444444444444,
             "#bd3786"
            ],
            [
             0.5555555555555556,
             "#d8576b"
            ],
            [
             0.6666666666666666,
             "#ed7953"
            ],
            [
             0.7777777777777778,
             "#fb9f3a"
            ],
            [
             0.8888888888888888,
             "#fdca26"
            ],
            [
             1,
             "#f0f921"
            ]
           ],
           "sequentialminus": [
            [
             0,
             "#0d0887"
            ],
            [
             0.1111111111111111,
             "#46039f"
            ],
            [
             0.2222222222222222,
             "#7201a8"
            ],
            [
             0.3333333333333333,
             "#9c179e"
            ],
            [
             0.4444444444444444,
             "#bd3786"
            ],
            [
             0.5555555555555556,
             "#d8576b"
            ],
            [
             0.6666666666666666,
             "#ed7953"
            ],
            [
             0.7777777777777778,
             "#fb9f3a"
            ],
            [
             0.8888888888888888,
             "#fdca26"
            ],
            [
             1,
             "#f0f921"
            ]
           ]
          },
          "colorway": [
           "#636efa",
           "#EF553B",
           "#00cc96",
           "#ab63fa",
           "#FFA15A",
           "#19d3f3",
           "#FF6692",
           "#B6E880",
           "#FF97FF",
           "#FECB52"
          ],
          "font": {
           "color": "#2a3f5f"
          },
          "geo": {
           "bgcolor": "white",
           "lakecolor": "white",
           "landcolor": "#E5ECF6",
           "showlakes": true,
           "showland": true,
           "subunitcolor": "white"
          },
          "hoverlabel": {
           "align": "left"
          },
          "hovermode": "closest",
          "mapbox": {
           "style": "light"
          },
          "paper_bgcolor": "white",
          "plot_bgcolor": "#E5ECF6",
          "polar": {
           "angularaxis": {
            "gridcolor": "white",
            "linecolor": "white",
            "ticks": ""
           },
           "bgcolor": "#E5ECF6",
           "radialaxis": {
            "gridcolor": "white",
            "linecolor": "white",
            "ticks": ""
           }
          },
          "scene": {
           "xaxis": {
            "backgroundcolor": "#E5ECF6",
            "gridcolor": "white",
            "gridwidth": 2,
            "linecolor": "white",
            "showbackground": true,
            "ticks": "",
            "zerolinecolor": "white"
           },
           "yaxis": {
            "backgroundcolor": "#E5ECF6",
            "gridcolor": "white",
            "gridwidth": 2,
            "linecolor": "white",
            "showbackground": true,
            "ticks": "",
            "zerolinecolor": "white"
           },
           "zaxis": {
            "backgroundcolor": "#E5ECF6",
            "gridcolor": "white",
            "gridwidth": 2,
            "linecolor": "white",
            "showbackground": true,
            "ticks": "",
            "zerolinecolor": "white"
           }
          },
          "shapedefaults": {
           "line": {
            "color": "#2a3f5f"
           }
          },
          "ternary": {
           "aaxis": {
            "gridcolor": "white",
            "linecolor": "white",
            "ticks": ""
           },
           "baxis": {
            "gridcolor": "white",
            "linecolor": "white",
            "ticks": ""
           },
           "bgcolor": "#E5ECF6",
           "caxis": {
            "gridcolor": "white",
            "linecolor": "white",
            "ticks": ""
           }
          },
          "title": {
           "x": 0.05
          },
          "xaxis": {
           "automargin": true,
           "gridcolor": "white",
           "linecolor": "white",
           "ticks": "",
           "title": {
            "standoff": 15
           },
           "zerolinecolor": "white",
           "zerolinewidth": 2
          },
          "yaxis": {
           "automargin": true,
           "gridcolor": "white",
           "linecolor": "white",
           "ticks": "",
           "title": {
            "standoff": 15
           },
           "zerolinecolor": "white",
           "zerolinewidth": 2
          }
         }
        },
        "xaxis": {
         "anchor": "y",
         "domain": [
          0,
          0.45
         ]
        },
        "xaxis10": {
         "anchor": "y10",
         "domain": [
          0.55,
          1
         ]
        },
        "xaxis11": {
         "anchor": "y11",
         "domain": [
          0,
          0.45
         ]
        },
        "xaxis12": {
         "anchor": "y12",
         "domain": [
          0.55,
          1
         ]
        },
        "xaxis2": {
         "anchor": "y2",
         "domain": [
          0.55,
          1
         ]
        },
        "xaxis3": {
         "anchor": "y3",
         "domain": [
          0,
          0.45
         ]
        },
        "xaxis4": {
         "anchor": "y4",
         "domain": [
          0.55,
          1
         ]
        },
        "xaxis5": {
         "anchor": "y5",
         "domain": [
          0,
          0.45
         ]
        },
        "xaxis6": {
         "anchor": "y6",
         "domain": [
          0.55,
          1
         ]
        },
        "xaxis7": {
         "anchor": "y7",
         "domain": [
          0,
          0.45
         ]
        },
        "xaxis8": {
         "anchor": "y8",
         "domain": [
          0.55,
          1
         ]
        },
        "xaxis9": {
         "anchor": "y9",
         "domain": [
          0,
          0.45
         ]
        },
        "yaxis": {
         "anchor": "x",
         "domain": [
          0.9027777777777777,
          0.9999999999999999
         ]
        },
        "yaxis10": {
         "anchor": "x10",
         "domain": [
          0.18055555555555555,
          0.2777777777777778
         ]
        },
        "yaxis11": {
         "anchor": "x11",
         "domain": [
          0,
          0.09722222222222222
         ]
        },
        "yaxis12": {
         "anchor": "x12",
         "domain": [
          0,
          0.09722222222222222
         ]
        },
        "yaxis2": {
         "anchor": "x2",
         "domain": [
          0.9027777777777777,
          0.9999999999999999
         ]
        },
        "yaxis3": {
         "anchor": "x3",
         "domain": [
          0.7222222222222222,
          0.8194444444444444
         ]
        },
        "yaxis4": {
         "anchor": "x4",
         "domain": [
          0.7222222222222222,
          0.8194444444444444
         ]
        },
        "yaxis5": {
         "anchor": "x5",
         "domain": [
          0.5416666666666667,
          0.638888888888889
         ]
        },
        "yaxis6": {
         "anchor": "x6",
         "domain": [
          0.5416666666666667,
          0.638888888888889
         ]
        },
        "yaxis7": {
         "anchor": "x7",
         "domain": [
          0.3611111111111111,
          0.4583333333333333
         ]
        },
        "yaxis8": {
         "anchor": "x8",
         "domain": [
          0.3611111111111111,
          0.4583333333333333
         ]
        },
        "yaxis9": {
         "anchor": "x9",
         "domain": [
          0.18055555555555555,
          0.2777777777777778
         ]
        }
       }
      },
      "text/html": [
       "<div>                            <div id=\"ed33bac1-386c-4d96-b79c-e9b75f256283\" class=\"plotly-graph-div\" style=\"height:1560px; width:100%;\"></div>            <script type=\"text/javascript\">                require([\"plotly\"], function(Plotly) {                    window.PLOTLYENV=window.PLOTLYENV || {};                                    if (document.getElementById(\"ed33bac1-386c-4d96-b79c-e9b75f256283\")) {                    Plotly.newPlot(                        \"ed33bac1-386c-4d96-b79c-e9b75f256283\",                        [{\"legendgroup\":\"0\",\"legendgrouptitle\":{\"text\":\"0\"},\"name\":\"Age\",\"x\":[\"Aged\",\"Young\"],\"xaxis\":\"x\",\"y\":[-0.01385496565743344,0.01494203079258105],\"yaxis\":\"y\",\"type\":\"scatter\"},{\"legendgroup\":\"1\",\"legendgrouptitle\":{\"text\":\"1\"},\"name\":\"Age\",\"x\":[\"Aged\",\"Young\"],\"xaxis\":\"x\",\"y\":[0.013854965657433445,-0.014942030792581055],\"yaxis\":\"y\",\"type\":\"scatter\"},{\"legendgroup\":\"0\",\"line\":{\"color\":\"#808080\"},\"mode\":\"lines\",\"opacity\":0.1,\"showlegend\":false,\"x\":[\"Aged\",\"Young\"],\"xaxis\":\"x\",\"y\":[-0.01315348462964026,0.01419021249518184],\"yaxis\":\"y\",\"type\":\"scatter\"},{\"legendgroup\":\"1\",\"line\":{\"color\":\"#808080\"},\"mode\":\"lines\",\"opacity\":0.1,\"showlegend\":false,\"x\":[\"Aged\",\"Young\"],\"xaxis\":\"x\",\"y\":[0.013153484629640264,-0.014190212495181844],\"yaxis\":\"y\",\"type\":\"scatter\"},{\"legendgroup\":\"0\",\"line\":{\"color\":\"#808080\"},\"mode\":\"lines\",\"opacity\":0.1,\"showlegend\":false,\"x\":[\"Aged\",\"Young\"],\"xaxis\":\"x\",\"y\":[-0.013575957308348492,0.014645983513514833],\"yaxis\":\"y\",\"type\":\"scatter\"},{\"legendgroup\":\"1\",\"line\":{\"color\":\"#808080\"},\"mode\":\"lines\",\"opacity\":0.1,\"showlegend\":false,\"x\":[\"Aged\",\"Young\"],\"xaxis\":\"x\",\"y\":[0.013575957308348499,-0.01464598351351484],\"yaxis\":\"y\",\"type\":\"scatter\"},{\"legendgroup\":\"0\",\"line\":{\"color\":\"#808080\"},\"mode\":\"lines\",\"opacity\":0.1,\"showlegend\":false,\"x\":[\"Aged\",\"Young\"],\"xaxis\":\"x\",\"y\":[-0.015329135836796688,0.016537343602582764],\"yaxis\":\"y\",\"type\":\"scatter\"},{\"legendgroup\":\"1\",\"line\":{\"color\":\"#808080\"},\"mode\":\"lines\",\"opacity\":0.1,\"showlegend\":false,\"x\":[\"Aged\",\"Young\"],\"xaxis\":\"x\",\"y\":[0.015329135836796688,-0.016537343602582764],\"yaxis\":\"y\",\"type\":\"scatter\"},{\"legendgroup\":\"0\",\"line\":{\"color\":\"#808080\"},\"mode\":\"lines\",\"opacity\":0.1,\"showlegend\":false,\"x\":[\"Aged\",\"Young\"],\"xaxis\":\"x\",\"y\":[-0.012947586906067163,0.013968086379400127],\"yaxis\":\"y\",\"type\":\"scatter\"},{\"legendgroup\":\"1\",\"line\":{\"color\":\"#808080\"},\"mode\":\"lines\",\"opacity\":0.1,\"showlegend\":false,\"x\":[\"Aged\",\"Young\"],\"xaxis\":\"x\",\"y\":[0.012947586906067168,-0.013968086379400132],\"yaxis\":\"y\",\"type\":\"scatter\"},{\"legendgroup\":\"0\",\"line\":{\"color\":\"#808080\"},\"mode\":\"lines\",\"opacity\":0.1,\"showlegend\":false,\"x\":[\"Aged\",\"Young\"],\"xaxis\":\"x\",\"y\":[-0.010544833998676843,0.011375953930143817],\"yaxis\":\"y\",\"type\":\"scatter\"},{\"legendgroup\":\"1\",\"line\":{\"color\":\"#808080\"},\"mode\":\"lines\",\"opacity\":0.1,\"showlegend\":false,\"x\":[\"Aged\",\"Young\"],\"xaxis\":\"x\",\"y\":[0.01054483399867685,-0.011375953930143824],\"yaxis\":\"y\",\"type\":\"scatter\"},{\"legendgroup\":\"0\",\"line\":{\"color\":\"#808080\"},\"mode\":\"lines\",\"opacity\":0.1,\"showlegend\":false,\"x\":[\"Aged\",\"Young\"],\"xaxis\":\"x\",\"y\":[-0.01678256048595997,0.018105323890550466],\"yaxis\":\"y\",\"type\":\"scatter\"},{\"legendgroup\":\"1\",\"line\":{\"color\":\"#808080\"},\"mode\":\"lines\",\"opacity\":0.1,\"showlegend\":false,\"x\":[\"Aged\",\"Young\"],\"xaxis\":\"x\",\"y\":[0.016782560485959972,-0.01810532389055047],\"yaxis\":\"y\",\"type\":\"scatter\"},{\"legendgroup\":\"0\",\"line\":{\"color\":\"#808080\"},\"mode\":\"lines\",\"opacity\":0.1,\"showlegend\":false,\"x\":[\"Aged\",\"Young\"],\"xaxis\":\"x\",\"y\":[-0.012428386652555167,0.013407963937907679],\"yaxis\":\"y\",\"type\":\"scatter\"},{\"legendgroup\":\"1\",\"line\":{\"color\":\"#808080\"},\"mode\":\"lines\",\"opacity\":0.1,\"showlegend\":false,\"x\":[\"Aged\",\"Young\"],\"xaxis\":\"x\",\"y\":[0.012428386652555173,-0.013407963937907684],\"yaxis\":\"y\",\"type\":\"scatter\"},{\"legendgroup\":\"0\",\"line\":{\"color\":\"#808080\"},\"mode\":\"lines\",\"opacity\":0.1,\"showlegend\":false,\"x\":[\"Aged\",\"Young\"],\"xaxis\":\"x\",\"y\":[-0.012759409565824683,0.013765077327426047],\"yaxis\":\"y\",\"type\":\"scatter\"},{\"legendgroup\":\"1\",\"line\":{\"color\":\"#808080\"},\"mode\":\"lines\",\"opacity\":0.1,\"showlegend\":false,\"x\":[\"Aged\",\"Young\"],\"xaxis\":\"x\",\"y\":[0.012759409565824692,-0.013765077327426056],\"yaxis\":\"y\",\"type\":\"scatter\"},{\"legendgroup\":\"0\",\"line\":{\"color\":\"#808080\"},\"mode\":\"lines\",\"opacity\":0.1,\"showlegend\":false,\"x\":[\"Aged\",\"Young\"],\"xaxis\":\"x\",\"y\":[-0.015143728029115932,0.016337322371453862],\"yaxis\":\"y\",\"type\":\"scatter\"},{\"legendgroup\":\"1\",\"line\":{\"color\":\"#808080\"},\"mode\":\"lines\",\"opacity\":0.1,\"showlegend\":false,\"x\":[\"Aged\",\"Young\"],\"xaxis\":\"x\",\"y\":[0.01514372802911594,-0.01633732237145387],\"yaxis\":\"y\",\"type\":\"scatter\"},{\"legendgroup\":\"0\",\"line\":{\"color\":\"#808080\"},\"mode\":\"lines\",\"opacity\":0.1,\"showlegend\":false,\"x\":[\"Aged\",\"Young\"],\"xaxis\":\"x\",\"y\":[-0.011227007063026316,0.012111894330286524],\"yaxis\":\"y\",\"type\":\"scatter\"},{\"legendgroup\":\"1\",\"line\":{\"color\":\"#808080\"},\"mode\":\"lines\",\"opacity\":0.1,\"showlegend\":false,\"x\":[\"Aged\",\"Young\"],\"xaxis\":\"x\",\"y\":[0.011227007063026321,-0.012111894330286529],\"yaxis\":\"y\",\"type\":\"scatter\"},{\"legendgroup\":\"0\",\"legendgrouptitle\":{\"text\":\"0\"},\"name\":\"Workclass\",\"x\":[\"Federal-gov\",\"Local-gov\",\"Private\",\"Self-emp-inc\",\"Self-emp-not-in*\",\"State-gov\",\"Without-pay\"],\"xaxis\":\"x2\",\"y\":[-0.06869525879742426,-0.010373556895538955,0.004390296077097899,-0.06843708636752215,0.02200916840762393,0.007272168951858268,0.001733871974482451],\"yaxis\":\"y2\",\"type\":\"scatter\"},{\"legendgroup\":\"1\",\"legendgrouptitle\":{\"text\":\"1\"},\"name\":\"Workclass\",\"x\":[\"Federal-gov\",\"Local-gov\",\"Private\",\"Self-emp-inc\",\"Self-emp-not-in*\",\"State-gov\",\"Without-pay\"],\"xaxis\":\"x2\",\"y\":[0.06869525879742429,0.010373556895538968,-0.004390296077097913,0.06843708636752219,-0.022009168407623916,-0.0072721689518582405,-0.0017338719744824371],\"yaxis\":\"y2\",\"type\":\"scatter\"},{\"legendgroup\":\"0\",\"line\":{\"color\":\"#808080\"},\"mode\":\"lines\",\"opacity\":0.1,\"showlegend\":false,\"x\":[\"Federal-gov\",\"Local-gov\",\"Private\",\"Self-emp-inc\",\"Self-emp-not-in*\",\"State-gov\",\"Without-pay\"],\"xaxis\":\"x2\",\"y\":[-0.05387580758954567,-0.011030929654718233,0.004028547707840377,-0.08046704084630935,0.02939494807787052,-0.0012813279262348792,0.004982325934916737],\"yaxis\":\"y2\",\"type\":\"scatter\"},{\"legendgroup\":\"1\",\"line\":{\"color\":\"#808080\"},\"mode\":\"lines\",\"opacity\":0.1,\"showlegend\":false,\"x\":[\"Federal-gov\",\"Local-gov\",\"Private\",\"Self-emp-inc\",\"Self-emp-not-in*\",\"State-gov\",\"Without-pay\"],\"xaxis\":\"x2\",\"y\":[0.05387580758954571,0.011030929654718233,-0.004028547707840377,0.0804670408463094,-0.029394948077870492,0.0012813279262349209,-0.004982325934916709],\"yaxis\":\"y2\",\"type\":\"scatter\"},{\"legendgroup\":\"0\",\"line\":{\"color\":\"#808080\"},\"mode\":\"lines\",\"opacity\":0.1,\"showlegend\":false,\"x\":[\"Federal-gov\",\"Local-gov\",\"Private\",\"Self-emp-inc\",\"Self-emp-not-in*\",\"State-gov\",\"Without-pay\"],\"xaxis\":\"x2\",\"y\":[-0.07542001020470361,0.00851110089786316,0.0020671972044447526,-0.044549629604673305,0.015987254275706783,0.011871400848548763,-0.000674686763257111],\"yaxis\":\"y2\",\"type\":\"scatter\"},{\"legendgroup\":\"1\",\"line\":{\"color\":\"#808080\"},\"mode\":\"lines\",\"opacity\":0.1,\"showlegend\":false,\"x\":[\"Federal-gov\",\"Local-gov\",\"Private\",\"Self-emp-inc\",\"Self-emp-not-in*\",\"State-gov\",\"Without-pay\"],\"xaxis\":\"x2\",\"y\":[0.07542001020470365,-0.00851110089786316,-0.0020671972044447526,0.04454962960467334,-0.015987254275706762,-0.011871400848548742,0.0006746867632571457],\"yaxis\":\"y2\",\"type\":\"scatter\"},{\"legendgroup\":\"0\",\"line\":{\"color\":\"#808080\"},\"mode\":\"lines\",\"opacity\":0.1,\"showlegend\":false,\"x\":[\"Federal-gov\",\"Local-gov\",\"Private\",\"Self-emp-inc\",\"Self-emp-not-in*\",\"State-gov\",\"Without-pay\"],\"xaxis\":\"x2\",\"y\":[-0.0623660187260235,-0.035525986894804504,0.008573059277401707,-0.09659620575410831,0.021507700125061716,-0.004767858609300499,0.0034351525993180504],\"yaxis\":\"y2\",\"type\":\"scatter\"},{\"legendgroup\":\"1\",\"line\":{\"color\":\"#808080\"},\"mode\":\"lines\",\"opacity\":0.1,\"showlegend\":false,\"x\":[\"Federal-gov\",\"Local-gov\",\"Private\",\"Self-emp-inc\",\"Self-emp-not-in*\",\"State-gov\",\"Without-pay\"],\"xaxis\":\"x2\",\"y\":[0.06236601872602353,0.035525986894804525,-0.008573059277401707,0.09659620575410835,-0.0215077001250617,0.00476785860930054,-0.0034351525993180226],\"yaxis\":\"y2\",\"type\":\"scatter\"},{\"legendgroup\":\"0\",\"line\":{\"color\":\"#808080\"},\"mode\":\"lines\",\"opacity\":0.1,\"showlegend\":false,\"x\":[\"Federal-gov\",\"Local-gov\",\"Private\",\"Self-emp-inc\",\"Self-emp-not-in*\",\"State-gov\",\"Without-pay\"],\"xaxis\":\"x2\",\"y\":[-0.06566421122055542,-0.01210863333559252,0.004528286706382029,-0.059359200935035245,0.01583553479528242,0.008899425599091765,-0.0016885807150803164],\"yaxis\":\"y2\",\"type\":\"scatter\"},{\"legendgroup\":\"1\",\"line\":{\"color\":\"#808080\"},\"mode\":\"lines\",\"opacity\":0.1,\"showlegend\":false,\"x\":[\"Federal-gov\",\"Local-gov\",\"Private\",\"Self-emp-inc\",\"Self-emp-not-in*\",\"State-gov\",\"Without-pay\"],\"xaxis\":\"x2\",\"y\":[0.06566421122055546,0.012108633335592527,-0.004528286706382036,0.05935920093503528,-0.0158355347952824,-0.00889942559909173,0.0016885807150803372],\"yaxis\":\"y2\",\"type\":\"scatter\"},{\"legendgroup\":\"0\",\"line\":{\"color\":\"#808080\"},\"mode\":\"lines\",\"opacity\":0.1,\"showlegend\":false,\"x\":[\"Federal-gov\",\"Local-gov\",\"Private\",\"Self-emp-inc\",\"Self-emp-not-in*\",\"State-gov\",\"Without-pay\"],\"xaxis\":\"x2\",\"y\":[-0.07331325435300651,-0.021273991475111005,0.005892435052116118,-0.07031450954136821,0.023774275378522156,-0.00040365891430789447,0.005866034550298979],\"yaxis\":\"y2\",\"type\":\"scatter\"},{\"legendgroup\":\"1\",\"line\":{\"color\":\"#808080\"},\"mode\":\"lines\",\"opacity\":0.1,\"showlegend\":false,\"x\":[\"Federal-gov\",\"Local-gov\",\"Private\",\"Self-emp-inc\",\"Self-emp-not-in*\",\"State-gov\",\"Without-pay\"],\"xaxis\":\"x2\",\"y\":[0.07331325435300655,0.021273991475111033,-0.005892435052116118,0.07031450954136827,-0.02377427537852214,0.0004036589143079361,-0.005866034550298951],\"yaxis\":\"y2\",\"type\":\"scatter\"},{\"legendgroup\":\"0\",\"line\":{\"color\":\"#808080\"},\"mode\":\"lines\",\"opacity\":0.1,\"showlegend\":false,\"x\":[\"Federal-gov\",\"Local-gov\",\"Private\",\"Self-emp-inc\",\"Self-emp-not-in*\",\"State-gov\",\"Without-pay\"],\"xaxis\":\"x2\",\"y\":[-0.08694656789756951,0.008069111803476615,0.002663675615925107,-0.043460723875632934,0.021042010482297008,-0.0003241384173721662,0.0012268577322704158],\"yaxis\":\"y2\",\"type\":\"scatter\"},{\"legendgroup\":\"1\",\"line\":{\"color\":\"#808080\"},\"mode\":\"lines\",\"opacity\":0.1,\"showlegend\":false,\"x\":[\"Federal-gov\",\"Local-gov\",\"Private\",\"Self-emp-inc\",\"Self-emp-not-in*\",\"State-gov\",\"Without-pay\"],\"xaxis\":\"x2\",\"y\":[0.08694656789756952,-0.008069111803476615,-0.0026636756159251207,0.043460723875632955,-0.021042010482297,0.00032413841737217314,-0.001226857732270395],\"yaxis\":\"y2\",\"type\":\"scatter\"},{\"legendgroup\":\"0\",\"line\":{\"color\":\"#808080\"},\"mode\":\"lines\",\"opacity\":0.1,\"showlegend\":false,\"x\":[\"Federal-gov\",\"Local-gov\",\"Private\",\"Self-emp-inc\",\"Self-emp-not-in*\",\"State-gov\",\"Without-pay\"],\"xaxis\":\"x2\",\"y\":[-0.07254580310614389,0.0036249248122229433,0.0019081469302479753,-0.06378191679781227,0.02461141168030903,0.020413538799513548,0.0012636646592589645],\"yaxis\":\"y2\",\"type\":\"scatter\"},{\"legendgroup\":\"1\",\"line\":{\"color\":\"#808080\"},\"mode\":\"lines\",\"opacity\":0.1,\"showlegend\":false,\"x\":[\"Federal-gov\",\"Local-gov\",\"Private\",\"Self-emp-inc\",\"Self-emp-not-in*\",\"State-gov\",\"Without-pay\"],\"xaxis\":\"x2\",\"y\":[0.07254580310614392,-0.0036249248122229433,-0.0019081469302479753,0.06378191679781228,-0.024611411680309003,-0.020413538799513534,-0.001263664659258923],\"yaxis\":\"y2\",\"type\":\"scatter\"},{\"legendgroup\":\"0\",\"line\":{\"color\":\"#808080\"},\"mode\":\"lines\",\"opacity\":0.1,\"showlegend\":false,\"x\":[\"Federal-gov\",\"Local-gov\",\"Private\",\"Self-emp-inc\",\"Self-emp-not-in*\",\"State-gov\",\"Without-pay\"],\"xaxis\":\"x2\",\"y\":[-0.05420818570202396,0.00047919769223557507,0.0018462699550896439,-0.060706515207059636,0.021000073512656717,0.01776411809638488,-0.004591401622339168],\"yaxis\":\"y2\",\"type\":\"scatter\"},{\"legendgroup\":\"1\",\"line\":{\"color\":\"#808080\"},\"mode\":\"lines\",\"opacity\":0.1,\"showlegend\":false,\"x\":[\"Federal-gov\",\"Local-gov\",\"Private\",\"Self-emp-inc\",\"Self-emp-not-in*\",\"State-gov\",\"Without-pay\"],\"xaxis\":\"x2\",\"y\":[0.05420818570202399,-0.0004791976922355612,-0.0018462699550896577,0.06070651520705968,-0.021000073512656703,-0.017764118096384854,0.004591401622339189],\"yaxis\":\"y2\",\"type\":\"scatter\"},{\"legendgroup\":\"0\",\"line\":{\"color\":\"#808080\"},\"mode\":\"lines\",\"opacity\":0.1,\"showlegend\":false,\"x\":[\"Federal-gov\",\"Local-gov\",\"Private\",\"Self-emp-inc\",\"Self-emp-not-in*\",\"State-gov\",\"Without-pay\"],\"xaxis\":\"x2\",\"y\":[-0.0661906125521346,-0.027158663160595918,0.008042181241473781,-0.08892326660043985,0.021032061214958472,-0.012334221612841298,0.00522903298113378],\"yaxis\":\"y2\",\"type\":\"scatter\"},{\"legendgroup\":\"1\",\"line\":{\"color\":\"#808080\"},\"mode\":\"lines\",\"opacity\":0.1,\"showlegend\":false,\"x\":[\"Federal-gov\",\"Local-gov\",\"Private\",\"Self-emp-inc\",\"Self-emp-not-in*\",\"State-gov\",\"Without-pay\"],\"xaxis\":\"x2\",\"y\":[0.06619061255213463,0.027158663160595925,-0.008042181241473795,0.08892326660043989,-0.02103206121495846,0.012334221612841312,-0.005229032981133752],\"yaxis\":\"y2\",\"type\":\"scatter\"},{\"legendgroup\":\"0\",\"line\":{\"color\":\"#808080\"},\"mode\":\"lines\",\"opacity\":0.1,\"showlegend\":false,\"x\":[\"Federal-gov\",\"Local-gov\",\"Private\",\"Self-emp-inc\",\"Self-emp-not-in*\",\"State-gov\",\"Without-pay\"],\"xaxis\":\"x2\",\"y\":[-0.058414716189534116,-0.008202815496262353,0.004487454732414853,-0.07604593040161864,0.023482968467869056,-0.002962589046034317,0.0016513050752265668],\"yaxis\":\"y2\",\"type\":\"scatter\"},{\"legendgroup\":\"1\",\"line\":{\"color\":\"#808080\"},\"mode\":\"lines\",\"opacity\":0.1,\"showlegend\":false,\"x\":[\"Federal-gov\",\"Local-gov\",\"Private\",\"Self-emp-inc\",\"Self-emp-not-in*\",\"State-gov\",\"Without-pay\"],\"xaxis\":\"x2\",\"y\":[0.05841471618953415,0.008202815496262353,-0.004487454732414867,0.07604593040161865,-0.023482968467869028,0.0029625890460343307,-0.001651305075226539],\"yaxis\":\"y2\",\"type\":\"scatter\"},{\"legendgroup\":\"0\",\"legendgrouptitle\":{\"text\":\"0\"},\"name\":\"Education\",\"x\":[\"10th\",\"11th\",\"12th\",\"1st-4th\",\"5th-6th\",\"7th-8th\",\"9th\",\"Assoc-acdm\",\"Assoc-voc\",\"Bachelors\",\"Doctorate\",\"HS-grad\",\"Masters\",\"Preschool\",\"Prof-school\",\"Some-college\"],\"xaxis\":\"x3\",\"y\":[0.07466781266561029,0.07987234608965002,0.036847459249990916,0.05007222287742058,0.07321918137531111,0.08621634326633901,0.08326917353604651,0.004552357596796203,-0.00452283600085443,-0.07340536383587566,-0.1537037572860425,0.040781905102185656,-0.14044780725037578,0.0553625066426994,-0.1733430001821166,0.010628668467293378],\"yaxis\":\"y3\",\"type\":\"scatter\"},{\"legendgroup\":\"1\",\"legendgrouptitle\":{\"text\":\"1\"},\"name\":\"Education\",\"x\":[\"10th\",\"11th\",\"12th\",\"1st-4th\",\"5th-6th\",\"7th-8th\",\"9th\",\"Assoc-acdm\",\"Assoc-voc\",\"Bachelors\",\"Doctorate\",\"HS-grad\",\"Masters\",\"Preschool\",\"Prof-school\",\"Some-college\"],\"xaxis\":\"x3\",\"y\":[-0.07466781266561026,-0.07987234608964996,-0.03684745924999089,-0.05007222287742055,-0.07321918137531108,-0.08621634326633898,-0.08326917353604649,-0.004552357596796175,0.004522836000854458,0.07340536383587563,0.15370375728604252,-0.040781905102185656,0.14044780725037576,-0.055362506642699344,0.17334300018211662,-0.010628668467293378],\"yaxis\":\"y3\",\"type\":\"scatter\"},{\"legendgroup\":\"0\",\"line\":{\"color\":\"#808080\"},\"mode\":\"lines\",\"opacity\":0.1,\"showlegend\":false,\"x\":[\"10th\",\"11th\",\"12th\",\"1st-4th\",\"5th-6th\",\"7th-8th\",\"9th\",\"Assoc-acdm\",\"Assoc-voc\",\"Bachelors\",\"Doctorate\",\"HS-grad\",\"Masters\",\"Preschool\",\"Prof-school\",\"Some-college\"],\"xaxis\":\"x3\",\"y\":[0.07604131259592689,0.06981079853178701,0.019650314972673527,0.04020029319545801,0.07390720635785217,0.08259133559032072,0.08141146480952188,0.004624342163918507,-0.001498837404951145,-0.07601613827579022,-0.11384653059167102,0.045495717858206636,-0.1503664505458583,0.03723203537680658,-0.18117183040268942,0.008769896061077864],\"yaxis\":\"y3\",\"type\":\"scatter\"},{\"legendgroup\":\"1\",\"line\":{\"color\":\"#808080\"},\"mode\":\"lines\",\"opacity\":0.1,\"showlegend\":false,\"x\":[\"10th\",\"11th\",\"12th\",\"1st-4th\",\"5th-6th\",\"7th-8th\",\"9th\",\"Assoc-acdm\",\"Assoc-voc\",\"Bachelors\",\"Doctorate\",\"HS-grad\",\"Masters\",\"Preschool\",\"Prof-school\",\"Some-college\"],\"xaxis\":\"x3\",\"y\":[-0.07604131259592682,-0.06981079853178694,-0.019650314972673458,-0.04020029319545791,-0.07390720635785207,-0.08259133559032066,-0.08141146480952181,-0.004624342163918466,0.0014988374049511727,0.0760161382757902,0.113846530591671,-0.04549571785820662,0.15036645054585823,-0.03723203537680646,0.18117183040268942,-0.008769896061077864],\"yaxis\":\"y3\",\"type\":\"scatter\"},{\"legendgroup\":\"0\",\"line\":{\"color\":\"#808080\"},\"mode\":\"lines\",\"opacity\":0.1,\"showlegend\":false,\"x\":[\"10th\",\"11th\",\"12th\",\"1st-4th\",\"5th-6th\",\"7th-8th\",\"9th\",\"Assoc-acdm\",\"Assoc-voc\",\"Bachelors\",\"Doctorate\",\"HS-grad\",\"Masters\",\"Preschool\",\"Prof-school\",\"Some-college\"],\"xaxis\":\"x3\",\"y\":[0.08600694907449125,0.09540375105952692,0.049983318042121694,0.02755390904011157,0.07273184408346231,0.08149086691318358,0.07306834996725176,0.010952228495660354,0.00015727185689035084,-0.07683153119555962,-0.14045649605794408,0.03945958920253487,-0.1420349315870957,0.03308528405786276,-0.15646577451342275,0.008976759480328278],\"yaxis\":\"y3\",\"type\":\"scatter\"},{\"legendgroup\":\"1\",\"line\":{\"color\":\"#808080\"},\"mode\":\"lines\",\"opacity\":0.1,\"showlegend\":false,\"x\":[\"10th\",\"11th\",\"12th\",\"1st-4th\",\"5th-6th\",\"7th-8th\",\"9th\",\"Assoc-acdm\",\"Assoc-voc\",\"Bachelors\",\"Doctorate\",\"HS-grad\",\"Masters\",\"Preschool\",\"Prof-school\",\"Some-college\"],\"xaxis\":\"x3\",\"y\":[-0.08600694907449119,-0.09540375105952681,-0.04998331804212158,-0.027553909040111402,-0.07273184408346217,-0.08149086691318352,-0.07306834996725167,-0.010952228495660299,-0.00015727185689032308,0.0768315311955596,0.14045649605794408,-0.03945958920253487,0.14203493158709568,-0.03308528405786257,0.15646577451342278,-0.008976759480328278],\"yaxis\":\"y3\",\"type\":\"scatter\"},{\"legendgroup\":\"0\",\"line\":{\"color\":\"#808080\"},\"mode\":\"lines\",\"opacity\":0.1,\"showlegend\":false,\"x\":[\"10th\",\"11th\",\"12th\",\"1st-4th\",\"5th-6th\",\"7th-8th\",\"9th\",\"Assoc-acdm\",\"Assoc-voc\",\"Bachelors\",\"Doctorate\",\"HS-grad\",\"Masters\",\"Preschool\",\"Prof-school\",\"Some-college\"],\"xaxis\":\"x3\",\"y\":[0.05643759994706472,0.05721711350712032,0.025442933086539152,0.038126066566068414,0.03864080176384445,0.09608653214958617,0.06017762944974568,-0.00420326897742844,0.004635617332558781,-0.06667860282044236,-0.11616100373571493,0.040074523507795265,-0.14013875231270279,0.028002989642991513,-0.1383537818657083,0.01011075123734885],\"yaxis\":\"y3\",\"type\":\"scatter\"},{\"legendgroup\":\"1\",\"line\":{\"color\":\"#808080\"},\"mode\":\"lines\",\"opacity\":0.1,\"showlegend\":false,\"x\":[\"10th\",\"11th\",\"12th\",\"1st-4th\",\"5th-6th\",\"7th-8th\",\"9th\",\"Assoc-acdm\",\"Assoc-voc\",\"Bachelors\",\"Doctorate\",\"HS-grad\",\"Masters\",\"Preschool\",\"Prof-school\",\"Some-college\"],\"xaxis\":\"x3\",\"y\":[-0.05643759994706472,-0.05721711350712029,-0.025442933086539152,-0.03812606656606839,-0.03864080176384442,-0.09608653214958614,-0.060177629449745654,0.004203268977428495,-0.004635617332558753,0.06667860282044238,0.11616100373571502,-0.040074523507795265,0.14013875231270279,-0.028002989642991458,0.13835378186570835,-0.01011075123734885],\"yaxis\":\"y3\",\"type\":\"scatter\"},{\"legendgroup\":\"0\",\"line\":{\"color\":\"#808080\"},\"mode\":\"lines\",\"opacity\":0.1,\"showlegend\":false,\"x\":[\"10th\",\"11th\",\"12th\",\"1st-4th\",\"5th-6th\",\"7th-8th\",\"9th\",\"Assoc-acdm\",\"Assoc-voc\",\"Bachelors\",\"Doctorate\",\"HS-grad\",\"Masters\",\"Preschool\",\"Prof-school\",\"Some-college\"],\"xaxis\":\"x3\",\"y\":[0.05596178911181049,0.051572625455071075,0.03156272682417163,0.056544193296202055,0.05622212694326548,0.08939258541821424,0.07082141584753732,0.0031894977085762666,-0.0010359643185382655,-0.07270592511891541,-0.08289423599177331,0.039826590950821694,-0.12945728105409382,0.047888750572962435,-0.1325797889424194,0.009347151844355903],\"yaxis\":\"y3\",\"type\":\"scatter\"},{\"legendgroup\":\"1\",\"line\":{\"color\":\"#808080\"},\"mode\":\"lines\",\"opacity\":0.1,\"showlegend\":false,\"x\":[\"10th\",\"11th\",\"12th\",\"1st-4th\",\"5th-6th\",\"7th-8th\",\"9th\",\"Assoc-acdm\",\"Assoc-voc\",\"Bachelors\",\"Doctorate\",\"HS-grad\",\"Masters\",\"Preschool\",\"Prof-school\",\"Some-college\"],\"xaxis\":\"x3\",\"y\":[-0.0559617891118105,-0.05157262545507109,-0.03156272682417166,-0.05654419329620207,-0.05622212694326549,-0.08939258541821422,-0.07082141584753733,-0.0031894977085762527,0.0010359643185382655,0.07270592511891541,0.08289423599177335,-0.03982659095082172,0.12945728105409382,-0.04788875057296245,0.13257978894241942,-0.00934715184435593],\"yaxis\":\"y3\",\"type\":\"scatter\"},{\"legendgroup\":\"0\",\"line\":{\"color\":\"#808080\"},\"mode\":\"lines\",\"opacity\":0.1,\"showlegend\":false,\"x\":[\"10th\",\"11th\",\"12th\",\"1st-4th\",\"5th-6th\",\"7th-8th\",\"9th\",\"Assoc-acdm\",\"Assoc-voc\",\"Bachelors\",\"Doctorate\",\"HS-grad\",\"Masters\",\"Preschool\",\"Prof-school\",\"Some-college\"],\"xaxis\":\"x3\",\"y\":[0.07801292375642069,0.07497371717352677,0.05095040479723159,0.0434064100707931,0.06843401377280744,0.08156563102881839,0.07548893769108272,-0.005134395277341525,-0.012755358120817128,-0.07980243870831934,-0.16996247174717147,0.04893333005642453,-0.15527005775562078,0.05491153827592132,-0.16040805768680502,0.010778472836735387],\"yaxis\":\"y3\",\"type\":\"scatter\"},{\"legendgroup\":\"1\",\"line\":{\"color\":\"#808080\"},\"mode\":\"lines\",\"opacity\":0.1,\"showlegend\":false,\"x\":[\"10th\",\"11th\",\"12th\",\"1st-4th\",\"5th-6th\",\"7th-8th\",\"9th\",\"Assoc-acdm\",\"Assoc-voc\",\"Bachelors\",\"Doctorate\",\"HS-grad\",\"Masters\",\"Preschool\",\"Prof-school\",\"Some-college\"],\"xaxis\":\"x3\",\"y\":[-0.07801292375642069,-0.0749737171735268,-0.05095040479723162,-0.04340641007079313,-0.06843401377280747,-0.08156563102881839,-0.07548893769108275,0.005134395277341469,0.012755358120817073,0.07980243870831924,0.1699624717471714,-0.04893333005642461,0.15527005775562067,-0.05491153827592135,0.16040805768680497,-0.01077847283673547],\"yaxis\":\"y3\",\"type\":\"scatter\"},{\"legendgroup\":\"0\",\"line\":{\"color\":\"#808080\"},\"mode\":\"lines\",\"opacity\":0.1,\"showlegend\":false,\"x\":[\"10th\",\"11th\",\"12th\",\"1st-4th\",\"5th-6th\",\"7th-8th\",\"9th\",\"Assoc-acdm\",\"Assoc-voc\",\"Bachelors\",\"Doctorate\",\"HS-grad\",\"Masters\",\"Preschool\",\"Prof-school\",\"Some-college\"],\"xaxis\":\"x3\",\"y\":[0.07915524803976517,0.0890254050260734,0.0465379927965216,0.07766187937603322,0.08912021837156517,0.09672807685368817,0.07921186461965121,-0.0038140283951115794,-0.012713245494859582,-0.0806696774063318,-0.15856345921383053,0.04307220463660638,-0.13631567394453456,0.06880208111203984,-0.14890494241371305,0.008525163705977001],\"yaxis\":\"y3\",\"type\":\"scatter\"},{\"legendgroup\":\"1\",\"line\":{\"color\":\"#808080\"},\"mode\":\"lines\",\"opacity\":0.1,\"showlegend\":false,\"x\":[\"10th\",\"11th\",\"12th\",\"1st-4th\",\"5th-6th\",\"7th-8th\",\"9th\",\"Assoc-acdm\",\"Assoc-voc\",\"Bachelors\",\"Doctorate\",\"HS-grad\",\"Masters\",\"Preschool\",\"Prof-school\",\"Some-college\"],\"xaxis\":\"x3\",\"y\":[-0.07915524803976512,-0.08902540502607331,-0.04653799279652154,-0.07766187937603317,-0.08912021837156509,-0.09672807685368812,-0.07921186461965113,0.0038140283951116627,0.012713245494859637,0.08066967740633185,0.15856345921383058,-0.043072204636606354,0.1363156739445346,-0.06880208111203975,0.14890494241371313,-0.008525163705976974],\"yaxis\":\"y3\",\"type\":\"scatter\"},{\"legendgroup\":\"0\",\"line\":{\"color\":\"#808080\"},\"mode\":\"lines\",\"opacity\":0.1,\"showlegend\":false,\"x\":[\"10th\",\"11th\",\"12th\",\"1st-4th\",\"5th-6th\",\"7th-8th\",\"9th\",\"Assoc-acdm\",\"Assoc-voc\",\"Bachelors\",\"Doctorate\",\"HS-grad\",\"Masters\",\"Preschool\",\"Prof-school\",\"Some-college\"],\"xaxis\":\"x3\",\"y\":[0.06458274369176759,0.07963354702604136,0.05702236462178267,0.06535218492840156,0.09023781186038937,0.08206163428353608,0.06568161076352252,-0.0062350994679498395,-0.009702440413956293,-0.0666635483182334,-0.21033712155001,0.041727402416367465,-0.14213399205604021,0.06334357561318849,-0.1562284716116499,0.009570005741087406],\"yaxis\":\"y3\",\"type\":\"scatter\"},{\"legendgroup\":\"1\",\"line\":{\"color\":\"#808080\"},\"mode\":\"lines\",\"opacity\":0.1,\"showlegend\":false,\"x\":[\"10th\",\"11th\",\"12th\",\"1st-4th\",\"5th-6th\",\"7th-8th\",\"9th\",\"Assoc-acdm\",\"Assoc-voc\",\"Bachelors\",\"Doctorate\",\"HS-grad\",\"Masters\",\"Preschool\",\"Prof-school\",\"Some-college\"],\"xaxis\":\"x3\",\"y\":[-0.06458274369176761,-0.07963354702604133,-0.057022364621782645,-0.06535218492840153,-0.09023781186038934,-0.08206163428353605,-0.0656816107635225,0.006235099467949923,0.009702440413956348,0.06666354831823343,0.21033712155001008,-0.04172740241636749,0.14213399205604024,-0.06334357561318846,0.15622847161165,-0.009570005741087378],\"yaxis\":\"y3\",\"type\":\"scatter\"},{\"legendgroup\":\"0\",\"line\":{\"color\":\"#808080\"},\"mode\":\"lines\",\"opacity\":0.1,\"showlegend\":false,\"x\":[\"10th\",\"11th\",\"12th\",\"1st-4th\",\"5th-6th\",\"7th-8th\",\"9th\",\"Assoc-acdm\",\"Assoc-voc\",\"Bachelors\",\"Doctorate\",\"HS-grad\",\"Masters\",\"Preschool\",\"Prof-school\",\"Some-college\"],\"xaxis\":\"x3\",\"y\":[0.09515964511860675,0.07273126011426836,0.0388532520982523,0.062087573915866195,0.06418834467288695,0.08774502190651706,0.08105828279957883,0.012978399843298127,-0.012925617812404228,-0.07122863690509948,-0.1660419363128378,0.03845793856119861,-0.1399757457811376,0.06101065083894311,-0.18785705769938776,0.013271908272866673],\"yaxis\":\"y3\",\"type\":\"scatter\"},{\"legendgroup\":\"1\",\"line\":{\"color\":\"#808080\"},\"mode\":\"lines\",\"opacity\":0.1,\"showlegend\":false,\"x\":[\"10th\",\"11th\",\"12th\",\"1st-4th\",\"5th-6th\",\"7th-8th\",\"9th\",\"Assoc-acdm\",\"Assoc-voc\",\"Bachelors\",\"Doctorate\",\"HS-grad\",\"Masters\",\"Preschool\",\"Prof-school\",\"Some-college\"],\"xaxis\":\"x3\",\"y\":[-0.09515964511860675,-0.07273126011426834,-0.0388532520982523,-0.062087573915866195,-0.06418834467288695,-0.08774502190651706,-0.08105828279957883,-0.012978399843298127,0.012925617812404228,0.07122863690509942,0.1660419363128378,-0.03845793856119867,0.13997574578113756,-0.06101065083894311,0.18785705769938776,-0.013271908272866728],\"yaxis\":\"y3\",\"type\":\"scatter\"},{\"legendgroup\":\"0\",\"line\":{\"color\":\"#808080\"},\"mode\":\"lines\",\"opacity\":0.1,\"showlegend\":false,\"x\":[\"10th\",\"11th\",\"12th\",\"1st-4th\",\"5th-6th\",\"7th-8th\",\"9th\",\"Assoc-acdm\",\"Assoc-voc\",\"Bachelors\",\"Doctorate\",\"HS-grad\",\"Masters\",\"Preschool\",\"Prof-school\",\"Some-college\"],\"xaxis\":\"x3\",\"y\":[0.09196715894189908,0.07662899216715172,0.048547825431030506,0.06984360068766968,0.07925766323826453,0.0871691673529234,0.08634549588723611,0.02117432449345011,-0.014042030682444667,-0.0628492835397589,-0.1556591242455211,0.03437288160706156,-0.11484228246970293,0.041290232009854155,-0.19989210634661916,0.004604301829159468],\"yaxis\":\"y3\",\"type\":\"scatter\"},{\"legendgroup\":\"1\",\"line\":{\"color\":\"#808080\"},\"mode\":\"lines\",\"opacity\":0.1,\"showlegend\":false,\"x\":[\"10th\",\"11th\",\"12th\",\"1st-4th\",\"5th-6th\",\"7th-8th\",\"9th\",\"Assoc-acdm\",\"Assoc-voc\",\"Bachelors\",\"Doctorate\",\"HS-grad\",\"Masters\",\"Preschool\",\"Prof-school\",\"Some-college\"],\"xaxis\":\"x3\",\"y\":[-0.09196715894189902,-0.07662899216715166,-0.04854782543103048,-0.06984360068766965,-0.07925766323826447,-0.08716916735292335,-0.08634549588723608,-0.02117432449345008,0.014042030682444667,0.06284928353975888,0.15565912424552114,-0.03437288160706156,0.11484228246970293,-0.04129023200985413,0.1998921063466192,-0.004604301829159468],\"yaxis\":\"y3\",\"type\":\"scatter\"},{\"legendgroup\":\"0\",\"line\":{\"color\":\"#808080\"},\"mode\":\"lines\",\"opacity\":0.1,\"showlegend\":false,\"x\":[\"10th\",\"11th\",\"12th\",\"1st-4th\",\"5th-6th\",\"7th-8th\",\"9th\",\"Assoc-acdm\",\"Assoc-voc\",\"Bachelors\",\"Doctorate\",\"HS-grad\",\"Masters\",\"Preschool\",\"Prof-school\",\"Some-college\"],\"xaxis\":\"x3\",\"y\":[0.06055041001619836,0.07680258766211052,0.034710522208417624,0.05418987022367548,0.06825325098434439,0.09124986158233668,0.0734148244833439,0.0036316204325465423,0.006486298887976999,-0.07099281590051114,-0.11024790270154063,0.038165377574176,-0.13616230274248847,0.04775424748390823,-0.16450587579266676,0.009253056996221531],\"yaxis\":\"y3\",\"type\":\"scatter\"},{\"legendgroup\":\"1\",\"line\":{\"color\":\"#808080\"},\"mode\":\"lines\",\"opacity\":0.1,\"showlegend\":false,\"x\":[\"10th\",\"11th\",\"12th\",\"1st-4th\",\"5th-6th\",\"7th-8th\",\"9th\",\"Assoc-acdm\",\"Assoc-voc\",\"Bachelors\",\"Doctorate\",\"HS-grad\",\"Masters\",\"Preschool\",\"Prof-school\",\"Some-college\"],\"xaxis\":\"x3\",\"y\":[-0.06055041001619832,-0.07680258766211046,-0.03471052220841758,-0.05418987022367541,-0.06825325098434434,-0.09124986158233661,-0.07341482448334383,-0.0036316204325465284,-0.006486298887976985,0.0709928159005111,0.11024790270154064,-0.038165377574175985,0.13616230274248844,-0.04775424748390816,0.1645058757926668,-0.009253056996221531],\"yaxis\":\"y3\",\"type\":\"scatter\"},{\"legendgroup\":\"0\",\"legendgrouptitle\":{\"text\":\"0\"},\"name\":\"Occupation\",\"x\":[\"Adm-clerical\",\"Armed-Forces\",\"Craft-repair\",\"Exec-managerial\",\"Farming-fishing\",\"Handlers-cleane*\",\"Machine-op-insp*\",\"Other-service\",\"Priv-house-serv\",\"Prof-specialty\",\"Protective-serv\",\"Sales\",\"Tech-support\",\"Transport-movin*\"],\"xaxis\":\"x4\",\"y\":[-0.006806970770217073,0.003815940778016065,0.04182503348683304,-0.07136830997756966,0.10836803237867126,0.03994372112075335,0.030182386000242308,0.0441838452558696,0.027741304954049535,-0.03560246322931806,0.003564488219035343,-0.029821157292059176,-0.06482806789477638,0.05079723882543256],\"yaxis\":\"y4\",\"type\":\"scatter\"},{\"legendgroup\":\"1\",\"legendgrouptitle\":{\"text\":\"1\"},\"name\":\"Occupation\",\"x\":[\"Adm-clerical\",\"Armed-Forces\",\"Craft-repair\",\"Exec-managerial\",\"Farming-fishing\",\"Handlers-cleane*\",\"Machine-op-insp*\",\"Other-service\",\"Priv-house-serv\",\"Prof-specialty\",\"Protective-serv\",\"Sales\",\"Tech-support\",\"Transport-movin*\"],\"xaxis\":\"x4\",\"y\":[0.006806970770217094,-0.0038159407780160165,-0.04182503348683305,0.07136830997756964,-0.10836803237867124,-0.03994372112075331,-0.03018238600024232,-0.04418384525586956,-0.027741304954049487,0.03560246322931805,-0.003564488219035322,0.029821157292059156,0.06482806789477638,-0.050797238825432564],\"yaxis\":\"y4\",\"type\":\"scatter\"},{\"legendgroup\":\"0\",\"line\":{\"color\":\"#808080\"},\"mode\":\"lines\",\"opacity\":0.1,\"showlegend\":false,\"x\":[\"Adm-clerical\",\"Armed-Forces\",\"Craft-repair\",\"Exec-managerial\",\"Farming-fishing\",\"Handlers-cleane*\",\"Machine-op-insp*\",\"Other-service\",\"Priv-house-serv\",\"Prof-specialty\",\"Protective-serv\",\"Sales\",\"Tech-support\",\"Transport-movin*\"],\"xaxis\":\"x4\",\"y\":[-0.024405543766676384,-0.008581910536447405,0.03313075604413794,-0.05525167578417808,0.0997683732782384,0.03477280026254384,0.036660983949938906,0.05179867152398929,0.03036974312578892,-0.021848035337074488,0.019134028557164375,-0.0362657548807852,-0.06346285543572125,0.03345724764928181],\"yaxis\":\"y4\",\"type\":\"scatter\"},{\"legendgroup\":\"1\",\"line\":{\"color\":\"#808080\"},\"mode\":\"lines\",\"opacity\":0.1,\"showlegend\":false,\"x\":[\"Adm-clerical\",\"Armed-Forces\",\"Craft-repair\",\"Exec-managerial\",\"Farming-fishing\",\"Handlers-cleane*\",\"Machine-op-insp*\",\"Other-service\",\"Priv-house-serv\",\"Prof-specialty\",\"Protective-serv\",\"Sales\",\"Tech-support\",\"Transport-movin*\"],\"xaxis\":\"x4\",\"y\":[0.024405543766676432,0.008581910536447482,-0.03313075604413797,0.055251675784178014,-0.0997683732782384,-0.034772800262543785,-0.03666098394993887,-0.051798671523989245,-0.03036974312578887,0.021848035337074433,-0.01913402855716441,0.036265754880785206,0.06346285543572129,-0.03345724764928182],\"yaxis\":\"y4\",\"type\":\"scatter\"},{\"legendgroup\":\"0\",\"line\":{\"color\":\"#808080\"},\"mode\":\"lines\",\"opacity\":0.1,\"showlegend\":false,\"x\":[\"Adm-clerical\",\"Armed-Forces\",\"Craft-repair\",\"Exec-managerial\",\"Farming-fishing\",\"Handlers-cleane*\",\"Machine-op-insp*\",\"Other-service\",\"Priv-house-serv\",\"Prof-specialty\",\"Protective-serv\",\"Sales\",\"Tech-support\",\"Transport-movin*\"],\"xaxis\":\"x4\",\"y\":[0.00702796478868143,0.009542048840767984,0.04384822039131996,-0.08081502627747081,0.11711240574913666,0.04393726054128513,0.03263840270500655,0.036957876093993904,0.031967502877404075,-0.03845887398367104,0.0067855295180473535,-0.031649530081812205,-0.06752121913386039,0.05126331376197785],\"yaxis\":\"y4\",\"type\":\"scatter\"},{\"legendgroup\":\"1\",\"line\":{\"color\":\"#808080\"},\"mode\":\"lines\",\"opacity\":0.1,\"showlegend\":false,\"x\":[\"Adm-clerical\",\"Armed-Forces\",\"Craft-repair\",\"Exec-managerial\",\"Farming-fishing\",\"Handlers-cleane*\",\"Machine-op-insp*\",\"Other-service\",\"Priv-house-serv\",\"Prof-specialty\",\"Protective-serv\",\"Sales\",\"Tech-support\",\"Transport-movin*\"],\"xaxis\":\"x4\",\"y\":[-0.0070279647886814095,-0.009542048840767942,-0.04384822039132002,0.08081502627747081,-0.11711240574913664,-0.04393726054128508,-0.03263840270500657,-0.036957876093993876,-0.031967502877404026,0.03845887398367103,-0.006785529518047333,0.031649530081812184,0.06752121913386039,-0.05126331376197788],\"yaxis\":\"y4\",\"type\":\"scatter\"},{\"legendgroup\":\"0\",\"line\":{\"color\":\"#808080\"},\"mode\":\"lines\",\"opacity\":0.1,\"showlegend\":false,\"x\":[\"Adm-clerical\",\"Armed-Forces\",\"Craft-repair\",\"Exec-managerial\",\"Farming-fishing\",\"Handlers-cleane*\",\"Machine-op-insp*\",\"Other-service\",\"Priv-house-serv\",\"Prof-specialty\",\"Protective-serv\",\"Sales\",\"Tech-support\",\"Transport-movin*\"],\"xaxis\":\"x4\",\"y\":[-0.010092192677652666,-0.0034983187765536446,0.044726154554661925,-0.08238847075905005,0.11510218998208416,0.04424793678822962,0.018353143285432503,0.04592617577480761,0.029056086331398497,-0.02398542901442283,0.007581168946066152,-0.031614400441241655,-0.07435057061754557,0.06083979848229207],\"yaxis\":\"y4\",\"type\":\"scatter\"},{\"legendgroup\":\"1\",\"line\":{\"color\":\"#808080\"},\"mode\":\"lines\",\"opacity\":0.1,\"showlegend\":false,\"x\":[\"Adm-clerical\",\"Armed-Forces\",\"Craft-repair\",\"Exec-managerial\",\"Farming-fishing\",\"Handlers-cleane*\",\"Machine-op-insp*\",\"Other-service\",\"Priv-house-serv\",\"Prof-specialty\",\"Protective-serv\",\"Sales\",\"Tech-support\",\"Transport-movin*\"],\"xaxis\":\"x4\",\"y\":[0.010092192677652687,0.003498318776553707,-0.044726154554661945,0.08238847075905001,-0.11510218998208413,-0.04424793678822957,-0.018353143285432506,-0.04592617577480756,-0.029056086331398442,0.02398542901442281,-0.007581168946066138,0.03161440044124164,0.07435057061754557,-0.06083979848229207],\"yaxis\":\"y4\",\"type\":\"scatter\"},{\"legendgroup\":\"0\",\"line\":{\"color\":\"#808080\"},\"mode\":\"lines\",\"opacity\":0.1,\"showlegend\":false,\"x\":[\"Adm-clerical\",\"Armed-Forces\",\"Craft-repair\",\"Exec-managerial\",\"Farming-fishing\",\"Handlers-cleane*\",\"Machine-op-insp*\",\"Other-service\",\"Priv-house-serv\",\"Prof-specialty\",\"Protective-serv\",\"Sales\",\"Tech-support\",\"Transport-movin*\"],\"xaxis\":\"x4\",\"y\":[-0.006749842359508401,0.0031280033025229484,0.03311680243074753,-0.057287762338352026,0.09766979894147931,0.04654807939583216,0.0385962182510512,0.043971259681199075,0.0352785330003389,-0.03734817819571428,0.010855379049542833,-0.031378747840445524,-0.08305483243649883,0.043956364826230616],\"yaxis\":\"y4\",\"type\":\"scatter\"},{\"legendgroup\":\"1\",\"line\":{\"color\":\"#808080\"},\"mode\":\"lines\",\"opacity\":0.1,\"showlegend\":false,\"x\":[\"Adm-clerical\",\"Armed-Forces\",\"Craft-repair\",\"Exec-managerial\",\"Farming-fishing\",\"Handlers-cleane*\",\"Machine-op-insp*\",\"Other-service\",\"Priv-house-serv\",\"Prof-specialty\",\"Protective-serv\",\"Sales\",\"Tech-support\",\"Transport-movin*\"],\"xaxis\":\"x4\",\"y\":[0.006749842359508429,-0.003128003302522886,-0.033116802430747556,0.057287762338352,-0.09766979894147931,-0.04654807939583211,-0.038596218251051195,-0.04397125968119903,-0.03527853300033886,0.03734817819571425,-0.010855379049542833,0.03137874784044551,0.08305483243649883,-0.043956364826230644],\"yaxis\":\"y4\",\"type\":\"scatter\"},{\"legendgroup\":\"0\",\"line\":{\"color\":\"#808080\"},\"mode\":\"lines\",\"opacity\":0.1,\"showlegend\":false,\"x\":[\"Adm-clerical\",\"Armed-Forces\",\"Craft-repair\",\"Exec-managerial\",\"Farming-fishing\",\"Handlers-cleane*\",\"Machine-op-insp*\",\"Other-service\",\"Priv-house-serv\",\"Prof-specialty\",\"Protective-serv\",\"Sales\",\"Tech-support\",\"Transport-movin*\"],\"xaxis\":\"x4\",\"y\":[0.004252439499983836,0.012442748505944987,0.04526569496726285,-0.08005797046359424,0.11151444721680011,0.04398949183666198,0.03773507978400738,0.051847628210320684,0.03824301089251157,-0.04416208098662605,-0.00963290479465019,-0.03612342012240928,-0.06478771594467171,0.04946587222920866],\"yaxis\":\"y4\",\"type\":\"scatter\"},{\"legendgroup\":\"1\",\"line\":{\"color\":\"#808080\"},\"mode\":\"lines\",\"opacity\":0.1,\"showlegend\":false,\"x\":[\"Adm-clerical\",\"Armed-Forces\",\"Craft-repair\",\"Exec-managerial\",\"Farming-fishing\",\"Handlers-cleane*\",\"Machine-op-insp*\",\"Other-service\",\"Priv-house-serv\",\"Prof-specialty\",\"Protective-serv\",\"Sales\",\"Tech-support\",\"Transport-movin*\"],\"xaxis\":\"x4\",\"y\":[-0.004252439499983829,-0.012442748505944956,-0.04526569496726287,0.0800579704635942,-0.11151444721680008,-0.043989491836661954,-0.037735079784007405,-0.05184762821032068,-0.03824301089251156,0.04416208098662602,0.00963290479465019,0.03612342012240925,0.06478771594467173,-0.049465872229208674],\"yaxis\":\"y4\",\"type\":\"scatter\"},{\"legendgroup\":\"0\",\"line\":{\"color\":\"#808080\"},\"mode\":\"lines\",\"opacity\":0.1,\"showlegend\":false,\"x\":[\"Adm-clerical\",\"Armed-Forces\",\"Craft-repair\",\"Exec-managerial\",\"Farming-fishing\",\"Handlers-cleane*\",\"Machine-op-insp*\",\"Other-service\",\"Priv-house-serv\",\"Prof-specialty\",\"Protective-serv\",\"Sales\",\"Tech-support\",\"Transport-movin*\"],\"xaxis\":\"x4\",\"y\":[-0.021234387421864547,-0.012974615146960695,0.05101691417995251,-0.06496661769022087,0.11290129887246159,0.019826653027530252,0.029208379060315155,0.0223837860147117,0.008651829485652431,-0.01909723753772347,0.014304883368548082,-0.022531506600244014,-0.08128695003216763,0.05239364124338991],\"yaxis\":\"y4\",\"type\":\"scatter\"},{\"legendgroup\":\"1\",\"line\":{\"color\":\"#808080\"},\"mode\":\"lines\",\"opacity\":0.1,\"showlegend\":false,\"x\":[\"Adm-clerical\",\"Armed-Forces\",\"Craft-repair\",\"Exec-managerial\",\"Farming-fishing\",\"Handlers-cleane*\",\"Machine-op-insp*\",\"Other-service\",\"Priv-house-serv\",\"Prof-specialty\",\"Protective-serv\",\"Sales\",\"Tech-support\",\"Transport-movin*\"],\"xaxis\":\"x4\",\"y\":[0.02123438742186458,0.01297461514696074,-0.051016914179952536,0.06496661769022086,-0.11290129887246156,-0.019826653027530207,-0.02920837906031516,-0.022383786014711665,-0.008651829485652376,0.019097237537723456,-0.014304883368548082,0.02253150660024399,0.08128695003216761,-0.052393641243389924],\"yaxis\":\"y4\",\"type\":\"scatter\"},{\"legendgroup\":\"0\",\"line\":{\"color\":\"#808080\"},\"mode\":\"lines\",\"opacity\":0.1,\"showlegend\":false,\"x\":[\"Adm-clerical\",\"Armed-Forces\",\"Craft-repair\",\"Exec-managerial\",\"Farming-fishing\",\"Handlers-cleane*\",\"Machine-op-insp*\",\"Other-service\",\"Priv-house-serv\",\"Prof-specialty\",\"Protective-serv\",\"Sales\",\"Tech-support\",\"Transport-movin*\"],\"xaxis\":\"x4\",\"y\":[-0.015525761490442321,-0.004192948043685089,0.05021676981856629,-0.07208560438645417,0.10035992103159157,0.02939199389798278,0.03547838327829743,0.025899505274997618,0.009899529712168297,-0.03048656745548346,0.012364045730393205,-0.020204192135682208,-0.06716777356465796,0.06006452175638981],\"yaxis\":\"y4\",\"type\":\"scatter\"},{\"legendgroup\":\"1\",\"line\":{\"color\":\"#808080\"},\"mode\":\"lines\",\"opacity\":0.1,\"showlegend\":false,\"x\":[\"Adm-clerical\",\"Armed-Forces\",\"Craft-repair\",\"Exec-managerial\",\"Farming-fishing\",\"Handlers-cleane*\",\"Machine-op-insp*\",\"Other-service\",\"Priv-house-serv\",\"Prof-specialty\",\"Protective-serv\",\"Sales\",\"Tech-support\",\"Transport-movin*\"],\"xaxis\":\"x4\",\"y\":[0.015525761490442363,0.004192948043685151,-0.050216769818566334,0.07208560438645416,-0.10035992103159155,-0.029391993897982725,-0.03547838327829744,-0.02589950527499757,-0.009899529712168242,0.030486567455483445,-0.012364045730393191,0.020204192135682194,0.06716777356465796,-0.060064521756389835],\"yaxis\":\"y4\",\"type\":\"scatter\"},{\"legendgroup\":\"0\",\"line\":{\"color\":\"#808080\"},\"mode\":\"lines\",\"opacity\":0.1,\"showlegend\":false,\"x\":[\"Adm-clerical\",\"Armed-Forces\",\"Craft-repair\",\"Exec-managerial\",\"Farming-fishing\",\"Handlers-cleane*\",\"Machine-op-insp*\",\"Other-service\",\"Priv-house-serv\",\"Prof-specialty\",\"Protective-serv\",\"Sales\",\"Tech-support\",\"Transport-movin*\"],\"xaxis\":\"x4\",\"y\":[-0.009457187480497849,0.006957782900609163,0.0479080313233806,-0.07385723704642433,0.09596057074796374,0.04662070901294968,0.04099181601145804,0.04082369641835483,0.03165746505713413,-0.036318175832924494,-0.0017164423520720715,-0.028044941402792213,-0.0602085910531557,0.0407010007783414],\"yaxis\":\"y4\",\"type\":\"scatter\"},{\"legendgroup\":\"1\",\"line\":{\"color\":\"#808080\"},\"mode\":\"lines\",\"opacity\":0.1,\"showlegend\":false,\"x\":[\"Adm-clerical\",\"Armed-Forces\",\"Craft-repair\",\"Exec-managerial\",\"Farming-fishing\",\"Handlers-cleane*\",\"Machine-op-insp*\",\"Other-service\",\"Priv-house-serv\",\"Prof-specialty\",\"Protective-serv\",\"Sales\",\"Tech-support\",\"Transport-movin*\"],\"xaxis\":\"x4\",\"y\":[0.009457187480497876,-0.006957782900609121,-0.04790803132338059,0.0738572370464243,-0.09596057074796371,-0.04662070901294963,-0.04099181601145806,-0.04082369641835479,-0.03165746505713409,0.03631817583292447,0.0017164423520720853,0.028044941402792185,0.060208591053155715,-0.040701000778341385],\"yaxis\":\"y4\",\"type\":\"scatter\"},{\"legendgroup\":\"0\",\"line\":{\"color\":\"#808080\"},\"mode\":\"lines\",\"opacity\":0.1,\"showlegend\":false,\"x\":[\"Adm-clerical\",\"Armed-Forces\",\"Craft-repair\",\"Exec-managerial\",\"Farming-fishing\",\"Handlers-cleane*\",\"Machine-op-insp*\",\"Other-service\",\"Priv-house-serv\",\"Prof-specialty\",\"Protective-serv\",\"Sales\",\"Tech-support\",\"Transport-movin*\"],\"xaxis\":\"x4\",\"y\":[-0.006454833766646576,0.0016609505587646851,0.06834386918252638,-0.07235003359302754,0.11373452386634512,0.03778288388929378,0.011166070135487875,0.03753882436931359,0.02178966933393707,-0.03903400519394731,-0.004180355843939304,-0.040258224507557935,-0.07079769580465088,0.06108231751737421],\"yaxis\":\"y4\",\"type\":\"scatter\"},{\"legendgroup\":\"1\",\"line\":{\"color\":\"#808080\"},\"mode\":\"lines\",\"opacity\":0.1,\"showlegend\":false,\"x\":[\"Adm-clerical\",\"Armed-Forces\",\"Craft-repair\",\"Exec-managerial\",\"Farming-fishing\",\"Handlers-cleane*\",\"Machine-op-insp*\",\"Other-service\",\"Priv-house-serv\",\"Prof-specialty\",\"Protective-serv\",\"Sales\",\"Tech-support\",\"Transport-movin*\"],\"xaxis\":\"x4\",\"y\":[0.006454833766646639,-0.001660950558764595,-0.06834386918252641,0.07235003359302747,-0.11373452386634511,-0.0377828838892937,-0.011166070135487833,-0.037538824369313536,-0.021789669333936997,0.03903400519394726,0.00418035584393928,0.04025822450755795,0.07079769580465091,-0.06108231751737424],\"yaxis\":\"y4\",\"type\":\"scatter\"},{\"legendgroup\":\"0\",\"line\":{\"color\":\"#808080\"},\"mode\":\"lines\",\"opacity\":0.1,\"showlegend\":false,\"x\":[\"Adm-clerical\",\"Armed-Forces\",\"Craft-repair\",\"Exec-managerial\",\"Farming-fishing\",\"Handlers-cleane*\",\"Machine-op-insp*\",\"Other-service\",\"Priv-house-serv\",\"Prof-specialty\",\"Protective-serv\",\"Sales\",\"Tech-support\",\"Transport-movin*\"],\"xaxis\":\"x4\",\"y\":[0.0032625449719588147,0.006166962033289272,0.054480939882728716,-0.0832283036656834,0.0995549748815327,0.044560578294185804,0.030468113193725183,0.04928613471284951,0.029981932736594802,-0.058744764414609796,-0.019026711844323668,-0.019961180216807928,-0.05619063226279086,0.05746667041683905],\"yaxis\":\"y4\",\"type\":\"scatter\"},{\"legendgroup\":\"1\",\"line\":{\"color\":\"#808080\"},\"mode\":\"lines\",\"opacity\":0.1,\"showlegend\":false,\"x\":[\"Adm-clerical\",\"Armed-Forces\",\"Craft-repair\",\"Exec-managerial\",\"Farming-fishing\",\"Handlers-cleane*\",\"Machine-op-insp*\",\"Other-service\",\"Priv-house-serv\",\"Prof-specialty\",\"Protective-serv\",\"Sales\",\"Tech-support\",\"Transport-movin*\"],\"xaxis\":\"x4\",\"y\":[-0.00326254497195878,-0.006166962033289206,-0.05448093988272874,0.08322830366568337,-0.0995549748815327,-0.04456057829418576,-0.030468113193725176,-0.04928613471284947,-0.029981932736594767,0.058744764414609775,0.01902671184432366,0.01996118021680792,0.05619063226279087,-0.05746667041683908],\"yaxis\":\"y4\",\"type\":\"scatter\"},{\"legendgroup\":\"0\",\"legendgrouptitle\":{\"text\":\"0\"},\"name\":\"Relationsh*\",\"x\":[\"Married\",\"Not-in-family\",\"Other-relative\",\"Own-child\",\"Unmarried\"],\"xaxis\":\"x5\",\"y\":[-0.16733539473375256,0.1333666234187393,0.14347922305622493,0.16166535472624746,0.1384981562676836],\"yaxis\":\"y5\",\"type\":\"scatter\"},{\"legendgroup\":\"1\",\"legendgrouptitle\":{\"text\":\"1\"},\"name\":\"Relationsh*\",\"x\":[\"Married\",\"Not-in-family\",\"Other-relative\",\"Own-child\",\"Unmarried\"],\"xaxis\":\"x5\",\"y\":[0.16733539473375256,-0.13336662341873926,-0.14347922305622487,-0.1616653547262474,-0.13849815626768355],\"yaxis\":\"y5\",\"type\":\"scatter\"},{\"legendgroup\":\"0\",\"line\":{\"color\":\"#808080\"},\"mode\":\"lines\",\"opacity\":0.1,\"showlegend\":false,\"x\":[\"Married\",\"Not-in-family\",\"Other-relative\",\"Own-child\",\"Unmarried\"],\"xaxis\":\"x5\",\"y\":[-0.16707274167216143,0.13330439146369702,0.13799829170582475,0.16101977388516134,0.14072407734218698],\"yaxis\":\"y5\",\"type\":\"scatter\"},{\"legendgroup\":\"1\",\"line\":{\"color\":\"#808080\"},\"mode\":\"lines\",\"opacity\":0.1,\"showlegend\":false,\"x\":[\"Married\",\"Not-in-family\",\"Other-relative\",\"Own-child\",\"Unmarried\"],\"xaxis\":\"x5\",\"y\":[0.16707274167216138,-0.13330439146369702,-0.1379982917058247,-0.16101977388516128,-0.14072407734218692],\"yaxis\":\"y5\",\"type\":\"scatter\"},{\"legendgroup\":\"0\",\"line\":{\"color\":\"#808080\"},\"mode\":\"lines\",\"opacity\":0.1,\"showlegend\":false,\"x\":[\"Married\",\"Not-in-family\",\"Other-relative\",\"Own-child\",\"Unmarried\"],\"xaxis\":\"x5\",\"y\":[-0.16866677243419065,0.12934442266738017,0.14962827273913076,0.16890390753974993,0.1431008043046304],\"yaxis\":\"y5\",\"type\":\"scatter\"},{\"legendgroup\":\"1\",\"line\":{\"color\":\"#808080\"},\"mode\":\"lines\",\"opacity\":0.1,\"showlegend\":false,\"x\":[\"Married\",\"Not-in-family\",\"Other-relative\",\"Own-child\",\"Unmarried\"],\"xaxis\":\"x5\",\"y\":[0.1686667724341906,-0.12934442266738022,-0.1496282727391307,-0.16890390753974993,-0.1431008043046304],\"yaxis\":\"y5\",\"type\":\"scatter\"},{\"legendgroup\":\"0\",\"line\":{\"color\":\"#808080\"},\"mode\":\"lines\",\"opacity\":0.1,\"showlegend\":false,\"x\":[\"Married\",\"Not-in-family\",\"Other-relative\",\"Own-child\",\"Unmarried\"],\"xaxis\":\"x5\",\"y\":[-0.16705434443493059,0.13523724113363692,0.14084194387119445,0.16008540591948098,0.13638548026130817],\"yaxis\":\"y5\",\"type\":\"scatter\"},{\"legendgroup\":\"1\",\"line\":{\"color\":\"#808080\"},\"mode\":\"lines\",\"opacity\":0.1,\"showlegend\":false,\"x\":[\"Married\",\"Not-in-family\",\"Other-relative\",\"Own-child\",\"Unmarried\"],\"xaxis\":\"x5\",\"y\":[0.16705434443493059,-0.13523724113363692,-0.14084194387119445,-0.16008540591948098,-0.13638548026130817],\"yaxis\":\"y5\",\"type\":\"scatter\"},{\"legendgroup\":\"0\",\"line\":{\"color\":\"#808080\"},\"mode\":\"lines\",\"opacity\":0.1,\"showlegend\":false,\"x\":[\"Married\",\"Not-in-family\",\"Other-relative\",\"Own-child\",\"Unmarried\"],\"xaxis\":\"x5\",\"y\":[-0.17397129184468837,0.13786322536603815,0.14595075909361224,0.16845960743214752,0.147109293344686],\"yaxis\":\"y5\",\"type\":\"scatter\"},{\"legendgroup\":\"1\",\"line\":{\"color\":\"#808080\"},\"mode\":\"lines\",\"opacity\":0.1,\"showlegend\":false,\"x\":[\"Married\",\"Not-in-family\",\"Other-relative\",\"Own-child\",\"Unmarried\"],\"xaxis\":\"x5\",\"y\":[0.17397129184468837,-0.13786322536603815,-0.14595075909361224,-0.16845960743214752,-0.147109293344686],\"yaxis\":\"y5\",\"type\":\"scatter\"},{\"legendgroup\":\"0\",\"line\":{\"color\":\"#808080\"},\"mode\":\"lines\",\"opacity\":0.1,\"showlegend\":false,\"x\":[\"Married\",\"Not-in-family\",\"Other-relative\",\"Own-child\",\"Unmarried\"],\"xaxis\":\"x5\",\"y\":[-0.16281528242619034,0.1268957587761209,0.14128850088403447,0.16162276097836867,0.13600957088437962],\"yaxis\":\"y5\",\"type\":\"scatter\"},{\"legendgroup\":\"1\",\"line\":{\"color\":\"#808080\"},\"mode\":\"lines\",\"opacity\":0.1,\"showlegend\":false,\"x\":[\"Married\",\"Not-in-family\",\"Other-relative\",\"Own-child\",\"Unmarried\"],\"xaxis\":\"x5\",\"y\":[0.16281528242619034,-0.1268957587761209,-0.1412885008840344,-0.16162276097836867,-0.13600957088437962],\"yaxis\":\"y5\",\"type\":\"scatter\"},{\"legendgroup\":\"0\",\"line\":{\"color\":\"#808080\"},\"mode\":\"lines\",\"opacity\":0.1,\"showlegend\":false,\"x\":[\"Married\",\"Not-in-family\",\"Other-relative\",\"Own-child\",\"Unmarried\"],\"xaxis\":\"x5\",\"y\":[-0.16564421549883407,0.13646790725851077,0.13843636948439314,0.15453443009177548,0.13563270253581466],\"yaxis\":\"y5\",\"type\":\"scatter\"},{\"legendgroup\":\"1\",\"line\":{\"color\":\"#808080\"},\"mode\":\"lines\",\"opacity\":0.1,\"showlegend\":false,\"x\":[\"Married\",\"Not-in-family\",\"Other-relative\",\"Own-child\",\"Unmarried\"],\"xaxis\":\"x5\",\"y\":[0.16564421549883407,-0.13646790725851077,-0.13843636948439308,-0.15453443009177548,-0.13563270253581466],\"yaxis\":\"y5\",\"type\":\"scatter\"},{\"legendgroup\":\"0\",\"line\":{\"color\":\"#808080\"},\"mode\":\"lines\",\"opacity\":0.1,\"showlegend\":false,\"x\":[\"Married\",\"Not-in-family\",\"Other-relative\",\"Own-child\",\"Unmarried\"],\"xaxis\":\"x5\",\"y\":[-0.1691184952236204,0.13758066572453678,0.14611640483404978,0.1590062220625151,0.1396964458514983],\"yaxis\":\"y5\",\"type\":\"scatter\"},{\"legendgroup\":\"1\",\"line\":{\"color\":\"#808080\"},\"mode\":\"lines\",\"opacity\":0.1,\"showlegend\":false,\"x\":[\"Married\",\"Not-in-family\",\"Other-relative\",\"Own-child\",\"Unmarried\"],\"xaxis\":\"x5\",\"y\":[0.1691184952236204,-0.13758066572453678,-0.14611640483404972,-0.15900622206251505,-0.13969644585149824],\"yaxis\":\"y5\",\"type\":\"scatter\"},{\"legendgroup\":\"0\",\"line\":{\"color\":\"#808080\"},\"mode\":\"lines\",\"opacity\":0.1,\"showlegend\":false,\"x\":[\"Married\",\"Not-in-family\",\"Other-relative\",\"Own-child\",\"Unmarried\"],\"xaxis\":\"x5\",\"y\":[-0.17670467868785486,0.13937336300067357,0.1532743405036365,0.17030815925217083,0.1507209090060783],\"yaxis\":\"y5\",\"type\":\"scatter\"},{\"legendgroup\":\"1\",\"line\":{\"color\":\"#808080\"},\"mode\":\"lines\",\"opacity\":0.1,\"showlegend\":false,\"x\":[\"Married\",\"Not-in-family\",\"Other-relative\",\"Own-child\",\"Unmarried\"],\"xaxis\":\"x5\",\"y\":[0.17670467868785483,-0.13937336300067354,-0.15327434050363647,-0.1703081592521708,-0.15072090900607826],\"yaxis\":\"y5\",\"type\":\"scatter\"},{\"legendgroup\":\"0\",\"line\":{\"color\":\"#808080\"},\"mode\":\"lines\",\"opacity\":0.1,\"showlegend\":false,\"x\":[\"Married\",\"Not-in-family\",\"Other-relative\",\"Own-child\",\"Unmarried\"],\"xaxis\":\"x5\",\"y\":[-0.16686716263336235,0.13459986485479888,0.13841080568746186,0.1592082726615194,0.13905539963561211],\"yaxis\":\"y5\",\"type\":\"scatter\"},{\"legendgroup\":\"1\",\"line\":{\"color\":\"#808080\"},\"mode\":\"lines\",\"opacity\":0.1,\"showlegend\":false,\"x\":[\"Married\",\"Not-in-family\",\"Other-relative\",\"Own-child\",\"Unmarried\"],\"xaxis\":\"x5\",\"y\":[0.16686716263336235,-0.13459986485479888,-0.13841080568746186,-0.1592082726615194,-0.13905539963561211],\"yaxis\":\"y5\",\"type\":\"scatter\"},{\"legendgroup\":\"0\",\"line\":{\"color\":\"#808080\"},\"mode\":\"lines\",\"opacity\":0.1,\"showlegend\":false,\"x\":[\"Married\",\"Not-in-family\",\"Other-relative\",\"Own-child\",\"Unmarried\"],\"xaxis\":\"x5\",\"y\":[-0.16563017044574777,0.1334804872832497,0.13917855028009105,0.1572882195562029,0.13885028894251036],\"yaxis\":\"y5\",\"type\":\"scatter\"},{\"legendgroup\":\"1\",\"line\":{\"color\":\"#808080\"},\"mode\":\"lines\",\"opacity\":0.1,\"showlegend\":false,\"x\":[\"Married\",\"Not-in-family\",\"Other-relative\",\"Own-child\",\"Unmarried\"],\"xaxis\":\"x5\",\"y\":[0.16563017044574777,-0.1334804872832497,-0.13917855028009105,-0.1572882195562029,-0.13885028894251036],\"yaxis\":\"y5\",\"type\":\"scatter\"},{\"legendgroup\":\"0\",\"legendgrouptitle\":{\"text\":\"0\"},\"name\":\"Race\",\"x\":[\"Amer-Indian-Esk*\",\"Asian-Pac-Islan*\",\"Black\",\"Other\",\"White\"],\"xaxis\":\"x6\",\"y\":[0.03034541094490347,0.0018047786967613846,0.02834042797898231,0.03223247769937248,-0.0037574379441693215],\"yaxis\":\"y6\",\"type\":\"scatter\"},{\"legendgroup\":\"1\",\"legendgrouptitle\":{\"text\":\"1\"},\"name\":\"Race\",\"x\":[\"Amer-Indian-Esk*\",\"Asian-Pac-Islan*\",\"Black\",\"Other\",\"White\"],\"xaxis\":\"x6\",\"y\":[-0.030345410944903436,-0.0018047786967613534,-0.02834042797898227,-0.032232477699372444,0.0037574379441693215],\"yaxis\":\"y6\",\"type\":\"scatter\"},{\"legendgroup\":\"0\",\"line\":{\"color\":\"#808080\"},\"mode\":\"lines\",\"opacity\":0.1,\"showlegend\":false,\"x\":[\"Amer-Indian-Esk*\",\"Asian-Pac-Islan*\",\"Black\",\"Other\",\"White\"],\"xaxis\":\"x6\",\"y\":[0.031157784113029493,0.00446257633873921,0.021440585158797907,0.020413941717520773,-0.00297801432552745],\"yaxis\":\"y6\",\"type\":\"scatter\"},{\"legendgroup\":\"1\",\"line\":{\"color\":\"#808080\"},\"mode\":\"lines\",\"opacity\":0.1,\"showlegend\":false,\"x\":[\"Amer-Indian-Esk*\",\"Asian-Pac-Islan*\",\"Black\",\"Other\",\"White\"],\"xaxis\":\"x6\",\"y\":[-0.03115778411302946,-0.004462576338739185,-0.02144058515879788,-0.020413941717520746,0.0029780143255274463],\"yaxis\":\"y6\",\"type\":\"scatter\"},{\"legendgroup\":\"0\",\"line\":{\"color\":\"#808080\"},\"mode\":\"lines\",\"opacity\":0.1,\"showlegend\":false,\"x\":[\"Amer-Indian-Esk*\",\"Asian-Pac-Islan*\",\"Black\",\"Other\",\"White\"],\"xaxis\":\"x6\",\"y\":[0.025624912336056176,0.0002148681145623041,0.025283817823230734,0.035923140904875125,-0.003324591295125051],\"yaxis\":\"y6\",\"type\":\"scatter\"},{\"legendgroup\":\"1\",\"line\":{\"color\":\"#808080\"},\"mode\":\"lines\",\"opacity\":0.1,\"showlegend\":false,\"x\":[\"Amer-Indian-Esk*\",\"Asian-Pac-Islan*\",\"Black\",\"Other\",\"White\"],\"xaxis\":\"x6\",\"y\":[-0.025624912336056148,-0.00021486811456227634,-0.02528381782323071,-0.035923140904875105,0.003324591295125051],\"yaxis\":\"y6\",\"type\":\"scatter\"},{\"legendgroup\":\"0\",\"line\":{\"color\":\"#808080\"},\"mode\":\"lines\",\"opacity\":0.1,\"showlegend\":false,\"x\":[\"Amer-Indian-Esk*\",\"Asian-Pac-Islan*\",\"Black\",\"Other\",\"White\"],\"xaxis\":\"x6\",\"y\":[0.026680393880046137,-0.00015451239172831893,0.0352828230552394,0.03887489310228466,-0.004429230898776379],\"yaxis\":\"y6\",\"type\":\"scatter\"},{\"legendgroup\":\"1\",\"line\":{\"color\":\"#808080\"},\"mode\":\"lines\",\"opacity\":0.1,\"showlegend\":false,\"x\":[\"Amer-Indian-Esk*\",\"Asian-Pac-Islan*\",\"Black\",\"Other\",\"White\"],\"xaxis\":\"x6\",\"y\":[-0.026680393880046106,0.00015451239172835363,-0.03528282305523937,-0.03887489310228463,0.004429230898776379],\"yaxis\":\"y6\",\"type\":\"scatter\"},{\"legendgroup\":\"0\",\"line\":{\"color\":\"#808080\"},\"mode\":\"lines\",\"opacity\":0.1,\"showlegend\":false,\"x\":[\"Amer-Indian-Esk*\",\"Asian-Pac-Islan*\",\"Black\",\"Other\",\"White\"],\"xaxis\":\"x6\",\"y\":[0.032893625690356865,0.006105035098088223,0.019522054499541835,0.03090456376792272,-0.0029384739980142585],\"yaxis\":\"y6\",\"type\":\"scatter\"},{\"legendgroup\":\"1\",\"line\":{\"color\":\"#808080\"},\"mode\":\"lines\",\"opacity\":0.1,\"showlegend\":false,\"x\":[\"Amer-Indian-Esk*\",\"Asian-Pac-Islan*\",\"Black\",\"Other\",\"White\"],\"xaxis\":\"x6\",\"y\":[-0.03289362569035684,-0.0061050350980882025,-0.019522054499541808,-0.03090456376792269,0.002938473998014255],\"yaxis\":\"y6\",\"type\":\"scatter\"},{\"legendgroup\":\"0\",\"line\":{\"color\":\"#808080\"},\"mode\":\"lines\",\"opacity\":0.1,\"showlegend\":false,\"x\":[\"Amer-Indian-Esk*\",\"Asian-Pac-Islan*\",\"Black\",\"Other\",\"White\"],\"xaxis\":\"x6\",\"y\":[0.027064097169743895,0.0005095622996239418,0.025707964630254675,0.034263519122019796,-0.003381090230897013],\"yaxis\":\"y6\",\"type\":\"scatter\"},{\"legendgroup\":\"1\",\"line\":{\"color\":\"#808080\"},\"mode\":\"lines\",\"opacity\":0.1,\"showlegend\":false,\"x\":[\"Amer-Indian-Esk*\",\"Asian-Pac-Islan*\",\"Black\",\"Other\",\"White\"],\"xaxis\":\"x6\",\"y\":[-0.02706409716974386,-0.0005095622996239141,-0.02570796463025464,-0.03426351912201977,0.003381090230897006],\"yaxis\":\"y6\",\"type\":\"scatter\"},{\"legendgroup\":\"0\",\"line\":{\"color\":\"#808080\"},\"mode\":\"lines\",\"opacity\":0.1,\"showlegend\":false,\"x\":[\"Amer-Indian-Esk*\",\"Asian-Pac-Islan*\",\"Black\",\"Other\",\"White\"],\"xaxis\":\"x6\",\"y\":[0.03269187881204846,0.0013284642992366195,0.036249808154817056,0.029233647643462878,-0.004563142082775095],\"yaxis\":\"y6\",\"type\":\"scatter\"},{\"legendgroup\":\"1\",\"line\":{\"color\":\"#808080\"},\"mode\":\"lines\",\"opacity\":0.1,\"showlegend\":false,\"x\":[\"Amer-Indian-Esk*\",\"Asian-Pac-Islan*\",\"Black\",\"Other\",\"White\"],\"xaxis\":\"x6\",\"y\":[-0.03269187881204843,-0.0013284642992365918,-0.03624980815481702,-0.02923364764346285,0.004563142082775088],\"yaxis\":\"y6\",\"type\":\"scatter\"},{\"legendgroup\":\"0\",\"line\":{\"color\":\"#808080\"},\"mode\":\"lines\",\"opacity\":0.1,\"showlegend\":false,\"x\":[\"Amer-Indian-Esk*\",\"Asian-Pac-Islan*\",\"Black\",\"Other\",\"White\"],\"xaxis\":\"x6\",\"y\":[0.029373276386767993,0.0008672843300749355,0.036867678526653444,0.027081224890536885,-0.00456014100369195],\"yaxis\":\"y6\",\"type\":\"scatter\"},{\"legendgroup\":\"1\",\"line\":{\"color\":\"#808080\"},\"mode\":\"lines\",\"opacity\":0.1,\"showlegend\":false,\"x\":[\"Amer-Indian-Esk*\",\"Asian-Pac-Islan*\",\"Black\",\"Other\",\"White\"],\"xaxis\":\"x6\",\"y\":[-0.029373276386767958,-0.0008672843300749113,-0.03686767852665341,-0.027081224890536854,0.004560141003691946],\"yaxis\":\"y6\",\"type\":\"scatter\"},{\"legendgroup\":\"0\",\"line\":{\"color\":\"#808080\"},\"mode\":\"lines\",\"opacity\":0.1,\"showlegend\":false,\"x\":[\"Amer-Indian-Esk*\",\"Asian-Pac-Islan*\",\"Black\",\"Other\",\"White\"],\"xaxis\":\"x6\",\"y\":[0.029251092128457622,-0.001447795920285301,0.03958552226675288,0.04226976936128286,-0.004906085073757754],\"yaxis\":\"y6\",\"type\":\"scatter\"},{\"legendgroup\":\"1\",\"line\":{\"color\":\"#808080\"},\"mode\":\"lines\",\"opacity\":0.1,\"showlegend\":false,\"x\":[\"Amer-Indian-Esk*\",\"Asian-Pac-Islan*\",\"Black\",\"Other\",\"White\"],\"xaxis\":\"x6\",\"y\":[-0.029251092128457595,0.0014477959202853358,-0.03958552226675286,-0.042269769361282836,0.004906085073757754],\"yaxis\":\"y6\",\"type\":\"scatter\"},{\"legendgroup\":\"0\",\"line\":{\"color\":\"#808080\"},\"mode\":\"lines\",\"opacity\":0.1,\"showlegend\":false,\"x\":[\"Amer-Indian-Esk*\",\"Asian-Pac-Islan*\",\"Black\",\"Other\",\"White\"],\"xaxis\":\"x6\",\"y\":[0.030273619559034334,0.0006035540861725752,0.0299046620548567,0.028588962404897486,-0.0038213670721442966],\"yaxis\":\"y6\",\"type\":\"scatter\"},{\"legendgroup\":\"1\",\"line\":{\"color\":\"#808080\"},\"mode\":\"lines\",\"opacity\":0.1,\"showlegend\":false,\"x\":[\"Amer-Indian-Esk*\",\"Asian-Pac-Islan*\",\"Black\",\"Other\",\"White\"],\"xaxis\":\"x6\",\"y\":[-0.030273619559034307,-0.0006035540861725544,-0.029904662054856663,-0.02858896240489746,0.0038213670721442897],\"yaxis\":\"y6\",\"type\":\"scatter\"},{\"legendgroup\":\"0\",\"line\":{\"color\":\"#808080\"},\"mode\":\"lines\",\"opacity\":0.1,\"showlegend\":false,\"x\":[\"Amer-Indian-Esk*\",\"Asian-Pac-Islan*\",\"Black\",\"Other\",\"White\"],\"xaxis\":\"x6\",\"y\":[0.028099703118166425,-0.002328455930785421,0.03168264011771349,0.03625161918306167,-0.003956463639392574],\"yaxis\":\"y6\",\"type\":\"scatter\"},{\"legendgroup\":\"1\",\"line\":{\"color\":\"#808080\"},\"mode\":\"lines\",\"opacity\":0.1,\"showlegend\":false,\"x\":[\"Amer-Indian-Esk*\",\"Asian-Pac-Islan*\",\"Black\",\"Other\",\"White\"],\"xaxis\":\"x6\",\"y\":[-0.028099703118166394,0.002328455930785442,-0.03168264011771345,-0.03625161918306164,0.003956463639392567],\"yaxis\":\"y6\",\"type\":\"scatter\"},{\"legendgroup\":\"0\",\"legendgrouptitle\":{\"text\":\"0\"},\"name\":\"Sex\",\"x\":[\"Female\",\"Male\"],\"xaxis\":\"x7\",\"y\":[-0.0019259155662021859,0.0014119481139121361],\"yaxis\":\"y7\",\"type\":\"scatter\"},{\"legendgroup\":\"1\",\"legendgrouptitle\":{\"text\":\"1\"},\"name\":\"Sex\",\"x\":[\"Female\",\"Male\"],\"xaxis\":\"x7\",\"y\":[0.00192591556620219,-0.001411948113912139],\"yaxis\":\"y7\",\"type\":\"scatter\"},{\"legendgroup\":\"0\",\"line\":{\"color\":\"#808080\"},\"mode\":\"lines\",\"opacity\":0.1,\"showlegend\":false,\"x\":[\"Female\",\"Male\"],\"xaxis\":\"x7\",\"y\":[0.00021042013858285776,-0.000154273550053294],\"yaxis\":\"y7\",\"type\":\"scatter\"},{\"legendgroup\":\"1\",\"line\":{\"color\":\"#808080\"},\"mode\":\"lines\",\"opacity\":0.1,\"showlegend\":false,\"x\":[\"Female\",\"Male\"],\"xaxis\":\"x7\",\"y\":[-0.0002104201385828539,0.00015427355005329116],\"yaxis\":\"y7\",\"type\":\"scatter\"},{\"legendgroup\":\"0\",\"line\":{\"color\":\"#808080\"},\"mode\":\"lines\",\"opacity\":0.1,\"showlegend\":false,\"x\":[\"Female\",\"Male\"],\"xaxis\":\"x7\",\"y\":[-0.00587614247209428,0.00430820626720553],\"yaxis\":\"y7\",\"type\":\"scatter\"},{\"legendgroup\":\"1\",\"line\":{\"color\":\"#808080\"},\"mode\":\"lines\",\"opacity\":0.1,\"showlegend\":false,\"x\":[\"Female\",\"Male\"],\"xaxis\":\"x7\",\"y\":[0.005876142472094287,-0.004308206267205535],\"yaxis\":\"y7\",\"type\":\"scatter\"},{\"legendgroup\":\"0\",\"line\":{\"color\":\"#808080\"},\"mode\":\"lines\",\"opacity\":0.1,\"showlegend\":false,\"x\":[\"Female\",\"Male\"],\"xaxis\":\"x7\",\"y\":[0.0021270100622010593,-0.0015594581179577635],\"yaxis\":\"y7\",\"type\":\"scatter\"},{\"legendgroup\":\"1\",\"line\":{\"color\":\"#808080\"},\"mode\":\"lines\",\"opacity\":0.1,\"showlegend\":false,\"x\":[\"Female\",\"Male\"],\"xaxis\":\"x7\",\"y\":[-0.0021270100622010537,0.0015594581179577596],\"yaxis\":\"y7\",\"type\":\"scatter\"},{\"legendgroup\":\"0\",\"line\":{\"color\":\"#808080\"},\"mode\":\"lines\",\"opacity\":0.1,\"showlegend\":false,\"x\":[\"Female\",\"Male\"],\"xaxis\":\"x7\",\"y\":[-0.003944699675732396,0.002892132031505525],\"yaxis\":\"y7\",\"type\":\"scatter\"},{\"legendgroup\":\"1\",\"line\":{\"color\":\"#808080\"},\"mode\":\"lines\",\"opacity\":0.1,\"showlegend\":false,\"x\":[\"Female\",\"Male\"],\"xaxis\":\"x7\",\"y\":[0.003944699675732398,-0.002892132031505527],\"yaxis\":\"y7\",\"type\":\"scatter\"},{\"legendgroup\":\"0\",\"line\":{\"color\":\"#808080\"},\"mode\":\"lines\",\"opacity\":0.1,\"showlegend\":false,\"x\":[\"Female\",\"Male\"],\"xaxis\":\"x7\",\"y\":[-0.001249955769048032,0.0009164289844087424],\"yaxis\":\"y7\",\"type\":\"scatter\"},{\"legendgroup\":\"1\",\"line\":{\"color\":\"#808080\"},\"mode\":\"lines\",\"opacity\":0.1,\"showlegend\":false,\"x\":[\"Female\",\"Male\"],\"xaxis\":\"x7\",\"y\":[0.0012499557690480339,-0.0009164289844087439],\"yaxis\":\"y7\",\"type\":\"scatter\"},{\"legendgroup\":\"0\",\"line\":{\"color\":\"#808080\"},\"mode\":\"lines\",\"opacity\":0.1,\"showlegend\":false,\"x\":[\"Female\",\"Male\"],\"xaxis\":\"x7\",\"y\":[0.0008611913930818691,-0.0006313989448959774],\"yaxis\":\"y7\",\"type\":\"scatter\"},{\"legendgroup\":\"1\",\"line\":{\"color\":\"#808080\"},\"mode\":\"lines\",\"opacity\":0.1,\"showlegend\":false,\"x\":[\"Female\",\"Male\"],\"xaxis\":\"x7\",\"y\":[-0.0008611913930818635,0.0006313989448959732],\"yaxis\":\"y7\",\"type\":\"scatter\"},{\"legendgroup\":\"0\",\"line\":{\"color\":\"#808080\"},\"mode\":\"lines\",\"opacity\":0.1,\"showlegend\":false,\"x\":[\"Female\",\"Male\"],\"xaxis\":\"x7\",\"y\":[-0.0009034907198150698,0.0006624115054994647],\"yaxis\":\"y7\",\"type\":\"scatter\"},{\"legendgroup\":\"1\",\"line\":{\"color\":\"#808080\"},\"mode\":\"lines\",\"opacity\":0.1,\"showlegend\":false,\"x\":[\"Female\",\"Male\"],\"xaxis\":\"x7\",\"y\":[0.0009034907198150743,-0.000662411505499468],\"yaxis\":\"y7\",\"type\":\"scatter\"},{\"legendgroup\":\"0\",\"line\":{\"color\":\"#808080\"},\"mode\":\"lines\",\"opacity\":0.1,\"showlegend\":false,\"x\":[\"Female\",\"Male\"],\"xaxis\":\"x7\",\"y\":[-0.0023873526301151408,0.001750333252118369],\"yaxis\":\"y7\",\"type\":\"scatter\"},{\"legendgroup\":\"1\",\"line\":{\"color\":\"#808080\"},\"mode\":\"lines\",\"opacity\":0.1,\"showlegend\":false,\"x\":[\"Female\",\"Male\"],\"xaxis\":\"x7\",\"y\":[0.0023873526301151464,-0.0017503332521183728],\"yaxis\":\"y7\",\"type\":\"scatter\"},{\"legendgroup\":\"0\",\"line\":{\"color\":\"#808080\"},\"mode\":\"lines\",\"opacity\":0.1,\"showlegend\":false,\"x\":[\"Female\",\"Male\"],\"xaxis\":\"x7\",\"y\":[-0.0017242739874413359,0.0012641844601883308],\"yaxis\":\"y7\",\"type\":\"scatter\"},{\"legendgroup\":\"1\",\"line\":{\"color\":\"#808080\"},\"mode\":\"lines\",\"opacity\":0.1,\"showlegend\":false,\"x\":[\"Female\",\"Male\"],\"xaxis\":\"x7\",\"y\":[0.0017242739874413404,-0.001264184460188334],\"yaxis\":\"y7\",\"type\":\"scatter\"},{\"legendgroup\":\"0\",\"line\":{\"color\":\"#808080\"},\"mode\":\"lines\",\"opacity\":0.1,\"showlegend\":false,\"x\":[\"Female\",\"Male\"],\"xaxis\":\"x7\",\"y\":[-0.0026798294023220146,0.0019647681929009756],\"yaxis\":\"y7\",\"type\":\"scatter\"},{\"legendgroup\":\"1\",\"line\":{\"color\":\"#808080\"},\"mode\":\"lines\",\"opacity\":0.1,\"showlegend\":false,\"x\":[\"Female\",\"Male\"],\"xaxis\":\"x7\",\"y\":[0.0026798294023220185,-0.0019647681929009786],\"yaxis\":\"y7\",\"type\":\"scatter\"},{\"legendgroup\":\"0\",\"legendgrouptitle\":{\"text\":\"0\"},\"name\":\"Hours per *\",\"x\":[\"BrainDrain\",\"FullTime\",\"MidTime\",\"OverTime\",\"PartTime\"],\"xaxis\":\"x8\",\"y\":[-0.04644632061909239,0.004402503637364413,0.04069208563391835,-0.04486637611411262,0.0677470754192453],\"yaxis\":\"y8\",\"type\":\"scatter\"},{\"legendgroup\":\"1\",\"legendgrouptitle\":{\"text\":\"1\"},\"name\":\"Hours per *\",\"x\":[\"BrainDrain\",\"FullTime\",\"MidTime\",\"OverTime\",\"PartTime\"],\"xaxis\":\"x8\",\"y\":[0.04644632061909242,-0.004402503637364427,-0.04069208563391833,0.04486637611411262,-0.06774707541924527],\"yaxis\":\"y8\",\"type\":\"scatter\"},{\"legendgroup\":\"0\",\"line\":{\"color\":\"#808080\"},\"mode\":\"lines\",\"opacity\":0.1,\"showlegend\":false,\"x\":[\"BrainDrain\",\"FullTime\",\"MidTime\",\"OverTime\",\"PartTime\"],\"xaxis\":\"x8\",\"y\":[-0.044161491042590664,0.0031669121504350473,0.04091838459220988,-0.038670639521164514,0.05823859506126529],\"yaxis\":\"y8\",\"type\":\"scatter\"},{\"legendgroup\":\"1\",\"line\":{\"color\":\"#808080\"},\"mode\":\"lines\",\"opacity\":0.1,\"showlegend\":false,\"x\":[\"BrainDrain\",\"FullTime\",\"MidTime\",\"OverTime\",\"PartTime\"],\"xaxis\":\"x8\",\"y\":[0.04416149104259069,-0.003166912150435061,-0.04091838459220987,0.03867063952116451,-0.05823859506126526],\"yaxis\":\"y8\",\"type\":\"scatter\"},{\"legendgroup\":\"0\",\"line\":{\"color\":\"#808080\"},\"mode\":\"lines\",\"opacity\":0.1,\"showlegend\":false,\"x\":[\"BrainDrain\",\"FullTime\",\"MidTime\",\"OverTime\",\"PartTime\"],\"xaxis\":\"x8\",\"y\":[-0.031410103681782445,0.0020168625461544215,0.041214698331016805,-0.045582539727592936,0.06698315156307455],\"yaxis\":\"y8\",\"type\":\"scatter\"},{\"legendgroup\":\"1\",\"line\":{\"color\":\"#808080\"},\"mode\":\"lines\",\"opacity\":0.1,\"showlegend\":false,\"x\":[\"BrainDrain\",\"FullTime\",\"MidTime\",\"OverTime\",\"PartTime\"],\"xaxis\":\"x8\",\"y\":[0.03141010368178248,-0.0020168625461544354,-0.0412146983310168,0.04558253972759293,-0.06698315156307452],\"yaxis\":\"y8\",\"type\":\"scatter\"},{\"legendgroup\":\"0\",\"line\":{\"color\":\"#808080\"},\"mode\":\"lines\",\"opacity\":0.1,\"showlegend\":false,\"x\":[\"BrainDrain\",\"FullTime\",\"MidTime\",\"OverTime\",\"PartTime\"],\"xaxis\":\"x8\",\"y\":[-0.03810978713952169,0.003889864973438621,0.03872773735902482,-0.04145829908408145,0.05823076018017022],\"yaxis\":\"y8\",\"type\":\"scatter\"},{\"legendgroup\":\"1\",\"line\":{\"color\":\"#808080\"},\"mode\":\"lines\",\"opacity\":0.1,\"showlegend\":false,\"x\":[\"BrainDrain\",\"FullTime\",\"MidTime\",\"OverTime\",\"PartTime\"],\"xaxis\":\"x8\",\"y\":[0.03810978713952171,-0.003889864973438635,-0.038727737359024815,0.04145829908408144,-0.0582307601801702],\"yaxis\":\"y8\",\"type\":\"scatter\"},{\"legendgroup\":\"0\",\"line\":{\"color\":\"#808080\"},\"mode\":\"lines\",\"opacity\":0.1,\"showlegend\":false,\"x\":[\"BrainDrain\",\"FullTime\",\"MidTime\",\"OverTime\",\"PartTime\"],\"xaxis\":\"x8\",\"y\":[-0.03252339496780337,0.004223051415066986,0.03371862142187473,-0.04797202588365673,0.07096817619123746],\"yaxis\":\"y8\",\"type\":\"scatter\"},{\"legendgroup\":\"1\",\"line\":{\"color\":\"#808080\"},\"mode\":\"lines\",\"opacity\":0.1,\"showlegend\":false,\"x\":[\"BrainDrain\",\"FullTime\",\"MidTime\",\"OverTime\",\"PartTime\"],\"xaxis\":\"x8\",\"y\":[0.03252339496780339,-0.004223051415066993,-0.03371862142187472,0.047972025883656726,-0.07096817619123745],\"yaxis\":\"y8\",\"type\":\"scatter\"},{\"legendgroup\":\"0\",\"line\":{\"color\":\"#808080\"},\"mode\":\"lines\",\"opacity\":0.1,\"showlegend\":false,\"x\":[\"BrainDrain\",\"FullTime\",\"MidTime\",\"OverTime\",\"PartTime\"],\"xaxis\":\"x8\",\"y\":[-0.04806170845533648,0.006437378495903007,0.041986996410730594,-0.049212240968867255,0.06756267155865447],\"yaxis\":\"y8\",\"type\":\"scatter\"},{\"legendgroup\":\"1\",\"line\":{\"color\":\"#808080\"},\"mode\":\"lines\",\"opacity\":0.1,\"showlegend\":false,\"x\":[\"BrainDrain\",\"FullTime\",\"MidTime\",\"OverTime\",\"PartTime\"],\"xaxis\":\"x8\",\"y\":[0.048061708455336506,-0.006437378495903014,-0.04198699641073058,0.04921224096886726,-0.06756267155865445],\"yaxis\":\"y8\",\"type\":\"scatter\"},{\"legendgroup\":\"0\",\"line\":{\"color\":\"#808080\"},\"mode\":\"lines\",\"opacity\":0.1,\"showlegend\":false,\"x\":[\"BrainDrain\",\"FullTime\",\"MidTime\",\"OverTime\",\"PartTime\"],\"xaxis\":\"x8\",\"y\":[-0.039222098565998724,0.0018497043693133722,0.04107995245615204,-0.043065596451734536,0.06896374329191388],\"yaxis\":\"y8\",\"type\":\"scatter\"},{\"legendgroup\":\"1\",\"line\":{\"color\":\"#808080\"},\"mode\":\"lines\",\"opacity\":0.1,\"showlegend\":false,\"x\":[\"BrainDrain\",\"FullTime\",\"MidTime\",\"OverTime\",\"PartTime\"],\"xaxis\":\"x8\",\"y\":[0.03922209856599876,-0.001849704369313393,-0.041079952456152036,0.043065596451734536,-0.06896374329191386],\"yaxis\":\"y8\",\"type\":\"scatter\"},{\"legendgroup\":\"0\",\"line\":{\"color\":\"#808080\"},\"mode\":\"lines\",\"opacity\":0.1,\"showlegend\":false,\"x\":[\"BrainDrain\",\"FullTime\",\"MidTime\",\"OverTime\",\"PartTime\"],\"xaxis\":\"x8\",\"y\":[-0.04067569367091391,0.0034468900755750542,0.04444120224729535,-0.04478788714787107,0.06309989451099694],\"yaxis\":\"y8\",\"type\":\"scatter\"},{\"legendgroup\":\"1\",\"line\":{\"color\":\"#808080\"},\"mode\":\"lines\",\"opacity\":0.1,\"showlegend\":false,\"x\":[\"BrainDrain\",\"FullTime\",\"MidTime\",\"OverTime\",\"PartTime\"],\"xaxis\":\"x8\",\"y\":[0.04067569367091393,-0.003446890075575075,-0.04444120224729533,0.04478788714787106,-0.0630998945109969],\"yaxis\":\"y8\",\"type\":\"scatter\"},{\"legendgroup\":\"0\",\"line\":{\"color\":\"#808080\"},\"mode\":\"lines\",\"opacity\":0.1,\"showlegend\":false,\"x\":[\"BrainDrain\",\"FullTime\",\"MidTime\",\"OverTime\",\"PartTime\"],\"xaxis\":\"x8\",\"y\":[-0.042690246363688455,0.002887978265458356,0.04322779441805752,-0.04597764454072319,0.07091892847211886],\"yaxis\":\"y8\",\"type\":\"scatter\"},{\"legendgroup\":\"1\",\"line\":{\"color\":\"#808080\"},\"mode\":\"lines\",\"opacity\":0.1,\"showlegend\":false,\"x\":[\"BrainDrain\",\"FullTime\",\"MidTime\",\"OverTime\",\"PartTime\"],\"xaxis\":\"x8\",\"y\":[0.04269024636368847,-0.00288797826545837,-0.043227794418057505,0.04597764454072318,-0.07091892847211884],\"yaxis\":\"y8\",\"type\":\"scatter\"},{\"legendgroup\":\"0\",\"line\":{\"color\":\"#808080\"},\"mode\":\"lines\",\"opacity\":0.1,\"showlegend\":false,\"x\":[\"BrainDrain\",\"FullTime\",\"MidTime\",\"OverTime\",\"PartTime\"],\"xaxis\":\"x8\",\"y\":[-0.06247050865287662,0.0037696263828376486,0.04496211876483193,-0.04022082876032075,0.06926211092869192],\"yaxis\":\"y8\",\"type\":\"scatter\"},{\"legendgroup\":\"1\",\"line\":{\"color\":\"#808080\"},\"mode\":\"lines\",\"opacity\":0.1,\"showlegend\":false,\"x\":[\"BrainDrain\",\"FullTime\",\"MidTime\",\"OverTime\",\"PartTime\"],\"xaxis\":\"x8\",\"y\":[0.06247050865287665,-0.0037696263828376625,-0.044962118764831915,0.04022082876032075,-0.06926211092869186],\"yaxis\":\"y8\",\"type\":\"scatter\"},{\"legendgroup\":\"0\",\"line\":{\"color\":\"#808080\"},\"mode\":\"lines\",\"opacity\":0.1,\"showlegend\":false,\"x\":[\"BrainDrain\",\"FullTime\",\"MidTime\",\"OverTime\",\"PartTime\"],\"xaxis\":\"x8\",\"y\":[-0.04213854963838882,0.0035864989130954886,0.041991418428557144,-0.04442754329760126,0.06549891261351637],\"yaxis\":\"y8\",\"type\":\"scatter\"},{\"legendgroup\":\"1\",\"line\":{\"color\":\"#808080\"},\"mode\":\"lines\",\"opacity\":0.1,\"showlegend\":false,\"x\":[\"BrainDrain\",\"FullTime\",\"MidTime\",\"OverTime\",\"PartTime\"],\"xaxis\":\"x8\",\"y\":[0.04213854963838884,-0.0035864989130954955,-0.04199141842855712,0.044427543297601256,-0.06549891261351634],\"yaxis\":\"y8\",\"type\":\"scatter\"},{\"legendgroup\":\"0\",\"legendgrouptitle\":{\"text\":\"0\"},\"name\":\"Country\",\"x\":[\"Cambodia\",\"Canada\",\"China\",\"Columbia\",\"Cuba\",\"Dominican-Repub*\",\"Ecuador\",\"El-Salvador\",\"England\",\"France\",\"Germany\",\"Greece\",\"Guatemala\",\"Haiti\",\"Honduras\",\"Hong\",\"Hungary\",\"India\",\"Iran\",\"Ireland\",\"Italy\",\"Jamaica\",\"Japan\",\"Laos\",\"Mexico\",\"Nicaragua\",\"Outlying-US(Gua*\",\"Peru\",\"Philippines\",\"Poland\",\"Portugal\",\"Puerto-Rico\",\"Scotland\",\"South\",\"Taiwan\",\"Thailand\",\"Trinadad&Tobago\",\"United-States\",\"Vietnam\",\"Yugoslavia\"],\"xaxis\":\"x9\",\"y\":[0.0026143851047359216,-0.005906617406783481,0.0344400006163969,0.0322214946532397,0.0035571966120852908,0.024831010082816414,0.013489632976321761,0.04576029758120148,-0.022476707418732735,0.013175769991282614,-0.026584655047806383,0.03081967646065481,0.016113587499832348,0.0015877177735898421,0.02323341318509061,0.026014881121794065,0.009774226986864275,0.0437419184724257,0.009991036828736394,-0.0009721635640601387,-0.012005900671219677,0.005305758437905378,-0.033879621956477125,0.0239379453105997,0.047200353523089364,0.03513612629119886,0.028016026766184546,0.027780513935399927,-0.010097366875936972,0.0332844109174484,0.00027571225686766516,0.014090073067605069,0.018745212987918442,0.06094175019038259,0.014119371484810087,0.023718912351826424,0.021660041254919236,-0.0018420158193180602,0.03137284887061257,0.008250296855875472],\"yaxis\":\"y9\",\"type\":\"scatter\"},{\"legendgroup\":\"1\",\"legendgrouptitle\":{\"text\":\"1\"},\"name\":\"Country\",\"x\":[\"Cambodia\",\"Canada\",\"China\",\"Columbia\",\"Cuba\",\"Dominican-Repub*\",\"Ecuador\",\"El-Salvador\",\"England\",\"France\",\"Germany\",\"Greece\",\"Guatemala\",\"Haiti\",\"Honduras\",\"Hong\",\"Hungary\",\"India\",\"Iran\",\"Ireland\",\"Italy\",\"Jamaica\",\"Japan\",\"Laos\",\"Mexico\",\"Nicaragua\",\"Outlying-US(Gua*\",\"Peru\",\"Philippines\",\"Poland\",\"Portugal\",\"Puerto-Rico\",\"Scotland\",\"South\",\"Taiwan\",\"Thailand\",\"Trinadad&Tobago\",\"United-States\",\"Vietnam\",\"Yugoslavia\"],\"xaxis\":\"x9\",\"y\":[-0.0026143851047359286,0.005906617406783509,-0.034440000616396904,-0.03222149465323966,-0.00355719661208527,-0.024831010082816386,-0.013489632976321728,-0.045760297581201426,0.02247670741873276,-0.013175769991282588,0.026584655047806407,-0.030819676460654796,-0.016113587499832292,-0.0015877177735898196,-0.023233413185090555,-0.02601488112179406,-0.009774226986864244,-0.0437419184724257,-0.009991036828736363,0.0009721635640601665,0.012005900671219712,-0.005305758437905357,0.03387962195647713,-0.02393794531059969,-0.04720035352308932,-0.03513612629119881,-0.028016026766184525,-0.02778051393539987,0.010097366875936976,-0.033284410917448395,-0.00027571225686764955,-0.01409007306760504,-0.018745212987918404,-0.06094175019038259,-0.014119371484810097,-0.023718912351826417,-0.02166004125491923,0.0018420158193180602,-0.03137284887061256,-0.008250296855875451],\"yaxis\":\"y9\",\"type\":\"scatter\"},{\"legendgroup\":\"0\",\"line\":{\"color\":\"#808080\"},\"mode\":\"lines\",\"opacity\":0.1,\"showlegend\":false,\"x\":[\"Cambodia\",\"Canada\",\"China\",\"Columbia\",\"Cuba\",\"Dominican-Repub*\",\"Ecuador\",\"El-Salvador\",\"England\",\"France\",\"Germany\",\"Greece\",\"Guatemala\",\"Haiti\",\"Honduras\",\"Hong\",\"Hungary\",\"India\",\"Iran\",\"Ireland\",\"Italy\",\"Jamaica\",\"Japan\",\"Laos\",\"Mexico\",\"Nicaragua\",\"Outlying-US(Gua*\",\"Peru\",\"Philippines\",\"Poland\",\"Portugal\",\"Puerto-Rico\",\"Scotland\",\"South\",\"Taiwan\",\"Thailand\",\"Trinadad&Tobago\",\"United-States\",\"Vietnam\",\"Yugoslavia\"],\"xaxis\":\"x9\",\"y\":[-0.01100162540333697,0.0036526335676561623,0.006486469834758262,-0.19653566639387987,-0.032365220553237276,-0.2021395227818963,-0.21653566639387986,-0.2126789749469479,-0.009331294637784949,0.02105735191377689,-0.004491430878106934,0.046724018580443547,-0.1899742231083726,-0.019236917548217693,-0.18694882628297577,0.03180393015221853,-0.23375788861610206,-0.005430196831908393,0.0599125459498095,-0.2833299493877787,0.04225735191377691,0.009303637135194128,0.03890710475539311,0.03935948570777409,-0.1704923004686597,-0.20377885273800217,0.08619897988767974,-0.25152290035704983,-0.03053102193273355,0.05359980141697197,-0.27065603676425026,-0.20001267856406812,-0.2080056231761697,0.08400539535368373,0.015319803168091567,0.05650234285063123,0.038136970468527466,0.007177429843947775,0.017359485707774062,-0.035323275506104965],\"yaxis\":\"y9\",\"type\":\"scatter\"},{\"legendgroup\":\"1\",\"line\":{\"color\":\"#808080\"},\"mode\":\"lines\",\"opacity\":0.1,\"showlegend\":false,\"x\":[\"Cambodia\",\"Canada\",\"China\",\"Columbia\",\"Cuba\",\"Dominican-Repub*\",\"Ecuador\",\"El-Salvador\",\"England\",\"France\",\"Germany\",\"Greece\",\"Guatemala\",\"Haiti\",\"Honduras\",\"Hong\",\"Hungary\",\"India\",\"Iran\",\"Ireland\",\"Italy\",\"Jamaica\",\"Japan\",\"Laos\",\"Mexico\",\"Nicaragua\",\"Outlying-US(Gua*\",\"Peru\",\"Philippines\",\"Poland\",\"Portugal\",\"Puerto-Rico\",\"Scotland\",\"South\",\"Taiwan\",\"Thailand\",\"Trinadad&Tobago\",\"United-States\",\"Vietnam\",\"Yugoslavia\"],\"xaxis\":\"x9\",\"y\":[0.011001625403336992,-0.003652633567656145,-0.006486469834758257,0.19653566639388004,0.03236522055323736,0.20213952278189645,0.21653566639388003,0.2126789749469481,0.00933129463778492,-0.021057351913776876,0.004491430878106948,-0.04672401858044353,0.18997422310837273,0.01923691754821765,0.1869488262829759,-0.03180393015221855,0.2337578886161022,0.00543019683190841,-0.05991254594980951,0.28332994938777895,-0.042257351913776886,-0.009303637135194191,-0.03890710475539318,-0.03935948570777412,0.17049230046865987,0.20377885273800236,-0.08619897988767979,0.25152290035705,0.03053102193273352,-0.053599801416971904,0.2706560367642504,0.2000126785640683,0.20800562317616986,-0.08400539535368377,-0.01531980316809158,-0.05650234285063125,-0.03813697046852751,-0.007177429843947784,-0.017359485707774118,0.035323275506105006],\"yaxis\":\"y9\",\"type\":\"scatter\"},{\"legendgroup\":\"0\",\"line\":{\"color\":\"#808080\"},\"mode\":\"lines\",\"opacity\":0.1,\"showlegend\":false,\"x\":[\"Cambodia\",\"Canada\",\"China\",\"Columbia\",\"Cuba\",\"Dominican-Repub*\",\"Ecuador\",\"El-Salvador\",\"England\",\"France\",\"Germany\",\"Greece\",\"Guatemala\",\"Haiti\",\"Honduras\",\"Hong\",\"Hungary\",\"India\",\"Iran\",\"Ireland\",\"Italy\",\"Jamaica\",\"Japan\",\"Laos\",\"Mexico\",\"Nicaragua\",\"Outlying-US(Gua*\",\"Peru\",\"Philippines\",\"Poland\",\"Portugal\",\"Puerto-Rico\",\"Scotland\",\"South\",\"Taiwan\",\"Thailand\",\"Trinadad&Tobago\",\"United-States\",\"Vietnam\",\"Yugoslavia\"],\"xaxis\":\"x9\",\"y\":[-0.0015352881607313823,-0.0004994673080048612,-0.0004757643512075596,-0.1151958131409184,0.05360700285949613,-0.14619985292792192,-0.1550708131409184,-0.0932070217786637,-0.0951318263985038,0.017626844129337384,-0.06499267330771744,0.03590462190711517,-0.09907902292566484,0.038133433065132866,-0.09367377262041454,0.043172383796940605,-0.15219985292792193,0.02310756898212578,0.004579526654083559,-0.19143597281148075,0.05645382825632153,-0.03157090624634931,0.043639050463607346,0.03858666951122634,-0.09897037751223398,-0.09554083611247804,0.04201703094873076,-0.14328488373152568,-0.02892804447848768,0.0627958801427108,-0.11981352609142745,-0.1836033227630719,-0.13525394187245882,0.07724645787101465,-0.042023383398826636,0.05420571713027403,0.05895452665408356,0.004347625081092779,0.12267714570170254,0.00531393213582608],\"yaxis\":\"y9\",\"type\":\"scatter\"},{\"legendgroup\":\"1\",\"line\":{\"color\":\"#808080\"},\"mode\":\"lines\",\"opacity\":0.1,\"showlegend\":false,\"x\":[\"Cambodia\",\"Canada\",\"China\",\"Columbia\",\"Cuba\",\"Dominican-Repub*\",\"Ecuador\",\"El-Salvador\",\"England\",\"France\",\"Germany\",\"Greece\",\"Guatemala\",\"Haiti\",\"Honduras\",\"Hong\",\"Hungary\",\"India\",\"Iran\",\"Ireland\",\"Italy\",\"Jamaica\",\"Japan\",\"Laos\",\"Mexico\",\"Nicaragua\",\"Outlying-US(Gua*\",\"Peru\",\"Philippines\",\"Poland\",\"Portugal\",\"Puerto-Rico\",\"Scotland\",\"South\",\"Taiwan\",\"Thailand\",\"Trinadad&Tobago\",\"United-States\",\"Vietnam\",\"Yugoslavia\"],\"xaxis\":\"x9\",\"y\":[0.0015352881607312158,0.0004994673080048889,0.0004757643512074,0.11519581314091838,-0.0536070028594961,0.1461998529279219,0.1550708131409184,0.0932070217786637,0.09513182639850386,-0.017626844129337356,0.06499267330771744,-0.03590462190711513,0.09907902292566488,-0.03813343306513288,0.09367377262041457,-0.043172383796940744,0.1521998529279219,-0.02310756898212593,-0.0045795266540836,0.19143597281148073,-0.05645382825632149,0.031570906246349326,-0.0436390504636074,-0.03858666951122647,0.09897037751223398,0.09554083611247804,-0.04201703094873076,0.14328488373152565,0.028928044478487527,-0.06279588014271077,0.11981352609142747,0.1836033227630719,0.1352539418724588,-0.0772464578710148,0.04202338339882644,-0.0542057171302741,-0.0589545266540836,-0.004347625081092772,-0.12267714570170268,-0.005313932135826066],\"yaxis\":\"y9\",\"type\":\"scatter\"},{\"legendgroup\":\"0\",\"line\":{\"color\":\"#808080\"},\"mode\":\"lines\",\"opacity\":0.1,\"showlegend\":false,\"x\":[\"Cambodia\",\"Canada\",\"China\",\"Columbia\",\"Cuba\",\"Dominican-Repub*\",\"Ecuador\",\"El-Salvador\",\"England\",\"France\",\"Germany\",\"Greece\",\"Guatemala\",\"Haiti\",\"Honduras\",\"Hong\",\"Hungary\",\"India\",\"Iran\",\"Ireland\",\"Italy\",\"Jamaica\",\"Japan\",\"Laos\",\"Mexico\",\"Nicaragua\",\"Outlying-US(Gua*\",\"Peru\",\"Philippines\",\"Poland\",\"Portugal\",\"Puerto-Rico\",\"Scotland\",\"South\",\"Taiwan\",\"Thailand\",\"Trinadad&Tobago\",\"United-States\",\"Vietnam\",\"Yugoslavia\"],\"xaxis\":\"x9\",\"y\":[-0.03709153111524701,-0.00610006231820532,0.012029902647069136,0.09397466768357826,0.0032074658064831854,0.015714930563947953,0.009437152786170154,0.11820327196204544,-0.01868279915601269,0.014260777309794699,-0.04732528901319667,-0.029539222690205334,0.04778762761047344,-0.05454823763909823,0.04578762761047344,-0.0864097129334288,0.015964930563947953,0.024507225683509805,-0.0660451698500177,-0.02959919281267543,0.04800407567809307,-0.032762523353383935,-0.05742241134612723,-0.06755098277469862,0.11764905741819276,0.0837402190005648,-0.05454823763909823,0.11146090803375386,-0.12872564884936474,-0.02905729720827987,0.009437152786170154,0.0365525929016103,0.0828818838656405,0.05964908937537348,-0.05928662396357514,-0.05826526848898437,-0.04317919002005062,-0.0018898223159354854,-0.0848366970604129,0.00640080718732456],\"yaxis\":\"y9\",\"type\":\"scatter\"},{\"legendgroup\":\"1\",\"line\":{\"color\":\"#808080\"},\"mode\":\"lines\",\"opacity\":0.1,\"showlegend\":false,\"x\":[\"Cambodia\",\"Canada\",\"China\",\"Columbia\",\"Cuba\",\"Dominican-Repub*\",\"Ecuador\",\"El-Salvador\",\"England\",\"France\",\"Germany\",\"Greece\",\"Guatemala\",\"Haiti\",\"Honduras\",\"Hong\",\"Hungary\",\"India\",\"Iran\",\"Ireland\",\"Italy\",\"Jamaica\",\"Japan\",\"Laos\",\"Mexico\",\"Nicaragua\",\"Outlying-US(Gua*\",\"Peru\",\"Philippines\",\"Poland\",\"Portugal\",\"Puerto-Rico\",\"Scotland\",\"South\",\"Taiwan\",\"Thailand\",\"Trinadad&Tobago\",\"United-States\",\"Vietnam\",\"Yugoslavia\"],\"xaxis\":\"x9\",\"y\":[0.03709153111524705,0.006100062318205347,-0.012029902647069074,-0.09397466768357819,-0.0032074658064831923,-0.015714930563947904,-0.009437152786170133,-0.11820327196204537,0.01868279915601271,-0.014260777309794678,0.047325289013196686,0.029539222690205313,-0.04778762761047335,0.05454823763909825,-0.04578762761047335,0.0864097129334289,-0.015964930563947904,-0.02450722568350973,0.06604516985001778,0.029599192812675465,-0.04800407567809303,0.03276252335338396,0.05742241134612726,0.06755098277469873,-0.11764905741819272,-0.08374021900056473,0.05454823763909825,-0.11146090803375379,0.12872564884936477,0.029057297208279834,-0.009437152786170133,-0.03655259290161024,-0.08288188386564042,-0.0596490893753734,0.059286623963575216,0.058265268488984445,0.043179190020050634,0.0018898223159354854,0.08483669706041302,-0.006400807187324567],\"yaxis\":\"y9\",\"type\":\"scatter\"},{\"legendgroup\":\"0\",\"line\":{\"color\":\"#808080\"},\"mode\":\"lines\",\"opacity\":0.1,\"showlegend\":false,\"x\":[\"Cambodia\",\"Canada\",\"China\",\"Columbia\",\"Cuba\",\"Dominican-Repub*\",\"Ecuador\",\"El-Salvador\",\"England\",\"France\",\"Germany\",\"Greece\",\"Guatemala\",\"Haiti\",\"Honduras\",\"Hong\",\"Hungary\",\"India\",\"Iran\",\"Ireland\",\"Italy\",\"Jamaica\",\"Japan\",\"Laos\",\"Mexico\",\"Nicaragua\",\"Outlying-US(Gua*\",\"Peru\",\"Philippines\",\"Poland\",\"Portugal\",\"Puerto-Rico\",\"Scotland\",\"South\",\"Taiwan\",\"Thailand\",\"Trinadad&Tobago\",\"United-States\",\"Vietnam\",\"Yugoslavia\"],\"xaxis\":\"x9\",\"y\":[0.012118628438516195,-0.0020359446264179328,0.03924958081946858,-0.04375726595410871,-0.06429498397826401,-0.011923932620775377,-0.04375726595410871,-0.02470023949010809,-0.031945656551789936,0.015737050191068993,-0.029107898677221206,-0.016215364854203173,-0.04589658508488133,0.010031743405180545,-0.05149133477963104,0.019883779953667722,-0.04042393262077537,0.02892815224804001,0.014878810029032869,-0.0665537486380914,0.021691865530119418,0.006806486519209414,-0.08927121168177912,0.02641711328700107,-0.03242010721900328,-0.04315800144629771,0.003365076738513873,-0.0331580014462977,-0.05134984937996161,-0.00436745576429853,-0.04013407754831162,-0.02230632800317076,-0.05546522169082142,0.10609932829421605,0.02082214317774524,0.01570282757271535,0.019152619552842417,0.001663766580324643,0.0017028275727153375,-0.021553748638091393],\"yaxis\":\"y9\",\"type\":\"scatter\"},{\"legendgroup\":\"1\",\"line\":{\"color\":\"#808080\"},\"mode\":\"lines\",\"opacity\":0.1,\"showlegend\":false,\"x\":[\"Cambodia\",\"Canada\",\"China\",\"Columbia\",\"Cuba\",\"Dominican-Repub*\",\"Ecuador\",\"El-Salvador\",\"England\",\"France\",\"Germany\",\"Greece\",\"Guatemala\",\"Haiti\",\"Honduras\",\"Hong\",\"Hungary\",\"India\",\"Iran\",\"Ireland\",\"Italy\",\"Jamaica\",\"Japan\",\"Laos\",\"Mexico\",\"Nicaragua\",\"Outlying-US(Gua*\",\"Peru\",\"Philippines\",\"Poland\",\"Portugal\",\"Puerto-Rico\",\"Scotland\",\"South\",\"Taiwan\",\"Thailand\",\"Trinadad&Tobago\",\"United-States\",\"Vietnam\",\"Yugoslavia\"],\"xaxis\":\"x9\",\"y\":[-0.012118628438516238,0.00203594462641795,-0.03924958081946861,0.04375726595410885,0.06429498397826411,0.011923932620775523,0.04375726595410885,0.02470023949010822,0.03194565655178998,-0.015737050191068976,0.029107898677221255,0.016215364854203215,0.045896585084881494,-0.010031743405180546,0.05149133477963119,-0.019883779953667736,0.040423932620775524,-0.028928152248040045,-0.014878810029032869,0.06655374863809152,-0.021691865530119373,-0.006806486519209376,0.08927121168177911,-0.02641711328700107,0.032420107219003416,0.04315800144629786,-0.00336507673851388,0.03315800144629785,0.05134984937996158,0.004367455764298599,0.04013407754831175,0.022306328003170905,0.05546522169082156,-0.10609932829421606,-0.02082214317774528,-0.015702827572715364,-0.019152619552842403,-0.0016637665803246465,-0.0017028275727153548,0.021553748638091477],\"yaxis\":\"y9\",\"type\":\"scatter\"},{\"legendgroup\":\"0\",\"line\":{\"color\":\"#808080\"},\"mode\":\"lines\",\"opacity\":0.1,\"showlegend\":false,\"x\":[\"Cambodia\",\"Canada\",\"China\",\"Columbia\",\"Cuba\",\"Dominican-Repub*\",\"Ecuador\",\"El-Salvador\",\"England\",\"France\",\"Germany\",\"Greece\",\"Guatemala\",\"Haiti\",\"Honduras\",\"Hong\",\"Hungary\",\"India\",\"Iran\",\"Ireland\",\"Italy\",\"Jamaica\",\"Japan\",\"Laos\",\"Mexico\",\"Nicaragua\",\"Outlying-US(Gua*\",\"Peru\",\"Philippines\",\"Poland\",\"Portugal\",\"Puerto-Rico\",\"Scotland\",\"South\",\"Taiwan\",\"Thailand\",\"Trinadad&Tobago\",\"United-States\",\"Vietnam\",\"Yugoslavia\"],\"xaxis\":\"x9\",\"y\":[0.1259244626767329,-0.011288906771081908,0.21693911202112148,0.10899634387400725,-0.012591449785139985,0.084961621651785,0.09285051054067392,0.12328917182012317,-0.08030863703060226,0.007311278754349504,-0.03029426131798607,0.07393985134014314,0.06746384514062981,0.08773708745897851,0.06746384514062981,0.12925779601006626,0.07618384387400723,0.24910544278037314,0.16493241792216612,0.06652772915539251,-0.13141140025465725,0.026041295156043365,0.018398042469857545,0.14059112934339957,0.14425861594848255,0.10641391127819597,0.08773708745897851,0.1420260144527992,0.08493557378784403,-0.012152324508106882,0.09618384387400722,0.07913189582205918,0.09360658704378838,0.24145926121153144,0.2528186497821719,0.14859112934339963,0.1277419417316899,-0.008241206091938014,0.17759112934339957,0.00953106417345373],\"yaxis\":\"y9\",\"type\":\"scatter\"},{\"legendgroup\":\"1\",\"line\":{\"color\":\"#808080\"},\"mode\":\"lines\",\"opacity\":0.1,\"showlegend\":false,\"x\":[\"Cambodia\",\"Canada\",\"China\",\"Columbia\",\"Cuba\",\"Dominican-Repub*\",\"Ecuador\",\"El-Salvador\",\"England\",\"France\",\"Germany\",\"Greece\",\"Guatemala\",\"Haiti\",\"Honduras\",\"Hong\",\"Hungary\",\"India\",\"Iran\",\"Ireland\",\"Italy\",\"Jamaica\",\"Japan\",\"Laos\",\"Mexico\",\"Nicaragua\",\"Outlying-US(Gua*\",\"Peru\",\"Philippines\",\"Poland\",\"Portugal\",\"Puerto-Rico\",\"Scotland\",\"South\",\"Taiwan\",\"Thailand\",\"Trinadad&Tobago\",\"United-States\",\"Vietnam\",\"Yugoslavia\"],\"xaxis\":\"x9\",\"y\":[-0.12592446267673296,0.011288906771081908,-0.21693911202112154,-0.10899634387400722,0.012591449785140152,-0.084961621651785,-0.09285051054067389,-0.12328917182012314,0.08030863703060226,-0.007311278754349476,0.03029426131798607,-0.07393985134014303,-0.06746384514062981,-0.08773708745897854,-0.06746384514062981,-0.12925779601006632,-0.07618384387400723,-0.2491054427803732,-0.16493241792216615,-0.06652772915539251,0.1314114002546573,-0.026041295156043365,-0.0183980424698576,-0.14059112934339962,-0.14425861594848252,-0.10641391127819594,-0.08773708745897854,-0.1420260144527991,-0.08493557378784408,0.012152324508106993,-0.09618384387400722,-0.07913189582205918,-0.09360658704378835,-0.24145926121153155,-0.2528186497821719,-0.14859112934339963,-0.12774194173168996,0.008241206091938014,-0.17759112934339966,-0.009531064173453563],\"yaxis\":\"y9\",\"type\":\"scatter\"},{\"legendgroup\":\"0\",\"line\":{\"color\":\"#808080\"},\"mode\":\"lines\",\"opacity\":0.1,\"showlegend\":false,\"x\":[\"Cambodia\",\"Canada\",\"China\",\"Columbia\",\"Cuba\",\"Dominican-Repub*\",\"Ecuador\",\"El-Salvador\",\"England\",\"France\",\"Germany\",\"Greece\",\"Guatemala\",\"Haiti\",\"Honduras\",\"Hong\",\"Hungary\",\"India\",\"Iran\",\"Ireland\",\"Italy\",\"Jamaica\",\"Japan\",\"Laos\",\"Mexico\",\"Nicaragua\",\"Outlying-US(Gua*\",\"Peru\",\"Philippines\",\"Poland\",\"Portugal\",\"Puerto-Rico\",\"Scotland\",\"South\",\"Taiwan\",\"Thailand\",\"Trinadad&Tobago\",\"United-States\",\"Vietnam\",\"Yugoslavia\"],\"xaxis\":\"x9\",\"y\":[0.05214789408053324,-0.003237146637856743,0.05664202019251647,-0.005043466446610641,-0.0071149772085453145,-0.012195769236413419,-0.03710596644661066,-0.006908795707775563,-0.009880267730697945,0.014900047612571993,-0.025222035004818167,0.007010042379709612,-0.051583179342483826,-0.12228801501764688,-0.04224984600915049,-0.020086954404315203,-0.00813350372414788,0.08647355254904884,-0.02987562968324891,-0.04690216489830654,0.08681676771352714,-0.07248241249412016,-0.05820101336123133,-0.000442509959870753,0.004669456878280548,0.0016966298279786768,0.0321108453812135,-0.03300513701444148,-0.034642509959870754,0.030954977958836345,-0.070439299779944,-0.051374488785919194,-0.012408795707775592,0.14585875266639184,-0.0393916222854537,0.0018432043258435407,-0.04183396301658226,0.00029069567753118447,0.046647966230605444,0.008097835101693464],\"yaxis\":\"y9\",\"type\":\"scatter\"},{\"legendgroup\":\"1\",\"line\":{\"color\":\"#808080\"},\"mode\":\"lines\",\"opacity\":0.1,\"showlegend\":false,\"x\":[\"Cambodia\",\"Canada\",\"China\",\"Columbia\",\"Cuba\",\"Dominican-Repub*\",\"Ecuador\",\"El-Salvador\",\"England\",\"France\",\"Germany\",\"Greece\",\"Guatemala\",\"Haiti\",\"Honduras\",\"Hong\",\"Hungary\",\"India\",\"Iran\",\"Ireland\",\"Italy\",\"Jamaica\",\"Japan\",\"Laos\",\"Mexico\",\"Nicaragua\",\"Outlying-US(Gua*\",\"Peru\",\"Philippines\",\"Poland\",\"Portugal\",\"Puerto-Rico\",\"Scotland\",\"South\",\"Taiwan\",\"Thailand\",\"Trinadad&Tobago\",\"United-States\",\"Vietnam\",\"Yugoslavia\"],\"xaxis\":\"x9\",\"y\":[-0.052147894080533296,0.0032371466378567776,-0.05664202019251655,0.005043466446610634,0.007114977208545245,0.01219576923641344,0.037105966446610635,0.0069087957077755766,0.009880267730697986,-0.014900047612571958,0.025222035004818184,-0.007010042379709584,0.051583179342483826,0.12228801501764691,0.04224984600915053,0.020086954404315217,0.008133503724147943,-0.0864735525490489,0.029875629683248917,0.04690216489830653,-0.08681676771352714,0.07248241249412024,0.05820101336123134,0.00044250995987076686,-0.004669456878280583,-0.001696629827978656,-0.03211084538121347,0.03300513701444153,0.034642509959870754,-0.03095497795883636,0.070439299779944,0.05137448878591918,0.012408795707775571,-0.14585875266639187,0.03939162228545363,-0.0018432043258435268,0.04183396301658228,-0.00029069567753117753,-0.04664796623060543,-0.008097835101693505],\"yaxis\":\"y9\",\"type\":\"scatter\"},{\"legendgroup\":\"0\",\"line\":{\"color\":\"#808080\"},\"mode\":\"lines\",\"opacity\":0.1,\"showlegend\":false,\"x\":[\"Cambodia\",\"Canada\",\"China\",\"Columbia\",\"Cuba\",\"Dominican-Repub*\",\"Ecuador\",\"El-Salvador\",\"England\",\"France\",\"Germany\",\"Greece\",\"Guatemala\",\"Haiti\",\"Honduras\",\"Hong\",\"Hungary\",\"India\",\"Iran\",\"Ireland\",\"Italy\",\"Jamaica\",\"Japan\",\"Laos\",\"Mexico\",\"Nicaragua\",\"Outlying-US(Gua*\",\"Peru\",\"Philippines\",\"Poland\",\"Portugal\",\"Puerto-Rico\",\"Scotland\",\"South\",\"Taiwan\",\"Thailand\",\"Trinadad&Tobago\",\"United-States\",\"Vietnam\",\"Yugoslavia\"],\"xaxis\":\"x9\",\"y\":[-0.09494678832478048,0.001708169901134815,-0.07019678832478048,0.03473085890132238,-0.03436194308817597,0.06533951830040774,0.016008215803679282,0.03572362931604153,-0.060302556369585564,0.02025537422122406,-0.06871249028357078,0.012384548615800933,-7.807823566596817e-05,-0.027357641923786424,-0.004649506807094528,-0.0269150097547666,0.00225821580367927,-0.07682774070573287,0.0043181822520377555,0.019278597530575592,-0.08302479890802028,-0.06741258697873148,-0.06896449251999873,-0.04199997707502803,0.055071679879073826,0.04334267693508917,-0.027357641923786424,0.019640656733068945,-0.10896175402356971,0.033229948922992664,-0.05811215456669111,0.05361684608757414,0.023210874214000726,-0.03869678832478052,-0.1616015502295424,0.008142880067829095,0.01931818225203774,0.0010171099609413148,-0.042999977075028034,0.0054847663617443865],\"yaxis\":\"y9\",\"type\":\"scatter\"},{\"legendgroup\":\"1\",\"line\":{\"color\":\"#808080\"},\"mode\":\"lines\",\"opacity\":0.1,\"showlegend\":false,\"x\":[\"Cambodia\",\"Canada\",\"China\",\"Columbia\",\"Cuba\",\"Dominican-Repub*\",\"Ecuador\",\"El-Salvador\",\"England\",\"France\",\"Germany\",\"Greece\",\"Guatemala\",\"Haiti\",\"Honduras\",\"Hong\",\"Hungary\",\"India\",\"Iran\",\"Ireland\",\"Italy\",\"Jamaica\",\"Japan\",\"Laos\",\"Mexico\",\"Nicaragua\",\"Outlying-US(Gua*\",\"Peru\",\"Philippines\",\"Poland\",\"Portugal\",\"Puerto-Rico\",\"Scotland\",\"South\",\"Taiwan\",\"Thailand\",\"Trinadad&Tobago\",\"United-States\",\"Vietnam\",\"Yugoslavia\"],\"xaxis\":\"x9\",\"y\":[0.09494678832478046,-0.0017081699011348705,0.07019678832478045,-0.03473085890132227,0.03436194308817597,-0.06533951830040774,-0.01600821580367917,-0.03572362931604145,0.060302556369585605,-0.020255374221224115,0.06871249028357077,-0.012384548615800989,7.80782356661347e-05,0.027357641923786424,0.004649506807094694,0.0269150097547666,-0.0022582158036792144,0.07682774070573282,-0.004318182252037728,-0.019278597530575592,0.08302479890802028,0.06741258697873147,0.06896449251999873,0.04199997707502806,-0.055071679879073715,-0.04334267693508906,0.027357641923786424,-0.019640656733068862,0.1089617540235697,-0.03322994892299269,0.05811215456669114,-0.05361684608757414,-0.023210874214000643,0.038696788324780435,0.1616015502295423,-0.008142880067829067,-0.01931818225203774,-0.001017109960941398,0.04299997707502806,-0.005484766361744414],\"yaxis\":\"y9\",\"type\":\"scatter\"},{\"legendgroup\":\"0\",\"line\":{\"color\":\"#808080\"},\"mode\":\"lines\",\"opacity\":0.1,\"showlegend\":false,\"x\":[\"Cambodia\",\"Canada\",\"China\",\"Columbia\",\"Cuba\",\"Dominican-Repub*\",\"Ecuador\",\"El-Salvador\",\"England\",\"France\",\"Germany\",\"Greece\",\"Guatemala\",\"Haiti\",\"Honduras\",\"Hong\",\"Hungary\",\"India\",\"Iran\",\"Ireland\",\"Italy\",\"Jamaica\",\"Japan\",\"Laos\",\"Mexico\",\"Nicaragua\",\"Outlying-US(Gua*\",\"Peru\",\"Philippines\",\"Poland\",\"Portugal\",\"Puerto-Rico\",\"Scotland\",\"South\",\"Taiwan\",\"Thailand\",\"Trinadad&Tobago\",\"United-States\",\"Vietnam\",\"Yugoslavia\"],\"xaxis\":\"x9\",\"y\":[0.004414461930414462,-0.005799743203981696,0.11310595852905393,0.03901404751529215,0.06392672547569929,0.04382205816786558,0.041514047515292155,0.08602983353554729,-0.06309629698807138,0.014610058809032635,-0.06008078247303003,0.045375138174112026,0.037968538657585746,0.022077854257508467,0.032373788962836034,0.06033509685104939,0.03603975673515028,0.07210040297349839,-0.01695054184887501,0.05982769950167337,0.03212590276040292,0.0649982308958093,0.016437213253165786,0.05759435611030865,0.03284961942333471,0.03987378896283604,0.00541118759084179,0.03737378896283604,0.05326817042235826,0.058033868332842145,0.056818774727357815,0.007036979804703636,0.023861227835691612,0.06533509685104939,-0.04344166051856514,0.007594356110308655,0.008257791484458321,-0.002717509407005027,0.04959435611030867,0.04603386833284216],\"yaxis\":\"y9\",\"type\":\"scatter\"},{\"legendgroup\":\"1\",\"line\":{\"color\":\"#808080\"},\"mode\":\"lines\",\"opacity\":0.1,\"showlegend\":false,\"x\":[\"Cambodia\",\"Canada\",\"China\",\"Columbia\",\"Cuba\",\"Dominican-Repub*\",\"Ecuador\",\"El-Salvador\",\"England\",\"France\",\"Germany\",\"Greece\",\"Guatemala\",\"Haiti\",\"Honduras\",\"Hong\",\"Hungary\",\"India\",\"Iran\",\"Ireland\",\"Italy\",\"Jamaica\",\"Japan\",\"Laos\",\"Mexico\",\"Nicaragua\",\"Outlying-US(Gua*\",\"Peru\",\"Philippines\",\"Poland\",\"Portugal\",\"Puerto-Rico\",\"Scotland\",\"South\",\"Taiwan\",\"Thailand\",\"Trinadad&Tobago\",\"United-States\",\"Vietnam\",\"Yugoslavia\"],\"xaxis\":\"x9\",\"y\":[-0.004414461930414455,0.0057997432039817234,-0.11310595852905392,-0.039014047515292034,-0.06392672547569925,-0.04382205816786552,-0.04151404751529204,-0.08602983353554722,0.06309629698807137,-0.014610058809032607,0.060080782473030045,-0.04537513817411195,-0.037968538657585656,-0.022077854257508432,-0.03237378896283596,-0.060335096851049395,-0.036039756735150204,-0.07210040297349837,0.016950541848875046,-0.05982769950167328,-0.03212590276040286,-0.06499823089580928,-0.016437213253165807,-0.05759435611030866,-0.03284961942333458,-0.039873788962835964,-0.005411187590841769,-0.03737378896283596,-0.05326817042235827,-0.05803386833284211,-0.056818774727357725,-0.00703697980470358,-0.023861227835691494,-0.06533509685104938,0.04344166051856511,-0.007594356110308655,-0.008257791484458314,0.0027175094070050337,-0.04959435611030865,-0.046033868332842114],\"yaxis\":\"y9\",\"type\":\"scatter\"},{\"legendgroup\":\"0\",\"line\":{\"color\":\"#808080\"},\"mode\":\"lines\",\"opacity\":0.1,\"showlegend\":false,\"x\":[\"Cambodia\",\"Canada\",\"China\",\"Columbia\",\"Cuba\",\"Dominican-Repub*\",\"Ecuador\",\"El-Salvador\",\"England\",\"France\",\"Germany\",\"Greece\",\"Guatemala\",\"Haiti\",\"Honduras\",\"Hong\",\"Hungary\",\"India\",\"Iran\",\"Ireland\",\"Italy\",\"Jamaica\",\"Japan\",\"Laos\",\"Mexico\",\"Nicaragua\",\"Outlying-US(Gua*\",\"Peru\",\"Philippines\",\"Poland\",\"Portugal\",\"Puerto-Rico\",\"Scotland\",\"South\",\"Taiwan\",\"Thailand\",\"Trinadad&Tobago\",\"United-States\",\"Vietnam\",\"Yugoslavia\"],\"xaxis\":\"x9\",\"y\":[0.03812107839907228,6.410595090035331e-05,0.040559173637167524,-0.13415273479215373,-0.04985161465349331,-0.036380984170719714,-0.14724202050643947,-0.11102179802567233,0.007191942760730929,0.02028427529075575,-0.02315896212557645,0.006380375578496876,-0.11187191424378953,0.06951212134305645,-0.10704521871709402,0.1004920825583118,-0.12160289111731001,0.0744226657006596,0.0022412533221884065,-0.15258286154136222,0.032893279341400655,0.07903593086686596,0.006762815093750214,0.0857628150937502,-0.12252564200229357,-0.13012524517212043,0.046178788009723096,-0.17161929279116805,0.07449841102803034,0.029716458206386263,-0.12828814426995458,-0.07495625876110842,-0.1462891289491923,0.2095243973023912,0.055937684015677926,0.08476281509375022,0.07646648642242154,0.0024138066657949306,0.12756757699851207,0.0034271473583727743],\"yaxis\":\"y9\",\"type\":\"scatter\"},{\"legendgroup\":\"1\",\"line\":{\"color\":\"#808080\"},\"mode\":\"lines\",\"opacity\":0.1,\"showlegend\":false,\"x\":[\"Cambodia\",\"Canada\",\"China\",\"Columbia\",\"Cuba\",\"Dominican-Repub*\",\"Ecuador\",\"El-Salvador\",\"England\",\"France\",\"Germany\",\"Greece\",\"Guatemala\",\"Haiti\",\"Honduras\",\"Hong\",\"Hungary\",\"India\",\"Iran\",\"Ireland\",\"Italy\",\"Jamaica\",\"Japan\",\"Laos\",\"Mexico\",\"Nicaragua\",\"Outlying-US(Gua*\",\"Peru\",\"Philippines\",\"Poland\",\"Portugal\",\"Puerto-Rico\",\"Scotland\",\"South\",\"Taiwan\",\"Thailand\",\"Trinadad&Tobago\",\"United-States\",\"Vietnam\",\"Yugoslavia\"],\"xaxis\":\"x9\",\"y\":[-0.038121078399072306,-6.41059509003325e-05,-0.04055917363716757,0.1341527347921537,0.04985161465349334,0.03638098417071973,0.14724202050643942,0.1110217980256723,-0.007191942760730867,-0.020284275290755736,0.023158962125576506,-0.006380375578496911,0.1118719142437895,-0.06951212134305641,0.10704521871709399,-0.10049208255831171,0.12160289111731004,-0.07442266570065961,-0.002241253322188351,0.15258286154136222,-0.032893279341400614,-0.07903593086686594,-0.006762815093750145,-0.08576281509375014,0.12252564200229354,0.13012524517212043,-0.04617878800972308,0.17161929279116805,-0.07449841102803029,-0.029716458206386277,0.1282881442699545,0.0749562587611084,0.14628912894919227,-0.20952439730239117,-0.055937684015677884,-0.08476281509375017,-0.07646648642242149,-0.0024138066657949306,-0.12756757699851207,-0.0034271473583727605],\"yaxis\":\"y9\",\"type\":\"scatter\"},{\"legendgroup\":\"0\",\"line\":{\"color\":\"#808080\"},\"mode\":\"lines\",\"opacity\":0.1,\"showlegend\":false,\"x\":[\"Cambodia\",\"Canada\",\"China\",\"Columbia\",\"Cuba\",\"Dominican-Repub*\",\"Ecuador\",\"El-Salvador\",\"England\",\"France\",\"Germany\",\"Greece\",\"Guatemala\",\"Haiti\",\"Honduras\",\"Hong\",\"Hungary\",\"India\",\"Iran\",\"Ireland\",\"Italy\",\"Jamaica\",\"Japan\",\"Laos\",\"Mexico\",\"Nicaragua\",\"Outlying-US(Gua*\",\"Peru\",\"Philippines\",\"Poland\",\"Portugal\",\"Puerto-Rico\",\"Scotland\",\"South\",\"Taiwan\",\"Thailand\",\"Trinadad&Tobago\",\"United-States\",\"Vietnam\",\"Yugoslavia\"],\"xaxis\":\"x9\",\"y\":[-0.1727217469800435,0.0031662761550017154,-0.08789402589160811,0.07721342874278316,0.019753264682121838,0.07374676207611648,0.07721342874278316,0.04524168552051873,-0.09482124547549486,0.01896941579271466,-0.024476350071785738,0.068902749126048,0.0484742471384854,-0.17480157671766938,0.0484742471384854,-0.12744716045545698,0.0705467620761165,-0.13687140684398905,-0.1708290839326766,0.06581810045995486,0.07890274912604799,-0.12551952543561812,-0.1475104700069198,-0.13343632034705588,0.09002938035435527,0.05565936654868377,-0.06339742531351801,0.0484742471384854,-0.16583007281910842,0.04866664047755252,0.06915787318722764,0.06685282268217706,0.06587480400914224,-0.11382048157877805,-0.10580672430430653,-0.13204856524501507,-0.10881317622926893,0.0011141781986645505,-0.19256132034705586,0.07412365601551031],\"yaxis\":\"y9\",\"type\":\"scatter\"},{\"legendgroup\":\"1\",\"line\":{\"color\":\"#808080\"},\"mode\":\"lines\",\"opacity\":0.1,\"showlegend\":false,\"x\":[\"Cambodia\",\"Canada\",\"China\",\"Columbia\",\"Cuba\",\"Dominican-Repub*\",\"Ecuador\",\"El-Salvador\",\"England\",\"France\",\"Germany\",\"Greece\",\"Guatemala\",\"Haiti\",\"Honduras\",\"Hong\",\"Hungary\",\"India\",\"Iran\",\"Ireland\",\"Italy\",\"Jamaica\",\"Japan\",\"Laos\",\"Mexico\",\"Nicaragua\",\"Outlying-US(Gua*\",\"Peru\",\"Philippines\",\"Poland\",\"Portugal\",\"Puerto-Rico\",\"Scotland\",\"South\",\"Taiwan\",\"Thailand\",\"Trinadad&Tobago\",\"United-States\",\"Vietnam\",\"Yugoslavia\"],\"xaxis\":\"x9\",\"y\":[0.17272174698004356,-0.0031662761550017016,0.08789402589160816,-0.07721342874278297,-0.019753264682121796,-0.0737467620761163,-0.07721342874278297,-0.04524168552051855,0.09482124547549486,-0.01896941579271466,0.024476350071785724,-0.06890274912604799,-0.04847424713848522,0.17480157671766944,-0.04847424713848522,0.127447160455457,-0.07054676207611629,0.13687140684398913,0.1708290839326767,-0.06581810045995468,-0.078902749126048,0.12551952543561815,0.14751047000691986,0.13343632034705594,-0.09002938035435509,-0.055659366548683586,0.06339742531351801,-0.04847424713848522,0.16583007281910847,-0.04866664047755248,-0.06915787318722741,-0.0668528226821769,-0.06587480400914206,0.11382048157877814,0.1058067243043066,0.13204856524501513,0.10881317622926895,-0.0011141781986645644,0.19256132034705592,-0.07412365601551024],\"yaxis\":\"y9\",\"type\":\"scatter\"},{\"legendgroup\":\"0\",\"legendgrouptitle\":{\"text\":\"0\"},\"name\":\"Capital Ga*\",\"x\":[0,99999],\"xaxis\":\"x10\",\"y\":[0.2751189613140763,-0.2751189613401379],\"yaxis\":\"y10\",\"type\":\"scatter\"},{\"legendgroup\":\"1\",\"legendgrouptitle\":{\"text\":\"1\"},\"name\":\"Capital Ga*\",\"x\":[0,99999],\"xaxis\":\"x10\",\"y\":[-0.27511896131407637,0.27511896134013797],\"yaxis\":\"y10\",\"type\":\"scatter\"},{\"legendgroup\":\"0\",\"line\":{\"color\":\"#808080\"},\"mode\":\"lines\",\"opacity\":0.1,\"showlegend\":false,\"x\":[0,99999],\"xaxis\":\"x10\",\"y\":[0.27455131859606974,-0.27455131885618467],\"yaxis\":\"y10\",\"type\":\"scatter\"},{\"legendgroup\":\"1\",\"line\":{\"color\":\"#808080\"},\"mode\":\"lines\",\"opacity\":0.1,\"showlegend\":false,\"x\":[0,99999],\"xaxis\":\"x10\",\"y\":[-0.27455131859606974,0.27455131885618467],\"yaxis\":\"y10\",\"type\":\"scatter\"},{\"legendgroup\":\"0\",\"line\":{\"color\":\"#808080\"},\"mode\":\"lines\",\"opacity\":0.1,\"showlegend\":false,\"x\":[0,99999],\"xaxis\":\"x10\",\"y\":[0.27412744297875125,-0.2741274432384645],\"yaxis\":\"y10\",\"type\":\"scatter\"},{\"legendgroup\":\"1\",\"line\":{\"color\":\"#808080\"},\"mode\":\"lines\",\"opacity\":0.1,\"showlegend\":false,\"x\":[0,99999],\"xaxis\":\"x10\",\"y\":[-0.27412744297875125,0.2741274432384645],\"yaxis\":\"y10\",\"type\":\"scatter\"},{\"legendgroup\":\"0\",\"line\":{\"color\":\"#808080\"},\"mode\":\"lines\",\"opacity\":0.1,\"showlegend\":false,\"x\":[0,99999],\"xaxis\":\"x10\",\"y\":[0.2729901804606949,-0.2729901807193308],\"yaxis\":\"y10\",\"type\":\"scatter\"},{\"legendgroup\":\"1\",\"line\":{\"color\":\"#808080\"},\"mode\":\"lines\",\"opacity\":0.1,\"showlegend\":false,\"x\":[0,99999],\"xaxis\":\"x10\",\"y\":[-0.2729901804606949,0.2729901807193308],\"yaxis\":\"y10\",\"type\":\"scatter\"},{\"legendgroup\":\"0\",\"line\":{\"color\":\"#808080\"},\"mode\":\"lines\",\"opacity\":0.1,\"showlegend\":false,\"x\":[0,99999],\"xaxis\":\"x10\",\"y\":[0.28088651949949944,-0.28088651976561646],\"yaxis\":\"y10\",\"type\":\"scatter\"},{\"legendgroup\":\"1\",\"line\":{\"color\":\"#808080\"},\"mode\":\"lines\",\"opacity\":0.1,\"showlegend\":false,\"x\":[0,99999],\"xaxis\":\"x10\",\"y\":[-0.28088651949949944,0.28088651976561646],\"yaxis\":\"y10\",\"type\":\"scatter\"},{\"legendgroup\":\"0\",\"line\":{\"color\":\"#808080\"},\"mode\":\"lines\",\"opacity\":0.1,\"showlegend\":false,\"x\":[0,99999],\"xaxis\":\"x10\",\"y\":[0.2746743554617118,-0.2746743557219433],\"yaxis\":\"y10\",\"type\":\"scatter\"},{\"legendgroup\":\"1\",\"line\":{\"color\":\"#808080\"},\"mode\":\"lines\",\"opacity\":0.1,\"showlegend\":false,\"x\":[0,99999],\"xaxis\":\"x10\",\"y\":[-0.27467435546171187,0.2746743557219434],\"yaxis\":\"y10\",\"type\":\"scatter\"},{\"legendgroup\":\"0\",\"line\":{\"color\":\"#808080\"},\"mode\":\"lines\",\"opacity\":0.1,\"showlegend\":false,\"x\":[0,99999],\"xaxis\":\"x10\",\"y\":[0.2746892330878276,-0.2746892333480732],\"yaxis\":\"y10\",\"type\":\"scatter\"},{\"legendgroup\":\"1\",\"line\":{\"color\":\"#808080\"},\"mode\":\"lines\",\"opacity\":0.1,\"showlegend\":false,\"x\":[0,99999],\"xaxis\":\"x10\",\"y\":[-0.27468923308782767,0.27468923334807327],\"yaxis\":\"y10\",\"type\":\"scatter\"},{\"legendgroup\":\"0\",\"line\":{\"color\":\"#808080\"},\"mode\":\"lines\",\"opacity\":0.1,\"showlegend\":false,\"x\":[0,99999],\"xaxis\":\"x10\",\"y\":[0.2747940274806465,-0.2747940277409914],\"yaxis\":\"y10\",\"type\":\"scatter\"},{\"legendgroup\":\"1\",\"line\":{\"color\":\"#808080\"},\"mode\":\"lines\",\"opacity\":0.1,\"showlegend\":false,\"x\":[0,99999],\"xaxis\":\"x10\",\"y\":[-0.2747940274806466,0.27479402774099143],\"yaxis\":\"y10\",\"type\":\"scatter\"},{\"legendgroup\":\"0\",\"line\":{\"color\":\"#808080\"},\"mode\":\"lines\",\"opacity\":0.1,\"showlegend\":false,\"x\":[0,99999],\"xaxis\":\"x10\",\"y\":[0.27863951989088936,-0.27863952015487753],\"yaxis\":\"y10\",\"type\":\"scatter\"},{\"legendgroup\":\"1\",\"line\":{\"color\":\"#808080\"},\"mode\":\"lines\",\"opacity\":0.1,\"showlegend\":false,\"x\":[0,99999],\"xaxis\":\"x10\",\"y\":[-0.27863951989088936,0.27863952015487753],\"yaxis\":\"y10\",\"type\":\"scatter\"},{\"legendgroup\":\"0\",\"line\":{\"color\":\"#808080\"},\"mode\":\"lines\",\"opacity\":0.1,\"showlegend\":false,\"x\":[0,99999],\"xaxis\":\"x10\",\"y\":[0.27860003236241637,-0.2786000326263671],\"yaxis\":\"y10\",\"type\":\"scatter\"},{\"legendgroup\":\"1\",\"line\":{\"color\":\"#808080\"},\"mode\":\"lines\",\"opacity\":0.1,\"showlegend\":false,\"x\":[0,99999],\"xaxis\":\"x10\",\"y\":[-0.27860003236241637,0.2786000326263671],\"yaxis\":\"y10\",\"type\":\"scatter\"},{\"legendgroup\":\"0\",\"line\":{\"color\":\"#808080\"},\"mode\":\"lines\",\"opacity\":0.1,\"showlegend\":false,\"x\":[0,99999],\"xaxis\":\"x10\",\"y\":[0.27967707532607144,-0.2796770755910426],\"yaxis\":\"y10\",\"type\":\"scatter\"},{\"legendgroup\":\"1\",\"line\":{\"color\":\"#808080\"},\"mode\":\"lines\",\"opacity\":0.1,\"showlegend\":false,\"x\":[0,99999],\"xaxis\":\"x10\",\"y\":[-0.2796770753260715,0.27967707559104266],\"yaxis\":\"y10\",\"type\":\"scatter\"},{\"legendgroup\":\"0\",\"legendgrouptitle\":{\"text\":\"0\"},\"name\":\"Capital Lo*\",\"x\":[0,3900],\"xaxis\":\"x11\",\"y\":[0.10347249580188336,-0.10347249581168513],\"yaxis\":\"y11\",\"type\":\"scatter\"},{\"legendgroup\":\"1\",\"legendgrouptitle\":{\"text\":\"1\"},\"name\":\"Capital Lo*\",\"x\":[0,3900],\"xaxis\":\"x11\",\"y\":[-0.10347249580188338,0.10347249581168518],\"yaxis\":\"y11\",\"type\":\"scatter\"},{\"legendgroup\":\"0\",\"line\":{\"color\":\"#808080\"},\"mode\":\"lines\",\"opacity\":0.1,\"showlegend\":false,\"x\":[0,3900],\"xaxis\":\"x11\",\"y\":[0.10518689080205865,-0.1051868909017146],\"yaxis\":\"y11\",\"type\":\"scatter\"},{\"legendgroup\":\"1\",\"line\":{\"color\":\"#808080\"},\"mode\":\"lines\",\"opacity\":0.1,\"showlegend\":false,\"x\":[0,3900],\"xaxis\":\"x11\",\"y\":[-0.10518689080205866,0.10518689090171464],\"yaxis\":\"y11\",\"type\":\"scatter\"},{\"legendgroup\":\"0\",\"line\":{\"color\":\"#808080\"},\"mode\":\"lines\",\"opacity\":0.1,\"showlegend\":false,\"x\":[0,3900],\"xaxis\":\"x11\",\"y\":[0.10572199819510367,-0.1057219982952666],\"yaxis\":\"y11\",\"type\":\"scatter\"},{\"legendgroup\":\"1\",\"line\":{\"color\":\"#808080\"},\"mode\":\"lines\",\"opacity\":0.1,\"showlegend\":false,\"x\":[0,3900],\"xaxis\":\"x11\",\"y\":[-0.10572199819510368,0.10572199829526661],\"yaxis\":\"y11\",\"type\":\"scatter\"},{\"legendgroup\":\"0\",\"line\":{\"color\":\"#808080\"},\"mode\":\"lines\",\"opacity\":0.1,\"showlegend\":false,\"x\":[0,3900],\"xaxis\":\"x11\",\"y\":[0.10157231978040351,-0.10157231987663495],\"yaxis\":\"y11\",\"type\":\"scatter\"},{\"legendgroup\":\"1\",\"line\":{\"color\":\"#808080\"},\"mode\":\"lines\",\"opacity\":0.1,\"showlegend\":false,\"x\":[0,3900],\"xaxis\":\"x11\",\"y\":[-0.10157231978040354,0.10157231987663498],\"yaxis\":\"y11\",\"type\":\"scatter\"},{\"legendgroup\":\"0\",\"line\":{\"color\":\"#808080\"},\"mode\":\"lines\",\"opacity\":0.1,\"showlegend\":false,\"x\":[0,3900],\"xaxis\":\"x11\",\"y\":[0.10599653640812821,-0.10599653650855127],\"yaxis\":\"y11\",\"type\":\"scatter\"},{\"legendgroup\":\"1\",\"line\":{\"color\":\"#808080\"},\"mode\":\"lines\",\"opacity\":0.1,\"showlegend\":false,\"x\":[0,3900],\"xaxis\":\"x11\",\"y\":[-0.10599653640812824,0.1059965365085513],\"yaxis\":\"y11\",\"type\":\"scatter\"},{\"legendgroup\":\"0\",\"line\":{\"color\":\"#808080\"},\"mode\":\"lines\",\"opacity\":0.1,\"showlegend\":false,\"x\":[0,3900],\"xaxis\":\"x11\",\"y\":[0.1030243541041929,-0.10302435420180005],\"yaxis\":\"y11\",\"type\":\"scatter\"},{\"legendgroup\":\"1\",\"line\":{\"color\":\"#808080\"},\"mode\":\"lines\",\"opacity\":0.1,\"showlegend\":false,\"x\":[0,3900],\"xaxis\":\"x11\",\"y\":[-0.10302435410419293,0.10302435420180008],\"yaxis\":\"y11\",\"type\":\"scatter\"},{\"legendgroup\":\"0\",\"line\":{\"color\":\"#808080\"},\"mode\":\"lines\",\"opacity\":0.1,\"showlegend\":false,\"x\":[0,3900],\"xaxis\":\"x11\",\"y\":[0.10302247157231635,-0.10302247166992172],\"yaxis\":\"y11\",\"type\":\"scatter\"},{\"legendgroup\":\"1\",\"line\":{\"color\":\"#808080\"},\"mode\":\"lines\",\"opacity\":0.1,\"showlegend\":false,\"x\":[0,3900],\"xaxis\":\"x11\",\"y\":[-0.10302247157231638,0.10302247166992175],\"yaxis\":\"y11\",\"type\":\"scatter\"},{\"legendgroup\":\"0\",\"line\":{\"color\":\"#808080\"},\"mode\":\"lines\",\"opacity\":0.1,\"showlegend\":false,\"x\":[0,3900],\"xaxis\":\"x11\",\"y\":[0.10426751939827975,-0.1042675194970647],\"yaxis\":\"y11\",\"type\":\"scatter\"},{\"legendgroup\":\"1\",\"line\":{\"color\":\"#808080\"},\"mode\":\"lines\",\"opacity\":0.1,\"showlegend\":false,\"x\":[0,3900],\"xaxis\":\"x11\",\"y\":[-0.10426751939827977,0.10426751949706473],\"yaxis\":\"y11\",\"type\":\"scatter\"},{\"legendgroup\":\"0\",\"line\":{\"color\":\"#808080\"},\"mode\":\"lines\",\"opacity\":0.1,\"showlegend\":false,\"x\":[0,3900],\"xaxis\":\"x11\",\"y\":[0.10186843016970663,-0.10186843026621863],\"yaxis\":\"y11\",\"type\":\"scatter\"},{\"legendgroup\":\"1\",\"line\":{\"color\":\"#808080\"},\"mode\":\"lines\",\"opacity\":0.1,\"showlegend\":false,\"x\":[0,3900],\"xaxis\":\"x11\",\"y\":[-0.10186843016970665,0.10186843026621864],\"yaxis\":\"y11\",\"type\":\"scatter\"},{\"legendgroup\":\"0\",\"line\":{\"color\":\"#808080\"},\"mode\":\"lines\",\"opacity\":0.1,\"showlegend\":false,\"x\":[0,3900],\"xaxis\":\"x11\",\"y\":[0.10116320247720922,-0.10116320257305308],\"yaxis\":\"y11\",\"type\":\"scatter\"},{\"legendgroup\":\"1\",\"line\":{\"color\":\"#808080\"},\"mode\":\"lines\",\"opacity\":0.1,\"showlegend\":false,\"x\":[0,3900],\"xaxis\":\"x11\",\"y\":[-0.10116320247720925,0.10116320257305311],\"yaxis\":\"y11\",\"type\":\"scatter\"},{\"legendgroup\":\"0\",\"line\":{\"color\":\"#808080\"},\"mode\":\"lines\",\"opacity\":0.1,\"showlegend\":false,\"x\":[0,3900],\"xaxis\":\"x11\",\"y\":[0.10507006951211682,-0.10507006961166211],\"yaxis\":\"y11\",\"type\":\"scatter\"},{\"legendgroup\":\"1\",\"line\":{\"color\":\"#808080\"},\"mode\":\"lines\",\"opacity\":0.1,\"showlegend\":false,\"x\":[0,3900],\"xaxis\":\"x11\",\"y\":[-0.10507006951211684,0.10507006961166213],\"yaxis\":\"y11\",\"type\":\"scatter\"}],                        {\"annotations\":[{\"font\":{\"size\":16},\"showarrow\":false,\"text\":\"Age\",\"x\":0.225,\"xanchor\":\"center\",\"xref\":\"paper\",\"y\":0.9999999999999999,\"yanchor\":\"bottom\",\"yref\":\"paper\"},{\"font\":{\"size\":16},\"showarrow\":false,\"text\":\"Workclass\",\"x\":0.775,\"xanchor\":\"center\",\"xref\":\"paper\",\"y\":0.9999999999999999,\"yanchor\":\"bottom\",\"yref\":\"paper\"},{\"font\":{\"size\":16},\"showarrow\":false,\"text\":\"Education\",\"x\":0.225,\"xanchor\":\"center\",\"xref\":\"paper\",\"y\":0.8194444444444444,\"yanchor\":\"bottom\",\"yref\":\"paper\"},{\"font\":{\"size\":16},\"showarrow\":false,\"text\":\"Occupation\",\"x\":0.775,\"xanchor\":\"center\",\"xref\":\"paper\",\"y\":0.8194444444444444,\"yanchor\":\"bottom\",\"yref\":\"paper\"},{\"font\":{\"size\":16},\"showarrow\":false,\"text\":\"Relationship\",\"x\":0.225,\"xanchor\":\"center\",\"xref\":\"paper\",\"y\":0.638888888888889,\"yanchor\":\"bottom\",\"yref\":\"paper\"},{\"font\":{\"size\":16},\"showarrow\":false,\"text\":\"Race\",\"x\":0.775,\"xanchor\":\"center\",\"xref\":\"paper\",\"y\":0.638888888888889,\"yanchor\":\"bottom\",\"yref\":\"paper\"},{\"font\":{\"size\":16},\"showarrow\":false,\"text\":\"Sex\",\"x\":0.225,\"xanchor\":\"center\",\"xref\":\"paper\",\"y\":0.4583333333333333,\"yanchor\":\"bottom\",\"yref\":\"paper\"},{\"font\":{\"size\":16},\"showarrow\":false,\"text\":\"Hours per week\",\"x\":0.775,\"xanchor\":\"center\",\"xref\":\"paper\",\"y\":0.4583333333333333,\"yanchor\":\"bottom\",\"yref\":\"paper\"},{\"font\":{\"size\":16},\"showarrow\":false,\"text\":\"Country\",\"x\":0.225,\"xanchor\":\"center\",\"xref\":\"paper\",\"y\":0.2777777777777778,\"yanchor\":\"bottom\",\"yref\":\"paper\"},{\"font\":{\"size\":16},\"showarrow\":false,\"text\":\"Capital Gain\",\"x\":0.775,\"xanchor\":\"center\",\"xref\":\"paper\",\"y\":0.2777777777777778,\"yanchor\":\"bottom\",\"yref\":\"paper\"},{\"font\":{\"size\":16},\"showarrow\":false,\"text\":\"Capital Loss\",\"x\":0.225,\"xanchor\":\"center\",\"xref\":\"paper\",\"y\":0.09722222222222222,\"yanchor\":\"bottom\",\"yref\":\"paper\"}],\"height\":1560,\"template\":{\"data\":{\"barpolar\":[{\"marker\":{\"line\":{\"color\":\"#E5ECF6\",\"width\":0.5},\"pattern\":{\"fillmode\":\"overlay\",\"size\":10,\"solidity\":0.2}},\"type\":\"barpolar\"}],\"bar\":[{\"error_x\":{\"color\":\"#2a3f5f\"},\"error_y\":{\"color\":\"#2a3f5f\"},\"marker\":{\"line\":{\"color\":\"#E5ECF6\",\"width\":0.5},\"pattern\":{\"fillmode\":\"overlay\",\"size\":10,\"solidity\":0.2}},\"type\":\"bar\"}],\"carpet\":[{\"aaxis\":{\"endlinecolor\":\"#2a3f5f\",\"gridcolor\":\"white\",\"linecolor\":\"white\",\"minorgridcolor\":\"white\",\"startlinecolor\":\"#2a3f5f\"},\"baxis\":{\"endlinecolor\":\"#2a3f5f\",\"gridcolor\":\"white\",\"linecolor\":\"white\",\"minorgridcolor\":\"white\",\"startlinecolor\":\"#2a3f5f\"},\"type\":\"carpet\"}],\"choropleth\":[{\"colorbar\":{\"outlinewidth\":0,\"ticks\":\"\"},\"type\":\"choropleth\"}],\"contourcarpet\":[{\"colorbar\":{\"outlinewidth\":0,\"ticks\":\"\"},\"type\":\"contourcarpet\"}],\"contour\":[{\"colorbar\":{\"outlinewidth\":0,\"ticks\":\"\"},\"colorscale\":[[0.0,\"#0d0887\"],[0.1111111111111111,\"#46039f\"],[0.2222222222222222,\"#7201a8\"],[0.3333333333333333,\"#9c179e\"],[0.4444444444444444,\"#bd3786\"],[0.5555555555555556,\"#d8576b\"],[0.6666666666666666,\"#ed7953\"],[0.7777777777777778,\"#fb9f3a\"],[0.8888888888888888,\"#fdca26\"],[1.0,\"#f0f921\"]],\"type\":\"contour\"}],\"heatmapgl\":[{\"colorbar\":{\"outlinewidth\":0,\"ticks\":\"\"},\"colorscale\":[[0.0,\"#0d0887\"],[0.1111111111111111,\"#46039f\"],[0.2222222222222222,\"#7201a8\"],[0.3333333333333333,\"#9c179e\"],[0.4444444444444444,\"#bd3786\"],[0.5555555555555556,\"#d8576b\"],[0.6666666666666666,\"#ed7953\"],[0.7777777777777778,\"#fb9f3a\"],[0.8888888888888888,\"#fdca26\"],[1.0,\"#f0f921\"]],\"type\":\"heatmapgl\"}],\"heatmap\":[{\"colorbar\":{\"outlinewidth\":0,\"ticks\":\"\"},\"colorscale\":[[0.0,\"#0d0887\"],[0.1111111111111111,\"#46039f\"],[0.2222222222222222,\"#7201a8\"],[0.3333333333333333,\"#9c179e\"],[0.4444444444444444,\"#bd3786\"],[0.5555555555555556,\"#d8576b\"],[0.6666666666666666,\"#ed7953\"],[0.7777777777777778,\"#fb9f3a\"],[0.8888888888888888,\"#fdca26\"],[1.0,\"#f0f921\"]],\"type\":\"heatmap\"}],\"histogram2dcontour\":[{\"colorbar\":{\"outlinewidth\":0,\"ticks\":\"\"},\"colorscale\":[[0.0,\"#0d0887\"],[0.1111111111111111,\"#46039f\"],[0.2222222222222222,\"#7201a8\"],[0.3333333333333333,\"#9c179e\"],[0.4444444444444444,\"#bd3786\"],[0.5555555555555556,\"#d8576b\"],[0.6666666666666666,\"#ed7953\"],[0.7777777777777778,\"#fb9f3a\"],[0.8888888888888888,\"#fdca26\"],[1.0,\"#f0f921\"]],\"type\":\"histogram2dcontour\"}],\"histogram2d\":[{\"colorbar\":{\"outlinewidth\":0,\"ticks\":\"\"},\"colorscale\":[[0.0,\"#0d0887\"],[0.1111111111111111,\"#46039f\"],[0.2222222222222222,\"#7201a8\"],[0.3333333333333333,\"#9c179e\"],[0.4444444444444444,\"#bd3786\"],[0.5555555555555556,\"#d8576b\"],[0.6666666666666666,\"#ed7953\"],[0.7777777777777778,\"#fb9f3a\"],[0.8888888888888888,\"#fdca26\"],[1.0,\"#f0f921\"]],\"type\":\"histogram2d\"}],\"histogram\":[{\"marker\":{\"pattern\":{\"fillmode\":\"overlay\",\"size\":10,\"solidity\":0.2}},\"type\":\"histogram\"}],\"mesh3d\":[{\"colorbar\":{\"outlinewidth\":0,\"ticks\":\"\"},\"type\":\"mesh3d\"}],\"parcoords\":[{\"line\":{\"colorbar\":{\"outlinewidth\":0,\"ticks\":\"\"}},\"type\":\"parcoords\"}],\"pie\":[{\"automargin\":true,\"type\":\"pie\"}],\"scatter3d\":[{\"line\":{\"colorbar\":{\"outlinewidth\":0,\"ticks\":\"\"}},\"marker\":{\"colorbar\":{\"outlinewidth\":0,\"ticks\":\"\"}},\"type\":\"scatter3d\"}],\"scattercarpet\":[{\"marker\":{\"colorbar\":{\"outlinewidth\":0,\"ticks\":\"\"}},\"type\":\"scattercarpet\"}],\"scattergeo\":[{\"marker\":{\"colorbar\":{\"outlinewidth\":0,\"ticks\":\"\"}},\"type\":\"scattergeo\"}],\"scattergl\":[{\"marker\":{\"colorbar\":{\"outlinewidth\":0,\"ticks\":\"\"}},\"type\":\"scattergl\"}],\"scattermapbox\":[{\"marker\":{\"colorbar\":{\"outlinewidth\":0,\"ticks\":\"\"}},\"type\":\"scattermapbox\"}],\"scatterpolargl\":[{\"marker\":{\"colorbar\":{\"outlinewidth\":0,\"ticks\":\"\"}},\"type\":\"scatterpolargl\"}],\"scatterpolar\":[{\"marker\":{\"colorbar\":{\"outlinewidth\":0,\"ticks\":\"\"}},\"type\":\"scatterpolar\"}],\"scatter\":[{\"fillpattern\":{\"fillmode\":\"overlay\",\"size\":10,\"solidity\":0.2},\"type\":\"scatter\"}],\"scatterternary\":[{\"marker\":{\"colorbar\":{\"outlinewidth\":0,\"ticks\":\"\"}},\"type\":\"scatterternary\"}],\"surface\":[{\"colorbar\":{\"outlinewidth\":0,\"ticks\":\"\"},\"colorscale\":[[0.0,\"#0d0887\"],[0.1111111111111111,\"#46039f\"],[0.2222222222222222,\"#7201a8\"],[0.3333333333333333,\"#9c179e\"],[0.4444444444444444,\"#bd3786\"],[0.5555555555555556,\"#d8576b\"],[0.6666666666666666,\"#ed7953\"],[0.7777777777777778,\"#fb9f3a\"],[0.8888888888888888,\"#fdca26\"],[1.0,\"#f0f921\"]],\"type\":\"surface\"}],\"table\":[{\"cells\":{\"fill\":{\"color\":\"#EBF0F8\"},\"line\":{\"color\":\"white\"}},\"header\":{\"fill\":{\"color\":\"#C8D4E3\"},\"line\":{\"color\":\"white\"}},\"type\":\"table\"}]},\"layout\":{\"annotationdefaults\":{\"arrowcolor\":\"#2a3f5f\",\"arrowhead\":0,\"arrowwidth\":1},\"autotypenumbers\":\"strict\",\"coloraxis\":{\"colorbar\":{\"outlinewidth\":0,\"ticks\":\"\"}},\"colorscale\":{\"diverging\":[[0,\"#8e0152\"],[0.1,\"#c51b7d\"],[0.2,\"#de77ae\"],[0.3,\"#f1b6da\"],[0.4,\"#fde0ef\"],[0.5,\"#f7f7f7\"],[0.6,\"#e6f5d0\"],[0.7,\"#b8e186\"],[0.8,\"#7fbc41\"],[0.9,\"#4d9221\"],[1,\"#276419\"]],\"sequential\":[[0.0,\"#0d0887\"],[0.1111111111111111,\"#46039f\"],[0.2222222222222222,\"#7201a8\"],[0.3333333333333333,\"#9c179e\"],[0.4444444444444444,\"#bd3786\"],[0.5555555555555556,\"#d8576b\"],[0.6666666666666666,\"#ed7953\"],[0.7777777777777778,\"#fb9f3a\"],[0.8888888888888888,\"#fdca26\"],[1.0,\"#f0f921\"]],\"sequentialminus\":[[0.0,\"#0d0887\"],[0.1111111111111111,\"#46039f\"],[0.2222222222222222,\"#7201a8\"],[0.3333333333333333,\"#9c179e\"],[0.4444444444444444,\"#bd3786\"],[0.5555555555555556,\"#d8576b\"],[0.6666666666666666,\"#ed7953\"],[0.7777777777777778,\"#fb9f3a\"],[0.8888888888888888,\"#fdca26\"],[1.0,\"#f0f921\"]]},\"colorway\":[\"#636efa\",\"#EF553B\",\"#00cc96\",\"#ab63fa\",\"#FFA15A\",\"#19d3f3\",\"#FF6692\",\"#B6E880\",\"#FF97FF\",\"#FECB52\"],\"font\":{\"color\":\"#2a3f5f\"},\"geo\":{\"bgcolor\":\"white\",\"lakecolor\":\"white\",\"landcolor\":\"#E5ECF6\",\"showlakes\":true,\"showland\":true,\"subunitcolor\":\"white\"},\"hoverlabel\":{\"align\":\"left\"},\"hovermode\":\"closest\",\"mapbox\":{\"style\":\"light\"},\"paper_bgcolor\":\"white\",\"plot_bgcolor\":\"#E5ECF6\",\"polar\":{\"angularaxis\":{\"gridcolor\":\"white\",\"linecolor\":\"white\",\"ticks\":\"\"},\"bgcolor\":\"#E5ECF6\",\"radialaxis\":{\"gridcolor\":\"white\",\"linecolor\":\"white\",\"ticks\":\"\"}},\"scene\":{\"xaxis\":{\"backgroundcolor\":\"#E5ECF6\",\"gridcolor\":\"white\",\"gridwidth\":2,\"linecolor\":\"white\",\"showbackground\":true,\"ticks\":\"\",\"zerolinecolor\":\"white\"},\"yaxis\":{\"backgroundcolor\":\"#E5ECF6\",\"gridcolor\":\"white\",\"gridwidth\":2,\"linecolor\":\"white\",\"showbackground\":true,\"ticks\":\"\",\"zerolinecolor\":\"white\"},\"zaxis\":{\"backgroundcolor\":\"#E5ECF6\",\"gridcolor\":\"white\",\"gridwidth\":2,\"linecolor\":\"white\",\"showbackground\":true,\"ticks\":\"\",\"zerolinecolor\":\"white\"}},\"shapedefaults\":{\"line\":{\"color\":\"#2a3f5f\"}},\"ternary\":{\"aaxis\":{\"gridcolor\":\"white\",\"linecolor\":\"white\",\"ticks\":\"\"},\"baxis\":{\"gridcolor\":\"white\",\"linecolor\":\"white\",\"ticks\":\"\"},\"bgcolor\":\"#E5ECF6\",\"caxis\":{\"gridcolor\":\"white\",\"linecolor\":\"white\",\"ticks\":\"\"}},\"title\":{\"x\":0.05},\"xaxis\":{\"automargin\":true,\"gridcolor\":\"white\",\"linecolor\":\"white\",\"ticks\":\"\",\"title\":{\"standoff\":15},\"zerolinecolor\":\"white\",\"zerolinewidth\":2},\"yaxis\":{\"automargin\":true,\"gridcolor\":\"white\",\"linecolor\":\"white\",\"ticks\":\"\",\"title\":{\"standoff\":15},\"zerolinecolor\":\"white\",\"zerolinewidth\":2}}},\"xaxis\":{\"anchor\":\"y\",\"domain\":[0.0,0.45]},\"yaxis\":{\"anchor\":\"x\",\"domain\":[0.9027777777777777,0.9999999999999999]},\"xaxis2\":{\"anchor\":\"y2\",\"domain\":[0.55,1.0]},\"yaxis2\":{\"anchor\":\"x2\",\"domain\":[0.9027777777777777,0.9999999999999999]},\"xaxis3\":{\"anchor\":\"y3\",\"domain\":[0.0,0.45]},\"yaxis3\":{\"anchor\":\"x3\",\"domain\":[0.7222222222222222,0.8194444444444444]},\"xaxis4\":{\"anchor\":\"y4\",\"domain\":[0.55,1.0]},\"yaxis4\":{\"anchor\":\"x4\",\"domain\":[0.7222222222222222,0.8194444444444444]},\"xaxis5\":{\"anchor\":\"y5\",\"domain\":[0.0,0.45]},\"yaxis5\":{\"anchor\":\"x5\",\"domain\":[0.5416666666666667,0.638888888888889]},\"xaxis6\":{\"anchor\":\"y6\",\"domain\":[0.55,1.0]},\"yaxis6\":{\"anchor\":\"x6\",\"domain\":[0.5416666666666667,0.638888888888889]},\"xaxis7\":{\"anchor\":\"y7\",\"domain\":[0.0,0.45]},\"yaxis7\":{\"anchor\":\"x7\",\"domain\":[0.3611111111111111,0.4583333333333333]},\"xaxis8\":{\"anchor\":\"y8\",\"domain\":[0.55,1.0]},\"yaxis8\":{\"anchor\":\"x8\",\"domain\":[0.3611111111111111,0.4583333333333333]},\"xaxis9\":{\"anchor\":\"y9\",\"domain\":[0.0,0.45]},\"yaxis9\":{\"anchor\":\"x9\",\"domain\":[0.18055555555555555,0.2777777777777778]},\"xaxis10\":{\"anchor\":\"y10\",\"domain\":[0.55,1.0]},\"yaxis10\":{\"anchor\":\"x10\",\"domain\":[0.18055555555555555,0.2777777777777778]},\"xaxis11\":{\"anchor\":\"y11\",\"domain\":[0.0,0.45]},\"yaxis11\":{\"anchor\":\"x11\",\"domain\":[0.0,0.09722222222222222]},\"xaxis12\":{\"anchor\":\"y12\",\"domain\":[0.55,1.0]},\"yaxis12\":{\"anchor\":\"x12\",\"domain\":[0.0,0.09722222222222222]}},                        {\"responsive\": true}                    ).then(function(){\n",
       "                            \n",
       "var gd = document.getElementById('ed33bac1-386c-4d96-b79c-e9b75f256283');\n",
       "var x = new MutationObserver(function (mutations, observer) {{\n",
       "        var display = window.getComputedStyle(gd).display;\n",
       "        if (!display || display === 'none') {{\n",
       "            console.log([gd, 'removed!']);\n",
       "            Plotly.purge(gd);\n",
       "            observer.disconnect();\n",
       "        }}\n",
       "}});\n",
       "\n",
       "// Listen for the removal of the full notebook cells\n",
       "var notebookContainer = gd.closest('#notebook-container');\n",
       "if (notebookContainer) {{\n",
       "    x.observe(notebookContainer, {childList: true});\n",
       "}}\n",
       "\n",
       "// Listen for the clearing of the current output cell\n",
       "var outputEl = gd.closest('.output');\n",
       "if (outputEl) {{\n",
       "    x.observe(outputEl, {childList: true});\n",
       "}}\n",
       "\n",
       "                        })                };                });            </script>        </div>"
      ]
     },
     "metadata": {},
     "output_type": "display_data"
    }
   ],
   "source": [
    "print(\"ALE results:\")\n",
    "global_explanations[\"ale\"].ipython_plot(class_names=class_names)"
   ]
  },
  {
   "cell_type": "markdown",
   "id": "2f342ae9-cac0-4386-b88e-a4dccf47802d",
   "metadata": {},
   "source": [
    "The ALE Explainer isolates one feature at a time and estimates the contribution of the feature value to the outcome\n",
    "\n",
    "We have one plot for each attribute, where the x-axis shows the different possible values of each attribute and y-axis shows the contribution of the value to the outcome (overall training of the model)\n",
    "\n",
    "The results are symmetric with one for positive (showing the features that contribute to an outcome of 1) and one for negative (shows features than contribute to an outcome of 0).\n",
    "\n",
    "From the plots,\n",
    "Age: aged individuals have more chance to earn a higher income\n",
    "\n",
    "Workclass: Federal-gov and self-emp-inc have higher chances to earn a higher income than other work classes\n",
    "\n",
    "Education: Individuals with higher educational value (Doctorate, Professional School, Masters) have more chances to earn higher incomes\n",
    "\n",
    "and it goes on like that.\n"
   ]
  },
  {
   "cell_type": "markdown",
   "id": "d39acdde-e885-4fd0-854f-ea79094ad657",
   "metadata": {},
   "source": [
    "### Local Explainability"
   ]
  },
  {
   "cell_type": "markdown",
   "id": "d46601a1-f3bd-4d75-b6e1-c3c6c3449b17",
   "metadata": {},
   "source": [
    "#### Get instances where the model is wrong but highly confident"
   ]
  },
  {
   "cell_type": "code",
   "execution_count": 549,
   "id": "5ebfc484-6c3c-4edb-a489-e7a73d8bbfac",
   "metadata": {},
   "outputs": [
    {
     "name": "stdout",
     "output_type": "stream",
     "text": [
      "There are 48 instances where the model was wrong but had a confidence greater than 0.98\n",
      "Instances with High-Confidence Errors (> 0.98):\n"
     ]
    },
    {
     "data": {
      "text/html": [
       "<div>\n",
       "<style scoped>\n",
       "    .dataframe tbody tr th:only-of-type {\n",
       "        vertical-align: middle;\n",
       "    }\n",
       "\n",
       "    .dataframe tbody tr th {\n",
       "        vertical-align: top;\n",
       "    }\n",
       "\n",
       "    .dataframe thead th {\n",
       "        text-align: right;\n",
       "    }\n",
       "</style>\n",
       "<table border=\"1\" class=\"dataframe\">\n",
       "  <thead>\n",
       "    <tr style=\"text-align: right;\">\n",
       "      <th></th>\n",
       "      <th>Age</th>\n",
       "      <th>Workclass</th>\n",
       "      <th>Education</th>\n",
       "      <th>Occupation</th>\n",
       "      <th>Relationship</th>\n",
       "      <th>Race</th>\n",
       "      <th>Sex</th>\n",
       "      <th>Capital Gain</th>\n",
       "      <th>Capital Loss</th>\n",
       "      <th>Hours per week</th>\n",
       "      <th>Country</th>\n",
       "      <th>label</th>\n",
       "      <th>prediction</th>\n",
       "      <th>confidence</th>\n",
       "    </tr>\n",
       "  </thead>\n",
       "  <tbody>\n",
       "    <tr>\n",
       "      <th>96</th>\n",
       "      <td>Aged</td>\n",
       "      <td>Private</td>\n",
       "      <td>HS-grad</td>\n",
       "      <td>Exec-managerial</td>\n",
       "      <td>Not-in-family</td>\n",
       "      <td>White</td>\n",
       "      <td>Male</td>\n",
       "      <td>0.0</td>\n",
       "      <td>0.0</td>\n",
       "      <td>OverTime</td>\n",
       "      <td>United-States</td>\n",
       "      <td>1</td>\n",
       "      <td>0.0</td>\n",
       "      <td>1.000000</td>\n",
       "    </tr>\n",
       "    <tr>\n",
       "      <th>363</th>\n",
       "      <td>Aged</td>\n",
       "      <td>Private</td>\n",
       "      <td>Some-college</td>\n",
       "      <td>Exec-managerial</td>\n",
       "      <td>Not-in-family</td>\n",
       "      <td>White</td>\n",
       "      <td>Male</td>\n",
       "      <td>0.0</td>\n",
       "      <td>0.0</td>\n",
       "      <td>OverTime</td>\n",
       "      <td>United-States</td>\n",
       "      <td>1</td>\n",
       "      <td>0.0</td>\n",
       "      <td>1.000000</td>\n",
       "    </tr>\n",
       "    <tr>\n",
       "      <th>438</th>\n",
       "      <td>Aged</td>\n",
       "      <td>Private</td>\n",
       "      <td>Bachelors</td>\n",
       "      <td>Sales</td>\n",
       "      <td>Married</td>\n",
       "      <td>White</td>\n",
       "      <td>Female</td>\n",
       "      <td>0.0</td>\n",
       "      <td>0.0</td>\n",
       "      <td>BrainDrain</td>\n",
       "      <td>United-States</td>\n",
       "      <td>0</td>\n",
       "      <td>1.0</td>\n",
       "      <td>0.990000</td>\n",
       "    </tr>\n",
       "    <tr>\n",
       "      <th>663</th>\n",
       "      <td>Aged</td>\n",
       "      <td>Private</td>\n",
       "      <td>Bachelors</td>\n",
       "      <td>Sales</td>\n",
       "      <td>Married</td>\n",
       "      <td>White</td>\n",
       "      <td>Female</td>\n",
       "      <td>0.0</td>\n",
       "      <td>0.0</td>\n",
       "      <td>FullTime</td>\n",
       "      <td>United-States</td>\n",
       "      <td>0</td>\n",
       "      <td>1.0</td>\n",
       "      <td>1.000000</td>\n",
       "    </tr>\n",
       "    <tr>\n",
       "      <th>664</th>\n",
       "      <td>Aged</td>\n",
       "      <td>Private</td>\n",
       "      <td>Doctorate</td>\n",
       "      <td>Prof-specialty</td>\n",
       "      <td>Married</td>\n",
       "      <td>White</td>\n",
       "      <td>Male</td>\n",
       "      <td>0.0</td>\n",
       "      <td>0.0</td>\n",
       "      <td>BrainDrain</td>\n",
       "      <td>United-States</td>\n",
       "      <td>0</td>\n",
       "      <td>1.0</td>\n",
       "      <td>0.996000</td>\n",
       "    </tr>\n",
       "    <tr>\n",
       "      <th>696</th>\n",
       "      <td>Aged</td>\n",
       "      <td>Private</td>\n",
       "      <td>11th</td>\n",
       "      <td>Other-service</td>\n",
       "      <td>Married</td>\n",
       "      <td>Black</td>\n",
       "      <td>Male</td>\n",
       "      <td>0.0</td>\n",
       "      <td>0.0</td>\n",
       "      <td>MidTime</td>\n",
       "      <td>United-States</td>\n",
       "      <td>1</td>\n",
       "      <td>0.0</td>\n",
       "      <td>0.988333</td>\n",
       "    </tr>\n",
       "    <tr>\n",
       "      <th>725</th>\n",
       "      <td>Aged</td>\n",
       "      <td>Private</td>\n",
       "      <td>9th</td>\n",
       "      <td>Machine-op-inspct</td>\n",
       "      <td>Married</td>\n",
       "      <td>White</td>\n",
       "      <td>Male</td>\n",
       "      <td>0.0</td>\n",
       "      <td>0.0</td>\n",
       "      <td>FullTime</td>\n",
       "      <td>United-States</td>\n",
       "      <td>1</td>\n",
       "      <td>0.0</td>\n",
       "      <td>0.997500</td>\n",
       "    </tr>\n",
       "    <tr>\n",
       "      <th>993</th>\n",
       "      <td>Young</td>\n",
       "      <td>Private</td>\n",
       "      <td>Assoc-voc</td>\n",
       "      <td>Craft-repair</td>\n",
       "      <td>Own-child</td>\n",
       "      <td>White</td>\n",
       "      <td>Male</td>\n",
       "      <td>0.0</td>\n",
       "      <td>0.0</td>\n",
       "      <td>FullTime</td>\n",
       "      <td>United-States</td>\n",
       "      <td>1</td>\n",
       "      <td>0.0</td>\n",
       "      <td>0.995500</td>\n",
       "    </tr>\n",
       "    <tr>\n",
       "      <th>1042</th>\n",
       "      <td>Young</td>\n",
       "      <td>Private</td>\n",
       "      <td>Some-college</td>\n",
       "      <td>Exec-managerial</td>\n",
       "      <td>Not-in-family</td>\n",
       "      <td>White</td>\n",
       "      <td>Male</td>\n",
       "      <td>0.0</td>\n",
       "      <td>0.0</td>\n",
       "      <td>OverTime</td>\n",
       "      <td>United-States</td>\n",
       "      <td>1</td>\n",
       "      <td>0.0</td>\n",
       "      <td>1.000000</td>\n",
       "    </tr>\n",
       "    <tr>\n",
       "      <th>1144</th>\n",
       "      <td>Young</td>\n",
       "      <td>Private</td>\n",
       "      <td>Masters</td>\n",
       "      <td>Prof-specialty</td>\n",
       "      <td>Married</td>\n",
       "      <td>White</td>\n",
       "      <td>Female</td>\n",
       "      <td>0.0</td>\n",
       "      <td>0.0</td>\n",
       "      <td>OverTime</td>\n",
       "      <td>United-States</td>\n",
       "      <td>0</td>\n",
       "      <td>1.0</td>\n",
       "      <td>0.984167</td>\n",
       "    </tr>\n",
       "    <tr>\n",
       "      <th>1317</th>\n",
       "      <td>Aged</td>\n",
       "      <td>Private</td>\n",
       "      <td>11th</td>\n",
       "      <td>Craft-repair</td>\n",
       "      <td>Married</td>\n",
       "      <td>White</td>\n",
       "      <td>Female</td>\n",
       "      <td>0.0</td>\n",
       "      <td>0.0</td>\n",
       "      <td>OverTime</td>\n",
       "      <td>United-States</td>\n",
       "      <td>1</td>\n",
       "      <td>0.0</td>\n",
       "      <td>0.982500</td>\n",
       "    </tr>\n",
       "    <tr>\n",
       "      <th>1369</th>\n",
       "      <td>Young</td>\n",
       "      <td>Local-gov</td>\n",
       "      <td>Bachelors</td>\n",
       "      <td>Prof-specialty</td>\n",
       "      <td>Unmarried</td>\n",
       "      <td>White</td>\n",
       "      <td>Female</td>\n",
       "      <td>0.0</td>\n",
       "      <td>0.0</td>\n",
       "      <td>FullTime</td>\n",
       "      <td>United-States</td>\n",
       "      <td>1</td>\n",
       "      <td>0.0</td>\n",
       "      <td>0.996071</td>\n",
       "    </tr>\n",
       "    <tr>\n",
       "      <th>1581</th>\n",
       "      <td>Young</td>\n",
       "      <td>Private</td>\n",
       "      <td>Some-college</td>\n",
       "      <td>Craft-repair</td>\n",
       "      <td>Not-in-family</td>\n",
       "      <td>White</td>\n",
       "      <td>Male</td>\n",
       "      <td>0.0</td>\n",
       "      <td>0.0</td>\n",
       "      <td>FullTime</td>\n",
       "      <td>United-States</td>\n",
       "      <td>1</td>\n",
       "      <td>0.0</td>\n",
       "      <td>1.000000</td>\n",
       "    </tr>\n",
       "    <tr>\n",
       "      <th>1605</th>\n",
       "      <td>Aged</td>\n",
       "      <td>Private</td>\n",
       "      <td>HS-grad</td>\n",
       "      <td>Transport-moving</td>\n",
       "      <td>Married</td>\n",
       "      <td>Black</td>\n",
       "      <td>Male</td>\n",
       "      <td>0.0</td>\n",
       "      <td>0.0</td>\n",
       "      <td>FullTime</td>\n",
       "      <td>United-States</td>\n",
       "      <td>1</td>\n",
       "      <td>0.0</td>\n",
       "      <td>0.986667</td>\n",
       "    </tr>\n",
       "    <tr>\n",
       "      <th>1621</th>\n",
       "      <td>Aged</td>\n",
       "      <td>Private</td>\n",
       "      <td>HS-grad</td>\n",
       "      <td>Craft-repair</td>\n",
       "      <td>Unmarried</td>\n",
       "      <td>White</td>\n",
       "      <td>Male</td>\n",
       "      <td>0.0</td>\n",
       "      <td>0.0</td>\n",
       "      <td>FullTime</td>\n",
       "      <td>United-States</td>\n",
       "      <td>1</td>\n",
       "      <td>0.0</td>\n",
       "      <td>1.000000</td>\n",
       "    </tr>\n",
       "    <tr>\n",
       "      <th>1889</th>\n",
       "      <td>Young</td>\n",
       "      <td>Self-emp-not-inc</td>\n",
       "      <td>Some-college</td>\n",
       "      <td>Farming-fishing</td>\n",
       "      <td>Married</td>\n",
       "      <td>White</td>\n",
       "      <td>Female</td>\n",
       "      <td>0.0</td>\n",
       "      <td>0.0</td>\n",
       "      <td>OverTime</td>\n",
       "      <td>United-States</td>\n",
       "      <td>1</td>\n",
       "      <td>0.0</td>\n",
       "      <td>0.990000</td>\n",
       "    </tr>\n",
       "    <tr>\n",
       "      <th>1912</th>\n",
       "      <td>Aged</td>\n",
       "      <td>Private</td>\n",
       "      <td>HS-grad</td>\n",
       "      <td>Transport-moving</td>\n",
       "      <td>Not-in-family</td>\n",
       "      <td>White</td>\n",
       "      <td>Male</td>\n",
       "      <td>0.0</td>\n",
       "      <td>0.0</td>\n",
       "      <td>OverTime</td>\n",
       "      <td>United-States</td>\n",
       "      <td>1</td>\n",
       "      <td>0.0</td>\n",
       "      <td>1.000000</td>\n",
       "    </tr>\n",
       "    <tr>\n",
       "      <th>1970</th>\n",
       "      <td>Aged</td>\n",
       "      <td>State-gov</td>\n",
       "      <td>Doctorate</td>\n",
       "      <td>Prof-specialty</td>\n",
       "      <td>Married</td>\n",
       "      <td>White</td>\n",
       "      <td>Male</td>\n",
       "      <td>0.0</td>\n",
       "      <td>0.0</td>\n",
       "      <td>OverTime</td>\n",
       "      <td>United-States</td>\n",
       "      <td>0</td>\n",
       "      <td>1.0</td>\n",
       "      <td>0.983333</td>\n",
       "    </tr>\n",
       "    <tr>\n",
       "      <th>2004</th>\n",
       "      <td>Young</td>\n",
       "      <td>Private</td>\n",
       "      <td>Bachelors</td>\n",
       "      <td>Exec-managerial</td>\n",
       "      <td>Own-child</td>\n",
       "      <td>White</td>\n",
       "      <td>Male</td>\n",
       "      <td>0.0</td>\n",
       "      <td>0.0</td>\n",
       "      <td>OverTime</td>\n",
       "      <td>United-States</td>\n",
       "      <td>1</td>\n",
       "      <td>0.0</td>\n",
       "      <td>1.000000</td>\n",
       "    </tr>\n",
       "    <tr>\n",
       "      <th>2006</th>\n",
       "      <td>Aged</td>\n",
       "      <td>Private</td>\n",
       "      <td>Bachelors</td>\n",
       "      <td>Tech-support</td>\n",
       "      <td>Not-in-family</td>\n",
       "      <td>White</td>\n",
       "      <td>Male</td>\n",
       "      <td>0.0</td>\n",
       "      <td>0.0</td>\n",
       "      <td>FullTime</td>\n",
       "      <td>United-States</td>\n",
       "      <td>1</td>\n",
       "      <td>0.0</td>\n",
       "      <td>0.997500</td>\n",
       "    </tr>\n",
       "    <tr>\n",
       "      <th>2029</th>\n",
       "      <td>Aged</td>\n",
       "      <td>Private</td>\n",
       "      <td>10th</td>\n",
       "      <td>Exec-managerial</td>\n",
       "      <td>Married</td>\n",
       "      <td>White</td>\n",
       "      <td>Male</td>\n",
       "      <td>0.0</td>\n",
       "      <td>0.0</td>\n",
       "      <td>FullTime</td>\n",
       "      <td>United-States</td>\n",
       "      <td>1</td>\n",
       "      <td>0.0</td>\n",
       "      <td>1.000000</td>\n",
       "    </tr>\n",
       "    <tr>\n",
       "      <th>2034</th>\n",
       "      <td>Aged</td>\n",
       "      <td>State-gov</td>\n",
       "      <td>Some-college</td>\n",
       "      <td>Protective-serv</td>\n",
       "      <td>Unmarried</td>\n",
       "      <td>Amer-Indian-Eskimo</td>\n",
       "      <td>Female</td>\n",
       "      <td>0.0</td>\n",
       "      <td>0.0</td>\n",
       "      <td>FullTime</td>\n",
       "      <td>United-States</td>\n",
       "      <td>1</td>\n",
       "      <td>0.0</td>\n",
       "      <td>0.990000</td>\n",
       "    </tr>\n",
       "    <tr>\n",
       "      <th>2053</th>\n",
       "      <td>Aged</td>\n",
       "      <td>Private</td>\n",
       "      <td>HS-grad</td>\n",
       "      <td>Adm-clerical</td>\n",
       "      <td>Not-in-family</td>\n",
       "      <td>White</td>\n",
       "      <td>Female</td>\n",
       "      <td>0.0</td>\n",
       "      <td>0.0</td>\n",
       "      <td>OverTime</td>\n",
       "      <td>United-States</td>\n",
       "      <td>1</td>\n",
       "      <td>0.0</td>\n",
       "      <td>1.000000</td>\n",
       "    </tr>\n",
       "    <tr>\n",
       "      <th>2146</th>\n",
       "      <td>Aged</td>\n",
       "      <td>Private</td>\n",
       "      <td>HS-grad</td>\n",
       "      <td>Sales</td>\n",
       "      <td>Not-in-family</td>\n",
       "      <td>White</td>\n",
       "      <td>Female</td>\n",
       "      <td>0.0</td>\n",
       "      <td>0.0</td>\n",
       "      <td>MidTime</td>\n",
       "      <td>United-States</td>\n",
       "      <td>1</td>\n",
       "      <td>0.0</td>\n",
       "      <td>1.000000</td>\n",
       "    </tr>\n",
       "    <tr>\n",
       "      <th>2151</th>\n",
       "      <td>Young</td>\n",
       "      <td>Self-emp-not-inc</td>\n",
       "      <td>HS-grad</td>\n",
       "      <td>Sales</td>\n",
       "      <td>Married</td>\n",
       "      <td>White</td>\n",
       "      <td>Male</td>\n",
       "      <td>0.0</td>\n",
       "      <td>0.0</td>\n",
       "      <td>OverTime</td>\n",
       "      <td>United-States</td>\n",
       "      <td>1</td>\n",
       "      <td>0.0</td>\n",
       "      <td>1.000000</td>\n",
       "    </tr>\n",
       "    <tr>\n",
       "      <th>2337</th>\n",
       "      <td>Aged</td>\n",
       "      <td>Private</td>\n",
       "      <td>11th</td>\n",
       "      <td>Transport-moving</td>\n",
       "      <td>Married</td>\n",
       "      <td>White</td>\n",
       "      <td>Male</td>\n",
       "      <td>0.0</td>\n",
       "      <td>0.0</td>\n",
       "      <td>FullTime</td>\n",
       "      <td>United-States</td>\n",
       "      <td>1</td>\n",
       "      <td>0.0</td>\n",
       "      <td>1.000000</td>\n",
       "    </tr>\n",
       "    <tr>\n",
       "      <th>2447</th>\n",
       "      <td>Aged</td>\n",
       "      <td>Private</td>\n",
       "      <td>Some-college</td>\n",
       "      <td>Transport-moving</td>\n",
       "      <td>Married</td>\n",
       "      <td>White</td>\n",
       "      <td>Female</td>\n",
       "      <td>0.0</td>\n",
       "      <td>0.0</td>\n",
       "      <td>OverTime</td>\n",
       "      <td>United-States</td>\n",
       "      <td>1</td>\n",
       "      <td>0.0</td>\n",
       "      <td>0.990000</td>\n",
       "    </tr>\n",
       "    <tr>\n",
       "      <th>2461</th>\n",
       "      <td>Young</td>\n",
       "      <td>Private</td>\n",
       "      <td>Bachelors</td>\n",
       "      <td>Sales</td>\n",
       "      <td>Married</td>\n",
       "      <td>White</td>\n",
       "      <td>Female</td>\n",
       "      <td>0.0</td>\n",
       "      <td>0.0</td>\n",
       "      <td>FullTime</td>\n",
       "      <td>United-States</td>\n",
       "      <td>0</td>\n",
       "      <td>1.0</td>\n",
       "      <td>1.000000</td>\n",
       "    </tr>\n",
       "    <tr>\n",
       "      <th>2511</th>\n",
       "      <td>Aged</td>\n",
       "      <td>Private</td>\n",
       "      <td>Some-college</td>\n",
       "      <td>Sales</td>\n",
       "      <td>Not-in-family</td>\n",
       "      <td>White</td>\n",
       "      <td>Male</td>\n",
       "      <td>0.0</td>\n",
       "      <td>0.0</td>\n",
       "      <td>BrainDrain</td>\n",
       "      <td>United-States</td>\n",
       "      <td>1</td>\n",
       "      <td>0.0</td>\n",
       "      <td>1.000000</td>\n",
       "    </tr>\n",
       "    <tr>\n",
       "      <th>2642</th>\n",
       "      <td>Young</td>\n",
       "      <td>Private</td>\n",
       "      <td>Some-college</td>\n",
       "      <td>Adm-clerical</td>\n",
       "      <td>Not-in-family</td>\n",
       "      <td>White</td>\n",
       "      <td>Female</td>\n",
       "      <td>0.0</td>\n",
       "      <td>0.0</td>\n",
       "      <td>FullTime</td>\n",
       "      <td>United-States</td>\n",
       "      <td>1</td>\n",
       "      <td>0.0</td>\n",
       "      <td>1.000000</td>\n",
       "    </tr>\n",
       "    <tr>\n",
       "      <th>2810</th>\n",
       "      <td>Aged</td>\n",
       "      <td>Private</td>\n",
       "      <td>10th</td>\n",
       "      <td>Machine-op-inspct</td>\n",
       "      <td>Married</td>\n",
       "      <td>White</td>\n",
       "      <td>Female</td>\n",
       "      <td>0.0</td>\n",
       "      <td>0.0</td>\n",
       "      <td>FullTime</td>\n",
       "      <td>United-States</td>\n",
       "      <td>1</td>\n",
       "      <td>0.0</td>\n",
       "      <td>1.000000</td>\n",
       "    </tr>\n",
       "    <tr>\n",
       "      <th>2862</th>\n",
       "      <td>Aged</td>\n",
       "      <td>Self-emp-not-inc</td>\n",
       "      <td>HS-grad</td>\n",
       "      <td>Exec-managerial</td>\n",
       "      <td>Married</td>\n",
       "      <td>White</td>\n",
       "      <td>Male</td>\n",
       "      <td>0.0</td>\n",
       "      <td>0.0</td>\n",
       "      <td>FullTime</td>\n",
       "      <td>United-States</td>\n",
       "      <td>1</td>\n",
       "      <td>0.0</td>\n",
       "      <td>1.000000</td>\n",
       "    </tr>\n",
       "    <tr>\n",
       "      <th>2877</th>\n",
       "      <td>Young</td>\n",
       "      <td>Local-gov</td>\n",
       "      <td>Masters</td>\n",
       "      <td>Prof-specialty</td>\n",
       "      <td>Not-in-family</td>\n",
       "      <td>White</td>\n",
       "      <td>Female</td>\n",
       "      <td>0.0</td>\n",
       "      <td>0.0</td>\n",
       "      <td>FullTime</td>\n",
       "      <td>United-States</td>\n",
       "      <td>1</td>\n",
       "      <td>0.0</td>\n",
       "      <td>1.000000</td>\n",
       "    </tr>\n",
       "    <tr>\n",
       "      <th>2927</th>\n",
       "      <td>Young</td>\n",
       "      <td>Private</td>\n",
       "      <td>Masters</td>\n",
       "      <td>Prof-specialty</td>\n",
       "      <td>Own-child</td>\n",
       "      <td>White</td>\n",
       "      <td>Female</td>\n",
       "      <td>0.0</td>\n",
       "      <td>0.0</td>\n",
       "      <td>FullTime</td>\n",
       "      <td>United-States</td>\n",
       "      <td>1</td>\n",
       "      <td>0.0</td>\n",
       "      <td>0.990000</td>\n",
       "    </tr>\n",
       "    <tr>\n",
       "      <th>2969</th>\n",
       "      <td>Aged</td>\n",
       "      <td>Private</td>\n",
       "      <td>Assoc-voc</td>\n",
       "      <td>Craft-repair</td>\n",
       "      <td>Married</td>\n",
       "      <td>White</td>\n",
       "      <td>Male</td>\n",
       "      <td>0.0</td>\n",
       "      <td>0.0</td>\n",
       "      <td>OverTime</td>\n",
       "      <td>United-States</td>\n",
       "      <td>0</td>\n",
       "      <td>1.0</td>\n",
       "      <td>0.990000</td>\n",
       "    </tr>\n",
       "    <tr>\n",
       "      <th>3008</th>\n",
       "      <td>Aged</td>\n",
       "      <td>Private</td>\n",
       "      <td>Some-college</td>\n",
       "      <td>Sales</td>\n",
       "      <td>Not-in-family</td>\n",
       "      <td>White</td>\n",
       "      <td>Male</td>\n",
       "      <td>0.0</td>\n",
       "      <td>0.0</td>\n",
       "      <td>BrainDrain</td>\n",
       "      <td>United-States</td>\n",
       "      <td>1</td>\n",
       "      <td>0.0</td>\n",
       "      <td>1.000000</td>\n",
       "    </tr>\n",
       "    <tr>\n",
       "      <th>3533</th>\n",
       "      <td>Aged</td>\n",
       "      <td>Private</td>\n",
       "      <td>HS-grad</td>\n",
       "      <td>Machine-op-inspct</td>\n",
       "      <td>Married</td>\n",
       "      <td>Black</td>\n",
       "      <td>Male</td>\n",
       "      <td>0.0</td>\n",
       "      <td>0.0</td>\n",
       "      <td>MidTime</td>\n",
       "      <td>United-States</td>\n",
       "      <td>1</td>\n",
       "      <td>0.0</td>\n",
       "      <td>0.986317</td>\n",
       "    </tr>\n",
       "    <tr>\n",
       "      <th>3762</th>\n",
       "      <td>Young</td>\n",
       "      <td>Private</td>\n",
       "      <td>HS-grad</td>\n",
       "      <td>Other-service</td>\n",
       "      <td>Married</td>\n",
       "      <td>White</td>\n",
       "      <td>Female</td>\n",
       "      <td>0.0</td>\n",
       "      <td>0.0</td>\n",
       "      <td>MidTime</td>\n",
       "      <td>United-States</td>\n",
       "      <td>1</td>\n",
       "      <td>0.0</td>\n",
       "      <td>0.995000</td>\n",
       "    </tr>\n",
       "    <tr>\n",
       "      <th>3787</th>\n",
       "      <td>Aged</td>\n",
       "      <td>Self-emp-inc</td>\n",
       "      <td>Some-college</td>\n",
       "      <td>Sales</td>\n",
       "      <td>Married</td>\n",
       "      <td>White</td>\n",
       "      <td>Male</td>\n",
       "      <td>0.0</td>\n",
       "      <td>0.0</td>\n",
       "      <td>MidTime</td>\n",
       "      <td>United-States</td>\n",
       "      <td>0</td>\n",
       "      <td>1.0</td>\n",
       "      <td>0.980714</td>\n",
       "    </tr>\n",
       "    <tr>\n",
       "      <th>3909</th>\n",
       "      <td>Aged</td>\n",
       "      <td>Local-gov</td>\n",
       "      <td>Bachelors</td>\n",
       "      <td>Prof-specialty</td>\n",
       "      <td>Not-in-family</td>\n",
       "      <td>White</td>\n",
       "      <td>Male</td>\n",
       "      <td>0.0</td>\n",
       "      <td>0.0</td>\n",
       "      <td>OverTime</td>\n",
       "      <td>United-States</td>\n",
       "      <td>1</td>\n",
       "      <td>0.0</td>\n",
       "      <td>0.990000</td>\n",
       "    </tr>\n",
       "    <tr>\n",
       "      <th>3977</th>\n",
       "      <td>Young</td>\n",
       "      <td>Private</td>\n",
       "      <td>HS-grad</td>\n",
       "      <td>Craft-repair</td>\n",
       "      <td>Married</td>\n",
       "      <td>Black</td>\n",
       "      <td>Male</td>\n",
       "      <td>0.0</td>\n",
       "      <td>0.0</td>\n",
       "      <td>FullTime</td>\n",
       "      <td>United-States</td>\n",
       "      <td>1</td>\n",
       "      <td>0.0</td>\n",
       "      <td>0.985662</td>\n",
       "    </tr>\n",
       "    <tr>\n",
       "      <th>4099</th>\n",
       "      <td>Aged</td>\n",
       "      <td>Private</td>\n",
       "      <td>Assoc-voc</td>\n",
       "      <td>Craft-repair</td>\n",
       "      <td>Married</td>\n",
       "      <td>White</td>\n",
       "      <td>Male</td>\n",
       "      <td>0.0</td>\n",
       "      <td>0.0</td>\n",
       "      <td>OverTime</td>\n",
       "      <td>United-States</td>\n",
       "      <td>0</td>\n",
       "      <td>1.0</td>\n",
       "      <td>0.990000</td>\n",
       "    </tr>\n",
       "    <tr>\n",
       "      <th>4109</th>\n",
       "      <td>Young</td>\n",
       "      <td>Private</td>\n",
       "      <td>10th</td>\n",
       "      <td>Craft-repair</td>\n",
       "      <td>Own-child</td>\n",
       "      <td>Other</td>\n",
       "      <td>Male</td>\n",
       "      <td>0.0</td>\n",
       "      <td>0.0</td>\n",
       "      <td>OverTime</td>\n",
       "      <td>United-States</td>\n",
       "      <td>1</td>\n",
       "      <td>0.0</td>\n",
       "      <td>0.990000</td>\n",
       "    </tr>\n",
       "    <tr>\n",
       "      <th>4150</th>\n",
       "      <td>Aged</td>\n",
       "      <td>Private</td>\n",
       "      <td>Bachelors</td>\n",
       "      <td>Prof-specialty</td>\n",
       "      <td>Own-child</td>\n",
       "      <td>White</td>\n",
       "      <td>Female</td>\n",
       "      <td>0.0</td>\n",
       "      <td>0.0</td>\n",
       "      <td>MidTime</td>\n",
       "      <td>United-States</td>\n",
       "      <td>1</td>\n",
       "      <td>0.0</td>\n",
       "      <td>0.982333</td>\n",
       "    </tr>\n",
       "    <tr>\n",
       "      <th>4206</th>\n",
       "      <td>Aged</td>\n",
       "      <td>Private</td>\n",
       "      <td>Some-college</td>\n",
       "      <td>Exec-managerial</td>\n",
       "      <td>Not-in-family</td>\n",
       "      <td>White</td>\n",
       "      <td>Male</td>\n",
       "      <td>0.0</td>\n",
       "      <td>0.0</td>\n",
       "      <td>OverTime</td>\n",
       "      <td>United-States</td>\n",
       "      <td>1</td>\n",
       "      <td>0.0</td>\n",
       "      <td>1.000000</td>\n",
       "    </tr>\n",
       "    <tr>\n",
       "      <th>4376</th>\n",
       "      <td>Young</td>\n",
       "      <td>Private</td>\n",
       "      <td>HS-grad</td>\n",
       "      <td>Farming-fishing</td>\n",
       "      <td>Married</td>\n",
       "      <td>White</td>\n",
       "      <td>Male</td>\n",
       "      <td>0.0</td>\n",
       "      <td>0.0</td>\n",
       "      <td>BrainDrain</td>\n",
       "      <td>United-States</td>\n",
       "      <td>1</td>\n",
       "      <td>0.0</td>\n",
       "      <td>0.997778</td>\n",
       "    </tr>\n",
       "    <tr>\n",
       "      <th>4378</th>\n",
       "      <td>Young</td>\n",
       "      <td>Private</td>\n",
       "      <td>Bachelors</td>\n",
       "      <td>Sales</td>\n",
       "      <td>Married</td>\n",
       "      <td>White</td>\n",
       "      <td>Female</td>\n",
       "      <td>0.0</td>\n",
       "      <td>0.0</td>\n",
       "      <td>FullTime</td>\n",
       "      <td>United-States</td>\n",
       "      <td>0</td>\n",
       "      <td>1.0</td>\n",
       "      <td>1.000000</td>\n",
       "    </tr>\n",
       "    <tr>\n",
       "      <th>4404</th>\n",
       "      <td>Young</td>\n",
       "      <td>Self-emp-not-inc</td>\n",
       "      <td>Prof-school</td>\n",
       "      <td>Prof-specialty</td>\n",
       "      <td>Married</td>\n",
       "      <td>White</td>\n",
       "      <td>Female</td>\n",
       "      <td>0.0</td>\n",
       "      <td>0.0</td>\n",
       "      <td>OverTime</td>\n",
       "      <td>United-States</td>\n",
       "      <td>0</td>\n",
       "      <td>1.0</td>\n",
       "      <td>0.990000</td>\n",
       "    </tr>\n",
       "  </tbody>\n",
       "</table>\n",
       "</div>"
      ],
      "text/plain": [
       "        Age         Workclass     Education         Occupation   Relationship  \\\n",
       "96     Aged           Private       HS-grad    Exec-managerial  Not-in-family   \n",
       "363    Aged           Private  Some-college    Exec-managerial  Not-in-family   \n",
       "438    Aged           Private     Bachelors              Sales        Married   \n",
       "663    Aged           Private     Bachelors              Sales        Married   \n",
       "664    Aged           Private     Doctorate     Prof-specialty        Married   \n",
       "696    Aged           Private          11th      Other-service        Married   \n",
       "725    Aged           Private           9th  Machine-op-inspct        Married   \n",
       "993   Young           Private     Assoc-voc       Craft-repair      Own-child   \n",
       "1042  Young           Private  Some-college    Exec-managerial  Not-in-family   \n",
       "1144  Young           Private       Masters     Prof-specialty        Married   \n",
       "1317   Aged           Private          11th       Craft-repair        Married   \n",
       "1369  Young         Local-gov     Bachelors     Prof-specialty      Unmarried   \n",
       "1581  Young           Private  Some-college       Craft-repair  Not-in-family   \n",
       "1605   Aged           Private       HS-grad   Transport-moving        Married   \n",
       "1621   Aged           Private       HS-grad       Craft-repair      Unmarried   \n",
       "1889  Young  Self-emp-not-inc  Some-college    Farming-fishing        Married   \n",
       "1912   Aged           Private       HS-grad   Transport-moving  Not-in-family   \n",
       "1970   Aged         State-gov     Doctorate     Prof-specialty        Married   \n",
       "2004  Young           Private     Bachelors    Exec-managerial      Own-child   \n",
       "2006   Aged           Private     Bachelors       Tech-support  Not-in-family   \n",
       "2029   Aged           Private          10th    Exec-managerial        Married   \n",
       "2034   Aged         State-gov  Some-college    Protective-serv      Unmarried   \n",
       "2053   Aged           Private       HS-grad       Adm-clerical  Not-in-family   \n",
       "2146   Aged           Private       HS-grad              Sales  Not-in-family   \n",
       "2151  Young  Self-emp-not-inc       HS-grad              Sales        Married   \n",
       "2337   Aged           Private          11th   Transport-moving        Married   \n",
       "2447   Aged           Private  Some-college   Transport-moving        Married   \n",
       "2461  Young           Private     Bachelors              Sales        Married   \n",
       "2511   Aged           Private  Some-college              Sales  Not-in-family   \n",
       "2642  Young           Private  Some-college       Adm-clerical  Not-in-family   \n",
       "2810   Aged           Private          10th  Machine-op-inspct        Married   \n",
       "2862   Aged  Self-emp-not-inc       HS-grad    Exec-managerial        Married   \n",
       "2877  Young         Local-gov       Masters     Prof-specialty  Not-in-family   \n",
       "2927  Young           Private       Masters     Prof-specialty      Own-child   \n",
       "2969   Aged           Private     Assoc-voc       Craft-repair        Married   \n",
       "3008   Aged           Private  Some-college              Sales  Not-in-family   \n",
       "3533   Aged           Private       HS-grad  Machine-op-inspct        Married   \n",
       "3762  Young           Private       HS-grad      Other-service        Married   \n",
       "3787   Aged      Self-emp-inc  Some-college              Sales        Married   \n",
       "3909   Aged         Local-gov     Bachelors     Prof-specialty  Not-in-family   \n",
       "3977  Young           Private       HS-grad       Craft-repair        Married   \n",
       "4099   Aged           Private     Assoc-voc       Craft-repair        Married   \n",
       "4109  Young           Private          10th       Craft-repair      Own-child   \n",
       "4150   Aged           Private     Bachelors     Prof-specialty      Own-child   \n",
       "4206   Aged           Private  Some-college    Exec-managerial  Not-in-family   \n",
       "4376  Young           Private       HS-grad    Farming-fishing        Married   \n",
       "4378  Young           Private     Bachelors              Sales        Married   \n",
       "4404  Young  Self-emp-not-inc   Prof-school     Prof-specialty        Married   \n",
       "\n",
       "                    Race     Sex  Capital Gain  Capital Loss Hours per week  \\\n",
       "96                 White    Male           0.0           0.0       OverTime   \n",
       "363                White    Male           0.0           0.0       OverTime   \n",
       "438                White  Female           0.0           0.0     BrainDrain   \n",
       "663                White  Female           0.0           0.0       FullTime   \n",
       "664                White    Male           0.0           0.0     BrainDrain   \n",
       "696                Black    Male           0.0           0.0        MidTime   \n",
       "725                White    Male           0.0           0.0       FullTime   \n",
       "993                White    Male           0.0           0.0       FullTime   \n",
       "1042               White    Male           0.0           0.0       OverTime   \n",
       "1144               White  Female           0.0           0.0       OverTime   \n",
       "1317               White  Female           0.0           0.0       OverTime   \n",
       "1369               White  Female           0.0           0.0       FullTime   \n",
       "1581               White    Male           0.0           0.0       FullTime   \n",
       "1605               Black    Male           0.0           0.0       FullTime   \n",
       "1621               White    Male           0.0           0.0       FullTime   \n",
       "1889               White  Female           0.0           0.0       OverTime   \n",
       "1912               White    Male           0.0           0.0       OverTime   \n",
       "1970               White    Male           0.0           0.0       OverTime   \n",
       "2004               White    Male           0.0           0.0       OverTime   \n",
       "2006               White    Male           0.0           0.0       FullTime   \n",
       "2029               White    Male           0.0           0.0       FullTime   \n",
       "2034  Amer-Indian-Eskimo  Female           0.0           0.0       FullTime   \n",
       "2053               White  Female           0.0           0.0       OverTime   \n",
       "2146               White  Female           0.0           0.0        MidTime   \n",
       "2151               White    Male           0.0           0.0       OverTime   \n",
       "2337               White    Male           0.0           0.0       FullTime   \n",
       "2447               White  Female           0.0           0.0       OverTime   \n",
       "2461               White  Female           0.0           0.0       FullTime   \n",
       "2511               White    Male           0.0           0.0     BrainDrain   \n",
       "2642               White  Female           0.0           0.0       FullTime   \n",
       "2810               White  Female           0.0           0.0       FullTime   \n",
       "2862               White    Male           0.0           0.0       FullTime   \n",
       "2877               White  Female           0.0           0.0       FullTime   \n",
       "2927               White  Female           0.0           0.0       FullTime   \n",
       "2969               White    Male           0.0           0.0       OverTime   \n",
       "3008               White    Male           0.0           0.0     BrainDrain   \n",
       "3533               Black    Male           0.0           0.0        MidTime   \n",
       "3762               White  Female           0.0           0.0        MidTime   \n",
       "3787               White    Male           0.0           0.0        MidTime   \n",
       "3909               White    Male           0.0           0.0       OverTime   \n",
       "3977               Black    Male           0.0           0.0       FullTime   \n",
       "4099               White    Male           0.0           0.0       OverTime   \n",
       "4109               Other    Male           0.0           0.0       OverTime   \n",
       "4150               White  Female           0.0           0.0        MidTime   \n",
       "4206               White    Male           0.0           0.0       OverTime   \n",
       "4376               White    Male           0.0           0.0     BrainDrain   \n",
       "4378               White  Female           0.0           0.0       FullTime   \n",
       "4404               White  Female           0.0           0.0       OverTime   \n",
       "\n",
       "            Country  label  prediction  confidence  \n",
       "96    United-States      1         0.0    1.000000  \n",
       "363   United-States      1         0.0    1.000000  \n",
       "438   United-States      0         1.0    0.990000  \n",
       "663   United-States      0         1.0    1.000000  \n",
       "664   United-States      0         1.0    0.996000  \n",
       "696   United-States      1         0.0    0.988333  \n",
       "725   United-States      1         0.0    0.997500  \n",
       "993   United-States      1         0.0    0.995500  \n",
       "1042  United-States      1         0.0    1.000000  \n",
       "1144  United-States      0         1.0    0.984167  \n",
       "1317  United-States      1         0.0    0.982500  \n",
       "1369  United-States      1         0.0    0.996071  \n",
       "1581  United-States      1         0.0    1.000000  \n",
       "1605  United-States      1         0.0    0.986667  \n",
       "1621  United-States      1         0.0    1.000000  \n",
       "1889  United-States      1         0.0    0.990000  \n",
       "1912  United-States      1         0.0    1.000000  \n",
       "1970  United-States      0         1.0    0.983333  \n",
       "2004  United-States      1         0.0    1.000000  \n",
       "2006  United-States      1         0.0    0.997500  \n",
       "2029  United-States      1         0.0    1.000000  \n",
       "2034  United-States      1         0.0    0.990000  \n",
       "2053  United-States      1         0.0    1.000000  \n",
       "2146  United-States      1         0.0    1.000000  \n",
       "2151  United-States      1         0.0    1.000000  \n",
       "2337  United-States      1         0.0    1.000000  \n",
       "2447  United-States      1         0.0    0.990000  \n",
       "2461  United-States      0         1.0    1.000000  \n",
       "2511  United-States      1         0.0    1.000000  \n",
       "2642  United-States      1         0.0    1.000000  \n",
       "2810  United-States      1         0.0    1.000000  \n",
       "2862  United-States      1         0.0    1.000000  \n",
       "2877  United-States      1         0.0    1.000000  \n",
       "2927  United-States      1         0.0    0.990000  \n",
       "2969  United-States      0         1.0    0.990000  \n",
       "3008  United-States      1         0.0    1.000000  \n",
       "3533  United-States      1         0.0    0.986317  \n",
       "3762  United-States      1         0.0    0.995000  \n",
       "3787  United-States      0         1.0    0.980714  \n",
       "3909  United-States      1         0.0    0.990000  \n",
       "3977  United-States      1         0.0    0.985662  \n",
       "4099  United-States      0         1.0    0.990000  \n",
       "4109  United-States      1         0.0    0.990000  \n",
       "4150  United-States      1         0.0    0.982333  \n",
       "4206  United-States      1         0.0    1.000000  \n",
       "4376  United-States      1         0.0    0.997778  \n",
       "4378  United-States      0         1.0    1.000000  \n",
       "4404  United-States      0         1.0    0.990000  "
      ]
     },
     "execution_count": 549,
     "metadata": {},
     "output_type": "execute_result"
    }
   ],
   "source": [
    "# Add confidence scores to the test dataframe\n",
    "confidence_scores = model_private.predict_proba(test_private).max(axis=1)\n",
    "test_df_private[\"confidence\"] = confidence_scores\n",
    "\n",
    "# Identify high-confidence errors\n",
    "high_confidence_errors = test_df_private[\n",
    "    (test_df_private[\"label\"] != test_df_private[\"prediction\"]) &\n",
    "    (test_df_private[\"confidence\"] > 0.98)]\n",
    "\n",
    "print(f'There are {high_confidence_errors.shape[0]} instances where the model was wrong but had a confidence greater than 0.98')\n",
    "print(\"Instances with High-Confidence Errors (> 0.98):\")\n",
    "\n",
    "high_confidence_errors"
   ]
  },
  {
   "cell_type": "code",
   "execution_count": 550,
   "id": "f37a1c33-4953-414b-a196-d29652298e48",
   "metadata": {},
   "outputs": [
    {
     "data": {
      "text/plain": [
       "Index([  96,  363,  438,  663,  664,  696,  725,  993, 1042, 1144, 1317, 1369,\n",
       "       1581, 1605, 1621, 1889, 1912, 1970, 2004, 2006, 2029, 2034, 2053, 2146,\n",
       "       2151, 2337, 2447, 2461, 2511, 2642, 2810, 2862, 2877, 2927, 2969, 3008,\n",
       "       3533, 3762, 3787, 3909, 3977, 4099, 4109, 4150, 4206, 4376, 4378, 4404],\n",
       "      dtype='int64')"
      ]
     },
     "execution_count": 550,
     "metadata": {},
     "output_type": "execute_result"
    }
   ],
   "source": [
    "high_conf_idx = high_confidence_errors.index\n",
    "high_conf_idx"
   ]
  },
  {
   "cell_type": "code",
   "execution_count": 551,
   "id": "5103c6f8-cb55-425f-9ea9-8572e543ef1f",
   "metadata": {},
   "outputs": [],
   "source": [
    "explainers = TabularExplainer(\n",
    "  explainers=['lime', 'mace'],                       # The explainers to apply\n",
    "  mode=\"classification\",                             # The task type\n",
    "  data=train_data_private,                           # The data for initializing the explainers\n",
    "  model=model_private,                               # The ML model to explain\n",
    "  preprocess=lambda z: transformer.transform(z),     # Converts raw features into the model inputs\n",
    "  params={\n",
    "        \"mace\": {\"ignored_features\": [\"Sex\", \"Race\"]}# params which cannot change when creating counterfactuals\n",
    "    }\n",
    ")\n",
    "\n",
    "# analysing instances\n",
    "instance_ids = [96, 663, 696, 1144]\n",
    "comments = [\n",
    "    \"incorrect prediction for true label=1, and the model is 100% confident\",\n",
    "    \"incorrect prediction for true label=0, and the model is 100% confident\",\n",
    "    \"incorrect prediction for true label=1, and the model is highly confident\",\n",
    "    \"incorrect prediction for true label=0, and the model is highly confident\"\n",
    "]\n",
    "\n",
    "n_instances = len(instance_ids)\n",
    "\n",
    "test_instances = test_data_private[instance_ids]\n",
    "local_explanations = explainers.explain(X=test_instances)"
   ]
  },
  {
   "cell_type": "code",
   "execution_count": 552,
   "id": "bb70fdea-6e41-427f-83a1-1df32484afc4",
   "metadata": {},
   "outputs": [
    {
     "name": "stdout",
     "output_type": "stream",
     "text": [
      "LIME results:\n",
      "incorrect prediction for true label=1, and the model is 100% confident\n",
      "Instance 96 has label 1 and prediction 0.0, with probs [1. 0.]\n"
     ]
    },
    {
     "data": {
      "application/vnd.plotly.v1+json": {
       "config": {
        "linkText": "Export to plot.ly",
        "plotlyServerURL": "https://plot.ly",
        "showLink": false
       },
       "data": [
        {
         "alignmentgroup": "True",
         "hovertemplate": "Positive=True<br>Importance scores=%{x}<br>Features=%{y}<extra></extra>",
         "legendgroup": "True",
         "marker": {
          "color": "#008B8B",
          "pattern": {
           "shape": ""
          }
         },
         "name": "True",
         "offsetgroup": "True",
         "orientation": "h",
         "showlegend": true,
         "textposition": "auto",
         "type": "bar",
         "x": [
          0.00519243471244406,
          0.006299442477526096,
          0.021122324746233854,
          0.05473640432298165,
          0.11160513095549873,
          0.16188619471363178,
          0.48495490480724907
         ],
         "xaxis": "x",
         "y": [
          "Country = United-States",
          "Sex = Male",
          "Workclass = Private",
          "Education = HS-grad",
          "Capital Loss = 0",
          "Relationship = Not-in-family",
          "Capital Gain = 0"
         ],
         "yaxis": "y"
        },
        {
         "alignmentgroup": "True",
         "hovertemplate": "Positive=False<br>Importance scores=%{x}<br>Features=%{y}<extra></extra>",
         "legendgroup": "False",
         "marker": {
          "color": "#DC143C",
          "pattern": {
           "shape": ""
          }
         },
         "name": "False",
         "offsetgroup": "False",
         "orientation": "h",
         "showlegend": true,
         "textposition": "auto",
         "type": "bar",
         "x": [
          -0.036776212467493526,
          -0.058612487561636145,
          -0.08855224406281556
         ],
         "xaxis": "x",
         "y": [
          "Age = Aged",
          "Hours per week = OverTime",
          "Occupation = Exec-managerial"
         ],
         "yaxis": "y"
        }
       ],
       "layout": {
        "barmode": "relative",
        "legend": {
         "title": {
          "text": "Positive"
         },
         "tracegroupgap": 0
        },
        "template": {
         "data": {
          "bar": [
           {
            "error_x": {
             "color": "#2a3f5f"
            },
            "error_y": {
             "color": "#2a3f5f"
            },
            "marker": {
             "line": {
              "color": "#E5ECF6",
              "width": 0.5
             },
             "pattern": {
              "fillmode": "overlay",
              "size": 10,
              "solidity": 0.2
             }
            },
            "type": "bar"
           }
          ],
          "barpolar": [
           {
            "marker": {
             "line": {
              "color": "#E5ECF6",
              "width": 0.5
             },
             "pattern": {
              "fillmode": "overlay",
              "size": 10,
              "solidity": 0.2
             }
            },
            "type": "barpolar"
           }
          ],
          "carpet": [
           {
            "aaxis": {
             "endlinecolor": "#2a3f5f",
             "gridcolor": "white",
             "linecolor": "white",
             "minorgridcolor": "white",
             "startlinecolor": "#2a3f5f"
            },
            "baxis": {
             "endlinecolor": "#2a3f5f",
             "gridcolor": "white",
             "linecolor": "white",
             "minorgridcolor": "white",
             "startlinecolor": "#2a3f5f"
            },
            "type": "carpet"
           }
          ],
          "choropleth": [
           {
            "colorbar": {
             "outlinewidth": 0,
             "ticks": ""
            },
            "type": "choropleth"
           }
          ],
          "contour": [
           {
            "colorbar": {
             "outlinewidth": 0,
             "ticks": ""
            },
            "colorscale": [
             [
              0,
              "#0d0887"
             ],
             [
              0.1111111111111111,
              "#46039f"
             ],
             [
              0.2222222222222222,
              "#7201a8"
             ],
             [
              0.3333333333333333,
              "#9c179e"
             ],
             [
              0.4444444444444444,
              "#bd3786"
             ],
             [
              0.5555555555555556,
              "#d8576b"
             ],
             [
              0.6666666666666666,
              "#ed7953"
             ],
             [
              0.7777777777777778,
              "#fb9f3a"
             ],
             [
              0.8888888888888888,
              "#fdca26"
             ],
             [
              1,
              "#f0f921"
             ]
            ],
            "type": "contour"
           }
          ],
          "contourcarpet": [
           {
            "colorbar": {
             "outlinewidth": 0,
             "ticks": ""
            },
            "type": "contourcarpet"
           }
          ],
          "heatmap": [
           {
            "colorbar": {
             "outlinewidth": 0,
             "ticks": ""
            },
            "colorscale": [
             [
              0,
              "#0d0887"
             ],
             [
              0.1111111111111111,
              "#46039f"
             ],
             [
              0.2222222222222222,
              "#7201a8"
             ],
             [
              0.3333333333333333,
              "#9c179e"
             ],
             [
              0.4444444444444444,
              "#bd3786"
             ],
             [
              0.5555555555555556,
              "#d8576b"
             ],
             [
              0.6666666666666666,
              "#ed7953"
             ],
             [
              0.7777777777777778,
              "#fb9f3a"
             ],
             [
              0.8888888888888888,
              "#fdca26"
             ],
             [
              1,
              "#f0f921"
             ]
            ],
            "type": "heatmap"
           }
          ],
          "heatmapgl": [
           {
            "colorbar": {
             "outlinewidth": 0,
             "ticks": ""
            },
            "colorscale": [
             [
              0,
              "#0d0887"
             ],
             [
              0.1111111111111111,
              "#46039f"
             ],
             [
              0.2222222222222222,
              "#7201a8"
             ],
             [
              0.3333333333333333,
              "#9c179e"
             ],
             [
              0.4444444444444444,
              "#bd3786"
             ],
             [
              0.5555555555555556,
              "#d8576b"
             ],
             [
              0.6666666666666666,
              "#ed7953"
             ],
             [
              0.7777777777777778,
              "#fb9f3a"
             ],
             [
              0.8888888888888888,
              "#fdca26"
             ],
             [
              1,
              "#f0f921"
             ]
            ],
            "type": "heatmapgl"
           }
          ],
          "histogram": [
           {
            "marker": {
             "pattern": {
              "fillmode": "overlay",
              "size": 10,
              "solidity": 0.2
             }
            },
            "type": "histogram"
           }
          ],
          "histogram2d": [
           {
            "colorbar": {
             "outlinewidth": 0,
             "ticks": ""
            },
            "colorscale": [
             [
              0,
              "#0d0887"
             ],
             [
              0.1111111111111111,
              "#46039f"
             ],
             [
              0.2222222222222222,
              "#7201a8"
             ],
             [
              0.3333333333333333,
              "#9c179e"
             ],
             [
              0.4444444444444444,
              "#bd3786"
             ],
             [
              0.5555555555555556,
              "#d8576b"
             ],
             [
              0.6666666666666666,
              "#ed7953"
             ],
             [
              0.7777777777777778,
              "#fb9f3a"
             ],
             [
              0.8888888888888888,
              "#fdca26"
             ],
             [
              1,
              "#f0f921"
             ]
            ],
            "type": "histogram2d"
           }
          ],
          "histogram2dcontour": [
           {
            "colorbar": {
             "outlinewidth": 0,
             "ticks": ""
            },
            "colorscale": [
             [
              0,
              "#0d0887"
             ],
             [
              0.1111111111111111,
              "#46039f"
             ],
             [
              0.2222222222222222,
              "#7201a8"
             ],
             [
              0.3333333333333333,
              "#9c179e"
             ],
             [
              0.4444444444444444,
              "#bd3786"
             ],
             [
              0.5555555555555556,
              "#d8576b"
             ],
             [
              0.6666666666666666,
              "#ed7953"
             ],
             [
              0.7777777777777778,
              "#fb9f3a"
             ],
             [
              0.8888888888888888,
              "#fdca26"
             ],
             [
              1,
              "#f0f921"
             ]
            ],
            "type": "histogram2dcontour"
           }
          ],
          "mesh3d": [
           {
            "colorbar": {
             "outlinewidth": 0,
             "ticks": ""
            },
            "type": "mesh3d"
           }
          ],
          "parcoords": [
           {
            "line": {
             "colorbar": {
              "outlinewidth": 0,
              "ticks": ""
             }
            },
            "type": "parcoords"
           }
          ],
          "pie": [
           {
            "automargin": true,
            "type": "pie"
           }
          ],
          "scatter": [
           {
            "fillpattern": {
             "fillmode": "overlay",
             "size": 10,
             "solidity": 0.2
            },
            "type": "scatter"
           }
          ],
          "scatter3d": [
           {
            "line": {
             "colorbar": {
              "outlinewidth": 0,
              "ticks": ""
             }
            },
            "marker": {
             "colorbar": {
              "outlinewidth": 0,
              "ticks": ""
             }
            },
            "type": "scatter3d"
           }
          ],
          "scattercarpet": [
           {
            "marker": {
             "colorbar": {
              "outlinewidth": 0,
              "ticks": ""
             }
            },
            "type": "scattercarpet"
           }
          ],
          "scattergeo": [
           {
            "marker": {
             "colorbar": {
              "outlinewidth": 0,
              "ticks": ""
             }
            },
            "type": "scattergeo"
           }
          ],
          "scattergl": [
           {
            "marker": {
             "colorbar": {
              "outlinewidth": 0,
              "ticks": ""
             }
            },
            "type": "scattergl"
           }
          ],
          "scattermapbox": [
           {
            "marker": {
             "colorbar": {
              "outlinewidth": 0,
              "ticks": ""
             }
            },
            "type": "scattermapbox"
           }
          ],
          "scatterpolar": [
           {
            "marker": {
             "colorbar": {
              "outlinewidth": 0,
              "ticks": ""
             }
            },
            "type": "scatterpolar"
           }
          ],
          "scatterpolargl": [
           {
            "marker": {
             "colorbar": {
              "outlinewidth": 0,
              "ticks": ""
             }
            },
            "type": "scatterpolargl"
           }
          ],
          "scatterternary": [
           {
            "marker": {
             "colorbar": {
              "outlinewidth": 0,
              "ticks": ""
             }
            },
            "type": "scatterternary"
           }
          ],
          "surface": [
           {
            "colorbar": {
             "outlinewidth": 0,
             "ticks": ""
            },
            "colorscale": [
             [
              0,
              "#0d0887"
             ],
             [
              0.1111111111111111,
              "#46039f"
             ],
             [
              0.2222222222222222,
              "#7201a8"
             ],
             [
              0.3333333333333333,
              "#9c179e"
             ],
             [
              0.4444444444444444,
              "#bd3786"
             ],
             [
              0.5555555555555556,
              "#d8576b"
             ],
             [
              0.6666666666666666,
              "#ed7953"
             ],
             [
              0.7777777777777778,
              "#fb9f3a"
             ],
             [
              0.8888888888888888,
              "#fdca26"
             ],
             [
              1,
              "#f0f921"
             ]
            ],
            "type": "surface"
           }
          ],
          "table": [
           {
            "cells": {
             "fill": {
              "color": "#EBF0F8"
             },
             "line": {
              "color": "white"
             }
            },
            "header": {
             "fill": {
              "color": "#C8D4E3"
             },
             "line": {
              "color": "white"
             }
            },
            "type": "table"
           }
          ]
         },
         "layout": {
          "annotationdefaults": {
           "arrowcolor": "#2a3f5f",
           "arrowhead": 0,
           "arrowwidth": 1
          },
          "autotypenumbers": "strict",
          "coloraxis": {
           "colorbar": {
            "outlinewidth": 0,
            "ticks": ""
           }
          },
          "colorscale": {
           "diverging": [
            [
             0,
             "#8e0152"
            ],
            [
             0.1,
             "#c51b7d"
            ],
            [
             0.2,
             "#de77ae"
            ],
            [
             0.3,
             "#f1b6da"
            ],
            [
             0.4,
             "#fde0ef"
            ],
            [
             0.5,
             "#f7f7f7"
            ],
            [
             0.6,
             "#e6f5d0"
            ],
            [
             0.7,
             "#b8e186"
            ],
            [
             0.8,
             "#7fbc41"
            ],
            [
             0.9,
             "#4d9221"
            ],
            [
             1,
             "#276419"
            ]
           ],
           "sequential": [
            [
             0,
             "#0d0887"
            ],
            [
             0.1111111111111111,
             "#46039f"
            ],
            [
             0.2222222222222222,
             "#7201a8"
            ],
            [
             0.3333333333333333,
             "#9c179e"
            ],
            [
             0.4444444444444444,
             "#bd3786"
            ],
            [
             0.5555555555555556,
             "#d8576b"
            ],
            [
             0.6666666666666666,
             "#ed7953"
            ],
            [
             0.7777777777777778,
             "#fb9f3a"
            ],
            [
             0.8888888888888888,
             "#fdca26"
            ],
            [
             1,
             "#f0f921"
            ]
           ],
           "sequentialminus": [
            [
             0,
             "#0d0887"
            ],
            [
             0.1111111111111111,
             "#46039f"
            ],
            [
             0.2222222222222222,
             "#7201a8"
            ],
            [
             0.3333333333333333,
             "#9c179e"
            ],
            [
             0.4444444444444444,
             "#bd3786"
            ],
            [
             0.5555555555555556,
             "#d8576b"
            ],
            [
             0.6666666666666666,
             "#ed7953"
            ],
            [
             0.7777777777777778,
             "#fb9f3a"
            ],
            [
             0.8888888888888888,
             "#fdca26"
            ],
            [
             1,
             "#f0f921"
            ]
           ]
          },
          "colorway": [
           "#636efa",
           "#EF553B",
           "#00cc96",
           "#ab63fa",
           "#FFA15A",
           "#19d3f3",
           "#FF6692",
           "#B6E880",
           "#FF97FF",
           "#FECB52"
          ],
          "font": {
           "color": "#2a3f5f"
          },
          "geo": {
           "bgcolor": "white",
           "lakecolor": "white",
           "landcolor": "#E5ECF6",
           "showlakes": true,
           "showland": true,
           "subunitcolor": "white"
          },
          "hoverlabel": {
           "align": "left"
          },
          "hovermode": "closest",
          "mapbox": {
           "style": "light"
          },
          "paper_bgcolor": "white",
          "plot_bgcolor": "#E5ECF6",
          "polar": {
           "angularaxis": {
            "gridcolor": "white",
            "linecolor": "white",
            "ticks": ""
           },
           "bgcolor": "#E5ECF6",
           "radialaxis": {
            "gridcolor": "white",
            "linecolor": "white",
            "ticks": ""
           }
          },
          "scene": {
           "xaxis": {
            "backgroundcolor": "#E5ECF6",
            "gridcolor": "white",
            "gridwidth": 2,
            "linecolor": "white",
            "showbackground": true,
            "ticks": "",
            "zerolinecolor": "white"
           },
           "yaxis": {
            "backgroundcolor": "#E5ECF6",
            "gridcolor": "white",
            "gridwidth": 2,
            "linecolor": "white",
            "showbackground": true,
            "ticks": "",
            "zerolinecolor": "white"
           },
           "zaxis": {
            "backgroundcolor": "#E5ECF6",
            "gridcolor": "white",
            "gridwidth": 2,
            "linecolor": "white",
            "showbackground": true,
            "ticks": "",
            "zerolinecolor": "white"
           }
          },
          "shapedefaults": {
           "line": {
            "color": "#2a3f5f"
           }
          },
          "ternary": {
           "aaxis": {
            "gridcolor": "white",
            "linecolor": "white",
            "ticks": ""
           },
           "baxis": {
            "gridcolor": "white",
            "linecolor": "white",
            "ticks": ""
           },
           "bgcolor": "#E5ECF6",
           "caxis": {
            "gridcolor": "white",
            "linecolor": "white",
            "ticks": ""
           }
          },
          "title": {
           "x": 0.05
          },
          "xaxis": {
           "automargin": true,
           "gridcolor": "white",
           "linecolor": "white",
           "ticks": "",
           "title": {
            "standoff": 15
           },
           "zerolinecolor": "white",
           "zerolinewidth": 2
          },
          "yaxis": {
           "automargin": true,
           "gridcolor": "white",
           "linecolor": "white",
           "ticks": "",
           "title": {
            "standoff": 15
           },
           "zerolinecolor": "white",
           "zerolinewidth": 2
          }
         }
        },
        "title": {
         "text": "Label: Class 0"
        },
        "xaxis": {
         "anchor": "y",
         "domain": [
          0,
          1
         ],
         "title": {
          "text": "Importance scores"
         }
        },
        "yaxis": {
         "anchor": "x",
         "domain": [
          0,
          1
         ],
         "title": {
          "text": "Features"
         }
        }
       }
      },
      "text/html": [
       "<div>                            <div id=\"70ca11f7-5ae4-4a6f-a119-ab19c33d4721\" class=\"plotly-graph-div\" style=\"height:525px; width:100%;\"></div>            <script type=\"text/javascript\">                require([\"plotly\"], function(Plotly) {                    window.PLOTLYENV=window.PLOTLYENV || {};                                    if (document.getElementById(\"70ca11f7-5ae4-4a6f-a119-ab19c33d4721\")) {                    Plotly.newPlot(                        \"70ca11f7-5ae4-4a6f-a119-ab19c33d4721\",                        [{\"alignmentgroup\":\"True\",\"hovertemplate\":\"Positive=True\\u003cbr\\u003eImportance scores=%{x}\\u003cbr\\u003eFeatures=%{y}\\u003cextra\\u003e\\u003c\\u002fextra\\u003e\",\"legendgroup\":\"True\",\"marker\":{\"color\":\"#008B8B\",\"pattern\":{\"shape\":\"\"}},\"name\":\"True\",\"offsetgroup\":\"True\",\"orientation\":\"h\",\"showlegend\":true,\"textposition\":\"auto\",\"x\":[0.00519243471244406,0.006299442477526096,0.021122324746233854,0.05473640432298165,0.11160513095549873,0.16188619471363178,0.48495490480724907],\"xaxis\":\"x\",\"y\":[\"Country = United-States\",\"Sex = Male\",\"Workclass = Private\",\"Education = HS-grad\",\"Capital Loss = 0\",\"Relationship = Not-in-family\",\"Capital Gain = 0\"],\"yaxis\":\"y\",\"type\":\"bar\"},{\"alignmentgroup\":\"True\",\"hovertemplate\":\"Positive=False\\u003cbr\\u003eImportance scores=%{x}\\u003cbr\\u003eFeatures=%{y}\\u003cextra\\u003e\\u003c\\u002fextra\\u003e\",\"legendgroup\":\"False\",\"marker\":{\"color\":\"#DC143C\",\"pattern\":{\"shape\":\"\"}},\"name\":\"False\",\"offsetgroup\":\"False\",\"orientation\":\"h\",\"showlegend\":true,\"textposition\":\"auto\",\"x\":[-0.036776212467493526,-0.058612487561636145,-0.08855224406281556],\"xaxis\":\"x\",\"y\":[\"Age = Aged\",\"Hours per week = OverTime\",\"Occupation = Exec-managerial\"],\"yaxis\":\"y\",\"type\":\"bar\"}],                        {\"barmode\":\"relative\",\"legend\":{\"title\":{\"text\":\"Positive\"},\"tracegroupgap\":0},\"template\":{\"data\":{\"barpolar\":[{\"marker\":{\"line\":{\"color\":\"#E5ECF6\",\"width\":0.5},\"pattern\":{\"fillmode\":\"overlay\",\"size\":10,\"solidity\":0.2}},\"type\":\"barpolar\"}],\"bar\":[{\"error_x\":{\"color\":\"#2a3f5f\"},\"error_y\":{\"color\":\"#2a3f5f\"},\"marker\":{\"line\":{\"color\":\"#E5ECF6\",\"width\":0.5},\"pattern\":{\"fillmode\":\"overlay\",\"size\":10,\"solidity\":0.2}},\"type\":\"bar\"}],\"carpet\":[{\"aaxis\":{\"endlinecolor\":\"#2a3f5f\",\"gridcolor\":\"white\",\"linecolor\":\"white\",\"minorgridcolor\":\"white\",\"startlinecolor\":\"#2a3f5f\"},\"baxis\":{\"endlinecolor\":\"#2a3f5f\",\"gridcolor\":\"white\",\"linecolor\":\"white\",\"minorgridcolor\":\"white\",\"startlinecolor\":\"#2a3f5f\"},\"type\":\"carpet\"}],\"choropleth\":[{\"colorbar\":{\"outlinewidth\":0,\"ticks\":\"\"},\"type\":\"choropleth\"}],\"contourcarpet\":[{\"colorbar\":{\"outlinewidth\":0,\"ticks\":\"\"},\"type\":\"contourcarpet\"}],\"contour\":[{\"colorbar\":{\"outlinewidth\":0,\"ticks\":\"\"},\"colorscale\":[[0.0,\"#0d0887\"],[0.1111111111111111,\"#46039f\"],[0.2222222222222222,\"#7201a8\"],[0.3333333333333333,\"#9c179e\"],[0.4444444444444444,\"#bd3786\"],[0.5555555555555556,\"#d8576b\"],[0.6666666666666666,\"#ed7953\"],[0.7777777777777778,\"#fb9f3a\"],[0.8888888888888888,\"#fdca26\"],[1.0,\"#f0f921\"]],\"type\":\"contour\"}],\"heatmapgl\":[{\"colorbar\":{\"outlinewidth\":0,\"ticks\":\"\"},\"colorscale\":[[0.0,\"#0d0887\"],[0.1111111111111111,\"#46039f\"],[0.2222222222222222,\"#7201a8\"],[0.3333333333333333,\"#9c179e\"],[0.4444444444444444,\"#bd3786\"],[0.5555555555555556,\"#d8576b\"],[0.6666666666666666,\"#ed7953\"],[0.7777777777777778,\"#fb9f3a\"],[0.8888888888888888,\"#fdca26\"],[1.0,\"#f0f921\"]],\"type\":\"heatmapgl\"}],\"heatmap\":[{\"colorbar\":{\"outlinewidth\":0,\"ticks\":\"\"},\"colorscale\":[[0.0,\"#0d0887\"],[0.1111111111111111,\"#46039f\"],[0.2222222222222222,\"#7201a8\"],[0.3333333333333333,\"#9c179e\"],[0.4444444444444444,\"#bd3786\"],[0.5555555555555556,\"#d8576b\"],[0.6666666666666666,\"#ed7953\"],[0.7777777777777778,\"#fb9f3a\"],[0.8888888888888888,\"#fdca26\"],[1.0,\"#f0f921\"]],\"type\":\"heatmap\"}],\"histogram2dcontour\":[{\"colorbar\":{\"outlinewidth\":0,\"ticks\":\"\"},\"colorscale\":[[0.0,\"#0d0887\"],[0.1111111111111111,\"#46039f\"],[0.2222222222222222,\"#7201a8\"],[0.3333333333333333,\"#9c179e\"],[0.4444444444444444,\"#bd3786\"],[0.5555555555555556,\"#d8576b\"],[0.6666666666666666,\"#ed7953\"],[0.7777777777777778,\"#fb9f3a\"],[0.8888888888888888,\"#fdca26\"],[1.0,\"#f0f921\"]],\"type\":\"histogram2dcontour\"}],\"histogram2d\":[{\"colorbar\":{\"outlinewidth\":0,\"ticks\":\"\"},\"colorscale\":[[0.0,\"#0d0887\"],[0.1111111111111111,\"#46039f\"],[0.2222222222222222,\"#7201a8\"],[0.3333333333333333,\"#9c179e\"],[0.4444444444444444,\"#bd3786\"],[0.5555555555555556,\"#d8576b\"],[0.6666666666666666,\"#ed7953\"],[0.7777777777777778,\"#fb9f3a\"],[0.8888888888888888,\"#fdca26\"],[1.0,\"#f0f921\"]],\"type\":\"histogram2d\"}],\"histogram\":[{\"marker\":{\"pattern\":{\"fillmode\":\"overlay\",\"size\":10,\"solidity\":0.2}},\"type\":\"histogram\"}],\"mesh3d\":[{\"colorbar\":{\"outlinewidth\":0,\"ticks\":\"\"},\"type\":\"mesh3d\"}],\"parcoords\":[{\"line\":{\"colorbar\":{\"outlinewidth\":0,\"ticks\":\"\"}},\"type\":\"parcoords\"}],\"pie\":[{\"automargin\":true,\"type\":\"pie\"}],\"scatter3d\":[{\"line\":{\"colorbar\":{\"outlinewidth\":0,\"ticks\":\"\"}},\"marker\":{\"colorbar\":{\"outlinewidth\":0,\"ticks\":\"\"}},\"type\":\"scatter3d\"}],\"scattercarpet\":[{\"marker\":{\"colorbar\":{\"outlinewidth\":0,\"ticks\":\"\"}},\"type\":\"scattercarpet\"}],\"scattergeo\":[{\"marker\":{\"colorbar\":{\"outlinewidth\":0,\"ticks\":\"\"}},\"type\":\"scattergeo\"}],\"scattergl\":[{\"marker\":{\"colorbar\":{\"outlinewidth\":0,\"ticks\":\"\"}},\"type\":\"scattergl\"}],\"scattermapbox\":[{\"marker\":{\"colorbar\":{\"outlinewidth\":0,\"ticks\":\"\"}},\"type\":\"scattermapbox\"}],\"scatterpolargl\":[{\"marker\":{\"colorbar\":{\"outlinewidth\":0,\"ticks\":\"\"}},\"type\":\"scatterpolargl\"}],\"scatterpolar\":[{\"marker\":{\"colorbar\":{\"outlinewidth\":0,\"ticks\":\"\"}},\"type\":\"scatterpolar\"}],\"scatter\":[{\"fillpattern\":{\"fillmode\":\"overlay\",\"size\":10,\"solidity\":0.2},\"type\":\"scatter\"}],\"scatterternary\":[{\"marker\":{\"colorbar\":{\"outlinewidth\":0,\"ticks\":\"\"}},\"type\":\"scatterternary\"}],\"surface\":[{\"colorbar\":{\"outlinewidth\":0,\"ticks\":\"\"},\"colorscale\":[[0.0,\"#0d0887\"],[0.1111111111111111,\"#46039f\"],[0.2222222222222222,\"#7201a8\"],[0.3333333333333333,\"#9c179e\"],[0.4444444444444444,\"#bd3786\"],[0.5555555555555556,\"#d8576b\"],[0.6666666666666666,\"#ed7953\"],[0.7777777777777778,\"#fb9f3a\"],[0.8888888888888888,\"#fdca26\"],[1.0,\"#f0f921\"]],\"type\":\"surface\"}],\"table\":[{\"cells\":{\"fill\":{\"color\":\"#EBF0F8\"},\"line\":{\"color\":\"white\"}},\"header\":{\"fill\":{\"color\":\"#C8D4E3\"},\"line\":{\"color\":\"white\"}},\"type\":\"table\"}]},\"layout\":{\"annotationdefaults\":{\"arrowcolor\":\"#2a3f5f\",\"arrowhead\":0,\"arrowwidth\":1},\"autotypenumbers\":\"strict\",\"coloraxis\":{\"colorbar\":{\"outlinewidth\":0,\"ticks\":\"\"}},\"colorscale\":{\"diverging\":[[0,\"#8e0152\"],[0.1,\"#c51b7d\"],[0.2,\"#de77ae\"],[0.3,\"#f1b6da\"],[0.4,\"#fde0ef\"],[0.5,\"#f7f7f7\"],[0.6,\"#e6f5d0\"],[0.7,\"#b8e186\"],[0.8,\"#7fbc41\"],[0.9,\"#4d9221\"],[1,\"#276419\"]],\"sequential\":[[0.0,\"#0d0887\"],[0.1111111111111111,\"#46039f\"],[0.2222222222222222,\"#7201a8\"],[0.3333333333333333,\"#9c179e\"],[0.4444444444444444,\"#bd3786\"],[0.5555555555555556,\"#d8576b\"],[0.6666666666666666,\"#ed7953\"],[0.7777777777777778,\"#fb9f3a\"],[0.8888888888888888,\"#fdca26\"],[1.0,\"#f0f921\"]],\"sequentialminus\":[[0.0,\"#0d0887\"],[0.1111111111111111,\"#46039f\"],[0.2222222222222222,\"#7201a8\"],[0.3333333333333333,\"#9c179e\"],[0.4444444444444444,\"#bd3786\"],[0.5555555555555556,\"#d8576b\"],[0.6666666666666666,\"#ed7953\"],[0.7777777777777778,\"#fb9f3a\"],[0.8888888888888888,\"#fdca26\"],[1.0,\"#f0f921\"]]},\"colorway\":[\"#636efa\",\"#EF553B\",\"#00cc96\",\"#ab63fa\",\"#FFA15A\",\"#19d3f3\",\"#FF6692\",\"#B6E880\",\"#FF97FF\",\"#FECB52\"],\"font\":{\"color\":\"#2a3f5f\"},\"geo\":{\"bgcolor\":\"white\",\"lakecolor\":\"white\",\"landcolor\":\"#E5ECF6\",\"showlakes\":true,\"showland\":true,\"subunitcolor\":\"white\"},\"hoverlabel\":{\"align\":\"left\"},\"hovermode\":\"closest\",\"mapbox\":{\"style\":\"light\"},\"paper_bgcolor\":\"white\",\"plot_bgcolor\":\"#E5ECF6\",\"polar\":{\"angularaxis\":{\"gridcolor\":\"white\",\"linecolor\":\"white\",\"ticks\":\"\"},\"bgcolor\":\"#E5ECF6\",\"radialaxis\":{\"gridcolor\":\"white\",\"linecolor\":\"white\",\"ticks\":\"\"}},\"scene\":{\"xaxis\":{\"backgroundcolor\":\"#E5ECF6\",\"gridcolor\":\"white\",\"gridwidth\":2,\"linecolor\":\"white\",\"showbackground\":true,\"ticks\":\"\",\"zerolinecolor\":\"white\"},\"yaxis\":{\"backgroundcolor\":\"#E5ECF6\",\"gridcolor\":\"white\",\"gridwidth\":2,\"linecolor\":\"white\",\"showbackground\":true,\"ticks\":\"\",\"zerolinecolor\":\"white\"},\"zaxis\":{\"backgroundcolor\":\"#E5ECF6\",\"gridcolor\":\"white\",\"gridwidth\":2,\"linecolor\":\"white\",\"showbackground\":true,\"ticks\":\"\",\"zerolinecolor\":\"white\"}},\"shapedefaults\":{\"line\":{\"color\":\"#2a3f5f\"}},\"ternary\":{\"aaxis\":{\"gridcolor\":\"white\",\"linecolor\":\"white\",\"ticks\":\"\"},\"baxis\":{\"gridcolor\":\"white\",\"linecolor\":\"white\",\"ticks\":\"\"},\"bgcolor\":\"#E5ECF6\",\"caxis\":{\"gridcolor\":\"white\",\"linecolor\":\"white\",\"ticks\":\"\"}},\"title\":{\"x\":0.05},\"xaxis\":{\"automargin\":true,\"gridcolor\":\"white\",\"linecolor\":\"white\",\"ticks\":\"\",\"title\":{\"standoff\":15},\"zerolinecolor\":\"white\",\"zerolinewidth\":2},\"yaxis\":{\"automargin\":true,\"gridcolor\":\"white\",\"linecolor\":\"white\",\"ticks\":\"\",\"title\":{\"standoff\":15},\"zerolinecolor\":\"white\",\"zerolinewidth\":2}}},\"title\":{\"text\":\"Label: Class 0\"},\"xaxis\":{\"anchor\":\"y\",\"domain\":[0.0,1.0],\"title\":{\"text\":\"Importance scores\"}},\"yaxis\":{\"anchor\":\"x\",\"domain\":[0.0,1.0],\"title\":{\"text\":\"Features\"}}},                        {\"responsive\": true}                    ).then(function(){\n",
       "                            \n",
       "var gd = document.getElementById('70ca11f7-5ae4-4a6f-a119-ab19c33d4721');\n",
       "var x = new MutationObserver(function (mutations, observer) {{\n",
       "        var display = window.getComputedStyle(gd).display;\n",
       "        if (!display || display === 'none') {{\n",
       "            console.log([gd, 'removed!']);\n",
       "            Plotly.purge(gd);\n",
       "            observer.disconnect();\n",
       "        }}\n",
       "}});\n",
       "\n",
       "// Listen for the removal of the full notebook cells\n",
       "var notebookContainer = gd.closest('#notebook-container');\n",
       "if (notebookContainer) {{\n",
       "    x.observe(notebookContainer, {childList: true});\n",
       "}}\n",
       "\n",
       "// Listen for the clearing of the current output cell\n",
       "var outputEl = gd.closest('.output');\n",
       "if (outputEl) {{\n",
       "    x.observe(outputEl, {childList: true});\n",
       "}}\n",
       "\n",
       "                        })                };                });            </script>        </div>"
      ]
     },
     "metadata": {},
     "output_type": "display_data"
    },
    {
     "name": "stdout",
     "output_type": "stream",
     "text": [
      "-./-./-./-./-./-./-./-./-./-./-./-./-./-./-./-./-./-./-./-./-./-./-./-./-./-./-./-./-./-./-./-./-./-./-./-./-./-./-./-./-./-./-./-./-./-./-./-./-./-./\n",
      "\n",
      "\n",
      "incorrect prediction for true label=0, and the model is 100% confident\n",
      "Instance 663 has label 0 and prediction 1.0, with probs [0. 1.]\n"
     ]
    },
    {
     "data": {
      "application/vnd.plotly.v1+json": {
       "config": {
        "linkText": "Export to plot.ly",
        "plotlyServerURL": "https://plot.ly",
        "showLink": false
       },
       "data": [
        {
         "alignmentgroup": "True",
         "hovertemplate": "Positive=True<br>Importance scores=%{x}<br>Features=%{y}<extra></extra>",
         "legendgroup": "True",
         "marker": {
          "color": "#008B8B",
          "pattern": {
           "shape": ""
          }
         },
         "name": "True",
         "offsetgroup": "True",
         "orientation": "h",
         "showlegend": true,
         "textposition": "auto",
         "type": "bar",
         "x": [
          0.003694428058308787,
          0.008499754903951193,
          0.016905629173103887,
          0.030714849309637804,
          0.08445904883000857,
          0.291075076459152
         ],
         "xaxis": "x",
         "y": [
          "Sex = Female",
          "Race = White",
          "Country = United-States",
          "Age = Aged",
          "Education = Bachelors",
          "Relationship = Married"
         ],
         "yaxis": "y"
        },
        {
         "alignmentgroup": "True",
         "hovertemplate": "Positive=False<br>Importance scores=%{x}<br>Features=%{y}<extra></extra>",
         "legendgroup": "False",
         "marker": {
          "color": "#DC143C",
          "pattern": {
           "shape": ""
          }
         },
         "name": "False",
         "offsetgroup": "False",
         "orientation": "h",
         "showlegend": true,
         "textposition": "auto",
         "type": "bar",
         "x": [
          -0.013049319079601857,
          -0.01686265828187668,
          -0.09921758371743764,
          -0.4962916814121711
         ],
         "xaxis": "x",
         "y": [
          "Workclass = Private",
          "Hours per week = FullTime",
          "Capital Loss = 0",
          "Capital Gain = 0"
         ],
         "yaxis": "y"
        }
       ],
       "layout": {
        "barmode": "relative",
        "legend": {
         "title": {
          "text": "Positive"
         },
         "tracegroupgap": 0
        },
        "template": {
         "data": {
          "bar": [
           {
            "error_x": {
             "color": "#2a3f5f"
            },
            "error_y": {
             "color": "#2a3f5f"
            },
            "marker": {
             "line": {
              "color": "#E5ECF6",
              "width": 0.5
             },
             "pattern": {
              "fillmode": "overlay",
              "size": 10,
              "solidity": 0.2
             }
            },
            "type": "bar"
           }
          ],
          "barpolar": [
           {
            "marker": {
             "line": {
              "color": "#E5ECF6",
              "width": 0.5
             },
             "pattern": {
              "fillmode": "overlay",
              "size": 10,
              "solidity": 0.2
             }
            },
            "type": "barpolar"
           }
          ],
          "carpet": [
           {
            "aaxis": {
             "endlinecolor": "#2a3f5f",
             "gridcolor": "white",
             "linecolor": "white",
             "minorgridcolor": "white",
             "startlinecolor": "#2a3f5f"
            },
            "baxis": {
             "endlinecolor": "#2a3f5f",
             "gridcolor": "white",
             "linecolor": "white",
             "minorgridcolor": "white",
             "startlinecolor": "#2a3f5f"
            },
            "type": "carpet"
           }
          ],
          "choropleth": [
           {
            "colorbar": {
             "outlinewidth": 0,
             "ticks": ""
            },
            "type": "choropleth"
           }
          ],
          "contour": [
           {
            "colorbar": {
             "outlinewidth": 0,
             "ticks": ""
            },
            "colorscale": [
             [
              0,
              "#0d0887"
             ],
             [
              0.1111111111111111,
              "#46039f"
             ],
             [
              0.2222222222222222,
              "#7201a8"
             ],
             [
              0.3333333333333333,
              "#9c179e"
             ],
             [
              0.4444444444444444,
              "#bd3786"
             ],
             [
              0.5555555555555556,
              "#d8576b"
             ],
             [
              0.6666666666666666,
              "#ed7953"
             ],
             [
              0.7777777777777778,
              "#fb9f3a"
             ],
             [
              0.8888888888888888,
              "#fdca26"
             ],
             [
              1,
              "#f0f921"
             ]
            ],
            "type": "contour"
           }
          ],
          "contourcarpet": [
           {
            "colorbar": {
             "outlinewidth": 0,
             "ticks": ""
            },
            "type": "contourcarpet"
           }
          ],
          "heatmap": [
           {
            "colorbar": {
             "outlinewidth": 0,
             "ticks": ""
            },
            "colorscale": [
             [
              0,
              "#0d0887"
             ],
             [
              0.1111111111111111,
              "#46039f"
             ],
             [
              0.2222222222222222,
              "#7201a8"
             ],
             [
              0.3333333333333333,
              "#9c179e"
             ],
             [
              0.4444444444444444,
              "#bd3786"
             ],
             [
              0.5555555555555556,
              "#d8576b"
             ],
             [
              0.6666666666666666,
              "#ed7953"
             ],
             [
              0.7777777777777778,
              "#fb9f3a"
             ],
             [
              0.8888888888888888,
              "#fdca26"
             ],
             [
              1,
              "#f0f921"
             ]
            ],
            "type": "heatmap"
           }
          ],
          "heatmapgl": [
           {
            "colorbar": {
             "outlinewidth": 0,
             "ticks": ""
            },
            "colorscale": [
             [
              0,
              "#0d0887"
             ],
             [
              0.1111111111111111,
              "#46039f"
             ],
             [
              0.2222222222222222,
              "#7201a8"
             ],
             [
              0.3333333333333333,
              "#9c179e"
             ],
             [
              0.4444444444444444,
              "#bd3786"
             ],
             [
              0.5555555555555556,
              "#d8576b"
             ],
             [
              0.6666666666666666,
              "#ed7953"
             ],
             [
              0.7777777777777778,
              "#fb9f3a"
             ],
             [
              0.8888888888888888,
              "#fdca26"
             ],
             [
              1,
              "#f0f921"
             ]
            ],
            "type": "heatmapgl"
           }
          ],
          "histogram": [
           {
            "marker": {
             "pattern": {
              "fillmode": "overlay",
              "size": 10,
              "solidity": 0.2
             }
            },
            "type": "histogram"
           }
          ],
          "histogram2d": [
           {
            "colorbar": {
             "outlinewidth": 0,
             "ticks": ""
            },
            "colorscale": [
             [
              0,
              "#0d0887"
             ],
             [
              0.1111111111111111,
              "#46039f"
             ],
             [
              0.2222222222222222,
              "#7201a8"
             ],
             [
              0.3333333333333333,
              "#9c179e"
             ],
             [
              0.4444444444444444,
              "#bd3786"
             ],
             [
              0.5555555555555556,
              "#d8576b"
             ],
             [
              0.6666666666666666,
              "#ed7953"
             ],
             [
              0.7777777777777778,
              "#fb9f3a"
             ],
             [
              0.8888888888888888,
              "#fdca26"
             ],
             [
              1,
              "#f0f921"
             ]
            ],
            "type": "histogram2d"
           }
          ],
          "histogram2dcontour": [
           {
            "colorbar": {
             "outlinewidth": 0,
             "ticks": ""
            },
            "colorscale": [
             [
              0,
              "#0d0887"
             ],
             [
              0.1111111111111111,
              "#46039f"
             ],
             [
              0.2222222222222222,
              "#7201a8"
             ],
             [
              0.3333333333333333,
              "#9c179e"
             ],
             [
              0.4444444444444444,
              "#bd3786"
             ],
             [
              0.5555555555555556,
              "#d8576b"
             ],
             [
              0.6666666666666666,
              "#ed7953"
             ],
             [
              0.7777777777777778,
              "#fb9f3a"
             ],
             [
              0.8888888888888888,
              "#fdca26"
             ],
             [
              1,
              "#f0f921"
             ]
            ],
            "type": "histogram2dcontour"
           }
          ],
          "mesh3d": [
           {
            "colorbar": {
             "outlinewidth": 0,
             "ticks": ""
            },
            "type": "mesh3d"
           }
          ],
          "parcoords": [
           {
            "line": {
             "colorbar": {
              "outlinewidth": 0,
              "ticks": ""
             }
            },
            "type": "parcoords"
           }
          ],
          "pie": [
           {
            "automargin": true,
            "type": "pie"
           }
          ],
          "scatter": [
           {
            "fillpattern": {
             "fillmode": "overlay",
             "size": 10,
             "solidity": 0.2
            },
            "type": "scatter"
           }
          ],
          "scatter3d": [
           {
            "line": {
             "colorbar": {
              "outlinewidth": 0,
              "ticks": ""
             }
            },
            "marker": {
             "colorbar": {
              "outlinewidth": 0,
              "ticks": ""
             }
            },
            "type": "scatter3d"
           }
          ],
          "scattercarpet": [
           {
            "marker": {
             "colorbar": {
              "outlinewidth": 0,
              "ticks": ""
             }
            },
            "type": "scattercarpet"
           }
          ],
          "scattergeo": [
           {
            "marker": {
             "colorbar": {
              "outlinewidth": 0,
              "ticks": ""
             }
            },
            "type": "scattergeo"
           }
          ],
          "scattergl": [
           {
            "marker": {
             "colorbar": {
              "outlinewidth": 0,
              "ticks": ""
             }
            },
            "type": "scattergl"
           }
          ],
          "scattermapbox": [
           {
            "marker": {
             "colorbar": {
              "outlinewidth": 0,
              "ticks": ""
             }
            },
            "type": "scattermapbox"
           }
          ],
          "scatterpolar": [
           {
            "marker": {
             "colorbar": {
              "outlinewidth": 0,
              "ticks": ""
             }
            },
            "type": "scatterpolar"
           }
          ],
          "scatterpolargl": [
           {
            "marker": {
             "colorbar": {
              "outlinewidth": 0,
              "ticks": ""
             }
            },
            "type": "scatterpolargl"
           }
          ],
          "scatterternary": [
           {
            "marker": {
             "colorbar": {
              "outlinewidth": 0,
              "ticks": ""
             }
            },
            "type": "scatterternary"
           }
          ],
          "surface": [
           {
            "colorbar": {
             "outlinewidth": 0,
             "ticks": ""
            },
            "colorscale": [
             [
              0,
              "#0d0887"
             ],
             [
              0.1111111111111111,
              "#46039f"
             ],
             [
              0.2222222222222222,
              "#7201a8"
             ],
             [
              0.3333333333333333,
              "#9c179e"
             ],
             [
              0.4444444444444444,
              "#bd3786"
             ],
             [
              0.5555555555555556,
              "#d8576b"
             ],
             [
              0.6666666666666666,
              "#ed7953"
             ],
             [
              0.7777777777777778,
              "#fb9f3a"
             ],
             [
              0.8888888888888888,
              "#fdca26"
             ],
             [
              1,
              "#f0f921"
             ]
            ],
            "type": "surface"
           }
          ],
          "table": [
           {
            "cells": {
             "fill": {
              "color": "#EBF0F8"
             },
             "line": {
              "color": "white"
             }
            },
            "header": {
             "fill": {
              "color": "#C8D4E3"
             },
             "line": {
              "color": "white"
             }
            },
            "type": "table"
           }
          ]
         },
         "layout": {
          "annotationdefaults": {
           "arrowcolor": "#2a3f5f",
           "arrowhead": 0,
           "arrowwidth": 1
          },
          "autotypenumbers": "strict",
          "coloraxis": {
           "colorbar": {
            "outlinewidth": 0,
            "ticks": ""
           }
          },
          "colorscale": {
           "diverging": [
            [
             0,
             "#8e0152"
            ],
            [
             0.1,
             "#c51b7d"
            ],
            [
             0.2,
             "#de77ae"
            ],
            [
             0.3,
             "#f1b6da"
            ],
            [
             0.4,
             "#fde0ef"
            ],
            [
             0.5,
             "#f7f7f7"
            ],
            [
             0.6,
             "#e6f5d0"
            ],
            [
             0.7,
             "#b8e186"
            ],
            [
             0.8,
             "#7fbc41"
            ],
            [
             0.9,
             "#4d9221"
            ],
            [
             1,
             "#276419"
            ]
           ],
           "sequential": [
            [
             0,
             "#0d0887"
            ],
            [
             0.1111111111111111,
             "#46039f"
            ],
            [
             0.2222222222222222,
             "#7201a8"
            ],
            [
             0.3333333333333333,
             "#9c179e"
            ],
            [
             0.4444444444444444,
             "#bd3786"
            ],
            [
             0.5555555555555556,
             "#d8576b"
            ],
            [
             0.6666666666666666,
             "#ed7953"
            ],
            [
             0.7777777777777778,
             "#fb9f3a"
            ],
            [
             0.8888888888888888,
             "#fdca26"
            ],
            [
             1,
             "#f0f921"
            ]
           ],
           "sequentialminus": [
            [
             0,
             "#0d0887"
            ],
            [
             0.1111111111111111,
             "#46039f"
            ],
            [
             0.2222222222222222,
             "#7201a8"
            ],
            [
             0.3333333333333333,
             "#9c179e"
            ],
            [
             0.4444444444444444,
             "#bd3786"
            ],
            [
             0.5555555555555556,
             "#d8576b"
            ],
            [
             0.6666666666666666,
             "#ed7953"
            ],
            [
             0.7777777777777778,
             "#fb9f3a"
            ],
            [
             0.8888888888888888,
             "#fdca26"
            ],
            [
             1,
             "#f0f921"
            ]
           ]
          },
          "colorway": [
           "#636efa",
           "#EF553B",
           "#00cc96",
           "#ab63fa",
           "#FFA15A",
           "#19d3f3",
           "#FF6692",
           "#B6E880",
           "#FF97FF",
           "#FECB52"
          ],
          "font": {
           "color": "#2a3f5f"
          },
          "geo": {
           "bgcolor": "white",
           "lakecolor": "white",
           "landcolor": "#E5ECF6",
           "showlakes": true,
           "showland": true,
           "subunitcolor": "white"
          },
          "hoverlabel": {
           "align": "left"
          },
          "hovermode": "closest",
          "mapbox": {
           "style": "light"
          },
          "paper_bgcolor": "white",
          "plot_bgcolor": "#E5ECF6",
          "polar": {
           "angularaxis": {
            "gridcolor": "white",
            "linecolor": "white",
            "ticks": ""
           },
           "bgcolor": "#E5ECF6",
           "radialaxis": {
            "gridcolor": "white",
            "linecolor": "white",
            "ticks": ""
           }
          },
          "scene": {
           "xaxis": {
            "backgroundcolor": "#E5ECF6",
            "gridcolor": "white",
            "gridwidth": 2,
            "linecolor": "white",
            "showbackground": true,
            "ticks": "",
            "zerolinecolor": "white"
           },
           "yaxis": {
            "backgroundcolor": "#E5ECF6",
            "gridcolor": "white",
            "gridwidth": 2,
            "linecolor": "white",
            "showbackground": true,
            "ticks": "",
            "zerolinecolor": "white"
           },
           "zaxis": {
            "backgroundcolor": "#E5ECF6",
            "gridcolor": "white",
            "gridwidth": 2,
            "linecolor": "white",
            "showbackground": true,
            "ticks": "",
            "zerolinecolor": "white"
           }
          },
          "shapedefaults": {
           "line": {
            "color": "#2a3f5f"
           }
          },
          "ternary": {
           "aaxis": {
            "gridcolor": "white",
            "linecolor": "white",
            "ticks": ""
           },
           "baxis": {
            "gridcolor": "white",
            "linecolor": "white",
            "ticks": ""
           },
           "bgcolor": "#E5ECF6",
           "caxis": {
            "gridcolor": "white",
            "linecolor": "white",
            "ticks": ""
           }
          },
          "title": {
           "x": 0.05
          },
          "xaxis": {
           "automargin": true,
           "gridcolor": "white",
           "linecolor": "white",
           "ticks": "",
           "title": {
            "standoff": 15
           },
           "zerolinecolor": "white",
           "zerolinewidth": 2
          },
          "yaxis": {
           "automargin": true,
           "gridcolor": "white",
           "linecolor": "white",
           "ticks": "",
           "title": {
            "standoff": 15
           },
           "zerolinecolor": "white",
           "zerolinewidth": 2
          }
         }
        },
        "title": {
         "text": "Label: Class 1"
        },
        "xaxis": {
         "anchor": "y",
         "domain": [
          0,
          1
         ],
         "title": {
          "text": "Importance scores"
         }
        },
        "yaxis": {
         "anchor": "x",
         "domain": [
          0,
          1
         ],
         "title": {
          "text": "Features"
         }
        }
       }
      },
      "text/html": [
       "<div>                            <div id=\"87112d97-a828-439f-9974-ce630ec00cb0\" class=\"plotly-graph-div\" style=\"height:525px; width:100%;\"></div>            <script type=\"text/javascript\">                require([\"plotly\"], function(Plotly) {                    window.PLOTLYENV=window.PLOTLYENV || {};                                    if (document.getElementById(\"87112d97-a828-439f-9974-ce630ec00cb0\")) {                    Plotly.newPlot(                        \"87112d97-a828-439f-9974-ce630ec00cb0\",                        [{\"alignmentgroup\":\"True\",\"hovertemplate\":\"Positive=True\\u003cbr\\u003eImportance scores=%{x}\\u003cbr\\u003eFeatures=%{y}\\u003cextra\\u003e\\u003c\\u002fextra\\u003e\",\"legendgroup\":\"True\",\"marker\":{\"color\":\"#008B8B\",\"pattern\":{\"shape\":\"\"}},\"name\":\"True\",\"offsetgroup\":\"True\",\"orientation\":\"h\",\"showlegend\":true,\"textposition\":\"auto\",\"x\":[0.003694428058308787,0.008499754903951193,0.016905629173103887,0.030714849309637804,0.08445904883000857,0.291075076459152],\"xaxis\":\"x\",\"y\":[\"Sex = Female\",\"Race = White\",\"Country = United-States\",\"Age = Aged\",\"Education = Bachelors\",\"Relationship = Married\"],\"yaxis\":\"y\",\"type\":\"bar\"},{\"alignmentgroup\":\"True\",\"hovertemplate\":\"Positive=False\\u003cbr\\u003eImportance scores=%{x}\\u003cbr\\u003eFeatures=%{y}\\u003cextra\\u003e\\u003c\\u002fextra\\u003e\",\"legendgroup\":\"False\",\"marker\":{\"color\":\"#DC143C\",\"pattern\":{\"shape\":\"\"}},\"name\":\"False\",\"offsetgroup\":\"False\",\"orientation\":\"h\",\"showlegend\":true,\"textposition\":\"auto\",\"x\":[-0.013049319079601857,-0.01686265828187668,-0.09921758371743764,-0.4962916814121711],\"xaxis\":\"x\",\"y\":[\"Workclass = Private\",\"Hours per week = FullTime\",\"Capital Loss = 0\",\"Capital Gain = 0\"],\"yaxis\":\"y\",\"type\":\"bar\"}],                        {\"barmode\":\"relative\",\"legend\":{\"title\":{\"text\":\"Positive\"},\"tracegroupgap\":0},\"template\":{\"data\":{\"barpolar\":[{\"marker\":{\"line\":{\"color\":\"#E5ECF6\",\"width\":0.5},\"pattern\":{\"fillmode\":\"overlay\",\"size\":10,\"solidity\":0.2}},\"type\":\"barpolar\"}],\"bar\":[{\"error_x\":{\"color\":\"#2a3f5f\"},\"error_y\":{\"color\":\"#2a3f5f\"},\"marker\":{\"line\":{\"color\":\"#E5ECF6\",\"width\":0.5},\"pattern\":{\"fillmode\":\"overlay\",\"size\":10,\"solidity\":0.2}},\"type\":\"bar\"}],\"carpet\":[{\"aaxis\":{\"endlinecolor\":\"#2a3f5f\",\"gridcolor\":\"white\",\"linecolor\":\"white\",\"minorgridcolor\":\"white\",\"startlinecolor\":\"#2a3f5f\"},\"baxis\":{\"endlinecolor\":\"#2a3f5f\",\"gridcolor\":\"white\",\"linecolor\":\"white\",\"minorgridcolor\":\"white\",\"startlinecolor\":\"#2a3f5f\"},\"type\":\"carpet\"}],\"choropleth\":[{\"colorbar\":{\"outlinewidth\":0,\"ticks\":\"\"},\"type\":\"choropleth\"}],\"contourcarpet\":[{\"colorbar\":{\"outlinewidth\":0,\"ticks\":\"\"},\"type\":\"contourcarpet\"}],\"contour\":[{\"colorbar\":{\"outlinewidth\":0,\"ticks\":\"\"},\"colorscale\":[[0.0,\"#0d0887\"],[0.1111111111111111,\"#46039f\"],[0.2222222222222222,\"#7201a8\"],[0.3333333333333333,\"#9c179e\"],[0.4444444444444444,\"#bd3786\"],[0.5555555555555556,\"#d8576b\"],[0.6666666666666666,\"#ed7953\"],[0.7777777777777778,\"#fb9f3a\"],[0.8888888888888888,\"#fdca26\"],[1.0,\"#f0f921\"]],\"type\":\"contour\"}],\"heatmapgl\":[{\"colorbar\":{\"outlinewidth\":0,\"ticks\":\"\"},\"colorscale\":[[0.0,\"#0d0887\"],[0.1111111111111111,\"#46039f\"],[0.2222222222222222,\"#7201a8\"],[0.3333333333333333,\"#9c179e\"],[0.4444444444444444,\"#bd3786\"],[0.5555555555555556,\"#d8576b\"],[0.6666666666666666,\"#ed7953\"],[0.7777777777777778,\"#fb9f3a\"],[0.8888888888888888,\"#fdca26\"],[1.0,\"#f0f921\"]],\"type\":\"heatmapgl\"}],\"heatmap\":[{\"colorbar\":{\"outlinewidth\":0,\"ticks\":\"\"},\"colorscale\":[[0.0,\"#0d0887\"],[0.1111111111111111,\"#46039f\"],[0.2222222222222222,\"#7201a8\"],[0.3333333333333333,\"#9c179e\"],[0.4444444444444444,\"#bd3786\"],[0.5555555555555556,\"#d8576b\"],[0.6666666666666666,\"#ed7953\"],[0.7777777777777778,\"#fb9f3a\"],[0.8888888888888888,\"#fdca26\"],[1.0,\"#f0f921\"]],\"type\":\"heatmap\"}],\"histogram2dcontour\":[{\"colorbar\":{\"outlinewidth\":0,\"ticks\":\"\"},\"colorscale\":[[0.0,\"#0d0887\"],[0.1111111111111111,\"#46039f\"],[0.2222222222222222,\"#7201a8\"],[0.3333333333333333,\"#9c179e\"],[0.4444444444444444,\"#bd3786\"],[0.5555555555555556,\"#d8576b\"],[0.6666666666666666,\"#ed7953\"],[0.7777777777777778,\"#fb9f3a\"],[0.8888888888888888,\"#fdca26\"],[1.0,\"#f0f921\"]],\"type\":\"histogram2dcontour\"}],\"histogram2d\":[{\"colorbar\":{\"outlinewidth\":0,\"ticks\":\"\"},\"colorscale\":[[0.0,\"#0d0887\"],[0.1111111111111111,\"#46039f\"],[0.2222222222222222,\"#7201a8\"],[0.3333333333333333,\"#9c179e\"],[0.4444444444444444,\"#bd3786\"],[0.5555555555555556,\"#d8576b\"],[0.6666666666666666,\"#ed7953\"],[0.7777777777777778,\"#fb9f3a\"],[0.8888888888888888,\"#fdca26\"],[1.0,\"#f0f921\"]],\"type\":\"histogram2d\"}],\"histogram\":[{\"marker\":{\"pattern\":{\"fillmode\":\"overlay\",\"size\":10,\"solidity\":0.2}},\"type\":\"histogram\"}],\"mesh3d\":[{\"colorbar\":{\"outlinewidth\":0,\"ticks\":\"\"},\"type\":\"mesh3d\"}],\"parcoords\":[{\"line\":{\"colorbar\":{\"outlinewidth\":0,\"ticks\":\"\"}},\"type\":\"parcoords\"}],\"pie\":[{\"automargin\":true,\"type\":\"pie\"}],\"scatter3d\":[{\"line\":{\"colorbar\":{\"outlinewidth\":0,\"ticks\":\"\"}},\"marker\":{\"colorbar\":{\"outlinewidth\":0,\"ticks\":\"\"}},\"type\":\"scatter3d\"}],\"scattercarpet\":[{\"marker\":{\"colorbar\":{\"outlinewidth\":0,\"ticks\":\"\"}},\"type\":\"scattercarpet\"}],\"scattergeo\":[{\"marker\":{\"colorbar\":{\"outlinewidth\":0,\"ticks\":\"\"}},\"type\":\"scattergeo\"}],\"scattergl\":[{\"marker\":{\"colorbar\":{\"outlinewidth\":0,\"ticks\":\"\"}},\"type\":\"scattergl\"}],\"scattermapbox\":[{\"marker\":{\"colorbar\":{\"outlinewidth\":0,\"ticks\":\"\"}},\"type\":\"scattermapbox\"}],\"scatterpolargl\":[{\"marker\":{\"colorbar\":{\"outlinewidth\":0,\"ticks\":\"\"}},\"type\":\"scatterpolargl\"}],\"scatterpolar\":[{\"marker\":{\"colorbar\":{\"outlinewidth\":0,\"ticks\":\"\"}},\"type\":\"scatterpolar\"}],\"scatter\":[{\"fillpattern\":{\"fillmode\":\"overlay\",\"size\":10,\"solidity\":0.2},\"type\":\"scatter\"}],\"scatterternary\":[{\"marker\":{\"colorbar\":{\"outlinewidth\":0,\"ticks\":\"\"}},\"type\":\"scatterternary\"}],\"surface\":[{\"colorbar\":{\"outlinewidth\":0,\"ticks\":\"\"},\"colorscale\":[[0.0,\"#0d0887\"],[0.1111111111111111,\"#46039f\"],[0.2222222222222222,\"#7201a8\"],[0.3333333333333333,\"#9c179e\"],[0.4444444444444444,\"#bd3786\"],[0.5555555555555556,\"#d8576b\"],[0.6666666666666666,\"#ed7953\"],[0.7777777777777778,\"#fb9f3a\"],[0.8888888888888888,\"#fdca26\"],[1.0,\"#f0f921\"]],\"type\":\"surface\"}],\"table\":[{\"cells\":{\"fill\":{\"color\":\"#EBF0F8\"},\"line\":{\"color\":\"white\"}},\"header\":{\"fill\":{\"color\":\"#C8D4E3\"},\"line\":{\"color\":\"white\"}},\"type\":\"table\"}]},\"layout\":{\"annotationdefaults\":{\"arrowcolor\":\"#2a3f5f\",\"arrowhead\":0,\"arrowwidth\":1},\"autotypenumbers\":\"strict\",\"coloraxis\":{\"colorbar\":{\"outlinewidth\":0,\"ticks\":\"\"}},\"colorscale\":{\"diverging\":[[0,\"#8e0152\"],[0.1,\"#c51b7d\"],[0.2,\"#de77ae\"],[0.3,\"#f1b6da\"],[0.4,\"#fde0ef\"],[0.5,\"#f7f7f7\"],[0.6,\"#e6f5d0\"],[0.7,\"#b8e186\"],[0.8,\"#7fbc41\"],[0.9,\"#4d9221\"],[1,\"#276419\"]],\"sequential\":[[0.0,\"#0d0887\"],[0.1111111111111111,\"#46039f\"],[0.2222222222222222,\"#7201a8\"],[0.3333333333333333,\"#9c179e\"],[0.4444444444444444,\"#bd3786\"],[0.5555555555555556,\"#d8576b\"],[0.6666666666666666,\"#ed7953\"],[0.7777777777777778,\"#fb9f3a\"],[0.8888888888888888,\"#fdca26\"],[1.0,\"#f0f921\"]],\"sequentialminus\":[[0.0,\"#0d0887\"],[0.1111111111111111,\"#46039f\"],[0.2222222222222222,\"#7201a8\"],[0.3333333333333333,\"#9c179e\"],[0.4444444444444444,\"#bd3786\"],[0.5555555555555556,\"#d8576b\"],[0.6666666666666666,\"#ed7953\"],[0.7777777777777778,\"#fb9f3a\"],[0.8888888888888888,\"#fdca26\"],[1.0,\"#f0f921\"]]},\"colorway\":[\"#636efa\",\"#EF553B\",\"#00cc96\",\"#ab63fa\",\"#FFA15A\",\"#19d3f3\",\"#FF6692\",\"#B6E880\",\"#FF97FF\",\"#FECB52\"],\"font\":{\"color\":\"#2a3f5f\"},\"geo\":{\"bgcolor\":\"white\",\"lakecolor\":\"white\",\"landcolor\":\"#E5ECF6\",\"showlakes\":true,\"showland\":true,\"subunitcolor\":\"white\"},\"hoverlabel\":{\"align\":\"left\"},\"hovermode\":\"closest\",\"mapbox\":{\"style\":\"light\"},\"paper_bgcolor\":\"white\",\"plot_bgcolor\":\"#E5ECF6\",\"polar\":{\"angularaxis\":{\"gridcolor\":\"white\",\"linecolor\":\"white\",\"ticks\":\"\"},\"bgcolor\":\"#E5ECF6\",\"radialaxis\":{\"gridcolor\":\"white\",\"linecolor\":\"white\",\"ticks\":\"\"}},\"scene\":{\"xaxis\":{\"backgroundcolor\":\"#E5ECF6\",\"gridcolor\":\"white\",\"gridwidth\":2,\"linecolor\":\"white\",\"showbackground\":true,\"ticks\":\"\",\"zerolinecolor\":\"white\"},\"yaxis\":{\"backgroundcolor\":\"#E5ECF6\",\"gridcolor\":\"white\",\"gridwidth\":2,\"linecolor\":\"white\",\"showbackground\":true,\"ticks\":\"\",\"zerolinecolor\":\"white\"},\"zaxis\":{\"backgroundcolor\":\"#E5ECF6\",\"gridcolor\":\"white\",\"gridwidth\":2,\"linecolor\":\"white\",\"showbackground\":true,\"ticks\":\"\",\"zerolinecolor\":\"white\"}},\"shapedefaults\":{\"line\":{\"color\":\"#2a3f5f\"}},\"ternary\":{\"aaxis\":{\"gridcolor\":\"white\",\"linecolor\":\"white\",\"ticks\":\"\"},\"baxis\":{\"gridcolor\":\"white\",\"linecolor\":\"white\",\"ticks\":\"\"},\"bgcolor\":\"#E5ECF6\",\"caxis\":{\"gridcolor\":\"white\",\"linecolor\":\"white\",\"ticks\":\"\"}},\"title\":{\"x\":0.05},\"xaxis\":{\"automargin\":true,\"gridcolor\":\"white\",\"linecolor\":\"white\",\"ticks\":\"\",\"title\":{\"standoff\":15},\"zerolinecolor\":\"white\",\"zerolinewidth\":2},\"yaxis\":{\"automargin\":true,\"gridcolor\":\"white\",\"linecolor\":\"white\",\"ticks\":\"\",\"title\":{\"standoff\":15},\"zerolinecolor\":\"white\",\"zerolinewidth\":2}}},\"title\":{\"text\":\"Label: Class 1\"},\"xaxis\":{\"anchor\":\"y\",\"domain\":[0.0,1.0],\"title\":{\"text\":\"Importance scores\"}},\"yaxis\":{\"anchor\":\"x\",\"domain\":[0.0,1.0],\"title\":{\"text\":\"Features\"}}},                        {\"responsive\": true}                    ).then(function(){\n",
       "                            \n",
       "var gd = document.getElementById('87112d97-a828-439f-9974-ce630ec00cb0');\n",
       "var x = new MutationObserver(function (mutations, observer) {{\n",
       "        var display = window.getComputedStyle(gd).display;\n",
       "        if (!display || display === 'none') {{\n",
       "            console.log([gd, 'removed!']);\n",
       "            Plotly.purge(gd);\n",
       "            observer.disconnect();\n",
       "        }}\n",
       "}});\n",
       "\n",
       "// Listen for the removal of the full notebook cells\n",
       "var notebookContainer = gd.closest('#notebook-container');\n",
       "if (notebookContainer) {{\n",
       "    x.observe(notebookContainer, {childList: true});\n",
       "}}\n",
       "\n",
       "// Listen for the clearing of the current output cell\n",
       "var outputEl = gd.closest('.output');\n",
       "if (outputEl) {{\n",
       "    x.observe(outputEl, {childList: true});\n",
       "}}\n",
       "\n",
       "                        })                };                });            </script>        </div>"
      ]
     },
     "metadata": {},
     "output_type": "display_data"
    },
    {
     "name": "stdout",
     "output_type": "stream",
     "text": [
      "-./-./-./-./-./-./-./-./-./-./-./-./-./-./-./-./-./-./-./-./-./-./-./-./-./-./-./-./-./-./-./-./-./-./-./-./-./-./-./-./-./-./-./-./-./-./-./-./-./-./\n",
      "\n",
      "\n",
      "incorrect prediction for true label=1, and the model is highly confident\n",
      "Instance 696 has label 1 and prediction 0.0, with probs [0.98833333 0.01166667]\n"
     ]
    },
    {
     "data": {
      "application/vnd.plotly.v1+json": {
       "config": {
        "linkText": "Export to plot.ly",
        "plotlyServerURL": "https://plot.ly",
        "showLink": false
       },
       "data": [
        {
         "alignmentgroup": "True",
         "hovertemplate": "Positive=True<br>Importance scores=%{x}<br>Features=%{y}<extra></extra>",
         "legendgroup": "True",
         "marker": {
          "color": "#008B8B",
          "pattern": {
           "shape": ""
          }
         },
         "name": "True",
         "offsetgroup": "True",
         "orientation": "h",
         "showlegend": true,
         "textposition": "auto",
         "type": "bar",
         "x": [
          0.015196582732911315,
          0.028722222110489627,
          0.0367597574173688,
          0.059404472933303934,
          0.09908579252409261,
          0.11113911021434819,
          0.4752248069073501
         ],
         "xaxis": "x",
         "y": [
          "Race = Black",
          "Workclass = Private",
          "Hours per week = MidTime",
          "Education = 11th",
          "Occupation = Other-service",
          "Capital Loss = 0",
          "Capital Gain = 0"
         ],
         "yaxis": "y"
        },
        {
         "alignmentgroup": "True",
         "hovertemplate": "Positive=False<br>Importance scores=%{x}<br>Features=%{y}<extra></extra>",
         "legendgroup": "False",
         "marker": {
          "color": "#DC143C",
          "pattern": {
           "shape": ""
          }
         },
         "name": "False",
         "offsetgroup": "False",
         "orientation": "h",
         "showlegend": true,
         "textposition": "auto",
         "type": "bar",
         "x": [
          -0.02069208407309859,
          -0.029122123768364778,
          -0.28847883422528575
         ],
         "xaxis": "x",
         "y": [
          "Country = United-States",
          "Age = Aged",
          "Relationship = Married"
         ],
         "yaxis": "y"
        }
       ],
       "layout": {
        "barmode": "relative",
        "legend": {
         "title": {
          "text": "Positive"
         },
         "tracegroupgap": 0
        },
        "template": {
         "data": {
          "bar": [
           {
            "error_x": {
             "color": "#2a3f5f"
            },
            "error_y": {
             "color": "#2a3f5f"
            },
            "marker": {
             "line": {
              "color": "#E5ECF6",
              "width": 0.5
             },
             "pattern": {
              "fillmode": "overlay",
              "size": 10,
              "solidity": 0.2
             }
            },
            "type": "bar"
           }
          ],
          "barpolar": [
           {
            "marker": {
             "line": {
              "color": "#E5ECF6",
              "width": 0.5
             },
             "pattern": {
              "fillmode": "overlay",
              "size": 10,
              "solidity": 0.2
             }
            },
            "type": "barpolar"
           }
          ],
          "carpet": [
           {
            "aaxis": {
             "endlinecolor": "#2a3f5f",
             "gridcolor": "white",
             "linecolor": "white",
             "minorgridcolor": "white",
             "startlinecolor": "#2a3f5f"
            },
            "baxis": {
             "endlinecolor": "#2a3f5f",
             "gridcolor": "white",
             "linecolor": "white",
             "minorgridcolor": "white",
             "startlinecolor": "#2a3f5f"
            },
            "type": "carpet"
           }
          ],
          "choropleth": [
           {
            "colorbar": {
             "outlinewidth": 0,
             "ticks": ""
            },
            "type": "choropleth"
           }
          ],
          "contour": [
           {
            "colorbar": {
             "outlinewidth": 0,
             "ticks": ""
            },
            "colorscale": [
             [
              0,
              "#0d0887"
             ],
             [
              0.1111111111111111,
              "#46039f"
             ],
             [
              0.2222222222222222,
              "#7201a8"
             ],
             [
              0.3333333333333333,
              "#9c179e"
             ],
             [
              0.4444444444444444,
              "#bd3786"
             ],
             [
              0.5555555555555556,
              "#d8576b"
             ],
             [
              0.6666666666666666,
              "#ed7953"
             ],
             [
              0.7777777777777778,
              "#fb9f3a"
             ],
             [
              0.8888888888888888,
              "#fdca26"
             ],
             [
              1,
              "#f0f921"
             ]
            ],
            "type": "contour"
           }
          ],
          "contourcarpet": [
           {
            "colorbar": {
             "outlinewidth": 0,
             "ticks": ""
            },
            "type": "contourcarpet"
           }
          ],
          "heatmap": [
           {
            "colorbar": {
             "outlinewidth": 0,
             "ticks": ""
            },
            "colorscale": [
             [
              0,
              "#0d0887"
             ],
             [
              0.1111111111111111,
              "#46039f"
             ],
             [
              0.2222222222222222,
              "#7201a8"
             ],
             [
              0.3333333333333333,
              "#9c179e"
             ],
             [
              0.4444444444444444,
              "#bd3786"
             ],
             [
              0.5555555555555556,
              "#d8576b"
             ],
             [
              0.6666666666666666,
              "#ed7953"
             ],
             [
              0.7777777777777778,
              "#fb9f3a"
             ],
             [
              0.8888888888888888,
              "#fdca26"
             ],
             [
              1,
              "#f0f921"
             ]
            ],
            "type": "heatmap"
           }
          ],
          "heatmapgl": [
           {
            "colorbar": {
             "outlinewidth": 0,
             "ticks": ""
            },
            "colorscale": [
             [
              0,
              "#0d0887"
             ],
             [
              0.1111111111111111,
              "#46039f"
             ],
             [
              0.2222222222222222,
              "#7201a8"
             ],
             [
              0.3333333333333333,
              "#9c179e"
             ],
             [
              0.4444444444444444,
              "#bd3786"
             ],
             [
              0.5555555555555556,
              "#d8576b"
             ],
             [
              0.6666666666666666,
              "#ed7953"
             ],
             [
              0.7777777777777778,
              "#fb9f3a"
             ],
             [
              0.8888888888888888,
              "#fdca26"
             ],
             [
              1,
              "#f0f921"
             ]
            ],
            "type": "heatmapgl"
           }
          ],
          "histogram": [
           {
            "marker": {
             "pattern": {
              "fillmode": "overlay",
              "size": 10,
              "solidity": 0.2
             }
            },
            "type": "histogram"
           }
          ],
          "histogram2d": [
           {
            "colorbar": {
             "outlinewidth": 0,
             "ticks": ""
            },
            "colorscale": [
             [
              0,
              "#0d0887"
             ],
             [
              0.1111111111111111,
              "#46039f"
             ],
             [
              0.2222222222222222,
              "#7201a8"
             ],
             [
              0.3333333333333333,
              "#9c179e"
             ],
             [
              0.4444444444444444,
              "#bd3786"
             ],
             [
              0.5555555555555556,
              "#d8576b"
             ],
             [
              0.6666666666666666,
              "#ed7953"
             ],
             [
              0.7777777777777778,
              "#fb9f3a"
             ],
             [
              0.8888888888888888,
              "#fdca26"
             ],
             [
              1,
              "#f0f921"
             ]
            ],
            "type": "histogram2d"
           }
          ],
          "histogram2dcontour": [
           {
            "colorbar": {
             "outlinewidth": 0,
             "ticks": ""
            },
            "colorscale": [
             [
              0,
              "#0d0887"
             ],
             [
              0.1111111111111111,
              "#46039f"
             ],
             [
              0.2222222222222222,
              "#7201a8"
             ],
             [
              0.3333333333333333,
              "#9c179e"
             ],
             [
              0.4444444444444444,
              "#bd3786"
             ],
             [
              0.5555555555555556,
              "#d8576b"
             ],
             [
              0.6666666666666666,
              "#ed7953"
             ],
             [
              0.7777777777777778,
              "#fb9f3a"
             ],
             [
              0.8888888888888888,
              "#fdca26"
             ],
             [
              1,
              "#f0f921"
             ]
            ],
            "type": "histogram2dcontour"
           }
          ],
          "mesh3d": [
           {
            "colorbar": {
             "outlinewidth": 0,
             "ticks": ""
            },
            "type": "mesh3d"
           }
          ],
          "parcoords": [
           {
            "line": {
             "colorbar": {
              "outlinewidth": 0,
              "ticks": ""
             }
            },
            "type": "parcoords"
           }
          ],
          "pie": [
           {
            "automargin": true,
            "type": "pie"
           }
          ],
          "scatter": [
           {
            "fillpattern": {
             "fillmode": "overlay",
             "size": 10,
             "solidity": 0.2
            },
            "type": "scatter"
           }
          ],
          "scatter3d": [
           {
            "line": {
             "colorbar": {
              "outlinewidth": 0,
              "ticks": ""
             }
            },
            "marker": {
             "colorbar": {
              "outlinewidth": 0,
              "ticks": ""
             }
            },
            "type": "scatter3d"
           }
          ],
          "scattercarpet": [
           {
            "marker": {
             "colorbar": {
              "outlinewidth": 0,
              "ticks": ""
             }
            },
            "type": "scattercarpet"
           }
          ],
          "scattergeo": [
           {
            "marker": {
             "colorbar": {
              "outlinewidth": 0,
              "ticks": ""
             }
            },
            "type": "scattergeo"
           }
          ],
          "scattergl": [
           {
            "marker": {
             "colorbar": {
              "outlinewidth": 0,
              "ticks": ""
             }
            },
            "type": "scattergl"
           }
          ],
          "scattermapbox": [
           {
            "marker": {
             "colorbar": {
              "outlinewidth": 0,
              "ticks": ""
             }
            },
            "type": "scattermapbox"
           }
          ],
          "scatterpolar": [
           {
            "marker": {
             "colorbar": {
              "outlinewidth": 0,
              "ticks": ""
             }
            },
            "type": "scatterpolar"
           }
          ],
          "scatterpolargl": [
           {
            "marker": {
             "colorbar": {
              "outlinewidth": 0,
              "ticks": ""
             }
            },
            "type": "scatterpolargl"
           }
          ],
          "scatterternary": [
           {
            "marker": {
             "colorbar": {
              "outlinewidth": 0,
              "ticks": ""
             }
            },
            "type": "scatterternary"
           }
          ],
          "surface": [
           {
            "colorbar": {
             "outlinewidth": 0,
             "ticks": ""
            },
            "colorscale": [
             [
              0,
              "#0d0887"
             ],
             [
              0.1111111111111111,
              "#46039f"
             ],
             [
              0.2222222222222222,
              "#7201a8"
             ],
             [
              0.3333333333333333,
              "#9c179e"
             ],
             [
              0.4444444444444444,
              "#bd3786"
             ],
             [
              0.5555555555555556,
              "#d8576b"
             ],
             [
              0.6666666666666666,
              "#ed7953"
             ],
             [
              0.7777777777777778,
              "#fb9f3a"
             ],
             [
              0.8888888888888888,
              "#fdca26"
             ],
             [
              1,
              "#f0f921"
             ]
            ],
            "type": "surface"
           }
          ],
          "table": [
           {
            "cells": {
             "fill": {
              "color": "#EBF0F8"
             },
             "line": {
              "color": "white"
             }
            },
            "header": {
             "fill": {
              "color": "#C8D4E3"
             },
             "line": {
              "color": "white"
             }
            },
            "type": "table"
           }
          ]
         },
         "layout": {
          "annotationdefaults": {
           "arrowcolor": "#2a3f5f",
           "arrowhead": 0,
           "arrowwidth": 1
          },
          "autotypenumbers": "strict",
          "coloraxis": {
           "colorbar": {
            "outlinewidth": 0,
            "ticks": ""
           }
          },
          "colorscale": {
           "diverging": [
            [
             0,
             "#8e0152"
            ],
            [
             0.1,
             "#c51b7d"
            ],
            [
             0.2,
             "#de77ae"
            ],
            [
             0.3,
             "#f1b6da"
            ],
            [
             0.4,
             "#fde0ef"
            ],
            [
             0.5,
             "#f7f7f7"
            ],
            [
             0.6,
             "#e6f5d0"
            ],
            [
             0.7,
             "#b8e186"
            ],
            [
             0.8,
             "#7fbc41"
            ],
            [
             0.9,
             "#4d9221"
            ],
            [
             1,
             "#276419"
            ]
           ],
           "sequential": [
            [
             0,
             "#0d0887"
            ],
            [
             0.1111111111111111,
             "#46039f"
            ],
            [
             0.2222222222222222,
             "#7201a8"
            ],
            [
             0.3333333333333333,
             "#9c179e"
            ],
            [
             0.4444444444444444,
             "#bd3786"
            ],
            [
             0.5555555555555556,
             "#d8576b"
            ],
            [
             0.6666666666666666,
             "#ed7953"
            ],
            [
             0.7777777777777778,
             "#fb9f3a"
            ],
            [
             0.8888888888888888,
             "#fdca26"
            ],
            [
             1,
             "#f0f921"
            ]
           ],
           "sequentialminus": [
            [
             0,
             "#0d0887"
            ],
            [
             0.1111111111111111,
             "#46039f"
            ],
            [
             0.2222222222222222,
             "#7201a8"
            ],
            [
             0.3333333333333333,
             "#9c179e"
            ],
            [
             0.4444444444444444,
             "#bd3786"
            ],
            [
             0.5555555555555556,
             "#d8576b"
            ],
            [
             0.6666666666666666,
             "#ed7953"
            ],
            [
             0.7777777777777778,
             "#fb9f3a"
            ],
            [
             0.8888888888888888,
             "#fdca26"
            ],
            [
             1,
             "#f0f921"
            ]
           ]
          },
          "colorway": [
           "#636efa",
           "#EF553B",
           "#00cc96",
           "#ab63fa",
           "#FFA15A",
           "#19d3f3",
           "#FF6692",
           "#B6E880",
           "#FF97FF",
           "#FECB52"
          ],
          "font": {
           "color": "#2a3f5f"
          },
          "geo": {
           "bgcolor": "white",
           "lakecolor": "white",
           "landcolor": "#E5ECF6",
           "showlakes": true,
           "showland": true,
           "subunitcolor": "white"
          },
          "hoverlabel": {
           "align": "left"
          },
          "hovermode": "closest",
          "mapbox": {
           "style": "light"
          },
          "paper_bgcolor": "white",
          "plot_bgcolor": "#E5ECF6",
          "polar": {
           "angularaxis": {
            "gridcolor": "white",
            "linecolor": "white",
            "ticks": ""
           },
           "bgcolor": "#E5ECF6",
           "radialaxis": {
            "gridcolor": "white",
            "linecolor": "white",
            "ticks": ""
           }
          },
          "scene": {
           "xaxis": {
            "backgroundcolor": "#E5ECF6",
            "gridcolor": "white",
            "gridwidth": 2,
            "linecolor": "white",
            "showbackground": true,
            "ticks": "",
            "zerolinecolor": "white"
           },
           "yaxis": {
            "backgroundcolor": "#E5ECF6",
            "gridcolor": "white",
            "gridwidth": 2,
            "linecolor": "white",
            "showbackground": true,
            "ticks": "",
            "zerolinecolor": "white"
           },
           "zaxis": {
            "backgroundcolor": "#E5ECF6",
            "gridcolor": "white",
            "gridwidth": 2,
            "linecolor": "white",
            "showbackground": true,
            "ticks": "",
            "zerolinecolor": "white"
           }
          },
          "shapedefaults": {
           "line": {
            "color": "#2a3f5f"
           }
          },
          "ternary": {
           "aaxis": {
            "gridcolor": "white",
            "linecolor": "white",
            "ticks": ""
           },
           "baxis": {
            "gridcolor": "white",
            "linecolor": "white",
            "ticks": ""
           },
           "bgcolor": "#E5ECF6",
           "caxis": {
            "gridcolor": "white",
            "linecolor": "white",
            "ticks": ""
           }
          },
          "title": {
           "x": 0.05
          },
          "xaxis": {
           "automargin": true,
           "gridcolor": "white",
           "linecolor": "white",
           "ticks": "",
           "title": {
            "standoff": 15
           },
           "zerolinecolor": "white",
           "zerolinewidth": 2
          },
          "yaxis": {
           "automargin": true,
           "gridcolor": "white",
           "linecolor": "white",
           "ticks": "",
           "title": {
            "standoff": 15
           },
           "zerolinecolor": "white",
           "zerolinewidth": 2
          }
         }
        },
        "title": {
         "text": "Label: Class 0"
        },
        "xaxis": {
         "anchor": "y",
         "domain": [
          0,
          1
         ],
         "title": {
          "text": "Importance scores"
         }
        },
        "yaxis": {
         "anchor": "x",
         "domain": [
          0,
          1
         ],
         "title": {
          "text": "Features"
         }
        }
       }
      },
      "text/html": [
       "<div>                            <div id=\"b5fdefaa-db1e-41ab-8014-096fed7163a9\" class=\"plotly-graph-div\" style=\"height:525px; width:100%;\"></div>            <script type=\"text/javascript\">                require([\"plotly\"], function(Plotly) {                    window.PLOTLYENV=window.PLOTLYENV || {};                                    if (document.getElementById(\"b5fdefaa-db1e-41ab-8014-096fed7163a9\")) {                    Plotly.newPlot(                        \"b5fdefaa-db1e-41ab-8014-096fed7163a9\",                        [{\"alignmentgroup\":\"True\",\"hovertemplate\":\"Positive=True\\u003cbr\\u003eImportance scores=%{x}\\u003cbr\\u003eFeatures=%{y}\\u003cextra\\u003e\\u003c\\u002fextra\\u003e\",\"legendgroup\":\"True\",\"marker\":{\"color\":\"#008B8B\",\"pattern\":{\"shape\":\"\"}},\"name\":\"True\",\"offsetgroup\":\"True\",\"orientation\":\"h\",\"showlegend\":true,\"textposition\":\"auto\",\"x\":[0.015196582732911315,0.028722222110489627,0.0367597574173688,0.059404472933303934,0.09908579252409261,0.11113911021434819,0.4752248069073501],\"xaxis\":\"x\",\"y\":[\"Race = Black\",\"Workclass = Private\",\"Hours per week = MidTime\",\"Education = 11th\",\"Occupation = Other-service\",\"Capital Loss = 0\",\"Capital Gain = 0\"],\"yaxis\":\"y\",\"type\":\"bar\"},{\"alignmentgroup\":\"True\",\"hovertemplate\":\"Positive=False\\u003cbr\\u003eImportance scores=%{x}\\u003cbr\\u003eFeatures=%{y}\\u003cextra\\u003e\\u003c\\u002fextra\\u003e\",\"legendgroup\":\"False\",\"marker\":{\"color\":\"#DC143C\",\"pattern\":{\"shape\":\"\"}},\"name\":\"False\",\"offsetgroup\":\"False\",\"orientation\":\"h\",\"showlegend\":true,\"textposition\":\"auto\",\"x\":[-0.02069208407309859,-0.029122123768364778,-0.28847883422528575],\"xaxis\":\"x\",\"y\":[\"Country = United-States\",\"Age = Aged\",\"Relationship = Married\"],\"yaxis\":\"y\",\"type\":\"bar\"}],                        {\"barmode\":\"relative\",\"legend\":{\"title\":{\"text\":\"Positive\"},\"tracegroupgap\":0},\"template\":{\"data\":{\"barpolar\":[{\"marker\":{\"line\":{\"color\":\"#E5ECF6\",\"width\":0.5},\"pattern\":{\"fillmode\":\"overlay\",\"size\":10,\"solidity\":0.2}},\"type\":\"barpolar\"}],\"bar\":[{\"error_x\":{\"color\":\"#2a3f5f\"},\"error_y\":{\"color\":\"#2a3f5f\"},\"marker\":{\"line\":{\"color\":\"#E5ECF6\",\"width\":0.5},\"pattern\":{\"fillmode\":\"overlay\",\"size\":10,\"solidity\":0.2}},\"type\":\"bar\"}],\"carpet\":[{\"aaxis\":{\"endlinecolor\":\"#2a3f5f\",\"gridcolor\":\"white\",\"linecolor\":\"white\",\"minorgridcolor\":\"white\",\"startlinecolor\":\"#2a3f5f\"},\"baxis\":{\"endlinecolor\":\"#2a3f5f\",\"gridcolor\":\"white\",\"linecolor\":\"white\",\"minorgridcolor\":\"white\",\"startlinecolor\":\"#2a3f5f\"},\"type\":\"carpet\"}],\"choropleth\":[{\"colorbar\":{\"outlinewidth\":0,\"ticks\":\"\"},\"type\":\"choropleth\"}],\"contourcarpet\":[{\"colorbar\":{\"outlinewidth\":0,\"ticks\":\"\"},\"type\":\"contourcarpet\"}],\"contour\":[{\"colorbar\":{\"outlinewidth\":0,\"ticks\":\"\"},\"colorscale\":[[0.0,\"#0d0887\"],[0.1111111111111111,\"#46039f\"],[0.2222222222222222,\"#7201a8\"],[0.3333333333333333,\"#9c179e\"],[0.4444444444444444,\"#bd3786\"],[0.5555555555555556,\"#d8576b\"],[0.6666666666666666,\"#ed7953\"],[0.7777777777777778,\"#fb9f3a\"],[0.8888888888888888,\"#fdca26\"],[1.0,\"#f0f921\"]],\"type\":\"contour\"}],\"heatmapgl\":[{\"colorbar\":{\"outlinewidth\":0,\"ticks\":\"\"},\"colorscale\":[[0.0,\"#0d0887\"],[0.1111111111111111,\"#46039f\"],[0.2222222222222222,\"#7201a8\"],[0.3333333333333333,\"#9c179e\"],[0.4444444444444444,\"#bd3786\"],[0.5555555555555556,\"#d8576b\"],[0.6666666666666666,\"#ed7953\"],[0.7777777777777778,\"#fb9f3a\"],[0.8888888888888888,\"#fdca26\"],[1.0,\"#f0f921\"]],\"type\":\"heatmapgl\"}],\"heatmap\":[{\"colorbar\":{\"outlinewidth\":0,\"ticks\":\"\"},\"colorscale\":[[0.0,\"#0d0887\"],[0.1111111111111111,\"#46039f\"],[0.2222222222222222,\"#7201a8\"],[0.3333333333333333,\"#9c179e\"],[0.4444444444444444,\"#bd3786\"],[0.5555555555555556,\"#d8576b\"],[0.6666666666666666,\"#ed7953\"],[0.7777777777777778,\"#fb9f3a\"],[0.8888888888888888,\"#fdca26\"],[1.0,\"#f0f921\"]],\"type\":\"heatmap\"}],\"histogram2dcontour\":[{\"colorbar\":{\"outlinewidth\":0,\"ticks\":\"\"},\"colorscale\":[[0.0,\"#0d0887\"],[0.1111111111111111,\"#46039f\"],[0.2222222222222222,\"#7201a8\"],[0.3333333333333333,\"#9c179e\"],[0.4444444444444444,\"#bd3786\"],[0.5555555555555556,\"#d8576b\"],[0.6666666666666666,\"#ed7953\"],[0.7777777777777778,\"#fb9f3a\"],[0.8888888888888888,\"#fdca26\"],[1.0,\"#f0f921\"]],\"type\":\"histogram2dcontour\"}],\"histogram2d\":[{\"colorbar\":{\"outlinewidth\":0,\"ticks\":\"\"},\"colorscale\":[[0.0,\"#0d0887\"],[0.1111111111111111,\"#46039f\"],[0.2222222222222222,\"#7201a8\"],[0.3333333333333333,\"#9c179e\"],[0.4444444444444444,\"#bd3786\"],[0.5555555555555556,\"#d8576b\"],[0.6666666666666666,\"#ed7953\"],[0.7777777777777778,\"#fb9f3a\"],[0.8888888888888888,\"#fdca26\"],[1.0,\"#f0f921\"]],\"type\":\"histogram2d\"}],\"histogram\":[{\"marker\":{\"pattern\":{\"fillmode\":\"overlay\",\"size\":10,\"solidity\":0.2}},\"type\":\"histogram\"}],\"mesh3d\":[{\"colorbar\":{\"outlinewidth\":0,\"ticks\":\"\"},\"type\":\"mesh3d\"}],\"parcoords\":[{\"line\":{\"colorbar\":{\"outlinewidth\":0,\"ticks\":\"\"}},\"type\":\"parcoords\"}],\"pie\":[{\"automargin\":true,\"type\":\"pie\"}],\"scatter3d\":[{\"line\":{\"colorbar\":{\"outlinewidth\":0,\"ticks\":\"\"}},\"marker\":{\"colorbar\":{\"outlinewidth\":0,\"ticks\":\"\"}},\"type\":\"scatter3d\"}],\"scattercarpet\":[{\"marker\":{\"colorbar\":{\"outlinewidth\":0,\"ticks\":\"\"}},\"type\":\"scattercarpet\"}],\"scattergeo\":[{\"marker\":{\"colorbar\":{\"outlinewidth\":0,\"ticks\":\"\"}},\"type\":\"scattergeo\"}],\"scattergl\":[{\"marker\":{\"colorbar\":{\"outlinewidth\":0,\"ticks\":\"\"}},\"type\":\"scattergl\"}],\"scattermapbox\":[{\"marker\":{\"colorbar\":{\"outlinewidth\":0,\"ticks\":\"\"}},\"type\":\"scattermapbox\"}],\"scatterpolargl\":[{\"marker\":{\"colorbar\":{\"outlinewidth\":0,\"ticks\":\"\"}},\"type\":\"scatterpolargl\"}],\"scatterpolar\":[{\"marker\":{\"colorbar\":{\"outlinewidth\":0,\"ticks\":\"\"}},\"type\":\"scatterpolar\"}],\"scatter\":[{\"fillpattern\":{\"fillmode\":\"overlay\",\"size\":10,\"solidity\":0.2},\"type\":\"scatter\"}],\"scatterternary\":[{\"marker\":{\"colorbar\":{\"outlinewidth\":0,\"ticks\":\"\"}},\"type\":\"scatterternary\"}],\"surface\":[{\"colorbar\":{\"outlinewidth\":0,\"ticks\":\"\"},\"colorscale\":[[0.0,\"#0d0887\"],[0.1111111111111111,\"#46039f\"],[0.2222222222222222,\"#7201a8\"],[0.3333333333333333,\"#9c179e\"],[0.4444444444444444,\"#bd3786\"],[0.5555555555555556,\"#d8576b\"],[0.6666666666666666,\"#ed7953\"],[0.7777777777777778,\"#fb9f3a\"],[0.8888888888888888,\"#fdca26\"],[1.0,\"#f0f921\"]],\"type\":\"surface\"}],\"table\":[{\"cells\":{\"fill\":{\"color\":\"#EBF0F8\"},\"line\":{\"color\":\"white\"}},\"header\":{\"fill\":{\"color\":\"#C8D4E3\"},\"line\":{\"color\":\"white\"}},\"type\":\"table\"}]},\"layout\":{\"annotationdefaults\":{\"arrowcolor\":\"#2a3f5f\",\"arrowhead\":0,\"arrowwidth\":1},\"autotypenumbers\":\"strict\",\"coloraxis\":{\"colorbar\":{\"outlinewidth\":0,\"ticks\":\"\"}},\"colorscale\":{\"diverging\":[[0,\"#8e0152\"],[0.1,\"#c51b7d\"],[0.2,\"#de77ae\"],[0.3,\"#f1b6da\"],[0.4,\"#fde0ef\"],[0.5,\"#f7f7f7\"],[0.6,\"#e6f5d0\"],[0.7,\"#b8e186\"],[0.8,\"#7fbc41\"],[0.9,\"#4d9221\"],[1,\"#276419\"]],\"sequential\":[[0.0,\"#0d0887\"],[0.1111111111111111,\"#46039f\"],[0.2222222222222222,\"#7201a8\"],[0.3333333333333333,\"#9c179e\"],[0.4444444444444444,\"#bd3786\"],[0.5555555555555556,\"#d8576b\"],[0.6666666666666666,\"#ed7953\"],[0.7777777777777778,\"#fb9f3a\"],[0.8888888888888888,\"#fdca26\"],[1.0,\"#f0f921\"]],\"sequentialminus\":[[0.0,\"#0d0887\"],[0.1111111111111111,\"#46039f\"],[0.2222222222222222,\"#7201a8\"],[0.3333333333333333,\"#9c179e\"],[0.4444444444444444,\"#bd3786\"],[0.5555555555555556,\"#d8576b\"],[0.6666666666666666,\"#ed7953\"],[0.7777777777777778,\"#fb9f3a\"],[0.8888888888888888,\"#fdca26\"],[1.0,\"#f0f921\"]]},\"colorway\":[\"#636efa\",\"#EF553B\",\"#00cc96\",\"#ab63fa\",\"#FFA15A\",\"#19d3f3\",\"#FF6692\",\"#B6E880\",\"#FF97FF\",\"#FECB52\"],\"font\":{\"color\":\"#2a3f5f\"},\"geo\":{\"bgcolor\":\"white\",\"lakecolor\":\"white\",\"landcolor\":\"#E5ECF6\",\"showlakes\":true,\"showland\":true,\"subunitcolor\":\"white\"},\"hoverlabel\":{\"align\":\"left\"},\"hovermode\":\"closest\",\"mapbox\":{\"style\":\"light\"},\"paper_bgcolor\":\"white\",\"plot_bgcolor\":\"#E5ECF6\",\"polar\":{\"angularaxis\":{\"gridcolor\":\"white\",\"linecolor\":\"white\",\"ticks\":\"\"},\"bgcolor\":\"#E5ECF6\",\"radialaxis\":{\"gridcolor\":\"white\",\"linecolor\":\"white\",\"ticks\":\"\"}},\"scene\":{\"xaxis\":{\"backgroundcolor\":\"#E5ECF6\",\"gridcolor\":\"white\",\"gridwidth\":2,\"linecolor\":\"white\",\"showbackground\":true,\"ticks\":\"\",\"zerolinecolor\":\"white\"},\"yaxis\":{\"backgroundcolor\":\"#E5ECF6\",\"gridcolor\":\"white\",\"gridwidth\":2,\"linecolor\":\"white\",\"showbackground\":true,\"ticks\":\"\",\"zerolinecolor\":\"white\"},\"zaxis\":{\"backgroundcolor\":\"#E5ECF6\",\"gridcolor\":\"white\",\"gridwidth\":2,\"linecolor\":\"white\",\"showbackground\":true,\"ticks\":\"\",\"zerolinecolor\":\"white\"}},\"shapedefaults\":{\"line\":{\"color\":\"#2a3f5f\"}},\"ternary\":{\"aaxis\":{\"gridcolor\":\"white\",\"linecolor\":\"white\",\"ticks\":\"\"},\"baxis\":{\"gridcolor\":\"white\",\"linecolor\":\"white\",\"ticks\":\"\"},\"bgcolor\":\"#E5ECF6\",\"caxis\":{\"gridcolor\":\"white\",\"linecolor\":\"white\",\"ticks\":\"\"}},\"title\":{\"x\":0.05},\"xaxis\":{\"automargin\":true,\"gridcolor\":\"white\",\"linecolor\":\"white\",\"ticks\":\"\",\"title\":{\"standoff\":15},\"zerolinecolor\":\"white\",\"zerolinewidth\":2},\"yaxis\":{\"automargin\":true,\"gridcolor\":\"white\",\"linecolor\":\"white\",\"ticks\":\"\",\"title\":{\"standoff\":15},\"zerolinecolor\":\"white\",\"zerolinewidth\":2}}},\"title\":{\"text\":\"Label: Class 0\"},\"xaxis\":{\"anchor\":\"y\",\"domain\":[0.0,1.0],\"title\":{\"text\":\"Importance scores\"}},\"yaxis\":{\"anchor\":\"x\",\"domain\":[0.0,1.0],\"title\":{\"text\":\"Features\"}}},                        {\"responsive\": true}                    ).then(function(){\n",
       "                            \n",
       "var gd = document.getElementById('b5fdefaa-db1e-41ab-8014-096fed7163a9');\n",
       "var x = new MutationObserver(function (mutations, observer) {{\n",
       "        var display = window.getComputedStyle(gd).display;\n",
       "        if (!display || display === 'none') {{\n",
       "            console.log([gd, 'removed!']);\n",
       "            Plotly.purge(gd);\n",
       "            observer.disconnect();\n",
       "        }}\n",
       "}});\n",
       "\n",
       "// Listen for the removal of the full notebook cells\n",
       "var notebookContainer = gd.closest('#notebook-container');\n",
       "if (notebookContainer) {{\n",
       "    x.observe(notebookContainer, {childList: true});\n",
       "}}\n",
       "\n",
       "// Listen for the clearing of the current output cell\n",
       "var outputEl = gd.closest('.output');\n",
       "if (outputEl) {{\n",
       "    x.observe(outputEl, {childList: true});\n",
       "}}\n",
       "\n",
       "                        })                };                });            </script>        </div>"
      ]
     },
     "metadata": {},
     "output_type": "display_data"
    },
    {
     "name": "stdout",
     "output_type": "stream",
     "text": [
      "-./-./-./-./-./-./-./-./-./-./-./-./-./-./-./-./-./-./-./-./-./-./-./-./-./-./-./-./-./-./-./-./-./-./-./-./-./-./-./-./-./-./-./-./-./-./-./-./-./-./\n",
      "\n",
      "\n",
      "incorrect prediction for true label=0, and the model is highly confident\n",
      "Instance 1144 has label 0 and prediction 1.0, with probs [0.01583333 0.98416667]\n"
     ]
    },
    {
     "data": {
      "application/vnd.plotly.v1+json": {
       "config": {
        "linkText": "Export to plot.ly",
        "plotlyServerURL": "https://plot.ly",
        "showLink": false
       },
       "data": [
        {
         "alignmentgroup": "True",
         "hovertemplate": "Positive=True<br>Importance scores=%{x}<br>Features=%{y}<extra></extra>",
         "legendgroup": "True",
         "marker": {
          "color": "#008B8B",
          "pattern": {
           "shape": ""
          }
         },
         "name": "True",
         "offsetgroup": "True",
         "orientation": "h",
         "showlegend": true,
         "textposition": "auto",
         "type": "bar",
         "x": [
          0.009538693845613221,
          0.021354513615098217,
          0.05956406845573656,
          0.07305538115776956,
          0.14383254136486048,
          0.2785264144543904
         ],
         "xaxis": "x",
         "y": [
          "Country = United-States",
          "Race = White",
          "Hours per week = OverTime",
          "Occupation = Prof-specialty",
          "Education = Masters",
          "Relationship = Married"
         ],
         "yaxis": "y"
        },
        {
         "alignmentgroup": "True",
         "hovertemplate": "Positive=False<br>Importance scores=%{x}<br>Features=%{y}<extra></extra>",
         "legendgroup": "False",
         "marker": {
          "color": "#DC143C",
          "pattern": {
           "shape": ""
          }
         },
         "name": "False",
         "offsetgroup": "False",
         "orientation": "h",
         "showlegend": true,
         "textposition": "auto",
         "type": "bar",
         "x": [
          -0.014787542843005605,
          -0.032452342751779044,
          -0.11314758065707542,
          -0.48320751640699244
         ],
         "xaxis": "x",
         "y": [
          "Workclass = Private",
          "Age = Young",
          "Capital Loss = 0",
          "Capital Gain = 0"
         ],
         "yaxis": "y"
        }
       ],
       "layout": {
        "barmode": "relative",
        "legend": {
         "title": {
          "text": "Positive"
         },
         "tracegroupgap": 0
        },
        "template": {
         "data": {
          "bar": [
           {
            "error_x": {
             "color": "#2a3f5f"
            },
            "error_y": {
             "color": "#2a3f5f"
            },
            "marker": {
             "line": {
              "color": "#E5ECF6",
              "width": 0.5
             },
             "pattern": {
              "fillmode": "overlay",
              "size": 10,
              "solidity": 0.2
             }
            },
            "type": "bar"
           }
          ],
          "barpolar": [
           {
            "marker": {
             "line": {
              "color": "#E5ECF6",
              "width": 0.5
             },
             "pattern": {
              "fillmode": "overlay",
              "size": 10,
              "solidity": 0.2
             }
            },
            "type": "barpolar"
           }
          ],
          "carpet": [
           {
            "aaxis": {
             "endlinecolor": "#2a3f5f",
             "gridcolor": "white",
             "linecolor": "white",
             "minorgridcolor": "white",
             "startlinecolor": "#2a3f5f"
            },
            "baxis": {
             "endlinecolor": "#2a3f5f",
             "gridcolor": "white",
             "linecolor": "white",
             "minorgridcolor": "white",
             "startlinecolor": "#2a3f5f"
            },
            "type": "carpet"
           }
          ],
          "choropleth": [
           {
            "colorbar": {
             "outlinewidth": 0,
             "ticks": ""
            },
            "type": "choropleth"
           }
          ],
          "contour": [
           {
            "colorbar": {
             "outlinewidth": 0,
             "ticks": ""
            },
            "colorscale": [
             [
              0,
              "#0d0887"
             ],
             [
              0.1111111111111111,
              "#46039f"
             ],
             [
              0.2222222222222222,
              "#7201a8"
             ],
             [
              0.3333333333333333,
              "#9c179e"
             ],
             [
              0.4444444444444444,
              "#bd3786"
             ],
             [
              0.5555555555555556,
              "#d8576b"
             ],
             [
              0.6666666666666666,
              "#ed7953"
             ],
             [
              0.7777777777777778,
              "#fb9f3a"
             ],
             [
              0.8888888888888888,
              "#fdca26"
             ],
             [
              1,
              "#f0f921"
             ]
            ],
            "type": "contour"
           }
          ],
          "contourcarpet": [
           {
            "colorbar": {
             "outlinewidth": 0,
             "ticks": ""
            },
            "type": "contourcarpet"
           }
          ],
          "heatmap": [
           {
            "colorbar": {
             "outlinewidth": 0,
             "ticks": ""
            },
            "colorscale": [
             [
              0,
              "#0d0887"
             ],
             [
              0.1111111111111111,
              "#46039f"
             ],
             [
              0.2222222222222222,
              "#7201a8"
             ],
             [
              0.3333333333333333,
              "#9c179e"
             ],
             [
              0.4444444444444444,
              "#bd3786"
             ],
             [
              0.5555555555555556,
              "#d8576b"
             ],
             [
              0.6666666666666666,
              "#ed7953"
             ],
             [
              0.7777777777777778,
              "#fb9f3a"
             ],
             [
              0.8888888888888888,
              "#fdca26"
             ],
             [
              1,
              "#f0f921"
             ]
            ],
            "type": "heatmap"
           }
          ],
          "heatmapgl": [
           {
            "colorbar": {
             "outlinewidth": 0,
             "ticks": ""
            },
            "colorscale": [
             [
              0,
              "#0d0887"
             ],
             [
              0.1111111111111111,
              "#46039f"
             ],
             [
              0.2222222222222222,
              "#7201a8"
             ],
             [
              0.3333333333333333,
              "#9c179e"
             ],
             [
              0.4444444444444444,
              "#bd3786"
             ],
             [
              0.5555555555555556,
              "#d8576b"
             ],
             [
              0.6666666666666666,
              "#ed7953"
             ],
             [
              0.7777777777777778,
              "#fb9f3a"
             ],
             [
              0.8888888888888888,
              "#fdca26"
             ],
             [
              1,
              "#f0f921"
             ]
            ],
            "type": "heatmapgl"
           }
          ],
          "histogram": [
           {
            "marker": {
             "pattern": {
              "fillmode": "overlay",
              "size": 10,
              "solidity": 0.2
             }
            },
            "type": "histogram"
           }
          ],
          "histogram2d": [
           {
            "colorbar": {
             "outlinewidth": 0,
             "ticks": ""
            },
            "colorscale": [
             [
              0,
              "#0d0887"
             ],
             [
              0.1111111111111111,
              "#46039f"
             ],
             [
              0.2222222222222222,
              "#7201a8"
             ],
             [
              0.3333333333333333,
              "#9c179e"
             ],
             [
              0.4444444444444444,
              "#bd3786"
             ],
             [
              0.5555555555555556,
              "#d8576b"
             ],
             [
              0.6666666666666666,
              "#ed7953"
             ],
             [
              0.7777777777777778,
              "#fb9f3a"
             ],
             [
              0.8888888888888888,
              "#fdca26"
             ],
             [
              1,
              "#f0f921"
             ]
            ],
            "type": "histogram2d"
           }
          ],
          "histogram2dcontour": [
           {
            "colorbar": {
             "outlinewidth": 0,
             "ticks": ""
            },
            "colorscale": [
             [
              0,
              "#0d0887"
             ],
             [
              0.1111111111111111,
              "#46039f"
             ],
             [
              0.2222222222222222,
              "#7201a8"
             ],
             [
              0.3333333333333333,
              "#9c179e"
             ],
             [
              0.4444444444444444,
              "#bd3786"
             ],
             [
              0.5555555555555556,
              "#d8576b"
             ],
             [
              0.6666666666666666,
              "#ed7953"
             ],
             [
              0.7777777777777778,
              "#fb9f3a"
             ],
             [
              0.8888888888888888,
              "#fdca26"
             ],
             [
              1,
              "#f0f921"
             ]
            ],
            "type": "histogram2dcontour"
           }
          ],
          "mesh3d": [
           {
            "colorbar": {
             "outlinewidth": 0,
             "ticks": ""
            },
            "type": "mesh3d"
           }
          ],
          "parcoords": [
           {
            "line": {
             "colorbar": {
              "outlinewidth": 0,
              "ticks": ""
             }
            },
            "type": "parcoords"
           }
          ],
          "pie": [
           {
            "automargin": true,
            "type": "pie"
           }
          ],
          "scatter": [
           {
            "fillpattern": {
             "fillmode": "overlay",
             "size": 10,
             "solidity": 0.2
            },
            "type": "scatter"
           }
          ],
          "scatter3d": [
           {
            "line": {
             "colorbar": {
              "outlinewidth": 0,
              "ticks": ""
             }
            },
            "marker": {
             "colorbar": {
              "outlinewidth": 0,
              "ticks": ""
             }
            },
            "type": "scatter3d"
           }
          ],
          "scattercarpet": [
           {
            "marker": {
             "colorbar": {
              "outlinewidth": 0,
              "ticks": ""
             }
            },
            "type": "scattercarpet"
           }
          ],
          "scattergeo": [
           {
            "marker": {
             "colorbar": {
              "outlinewidth": 0,
              "ticks": ""
             }
            },
            "type": "scattergeo"
           }
          ],
          "scattergl": [
           {
            "marker": {
             "colorbar": {
              "outlinewidth": 0,
              "ticks": ""
             }
            },
            "type": "scattergl"
           }
          ],
          "scattermapbox": [
           {
            "marker": {
             "colorbar": {
              "outlinewidth": 0,
              "ticks": ""
             }
            },
            "type": "scattermapbox"
           }
          ],
          "scatterpolar": [
           {
            "marker": {
             "colorbar": {
              "outlinewidth": 0,
              "ticks": ""
             }
            },
            "type": "scatterpolar"
           }
          ],
          "scatterpolargl": [
           {
            "marker": {
             "colorbar": {
              "outlinewidth": 0,
              "ticks": ""
             }
            },
            "type": "scatterpolargl"
           }
          ],
          "scatterternary": [
           {
            "marker": {
             "colorbar": {
              "outlinewidth": 0,
              "ticks": ""
             }
            },
            "type": "scatterternary"
           }
          ],
          "surface": [
           {
            "colorbar": {
             "outlinewidth": 0,
             "ticks": ""
            },
            "colorscale": [
             [
              0,
              "#0d0887"
             ],
             [
              0.1111111111111111,
              "#46039f"
             ],
             [
              0.2222222222222222,
              "#7201a8"
             ],
             [
              0.3333333333333333,
              "#9c179e"
             ],
             [
              0.4444444444444444,
              "#bd3786"
             ],
             [
              0.5555555555555556,
              "#d8576b"
             ],
             [
              0.6666666666666666,
              "#ed7953"
             ],
             [
              0.7777777777777778,
              "#fb9f3a"
             ],
             [
              0.8888888888888888,
              "#fdca26"
             ],
             [
              1,
              "#f0f921"
             ]
            ],
            "type": "surface"
           }
          ],
          "table": [
           {
            "cells": {
             "fill": {
              "color": "#EBF0F8"
             },
             "line": {
              "color": "white"
             }
            },
            "header": {
             "fill": {
              "color": "#C8D4E3"
             },
             "line": {
              "color": "white"
             }
            },
            "type": "table"
           }
          ]
         },
         "layout": {
          "annotationdefaults": {
           "arrowcolor": "#2a3f5f",
           "arrowhead": 0,
           "arrowwidth": 1
          },
          "autotypenumbers": "strict",
          "coloraxis": {
           "colorbar": {
            "outlinewidth": 0,
            "ticks": ""
           }
          },
          "colorscale": {
           "diverging": [
            [
             0,
             "#8e0152"
            ],
            [
             0.1,
             "#c51b7d"
            ],
            [
             0.2,
             "#de77ae"
            ],
            [
             0.3,
             "#f1b6da"
            ],
            [
             0.4,
             "#fde0ef"
            ],
            [
             0.5,
             "#f7f7f7"
            ],
            [
             0.6,
             "#e6f5d0"
            ],
            [
             0.7,
             "#b8e186"
            ],
            [
             0.8,
             "#7fbc41"
            ],
            [
             0.9,
             "#4d9221"
            ],
            [
             1,
             "#276419"
            ]
           ],
           "sequential": [
            [
             0,
             "#0d0887"
            ],
            [
             0.1111111111111111,
             "#46039f"
            ],
            [
             0.2222222222222222,
             "#7201a8"
            ],
            [
             0.3333333333333333,
             "#9c179e"
            ],
            [
             0.4444444444444444,
             "#bd3786"
            ],
            [
             0.5555555555555556,
             "#d8576b"
            ],
            [
             0.6666666666666666,
             "#ed7953"
            ],
            [
             0.7777777777777778,
             "#fb9f3a"
            ],
            [
             0.8888888888888888,
             "#fdca26"
            ],
            [
             1,
             "#f0f921"
            ]
           ],
           "sequentialminus": [
            [
             0,
             "#0d0887"
            ],
            [
             0.1111111111111111,
             "#46039f"
            ],
            [
             0.2222222222222222,
             "#7201a8"
            ],
            [
             0.3333333333333333,
             "#9c179e"
            ],
            [
             0.4444444444444444,
             "#bd3786"
            ],
            [
             0.5555555555555556,
             "#d8576b"
            ],
            [
             0.6666666666666666,
             "#ed7953"
            ],
            [
             0.7777777777777778,
             "#fb9f3a"
            ],
            [
             0.8888888888888888,
             "#fdca26"
            ],
            [
             1,
             "#f0f921"
            ]
           ]
          },
          "colorway": [
           "#636efa",
           "#EF553B",
           "#00cc96",
           "#ab63fa",
           "#FFA15A",
           "#19d3f3",
           "#FF6692",
           "#B6E880",
           "#FF97FF",
           "#FECB52"
          ],
          "font": {
           "color": "#2a3f5f"
          },
          "geo": {
           "bgcolor": "white",
           "lakecolor": "white",
           "landcolor": "#E5ECF6",
           "showlakes": true,
           "showland": true,
           "subunitcolor": "white"
          },
          "hoverlabel": {
           "align": "left"
          },
          "hovermode": "closest",
          "mapbox": {
           "style": "light"
          },
          "paper_bgcolor": "white",
          "plot_bgcolor": "#E5ECF6",
          "polar": {
           "angularaxis": {
            "gridcolor": "white",
            "linecolor": "white",
            "ticks": ""
           },
           "bgcolor": "#E5ECF6",
           "radialaxis": {
            "gridcolor": "white",
            "linecolor": "white",
            "ticks": ""
           }
          },
          "scene": {
           "xaxis": {
            "backgroundcolor": "#E5ECF6",
            "gridcolor": "white",
            "gridwidth": 2,
            "linecolor": "white",
            "showbackground": true,
            "ticks": "",
            "zerolinecolor": "white"
           },
           "yaxis": {
            "backgroundcolor": "#E5ECF6",
            "gridcolor": "white",
            "gridwidth": 2,
            "linecolor": "white",
            "showbackground": true,
            "ticks": "",
            "zerolinecolor": "white"
           },
           "zaxis": {
            "backgroundcolor": "#E5ECF6",
            "gridcolor": "white",
            "gridwidth": 2,
            "linecolor": "white",
            "showbackground": true,
            "ticks": "",
            "zerolinecolor": "white"
           }
          },
          "shapedefaults": {
           "line": {
            "color": "#2a3f5f"
           }
          },
          "ternary": {
           "aaxis": {
            "gridcolor": "white",
            "linecolor": "white",
            "ticks": ""
           },
           "baxis": {
            "gridcolor": "white",
            "linecolor": "white",
            "ticks": ""
           },
           "bgcolor": "#E5ECF6",
           "caxis": {
            "gridcolor": "white",
            "linecolor": "white",
            "ticks": ""
           }
          },
          "title": {
           "x": 0.05
          },
          "xaxis": {
           "automargin": true,
           "gridcolor": "white",
           "linecolor": "white",
           "ticks": "",
           "title": {
            "standoff": 15
           },
           "zerolinecolor": "white",
           "zerolinewidth": 2
          },
          "yaxis": {
           "automargin": true,
           "gridcolor": "white",
           "linecolor": "white",
           "ticks": "",
           "title": {
            "standoff": 15
           },
           "zerolinecolor": "white",
           "zerolinewidth": 2
          }
         }
        },
        "title": {
         "text": "Label: Class 1"
        },
        "xaxis": {
         "anchor": "y",
         "domain": [
          0,
          1
         ],
         "title": {
          "text": "Importance scores"
         }
        },
        "yaxis": {
         "anchor": "x",
         "domain": [
          0,
          1
         ],
         "title": {
          "text": "Features"
         }
        }
       }
      },
      "text/html": [
       "<div>                            <div id=\"1d8b4b1f-27f1-4421-ae49-490a2408f612\" class=\"plotly-graph-div\" style=\"height:525px; width:100%;\"></div>            <script type=\"text/javascript\">                require([\"plotly\"], function(Plotly) {                    window.PLOTLYENV=window.PLOTLYENV || {};                                    if (document.getElementById(\"1d8b4b1f-27f1-4421-ae49-490a2408f612\")) {                    Plotly.newPlot(                        \"1d8b4b1f-27f1-4421-ae49-490a2408f612\",                        [{\"alignmentgroup\":\"True\",\"hovertemplate\":\"Positive=True\\u003cbr\\u003eImportance scores=%{x}\\u003cbr\\u003eFeatures=%{y}\\u003cextra\\u003e\\u003c\\u002fextra\\u003e\",\"legendgroup\":\"True\",\"marker\":{\"color\":\"#008B8B\",\"pattern\":{\"shape\":\"\"}},\"name\":\"True\",\"offsetgroup\":\"True\",\"orientation\":\"h\",\"showlegend\":true,\"textposition\":\"auto\",\"x\":[0.009538693845613221,0.021354513615098217,0.05956406845573656,0.07305538115776956,0.14383254136486048,0.2785264144543904],\"xaxis\":\"x\",\"y\":[\"Country = United-States\",\"Race = White\",\"Hours per week = OverTime\",\"Occupation = Prof-specialty\",\"Education = Masters\",\"Relationship = Married\"],\"yaxis\":\"y\",\"type\":\"bar\"},{\"alignmentgroup\":\"True\",\"hovertemplate\":\"Positive=False\\u003cbr\\u003eImportance scores=%{x}\\u003cbr\\u003eFeatures=%{y}\\u003cextra\\u003e\\u003c\\u002fextra\\u003e\",\"legendgroup\":\"False\",\"marker\":{\"color\":\"#DC143C\",\"pattern\":{\"shape\":\"\"}},\"name\":\"False\",\"offsetgroup\":\"False\",\"orientation\":\"h\",\"showlegend\":true,\"textposition\":\"auto\",\"x\":[-0.014787542843005605,-0.032452342751779044,-0.11314758065707542,-0.48320751640699244],\"xaxis\":\"x\",\"y\":[\"Workclass = Private\",\"Age = Young\",\"Capital Loss = 0\",\"Capital Gain = 0\"],\"yaxis\":\"y\",\"type\":\"bar\"}],                        {\"barmode\":\"relative\",\"legend\":{\"title\":{\"text\":\"Positive\"},\"tracegroupgap\":0},\"template\":{\"data\":{\"barpolar\":[{\"marker\":{\"line\":{\"color\":\"#E5ECF6\",\"width\":0.5},\"pattern\":{\"fillmode\":\"overlay\",\"size\":10,\"solidity\":0.2}},\"type\":\"barpolar\"}],\"bar\":[{\"error_x\":{\"color\":\"#2a3f5f\"},\"error_y\":{\"color\":\"#2a3f5f\"},\"marker\":{\"line\":{\"color\":\"#E5ECF6\",\"width\":0.5},\"pattern\":{\"fillmode\":\"overlay\",\"size\":10,\"solidity\":0.2}},\"type\":\"bar\"}],\"carpet\":[{\"aaxis\":{\"endlinecolor\":\"#2a3f5f\",\"gridcolor\":\"white\",\"linecolor\":\"white\",\"minorgridcolor\":\"white\",\"startlinecolor\":\"#2a3f5f\"},\"baxis\":{\"endlinecolor\":\"#2a3f5f\",\"gridcolor\":\"white\",\"linecolor\":\"white\",\"minorgridcolor\":\"white\",\"startlinecolor\":\"#2a3f5f\"},\"type\":\"carpet\"}],\"choropleth\":[{\"colorbar\":{\"outlinewidth\":0,\"ticks\":\"\"},\"type\":\"choropleth\"}],\"contourcarpet\":[{\"colorbar\":{\"outlinewidth\":0,\"ticks\":\"\"},\"type\":\"contourcarpet\"}],\"contour\":[{\"colorbar\":{\"outlinewidth\":0,\"ticks\":\"\"},\"colorscale\":[[0.0,\"#0d0887\"],[0.1111111111111111,\"#46039f\"],[0.2222222222222222,\"#7201a8\"],[0.3333333333333333,\"#9c179e\"],[0.4444444444444444,\"#bd3786\"],[0.5555555555555556,\"#d8576b\"],[0.6666666666666666,\"#ed7953\"],[0.7777777777777778,\"#fb9f3a\"],[0.8888888888888888,\"#fdca26\"],[1.0,\"#f0f921\"]],\"type\":\"contour\"}],\"heatmapgl\":[{\"colorbar\":{\"outlinewidth\":0,\"ticks\":\"\"},\"colorscale\":[[0.0,\"#0d0887\"],[0.1111111111111111,\"#46039f\"],[0.2222222222222222,\"#7201a8\"],[0.3333333333333333,\"#9c179e\"],[0.4444444444444444,\"#bd3786\"],[0.5555555555555556,\"#d8576b\"],[0.6666666666666666,\"#ed7953\"],[0.7777777777777778,\"#fb9f3a\"],[0.8888888888888888,\"#fdca26\"],[1.0,\"#f0f921\"]],\"type\":\"heatmapgl\"}],\"heatmap\":[{\"colorbar\":{\"outlinewidth\":0,\"ticks\":\"\"},\"colorscale\":[[0.0,\"#0d0887\"],[0.1111111111111111,\"#46039f\"],[0.2222222222222222,\"#7201a8\"],[0.3333333333333333,\"#9c179e\"],[0.4444444444444444,\"#bd3786\"],[0.5555555555555556,\"#d8576b\"],[0.6666666666666666,\"#ed7953\"],[0.7777777777777778,\"#fb9f3a\"],[0.8888888888888888,\"#fdca26\"],[1.0,\"#f0f921\"]],\"type\":\"heatmap\"}],\"histogram2dcontour\":[{\"colorbar\":{\"outlinewidth\":0,\"ticks\":\"\"},\"colorscale\":[[0.0,\"#0d0887\"],[0.1111111111111111,\"#46039f\"],[0.2222222222222222,\"#7201a8\"],[0.3333333333333333,\"#9c179e\"],[0.4444444444444444,\"#bd3786\"],[0.5555555555555556,\"#d8576b\"],[0.6666666666666666,\"#ed7953\"],[0.7777777777777778,\"#fb9f3a\"],[0.8888888888888888,\"#fdca26\"],[1.0,\"#f0f921\"]],\"type\":\"histogram2dcontour\"}],\"histogram2d\":[{\"colorbar\":{\"outlinewidth\":0,\"ticks\":\"\"},\"colorscale\":[[0.0,\"#0d0887\"],[0.1111111111111111,\"#46039f\"],[0.2222222222222222,\"#7201a8\"],[0.3333333333333333,\"#9c179e\"],[0.4444444444444444,\"#bd3786\"],[0.5555555555555556,\"#d8576b\"],[0.6666666666666666,\"#ed7953\"],[0.7777777777777778,\"#fb9f3a\"],[0.8888888888888888,\"#fdca26\"],[1.0,\"#f0f921\"]],\"type\":\"histogram2d\"}],\"histogram\":[{\"marker\":{\"pattern\":{\"fillmode\":\"overlay\",\"size\":10,\"solidity\":0.2}},\"type\":\"histogram\"}],\"mesh3d\":[{\"colorbar\":{\"outlinewidth\":0,\"ticks\":\"\"},\"type\":\"mesh3d\"}],\"parcoords\":[{\"line\":{\"colorbar\":{\"outlinewidth\":0,\"ticks\":\"\"}},\"type\":\"parcoords\"}],\"pie\":[{\"automargin\":true,\"type\":\"pie\"}],\"scatter3d\":[{\"line\":{\"colorbar\":{\"outlinewidth\":0,\"ticks\":\"\"}},\"marker\":{\"colorbar\":{\"outlinewidth\":0,\"ticks\":\"\"}},\"type\":\"scatter3d\"}],\"scattercarpet\":[{\"marker\":{\"colorbar\":{\"outlinewidth\":0,\"ticks\":\"\"}},\"type\":\"scattercarpet\"}],\"scattergeo\":[{\"marker\":{\"colorbar\":{\"outlinewidth\":0,\"ticks\":\"\"}},\"type\":\"scattergeo\"}],\"scattergl\":[{\"marker\":{\"colorbar\":{\"outlinewidth\":0,\"ticks\":\"\"}},\"type\":\"scattergl\"}],\"scattermapbox\":[{\"marker\":{\"colorbar\":{\"outlinewidth\":0,\"ticks\":\"\"}},\"type\":\"scattermapbox\"}],\"scatterpolargl\":[{\"marker\":{\"colorbar\":{\"outlinewidth\":0,\"ticks\":\"\"}},\"type\":\"scatterpolargl\"}],\"scatterpolar\":[{\"marker\":{\"colorbar\":{\"outlinewidth\":0,\"ticks\":\"\"}},\"type\":\"scatterpolar\"}],\"scatter\":[{\"fillpattern\":{\"fillmode\":\"overlay\",\"size\":10,\"solidity\":0.2},\"type\":\"scatter\"}],\"scatterternary\":[{\"marker\":{\"colorbar\":{\"outlinewidth\":0,\"ticks\":\"\"}},\"type\":\"scatterternary\"}],\"surface\":[{\"colorbar\":{\"outlinewidth\":0,\"ticks\":\"\"},\"colorscale\":[[0.0,\"#0d0887\"],[0.1111111111111111,\"#46039f\"],[0.2222222222222222,\"#7201a8\"],[0.3333333333333333,\"#9c179e\"],[0.4444444444444444,\"#bd3786\"],[0.5555555555555556,\"#d8576b\"],[0.6666666666666666,\"#ed7953\"],[0.7777777777777778,\"#fb9f3a\"],[0.8888888888888888,\"#fdca26\"],[1.0,\"#f0f921\"]],\"type\":\"surface\"}],\"table\":[{\"cells\":{\"fill\":{\"color\":\"#EBF0F8\"},\"line\":{\"color\":\"white\"}},\"header\":{\"fill\":{\"color\":\"#C8D4E3\"},\"line\":{\"color\":\"white\"}},\"type\":\"table\"}]},\"layout\":{\"annotationdefaults\":{\"arrowcolor\":\"#2a3f5f\",\"arrowhead\":0,\"arrowwidth\":1},\"autotypenumbers\":\"strict\",\"coloraxis\":{\"colorbar\":{\"outlinewidth\":0,\"ticks\":\"\"}},\"colorscale\":{\"diverging\":[[0,\"#8e0152\"],[0.1,\"#c51b7d\"],[0.2,\"#de77ae\"],[0.3,\"#f1b6da\"],[0.4,\"#fde0ef\"],[0.5,\"#f7f7f7\"],[0.6,\"#e6f5d0\"],[0.7,\"#b8e186\"],[0.8,\"#7fbc41\"],[0.9,\"#4d9221\"],[1,\"#276419\"]],\"sequential\":[[0.0,\"#0d0887\"],[0.1111111111111111,\"#46039f\"],[0.2222222222222222,\"#7201a8\"],[0.3333333333333333,\"#9c179e\"],[0.4444444444444444,\"#bd3786\"],[0.5555555555555556,\"#d8576b\"],[0.6666666666666666,\"#ed7953\"],[0.7777777777777778,\"#fb9f3a\"],[0.8888888888888888,\"#fdca26\"],[1.0,\"#f0f921\"]],\"sequentialminus\":[[0.0,\"#0d0887\"],[0.1111111111111111,\"#46039f\"],[0.2222222222222222,\"#7201a8\"],[0.3333333333333333,\"#9c179e\"],[0.4444444444444444,\"#bd3786\"],[0.5555555555555556,\"#d8576b\"],[0.6666666666666666,\"#ed7953\"],[0.7777777777777778,\"#fb9f3a\"],[0.8888888888888888,\"#fdca26\"],[1.0,\"#f0f921\"]]},\"colorway\":[\"#636efa\",\"#EF553B\",\"#00cc96\",\"#ab63fa\",\"#FFA15A\",\"#19d3f3\",\"#FF6692\",\"#B6E880\",\"#FF97FF\",\"#FECB52\"],\"font\":{\"color\":\"#2a3f5f\"},\"geo\":{\"bgcolor\":\"white\",\"lakecolor\":\"white\",\"landcolor\":\"#E5ECF6\",\"showlakes\":true,\"showland\":true,\"subunitcolor\":\"white\"},\"hoverlabel\":{\"align\":\"left\"},\"hovermode\":\"closest\",\"mapbox\":{\"style\":\"light\"},\"paper_bgcolor\":\"white\",\"plot_bgcolor\":\"#E5ECF6\",\"polar\":{\"angularaxis\":{\"gridcolor\":\"white\",\"linecolor\":\"white\",\"ticks\":\"\"},\"bgcolor\":\"#E5ECF6\",\"radialaxis\":{\"gridcolor\":\"white\",\"linecolor\":\"white\",\"ticks\":\"\"}},\"scene\":{\"xaxis\":{\"backgroundcolor\":\"#E5ECF6\",\"gridcolor\":\"white\",\"gridwidth\":2,\"linecolor\":\"white\",\"showbackground\":true,\"ticks\":\"\",\"zerolinecolor\":\"white\"},\"yaxis\":{\"backgroundcolor\":\"#E5ECF6\",\"gridcolor\":\"white\",\"gridwidth\":2,\"linecolor\":\"white\",\"showbackground\":true,\"ticks\":\"\",\"zerolinecolor\":\"white\"},\"zaxis\":{\"backgroundcolor\":\"#E5ECF6\",\"gridcolor\":\"white\",\"gridwidth\":2,\"linecolor\":\"white\",\"showbackground\":true,\"ticks\":\"\",\"zerolinecolor\":\"white\"}},\"shapedefaults\":{\"line\":{\"color\":\"#2a3f5f\"}},\"ternary\":{\"aaxis\":{\"gridcolor\":\"white\",\"linecolor\":\"white\",\"ticks\":\"\"},\"baxis\":{\"gridcolor\":\"white\",\"linecolor\":\"white\",\"ticks\":\"\"},\"bgcolor\":\"#E5ECF6\",\"caxis\":{\"gridcolor\":\"white\",\"linecolor\":\"white\",\"ticks\":\"\"}},\"title\":{\"x\":0.05},\"xaxis\":{\"automargin\":true,\"gridcolor\":\"white\",\"linecolor\":\"white\",\"ticks\":\"\",\"title\":{\"standoff\":15},\"zerolinecolor\":\"white\",\"zerolinewidth\":2},\"yaxis\":{\"automargin\":true,\"gridcolor\":\"white\",\"linecolor\":\"white\",\"ticks\":\"\",\"title\":{\"standoff\":15},\"zerolinecolor\":\"white\",\"zerolinewidth\":2}}},\"title\":{\"text\":\"Label: Class 1\"},\"xaxis\":{\"anchor\":\"y\",\"domain\":[0.0,1.0],\"title\":{\"text\":\"Importance scores\"}},\"yaxis\":{\"anchor\":\"x\",\"domain\":[0.0,1.0],\"title\":{\"text\":\"Features\"}}},                        {\"responsive\": true}                    ).then(function(){\n",
       "                            \n",
       "var gd = document.getElementById('1d8b4b1f-27f1-4421-ae49-490a2408f612');\n",
       "var x = new MutationObserver(function (mutations, observer) {{\n",
       "        var display = window.getComputedStyle(gd).display;\n",
       "        if (!display || display === 'none') {{\n",
       "            console.log([gd, 'removed!']);\n",
       "            Plotly.purge(gd);\n",
       "            observer.disconnect();\n",
       "        }}\n",
       "}});\n",
       "\n",
       "// Listen for the removal of the full notebook cells\n",
       "var notebookContainer = gd.closest('#notebook-container');\n",
       "if (notebookContainer) {{\n",
       "    x.observe(notebookContainer, {childList: true});\n",
       "}}\n",
       "\n",
       "// Listen for the clearing of the current output cell\n",
       "var outputEl = gd.closest('.output');\n",
       "if (outputEl) {{\n",
       "    x.observe(outputEl, {childList: true});\n",
       "}}\n",
       "\n",
       "                        })                };                });            </script>        </div>"
      ]
     },
     "metadata": {},
     "output_type": "display_data"
    },
    {
     "name": "stdout",
     "output_type": "stream",
     "text": [
      "-./-./-./-./-./-./-./-./-./-./-./-./-./-./-./-./-./-./-./-./-./-./-./-./-./-./-./-./-./-./-./-./-./-./-./-./-./-./-./-./-./-./-./-./-./-./-./-./-./-./\n",
      "\n",
      "\n"
     ]
    }
   ],
   "source": [
    "print(\"LIME results:\")\n",
    "\n",
    "for i, instance_id in enumerate(instance_ids):\n",
    "    print(comments[i])\n",
    "    print(f\"Instance {instance_id} has label {test_labels_private[instance_id]} and prediction {predictions_private[instance_id]}, with probs {model_private.predict_proba(test_private[instance_id:instance_id+1])[0]}\")\n",
    "    local_explanations[\"lime\"].ipython_plot(index=i, class_names=class_names)\n",
    "    print('-./'*50)\n",
    "    print('\\n')"
   ]
  },
  {
   "cell_type": "code",
   "execution_count": 553,
   "id": "64cc9d74-f084-4420-91d4-4275b2c0c0f6",
   "metadata": {},
   "outputs": [
    {
     "name": "stdout",
     "output_type": "stream",
     "text": [
      "MACE results:\n"
     ]
    },
    {
     "data": {
      "text/html": [
       "<style type=\"text/css\">\n",
       "#T_f809c_row1_col2, #T_f809c_row1_col4, #T_f809c_row1_col11, #T_f809c_row2_col3, #T_f809c_row2_col4, #T_f809c_row2_col11, #T_f809c_row3_col4, #T_f809c_row3_col9, #T_f809c_row3_col11, #T_f809c_row4_col1, #T_f809c_row4_col8, #T_f809c_row4_col11, #T_f809c_row5_col7, #T_f809c_row5_col11 {\n",
       "  color: red;\n",
       "}\n",
       "</style>\n",
       "<table id=\"T_f809c\">\n",
       "  <thead>\n",
       "    <tr>\n",
       "      <th class=\"blank level0\" >&nbsp;</th>\n",
       "      <th id=\"T_f809c_level0_col0\" class=\"col_heading level0 col0\" >Age</th>\n",
       "      <th id=\"T_f809c_level0_col1\" class=\"col_heading level0 col1\" >Workclass</th>\n",
       "      <th id=\"T_f809c_level0_col2\" class=\"col_heading level0 col2\" >Education</th>\n",
       "      <th id=\"T_f809c_level0_col3\" class=\"col_heading level0 col3\" >Occupation</th>\n",
       "      <th id=\"T_f809c_level0_col4\" class=\"col_heading level0 col4\" >Relationship</th>\n",
       "      <th id=\"T_f809c_level0_col5\" class=\"col_heading level0 col5\" >Race</th>\n",
       "      <th id=\"T_f809c_level0_col6\" class=\"col_heading level0 col6\" >Sex</th>\n",
       "      <th id=\"T_f809c_level0_col7\" class=\"col_heading level0 col7\" >Capital Gain</th>\n",
       "      <th id=\"T_f809c_level0_col8\" class=\"col_heading level0 col8\" >Capital Loss</th>\n",
       "      <th id=\"T_f809c_level0_col9\" class=\"col_heading level0 col9\" >Hours per week</th>\n",
       "      <th id=\"T_f809c_level0_col10\" class=\"col_heading level0 col10\" >Country</th>\n",
       "      <th id=\"T_f809c_level0_col11\" class=\"col_heading level0 col11\" >label</th>\n",
       "    </tr>\n",
       "  </thead>\n",
       "  <tbody>\n",
       "    <tr>\n",
       "      <th id=\"T_f809c_level0_row0\" class=\"row_heading level0 row0\" >96</th>\n",
       "      <td id=\"T_f809c_row0_col0\" class=\"data row0 col0\" >Aged</td>\n",
       "      <td id=\"T_f809c_row0_col1\" class=\"data row0 col1\" >Private</td>\n",
       "      <td id=\"T_f809c_row0_col2\" class=\"data row0 col2\" >HS-grad</td>\n",
       "      <td id=\"T_f809c_row0_col3\" class=\"data row0 col3\" >Exec-managerial</td>\n",
       "      <td id=\"T_f809c_row0_col4\" class=\"data row0 col4\" >Not-in-family</td>\n",
       "      <td id=\"T_f809c_row0_col5\" class=\"data row0 col5\" >White</td>\n",
       "      <td id=\"T_f809c_row0_col6\" class=\"data row0 col6\" >Male</td>\n",
       "      <td id=\"T_f809c_row0_col7\" class=\"data row0 col7\" >0.000000</td>\n",
       "      <td id=\"T_f809c_row0_col8\" class=\"data row0 col8\" >0.000000</td>\n",
       "      <td id=\"T_f809c_row0_col9\" class=\"data row0 col9\" >OverTime</td>\n",
       "      <td id=\"T_f809c_row0_col10\" class=\"data row0 col10\" >United-States</td>\n",
       "      <td id=\"T_f809c_row0_col11\" class=\"data row0 col11\" >0</td>\n",
       "    </tr>\n",
       "    <tr>\n",
       "      <th id=\"T_f809c_level0_row1\" class=\"row_heading level0 row1\" >CF[0] for 96</th>\n",
       "      <td id=\"T_f809c_row1_col0\" class=\"data row1 col0\" >Aged</td>\n",
       "      <td id=\"T_f809c_row1_col1\" class=\"data row1 col1\" >Private</td>\n",
       "      <td id=\"T_f809c_row1_col2\" class=\"data row1 col2\" >Prof-school</td>\n",
       "      <td id=\"T_f809c_row1_col3\" class=\"data row1 col3\" >Exec-managerial</td>\n",
       "      <td id=\"T_f809c_row1_col4\" class=\"data row1 col4\" >Married</td>\n",
       "      <td id=\"T_f809c_row1_col5\" class=\"data row1 col5\" >White</td>\n",
       "      <td id=\"T_f809c_row1_col6\" class=\"data row1 col6\" >Male</td>\n",
       "      <td id=\"T_f809c_row1_col7\" class=\"data row1 col7\" >0.000000</td>\n",
       "      <td id=\"T_f809c_row1_col8\" class=\"data row1 col8\" >0.000000</td>\n",
       "      <td id=\"T_f809c_row1_col9\" class=\"data row1 col9\" >OverTime</td>\n",
       "      <td id=\"T_f809c_row1_col10\" class=\"data row1 col10\" >United-States</td>\n",
       "      <td id=\"T_f809c_row1_col11\" class=\"data row1 col11\" >1</td>\n",
       "    </tr>\n",
       "    <tr>\n",
       "      <th id=\"T_f809c_level0_row2\" class=\"row_heading level0 row2\" >CF[1] for 96</th>\n",
       "      <td id=\"T_f809c_row2_col0\" class=\"data row2 col0\" >Aged</td>\n",
       "      <td id=\"T_f809c_row2_col1\" class=\"data row2 col1\" >Private</td>\n",
       "      <td id=\"T_f809c_row2_col2\" class=\"data row2 col2\" >HS-grad</td>\n",
       "      <td id=\"T_f809c_row2_col3\" class=\"data row2 col3\" >Tech-support</td>\n",
       "      <td id=\"T_f809c_row2_col4\" class=\"data row2 col4\" >Married</td>\n",
       "      <td id=\"T_f809c_row2_col5\" class=\"data row2 col5\" >White</td>\n",
       "      <td id=\"T_f809c_row2_col6\" class=\"data row2 col6\" >Male</td>\n",
       "      <td id=\"T_f809c_row2_col7\" class=\"data row2 col7\" >0.000000</td>\n",
       "      <td id=\"T_f809c_row2_col8\" class=\"data row2 col8\" >0.000000</td>\n",
       "      <td id=\"T_f809c_row2_col9\" class=\"data row2 col9\" >OverTime</td>\n",
       "      <td id=\"T_f809c_row2_col10\" class=\"data row2 col10\" >United-States</td>\n",
       "      <td id=\"T_f809c_row2_col11\" class=\"data row2 col11\" >1</td>\n",
       "    </tr>\n",
       "    <tr>\n",
       "      <th id=\"T_f809c_level0_row3\" class=\"row_heading level0 row3\" >CF[2] for 96</th>\n",
       "      <td id=\"T_f809c_row3_col0\" class=\"data row3 col0\" >Aged</td>\n",
       "      <td id=\"T_f809c_row3_col1\" class=\"data row3 col1\" >Private</td>\n",
       "      <td id=\"T_f809c_row3_col2\" class=\"data row3 col2\" >HS-grad</td>\n",
       "      <td id=\"T_f809c_row3_col3\" class=\"data row3 col3\" >Exec-managerial</td>\n",
       "      <td id=\"T_f809c_row3_col4\" class=\"data row3 col4\" >Married</td>\n",
       "      <td id=\"T_f809c_row3_col5\" class=\"data row3 col5\" >White</td>\n",
       "      <td id=\"T_f809c_row3_col6\" class=\"data row3 col6\" >Male</td>\n",
       "      <td id=\"T_f809c_row3_col7\" class=\"data row3 col7\" >0.000000</td>\n",
       "      <td id=\"T_f809c_row3_col8\" class=\"data row3 col8\" >0.000000</td>\n",
       "      <td id=\"T_f809c_row3_col9\" class=\"data row3 col9\" >FullTime</td>\n",
       "      <td id=\"T_f809c_row3_col10\" class=\"data row3 col10\" >United-States</td>\n",
       "      <td id=\"T_f809c_row3_col11\" class=\"data row3 col11\" >1</td>\n",
       "    </tr>\n",
       "    <tr>\n",
       "      <th id=\"T_f809c_level0_row4\" class=\"row_heading level0 row4\" >CF[3] for 96</th>\n",
       "      <td id=\"T_f809c_row4_col0\" class=\"data row4 col0\" >Aged</td>\n",
       "      <td id=\"T_f809c_row4_col1\" class=\"data row4 col1\" >Self-emp-not-inc</td>\n",
       "      <td id=\"T_f809c_row4_col2\" class=\"data row4 col2\" >HS-grad</td>\n",
       "      <td id=\"T_f809c_row4_col3\" class=\"data row4 col3\" >Exec-managerial</td>\n",
       "      <td id=\"T_f809c_row4_col4\" class=\"data row4 col4\" >Not-in-family</td>\n",
       "      <td id=\"T_f809c_row4_col5\" class=\"data row4 col5\" >White</td>\n",
       "      <td id=\"T_f809c_row4_col6\" class=\"data row4 col6\" >Male</td>\n",
       "      <td id=\"T_f809c_row4_col7\" class=\"data row4 col7\" >0.000000</td>\n",
       "      <td id=\"T_f809c_row4_col8\" class=\"data row4 col8\" >2559.000000</td>\n",
       "      <td id=\"T_f809c_row4_col9\" class=\"data row4 col9\" >OverTime</td>\n",
       "      <td id=\"T_f809c_row4_col10\" class=\"data row4 col10\" >United-States</td>\n",
       "      <td id=\"T_f809c_row4_col11\" class=\"data row4 col11\" >1</td>\n",
       "    </tr>\n",
       "    <tr>\n",
       "      <th id=\"T_f809c_level0_row5\" class=\"row_heading level0 row5\" >CF[4] for 96</th>\n",
       "      <td id=\"T_f809c_row5_col0\" class=\"data row5 col0\" >Aged</td>\n",
       "      <td id=\"T_f809c_row5_col1\" class=\"data row5 col1\" >Private</td>\n",
       "      <td id=\"T_f809c_row5_col2\" class=\"data row5 col2\" >HS-grad</td>\n",
       "      <td id=\"T_f809c_row5_col3\" class=\"data row5 col3\" >Exec-managerial</td>\n",
       "      <td id=\"T_f809c_row5_col4\" class=\"data row5 col4\" >Not-in-family</td>\n",
       "      <td id=\"T_f809c_row5_col5\" class=\"data row5 col5\" >White</td>\n",
       "      <td id=\"T_f809c_row5_col6\" class=\"data row5 col6\" >Male</td>\n",
       "      <td id=\"T_f809c_row5_col7\" class=\"data row5 col7\" >7232.500000</td>\n",
       "      <td id=\"T_f809c_row5_col8\" class=\"data row5 col8\" >0.000000</td>\n",
       "      <td id=\"T_f809c_row5_col9\" class=\"data row5 col9\" >OverTime</td>\n",
       "      <td id=\"T_f809c_row5_col10\" class=\"data row5 col10\" >United-States</td>\n",
       "      <td id=\"T_f809c_row5_col11\" class=\"data row5 col11\" >1</td>\n",
       "    </tr>\n",
       "  </tbody>\n",
       "</table>\n"
      ],
      "text/plain": [
       "<pandas.io.formats.style.Styler at 0x7fc2d054ad90>"
      ]
     },
     "metadata": {},
     "output_type": "display_data"
    },
    {
     "data": {
      "text/html": [
       "<style type=\"text/css\">\n",
       "#T_46b8b_row1_col3, #T_46b8b_row1_col11, #T_46b8b_row2_col2, #T_46b8b_row2_col11, #T_46b8b_row3_col3, #T_46b8b_row3_col4, #T_46b8b_row3_col11, #T_46b8b_row4_col2, #T_46b8b_row4_col9, #T_46b8b_row4_col11, #T_46b8b_row5_col2, #T_46b8b_row5_col3, #T_46b8b_row5_col11 {\n",
       "  color: red;\n",
       "}\n",
       "</style>\n",
       "<table id=\"T_46b8b\">\n",
       "  <thead>\n",
       "    <tr>\n",
       "      <th class=\"blank level0\" >&nbsp;</th>\n",
       "      <th id=\"T_46b8b_level0_col0\" class=\"col_heading level0 col0\" >Age</th>\n",
       "      <th id=\"T_46b8b_level0_col1\" class=\"col_heading level0 col1\" >Workclass</th>\n",
       "      <th id=\"T_46b8b_level0_col2\" class=\"col_heading level0 col2\" >Education</th>\n",
       "      <th id=\"T_46b8b_level0_col3\" class=\"col_heading level0 col3\" >Occupation</th>\n",
       "      <th id=\"T_46b8b_level0_col4\" class=\"col_heading level0 col4\" >Relationship</th>\n",
       "      <th id=\"T_46b8b_level0_col5\" class=\"col_heading level0 col5\" >Race</th>\n",
       "      <th id=\"T_46b8b_level0_col6\" class=\"col_heading level0 col6\" >Sex</th>\n",
       "      <th id=\"T_46b8b_level0_col7\" class=\"col_heading level0 col7\" >Capital Gain</th>\n",
       "      <th id=\"T_46b8b_level0_col8\" class=\"col_heading level0 col8\" >Capital Loss</th>\n",
       "      <th id=\"T_46b8b_level0_col9\" class=\"col_heading level0 col9\" >Hours per week</th>\n",
       "      <th id=\"T_46b8b_level0_col10\" class=\"col_heading level0 col10\" >Country</th>\n",
       "      <th id=\"T_46b8b_level0_col11\" class=\"col_heading level0 col11\" >label</th>\n",
       "    </tr>\n",
       "  </thead>\n",
       "  <tbody>\n",
       "    <tr>\n",
       "      <th id=\"T_46b8b_level0_row0\" class=\"row_heading level0 row0\" >663</th>\n",
       "      <td id=\"T_46b8b_row0_col0\" class=\"data row0 col0\" >Aged</td>\n",
       "      <td id=\"T_46b8b_row0_col1\" class=\"data row0 col1\" >Private</td>\n",
       "      <td id=\"T_46b8b_row0_col2\" class=\"data row0 col2\" >Bachelors</td>\n",
       "      <td id=\"T_46b8b_row0_col3\" class=\"data row0 col3\" >Sales</td>\n",
       "      <td id=\"T_46b8b_row0_col4\" class=\"data row0 col4\" >Married</td>\n",
       "      <td id=\"T_46b8b_row0_col5\" class=\"data row0 col5\" >White</td>\n",
       "      <td id=\"T_46b8b_row0_col6\" class=\"data row0 col6\" >Female</td>\n",
       "      <td id=\"T_46b8b_row0_col7\" class=\"data row0 col7\" >0.000000</td>\n",
       "      <td id=\"T_46b8b_row0_col8\" class=\"data row0 col8\" >0.000000</td>\n",
       "      <td id=\"T_46b8b_row0_col9\" class=\"data row0 col9\" >FullTime</td>\n",
       "      <td id=\"T_46b8b_row0_col10\" class=\"data row0 col10\" >United-States</td>\n",
       "      <td id=\"T_46b8b_row0_col11\" class=\"data row0 col11\" >1</td>\n",
       "    </tr>\n",
       "    <tr>\n",
       "      <th id=\"T_46b8b_level0_row1\" class=\"row_heading level0 row1\" >CF[0] for 663</th>\n",
       "      <td id=\"T_46b8b_row1_col0\" class=\"data row1 col0\" >Aged</td>\n",
       "      <td id=\"T_46b8b_row1_col1\" class=\"data row1 col1\" >Private</td>\n",
       "      <td id=\"T_46b8b_row1_col2\" class=\"data row1 col2\" >Bachelors</td>\n",
       "      <td id=\"T_46b8b_row1_col3\" class=\"data row1 col3\" >Craft-repair</td>\n",
       "      <td id=\"T_46b8b_row1_col4\" class=\"data row1 col4\" >Married</td>\n",
       "      <td id=\"T_46b8b_row1_col5\" class=\"data row1 col5\" >White</td>\n",
       "      <td id=\"T_46b8b_row1_col6\" class=\"data row1 col6\" >Female</td>\n",
       "      <td id=\"T_46b8b_row1_col7\" class=\"data row1 col7\" >0.000000</td>\n",
       "      <td id=\"T_46b8b_row1_col8\" class=\"data row1 col8\" >0.000000</td>\n",
       "      <td id=\"T_46b8b_row1_col9\" class=\"data row1 col9\" >FullTime</td>\n",
       "      <td id=\"T_46b8b_row1_col10\" class=\"data row1 col10\" >United-States</td>\n",
       "      <td id=\"T_46b8b_row1_col11\" class=\"data row1 col11\" >0</td>\n",
       "    </tr>\n",
       "    <tr>\n",
       "      <th id=\"T_46b8b_level0_row2\" class=\"row_heading level0 row2\" >CF[1] for 663</th>\n",
       "      <td id=\"T_46b8b_row2_col0\" class=\"data row2 col0\" >Aged</td>\n",
       "      <td id=\"T_46b8b_row2_col1\" class=\"data row2 col1\" >Private</td>\n",
       "      <td id=\"T_46b8b_row2_col2\" class=\"data row2 col2\" >9th</td>\n",
       "      <td id=\"T_46b8b_row2_col3\" class=\"data row2 col3\" >Sales</td>\n",
       "      <td id=\"T_46b8b_row2_col4\" class=\"data row2 col4\" >Married</td>\n",
       "      <td id=\"T_46b8b_row2_col5\" class=\"data row2 col5\" >White</td>\n",
       "      <td id=\"T_46b8b_row2_col6\" class=\"data row2 col6\" >Female</td>\n",
       "      <td id=\"T_46b8b_row2_col7\" class=\"data row2 col7\" >0.000000</td>\n",
       "      <td id=\"T_46b8b_row2_col8\" class=\"data row2 col8\" >0.000000</td>\n",
       "      <td id=\"T_46b8b_row2_col9\" class=\"data row2 col9\" >FullTime</td>\n",
       "      <td id=\"T_46b8b_row2_col10\" class=\"data row2 col10\" >United-States</td>\n",
       "      <td id=\"T_46b8b_row2_col11\" class=\"data row2 col11\" >0</td>\n",
       "    </tr>\n",
       "    <tr>\n",
       "      <th id=\"T_46b8b_level0_row3\" class=\"row_heading level0 row3\" >CF[2] for 663</th>\n",
       "      <td id=\"T_46b8b_row3_col0\" class=\"data row3 col0\" >Aged</td>\n",
       "      <td id=\"T_46b8b_row3_col1\" class=\"data row3 col1\" >Private</td>\n",
       "      <td id=\"T_46b8b_row3_col2\" class=\"data row3 col2\" >Bachelors</td>\n",
       "      <td id=\"T_46b8b_row3_col3\" class=\"data row3 col3\" >Other-service</td>\n",
       "      <td id=\"T_46b8b_row3_col4\" class=\"data row3 col4\" >Not-in-family</td>\n",
       "      <td id=\"T_46b8b_row3_col5\" class=\"data row3 col5\" >White</td>\n",
       "      <td id=\"T_46b8b_row3_col6\" class=\"data row3 col6\" >Female</td>\n",
       "      <td id=\"T_46b8b_row3_col7\" class=\"data row3 col7\" >0.000000</td>\n",
       "      <td id=\"T_46b8b_row3_col8\" class=\"data row3 col8\" >0.000000</td>\n",
       "      <td id=\"T_46b8b_row3_col9\" class=\"data row3 col9\" >FullTime</td>\n",
       "      <td id=\"T_46b8b_row3_col10\" class=\"data row3 col10\" >United-States</td>\n",
       "      <td id=\"T_46b8b_row3_col11\" class=\"data row3 col11\" >0</td>\n",
       "    </tr>\n",
       "    <tr>\n",
       "      <th id=\"T_46b8b_level0_row4\" class=\"row_heading level0 row4\" >CF[3] for 663</th>\n",
       "      <td id=\"T_46b8b_row4_col0\" class=\"data row4 col0\" >Aged</td>\n",
       "      <td id=\"T_46b8b_row4_col1\" class=\"data row4 col1\" >Private</td>\n",
       "      <td id=\"T_46b8b_row4_col2\" class=\"data row4 col2\" >9th</td>\n",
       "      <td id=\"T_46b8b_row4_col3\" class=\"data row4 col3\" >Sales</td>\n",
       "      <td id=\"T_46b8b_row4_col4\" class=\"data row4 col4\" >Married</td>\n",
       "      <td id=\"T_46b8b_row4_col5\" class=\"data row4 col5\" >White</td>\n",
       "      <td id=\"T_46b8b_row4_col6\" class=\"data row4 col6\" >Female</td>\n",
       "      <td id=\"T_46b8b_row4_col7\" class=\"data row4 col7\" >0.000000</td>\n",
       "      <td id=\"T_46b8b_row4_col8\" class=\"data row4 col8\" >0.000000</td>\n",
       "      <td id=\"T_46b8b_row4_col9\" class=\"data row4 col9\" >OverTime</td>\n",
       "      <td id=\"T_46b8b_row4_col10\" class=\"data row4 col10\" >United-States</td>\n",
       "      <td id=\"T_46b8b_row4_col11\" class=\"data row4 col11\" >0</td>\n",
       "    </tr>\n",
       "    <tr>\n",
       "      <th id=\"T_46b8b_level0_row5\" class=\"row_heading level0 row5\" >CF[4] for 663</th>\n",
       "      <td id=\"T_46b8b_row5_col0\" class=\"data row5 col0\" >Aged</td>\n",
       "      <td id=\"T_46b8b_row5_col1\" class=\"data row5 col1\" >Private</td>\n",
       "      <td id=\"T_46b8b_row5_col2\" class=\"data row5 col2\" >10th</td>\n",
       "      <td id=\"T_46b8b_row5_col3\" class=\"data row5 col3\" >Craft-repair</td>\n",
       "      <td id=\"T_46b8b_row5_col4\" class=\"data row5 col4\" >Married</td>\n",
       "      <td id=\"T_46b8b_row5_col5\" class=\"data row5 col5\" >White</td>\n",
       "      <td id=\"T_46b8b_row5_col6\" class=\"data row5 col6\" >Female</td>\n",
       "      <td id=\"T_46b8b_row5_col7\" class=\"data row5 col7\" >0.000000</td>\n",
       "      <td id=\"T_46b8b_row5_col8\" class=\"data row5 col8\" >0.000000</td>\n",
       "      <td id=\"T_46b8b_row5_col9\" class=\"data row5 col9\" >FullTime</td>\n",
       "      <td id=\"T_46b8b_row5_col10\" class=\"data row5 col10\" >United-States</td>\n",
       "      <td id=\"T_46b8b_row5_col11\" class=\"data row5 col11\" >0</td>\n",
       "    </tr>\n",
       "  </tbody>\n",
       "</table>\n"
      ],
      "text/plain": [
       "<pandas.io.formats.style.Styler at 0x7fc2ed3ccb10>"
      ]
     },
     "metadata": {},
     "output_type": "display_data"
    },
    {
     "data": {
      "text/html": [
       "<style type=\"text/css\">\n",
       "#T_7f458_row1_col2, #T_7f458_row1_col9, #T_7f458_row1_col11, #T_7f458_row2_col2, #T_7f458_row2_col3, #T_7f458_row2_col11, #T_7f458_row3_col2, #T_7f458_row3_col3, #T_7f458_row3_col9, #T_7f458_row3_col11, #T_7f458_row4_col8, #T_7f458_row4_col9, #T_7f458_row4_col11, #T_7f458_row5_col3, #T_7f458_row5_col8, #T_7f458_row5_col11 {\n",
       "  color: red;\n",
       "}\n",
       "</style>\n",
       "<table id=\"T_7f458\">\n",
       "  <thead>\n",
       "    <tr>\n",
       "      <th class=\"blank level0\" >&nbsp;</th>\n",
       "      <th id=\"T_7f458_level0_col0\" class=\"col_heading level0 col0\" >Age</th>\n",
       "      <th id=\"T_7f458_level0_col1\" class=\"col_heading level0 col1\" >Workclass</th>\n",
       "      <th id=\"T_7f458_level0_col2\" class=\"col_heading level0 col2\" >Education</th>\n",
       "      <th id=\"T_7f458_level0_col3\" class=\"col_heading level0 col3\" >Occupation</th>\n",
       "      <th id=\"T_7f458_level0_col4\" class=\"col_heading level0 col4\" >Relationship</th>\n",
       "      <th id=\"T_7f458_level0_col5\" class=\"col_heading level0 col5\" >Race</th>\n",
       "      <th id=\"T_7f458_level0_col6\" class=\"col_heading level0 col6\" >Sex</th>\n",
       "      <th id=\"T_7f458_level0_col7\" class=\"col_heading level0 col7\" >Capital Gain</th>\n",
       "      <th id=\"T_7f458_level0_col8\" class=\"col_heading level0 col8\" >Capital Loss</th>\n",
       "      <th id=\"T_7f458_level0_col9\" class=\"col_heading level0 col9\" >Hours per week</th>\n",
       "      <th id=\"T_7f458_level0_col10\" class=\"col_heading level0 col10\" >Country</th>\n",
       "      <th id=\"T_7f458_level0_col11\" class=\"col_heading level0 col11\" >label</th>\n",
       "    </tr>\n",
       "  </thead>\n",
       "  <tbody>\n",
       "    <tr>\n",
       "      <th id=\"T_7f458_level0_row0\" class=\"row_heading level0 row0\" >696</th>\n",
       "      <td id=\"T_7f458_row0_col0\" class=\"data row0 col0\" >Aged</td>\n",
       "      <td id=\"T_7f458_row0_col1\" class=\"data row0 col1\" >Private</td>\n",
       "      <td id=\"T_7f458_row0_col2\" class=\"data row0 col2\" >11th</td>\n",
       "      <td id=\"T_7f458_row0_col3\" class=\"data row0 col3\" >Other-service</td>\n",
       "      <td id=\"T_7f458_row0_col4\" class=\"data row0 col4\" >Married</td>\n",
       "      <td id=\"T_7f458_row0_col5\" class=\"data row0 col5\" >Black</td>\n",
       "      <td id=\"T_7f458_row0_col6\" class=\"data row0 col6\" >Male</td>\n",
       "      <td id=\"T_7f458_row0_col7\" class=\"data row0 col7\" >0.000000</td>\n",
       "      <td id=\"T_7f458_row0_col8\" class=\"data row0 col8\" >0.000000</td>\n",
       "      <td id=\"T_7f458_row0_col9\" class=\"data row0 col9\" >MidTime</td>\n",
       "      <td id=\"T_7f458_row0_col10\" class=\"data row0 col10\" >United-States</td>\n",
       "      <td id=\"T_7f458_row0_col11\" class=\"data row0 col11\" >0</td>\n",
       "    </tr>\n",
       "    <tr>\n",
       "      <th id=\"T_7f458_level0_row1\" class=\"row_heading level0 row1\" >CF[0] for 696</th>\n",
       "      <td id=\"T_7f458_row1_col0\" class=\"data row1 col0\" >Aged</td>\n",
       "      <td id=\"T_7f458_row1_col1\" class=\"data row1 col1\" >Private</td>\n",
       "      <td id=\"T_7f458_row1_col2\" class=\"data row1 col2\" >Masters</td>\n",
       "      <td id=\"T_7f458_row1_col3\" class=\"data row1 col3\" >Other-service</td>\n",
       "      <td id=\"T_7f458_row1_col4\" class=\"data row1 col4\" >Married</td>\n",
       "      <td id=\"T_7f458_row1_col5\" class=\"data row1 col5\" >Black</td>\n",
       "      <td id=\"T_7f458_row1_col6\" class=\"data row1 col6\" >Male</td>\n",
       "      <td id=\"T_7f458_row1_col7\" class=\"data row1 col7\" >0.000000</td>\n",
       "      <td id=\"T_7f458_row1_col8\" class=\"data row1 col8\" >0.000000</td>\n",
       "      <td id=\"T_7f458_row1_col9\" class=\"data row1 col9\" >BrainDrain</td>\n",
       "      <td id=\"T_7f458_row1_col10\" class=\"data row1 col10\" >United-States</td>\n",
       "      <td id=\"T_7f458_row1_col11\" class=\"data row1 col11\" >1</td>\n",
       "    </tr>\n",
       "    <tr>\n",
       "      <th id=\"T_7f458_level0_row2\" class=\"row_heading level0 row2\" >CF[1] for 696</th>\n",
       "      <td id=\"T_7f458_row2_col0\" class=\"data row2 col0\" >Aged</td>\n",
       "      <td id=\"T_7f458_row2_col1\" class=\"data row2 col1\" >Private</td>\n",
       "      <td id=\"T_7f458_row2_col2\" class=\"data row2 col2\" >Masters</td>\n",
       "      <td id=\"T_7f458_row2_col3\" class=\"data row2 col3\" >Sales</td>\n",
       "      <td id=\"T_7f458_row2_col4\" class=\"data row2 col4\" >Married</td>\n",
       "      <td id=\"T_7f458_row2_col5\" class=\"data row2 col5\" >Black</td>\n",
       "      <td id=\"T_7f458_row2_col6\" class=\"data row2 col6\" >Male</td>\n",
       "      <td id=\"T_7f458_row2_col7\" class=\"data row2 col7\" >0.000000</td>\n",
       "      <td id=\"T_7f458_row2_col8\" class=\"data row2 col8\" >0.000000</td>\n",
       "      <td id=\"T_7f458_row2_col9\" class=\"data row2 col9\" >MidTime</td>\n",
       "      <td id=\"T_7f458_row2_col10\" class=\"data row2 col10\" >United-States</td>\n",
       "      <td id=\"T_7f458_row2_col11\" class=\"data row2 col11\" >1</td>\n",
       "    </tr>\n",
       "    <tr>\n",
       "      <th id=\"T_7f458_level0_row3\" class=\"row_heading level0 row3\" >CF[2] for 696</th>\n",
       "      <td id=\"T_7f458_row3_col0\" class=\"data row3 col0\" >Aged</td>\n",
       "      <td id=\"T_7f458_row3_col1\" class=\"data row3 col1\" >Private</td>\n",
       "      <td id=\"T_7f458_row3_col2\" class=\"data row3 col2\" >Bachelors</td>\n",
       "      <td id=\"T_7f458_row3_col3\" class=\"data row3 col3\" >Craft-repair</td>\n",
       "      <td id=\"T_7f458_row3_col4\" class=\"data row3 col4\" >Married</td>\n",
       "      <td id=\"T_7f458_row3_col5\" class=\"data row3 col5\" >Black</td>\n",
       "      <td id=\"T_7f458_row3_col6\" class=\"data row3 col6\" >Male</td>\n",
       "      <td id=\"T_7f458_row3_col7\" class=\"data row3 col7\" >0.000000</td>\n",
       "      <td id=\"T_7f458_row3_col8\" class=\"data row3 col8\" >0.000000</td>\n",
       "      <td id=\"T_7f458_row3_col9\" class=\"data row3 col9\" >FullTime</td>\n",
       "      <td id=\"T_7f458_row3_col10\" class=\"data row3 col10\" >United-States</td>\n",
       "      <td id=\"T_7f458_row3_col11\" class=\"data row3 col11\" >1</td>\n",
       "    </tr>\n",
       "    <tr>\n",
       "      <th id=\"T_7f458_level0_row4\" class=\"row_heading level0 row4\" >CF[3] for 696</th>\n",
       "      <td id=\"T_7f458_row4_col0\" class=\"data row4 col0\" >Aged</td>\n",
       "      <td id=\"T_7f458_row4_col1\" class=\"data row4 col1\" >Private</td>\n",
       "      <td id=\"T_7f458_row4_col2\" class=\"data row4 col2\" >11th</td>\n",
       "      <td id=\"T_7f458_row4_col3\" class=\"data row4 col3\" >Other-service</td>\n",
       "      <td id=\"T_7f458_row4_col4\" class=\"data row4 col4\" >Married</td>\n",
       "      <td id=\"T_7f458_row4_col5\" class=\"data row4 col5\" >Black</td>\n",
       "      <td id=\"T_7f458_row4_col6\" class=\"data row4 col6\" >Male</td>\n",
       "      <td id=\"T_7f458_row4_col7\" class=\"data row4 col7\" >0.000000</td>\n",
       "      <td id=\"T_7f458_row4_col8\" class=\"data row4 col8\" >1902.000000</td>\n",
       "      <td id=\"T_7f458_row4_col9\" class=\"data row4 col9\" >FullTime</td>\n",
       "      <td id=\"T_7f458_row4_col10\" class=\"data row4 col10\" >United-States</td>\n",
       "      <td id=\"T_7f458_row4_col11\" class=\"data row4 col11\" >1</td>\n",
       "    </tr>\n",
       "    <tr>\n",
       "      <th id=\"T_7f458_level0_row5\" class=\"row_heading level0 row5\" >CF[4] for 696</th>\n",
       "      <td id=\"T_7f458_row5_col0\" class=\"data row5 col0\" >Aged</td>\n",
       "      <td id=\"T_7f458_row5_col1\" class=\"data row5 col1\" >Private</td>\n",
       "      <td id=\"T_7f458_row5_col2\" class=\"data row5 col2\" >11th</td>\n",
       "      <td id=\"T_7f458_row5_col3\" class=\"data row5 col3\" >Prof-specialty</td>\n",
       "      <td id=\"T_7f458_row5_col4\" class=\"data row5 col4\" >Married</td>\n",
       "      <td id=\"T_7f458_row5_col5\" class=\"data row5 col5\" >Black</td>\n",
       "      <td id=\"T_7f458_row5_col6\" class=\"data row5 col6\" >Male</td>\n",
       "      <td id=\"T_7f458_row5_col7\" class=\"data row5 col7\" >0.000000</td>\n",
       "      <td id=\"T_7f458_row5_col8\" class=\"data row5 col8\" >1902.000000</td>\n",
       "      <td id=\"T_7f458_row5_col9\" class=\"data row5 col9\" >MidTime</td>\n",
       "      <td id=\"T_7f458_row5_col10\" class=\"data row5 col10\" >United-States</td>\n",
       "      <td id=\"T_7f458_row5_col11\" class=\"data row5 col11\" >1</td>\n",
       "    </tr>\n",
       "  </tbody>\n",
       "</table>\n"
      ],
      "text/plain": [
       "<pandas.io.formats.style.Styler at 0x7fc2eb5e7c90>"
      ]
     },
     "metadata": {},
     "output_type": "display_data"
    },
    {
     "data": {
      "text/html": [
       "<style type=\"text/css\">\n",
       "#T_147db_row1_col4, #T_147db_row1_col11, #T_147db_row2_col1, #T_147db_row2_col4, #T_147db_row2_col11, #T_147db_row3_col1, #T_147db_row3_col3, #T_147db_row3_col11, #T_147db_row4_col3, #T_147db_row4_col4, #T_147db_row4_col11, #T_147db_row5_col3, #T_147db_row5_col9, #T_147db_row5_col11 {\n",
       "  color: red;\n",
       "}\n",
       "</style>\n",
       "<table id=\"T_147db\">\n",
       "  <thead>\n",
       "    <tr>\n",
       "      <th class=\"blank level0\" >&nbsp;</th>\n",
       "      <th id=\"T_147db_level0_col0\" class=\"col_heading level0 col0\" >Age</th>\n",
       "      <th id=\"T_147db_level0_col1\" class=\"col_heading level0 col1\" >Workclass</th>\n",
       "      <th id=\"T_147db_level0_col2\" class=\"col_heading level0 col2\" >Education</th>\n",
       "      <th id=\"T_147db_level0_col3\" class=\"col_heading level0 col3\" >Occupation</th>\n",
       "      <th id=\"T_147db_level0_col4\" class=\"col_heading level0 col4\" >Relationship</th>\n",
       "      <th id=\"T_147db_level0_col5\" class=\"col_heading level0 col5\" >Race</th>\n",
       "      <th id=\"T_147db_level0_col6\" class=\"col_heading level0 col6\" >Sex</th>\n",
       "      <th id=\"T_147db_level0_col7\" class=\"col_heading level0 col7\" >Capital Gain</th>\n",
       "      <th id=\"T_147db_level0_col8\" class=\"col_heading level0 col8\" >Capital Loss</th>\n",
       "      <th id=\"T_147db_level0_col9\" class=\"col_heading level0 col9\" >Hours per week</th>\n",
       "      <th id=\"T_147db_level0_col10\" class=\"col_heading level0 col10\" >Country</th>\n",
       "      <th id=\"T_147db_level0_col11\" class=\"col_heading level0 col11\" >label</th>\n",
       "    </tr>\n",
       "  </thead>\n",
       "  <tbody>\n",
       "    <tr>\n",
       "      <th id=\"T_147db_level0_row0\" class=\"row_heading level0 row0\" >1144</th>\n",
       "      <td id=\"T_147db_row0_col0\" class=\"data row0 col0\" >Young</td>\n",
       "      <td id=\"T_147db_row0_col1\" class=\"data row0 col1\" >Private</td>\n",
       "      <td id=\"T_147db_row0_col2\" class=\"data row0 col2\" >Masters</td>\n",
       "      <td id=\"T_147db_row0_col3\" class=\"data row0 col3\" >Prof-specialty</td>\n",
       "      <td id=\"T_147db_row0_col4\" class=\"data row0 col4\" >Married</td>\n",
       "      <td id=\"T_147db_row0_col5\" class=\"data row0 col5\" >White</td>\n",
       "      <td id=\"T_147db_row0_col6\" class=\"data row0 col6\" >Female</td>\n",
       "      <td id=\"T_147db_row0_col7\" class=\"data row0 col7\" >0.000000</td>\n",
       "      <td id=\"T_147db_row0_col8\" class=\"data row0 col8\" >0.000000</td>\n",
       "      <td id=\"T_147db_row0_col9\" class=\"data row0 col9\" >OverTime</td>\n",
       "      <td id=\"T_147db_row0_col10\" class=\"data row0 col10\" >United-States</td>\n",
       "      <td id=\"T_147db_row0_col11\" class=\"data row0 col11\" >1</td>\n",
       "    </tr>\n",
       "    <tr>\n",
       "      <th id=\"T_147db_level0_row1\" class=\"row_heading level0 row1\" >CF[0] for 1144</th>\n",
       "      <td id=\"T_147db_row1_col0\" class=\"data row1 col0\" >Young</td>\n",
       "      <td id=\"T_147db_row1_col1\" class=\"data row1 col1\" >Private</td>\n",
       "      <td id=\"T_147db_row1_col2\" class=\"data row1 col2\" >Masters</td>\n",
       "      <td id=\"T_147db_row1_col3\" class=\"data row1 col3\" >Prof-specialty</td>\n",
       "      <td id=\"T_147db_row1_col4\" class=\"data row1 col4\" >Not-in-family</td>\n",
       "      <td id=\"T_147db_row1_col5\" class=\"data row1 col5\" >White</td>\n",
       "      <td id=\"T_147db_row1_col6\" class=\"data row1 col6\" >Female</td>\n",
       "      <td id=\"T_147db_row1_col7\" class=\"data row1 col7\" >0.000000</td>\n",
       "      <td id=\"T_147db_row1_col8\" class=\"data row1 col8\" >0.000000</td>\n",
       "      <td id=\"T_147db_row1_col9\" class=\"data row1 col9\" >OverTime</td>\n",
       "      <td id=\"T_147db_row1_col10\" class=\"data row1 col10\" >United-States</td>\n",
       "      <td id=\"T_147db_row1_col11\" class=\"data row1 col11\" >0</td>\n",
       "    </tr>\n",
       "    <tr>\n",
       "      <th id=\"T_147db_level0_row2\" class=\"row_heading level0 row2\" >CF[1] for 1144</th>\n",
       "      <td id=\"T_147db_row2_col0\" class=\"data row2 col0\" >Young</td>\n",
       "      <td id=\"T_147db_row2_col1\" class=\"data row2 col1\" >Local-gov</td>\n",
       "      <td id=\"T_147db_row2_col2\" class=\"data row2 col2\" >Masters</td>\n",
       "      <td id=\"T_147db_row2_col3\" class=\"data row2 col3\" >Prof-specialty</td>\n",
       "      <td id=\"T_147db_row2_col4\" class=\"data row2 col4\" >Unmarried</td>\n",
       "      <td id=\"T_147db_row2_col5\" class=\"data row2 col5\" >White</td>\n",
       "      <td id=\"T_147db_row2_col6\" class=\"data row2 col6\" >Female</td>\n",
       "      <td id=\"T_147db_row2_col7\" class=\"data row2 col7\" >0.000000</td>\n",
       "      <td id=\"T_147db_row2_col8\" class=\"data row2 col8\" >0.000000</td>\n",
       "      <td id=\"T_147db_row2_col9\" class=\"data row2 col9\" >OverTime</td>\n",
       "      <td id=\"T_147db_row2_col10\" class=\"data row2 col10\" >United-States</td>\n",
       "      <td id=\"T_147db_row2_col11\" class=\"data row2 col11\" >0</td>\n",
       "    </tr>\n",
       "    <tr>\n",
       "      <th id=\"T_147db_level0_row3\" class=\"row_heading level0 row3\" >CF[2] for 1144</th>\n",
       "      <td id=\"T_147db_row3_col0\" class=\"data row3 col0\" >Young</td>\n",
       "      <td id=\"T_147db_row3_col1\" class=\"data row3 col1\" >Local-gov</td>\n",
       "      <td id=\"T_147db_row3_col2\" class=\"data row3 col2\" >Masters</td>\n",
       "      <td id=\"T_147db_row3_col3\" class=\"data row3 col3\" >Machine-op-inspct</td>\n",
       "      <td id=\"T_147db_row3_col4\" class=\"data row3 col4\" >Married</td>\n",
       "      <td id=\"T_147db_row3_col5\" class=\"data row3 col5\" >White</td>\n",
       "      <td id=\"T_147db_row3_col6\" class=\"data row3 col6\" >Female</td>\n",
       "      <td id=\"T_147db_row3_col7\" class=\"data row3 col7\" >0.000000</td>\n",
       "      <td id=\"T_147db_row3_col8\" class=\"data row3 col8\" >0.000000</td>\n",
       "      <td id=\"T_147db_row3_col9\" class=\"data row3 col9\" >OverTime</td>\n",
       "      <td id=\"T_147db_row3_col10\" class=\"data row3 col10\" >United-States</td>\n",
       "      <td id=\"T_147db_row3_col11\" class=\"data row3 col11\" >0</td>\n",
       "    </tr>\n",
       "    <tr>\n",
       "      <th id=\"T_147db_level0_row4\" class=\"row_heading level0 row4\" >CF[3] for 1144</th>\n",
       "      <td id=\"T_147db_row4_col0\" class=\"data row4 col0\" >Young</td>\n",
       "      <td id=\"T_147db_row4_col1\" class=\"data row4 col1\" >Private</td>\n",
       "      <td id=\"T_147db_row4_col2\" class=\"data row4 col2\" >Masters</td>\n",
       "      <td id=\"T_147db_row4_col3\" class=\"data row4 col3\" >Machine-op-inspct</td>\n",
       "      <td id=\"T_147db_row4_col4\" class=\"data row4 col4\" >Not-in-family</td>\n",
       "      <td id=\"T_147db_row4_col5\" class=\"data row4 col5\" >White</td>\n",
       "      <td id=\"T_147db_row4_col6\" class=\"data row4 col6\" >Female</td>\n",
       "      <td id=\"T_147db_row4_col7\" class=\"data row4 col7\" >0.000000</td>\n",
       "      <td id=\"T_147db_row4_col8\" class=\"data row4 col8\" >0.000000</td>\n",
       "      <td id=\"T_147db_row4_col9\" class=\"data row4 col9\" >OverTime</td>\n",
       "      <td id=\"T_147db_row4_col10\" class=\"data row4 col10\" >United-States</td>\n",
       "      <td id=\"T_147db_row4_col11\" class=\"data row4 col11\" >0</td>\n",
       "    </tr>\n",
       "    <tr>\n",
       "      <th id=\"T_147db_level0_row5\" class=\"row_heading level0 row5\" >CF[4] for 1144</th>\n",
       "      <td id=\"T_147db_row5_col0\" class=\"data row5 col0\" >Young</td>\n",
       "      <td id=\"T_147db_row5_col1\" class=\"data row5 col1\" >Private</td>\n",
       "      <td id=\"T_147db_row5_col2\" class=\"data row5 col2\" >Masters</td>\n",
       "      <td id=\"T_147db_row5_col3\" class=\"data row5 col3\" >Machine-op-inspct</td>\n",
       "      <td id=\"T_147db_row5_col4\" class=\"data row5 col4\" >Married</td>\n",
       "      <td id=\"T_147db_row5_col5\" class=\"data row5 col5\" >White</td>\n",
       "      <td id=\"T_147db_row5_col6\" class=\"data row5 col6\" >Female</td>\n",
       "      <td id=\"T_147db_row5_col7\" class=\"data row5 col7\" >0.000000</td>\n",
       "      <td id=\"T_147db_row5_col8\" class=\"data row5 col8\" >0.000000</td>\n",
       "      <td id=\"T_147db_row5_col9\" class=\"data row5 col9\" >PartTime</td>\n",
       "      <td id=\"T_147db_row5_col10\" class=\"data row5 col10\" >United-States</td>\n",
       "      <td id=\"T_147db_row5_col11\" class=\"data row5 col11\" >0</td>\n",
       "    </tr>\n",
       "  </tbody>\n",
       "</table>\n"
      ],
      "text/plain": [
       "<pandas.io.formats.style.Styler at 0x7fc2ec24cad0>"
      ]
     },
     "metadata": {},
     "output_type": "display_data"
    }
   ],
   "source": [
    "print(\"MACE results:\")\n",
    "\n",
    "\n",
    "for expl_id, instance_id in enumerate(instance_ids):\n",
    "    \n",
    "    query_df = local_explanations['mace'].get_explanations()[expl_id]['query'].reset_index(drop=True)\n",
    "    query_df.index = [f\"{instance_id}\"] * len(query_df)\n",
    "    # display(query_df)\n",
    "\n",
    "\n",
    "    counter_df = local_explanations['mace'].get_explanations()[expl_id]['counterfactual'].reset_index(drop=True)\n",
    "    counter_df.index = [ f\"CF[{cnt}] for {instance_id}\" for cnt in range(len(counter_df))]\n",
    "    # display(counter_df)\n",
    "\n",
    "    combined_df = pd.concat([query_df, counter_df])\n",
    "\n",
    "\n",
    "    # Highlighting function\n",
    "    def highlight_changes(row):\n",
    "        instance_row = combined_df.iloc[0]  # Reference row for the instance\n",
    "        return [\"color: red\" if row[col] != instance_row[col] else \"\" for col in combined_df.columns]\n",
    "\n",
    "    # Apply the style\n",
    "    styled_df = combined_df.style.apply(highlight_changes, axis=1)\n",
    "    \n",
    "    # Display the styled dataframe\n",
    "    display(styled_df) \n",
    "\n"
   ]
  },
  {
   "cell_type": "markdown",
   "id": "49c2ac57-f02e-47b2-9b0b-cd44e2054c93",
   "metadata": {},
   "source": [
    "Changing the values of the attributes in red will change the label"
   ]
  },
  {
   "cell_type": "markdown",
   "id": "f736cdc4-4866-4870-8757-aef366316329",
   "metadata": {},
   "source": [
    "### Investigate Noisy Values "
   ]
  },
  {
   "cell_type": "markdown",
   "id": "41b52c44-dc38-49db-b88a-925daa107fa0",
   "metadata": {},
   "source": [
    "To investiate the noisy values, we will compare the predictions from the private classifier to the predictions of the original classifier where the Age and Sex columns changed. \n",
    "\n",
    "If the noisy values for these attributes lead to a change in the prediction, we can conclude that the noisy values are responsible for the model being confident and wrong \n"
   ]
  },
  {
   "cell_type": "code",
   "execution_count": 554,
   "id": "f9c6bbd3-d0ed-432a-86a7-f8fb2d064257",
   "metadata": {},
   "outputs": [],
   "source": [
    "# Compare original and noisy attributes for misclassified instances\n",
    "original_sensitive = test_df.iloc[high_conf_idx][['Age', 'Sex', 'prediction', 'label']]\n",
    "noisy_sensitive = high_confidence_errors[['Age', 'Sex', 'prediction', 'confidence']]\n",
    "noisy_sensitive.rename(columns={'prediction': 'prediction_private', 'Age':'Age_private', 'Sex':'Sex_private'}, inplace=True)"
   ]
  },
  {
   "cell_type": "code",
   "execution_count": 555,
   "id": "17c80d3a-bda0-4a7b-b3db-cf89366bb7e0",
   "metadata": {},
   "outputs": [
    {
     "name": "stdout",
     "output_type": "stream",
     "text": [
      "Comparison of original vs. noisy sensitive attributes for high confidence errors:\n"
     ]
    },
    {
     "data": {
      "text/html": [
       "<div>\n",
       "<style scoped>\n",
       "    .dataframe tbody tr th:only-of-type {\n",
       "        vertical-align: middle;\n",
       "    }\n",
       "\n",
       "    .dataframe tbody tr th {\n",
       "        vertical-align: top;\n",
       "    }\n",
       "\n",
       "    .dataframe thead th {\n",
       "        text-align: right;\n",
       "    }\n",
       "</style>\n",
       "<table border=\"1\" class=\"dataframe\">\n",
       "  <thead>\n",
       "    <tr style=\"text-align: right;\">\n",
       "      <th></th>\n",
       "      <th>Age</th>\n",
       "      <th>Sex</th>\n",
       "      <th>prediction</th>\n",
       "      <th>label</th>\n",
       "      <th>Age_private</th>\n",
       "      <th>Sex_private</th>\n",
       "      <th>prediction_private</th>\n",
       "      <th>confidence</th>\n",
       "    </tr>\n",
       "  </thead>\n",
       "  <tbody>\n",
       "    <tr>\n",
       "      <th>96</th>\n",
       "      <td>Aged</td>\n",
       "      <td>Male</td>\n",
       "      <td>0.0</td>\n",
       "      <td>1</td>\n",
       "      <td>Aged</td>\n",
       "      <td>Male</td>\n",
       "      <td>0.0</td>\n",
       "      <td>1.000000</td>\n",
       "    </tr>\n",
       "    <tr>\n",
       "      <th>363</th>\n",
       "      <td>Young</td>\n",
       "      <td>Female</td>\n",
       "      <td>0.0</td>\n",
       "      <td>1</td>\n",
       "      <td>Aged</td>\n",
       "      <td>Male</td>\n",
       "      <td>0.0</td>\n",
       "      <td>1.000000</td>\n",
       "    </tr>\n",
       "    <tr>\n",
       "      <th>438</th>\n",
       "      <td>Aged</td>\n",
       "      <td>Male</td>\n",
       "      <td>1.0</td>\n",
       "      <td>0</td>\n",
       "      <td>Aged</td>\n",
       "      <td>Female</td>\n",
       "      <td>1.0</td>\n",
       "      <td>0.990000</td>\n",
       "    </tr>\n",
       "    <tr>\n",
       "      <th>663</th>\n",
       "      <td>Young</td>\n",
       "      <td>Male</td>\n",
       "      <td>1.0</td>\n",
       "      <td>0</td>\n",
       "      <td>Aged</td>\n",
       "      <td>Female</td>\n",
       "      <td>1.0</td>\n",
       "      <td>1.000000</td>\n",
       "    </tr>\n",
       "    <tr>\n",
       "      <th>664</th>\n",
       "      <td>Aged</td>\n",
       "      <td>Male</td>\n",
       "      <td>1.0</td>\n",
       "      <td>0</td>\n",
       "      <td>Aged</td>\n",
       "      <td>Male</td>\n",
       "      <td>1.0</td>\n",
       "      <td>0.996000</td>\n",
       "    </tr>\n",
       "    <tr>\n",
       "      <th>696</th>\n",
       "      <td>Aged</td>\n",
       "      <td>Female</td>\n",
       "      <td>0.0</td>\n",
       "      <td>1</td>\n",
       "      <td>Aged</td>\n",
       "      <td>Male</td>\n",
       "      <td>0.0</td>\n",
       "      <td>0.988333</td>\n",
       "    </tr>\n",
       "    <tr>\n",
       "      <th>725</th>\n",
       "      <td>Aged</td>\n",
       "      <td>Female</td>\n",
       "      <td>0.0</td>\n",
       "      <td>1</td>\n",
       "      <td>Aged</td>\n",
       "      <td>Male</td>\n",
       "      <td>0.0</td>\n",
       "      <td>0.997500</td>\n",
       "    </tr>\n",
       "    <tr>\n",
       "      <th>993</th>\n",
       "      <td>Young</td>\n",
       "      <td>Male</td>\n",
       "      <td>0.0</td>\n",
       "      <td>1</td>\n",
       "      <td>Young</td>\n",
       "      <td>Male</td>\n",
       "      <td>0.0</td>\n",
       "      <td>0.995500</td>\n",
       "    </tr>\n",
       "    <tr>\n",
       "      <th>1042</th>\n",
       "      <td>Aged</td>\n",
       "      <td>Male</td>\n",
       "      <td>0.0</td>\n",
       "      <td>1</td>\n",
       "      <td>Young</td>\n",
       "      <td>Male</td>\n",
       "      <td>0.0</td>\n",
       "      <td>1.000000</td>\n",
       "    </tr>\n",
       "    <tr>\n",
       "      <th>1144</th>\n",
       "      <td>Aged</td>\n",
       "      <td>Male</td>\n",
       "      <td>1.0</td>\n",
       "      <td>0</td>\n",
       "      <td>Young</td>\n",
       "      <td>Female</td>\n",
       "      <td>1.0</td>\n",
       "      <td>0.984167</td>\n",
       "    </tr>\n",
       "    <tr>\n",
       "      <th>1317</th>\n",
       "      <td>Young</td>\n",
       "      <td>Male</td>\n",
       "      <td>0.0</td>\n",
       "      <td>1</td>\n",
       "      <td>Aged</td>\n",
       "      <td>Female</td>\n",
       "      <td>0.0</td>\n",
       "      <td>0.982500</td>\n",
       "    </tr>\n",
       "    <tr>\n",
       "      <th>1369</th>\n",
       "      <td>Aged</td>\n",
       "      <td>Female</td>\n",
       "      <td>0.0</td>\n",
       "      <td>1</td>\n",
       "      <td>Young</td>\n",
       "      <td>Female</td>\n",
       "      <td>0.0</td>\n",
       "      <td>0.996071</td>\n",
       "    </tr>\n",
       "    <tr>\n",
       "      <th>1581</th>\n",
       "      <td>Young</td>\n",
       "      <td>Male</td>\n",
       "      <td>0.0</td>\n",
       "      <td>1</td>\n",
       "      <td>Young</td>\n",
       "      <td>Male</td>\n",
       "      <td>0.0</td>\n",
       "      <td>1.000000</td>\n",
       "    </tr>\n",
       "    <tr>\n",
       "      <th>1605</th>\n",
       "      <td>Aged</td>\n",
       "      <td>Male</td>\n",
       "      <td>0.0</td>\n",
       "      <td>1</td>\n",
       "      <td>Aged</td>\n",
       "      <td>Male</td>\n",
       "      <td>0.0</td>\n",
       "      <td>0.986667</td>\n",
       "    </tr>\n",
       "    <tr>\n",
       "      <th>1621</th>\n",
       "      <td>Aged</td>\n",
       "      <td>Male</td>\n",
       "      <td>0.0</td>\n",
       "      <td>1</td>\n",
       "      <td>Aged</td>\n",
       "      <td>Male</td>\n",
       "      <td>0.0</td>\n",
       "      <td>1.000000</td>\n",
       "    </tr>\n",
       "    <tr>\n",
       "      <th>1889</th>\n",
       "      <td>Young</td>\n",
       "      <td>Male</td>\n",
       "      <td>0.0</td>\n",
       "      <td>1</td>\n",
       "      <td>Young</td>\n",
       "      <td>Female</td>\n",
       "      <td>0.0</td>\n",
       "      <td>0.990000</td>\n",
       "    </tr>\n",
       "    <tr>\n",
       "      <th>1912</th>\n",
       "      <td>Young</td>\n",
       "      <td>Male</td>\n",
       "      <td>0.0</td>\n",
       "      <td>1</td>\n",
       "      <td>Aged</td>\n",
       "      <td>Male</td>\n",
       "      <td>0.0</td>\n",
       "      <td>1.000000</td>\n",
       "    </tr>\n",
       "    <tr>\n",
       "      <th>1970</th>\n",
       "      <td>Aged</td>\n",
       "      <td>Male</td>\n",
       "      <td>1.0</td>\n",
       "      <td>0</td>\n",
       "      <td>Aged</td>\n",
       "      <td>Male</td>\n",
       "      <td>1.0</td>\n",
       "      <td>0.983333</td>\n",
       "    </tr>\n",
       "    <tr>\n",
       "      <th>2004</th>\n",
       "      <td>Young</td>\n",
       "      <td>Male</td>\n",
       "      <td>0.0</td>\n",
       "      <td>1</td>\n",
       "      <td>Young</td>\n",
       "      <td>Male</td>\n",
       "      <td>0.0</td>\n",
       "      <td>1.000000</td>\n",
       "    </tr>\n",
       "    <tr>\n",
       "      <th>2006</th>\n",
       "      <td>Aged</td>\n",
       "      <td>Male</td>\n",
       "      <td>0.0</td>\n",
       "      <td>1</td>\n",
       "      <td>Aged</td>\n",
       "      <td>Male</td>\n",
       "      <td>0.0</td>\n",
       "      <td>0.997500</td>\n",
       "    </tr>\n",
       "    <tr>\n",
       "      <th>2029</th>\n",
       "      <td>Aged</td>\n",
       "      <td>Male</td>\n",
       "      <td>0.0</td>\n",
       "      <td>1</td>\n",
       "      <td>Aged</td>\n",
       "      <td>Male</td>\n",
       "      <td>0.0</td>\n",
       "      <td>1.000000</td>\n",
       "    </tr>\n",
       "    <tr>\n",
       "      <th>2034</th>\n",
       "      <td>Aged</td>\n",
       "      <td>Female</td>\n",
       "      <td>0.0</td>\n",
       "      <td>1</td>\n",
       "      <td>Aged</td>\n",
       "      <td>Female</td>\n",
       "      <td>0.0</td>\n",
       "      <td>0.990000</td>\n",
       "    </tr>\n",
       "    <tr>\n",
       "      <th>2053</th>\n",
       "      <td>Young</td>\n",
       "      <td>Male</td>\n",
       "      <td>0.0</td>\n",
       "      <td>1</td>\n",
       "      <td>Aged</td>\n",
       "      <td>Female</td>\n",
       "      <td>0.0</td>\n",
       "      <td>1.000000</td>\n",
       "    </tr>\n",
       "    <tr>\n",
       "      <th>2146</th>\n",
       "      <td>Aged</td>\n",
       "      <td>Female</td>\n",
       "      <td>0.0</td>\n",
       "      <td>1</td>\n",
       "      <td>Aged</td>\n",
       "      <td>Female</td>\n",
       "      <td>0.0</td>\n",
       "      <td>1.000000</td>\n",
       "    </tr>\n",
       "    <tr>\n",
       "      <th>2151</th>\n",
       "      <td>Aged</td>\n",
       "      <td>Male</td>\n",
       "      <td>0.0</td>\n",
       "      <td>1</td>\n",
       "      <td>Young</td>\n",
       "      <td>Male</td>\n",
       "      <td>0.0</td>\n",
       "      <td>1.000000</td>\n",
       "    </tr>\n",
       "    <tr>\n",
       "      <th>2337</th>\n",
       "      <td>Aged</td>\n",
       "      <td>Male</td>\n",
       "      <td>0.0</td>\n",
       "      <td>1</td>\n",
       "      <td>Aged</td>\n",
       "      <td>Male</td>\n",
       "      <td>0.0</td>\n",
       "      <td>1.000000</td>\n",
       "    </tr>\n",
       "    <tr>\n",
       "      <th>2447</th>\n",
       "      <td>Aged</td>\n",
       "      <td>Male</td>\n",
       "      <td>0.0</td>\n",
       "      <td>1</td>\n",
       "      <td>Aged</td>\n",
       "      <td>Female</td>\n",
       "      <td>0.0</td>\n",
       "      <td>0.990000</td>\n",
       "    </tr>\n",
       "    <tr>\n",
       "      <th>2461</th>\n",
       "      <td>Young</td>\n",
       "      <td>Male</td>\n",
       "      <td>1.0</td>\n",
       "      <td>0</td>\n",
       "      <td>Young</td>\n",
       "      <td>Female</td>\n",
       "      <td>1.0</td>\n",
       "      <td>1.000000</td>\n",
       "    </tr>\n",
       "    <tr>\n",
       "      <th>2511</th>\n",
       "      <td>Aged</td>\n",
       "      <td>Male</td>\n",
       "      <td>0.0</td>\n",
       "      <td>1</td>\n",
       "      <td>Aged</td>\n",
       "      <td>Male</td>\n",
       "      <td>0.0</td>\n",
       "      <td>1.000000</td>\n",
       "    </tr>\n",
       "    <tr>\n",
       "      <th>2642</th>\n",
       "      <td>Young</td>\n",
       "      <td>Female</td>\n",
       "      <td>0.0</td>\n",
       "      <td>1</td>\n",
       "      <td>Young</td>\n",
       "      <td>Female</td>\n",
       "      <td>0.0</td>\n",
       "      <td>1.000000</td>\n",
       "    </tr>\n",
       "    <tr>\n",
       "      <th>2810</th>\n",
       "      <td>Aged</td>\n",
       "      <td>Male</td>\n",
       "      <td>0.0</td>\n",
       "      <td>1</td>\n",
       "      <td>Aged</td>\n",
       "      <td>Female</td>\n",
       "      <td>0.0</td>\n",
       "      <td>1.000000</td>\n",
       "    </tr>\n",
       "    <tr>\n",
       "      <th>2862</th>\n",
       "      <td>Aged</td>\n",
       "      <td>Male</td>\n",
       "      <td>0.0</td>\n",
       "      <td>1</td>\n",
       "      <td>Aged</td>\n",
       "      <td>Male</td>\n",
       "      <td>0.0</td>\n",
       "      <td>1.000000</td>\n",
       "    </tr>\n",
       "    <tr>\n",
       "      <th>2877</th>\n",
       "      <td>Aged</td>\n",
       "      <td>Female</td>\n",
       "      <td>0.0</td>\n",
       "      <td>1</td>\n",
       "      <td>Young</td>\n",
       "      <td>Female</td>\n",
       "      <td>0.0</td>\n",
       "      <td>1.000000</td>\n",
       "    </tr>\n",
       "    <tr>\n",
       "      <th>2927</th>\n",
       "      <td>Young</td>\n",
       "      <td>Female</td>\n",
       "      <td>0.0</td>\n",
       "      <td>1</td>\n",
       "      <td>Young</td>\n",
       "      <td>Female</td>\n",
       "      <td>0.0</td>\n",
       "      <td>0.990000</td>\n",
       "    </tr>\n",
       "    <tr>\n",
       "      <th>2969</th>\n",
       "      <td>Young</td>\n",
       "      <td>Male</td>\n",
       "      <td>0.0</td>\n",
       "      <td>0</td>\n",
       "      <td>Aged</td>\n",
       "      <td>Male</td>\n",
       "      <td>1.0</td>\n",
       "      <td>0.990000</td>\n",
       "    </tr>\n",
       "    <tr>\n",
       "      <th>3008</th>\n",
       "      <td>Aged</td>\n",
       "      <td>Male</td>\n",
       "      <td>0.0</td>\n",
       "      <td>1</td>\n",
       "      <td>Aged</td>\n",
       "      <td>Male</td>\n",
       "      <td>0.0</td>\n",
       "      <td>1.000000</td>\n",
       "    </tr>\n",
       "    <tr>\n",
       "      <th>3533</th>\n",
       "      <td>Aged</td>\n",
       "      <td>Male</td>\n",
       "      <td>0.0</td>\n",
       "      <td>1</td>\n",
       "      <td>Aged</td>\n",
       "      <td>Male</td>\n",
       "      <td>0.0</td>\n",
       "      <td>0.986317</td>\n",
       "    </tr>\n",
       "    <tr>\n",
       "      <th>3762</th>\n",
       "      <td>Aged</td>\n",
       "      <td>Female</td>\n",
       "      <td>0.0</td>\n",
       "      <td>1</td>\n",
       "      <td>Young</td>\n",
       "      <td>Female</td>\n",
       "      <td>0.0</td>\n",
       "      <td>0.995000</td>\n",
       "    </tr>\n",
       "    <tr>\n",
       "      <th>3787</th>\n",
       "      <td>Aged</td>\n",
       "      <td>Male</td>\n",
       "      <td>1.0</td>\n",
       "      <td>0</td>\n",
       "      <td>Aged</td>\n",
       "      <td>Male</td>\n",
       "      <td>1.0</td>\n",
       "      <td>0.980714</td>\n",
       "    </tr>\n",
       "    <tr>\n",
       "      <th>3909</th>\n",
       "      <td>Aged</td>\n",
       "      <td>Male</td>\n",
       "      <td>0.0</td>\n",
       "      <td>1</td>\n",
       "      <td>Aged</td>\n",
       "      <td>Male</td>\n",
       "      <td>0.0</td>\n",
       "      <td>0.990000</td>\n",
       "    </tr>\n",
       "    <tr>\n",
       "      <th>3977</th>\n",
       "      <td>Aged</td>\n",
       "      <td>Male</td>\n",
       "      <td>0.0</td>\n",
       "      <td>1</td>\n",
       "      <td>Young</td>\n",
       "      <td>Male</td>\n",
       "      <td>0.0</td>\n",
       "      <td>0.985662</td>\n",
       "    </tr>\n",
       "    <tr>\n",
       "      <th>4099</th>\n",
       "      <td>Aged</td>\n",
       "      <td>Male</td>\n",
       "      <td>1.0</td>\n",
       "      <td>0</td>\n",
       "      <td>Aged</td>\n",
       "      <td>Male</td>\n",
       "      <td>1.0</td>\n",
       "      <td>0.990000</td>\n",
       "    </tr>\n",
       "    <tr>\n",
       "      <th>4109</th>\n",
       "      <td>Aged</td>\n",
       "      <td>Male</td>\n",
       "      <td>0.0</td>\n",
       "      <td>1</td>\n",
       "      <td>Young</td>\n",
       "      <td>Male</td>\n",
       "      <td>0.0</td>\n",
       "      <td>0.990000</td>\n",
       "    </tr>\n",
       "    <tr>\n",
       "      <th>4150</th>\n",
       "      <td>Aged</td>\n",
       "      <td>Female</td>\n",
       "      <td>0.0</td>\n",
       "      <td>1</td>\n",
       "      <td>Aged</td>\n",
       "      <td>Female</td>\n",
       "      <td>0.0</td>\n",
       "      <td>0.982333</td>\n",
       "    </tr>\n",
       "    <tr>\n",
       "      <th>4206</th>\n",
       "      <td>Aged</td>\n",
       "      <td>Male</td>\n",
       "      <td>0.0</td>\n",
       "      <td>1</td>\n",
       "      <td>Aged</td>\n",
       "      <td>Male</td>\n",
       "      <td>0.0</td>\n",
       "      <td>1.000000</td>\n",
       "    </tr>\n",
       "    <tr>\n",
       "      <th>4376</th>\n",
       "      <td>Young</td>\n",
       "      <td>Male</td>\n",
       "      <td>0.0</td>\n",
       "      <td>1</td>\n",
       "      <td>Young</td>\n",
       "      <td>Male</td>\n",
       "      <td>0.0</td>\n",
       "      <td>0.997778</td>\n",
       "    </tr>\n",
       "    <tr>\n",
       "      <th>4378</th>\n",
       "      <td>Young</td>\n",
       "      <td>Male</td>\n",
       "      <td>1.0</td>\n",
       "      <td>0</td>\n",
       "      <td>Young</td>\n",
       "      <td>Female</td>\n",
       "      <td>1.0</td>\n",
       "      <td>1.000000</td>\n",
       "    </tr>\n",
       "    <tr>\n",
       "      <th>4404</th>\n",
       "      <td>Aged</td>\n",
       "      <td>Male</td>\n",
       "      <td>1.0</td>\n",
       "      <td>0</td>\n",
       "      <td>Young</td>\n",
       "      <td>Female</td>\n",
       "      <td>1.0</td>\n",
       "      <td>0.990000</td>\n",
       "    </tr>\n",
       "  </tbody>\n",
       "</table>\n",
       "</div>"
      ],
      "text/plain": [
       "        Age     Sex  prediction  label Age_private Sex_private  \\\n",
       "96     Aged    Male         0.0      1        Aged        Male   \n",
       "363   Young  Female         0.0      1        Aged        Male   \n",
       "438    Aged    Male         1.0      0        Aged      Female   \n",
       "663   Young    Male         1.0      0        Aged      Female   \n",
       "664    Aged    Male         1.0      0        Aged        Male   \n",
       "696    Aged  Female         0.0      1        Aged        Male   \n",
       "725    Aged  Female         0.0      1        Aged        Male   \n",
       "993   Young    Male         0.0      1       Young        Male   \n",
       "1042   Aged    Male         0.0      1       Young        Male   \n",
       "1144   Aged    Male         1.0      0       Young      Female   \n",
       "1317  Young    Male         0.0      1        Aged      Female   \n",
       "1369   Aged  Female         0.0      1       Young      Female   \n",
       "1581  Young    Male         0.0      1       Young        Male   \n",
       "1605   Aged    Male         0.0      1        Aged        Male   \n",
       "1621   Aged    Male         0.0      1        Aged        Male   \n",
       "1889  Young    Male         0.0      1       Young      Female   \n",
       "1912  Young    Male         0.0      1        Aged        Male   \n",
       "1970   Aged    Male         1.0      0        Aged        Male   \n",
       "2004  Young    Male         0.0      1       Young        Male   \n",
       "2006   Aged    Male         0.0      1        Aged        Male   \n",
       "2029   Aged    Male         0.0      1        Aged        Male   \n",
       "2034   Aged  Female         0.0      1        Aged      Female   \n",
       "2053  Young    Male         0.0      1        Aged      Female   \n",
       "2146   Aged  Female         0.0      1        Aged      Female   \n",
       "2151   Aged    Male         0.0      1       Young        Male   \n",
       "2337   Aged    Male         0.0      1        Aged        Male   \n",
       "2447   Aged    Male         0.0      1        Aged      Female   \n",
       "2461  Young    Male         1.0      0       Young      Female   \n",
       "2511   Aged    Male         0.0      1        Aged        Male   \n",
       "2642  Young  Female         0.0      1       Young      Female   \n",
       "2810   Aged    Male         0.0      1        Aged      Female   \n",
       "2862   Aged    Male         0.0      1        Aged        Male   \n",
       "2877   Aged  Female         0.0      1       Young      Female   \n",
       "2927  Young  Female         0.0      1       Young      Female   \n",
       "2969  Young    Male         0.0      0        Aged        Male   \n",
       "3008   Aged    Male         0.0      1        Aged        Male   \n",
       "3533   Aged    Male         0.0      1        Aged        Male   \n",
       "3762   Aged  Female         0.0      1       Young      Female   \n",
       "3787   Aged    Male         1.0      0        Aged        Male   \n",
       "3909   Aged    Male         0.0      1        Aged        Male   \n",
       "3977   Aged    Male         0.0      1       Young        Male   \n",
       "4099   Aged    Male         1.0      0        Aged        Male   \n",
       "4109   Aged    Male         0.0      1       Young        Male   \n",
       "4150   Aged  Female         0.0      1        Aged      Female   \n",
       "4206   Aged    Male         0.0      1        Aged        Male   \n",
       "4376  Young    Male         0.0      1       Young        Male   \n",
       "4378  Young    Male         1.0      0       Young      Female   \n",
       "4404   Aged    Male         1.0      0       Young      Female   \n",
       "\n",
       "      prediction_private  confidence  \n",
       "96                   0.0    1.000000  \n",
       "363                  0.0    1.000000  \n",
       "438                  1.0    0.990000  \n",
       "663                  1.0    1.000000  \n",
       "664                  1.0    0.996000  \n",
       "696                  0.0    0.988333  \n",
       "725                  0.0    0.997500  \n",
       "993                  0.0    0.995500  \n",
       "1042                 0.0    1.000000  \n",
       "1144                 1.0    0.984167  \n",
       "1317                 0.0    0.982500  \n",
       "1369                 0.0    0.996071  \n",
       "1581                 0.0    1.000000  \n",
       "1605                 0.0    0.986667  \n",
       "1621                 0.0    1.000000  \n",
       "1889                 0.0    0.990000  \n",
       "1912                 0.0    1.000000  \n",
       "1970                 1.0    0.983333  \n",
       "2004                 0.0    1.000000  \n",
       "2006                 0.0    0.997500  \n",
       "2029                 0.0    1.000000  \n",
       "2034                 0.0    0.990000  \n",
       "2053                 0.0    1.000000  \n",
       "2146                 0.0    1.000000  \n",
       "2151                 0.0    1.000000  \n",
       "2337                 0.0    1.000000  \n",
       "2447                 0.0    0.990000  \n",
       "2461                 1.0    1.000000  \n",
       "2511                 0.0    1.000000  \n",
       "2642                 0.0    1.000000  \n",
       "2810                 0.0    1.000000  \n",
       "2862                 0.0    1.000000  \n",
       "2877                 0.0    1.000000  \n",
       "2927                 0.0    0.990000  \n",
       "2969                 1.0    0.990000  \n",
       "3008                 0.0    1.000000  \n",
       "3533                 0.0    0.986317  \n",
       "3762                 0.0    0.995000  \n",
       "3787                 1.0    0.980714  \n",
       "3909                 0.0    0.990000  \n",
       "3977                 0.0    0.985662  \n",
       "4099                 1.0    0.990000  \n",
       "4109                 0.0    0.990000  \n",
       "4150                 0.0    0.982333  \n",
       "4206                 0.0    1.000000  \n",
       "4376                 0.0    0.997778  \n",
       "4378                 1.0    1.000000  \n",
       "4404                 1.0    0.990000  "
      ]
     },
     "execution_count": 555,
     "metadata": {},
     "output_type": "execute_result"
    }
   ],
   "source": [
    "# Analyze differences\n",
    "sensitive_comparison = pd.concat([original_sensitive, noisy_sensitive], axis=1)\n",
    "print(\"Comparison of original vs. noisy sensitive attributes for high confidence errors:\")\n",
    "sensitive_comparison"
   ]
  },
  {
   "cell_type": "code",
   "execution_count": 556,
   "id": "27de3486-6994-4d34-8bb5-0c44625b30df",
   "metadata": {},
   "outputs": [
    {
     "name": "stdout",
     "output_type": "stream",
     "text": [
      "There are 23 instances where noisy values occur in the test data\n"
     ]
    },
    {
     "data": {
      "text/html": [
       "<div>\n",
       "<style scoped>\n",
       "    .dataframe tbody tr th:only-of-type {\n",
       "        vertical-align: middle;\n",
       "    }\n",
       "\n",
       "    .dataframe tbody tr th {\n",
       "        vertical-align: top;\n",
       "    }\n",
       "\n",
       "    .dataframe thead th {\n",
       "        text-align: right;\n",
       "    }\n",
       "</style>\n",
       "<table border=\"1\" class=\"dataframe\">\n",
       "  <thead>\n",
       "    <tr style=\"text-align: right;\">\n",
       "      <th></th>\n",
       "      <th>Age</th>\n",
       "      <th>Sex</th>\n",
       "      <th>prediction</th>\n",
       "      <th>label</th>\n",
       "      <th>Age_private</th>\n",
       "      <th>Sex_private</th>\n",
       "      <th>prediction_private</th>\n",
       "      <th>confidence</th>\n",
       "    </tr>\n",
       "  </thead>\n",
       "  <tbody>\n",
       "    <tr>\n",
       "      <th>363</th>\n",
       "      <td>Young</td>\n",
       "      <td>Female</td>\n",
       "      <td>0.0</td>\n",
       "      <td>1</td>\n",
       "      <td>Aged</td>\n",
       "      <td>Male</td>\n",
       "      <td>0.0</td>\n",
       "      <td>1.000000</td>\n",
       "    </tr>\n",
       "    <tr>\n",
       "      <th>438</th>\n",
       "      <td>Aged</td>\n",
       "      <td>Male</td>\n",
       "      <td>1.0</td>\n",
       "      <td>0</td>\n",
       "      <td>Aged</td>\n",
       "      <td>Female</td>\n",
       "      <td>1.0</td>\n",
       "      <td>0.990000</td>\n",
       "    </tr>\n",
       "    <tr>\n",
       "      <th>663</th>\n",
       "      <td>Young</td>\n",
       "      <td>Male</td>\n",
       "      <td>1.0</td>\n",
       "      <td>0</td>\n",
       "      <td>Aged</td>\n",
       "      <td>Female</td>\n",
       "      <td>1.0</td>\n",
       "      <td>1.000000</td>\n",
       "    </tr>\n",
       "    <tr>\n",
       "      <th>696</th>\n",
       "      <td>Aged</td>\n",
       "      <td>Female</td>\n",
       "      <td>0.0</td>\n",
       "      <td>1</td>\n",
       "      <td>Aged</td>\n",
       "      <td>Male</td>\n",
       "      <td>0.0</td>\n",
       "      <td>0.988333</td>\n",
       "    </tr>\n",
       "    <tr>\n",
       "      <th>725</th>\n",
       "      <td>Aged</td>\n",
       "      <td>Female</td>\n",
       "      <td>0.0</td>\n",
       "      <td>1</td>\n",
       "      <td>Aged</td>\n",
       "      <td>Male</td>\n",
       "      <td>0.0</td>\n",
       "      <td>0.997500</td>\n",
       "    </tr>\n",
       "    <tr>\n",
       "      <th>1042</th>\n",
       "      <td>Aged</td>\n",
       "      <td>Male</td>\n",
       "      <td>0.0</td>\n",
       "      <td>1</td>\n",
       "      <td>Young</td>\n",
       "      <td>Male</td>\n",
       "      <td>0.0</td>\n",
       "      <td>1.000000</td>\n",
       "    </tr>\n",
       "    <tr>\n",
       "      <th>1144</th>\n",
       "      <td>Aged</td>\n",
       "      <td>Male</td>\n",
       "      <td>1.0</td>\n",
       "      <td>0</td>\n",
       "      <td>Young</td>\n",
       "      <td>Female</td>\n",
       "      <td>1.0</td>\n",
       "      <td>0.984167</td>\n",
       "    </tr>\n",
       "    <tr>\n",
       "      <th>1317</th>\n",
       "      <td>Young</td>\n",
       "      <td>Male</td>\n",
       "      <td>0.0</td>\n",
       "      <td>1</td>\n",
       "      <td>Aged</td>\n",
       "      <td>Female</td>\n",
       "      <td>0.0</td>\n",
       "      <td>0.982500</td>\n",
       "    </tr>\n",
       "    <tr>\n",
       "      <th>1369</th>\n",
       "      <td>Aged</td>\n",
       "      <td>Female</td>\n",
       "      <td>0.0</td>\n",
       "      <td>1</td>\n",
       "      <td>Young</td>\n",
       "      <td>Female</td>\n",
       "      <td>0.0</td>\n",
       "      <td>0.996071</td>\n",
       "    </tr>\n",
       "    <tr>\n",
       "      <th>1889</th>\n",
       "      <td>Young</td>\n",
       "      <td>Male</td>\n",
       "      <td>0.0</td>\n",
       "      <td>1</td>\n",
       "      <td>Young</td>\n",
       "      <td>Female</td>\n",
       "      <td>0.0</td>\n",
       "      <td>0.990000</td>\n",
       "    </tr>\n",
       "    <tr>\n",
       "      <th>1912</th>\n",
       "      <td>Young</td>\n",
       "      <td>Male</td>\n",
       "      <td>0.0</td>\n",
       "      <td>1</td>\n",
       "      <td>Aged</td>\n",
       "      <td>Male</td>\n",
       "      <td>0.0</td>\n",
       "      <td>1.000000</td>\n",
       "    </tr>\n",
       "    <tr>\n",
       "      <th>2053</th>\n",
       "      <td>Young</td>\n",
       "      <td>Male</td>\n",
       "      <td>0.0</td>\n",
       "      <td>1</td>\n",
       "      <td>Aged</td>\n",
       "      <td>Female</td>\n",
       "      <td>0.0</td>\n",
       "      <td>1.000000</td>\n",
       "    </tr>\n",
       "    <tr>\n",
       "      <th>2151</th>\n",
       "      <td>Aged</td>\n",
       "      <td>Male</td>\n",
       "      <td>0.0</td>\n",
       "      <td>1</td>\n",
       "      <td>Young</td>\n",
       "      <td>Male</td>\n",
       "      <td>0.0</td>\n",
       "      <td>1.000000</td>\n",
       "    </tr>\n",
       "    <tr>\n",
       "      <th>2447</th>\n",
       "      <td>Aged</td>\n",
       "      <td>Male</td>\n",
       "      <td>0.0</td>\n",
       "      <td>1</td>\n",
       "      <td>Aged</td>\n",
       "      <td>Female</td>\n",
       "      <td>0.0</td>\n",
       "      <td>0.990000</td>\n",
       "    </tr>\n",
       "    <tr>\n",
       "      <th>2461</th>\n",
       "      <td>Young</td>\n",
       "      <td>Male</td>\n",
       "      <td>1.0</td>\n",
       "      <td>0</td>\n",
       "      <td>Young</td>\n",
       "      <td>Female</td>\n",
       "      <td>1.0</td>\n",
       "      <td>1.000000</td>\n",
       "    </tr>\n",
       "    <tr>\n",
       "      <th>2810</th>\n",
       "      <td>Aged</td>\n",
       "      <td>Male</td>\n",
       "      <td>0.0</td>\n",
       "      <td>1</td>\n",
       "      <td>Aged</td>\n",
       "      <td>Female</td>\n",
       "      <td>0.0</td>\n",
       "      <td>1.000000</td>\n",
       "    </tr>\n",
       "    <tr>\n",
       "      <th>2877</th>\n",
       "      <td>Aged</td>\n",
       "      <td>Female</td>\n",
       "      <td>0.0</td>\n",
       "      <td>1</td>\n",
       "      <td>Young</td>\n",
       "      <td>Female</td>\n",
       "      <td>0.0</td>\n",
       "      <td>1.000000</td>\n",
       "    </tr>\n",
       "    <tr>\n",
       "      <th>2969</th>\n",
       "      <td>Young</td>\n",
       "      <td>Male</td>\n",
       "      <td>0.0</td>\n",
       "      <td>0</td>\n",
       "      <td>Aged</td>\n",
       "      <td>Male</td>\n",
       "      <td>1.0</td>\n",
       "      <td>0.990000</td>\n",
       "    </tr>\n",
       "    <tr>\n",
       "      <th>3762</th>\n",
       "      <td>Aged</td>\n",
       "      <td>Female</td>\n",
       "      <td>0.0</td>\n",
       "      <td>1</td>\n",
       "      <td>Young</td>\n",
       "      <td>Female</td>\n",
       "      <td>0.0</td>\n",
       "      <td>0.995000</td>\n",
       "    </tr>\n",
       "    <tr>\n",
       "      <th>3977</th>\n",
       "      <td>Aged</td>\n",
       "      <td>Male</td>\n",
       "      <td>0.0</td>\n",
       "      <td>1</td>\n",
       "      <td>Young</td>\n",
       "      <td>Male</td>\n",
       "      <td>0.0</td>\n",
       "      <td>0.985662</td>\n",
       "    </tr>\n",
       "    <tr>\n",
       "      <th>4109</th>\n",
       "      <td>Aged</td>\n",
       "      <td>Male</td>\n",
       "      <td>0.0</td>\n",
       "      <td>1</td>\n",
       "      <td>Young</td>\n",
       "      <td>Male</td>\n",
       "      <td>0.0</td>\n",
       "      <td>0.990000</td>\n",
       "    </tr>\n",
       "    <tr>\n",
       "      <th>4378</th>\n",
       "      <td>Young</td>\n",
       "      <td>Male</td>\n",
       "      <td>1.0</td>\n",
       "      <td>0</td>\n",
       "      <td>Young</td>\n",
       "      <td>Female</td>\n",
       "      <td>1.0</td>\n",
       "      <td>1.000000</td>\n",
       "    </tr>\n",
       "    <tr>\n",
       "      <th>4404</th>\n",
       "      <td>Aged</td>\n",
       "      <td>Male</td>\n",
       "      <td>1.0</td>\n",
       "      <td>0</td>\n",
       "      <td>Young</td>\n",
       "      <td>Female</td>\n",
       "      <td>1.0</td>\n",
       "      <td>0.990000</td>\n",
       "    </tr>\n",
       "  </tbody>\n",
       "</table>\n",
       "</div>"
      ],
      "text/plain": [
       "        Age     Sex  prediction  label Age_private Sex_private  \\\n",
       "363   Young  Female         0.0      1        Aged        Male   \n",
       "438    Aged    Male         1.0      0        Aged      Female   \n",
       "663   Young    Male         1.0      0        Aged      Female   \n",
       "696    Aged  Female         0.0      1        Aged        Male   \n",
       "725    Aged  Female         0.0      1        Aged        Male   \n",
       "1042   Aged    Male         0.0      1       Young        Male   \n",
       "1144   Aged    Male         1.0      0       Young      Female   \n",
       "1317  Young    Male         0.0      1        Aged      Female   \n",
       "1369   Aged  Female         0.0      1       Young      Female   \n",
       "1889  Young    Male         0.0      1       Young      Female   \n",
       "1912  Young    Male         0.0      1        Aged        Male   \n",
       "2053  Young    Male         0.0      1        Aged      Female   \n",
       "2151   Aged    Male         0.0      1       Young        Male   \n",
       "2447   Aged    Male         0.0      1        Aged      Female   \n",
       "2461  Young    Male         1.0      0       Young      Female   \n",
       "2810   Aged    Male         0.0      1        Aged      Female   \n",
       "2877   Aged  Female         0.0      1       Young      Female   \n",
       "2969  Young    Male         0.0      0        Aged        Male   \n",
       "3762   Aged  Female         0.0      1       Young      Female   \n",
       "3977   Aged    Male         0.0      1       Young        Male   \n",
       "4109   Aged    Male         0.0      1       Young        Male   \n",
       "4378  Young    Male         1.0      0       Young      Female   \n",
       "4404   Aged    Male         1.0      0       Young      Female   \n",
       "\n",
       "      prediction_private  confidence  \n",
       "363                  0.0    1.000000  \n",
       "438                  1.0    0.990000  \n",
       "663                  1.0    1.000000  \n",
       "696                  0.0    0.988333  \n",
       "725                  0.0    0.997500  \n",
       "1042                 0.0    1.000000  \n",
       "1144                 1.0    0.984167  \n",
       "1317                 0.0    0.982500  \n",
       "1369                 0.0    0.996071  \n",
       "1889                 0.0    0.990000  \n",
       "1912                 0.0    1.000000  \n",
       "2053                 0.0    1.000000  \n",
       "2151                 0.0    1.000000  \n",
       "2447                 0.0    0.990000  \n",
       "2461                 1.0    1.000000  \n",
       "2810                 0.0    1.000000  \n",
       "2877                 0.0    1.000000  \n",
       "2969                 1.0    0.990000  \n",
       "3762                 0.0    0.995000  \n",
       "3977                 0.0    0.985662  \n",
       "4109                 0.0    0.990000  \n",
       "4378                 1.0    1.000000  \n",
       "4404                 1.0    0.990000  "
      ]
     },
     "execution_count": 556,
     "metadata": {},
     "output_type": "execute_result"
    }
   ],
   "source": [
    "# get instances where noisy values occur\n",
    "noisy_values = sensitive_comparison[(sensitive_comparison['Age'] != sensitive_comparison['Age_private']) | (sensitive_comparison['Sex'] != sensitive_comparison['Sex_private'])]\n",
    "print(f'There are {noisy_values.shape[0]} instances where noisy values occur in the test data')\n",
    "noisy_values"
   ]
  },
  {
   "cell_type": "code",
   "execution_count": 557,
   "id": "80b5abdc-8ed6-4951-b58a-6c17338551d8",
   "metadata": {
    "scrolled": true
   },
   "outputs": [
    {
     "name": "stdout",
     "output_type": "stream",
     "text": [
      "There is 1 instance where the predictions using the private classifier differs from the original classifier\n"
     ]
    },
    {
     "data": {
      "text/html": [
       "<div>\n",
       "<style scoped>\n",
       "    .dataframe tbody tr th:only-of-type {\n",
       "        vertical-align: middle;\n",
       "    }\n",
       "\n",
       "    .dataframe tbody tr th {\n",
       "        vertical-align: top;\n",
       "    }\n",
       "\n",
       "    .dataframe thead th {\n",
       "        text-align: right;\n",
       "    }\n",
       "</style>\n",
       "<table border=\"1\" class=\"dataframe\">\n",
       "  <thead>\n",
       "    <tr style=\"text-align: right;\">\n",
       "      <th></th>\n",
       "      <th>Age</th>\n",
       "      <th>Sex</th>\n",
       "      <th>prediction</th>\n",
       "      <th>label</th>\n",
       "      <th>Age_private</th>\n",
       "      <th>Sex_private</th>\n",
       "      <th>prediction_private</th>\n",
       "      <th>confidence</th>\n",
       "    </tr>\n",
       "  </thead>\n",
       "  <tbody>\n",
       "    <tr>\n",
       "      <th>2969</th>\n",
       "      <td>Young</td>\n",
       "      <td>Male</td>\n",
       "      <td>0.0</td>\n",
       "      <td>0</td>\n",
       "      <td>Aged</td>\n",
       "      <td>Male</td>\n",
       "      <td>1.0</td>\n",
       "      <td>0.99</td>\n",
       "    </tr>\n",
       "  </tbody>\n",
       "</table>\n",
       "</div>"
      ],
      "text/plain": [
       "        Age   Sex  prediction  label Age_private Sex_private  \\\n",
       "2969  Young  Male         0.0      0        Aged        Male   \n",
       "\n",
       "      prediction_private  confidence  \n",
       "2969                 1.0        0.99  "
      ]
     },
     "execution_count": 557,
     "metadata": {},
     "output_type": "execute_result"
    }
   ],
   "source": [
    "# get instances where the predictions for the private classifier and original classifier are different\n",
    "diff_pred = noisy_values[noisy_values['prediction'] != noisy_values['prediction_private']]\n",
    "print(f'There is {diff_pred.shape[0]} instance where the predictions using the private classifier differs from the original classifier')\n",
    "diff_pred "
   ]
  },
  {
   "cell_type": "markdown",
   "id": "edf45ad2-29b9-4b63-ab47-7398f306ddfa",
   "metadata": {},
   "source": [
    "Since there is only one instance where the predictions using the private classifier differ from the original classifier, we can conclude that the noisy values for Sex and Age are not responsible for the model being confident and wrong since they mostly return the same predicted value."
   ]
  },
  {
   "cell_type": "markdown",
   "id": "8701f6b1-1203-43de-bb98-3816791f1ce7",
   "metadata": {},
   "source": [
    "#### Investigating with a Reduced Confidence Threshold > 0.90"
   ]
  },
  {
   "cell_type": "code",
   "execution_count": 558,
   "id": "ee67ed29-89f6-4afe-a52d-32c89dccc08f",
   "metadata": {},
   "outputs": [
    {
     "name": "stdout",
     "output_type": "stream",
     "text": [
      "There are 118 instances where the model was wrong but had a confidence greater than 0.98\n",
      "Comparison of original vs. noisy sensitive attributes for high confidence errors:\n"
     ]
    },
    {
     "data": {
      "text/html": [
       "<div>\n",
       "<style scoped>\n",
       "    .dataframe tbody tr th:only-of-type {\n",
       "        vertical-align: middle;\n",
       "    }\n",
       "\n",
       "    .dataframe tbody tr th {\n",
       "        vertical-align: top;\n",
       "    }\n",
       "\n",
       "    .dataframe thead th {\n",
       "        text-align: right;\n",
       "    }\n",
       "</style>\n",
       "<table border=\"1\" class=\"dataframe\">\n",
       "  <thead>\n",
       "    <tr style=\"text-align: right;\">\n",
       "      <th></th>\n",
       "      <th>Age</th>\n",
       "      <th>Sex</th>\n",
       "      <th>prediction</th>\n",
       "      <th>label</th>\n",
       "      <th>Age_private</th>\n",
       "      <th>Sex_private</th>\n",
       "      <th>prediction_private</th>\n",
       "      <th>confidence</th>\n",
       "    </tr>\n",
       "  </thead>\n",
       "  <tbody>\n",
       "    <tr>\n",
       "      <th>34</th>\n",
       "      <td>Aged</td>\n",
       "      <td>Male</td>\n",
       "      <td>0.0</td>\n",
       "      <td>1</td>\n",
       "      <td>Aged</td>\n",
       "      <td>Female</td>\n",
       "      <td>0.0</td>\n",
       "      <td>0.973333</td>\n",
       "    </tr>\n",
       "    <tr>\n",
       "      <th>96</th>\n",
       "      <td>Aged</td>\n",
       "      <td>Male</td>\n",
       "      <td>0.0</td>\n",
       "      <td>1</td>\n",
       "      <td>Aged</td>\n",
       "      <td>Male</td>\n",
       "      <td>0.0</td>\n",
       "      <td>1.000000</td>\n",
       "    </tr>\n",
       "    <tr>\n",
       "      <th>119</th>\n",
       "      <td>Young</td>\n",
       "      <td>Male</td>\n",
       "      <td>1.0</td>\n",
       "      <td>0</td>\n",
       "      <td>Aged</td>\n",
       "      <td>Female</td>\n",
       "      <td>1.0</td>\n",
       "      <td>0.949905</td>\n",
       "    </tr>\n",
       "    <tr>\n",
       "      <th>125</th>\n",
       "      <td>Aged</td>\n",
       "      <td>Male</td>\n",
       "      <td>1.0</td>\n",
       "      <td>0</td>\n",
       "      <td>Aged</td>\n",
       "      <td>Male</td>\n",
       "      <td>1.0</td>\n",
       "      <td>0.916667</td>\n",
       "    </tr>\n",
       "    <tr>\n",
       "      <th>161</th>\n",
       "      <td>Aged</td>\n",
       "      <td>Female</td>\n",
       "      <td>0.0</td>\n",
       "      <td>1</td>\n",
       "      <td>Aged</td>\n",
       "      <td>Female</td>\n",
       "      <td>0.0</td>\n",
       "      <td>0.915287</td>\n",
       "    </tr>\n",
       "  </tbody>\n",
       "</table>\n",
       "</div>"
      ],
      "text/plain": [
       "       Age     Sex  prediction  label Age_private Sex_private  \\\n",
       "34    Aged    Male         0.0      1        Aged      Female   \n",
       "96    Aged    Male         0.0      1        Aged        Male   \n",
       "119  Young    Male         1.0      0        Aged      Female   \n",
       "125   Aged    Male         1.0      0        Aged        Male   \n",
       "161   Aged  Female         0.0      1        Aged      Female   \n",
       "\n",
       "     prediction_private  confidence  \n",
       "34                  0.0    0.973333  \n",
       "96                  0.0    1.000000  \n",
       "119                 1.0    0.949905  \n",
       "125                 1.0    0.916667  \n",
       "161                 0.0    0.915287  "
      ]
     },
     "execution_count": 558,
     "metadata": {},
     "output_type": "execute_result"
    }
   ],
   "source": [
    "# Identify high-confidence errors greater than 0.90\n",
    "high_confidence_errors_90 = test_df_private[\n",
    "    (test_df_private[\"label\"] != test_df_private[\"prediction\"]) &\n",
    "    (test_df_private[\"confidence\"] > 0.90)]\n",
    "\n",
    "print(f'There are {high_confidence_errors_90.shape[0]} instances where the model was wrong but had a confidence greater than 0.98')\n",
    "\n",
    "high_conf_idx_90 = high_confidence_errors_90.index\n",
    "\n",
    "# Compare original and noisy attributes for misclassified instances\n",
    "original_sensitive_90 = test_df.iloc[high_conf_idx_90][['Age', 'Sex', 'prediction', 'label']]\n",
    "noisy_sensitive_90 = high_confidence_errors_90[['Age', 'Sex', 'prediction', 'confidence']]\n",
    "noisy_sensitive_90.rename(columns={'prediction': 'prediction_private', 'Age':'Age_private', 'Sex':'Sex_private'}, inplace=True)\n",
    "\n",
    "# Analyze differences\n",
    "sensitive_comparison_90 = pd.concat([original_sensitive_90, noisy_sensitive_90], axis=1)\n",
    "print(\"Comparison of original vs. noisy sensitive attributes for high confidence errors:\")\n",
    "sensitive_comparison_90.head()"
   ]
  },
  {
   "cell_type": "code",
   "execution_count": 559,
   "id": "de6e159f-8c24-4cf9-b679-81c4dbd63a7d",
   "metadata": {},
   "outputs": [
    {
     "name": "stdout",
     "output_type": "stream",
     "text": [
      "There are 58 instances where noisy values occur in the test data\n",
      "There are 2 instances where the predictions using the private classifier differs from the original classifier\n"
     ]
    },
    {
     "data": {
      "text/html": [
       "<div>\n",
       "<style scoped>\n",
       "    .dataframe tbody tr th:only-of-type {\n",
       "        vertical-align: middle;\n",
       "    }\n",
       "\n",
       "    .dataframe tbody tr th {\n",
       "        vertical-align: top;\n",
       "    }\n",
       "\n",
       "    .dataframe thead th {\n",
       "        text-align: right;\n",
       "    }\n",
       "</style>\n",
       "<table border=\"1\" class=\"dataframe\">\n",
       "  <thead>\n",
       "    <tr style=\"text-align: right;\">\n",
       "      <th></th>\n",
       "      <th>Age</th>\n",
       "      <th>Sex</th>\n",
       "      <th>prediction</th>\n",
       "      <th>label</th>\n",
       "      <th>Age_private</th>\n",
       "      <th>Sex_private</th>\n",
       "      <th>prediction_private</th>\n",
       "      <th>confidence</th>\n",
       "    </tr>\n",
       "  </thead>\n",
       "  <tbody>\n",
       "    <tr>\n",
       "      <th>528</th>\n",
       "      <td>Young</td>\n",
       "      <td>Male</td>\n",
       "      <td>0.0</td>\n",
       "      <td>0</td>\n",
       "      <td>Aged</td>\n",
       "      <td>Male</td>\n",
       "      <td>1.0</td>\n",
       "      <td>0.902237</td>\n",
       "    </tr>\n",
       "    <tr>\n",
       "      <th>2969</th>\n",
       "      <td>Young</td>\n",
       "      <td>Male</td>\n",
       "      <td>0.0</td>\n",
       "      <td>0</td>\n",
       "      <td>Aged</td>\n",
       "      <td>Male</td>\n",
       "      <td>1.0</td>\n",
       "      <td>0.990000</td>\n",
       "    </tr>\n",
       "  </tbody>\n",
       "</table>\n",
       "</div>"
      ],
      "text/plain": [
       "        Age   Sex  prediction  label Age_private Sex_private  \\\n",
       "528   Young  Male         0.0      0        Aged        Male   \n",
       "2969  Young  Male         0.0      0        Aged        Male   \n",
       "\n",
       "      prediction_private  confidence  \n",
       "528                  1.0    0.902237  \n",
       "2969                 1.0    0.990000  "
      ]
     },
     "execution_count": 559,
     "metadata": {},
     "output_type": "execute_result"
    }
   ],
   "source": [
    "# get instances where noisy values occur\n",
    "noisy_values_90 = sensitive_comparison_90[(sensitive_comparison_90['Age'] != sensitive_comparison_90['Age_private'])\n",
    "            | (sensitive_comparison_90['Sex'] != sensitive_comparison_90['Sex_private'])]\n",
    "print(f'There are {noisy_values_90.shape[0]} instances where noisy values occur in the test data')\n",
    "\n",
    "# get instances where the predictions for the private classifier and original classifier are different\n",
    "diff_pred_90 = noisy_values_90[noisy_values_90['prediction'] != noisy_values_90['prediction_private']]\n",
    "print(f'There are {diff_pred_90.shape[0]} instances where the predictions using the private classifier differs from the original classifier')\n",
    "diff_pred_90"
   ]
  },
  {
   "cell_type": "markdown",
   "id": "f5c3c97c-c132-432a-aa7b-4ef2c04da2e2",
   "metadata": {},
   "source": [
    "Since there are only two instances where the predictions using the private classifier differ from the original classifier, we can conclude that the noisy values for Sex and Age are not significantly responsible for the model being confident and wrong since they mostly return the same predicted value."
   ]
  },
  {
   "cell_type": "markdown",
   "id": "1d8e93e3",
   "metadata": {},
   "source": [
    "### Explainability and LLMs\n",
    "create a natural language interface with SHAP explainability method"
   ]
  },
  {
   "cell_type": "code",
   "execution_count": 560,
   "id": "32a50f76-4a49-407d-a2fb-a0de4e12c8b8",
   "metadata": {},
   "outputs": [
    {
     "name": "stdout",
     "output_type": "stream",
     "text": [
      "Selected Test Sample Index: 0\n",
      "\n",
      "Transformed Test Sample (Input to Model):\n",
      "   Age_Aged  Age_Young  Workclass_Federal-gov  Workclass_Local-gov  \\\n",
      "0       1.0        0.0                    0.0                  0.0   \n",
      "\n",
      "   Workclass_Private  Workclass_Self-emp-inc  Workclass_Self-emp-not-inc  \\\n",
      "0                1.0                     0.0                         0.0   \n",
      "\n",
      "   Workclass_State-gov  Workclass_Without-pay  Education_10th  ...  \\\n",
      "0                  0.0                    0.0             0.0  ...   \n",
      "\n",
      "   Country_Scotland  Country_South  Country_Taiwan  Country_Thailand  \\\n",
      "0               0.0            0.0             0.0               0.0   \n",
      "\n",
      "   Country_Trinadad&Tobago  Country_United-States  Country_Vietnam  \\\n",
      "0                      0.0                    1.0              0.0   \n",
      "\n",
      "   Country_Yugoslavia  Capital Gain  Capital Loss  \n",
      "0                 0.0           0.0           0.0  \n",
      "\n",
      "[1 rows x 99 columns]\n",
      "\n",
      "SHAP Values Generated Successfully.\n",
      "Error generating SHAP explanation: index 1 is out of bounds for axis 0 with size 1\n",
      "SHAP explanation failed; skipping natural language explanation.\n"
     ]
    }
   ],
   "source": [
    "import shap\n",
    "import requests\n",
    "import pandas as pd\n",
    "import numpy as np\n",
    "\n",
    "# Select test sample index\n",
    "test_index = 0  # Change this value to select a specific sample\n",
    "print(f\"Selected Test Sample Index: {test_index}\")\n",
    "\n",
    "# SHAP Explanation Section\n",
    "try:\n",
    "    # Use the transformed test sample\n",
    "    test_sample_transformed = test_private[test_index:test_index + 1]\n",
    "\n",
    "    # Convert transformed data to a DataFrame with column names\n",
    "    transformed_feature_names = transformer_private.get_feature_names()  # Use correct function from transformer\n",
    "    test_sample_transformed_df = pd.DataFrame(test_sample_transformed, columns=transformed_feature_names)\n",
    "    print(\"\\nTransformed Test Sample (Input to Model):\")\n",
    "    print(test_sample_transformed_df)\n",
    "\n",
    "    # Generate SHAP values using TreeExplainer\n",
    "    shap_explainer = shap.TreeExplainer(model_private)\n",
    "    shap_values = shap_explainer.shap_values(test_sample_transformed_df)\n",
    "    print(\"\\nSHAP Values Generated Successfully.\")\n",
    "\n",
    "    # Dynamically aggregate SHAP values based on original feature prefixes\n",
    "    shap_aggregated = {}\n",
    "    for feature in [\"Age\", \"Workclass\", \"Education\", \"Occupation\", \"Relationship\", \"Race\", \"Sex\", \"Capital Gain\",\n",
    "                    \"Capital Loss\", \"Hours per week\", \"Country\"]:  # Adjust this list to include all original features\n",
    "        # Identify columns related to this original feature\n",
    "        related_columns = [col for col in transformed_feature_names if col.startswith(feature)]\n",
    "        shap_aggregated[feature] = sum(\n",
    "            shap_values[1][0][i] for i, col in enumerate(transformed_feature_names) if col in related_columns\n",
    "        )\n",
    "\n",
    "    # Display aggregated SHAP values\n",
    "    print(\"\\nAggregated SHAP Values (Mapped to Original Features):\")\n",
    "    for feature, importance in shap_aggregated.items():\n",
    "        print(f\"{feature}: {importance:.2f}\")\n",
    "\n",
    "except Exception as e:\n",
    "    print(f\"Error generating SHAP explanation: {e}\")\n",
    "    shap_aggregated = {}\n",
    "\n",
    "# Natural Language Explanation Section\n",
    "try:\n",
    "    # Function to generate natural language explanations\n",
    "    def generate_explanation(feature_importances):\n",
    "        feature_str = \"\\n\".join([f\"{feature}: {importance:.2f}\" for feature, importance in feature_importances.items()])\n",
    "        prompt = f\"\"\"\n",
    "        Based on the following feature SHAP values:\n",
    "        {feature_str}\n",
    "        Explain the SHAP values for the prediction of whether an individual earns more than $50,000 per year. \n",
    "        Each SHAP value represents the contribution of a feature to the prediction relative to a baseline probability. \n",
    "        For each feature: Indicate whether it increases or decreases the likelihood of earning more than $50,000.\n",
    "        Avoid percentages or unsupported assumptions. Be concise and clear.\"\"\"\n",
    "        url = \"http://localhost:1337/v1/chat/completions\"  \n",
    "        headers = {\n",
    "            \"Content-Type\": \"application/json\",\n",
    "            \"Authorization\": \"api_key\",  # Replace\n",
    "        }\n",
    "        payload = {\n",
    "            \"messages\": [\n",
    "                {\"role\": \"system\", \"content\": \"You are an assistant that explains model predictions based on these SHAP values.\"},\n",
    "                {\"role\": \"user\", \"content\": prompt},\n",
    "            ],\n",
    "            \"model\": \"llama3.2-1b-instruct\",  \n",
    "            \"max_tokens\": 700,\n",
    "            \"temperature\": 0.2,\n",
    "            \"top_p\": 0.95,\n",
    "        }\n",
    "        response = requests.post(url, headers=headers, json=payload)\n",
    "        if response.status_code == 200:\n",
    "            return response.json()[\"choices\"][0][\"message\"][\"content\"]\n",
    "        else:\n",
    "            return f\"Error: {response.status_code}, {response.text}\"\n",
    "\n",
    "    # Check if SHAP values were successfully generated\n",
    "    if shap_aggregated:\n",
    "        explanation_text = generate_explanation(shap_aggregated)\n",
    "        print(\"\\nGenerated Natural Language Explanation:\")\n",
    "        print(explanation_text)\n",
    "    else:\n",
    "        print(\"SHAP explanation failed; skipping natural language explanation.\")\n",
    "except Exception as e:\n",
    "    print(f\"Error generating natural language explanation: {e}\")\n"
   ]
  }
 ],
 "metadata": {
  "kernelspec": {
   "display_name": "project",
   "language": "python",
   "name": "python3"
  },
  "language_info": {
   "codemirror_mode": {
    "name": "ipython",
    "version": 3
   },
   "file_extension": ".py",
   "mimetype": "text/x-python",
   "name": "python",
   "nbconvert_exporter": "python",
   "pygments_lexer": "ipython3",
   "version": "3.11.10"
  }
 },
 "nbformat": 4,
 "nbformat_minor": 5
}
