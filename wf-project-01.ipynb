{
 "cells": [
  {
   "cell_type": "code",
   "execution_count": 43,
   "id": "81c8f238-7f91-4150-a7d7-72e8cf37bc33",
   "metadata": {},
   "outputs": [],
   "source": [
    "import pandas as pd\n",
    "import numpy as np\n",
    "import matplotlib.pyplot as plt\n",
    "import seaborn as sns"
   ]
  },
  {
   "cell_type": "markdown",
   "id": "4f1715ab-c7ed-48e1-8a07-9c477a66f226",
   "metadata": {},
   "source": [
    "## Load Data and Preprocessing"
   ]
  },
  {
   "cell_type": "code",
   "execution_count": 68,
   "id": "0c09b850-68f8-4bb2-991b-dbc6beb4e313",
   "metadata": {},
   "outputs": [
    {
     "data": {
      "text/html": [
       "<div>\n",
       "<style scoped>\n",
       "    .dataframe tbody tr th:only-of-type {\n",
       "        vertical-align: middle;\n",
       "    }\n",
       "\n",
       "    .dataframe tbody tr th {\n",
       "        vertical-align: top;\n",
       "    }\n",
       "\n",
       "    .dataframe thead th {\n",
       "        text-align: right;\n",
       "    }\n",
       "</style>\n",
       "<table border=\"1\" class=\"dataframe\">\n",
       "  <thead>\n",
       "    <tr style=\"text-align: right;\">\n",
       "      <th></th>\n",
       "      <th>Age</th>\n",
       "      <th>Workclass</th>\n",
       "      <th>Education</th>\n",
       "      <th>Occupation</th>\n",
       "      <th>Relationship</th>\n",
       "      <th>Race</th>\n",
       "      <th>Sex</th>\n",
       "      <th>Capital Gain</th>\n",
       "      <th>Capital Loss</th>\n",
       "      <th>Hours per week</th>\n",
       "      <th>Country</th>\n",
       "      <th>label</th>\n",
       "    </tr>\n",
       "  </thead>\n",
       "  <tbody>\n",
       "    <tr>\n",
       "      <th>11076</th>\n",
       "      <td>Aged</td>\n",
       "      <td>Private</td>\n",
       "      <td>11th</td>\n",
       "      <td>Other-service</td>\n",
       "      <td>Unmarried</td>\n",
       "      <td>White</td>\n",
       "      <td>Female</td>\n",
       "      <td>0</td>\n",
       "      <td>0</td>\n",
       "      <td>PartTime</td>\n",
       "      <td>United-States</td>\n",
       "      <td>0</td>\n",
       "    </tr>\n",
       "    <tr>\n",
       "      <th>8723</th>\n",
       "      <td>Young</td>\n",
       "      <td>Private</td>\n",
       "      <td>12th</td>\n",
       "      <td>Other-service</td>\n",
       "      <td>Own-child</td>\n",
       "      <td>White</td>\n",
       "      <td>Male</td>\n",
       "      <td>0</td>\n",
       "      <td>0</td>\n",
       "      <td>MidTime</td>\n",
       "      <td>United-States</td>\n",
       "      <td>0</td>\n",
       "    </tr>\n",
       "    <tr>\n",
       "      <th>23223</th>\n",
       "      <td>Young</td>\n",
       "      <td>Private</td>\n",
       "      <td>Assoc-voc</td>\n",
       "      <td>Sales</td>\n",
       "      <td>Married</td>\n",
       "      <td>White</td>\n",
       "      <td>Male</td>\n",
       "      <td>4064</td>\n",
       "      <td>0</td>\n",
       "      <td>FullTime</td>\n",
       "      <td>United-States</td>\n",
       "      <td>0</td>\n",
       "    </tr>\n",
       "    <tr>\n",
       "      <th>5608</th>\n",
       "      <td>Aged</td>\n",
       "      <td>Private</td>\n",
       "      <td>7th-8th</td>\n",
       "      <td>Transport-moving</td>\n",
       "      <td>Unmarried</td>\n",
       "      <td>White</td>\n",
       "      <td>Male</td>\n",
       "      <td>0</td>\n",
       "      <td>0</td>\n",
       "      <td>BrainDrain</td>\n",
       "      <td>United-States</td>\n",
       "      <td>0</td>\n",
       "    </tr>\n",
       "    <tr>\n",
       "      <th>9800</th>\n",
       "      <td>Aged</td>\n",
       "      <td>Private</td>\n",
       "      <td>Some-college</td>\n",
       "      <td>Machine-op-inspct</td>\n",
       "      <td>Not-in-family</td>\n",
       "      <td>Black</td>\n",
       "      <td>Male</td>\n",
       "      <td>0</td>\n",
       "      <td>0</td>\n",
       "      <td>FullTime</td>\n",
       "      <td>United-States</td>\n",
       "      <td>0</td>\n",
       "    </tr>\n",
       "  </tbody>\n",
       "</table>\n",
       "</div>"
      ],
      "text/plain": [
       "         Age Workclass     Education         Occupation   Relationship   Race  \\\n",
       "11076   Aged   Private          11th      Other-service      Unmarried  White   \n",
       "8723   Young   Private          12th      Other-service      Own-child  White   \n",
       "23223  Young   Private     Assoc-voc              Sales        Married  White   \n",
       "5608    Aged   Private       7th-8th   Transport-moving      Unmarried  White   \n",
       "9800    Aged   Private  Some-college  Machine-op-inspct  Not-in-family  Black   \n",
       "\n",
       "          Sex  Capital Gain  Capital Loss Hours per week        Country label  \n",
       "11076  Female             0             0       PartTime  United-States     0  \n",
       "8723     Male             0             0        MidTime  United-States     0  \n",
       "23223    Male          4064             0       FullTime  United-States     0  \n",
       "5608     Male             0             0     BrainDrain  United-States     0  \n",
       "9800     Male             0             0       FullTime  United-States     0  "
      ]
     },
     "execution_count": 68,
     "metadata": {},
     "output_type": "execute_result"
    }
   ],
   "source": [
    "# Keep only needed columns\n",
    "feature_names = [\n",
    "    \"Age\", \"Workclass\", \"Education\", \n",
    "    \"Occupation\", \"Relationship\", \"Race\", \n",
    "    \"Sex\", \"Capital Gain\", \"Capital Loss\", \n",
    "    \"Hours per week\", \"Country\", \"label\"\n",
    "]\n",
    "\n",
    "df = pd.DataFrame(\n",
    "  np.genfromtxt('dataset/adult.csv', delimiter=', ', dtype=str, usecols=(0,1,3,6,7,8,9,10,11,12,13,14)),    \n",
    "  columns=feature_names\n",
    ")\n",
    "\n",
    "# Drop missing values denoted as ?\n",
    "cols = list(df.columns)\n",
    "df[cols] = df[cols].replace(['?'], np.nan)\n",
    "df = df.dropna()\n",
    "\n",
    "\n",
    "# Declare categorical columns\n",
    "categorical_columns=[\n",
    "   \"Workclass\", \"Education\", \"Occupation\", \"Relationship\", \"Race\", \"Sex\", \"Country\", \"label\"\n",
    "]\n",
    "\n",
    "# Assign type to features\n",
    "for feature in feature_names:\n",
    "    if feature in categorical_columns:\n",
    "        df[feature] = df[feature].astype(\"category\")\n",
    "    else:\n",
    "        df[feature] = df[feature].astype(\"int\")\n",
    "\n",
    "# Make bins for age and hours per week\n",
    "df['Age'] = pd.cut(df['Age'], bins=[16, 35 , 90],labels=['Young','Aged'])\n",
    "df[\"Hours per week\"] = pd.cut(\n",
    "            x=df[\"Hours per week\"],\n",
    "            bins=[0.9, 25, 39, 40, 55, 100],\n",
    "            labels=[\"PartTime\", \"MidTime\", \"FullTime\", \"OverTime\", \"BrainDrain\"])\n",
    "\n",
    "# Replace \"Husband\" and \"Wife\" values with the unisex \"Married\"\n",
    "df[\"Relationship\"] = df[\"Relationship\"].replace('Husband','Married')\n",
    "df[\"Relationship\"] = df[\"Relationship\"].replace('Wife','Married')\n",
    "\n",
    "# Will have income >50k (1 or 0)\n",
    "df[\"label\"] = df[\"label\"].replace('>50K',1)\n",
    "df[\"label\"] = df[\"label\"].replace('<=50K',0)\n",
    "\n",
    "df.sample(5)"
   ]
  },
  {
   "cell_type": "code",
   "execution_count": 69,
   "id": "b82abdd0-926e-4946-b25b-5385d141f842",
   "metadata": {},
   "outputs": [
    {
     "name": "stdout",
     "output_type": "stream",
     "text": [
      "<class 'pandas.core.frame.DataFrame'>\n",
      "Index: 30162 entries, 0 to 32560\n",
      "Data columns (total 12 columns):\n",
      " #   Column          Non-Null Count  Dtype   \n",
      "---  ------          --------------  -----   \n",
      " 0   Age             30162 non-null  category\n",
      " 1   Workclass       30162 non-null  category\n",
      " 2   Education       30162 non-null  category\n",
      " 3   Occupation      30162 non-null  category\n",
      " 4   Relationship    30162 non-null  category\n",
      " 5   Race            30162 non-null  category\n",
      " 6   Sex             30162 non-null  category\n",
      " 7   Capital Gain    30162 non-null  int32   \n",
      " 8   Capital Loss    30162 non-null  int32   \n",
      " 9   Hours per week  30162 non-null  category\n",
      " 10  Country         30162 non-null  category\n",
      " 11  label           30162 non-null  category\n",
      "dtypes: category(10), int32(2)\n",
      "memory usage: 769.9 KB\n"
     ]
    }
   ],
   "source": [
    "df.info()"
   ]
  },
  {
   "cell_type": "markdown",
   "id": "e112092b-8a61-4565-a13e-2e7def2a39f2",
   "metadata": {},
   "source": [
    "## Model Creation"
   ]
  },
  {
   "cell_type": "code",
   "execution_count": 70,
   "id": "e6fd9277-5fbe-409e-972d-14042d76eba3",
   "metadata": {},
   "outputs": [
    {
     "name": "stdout",
     "output_type": "stream",
     "text": [
      "Training data shape:   (21113, 99)\n",
      "Validation data shape:  (4524, 99)\n",
      "Test data shape:        (4525, 99)\n"
     ]
    },
    {
     "data": {
      "text/plain": [
       "'label'"
      ]
     },
     "metadata": {},
     "output_type": "display_data"
    },
    {
     "data": {
      "text/plain": [
       "array([1., 0.])"
      ]
     },
     "metadata": {},
     "output_type": "display_data"
    }
   ],
   "source": [
    "# Data preprocessing to train model\n",
    "from omnixai.data.tabular import Tabular\n",
    "from omnixai.preprocessing.tabular import TabularTransform\n",
    "from sklearn.model_selection import train_test_split\n",
    "from sklearn.ensemble import RandomForestClassifier\n",
    "\n",
    "tabular_data = Tabular(\n",
    "   df,\n",
    "   categorical_columns=[\n",
    "  \"Age\", \"Workclass\", \"Education\", \"Occupation\", \"Relationship\", \"Race\", \"Sex\", \"Hours per week\", \"Country\"\n",
    "],\n",
    "   target_column='label'\n",
    ")\n",
    "transformer = TabularTransform().fit(tabular_data)\n",
    "class_names = transformer.class_names\n",
    "x = transformer.transform(tabular_data)\n",
    "\n",
    "# Split data into training and (validation + test) datasets\n",
    "train, X_temp, train_labels, y_temp  = \\\n",
    "    train_test_split(x[:, :-1], x[:, -1], train_size=0.70, random_state = 123)\n",
    "\n",
    "# Split data validation and test sets\n",
    "val, test, val_labels, test_labels = train_test_split(X_temp, y_temp, test_size=0.5, random_state=123)\n",
    "\n",
    "test_labels = test_labels.astype(int)\n",
    "\n",
    "print('Training data shape:   {}'.format(train.shape))\n",
    "print('Validation data shape:  {}'.format(val.shape))\n",
    "print('Test data shape:        {}'.format(test.shape))\n",
    "\n",
    "# Train a Random Forest model\n",
    "model = RandomForestClassifier(random_state=123)\n",
    "model.fit(train, train_labels)\n",
    "\n",
    "predict_function=lambda z: model.predict_proba(transformer.transform(z))\n",
    "\n",
    "# Convert the transformed data back to Tabular instances\n",
    "train_data = transformer.invert(train)\n",
    "test_data = transformer.invert(test)\n",
    "\n",
    "display(tabular_data.target_column)\n",
    "display(train_labels[:2])"
   ]
  },
  {
   "cell_type": "code",
   "execution_count": 71,
   "id": "f2976258-ac1a-4bac-b9b7-dfad5f7ede64",
   "metadata": {},
   "outputs": [
    {
     "data": {
      "text/html": [
       "<div>\n",
       "<style scoped>\n",
       "    .dataframe tbody tr th:only-of-type {\n",
       "        vertical-align: middle;\n",
       "    }\n",
       "\n",
       "    .dataframe tbody tr th {\n",
       "        vertical-align: top;\n",
       "    }\n",
       "\n",
       "    .dataframe thead th {\n",
       "        text-align: right;\n",
       "    }\n",
       "</style>\n",
       "<table border=\"1\" class=\"dataframe\">\n",
       "  <thead>\n",
       "    <tr style=\"text-align: right;\">\n",
       "      <th></th>\n",
       "      <th>Age</th>\n",
       "      <th>Workclass</th>\n",
       "      <th>Education</th>\n",
       "      <th>Occupation</th>\n",
       "      <th>Relationship</th>\n",
       "      <th>Race</th>\n",
       "      <th>Sex</th>\n",
       "      <th>Capital Gain</th>\n",
       "      <th>Capital Loss</th>\n",
       "      <th>Hours per week</th>\n",
       "      <th>Country</th>\n",
       "      <th>label</th>\n",
       "      <th>prediction</th>\n",
       "    </tr>\n",
       "  </thead>\n",
       "  <tbody>\n",
       "    <tr>\n",
       "      <th>3831</th>\n",
       "      <td>Aged</td>\n",
       "      <td>Private</td>\n",
       "      <td>Some-college</td>\n",
       "      <td>Adm-clerical</td>\n",
       "      <td>Unmarried</td>\n",
       "      <td>White</td>\n",
       "      <td>Female</td>\n",
       "      <td>0.0</td>\n",
       "      <td>0.0</td>\n",
       "      <td>FullTime</td>\n",
       "      <td>United-States</td>\n",
       "      <td>0</td>\n",
       "      <td>0.0</td>\n",
       "    </tr>\n",
       "    <tr>\n",
       "      <th>1222</th>\n",
       "      <td>Young</td>\n",
       "      <td>Private</td>\n",
       "      <td>10th</td>\n",
       "      <td>Farming-fishing</td>\n",
       "      <td>Own-child</td>\n",
       "      <td>White</td>\n",
       "      <td>Male</td>\n",
       "      <td>0.0</td>\n",
       "      <td>0.0</td>\n",
       "      <td>PartTime</td>\n",
       "      <td>United-States</td>\n",
       "      <td>0</td>\n",
       "      <td>0.0</td>\n",
       "    </tr>\n",
       "    <tr>\n",
       "      <th>2764</th>\n",
       "      <td>Aged</td>\n",
       "      <td>Private</td>\n",
       "      <td>Bachelors</td>\n",
       "      <td>Sales</td>\n",
       "      <td>Married</td>\n",
       "      <td>White</td>\n",
       "      <td>Male</td>\n",
       "      <td>0.0</td>\n",
       "      <td>1887.0</td>\n",
       "      <td>FullTime</td>\n",
       "      <td>United-States</td>\n",
       "      <td>1</td>\n",
       "      <td>1.0</td>\n",
       "    </tr>\n",
       "    <tr>\n",
       "      <th>2877</th>\n",
       "      <td>Aged</td>\n",
       "      <td>Local-gov</td>\n",
       "      <td>Masters</td>\n",
       "      <td>Prof-specialty</td>\n",
       "      <td>Not-in-family</td>\n",
       "      <td>White</td>\n",
       "      <td>Female</td>\n",
       "      <td>0.0</td>\n",
       "      <td>0.0</td>\n",
       "      <td>FullTime</td>\n",
       "      <td>United-States</td>\n",
       "      <td>1</td>\n",
       "      <td>0.0</td>\n",
       "    </tr>\n",
       "    <tr>\n",
       "      <th>1784</th>\n",
       "      <td>Young</td>\n",
       "      <td>Private</td>\n",
       "      <td>HS-grad</td>\n",
       "      <td>Exec-managerial</td>\n",
       "      <td>Married</td>\n",
       "      <td>White</td>\n",
       "      <td>Male</td>\n",
       "      <td>0.0</td>\n",
       "      <td>1887.0</td>\n",
       "      <td>OverTime</td>\n",
       "      <td>United-States</td>\n",
       "      <td>1</td>\n",
       "      <td>1.0</td>\n",
       "    </tr>\n",
       "  </tbody>\n",
       "</table>\n",
       "</div>"
      ],
      "text/plain": [
       "        Age  Workclass     Education       Occupation   Relationship   Race  \\\n",
       "3831   Aged    Private  Some-college     Adm-clerical      Unmarried  White   \n",
       "1222  Young    Private          10th  Farming-fishing      Own-child  White   \n",
       "2764   Aged    Private     Bachelors            Sales        Married  White   \n",
       "2877   Aged  Local-gov       Masters   Prof-specialty  Not-in-family  White   \n",
       "1784  Young    Private       HS-grad  Exec-managerial        Married  White   \n",
       "\n",
       "         Sex  Capital Gain  Capital Loss Hours per week        Country  label  \\\n",
       "3831  Female           0.0           0.0       FullTime  United-States      0   \n",
       "1222    Male           0.0           0.0       PartTime  United-States      0   \n",
       "2764    Male           0.0        1887.0       FullTime  United-States      1   \n",
       "2877  Female           0.0           0.0       FullTime  United-States      1   \n",
       "1784    Male           0.0        1887.0       OverTime  United-States      1   \n",
       "\n",
       "      prediction  \n",
       "3831         0.0  \n",
       "1222         0.0  \n",
       "2764         1.0  \n",
       "2877         0.0  \n",
       "1784         1.0  "
      ]
     },
     "execution_count": 71,
     "metadata": {},
     "output_type": "execute_result"
    }
   ],
   "source": [
    "# Model Predictions\n",
    "test_df = test_data.to_pd()\n",
    "test_df[\"label\"] = test_labels\n",
    "predictions = model.predict(test)\n",
    "test_df[\"prediction\"] = predictions\n",
    "\n",
    "test_df.sample(5)"
   ]
  },
  {
   "cell_type": "code",
   "execution_count": 72,
   "id": "04761915-3a1a-4df6-8947-ce527263a62b",
   "metadata": {},
   "outputs": [
    {
     "name": "stdout",
     "output_type": "stream",
     "text": [
      "Test: accuracy=0.8513\n",
      "Test: TP=734, TN=3118, FP=263, FN=410\n"
     ]
    },
    {
     "data": {
      "text/plain": [
       "<sklearn.metrics._plot.confusion_matrix.ConfusionMatrixDisplay at 0x25c6b563510>"
      ]
     },
     "execution_count": 72,
     "metadata": {},
     "output_type": "execute_result"
    },
    {
     "data": {
      "image/png": "[encoded data removed]",
      "text/plain": [
       "<Figure size 640x480 with 2 Axes>"
      ]
     },
     "metadata": {},
     "output_type": "display_data"
    }
   ],
   "source": [
    "from sklearn.metrics import accuracy_score, confusion_matrix, ConfusionMatrixDisplay\n",
    "\n",
    "accuracy = accuracy_score(test_labels, predictions)\n",
    "print(f'Test: {accuracy=:.4f}')\n",
    "\n",
    "cm = confusion_matrix(test_labels, predictions)\n",
    "\n",
    "TN = cm[0][0]\n",
    "FN = cm[1][0]\n",
    "TP = cm[1][1]\n",
    "FP = cm[0][1]\n",
    "print(f\"Test: {TP=}, {TN=}, {FP=}, {FN=}\")\n",
    "\n",
    "disp = ConfusionMatrixDisplay(confusion_matrix=cm, )\n",
    "disp.plot()"
   ]
  },
  {
   "cell_type": "markdown",
   "id": "46760902",
   "metadata": {},
   "source": [
    "## Fairness\n",
    "Now the fairness will be analyzed\n",
    "\n",
    "First we import the necessary libraries"
   ]
  },
  {
   "cell_type": "code",
   "execution_count": null,
   "id": "e72a1992-ab24-4e1b-a52e-b1bf19be7a06",
   "metadata": {},
   "outputs": [],
   "source": [
    "import warnings\n",
    "# Suppress warnings\n",
    "warnings.filterwarnings(\"ignore\")\n",
    "\n",
    "from aif360.datasets import BinaryLabelDataset\n",
    "from aif360.algorithms.preprocessing import Reweighing\n",
    "import random\n",
    "from aif360.metrics import ClassificationMetric"
   ]
  },
  {
   "cell_type": "markdown",
   "id": "3f9380a5-042f-4188-85f8-bc485232370b",
   "metadata": {},
   "source": [
    "Since for the fairness analysis, we can not use the Tabular data, we create a new dataframe with the transformed values of TabularTransform. This is because we need to have access to a dataframe structure containing the binarized values (for age, sex and all categorical attributes) and not the categorical values (e.g. Young/Aged, Female/Male etc.)"
   ]
  },
  {
   "cell_type": "code",
   "execution_count": null,
   "id": "4e414966-fefd-47c8-84ed-0dafc180a348",
   "metadata": {},
   "outputs": [],
   "source": [
    "column_names = transformer.get_feature_names()\n",
    "# Last column is the label which is not included in the get_feature_names\n",
    "column_names.append('label')\n",
    "\n",
    "fairness_dataset = pd.DataFrame(x, columns=column_names)\n",
    "fairness_dataset.head(3)"
   ]
  },
  {
   "cell_type": "markdown",
   "id": "67441c00-008d-4a34-9076-febbfee68d45",
   "metadata": {},
   "source": [
    "As seen below there are four columns for the protected attributes of sex and age. Two boolean columns for each:"
   ]
  },
  {
   "cell_type": "code",
   "execution_count": null,
   "id": "97f4bcd7-c809-4f64-8719-d5930e832940",
   "metadata": {},
   "outputs": [],
   "source": [
    "fairness_dataset[['Age_Aged', 'Age_Young', 'Sex_Male', 'Sex_Female']].head(3)"
   ]
  },
  {
   "cell_type": "markdown",
   "id": "61cd035d-69e3-48d3-8e6e-5497bf6695b0",
   "metadata": {},
   "source": [
    "We decide only to keep `Age_Aged` and `Sex_Male`, and renaming those to columns to `Age` and `Sex` meaning that:\n",
    "- when `Sex` is 0, the person is female and when when `Sex` is 1, the person is male\n",
    "- when `Age` is 0, the person is young and  when `Age` is 0, the person is aged\n"
   ]
  },
  {
   "cell_type": "code",
   "execution_count": null,
   "id": "2263308a-4403-4d99-87aa-9339cc1bb5b8",
   "metadata": {},
   "outputs": [],
   "source": [
    "fairness_dataset = fairness_dataset.drop(columns=['Age_Young', 'Sex_Female'])\n",
    "fairness_dataset.rename(columns={'Age_Aged': 'Age', 'Sex_Male': 'Sex'}, inplace=True)"
   ]
  },
  {
   "cell_type": "markdown",
   "id": "88f149d9-c863-4efa-8a4f-67a62ab460ef",
   "metadata": {},
   "source": [
    "Next we want to ensure that we train the classifier on the exact same data as the previous normal classifier, keeping the train, validation and test split:"
   ]
  },
  {
   "cell_type": "code",
   "execution_count": null,
   "id": "b5ee85cf-da53-48df-adee-04f476f739ea",
   "metadata": {},
   "outputs": [],
   "source": [
    "# Split data into training and (validation + test) datasets\n",
    "train, X_temp, _, y_temp  = \\\n",
    "    train_test_split(fairness_dataset, fairness_dataset.label, train_size=0.70, random_state = 123)\n",
    "\n",
    "# Split data validation and test sets\n",
    "val, test, _, _ = train_test_split(X_temp, y_temp, test_size=0.5, random_state=123)"
   ]
  },
  {
   "cell_type": "markdown",
   "id": "81ef0d7f-e38f-427b-8ebd-34d99f8653af",
   "metadata": {},
   "source": [
    "Now we can transform the previous data structures into BinaryLabelDatasets:"
   ]
  },
  {
   "cell_type": "code",
   "execution_count": null,
   "id": "738e8fad-eab3-4451-8278-f056bc2b68ad",
   "metadata": {},
   "outputs": [],
   "source": [
    "# Transform to BinaryLabelDataset\n",
    "dataset_fair_train = BinaryLabelDataset(df=train, label_names=['label'], protected_attribute_names=['Age', 'Sex'])\n",
    "dataset_fair_valid = BinaryLabelDataset(df=val, label_names=['label'], protected_attribute_names=['Age', 'Sex'])\n",
    "dataset_fair_test = BinaryLabelDataset(df=test, label_names=['label'], protected_attribute_names=['Age', 'Sex'])"
   ]
  },
  {
   "cell_type": "markdown",
   "id": "57a5ee5a-fe59-43ae-9169-095a99009cb7",
   "metadata": {},
   "source": [
    "Now the group fairness of the classifier will be assessed, assuming the protected attributes are Age, Sex.\n",
    "\n",
    "We assume that:\n",
    "- Young age (corresponding to 0) is one unprivileged group and Aged (corresponding to 1) is one privileged group\n",
    "- Female sex is one unprivileged (corresponding to 0) group and male sex (corresponding to 1) is one privileged group:"
   ]
  },
  {
   "cell_type": "code",
   "execution_count": null,
   "id": "c1c29bcf-b09b-4a1b-8ca2-f3a840d6a66e",
   "metadata": {},
   "outputs": [],
   "source": [
    "privileged_groups = [{'Age':1,\n",
    "                      'Sex':1}]\n",
    "unprivileged_groups = [{'Age': 0,\n",
    "                       'Sex':0}]"
   ]
  },
  {
   "cell_type": "markdown",
   "id": "782e714e-9d6c-418d-bd8b-819c10c4d85a",
   "metadata": {},
   "source": [
    "Since there is a significant difference in the positive rates and true positive rate thus there is unfairness. Actually, the priviliged groups (aged and male) has 37% more chance to be predicted as >50k income comparing to the unprivileged group (young, female)\n",
    "\n",
    "Now, we will try to mitigate this bias in the training dataset by using the `Reweighing algorithm`. By reweighing we ensure that there is better fairness when we compare the positive rates between privileged and unprivileged groups"
   ]
  },
  {
   "cell_type": "code",
   "execution_count": null,
   "id": "4a4f7198-4ec2-4a0f-8f7d-d5029ef45a96",
   "metadata": {},
   "outputs": [],
   "source": [
    "RW = Reweighing(unprivileged_groups=unprivileged_groups,\n",
    "                privileged_groups=privileged_groups)\n",
    "dataset_transf_train = RW.fit_transform(dataset_fair_train)"
   ]
  },
  {
   "cell_type": "markdown",
   "id": "62dcf4e9-000c-4bd0-bb7f-3940baac0526",
   "metadata": {},
   "source": [
    "### Fair classifier\n",
    "\n",
    "Since reweighting does not achieve the goal of $0$ statistical parity difference or Equal opportunity difference, we will oversample the underprivileged classes (female young) and undersample the privileged classes (male aged) to teach the classifier to be more fair. After some experimentation, it was decided:\n",
    "- $750$ extra samples of young female with income >50k were randomly oversampled in the training data, and random weights of values between $[1.2,1.6]$ were given for each sample\n",
    "- $1500$ samples of aged male with income >50k were randomly undersampled in the training data (completely removed from the training set)"
   ]
  },
  {
   "cell_type": "code",
   "execution_count": null,
   "id": "726d4be2-61e1-4082-979d-c32d026ce8b3",
   "metadata": {},
   "outputs": [],
   "source": [
    "# Seed to reproduce results\n",
    "random.seed(1)\n",
    "\n",
    "# Number of over-samples produced for training dataset\n",
    "number_oversamples = 750\n",
    "# Number of under-samples to be removed for training dataset\n",
    "number_undersamples = 1500\n",
    "\n",
    "# Train and target data\n",
    "X_train = dataset_transf_train.features\n",
    "y_train = dataset_transf_train.labels.ravel()\n",
    "\n",
    "# Resampled data structures\n",
    "X_train_resampled = X_train.copy()\n",
    "y_train_resampled = y_train.copy()\n",
    "weights_resampled = dataset_transf_train.instance_weights.copy()\n",
    "\n",
    "# list to keep for indexes of undersamples (to be deleted after)\n",
    "list_indexes_undersamples = []\n",
    "# List to keep the over_samples and counters of oversamples and undersamples\n",
    "oversamples = []\n",
    "counter_oversamples = 0\n",
    "counter_undersamples = 0\n",
    "\n",
    "# Iterate over the whole training dataset\n",
    "for counter in range(len(X_train)):\n",
    "    # Only append rows that contain young female since this is the heavily underprivileged class\n",
    "    if (X_train[counter][0] == 0) and (X_train[counter][1] == 0) and (y_train[counter] == 1)\\\n",
    "        and (counter_oversamples < number_oversamples):\n",
    "        oversamples.append(X_train[counter].copy())\n",
    "        counter_oversamples += 1\n",
    "    # Store index of rows that contain aged male since this is the heavily overprivileged class\n",
    "    if ((X_train[counter][0] == 1) or (X_train[counter][1] == 1)) and (y_train[counter] == 1)\\\n",
    "        and (counter_undersamples < number_undersamples):\n",
    "        list_indexes_undersamples.append(counter)\n",
    "        counter_undersamples += 1\n",
    "    # When number of extra oversamples and undersamples is reached, stop loop\n",
    "    if (counter_oversamples == number_oversamples) and (counter_undersamples == number_undersamples):\n",
    "        break\n",
    "    counter += 1\n",
    "\n",
    "# Remove all indexes of undersamples\n",
    "X_train_resampled = np.delete(X_train_resampled, list_indexes_undersamples, axis=0)\n",
    "y_train_resampled = np.delete(y_train_resampled, list_indexes_undersamples)\n",
    "weights_resampled = np.delete(weights_resampled, list_indexes_undersamples)\n",
    "\n",
    "\n",
    "# Only assign positive labels to favor underprivileged class \n",
    "arr = np.array([1 for i in range(number_oversamples)])\n",
    "\n",
    "# Append extra samples and labels to the training data and \n",
    "y_train_resampled = np.append(y_train_resampled, arr)\n",
    "X_train_resampled = np.vstack([X_train_resampled, oversamples])\n",
    "# Randomize weights of extra samples to take values between 1 and 1.5\n",
    "weights_resampled = np.append(weights_resampled, np.array([random.uniform(1.2, 1.6) for i in range(number_oversamples)]))"
   ]
  },
  {
   "cell_type": "markdown",
   "id": "621f0b73-2378-4fce-a54d-bafb2c38a49a",
   "metadata": {},
   "source": [
    "Now we can train the classifier:"
   ]
  },
  {
   "cell_type": "code",
   "execution_count": null,
   "id": "03636381-824f-40c2-bf21-96486fc2838e",
   "metadata": {},
   "outputs": [],
   "source": [
    "model_fair_reweighted = RandomForestClassifier(random_state=123)\n",
    "model_fair_reweighted.fit(X_train_resampled, y_train_resampled, sample_weight=weights_resampled)\n",
    "\n",
    "X_test = dataset_fair_test.features\n",
    "y_test = dataset_fair_test.labels"
   ]
  },
  {
   "cell_type": "markdown",
   "id": "2cb5a56f-13a1-48fc-a1fd-9febf87f9d5f",
   "metadata": {},
   "source": [
    "Next predict the test data <b> based on the threshold </b> found in the fairness analysis:"
   ]
  },
  {
   "cell_type": "code",
   "execution_count": null,
   "id": "c22a3357-cf61-42e8-83e0-4742eef04306",
   "metadata": {},
   "outputs": [],
   "source": [
    "predictions = []\n",
    "threshold_fairness = 0.4555\n",
    "# positive class index\n",
    "pos_ind = 1\n",
    "\n",
    "for item in model_fair_reweighted.predict_proba(X_test)[:,pos_ind].reshape(-1,1):\n",
    "    if item >=  threshold_fairness:\n",
    "        predictions.append(1)\n",
    "    else:\n",
    "        predictions.append(0)"
   ]
  },
  {
   "cell_type": "markdown",
   "id": "c918ff8d-7e7f-434d-bdc6-5108fe334976",
   "metadata": {},
   "source": [
    "Last let's print the metrics for this classifier:"
   ]
  },
  {
   "cell_type": "code",
   "execution_count": null,
   "id": "23a0060e-40e1-40cf-a064-3bf59639ca8d",
   "metadata": {
    "scrolled": true
   },
   "outputs": [],
   "source": [
    "accuracy_fair = accuracy_score(y_test, predictions)\n",
    "print(f'Test: {accuracy_fair=:.4f}')\n",
    "\n",
    "cm = confusion_matrix(y_test, predictions)\n",
    "\n",
    "TN = cm[0][0]\n",
    "FN = cm[1][0]\n",
    "TP = cm[1][1]\n",
    "FP = cm[0][1]\n",
    "print(f\"Test: {TP=}, {TN=}, {FP=}, {FN=}\")\n",
    "\n",
    "disp = ConfusionMatrixDisplay(confusion_matrix=cm, )\n",
    "disp.plot()"
   ]
  },
  {
   "cell_type": "markdown",
   "id": "0b8856cf-2370-44aa-9c7b-c878dc2b312f",
   "metadata": {},
   "source": [
    "Also the fairness metric of `equal opportunity difference` will be printed for the fair classifier:"
   ]
  },
  {
   "cell_type": "code",
   "execution_count": null,
   "id": "a70a783d-6843-432c-8c67-853b61dc7bf4",
   "metadata": {},
   "outputs": [],
   "source": [
    "# Preparation of predictions dateset - transform into BinaryLabelDataset with right predictions based on the fairness threshold\n",
    "dataset_fair_test_pred = dataset_fair_test.copy(deepcopy=True)\n",
    "dataset_fair_test_pred.scores = model_fair_reweighted.predict_proba(X_test)[:,pos_ind].reshape(-1,1)\n",
    "fav_inds = dataset_fair_test_pred.scores > threshold_fairness\n",
    "dataset_fair_test_pred.labels[fav_inds] = dataset_fair_test_pred.favorable_label\n",
    "dataset_fair_test_pred.labels[~fav_inds] = dataset_fair_test_pred.unfavorable_label\n",
    "\n",
    "# Calculate metric\n",
    "equal_opportunity_diff_metric = ClassificationMetric(dataset_fair_test, dataset_fair_test_pred, \n",
    "                                            unprivileged_groups=unprivileged_groups,\n",
    "                                            privileged_groups=privileged_groups).equal_opportunity_difference()\n",
    "print(f'Equal opportunity difference: {equal_opportunity_diff_metric=:.4f}')"
   ]
  },
  {
   "cell_type": "markdown",
   "id": "dcc4139a",
   "metadata": {},
   "source": [
    "## Privacy"
   ]
  },
  {
   "cell_type": "markdown",
   "id": "ad5174f0",
   "metadata": {},
   "source": [
    "To start off, let's define a new dataframe similar to the one above, the set the values of p and q for both sensitive attributes and compute for epsilon. For now, both attributes are assumed to have the same p and q, but they can be redefined to any value as seen fit. We computed the appropriate p and q to get an epsilon = 2.\n",
    "\n",
    "Random response is applied to the relevant attributes afterwards."
   ]
  },
  {
   "cell_type": "code",
   "execution_count": 73,
   "id": "2fdf0b94",
   "metadata": {},
   "outputs": [
    {
     "name": "stdout",
     "output_type": "stream",
     "text": [
      "We will apply 1.000-LDP setting p=0.7310585786300049, q=0.7310585786300049 for both age and sex.\n"
     ]
    },
    {
     "data": {
      "text/html": [
       "<div>\n",
       "<style scoped>\n",
       "    .dataframe tbody tr th:only-of-type {\n",
       "        vertical-align: middle;\n",
       "    }\n",
       "\n",
       "    .dataframe tbody tr th {\n",
       "        vertical-align: top;\n",
       "    }\n",
       "\n",
       "    .dataframe thead th {\n",
       "        text-align: right;\n",
       "    }\n",
       "</style>\n",
       "<table border=\"1\" class=\"dataframe\">\n",
       "  <thead>\n",
       "    <tr style=\"text-align: right;\">\n",
       "      <th></th>\n",
       "      <th>Age</th>\n",
       "      <th>Workclass</th>\n",
       "      <th>Education</th>\n",
       "      <th>Occupation</th>\n",
       "      <th>Relationship</th>\n",
       "      <th>Race</th>\n",
       "      <th>Sex</th>\n",
       "      <th>Capital Gain</th>\n",
       "      <th>Capital Loss</th>\n",
       "      <th>Hours per week</th>\n",
       "      <th>Country</th>\n",
       "      <th>label</th>\n",
       "    </tr>\n",
       "  </thead>\n",
       "  <tbody>\n",
       "    <tr>\n",
       "      <th>0</th>\n",
       "      <td>Aged</td>\n",
       "      <td>State-gov</td>\n",
       "      <td>Bachelors</td>\n",
       "      <td>Adm-clerical</td>\n",
       "      <td>Not-in-family</td>\n",
       "      <td>White</td>\n",
       "      <td>Male</td>\n",
       "      <td>2174</td>\n",
       "      <td>0</td>\n",
       "      <td>FullTime</td>\n",
       "      <td>United-States</td>\n",
       "      <td>0</td>\n",
       "    </tr>\n",
       "    <tr>\n",
       "      <th>1</th>\n",
       "      <td>Aged</td>\n",
       "      <td>Self-emp-not-inc</td>\n",
       "      <td>Bachelors</td>\n",
       "      <td>Exec-managerial</td>\n",
       "      <td>Married</td>\n",
       "      <td>White</td>\n",
       "      <td>Male</td>\n",
       "      <td>0</td>\n",
       "      <td>0</td>\n",
       "      <td>PartTime</td>\n",
       "      <td>United-States</td>\n",
       "      <td>0</td>\n",
       "    </tr>\n",
       "    <tr>\n",
       "      <th>2</th>\n",
       "      <td>Aged</td>\n",
       "      <td>Private</td>\n",
       "      <td>HS-grad</td>\n",
       "      <td>Handlers-cleaners</td>\n",
       "      <td>Not-in-family</td>\n",
       "      <td>White</td>\n",
       "      <td>Male</td>\n",
       "      <td>0</td>\n",
       "      <td>0</td>\n",
       "      <td>FullTime</td>\n",
       "      <td>United-States</td>\n",
       "      <td>0</td>\n",
       "    </tr>\n",
       "    <tr>\n",
       "      <th>3</th>\n",
       "      <td>Aged</td>\n",
       "      <td>Private</td>\n",
       "      <td>11th</td>\n",
       "      <td>Handlers-cleaners</td>\n",
       "      <td>Married</td>\n",
       "      <td>Black</td>\n",
       "      <td>Male</td>\n",
       "      <td>0</td>\n",
       "      <td>0</td>\n",
       "      <td>FullTime</td>\n",
       "      <td>United-States</td>\n",
       "      <td>0</td>\n",
       "    </tr>\n",
       "    <tr>\n",
       "      <th>4</th>\n",
       "      <td>Aged</td>\n",
       "      <td>Private</td>\n",
       "      <td>Bachelors</td>\n",
       "      <td>Prof-specialty</td>\n",
       "      <td>Married</td>\n",
       "      <td>Black</td>\n",
       "      <td>Female</td>\n",
       "      <td>0</td>\n",
       "      <td>0</td>\n",
       "      <td>FullTime</td>\n",
       "      <td>Cuba</td>\n",
       "      <td>0</td>\n",
       "    </tr>\n",
       "  </tbody>\n",
       "</table>\n",
       "</div>"
      ],
      "text/plain": [
       "    Age         Workclass  Education         Occupation   Relationship   Race  \\\n",
       "0  Aged         State-gov  Bachelors       Adm-clerical  Not-in-family  White   \n",
       "1  Aged  Self-emp-not-inc  Bachelors    Exec-managerial        Married  White   \n",
       "2  Aged           Private    HS-grad  Handlers-cleaners  Not-in-family  White   \n",
       "3  Aged           Private       11th  Handlers-cleaners        Married  Black   \n",
       "4  Aged           Private  Bachelors     Prof-specialty        Married  Black   \n",
       "\n",
       "      Sex  Capital Gain  Capital Loss Hours per week        Country label  \n",
       "0    Male          2174             0       FullTime  United-States     0  \n",
       "1    Male             0             0       PartTime  United-States     0  \n",
       "2    Male             0             0       FullTime  United-States     0  \n",
       "3    Male             0             0       FullTime  United-States     0  \n",
       "4  Female             0             0       FullTime           Cuba     0  "
      ]
     },
     "execution_count": 73,
     "metadata": {},
     "output_type": "execute_result"
    }
   ],
   "source": [
    "import random\n",
    "import math\n",
    "random.seed(123)  # Set the random seed for reproducibility\n",
    "\n",
    "# randomized response \n",
    "def rand_resp(x, p=0.75, q=0.75):\n",
    "    toss = random.random()\n",
    "    if x == 0:\n",
    "        y = 0 if toss <= q else 1\n",
    "    else:\n",
    "        y = 1 if toss <= p else 0\n",
    "    return y\n",
    "\n",
    "def get_epsilon(p=0.75, q=0.75):\n",
    "    return math.log( max(q/(1-p), p/(1-q)) )\n",
    "\n",
    "# apply attribute to a attribute\n",
    "def privatize_attribute(column, true_label, false_label, p, q):\n",
    "    # Convert labels to binary values\n",
    "    binary_values = column.apply(lambda x: 1 if x == true_label else 0).values\n",
    "    \n",
    "    # Apply randomized response\n",
    "    privatized_values = pd.Series([rand_resp(x, p, q) for x in binary_values], index=column.index)\n",
    "\n",
    "    # Convert back to original labels\n",
    "    return privatized_values.apply(lambda x: true_label if x == 1 else false_label)\n",
    "\n",
    "# Create a copy of the original data\n",
    "df_private = df.copy(deep=True)\n",
    "\n",
    "# Set values of p and q\n",
    "p, q = 0.7310585786300049, 0.7310585786300049\n",
    "\n",
    "epsilon = get_epsilon(p, q)\n",
    "print(f\"We will apply {epsilon:.3f}-LDP setting p={p}, q={q} for both age and sex.\")\n",
    "\n",
    "# Apply randomized response to Age and Sex\n",
    "df_private['Age'] = privatize_attribute(df_private['Age'], 'Aged', 'Young', p, q)\n",
    "df_private['Sex'] = privatize_attribute(df_private['Sex'], 'Male', 'Female', p, q)\n",
    "\n",
    "# Display the new DataFrame\n",
    "df_private.head()"
   ]
  },
  {
   "cell_type": "markdown",
   "id": "e61ccbd6",
   "metadata": {},
   "source": [
    "We compute the cross-tabulation on the original data and private data to estimate how many people exist in value combinations of the two sensitive attributes."
   ]
  },
  {
   "cell_type": "code",
   "execution_count": 74,
   "id": "9cc92407",
   "metadata": {},
   "outputs": [
    {
     "name": "stdout",
     "output_type": "stream",
     "text": [
      "\n",
      "Original Cross-tabulation:\n",
      "+-------+--------+-------+\n",
      "|  Age  | Female | Male  |\n",
      "+-------+--------+-------+\n",
      "| Young |  4960  | 8778  |\n",
      "| Aged  |  4822  | 11602 |\n",
      "+-------+--------+-------+\n",
      "\n",
      "Privatized Cross-tabulation:\n",
      "+-------+--------+------+\n",
      "|  Age  | Female | Male |\n",
      "+-------+--------+------+\n",
      "| Aged  |  6528  | 9154 |\n",
      "| Young |  6229  | 8251 |\n",
      "+-------+--------+------+\n"
     ]
    }
   ],
   "source": [
    "from tabulate import tabulate\n",
    "\n",
    "# Showing cross tabulation\n",
    "print(\"\\nOriginal Cross-tabulation:\")\n",
    "original_crosstab = pd.crosstab(df['Age'], df['Sex'])\n",
    "print(tabulate(original_crosstab, headers='keys', tablefmt='pretty'))\n",
    "\n",
    "print(\"\\nPrivatized Cross-tabulation:\")\n",
    "privatized_crosstab = pd.crosstab(df_private['Age'], df_private['Sex'])\n",
    "print(tabulate(privatized_crosstab, headers='keys', tablefmt='pretty'))"
   ]
  },
  {
   "cell_type": "markdown",
   "id": "246286dc",
   "metadata": {},
   "source": [
    "Compute the error between the privatized and the original data."
   ]
  },
  {
   "cell_type": "code",
   "execution_count": 75,
   "id": "67dc3e28",
   "metadata": {},
   "outputs": [
    {
     "name": "stdout",
     "output_type": "stream",
     "text": [
      "\n",
      "Error Crosstab:\n",
      "+-------+--------+------+\n",
      "|  Age  | Female | Male |\n",
      "+-------+--------+------+\n",
      "| Aged  | -1706  | 2448 |\n",
      "| Young | -1269  | 527  |\n",
      "+-------+--------+------+\n",
      "\n",
      "The percent error for young female responses is: 25.58467741935484%\n",
      "The percent error for aged female responses is: 35.37951057652427%\n",
      "The percent error for young male responses is: 6.003645477329688%\n",
      "The percent error for aged male responses is: 21.099810377521116%\n"
     ]
    }
   ],
   "source": [
    "def pct_error(true_value, estimated_value):\n",
    "\n",
    "    if true_value == 0:\n",
    "        # If the true value is zero, the percent error is undefined.\n",
    "        return float('inf')\n",
    "    \n",
    "    # Calculate the absolute difference\n",
    "    abs_error = abs(true_value - estimated_value)\n",
    "        \n",
    "    # Calculate the percent error\n",
    "    pct_error = (abs_error / true_value) * 100\n",
    "        \n",
    "    return pct_error\n",
    "\n",
    "print(\"\\nError Crosstab:\")\n",
    "print(tabulate(original_crosstab - privatized_crosstab, headers='keys', tablefmt='pretty'))\n",
    "\n",
    "error_female_young = pct_error(original_crosstab[\"Female\"][\"Young\"], privatized_crosstab[\"Female\"][\"Young\"])\n",
    "print(f\"\\nThe percent error for young female responses is: {error_female_young}%\")\n",
    "\n",
    "error_female_aged = pct_error(original_crosstab[\"Female\"][\"Aged\"], privatized_crosstab[\"Female\"][\"Aged\"])\n",
    "print(f\"The percent error for aged female responses is: {error_female_aged}%\")\n",
    "\n",
    "error_male_young = pct_error(original_crosstab[\"Male\"][\"Young\"], privatized_crosstab[\"Male\"][\"Young\"])\n",
    "print(f\"The percent error for young male responses is: {error_male_young}%\")\n",
    "\n",
    "error_male_aged = pct_error(original_crosstab[\"Male\"][\"Aged\"], privatized_crosstab[\"Male\"][\"Aged\"])\n",
    "print(f\"The percent error for aged male responses is: {error_male_aged}%\")"
   ]
  },
  {
   "cell_type": "code",
   "execution_count": 76,
   "id": "f980363f",
   "metadata": {},
   "outputs": [
    {
     "name": "stdout",
     "output_type": "stream",
     "text": [
      "Private Classfier\n",
      "Training data shape:   (21113, 99)\n",
      "Validation data shape:  (4524, 99)\n",
      "Test data shape:        (4525, 99)\n"
     ]
    },
    {
     "data": {
      "text/plain": [
       "'label'"
      ]
     },
     "metadata": {},
     "output_type": "display_data"
    },
    {
     "data": {
      "text/plain": [
       "array([1., 0.])"
      ]
     },
     "metadata": {},
     "output_type": "display_data"
    }
   ],
   "source": [
    "# Implement Private Classifier\n",
    "\n",
    "tabular_data_private = Tabular(\n",
    "   df_private,\n",
    "   categorical_columns=[\n",
    "  \"Age\", \"Workclass\", \"Education\", \"Occupation\", \"Relationship\", \"Race\", \"Sex\", \"Hours per week\", \"Country\"\n",
    "],\n",
    "   target_column='label'\n",
    ")\n",
    "transformer_private = TabularTransform().fit(tabular_data_private)\n",
    "class_names = transformer_private.class_names\n",
    "x_private = transformer_private.transform(tabular_data_private)\n",
    "\n",
    "# Split data into training and (validation + test) datasets\n",
    "train_private, X_private_temp, train_labels_private, y_private_temp  = \\\n",
    "    train_test_split(x_private[:, :-1], x_private[:, -1], train_size=0.70, random_state = 123)\n",
    "\n",
    "# Split data validation and test sets\n",
    "val_private, test_private, val_labels_private, test_labels_private = train_test_split(X_private_temp, y_private_temp, test_size=0.5, random_state=123)\n",
    "\n",
    "test_labels_private = test_labels_private.astype(int)\n",
    "\n",
    "print('Private Classfier')\n",
    "print('Training data shape:   {}'.format(train_private.shape))\n",
    "print('Validation data shape:  {}'.format(val_private.shape))\n",
    "print('Test data shape:        {}'.format(test_private.shape))\n",
    "\n",
    "# Train a Random Forest model\n",
    "model_private = RandomForestClassifier(random_state=123)\n",
    "model_private.fit(train_private, train_labels_private)\n",
    "\n",
    "predict_function_private=lambda z: model_private.predict_proba(transformer_private.transform(z))\n",
    "\n",
    "# # Convert the transformed data back to Tabular instances\n",
    "train_data_private = transformer_private.invert(train_private)\n",
    "test_data_private = transformer_private.invert(test_private)\n",
    "\n",
    "display(tabular_data_private.target_column)\n",
    "display(train_labels_private[:2])"
   ]
  },
  {
   "cell_type": "code",
   "execution_count": 77,
   "id": "89e25585",
   "metadata": {},
   "outputs": [
    {
     "data": {
      "text/html": [
       "<div>\n",
       "<style scoped>\n",
       "    .dataframe tbody tr th:only-of-type {\n",
       "        vertical-align: middle;\n",
       "    }\n",
       "\n",
       "    .dataframe tbody tr th {\n",
       "        vertical-align: top;\n",
       "    }\n",
       "\n",
       "    .dataframe thead th {\n",
       "        text-align: right;\n",
       "    }\n",
       "</style>\n",
       "<table border=\"1\" class=\"dataframe\">\n",
       "  <thead>\n",
       "    <tr style=\"text-align: right;\">\n",
       "      <th></th>\n",
       "      <th>Age</th>\n",
       "      <th>Workclass</th>\n",
       "      <th>Education</th>\n",
       "      <th>Occupation</th>\n",
       "      <th>Relationship</th>\n",
       "      <th>Race</th>\n",
       "      <th>Sex</th>\n",
       "      <th>Capital Gain</th>\n",
       "      <th>Capital Loss</th>\n",
       "      <th>Hours per week</th>\n",
       "      <th>Country</th>\n",
       "      <th>label</th>\n",
       "      <th>prediction</th>\n",
       "    </tr>\n",
       "  </thead>\n",
       "  <tbody>\n",
       "    <tr>\n",
       "      <th>426</th>\n",
       "      <td>Aged</td>\n",
       "      <td>Private</td>\n",
       "      <td>HS-grad</td>\n",
       "      <td>Adm-clerical</td>\n",
       "      <td>Not-in-family</td>\n",
       "      <td>White</td>\n",
       "      <td>Female</td>\n",
       "      <td>0.0</td>\n",
       "      <td>0.0</td>\n",
       "      <td>FullTime</td>\n",
       "      <td>United-States</td>\n",
       "      <td>0</td>\n",
       "      <td>0.0</td>\n",
       "    </tr>\n",
       "    <tr>\n",
       "      <th>3526</th>\n",
       "      <td>Aged</td>\n",
       "      <td>Private</td>\n",
       "      <td>Bachelors</td>\n",
       "      <td>Exec-managerial</td>\n",
       "      <td>Not-in-family</td>\n",
       "      <td>White</td>\n",
       "      <td>Female</td>\n",
       "      <td>2174.0</td>\n",
       "      <td>0.0</td>\n",
       "      <td>OverTime</td>\n",
       "      <td>United-States</td>\n",
       "      <td>0</td>\n",
       "      <td>0.0</td>\n",
       "    </tr>\n",
       "    <tr>\n",
       "      <th>1527</th>\n",
       "      <td>Aged</td>\n",
       "      <td>Local-gov</td>\n",
       "      <td>Some-college</td>\n",
       "      <td>Protective-serv</td>\n",
       "      <td>Own-child</td>\n",
       "      <td>White</td>\n",
       "      <td>Male</td>\n",
       "      <td>0.0</td>\n",
       "      <td>0.0</td>\n",
       "      <td>OverTime</td>\n",
       "      <td>United-States</td>\n",
       "      <td>0</td>\n",
       "      <td>0.0</td>\n",
       "    </tr>\n",
       "    <tr>\n",
       "      <th>4242</th>\n",
       "      <td>Aged</td>\n",
       "      <td>Private</td>\n",
       "      <td>Some-college</td>\n",
       "      <td>Tech-support</td>\n",
       "      <td>Married</td>\n",
       "      <td>White</td>\n",
       "      <td>Male</td>\n",
       "      <td>0.0</td>\n",
       "      <td>0.0</td>\n",
       "      <td>FullTime</td>\n",
       "      <td>United-States</td>\n",
       "      <td>1</td>\n",
       "      <td>0.0</td>\n",
       "    </tr>\n",
       "    <tr>\n",
       "      <th>2815</th>\n",
       "      <td>Young</td>\n",
       "      <td>Private</td>\n",
       "      <td>Bachelors</td>\n",
       "      <td>Exec-managerial</td>\n",
       "      <td>Not-in-family</td>\n",
       "      <td>White</td>\n",
       "      <td>Male</td>\n",
       "      <td>0.0</td>\n",
       "      <td>0.0</td>\n",
       "      <td>OverTime</td>\n",
       "      <td>United-States</td>\n",
       "      <td>0</td>\n",
       "      <td>0.0</td>\n",
       "    </tr>\n",
       "  </tbody>\n",
       "</table>\n",
       "</div>"
      ],
      "text/plain": [
       "        Age  Workclass     Education       Occupation   Relationship   Race  \\\n",
       "426    Aged    Private       HS-grad     Adm-clerical  Not-in-family  White   \n",
       "3526   Aged    Private     Bachelors  Exec-managerial  Not-in-family  White   \n",
       "1527   Aged  Local-gov  Some-college  Protective-serv      Own-child  White   \n",
       "4242   Aged    Private  Some-college     Tech-support        Married  White   \n",
       "2815  Young    Private     Bachelors  Exec-managerial  Not-in-family  White   \n",
       "\n",
       "         Sex  Capital Gain  Capital Loss Hours per week        Country  label  \\\n",
       "426   Female           0.0           0.0       FullTime  United-States      0   \n",
       "3526  Female        2174.0           0.0       OverTime  United-States      0   \n",
       "1527    Male           0.0           0.0       OverTime  United-States      0   \n",
       "4242    Male           0.0           0.0       FullTime  United-States      1   \n",
       "2815    Male           0.0           0.0       OverTime  United-States      0   \n",
       "\n",
       "      prediction  \n",
       "426          0.0  \n",
       "3526         0.0  \n",
       "1527         0.0  \n",
       "4242         0.0  \n",
       "2815         0.0  "
      ]
     },
     "execution_count": 77,
     "metadata": {},
     "output_type": "execute_result"
    }
   ],
   "source": [
    "# Model Predictions\n",
    "test_df_private = test_data_private.to_pd()\n",
    "test_df_private[\"label\"] = test_labels_private\n",
    "predictions_private = model_private.predict(test_private)\n",
    "test_df_private[\"prediction\"] = predictions_private\n",
    "\n",
    "test_df_private.sample(5)"
   ]
  },
  {
   "cell_type": "code",
   "execution_count": 78,
   "id": "68cca831",
   "metadata": {},
   "outputs": [
    {
     "name": "stdout",
     "output_type": "stream",
     "text": [
      "Test: accuracy_private=0.8420\n",
      "Test: TP=718, TN=3092, FP=289, FN=426\n"
     ]
    },
    {
     "data": {
      "text/plain": [
       "<sklearn.metrics._plot.confusion_matrix.ConfusionMatrixDisplay at 0x25c69f10850>"
      ]
     },
     "execution_count": 78,
     "metadata": {},
     "output_type": "execute_result"
    },
    {
     "data": {
      "image/png": "[encoded data removed]",
      "text/plain": [
       "<Figure size 640x480 with 2 Axes>"
      ]
     },
     "metadata": {},
     "output_type": "display_data"
    }
   ],
   "source": [
    "accuracy_private = accuracy_score(test_labels_private, predictions_private)\n",
    "print(f'Test: {accuracy_private=:.4f}')\n",
    "\n",
    "cm_private = confusion_matrix(test_labels_private, predictions_private)\n",
    "\n",
    "TN = cm_private[0][0]\n",
    "FN = cm_private[1][0]\n",
    "TP = cm_private[1][1]\n",
    "FP = cm_private[0][1]\n",
    "print(f\"Test: {TP=}, {TN=}, {FP=}, {FN=}\")\n",
    "\n",
    "disp = ConfusionMatrixDisplay(confusion_matrix=cm_private, )\n",
    "disp.plot()"
   ]
  },
  {
   "cell_type": "markdown",
   "id": "6c4359d9",
   "metadata": {},
   "source": [
    "Implementing differential privacy involves adding noise to the training process to protect individual data points at the expense of degrading the model's accuracy. Lower epsilon values correspond to stronger privacy guarantees but also result in greater noise, which can lead to decreased model performance."
   ]
  },
  {
   "cell_type": "markdown",
   "id": "d7800b9b-8e48-4cd8-b73b-2afd7029ba90",
   "metadata": {},
   "source": [
    "## Privacy and Fairness\n",
    "Now a fair version of the private classifier will be analyzed\n",
    "\n",
    "We use the private data set from earlier and transform it to be compatible with the fairness classifier"
   ]
  },
  {
   "cell_type": "code",
   "execution_count": null,
   "id": "4098f668-9a77-4171-8655-d80c30af9a26",
   "metadata": {},
   "outputs": [],
   "source": [
    "np.random.seed(123)\n",
    "random.seed(123)\n",
    "\n",
    "# Step 1: Assign feature names and create DataFrame\n",
    "column_names_pf = transformer_private.get_feature_names()\n",
    "column_names_pf.append('label')  # Add the label column\n",
    "privatized_data_fair = pd.DataFrame(x, columns=column_names_pf)\n",
    "privatized_data_fair.head(3)"
   ]
  },
  {
   "cell_type": "code",
   "execution_count": null,
   "id": "207b5129-c106-45d8-b901-07e7df97cb78",
   "metadata": {},
   "outputs": [],
   "source": [
    "privatized_data_fair[['Age_Aged', 'Age_Young', 'Sex_Male', 'Sex_Female']].head(3)"
   ]
  },
  {
   "cell_type": "code",
   "execution_count": null,
   "id": "274d47ea-d2ef-43a8-a90c-744992337cb1",
   "metadata": {},
   "outputs": [],
   "source": [
    "privatized_data_fair = privatized_data_fair.drop(columns=['Age_Young', 'Sex_Female'])\n",
    "privatized_data_fair.rename(columns={'Age_Aged': 'Age', 'Sex_Male': 'Sex'}, inplace=True)"
   ]
  },
  {
   "cell_type": "code",
   "execution_count": null,
   "id": "f5847f50-bcaf-4c5d-b335-433b6be147b2",
   "metadata": {},
   "outputs": [],
   "source": [
    "# Split into train, validation, and test sets\n",
    "train_priv, X_temp_priv, _, y_temp_priv = train_test_split(\n",
    "    privatized_data_fair, privatized_data_fair.label, train_size=0.70, random_state=123\n",
    ")\n",
    "val_priv, test_priv, _, _ = train_test_split(X_temp_priv, y_temp_priv, test_size=0.5, random_state=123)"
   ]
  },
  {
   "cell_type": "code",
   "execution_count": null,
   "id": "31da9d39-5dd9-412f-b0e9-8d01ec3073cf",
   "metadata": {},
   "outputs": [],
   "source": [
    "# Create BinaryLabelDataset for privatized data\n",
    "dataset_priv_train = BinaryLabelDataset(\n",
    "    df=train_priv, label_names=['label'], protected_attribute_names=['Age', 'Sex']\n",
    ")\n",
    "dataset_priv_valid = BinaryLabelDataset(\n",
    "    df=val_priv, label_names=['label'], protected_attribute_names=['Age', 'Sex']\n",
    ")\n",
    "dataset_priv_test = BinaryLabelDataset(\n",
    "    df=test_priv, label_names=['label'], protected_attribute_names=['Age', 'Sex']\n",
    ")"
   ]
  },
  {
   "cell_type": "markdown",
   "id": "35025612-d8ac-44b3-ab88-2b1fa3eb45f8",
   "metadata": {},
   "source": [
    "### Reweighing\n",
    "Use the Reweighing technique on the privatized dataset to adjust for fairness."
   ]
  },
  {
   "cell_type": "code",
   "execution_count": null,
   "id": "eecb10e9-208b-47f6-94de-c49fc1126278",
   "metadata": {},
   "outputs": [],
   "source": [
    "privileged_groups = [{'Age':1,\n",
    "                      'Sex':1}]\n",
    "unprivileged_groups = [{'Age': 0,\n",
    "                       'Sex':0}]\n",
    "# Apply Reweighing\n",
    "RW_priv = Reweighing(\n",
    "    unprivileged_groups=unprivileged_groups,\n",
    "    privileged_groups=privileged_groups\n",
    ")\n",
    "dataset_transf_priv_train = RW_priv.fit_transform(dataset_priv_train)"
   ]
  },
  {
   "cell_type": "markdown",
   "id": "8908324a-4e79-40b6-a62f-2e8734e919c4",
   "metadata": {},
   "source": [
    "### Resampling\n",
    "Resample the data to correct for underprivileged and overprivileged classes."
   ]
  },
  {
   "cell_type": "code",
   "execution_count": null,
   "id": "68989826-bba6-4c33-8cfc-3a1213858613",
   "metadata": {},
   "outputs": [],
   "source": [
    "# Train and target data\n",
    "X_train_priv = dataset_transf_priv_train.features\n",
    "y_train_priv = dataset_transf_priv_train.labels.ravel()\n",
    "weights_priv = dataset_transf_priv_train.instance_weights.copy()\n",
    "\n",
    "# Resampling parameters\n",
    "number_oversamples = 750\n",
    "number_undersamples = 1500\n",
    "\n",
    "# Resampling logic (use the same logic from Part 2)\n",
    "oversamples_priv = []\n",
    "undersamples_indexes_priv = []\n",
    "counter_oversamples_priv = 0\n",
    "counter_undersamples_priv = 0\n",
    "\n",
    "for i in range(len(X_train_priv)):\n",
    "    # Over-sample underprivileged group (Young Female, 0,0)\n",
    "    if (X_train_priv[i][0] == 0) and (X_train_priv[i][1] == 0) and (y_train_priv[i] == 1) \\\n",
    "            and counter_oversamples_priv < number_oversamples:\n",
    "        oversamples_priv.append(X_train_priv[i].copy())\n",
    "        counter_oversamples_priv += 1\n",
    "    # Under-sample overprivileged group (Aged Male, 1,1)\n",
    "    if ((X_train_priv[i][0] == 1) or (X_train_priv[i][1] == 1)) and (y_train_priv[i] == 1) \\\n",
    "            and counter_undersamples_priv < number_undersamples:\n",
    "        undersamples_indexes_priv.append(i)\n",
    "        counter_undersamples_priv += 1\n",
    "    # Stop when limits are reached\n",
    "    if counter_oversamples_priv == number_oversamples and counter_undersamples_priv == number_undersamples:\n",
    "        break\n",
    "\n",
    "# Remove under-samples\n",
    "X_train_priv_resampled = np.delete(X_train_priv, undersamples_indexes_priv, axis=0)\n",
    "y_train_priv_resampled = np.delete(y_train_priv, undersamples_indexes_priv)\n",
    "weights_priv_resampled = np.delete(weights_priv, undersamples_indexes_priv)\n",
    "\n",
    "# Add over-samples\n",
    "X_train_priv_resampled = np.vstack([X_train_priv_resampled, oversamples_priv])\n",
    "y_train_priv_resampled = np.append(y_train_priv_resampled, [1] * len(oversamples_priv))\n",
    "weights_priv_resampled = np.append(weights_priv_resampled, np.random.uniform(1.2, 1.6, len(oversamples_priv)))\n"
   ]
  },
  {
   "cell_type": "markdown",
   "id": "badf4f89-888b-4fe5-bae0-f1a4cbfc1e9c",
   "metadata": {},
   "source": [
    "### Train Privacy + Fairness Classifier\n",
    "Train a classifier using the resampled, reweighted, and privacy-preserved dataset.\n"
   ]
  },
  {
   "cell_type": "code",
   "execution_count": null,
   "id": "76967f4d-fa1d-4f89-92dd-eec3c7cb5bb5",
   "metadata": {},
   "outputs": [],
   "source": [
    "# Train a Random Forest model\n",
    "model_priv_fair = RandomForestClassifier(random_state=123)\n",
    "model_priv_fair.fit(X_train_priv_resampled, y_train_priv_resampled, sample_weight=weights_priv_resampled)\n",
    "\n",
    "# Test data\n",
    "X_test_priv = dataset_priv_test.features\n",
    "y_test_priv = dataset_priv_test.labels\n",
    "\n",
    "# Predictions\n",
    "predictions_priv_fair = []\n",
    "threshold_priv_fair = 0.4555  # Example threshold\n",
    "pos_ind = 1  # Positive class index\n",
    "\n",
    "for prob in model_priv_fair.predict_proba(X_test_priv)[:, pos_ind]:\n",
    "    predictions_priv_fair.append(1 if prob >= threshold_priv_fair else 0)"
   ]
  },
  {
   "cell_type": "markdown",
   "id": "0870f5d7-d2eb-441e-b1eb-173dfa1fea6d",
   "metadata": {},
   "source": [
    "### Evaluate Privacy + Fairness\n",
    "Accuracy\n",
    "Evaluate the accuracy of the classifier."
   ]
  },
  {
   "cell_type": "code",
   "execution_count": null,
   "id": "6b5038c8-ad9e-4d65-b2ac-ab2f5dec9374",
   "metadata": {},
   "outputs": [],
   "source": [
    "accuracy_priv_fair = accuracy_score(y_test_priv, predictions_priv_fair)\n",
    "print(f'Test Accuracy (Privacy + Fairness): {accuracy_priv_fair:.4f}')"
   ]
  },
  {
   "cell_type": "markdown",
   "id": "793e2da0-b2cb-43ac-87a6-5684e24f6628",
   "metadata": {},
   "source": [
    "Confusion Matrix"
   ]
  },
  {
   "cell_type": "code",
   "execution_count": null,
   "id": "218fa3cc-fa94-4805-b168-8ecca28624ad",
   "metadata": {},
   "outputs": [],
   "source": [
    "cm_priv_fair = confusion_matrix(y_test_priv, predictions_priv_fair)\n",
    "disp_priv_fair = ConfusionMatrixDisplay(confusion_matrix=cm_priv_fair)\n",
    "disp_priv_fair.plot()"
   ]
  },
  {
   "cell_type": "markdown",
   "id": "165dd126-487f-4745-9171-1a0bad04b1e2",
   "metadata": {},
   "source": [
    "Fairness Metric calculated using the real age and sex values\n"
   ]
  },
  {
   "cell_type": "code",
   "execution_count": null,
   "id": "18475e0e-a00a-4051-9772-3acc08cad8d6",
   "metadata": {},
   "outputs": [],
   "source": [
    "dataset_priv_test_pred = dataset_priv_test.copy(deepcopy=True)\n",
    "dataset_priv_test_pred.scores = model_priv_fair.predict_proba(X_test_priv)[:, pos_ind].reshape(-1, 1)\n",
    "\n",
    "fav_inds_priv = dataset_priv_test_pred.scores > threshold_priv_fair\n",
    "dataset_priv_test_pred.labels[fav_inds_priv] = dataset_priv_test_pred.favorable_label\n",
    "dataset_priv_test_pred.labels[~fav_inds_priv] = dataset_priv_test_pred.unfavorable_label\n",
    "\n",
    "eod_priv_fair = ClassificationMetric(\n",
    "    # dataset_priv_test\n",
    "    dataset_fair_test\n",
    "    , dataset_priv_test_pred,\n",
    "    unprivileged_groups=unprivileged_groups,\n",
    "    privileged_groups=privileged_groups\n",
    ").equal_opportunity_difference()\n",
    "\n",
    "print(f'Equal Opportunity Difference (Privacy + Fairness): {eod_priv_fair:.4f}')"
   ]
  },
  {
   "cell_type": "code",
   "execution_count": null,
   "id": "23b8b953-c89f-420c-adf5-4d22a8a78d6f",
   "metadata": {},
   "outputs": [],
   "source": [
    "# Example values (replace with actual results)\n",
    "models = ['Fairness-Only', 'Privacy+Fairness']\n",
    "# accuracy_met=accuracy\n",
    "accuracy = [accuracy_fair, accuracy_priv_fair]\n",
    "fairness = [equal_opportunity_diff_metric, eod_priv_fair]  # EOD values (lower is better)\n",
    "\n",
    "# Scatter plot\n",
    "plt.figure(figsize=(8, 6))\n",
    "plt.scatter(fairness, accuracy, color=['green', 'orange'], s=100, label=models)\n",
    "\n",
    "# Annotate points\n",
    "for i, model in enumerate(models):\n",
    "    plt.text(fairness[i] + 0.01, accuracy[i], model, fontsize=10)\n",
    "\n",
    "# Labels and title\n",
    "plt.xlabel('Fairness (EOD)')\n",
    "plt.ylabel('Accuracy')\n",
    "plt.title('Accuracy vs. Fairness Trade-off')\n",
    "plt.axhline(y=max(accuracy), color='gray', linestyle='--', label='Max Accuracy')\n",
    "plt.axvline(x=min(fairness), color='red', linestyle='--', label='Max Fairness')\n",
    "plt.legend()\n",
    "plt.grid(True)\n",
    "plt.show()"
   ]
  },
  {
   "cell_type": "markdown",
   "id": "b1a14287-7a08-4f26-a84f-697838fd7b39",
   "metadata": {},
   "source": [
    "As expected the accuracy of the fairness only classifier is higher because the model is trained on the unaltered data. On the other hand, adding privacy via the Local Differential Privacy introduces noise to sensitive attributes, which leads to less accurate models because the underlying data quality is degraded. When combined with fairness adjustments, the performance further decreases because these adjustments reduce bias but may also reduce model fit. Moreover, the noise from the privacy mechanisms adds noise to sensitive attributes. \n",
    "This noise:\n",
    "\n",
    "1- Makes it harder to accurately distinguish between privileged and unprivileged groups.\n",
    "\n",
    "2- Could lead to unintentional oversampling or misclassification of the unprivileged group as privileged during fairness adjustments, or vice versa.\n",
    "\n",
    "3- If the noise disproportionately affects the privileged group, it may unintentionally boost the TPR for the unprivileged group."
   ]
  },
  {
   "cell_type": "markdown",
   "id": "a0635a01-c174-4553-a861-3c2b38b7899b",
   "metadata": {},
   "source": [
    "## Explainability"
   ]
  },
  {
   "cell_type": "markdown",
   "id": "97336e46-692a-4808-a2f1-6bfa4f9d453d",
   "metadata": {},
   "source": [
    "### Global Explainability"
   ]
  },
  {
   "cell_type": "code",
   "execution_count": 79,
   "id": "0de72784-70a3-4099-9e14-40e49d9b0581",
   "metadata": {},
   "outputs": [],
   "source": [
    "# import necessary libraries for explainability\n",
    "import warnings\n",
    "warnings.filterwarnings(\"ignore\")\n",
    "\n",
    "import sys\n",
    "sys.path.append(\"dependencies\")\n",
    "\n",
    "from omnixai.data.tabular import Tabular\n",
    "from omnixai.preprocessing.tabular import TabularTransform\n",
    "from omnixai.explainers.tabular import TabularExplainer\n",
    "import xgboost as xgboost\n",
    "from itertools import cycle, islice\n",
    "\n",
    "import pandas as pd\n",
    "import numpy as np\n",
    "import sklearn"
   ]
  },
  {
   "cell_type": "code",
   "execution_count": 80,
   "id": "e0849be2-8507-4ca8-bd57-bf1c69633e18",
   "metadata": {},
   "outputs": [],
   "source": [
    "# ace:  predicts how sensitive the model is to individual feature values\n",
    "explainers = TabularExplainer(\n",
    "  explainers=[\"ale\"],                 # The explainers to apply\n",
    "  mode=\"classification\",                             # The task type\n",
    "  data=train_data_private,                           # The data for initializing the explainers\n",
    "  model=model_private,                               # The ML model to explain\n",
    "  preprocess=lambda z: transformer.transform(z),     # Converts raw features into the model inputs\n",
    ")\n",
    "\n",
    "global_explanations = explainers.explain_global()"
   ]
  },
  {
   "cell_type": "code",
   "execution_count": 81,
   "id": "0c996e8a-661f-43d6-a4ef-116dbf63dd2b",
   "metadata": {},
   "outputs": [
    {
     "name": "stdout",
     "output_type": "stream",
     "text": [
      "ALE results:\n"
     ]
    },
    {
     "data": {
      "application/vnd.plotly.v1+json": {
       "config": {
        "linkText": "Export to plot.ly",
        "plotlyServerURL": "https://plot.ly",
        "showLink": false
       },
       "data": [
        {
         "legendgroup": "0",
         "legendgrouptitle": {
          "text": "0"
         },
         "name": "Age",
         "type": "scatter",
         "x": [
          "Aged",
          "Young"
         ],
         "xaxis": "x",
         "y": [
          -0.01385496565743344,
          0.01494203079258105
         ],
         "yaxis": "y"
        },
        {
         "legendgroup": "1",
         "legendgrouptitle": {
          "text": "1"
         },
         "name": "Age",
         "type": "scatter",
         "x": [
          "Aged",
          "Young"
         ],
         "xaxis": "x",
         "y": [
          0.013854965657433445,
          -0.014942030792581055
         ],
         "yaxis": "y"
        },
        {
         "legendgroup": "0",
         "line": {
          "color": "#808080"
         },
         "mode": "lines",
         "opacity": 0.1,
         "showlegend": false,
         "type": "scatter",
         "x": [
          "Aged",
          "Young"
         ],
         "xaxis": "x",
         "y": [
          -0.0098750944846613,
          0.010653427064610066
         ],
         "yaxis": "y"
        },
        {
         "legendgroup": "1",
         "line": {
          "color": "#808080"
         },
         "mode": "lines",
         "opacity": 0.1,
         "showlegend": false,
         "type": "scatter",
         "x": [
          "Aged",
          "Young"
         ],
         "xaxis": "x",
         "y": [
          0.009875094484661303,
          -0.010653427064610069
         ],
         "yaxis": "y"
        },
        {
         "legendgroup": "0",
         "line": {
          "color": "#808080"
         },
         "mode": "lines",
         "opacity": 0.1,
         "showlegend": false,
         "type": "scatter",
         "x": [
          "Aged",
          "Young"
         ],
         "xaxis": "x",
         "y": [
          -0.011264109012448004,
          0.012151920571324802
         ],
         "yaxis": "y"
        },
        {
         "legendgroup": "1",
         "line": {
          "color": "#808080"
         },
         "mode": "lines",
         "opacity": 0.1,
         "showlegend": false,
         "type": "scatter",
         "x": [
          "Aged",
          "Young"
         ],
         "xaxis": "x",
         "y": [
          0.011264109012448007,
          -0.012151920571324805
         ],
         "yaxis": "y"
        },
        {
         "legendgroup": "0",
         "line": {
          "color": "#808080"
         },
         "mode": "lines",
         "opacity": 0.1,
         "showlegend": false,
         "type": "scatter",
         "x": [
          "Aged",
          "Young"
         ],
         "xaxis": "x",
         "y": [
          -0.014292491413819622,
          0.0154189932142118
         ],
         "yaxis": "y"
        },
        {
         "legendgroup": "1",
         "line": {
          "color": "#808080"
         },
         "mode": "lines",
         "opacity": 0.1,
         "showlegend": false,
         "type": "scatter",
         "x": [
          "Aged",
          "Young"
         ],
         "xaxis": "x",
         "y": [
          0.014292491413819629,
          -0.015418993214211807
         ],
         "yaxis": "y"
        },
        {
         "legendgroup": "0",
         "line": {
          "color": "#808080"
         },
         "mode": "lines",
         "opacity": 0.1,
         "showlegend": false,
         "type": "scatter",
         "x": [
          "Aged",
          "Young"
         ],
         "xaxis": "x",
         "y": [
          -0.015869228132919213,
          0.017120004750163318
         ],
         "yaxis": "y"
        },
        {
         "legendgroup": "1",
         "line": {
          "color": "#808080"
         },
         "mode": "lines",
         "opacity": 0.1,
         "showlegend": false,
         "type": "scatter",
         "x": [
          "Aged",
          "Young"
         ],
         "xaxis": "x",
         "y": [
          0.01586922813291922,
          -0.017120004750163325
         ],
         "yaxis": "y"
        },
        {
         "legendgroup": "0",
         "line": {
          "color": "#808080"
         },
         "mode": "lines",
         "opacity": 0.1,
         "showlegend": false,
         "type": "scatter",
         "x": [
          "Aged",
          "Young"
         ],
         "xaxis": "x",
         "y": [
          -0.015837214125319615,
          0.01708546747099723
         ],
         "yaxis": "y"
        },
        {
         "legendgroup": "1",
         "line": {
          "color": "#808080"
         },
         "mode": "lines",
         "opacity": 0.1,
         "showlegend": false,
         "type": "scatter",
         "x": [
          "Aged",
          "Young"
         ],
         "xaxis": "x",
         "y": [
          0.015837214125319618,
          -0.017085467470997234
         ],
         "yaxis": "y"
        },
        {
         "legendgroup": "0",
         "line": {
          "color": "#808080"
         },
         "mode": "lines",
         "opacity": 0.1,
         "showlegend": false,
         "type": "scatter",
         "x": [
          "Aged",
          "Young"
         ],
         "xaxis": "x",
         "y": [
          -0.01602176607420869,
          0.01728456538648304
         ],
         "yaxis": "y"
        },
        {
         "legendgroup": "1",
         "line": {
          "color": "#808080"
         },
         "mode": "lines",
         "opacity": 0.1,
         "showlegend": false,
         "type": "scatter",
         "x": [
          "Aged",
          "Young"
         ],
         "xaxis": "x",
         "y": [
          0.016021766074208698,
          -0.017284565386483045
         ],
         "yaxis": "y"
        },
        {
         "legendgroup": "0",
         "line": {
          "color": "#808080"
         },
         "mode": "lines",
         "opacity": 0.1,
         "showlegend": false,
         "type": "scatter",
         "x": [
          "Aged",
          "Young"
         ],
         "xaxis": "x",
         "y": [
          -0.014533822051588957,
          0.015679344986230276
         ],
         "yaxis": "y"
        },
        {
         "legendgroup": "1",
         "line": {
          "color": "#808080"
         },
         "mode": "lines",
         "opacity": 0.1,
         "showlegend": false,
         "type": "scatter",
         "x": [
          "Aged",
          "Young"
         ],
         "xaxis": "x",
         "y": [
          0.014533822051588962,
          -0.015679344986230283
         ],
         "yaxis": "y"
        },
        {
         "legendgroup": "0",
         "line": {
          "color": "#808080"
         },
         "mode": "lines",
         "opacity": 0.1,
         "showlegend": false,
         "type": "scatter",
         "x": [
          "Aged",
          "Young"
         ],
         "xaxis": "x",
         "y": [
          -0.012245874186545271,
          0.013211066252722113
         ],
         "yaxis": "y"
        },
        {
         "legendgroup": "1",
         "line": {
          "color": "#808080"
         },
         "mode": "lines",
         "opacity": 0.1,
         "showlegend": false,
         "type": "scatter",
         "x": [
          "Aged",
          "Young"
         ],
         "xaxis": "x",
         "y": [
          0.012245874186545278,
          -0.01321106625272212
         ],
         "yaxis": "y"
        },
        {
         "legendgroup": "0",
         "line": {
          "color": "#808080"
         },
         "mode": "lines",
         "opacity": 0.1,
         "showlegend": false,
         "type": "scatter",
         "x": [
          "Aged",
          "Young"
         ],
         "xaxis": "x",
         "y": [
          -0.014446307085475063,
          0.015584932288710836
         ],
         "yaxis": "y"
        },
        {
         "legendgroup": "1",
         "line": {
          "color": "#808080"
         },
         "mode": "lines",
         "opacity": 0.1,
         "showlegend": false,
         "type": "scatter",
         "x": [
          "Aged",
          "Young"
         ],
         "xaxis": "x",
         "y": [
          0.014446307085475067,
          -0.01558493228871084
         ],
         "yaxis": "y"
        },
        {
         "legendgroup": "0",
         "line": {
          "color": "#808080"
         },
         "mode": "lines",
         "opacity": 0.1,
         "showlegend": false,
         "type": "scatter",
         "x": [
          "Aged",
          "Young"
         ],
         "xaxis": "x",
         "y": [
          -0.013148284668613168,
          0.014184602685004634
         ],
         "yaxis": "y"
        },
        {
         "legendgroup": "1",
         "line": {
          "color": "#808080"
         },
         "mode": "lines",
         "opacity": 0.1,
         "showlegend": false,
         "type": "scatter",
         "x": [
          "Aged",
          "Young"
         ],
         "xaxis": "x",
         "y": [
          0.013148284668613171,
          -0.014184602685004637
         ],
         "yaxis": "y"
        },
        {
         "legendgroup": "0",
         "legendgrouptitle": {
          "text": "0"
         },
         "name": "Workclass",
         "type": "scatter",
         "x": [
          "Federal-gov",
          "Local-gov",
          "Private",
          "Self-emp-inc",
          "Self-emp-not-in*",
          "State-gov",
          "Without-pay"
         ],
         "xaxis": "x2",
         "y": [
          -0.06869525879742426,
          -0.010373556895538955,
          0.004390296077097899,
          -0.06843708636752215,
          0.02200916840762393,
          0.007272168951858268,
          0.001733871974482451
         ],
         "yaxis": "y2"
        },
        {
         "legendgroup": "1",
         "legendgrouptitle": {
          "text": "1"
         },
         "name": "Workclass",
         "type": "scatter",
         "x": [
          "Federal-gov",
          "Local-gov",
          "Private",
          "Self-emp-inc",
          "Self-emp-not-in*",
          "State-gov",
          "Without-pay"
         ],
         "xaxis": "x2",
         "y": [
          0.06869525879742429,
          0.010373556895538968,
          -0.004390296077097913,
          0.06843708636752219,
          -0.022009168407623916,
          -0.0072721689518582405,
          -0.0017338719744824371
         ],
         "yaxis": "y2"
        },
        {
         "legendgroup": "0",
         "line": {
          "color": "#808080"
         },
         "mode": "lines",
         "opacity": 0.1,
         "showlegend": false,
         "type": "scatter",
         "x": [
          "Federal-gov",
          "Local-gov",
          "Private",
          "Self-emp-inc",
          "Self-emp-not-in*",
          "State-gov",
          "Without-pay"
         ],
         "xaxis": "x2",
         "y": [
          -0.07092909239005507,
          0.007436078058460541,
          0.0006732083239606584,
          -0.044084869946030454,
          0.02039034349863183,
          0.025965919136894493,
          -0.0004140570321671949
         ],
         "yaxis": "y2"
        },
        {
         "legendgroup": "1",
         "line": {
          "color": "#808080"
         },
         "mode": "lines",
         "opacity": 0.1,
         "showlegend": false,
         "type": "scatter",
         "x": [
          "Federal-gov",
          "Local-gov",
          "Private",
          "Self-emp-inc",
          "Self-emp-not-in*",
          "State-gov",
          "Without-pay"
         ],
         "xaxis": "x2",
         "y": [
          0.0709290923900551,
          -0.007436078058460513,
          -0.0006732083239606654,
          0.044084869946030496,
          -0.020390343498631815,
          -0.025965919136894465,
          0.00041405703216722267
         ],
         "yaxis": "y2"
        },
        {
         "legendgroup": "0",
         "line": {
          "color": "#808080"
         },
         "mode": "lines",
         "opacity": 0.1,
         "showlegend": false,
         "type": "scatter",
         "x": [
          "Federal-gov",
          "Local-gov",
          "Private",
          "Self-emp-inc",
          "Self-emp-not-in*",
          "State-gov",
          "Without-pay"
         ],
         "xaxis": "x2",
         "y": [
          -0.06202743926087874,
          -0.020212632301310915,
          0.005939208216647715,
          -0.08847500329019327,
          0.02199068007550868,
          0.007898708257114792,
          0.0005322980712188091
         ],
         "yaxis": "y2"
        },
        {
         "legendgroup": "1",
         "line": {
          "color": "#808080"
         },
         "mode": "lines",
         "opacity": 0.1,
         "showlegend": false,
         "type": "scatter",
         "x": [
          "Federal-gov",
          "Local-gov",
          "Private",
          "Self-emp-inc",
          "Self-emp-not-in*",
          "State-gov",
          "Without-pay"
         ],
         "xaxis": "x2",
         "y": [
          0.06202743926087875,
          0.020212632301310915,
          -0.005939208216647729,
          0.0884750032901933,
          -0.02199068007550868,
          -0.007898708257114778,
          -0.0005322980712187952
         ],
         "yaxis": "y2"
        },
        {
         "legendgroup": "0",
         "line": {
          "color": "#808080"
         },
         "mode": "lines",
         "opacity": 0.1,
         "showlegend": false,
         "type": "scatter",
         "x": [
          "Federal-gov",
          "Local-gov",
          "Private",
          "Self-emp-inc",
          "Self-emp-not-in*",
          "State-gov",
          "Without-pay"
         ],
         "xaxis": "x2",
         "y": [
          -0.06039887285289447,
          0.0016328937754888292,
          0.00044787953535402325,
          -0.03461510652030504,
          0.018451230246743444,
          0.02756621898034306,
          -0.0002319526789431453
         ],
         "yaxis": "y2"
        },
        {
         "legendgroup": "1",
         "line": {
          "color": "#808080"
         },
         "mode": "lines",
         "opacity": 0.1,
         "showlegend": false,
         "type": "scatter",
         "x": [
          "Federal-gov",
          "Local-gov",
          "Private",
          "Self-emp-inc",
          "Self-emp-not-in*",
          "State-gov",
          "Without-pay"
         ],
         "xaxis": "x2",
         "y": [
          0.06039887285289449,
          -0.0016328937754888154,
          -0.0004478795353540302,
          0.03461510652030509,
          -0.018451230246743437,
          -0.02756621898034304,
          0.00023195267894316612
         ],
         "yaxis": "y2"
        },
        {
         "legendgroup": "0",
         "line": {
          "color": "#808080"
         },
         "mode": "lines",
         "opacity": 0.1,
         "showlegend": false,
         "type": "scatter",
         "x": [
          "Federal-gov",
          "Local-gov",
          "Private",
          "Self-emp-inc",
          "Self-emp-not-in*",
          "State-gov",
          "Without-pay"
         ],
         "xaxis": "x2",
         "y": [
          -0.06880766748856645,
          -0.031890579790444365,
          0.006209717190454607,
          -0.056854911578142646,
          0.026050024842016052,
          -0.007575589487362637,
          0.004745444217635848
         ],
         "yaxis": "y2"
        },
        {
         "legendgroup": "1",
         "line": {
          "color": "#808080"
         },
         "mode": "lines",
         "opacity": 0.1,
         "showlegend": false,
         "type": "scatter",
         "x": [
          "Federal-gov",
          "Local-gov",
          "Private",
          "Self-emp-inc",
          "Self-emp-not-in*",
          "State-gov",
          "Without-pay"
         ],
         "xaxis": "x2",
         "y": [
          0.0688076674885665,
          0.031890579790444386,
          -0.006209717190454614,
          0.05685491157814271,
          -0.02605002484201603,
          0.007575589487362672,
          -0.0047454442176358205
         ],
         "yaxis": "y2"
        },
        {
         "legendgroup": "0",
         "line": {
          "color": "#808080"
         },
         "mode": "lines",
         "opacity": 0.1,
         "showlegend": false,
         "type": "scatter",
         "x": [
          "Federal-gov",
          "Local-gov",
          "Private",
          "Self-emp-inc",
          "Self-emp-not-in*",
          "State-gov",
          "Without-pay"
         ],
         "xaxis": "x2",
         "y": [
          -0.04922701313126358,
          0.002077704169055436,
          0.0017528650804468915,
          -0.06574581746248541,
          0.019998609104250345,
          0.01929490970249506,
          0.0020154702959360726
         ],
         "yaxis": "y2"
        },
        {
         "legendgroup": "1",
         "line": {
          "color": "#808080"
         },
         "mode": "lines",
         "opacity": 0.1,
         "showlegend": false,
         "type": "scatter",
         "x": [
          "Federal-gov",
          "Local-gov",
          "Private",
          "Self-emp-inc",
          "Self-emp-not-in*",
          "State-gov",
          "Without-pay"
         ],
         "xaxis": "x2",
         "y": [
          0.049227013131263625,
          -0.00207770416905545,
          -0.0017528650804468776,
          0.06574581746248544,
          -0.019998609104250303,
          -0.019294909702495047,
          -0.002015470295936031
         ],
         "yaxis": "y2"
        },
        {
         "legendgroup": "0",
         "line": {
          "color": "#808080"
         },
         "mode": "lines",
         "opacity": 0.1,
         "showlegend": false,
         "type": "scatter",
         "x": [
          "Federal-gov",
          "Local-gov",
          "Private",
          "Self-emp-inc",
          "Self-emp-not-in*",
          "State-gov",
          "Without-pay"
         ],
         "xaxis": "x2",
         "y": [
          -0.07683938242993932,
          -0.024111073584968987,
          0.006345557797136581,
          -0.07303581578852825,
          0.02922249720930513,
          -0.009388023871141515,
          0.004341414794407902
         ],
         "yaxis": "y2"
        },
        {
         "legendgroup": "1",
         "line": {
          "color": "#808080"
         },
         "mode": "lines",
         "opacity": 0.1,
         "showlegend": false,
         "type": "scatter",
         "x": [
          "Federal-gov",
          "Local-gov",
          "Private",
          "Self-emp-inc",
          "Self-emp-not-in*",
          "State-gov",
          "Without-pay"
         ],
         "xaxis": "x2",
         "y": [
          0.07683938242993935,
          0.024111073584969007,
          -0.0063455577971365945,
          0.07303581578852827,
          -0.0292224972093051,
          0.009388023871141543,
          -0.0043414147944078885
         ],
         "yaxis": "y2"
        },
        {
         "legendgroup": "0",
         "line": {
          "color": "#808080"
         },
         "mode": "lines",
         "opacity": 0.1,
         "showlegend": false,
         "type": "scatter",
         "x": [
          "Federal-gov",
          "Local-gov",
          "Private",
          "Self-emp-inc",
          "Self-emp-not-in*",
          "State-gov",
          "Without-pay"
         ],
         "xaxis": "x2",
         "y": [
          -0.064711853830806,
          -0.00473105664985226,
          0.0027792470291032115,
          -0.050145684764721206,
          0.015178464759166906,
          0.020086397835808963,
          -0.0032260617557427415
         ],
         "yaxis": "y2"
        },
        {
         "legendgroup": "1",
         "line": {
          "color": "#808080"
         },
         "mode": "lines",
         "opacity": 0.1,
         "showlegend": false,
         "type": "scatter",
         "x": [
          "Federal-gov",
          "Local-gov",
          "Private",
          "Self-emp-inc",
          "Self-emp-not-in*",
          "State-gov",
          "Without-pay"
         ],
         "xaxis": "x2",
         "y": [
          0.06471185383080602,
          0.00473105664985226,
          -0.0027792470291032184,
          0.050145684764721234,
          -0.015178464759166892,
          -0.020086397835808935,
          0.0032260617557427623
         ],
         "yaxis": "y2"
        },
        {
         "legendgroup": "0",
         "line": {
          "color": "#808080"
         },
         "mode": "lines",
         "opacity": 0.1,
         "showlegend": false,
         "type": "scatter",
         "x": [
          "Federal-gov",
          "Local-gov",
          "Private",
          "Self-emp-inc",
          "Self-emp-not-in*",
          "State-gov",
          "Without-pay"
         ],
         "xaxis": "x2",
         "y": [
          -0.09209219665287662,
          -0.012825190534596083,
          0.005386557879615672,
          -0.06903622444163184,
          0.02090550478655931,
          0.01283254466211943,
          -0.0019127687454455339
         ],
         "yaxis": "y2"
        },
        {
         "legendgroup": "1",
         "line": {
          "color": "#808080"
         },
         "mode": "lines",
         "opacity": 0.1,
         "showlegend": false,
         "type": "scatter",
         "x": [
          "Federal-gov",
          "Local-gov",
          "Private",
          "Self-emp-inc",
          "Self-emp-not-in*",
          "State-gov",
          "Without-pay"
         ],
         "xaxis": "x2",
         "y": [
          0.09209219665287664,
          0.012825190534596083,
          -0.005386557879615686,
          0.06903622444163186,
          -0.020905504786559295,
          -0.012832544662119402,
          0.0019127687454455478
         ],
         "yaxis": "y2"
        },
        {
         "legendgroup": "0",
         "line": {
          "color": "#808080"
         },
         "mode": "lines",
         "opacity": 0.1,
         "showlegend": false,
         "type": "scatter",
         "x": [
          "Federal-gov",
          "Local-gov",
          "Private",
          "Self-emp-inc",
          "Self-emp-not-in*",
          "State-gov",
          "Without-pay"
         ],
         "xaxis": "x2",
         "y": [
          -0.08036603111238141,
          -0.019574998355030487,
          0.004890950071038777,
          -0.07969204449055725,
          0.02627408356842459,
          0.02288920156867333,
          0.00261178383559571
         ],
         "yaxis": "y2"
        },
        {
         "legendgroup": "1",
         "line": {
          "color": "#808080"
         },
         "mode": "lines",
         "opacity": 0.1,
         "showlegend": false,
         "type": "scatter",
         "x": [
          "Federal-gov",
          "Local-gov",
          "Private",
          "Self-emp-inc",
          "Self-emp-not-in*",
          "State-gov",
          "Without-pay"
         ],
         "xaxis": "x2",
         "y": [
          0.08036603111238144,
          0.019574998355030487,
          -0.004890950071038791,
          0.07969204449055727,
          -0.026274083568424575,
          -0.0228892015686733,
          -0.0026117838355956963
         ],
         "yaxis": "y2"
        },
        {
         "legendgroup": "0",
         "line": {
          "color": "#808080"
         },
         "mode": "lines",
         "opacity": 0.1,
         "showlegend": false,
         "type": "scatter",
         "x": [
          "Federal-gov",
          "Local-gov",
          "Private",
          "Self-emp-inc",
          "Self-emp-not-in*",
          "State-gov",
          "Without-pay"
         ],
         "xaxis": "x2",
         "y": [
          -0.07241650855064194,
          0.00479251934549299,
          0.0036181641684779747,
          -0.05910363477728919,
          0.01479368435243432,
          0.0033681641203127527,
          0.00046904895749896175
         ],
         "yaxis": "y2"
        },
        {
         "legendgroup": "1",
         "line": {
          "color": "#808080"
         },
         "mode": "lines",
         "opacity": 0.1,
         "showlegend": false,
         "type": "scatter",
         "x": [
          "Federal-gov",
          "Local-gov",
          "Private",
          "Self-emp-inc",
          "Self-emp-not-in*",
          "State-gov",
          "Without-pay"
         ],
         "xaxis": "x2",
         "y": [
          0.07241650855064197,
          -0.004792519345492997,
          -0.0036181641684779817,
          0.05910363477728923,
          -0.014793684352434298,
          -0.003368164120312739,
          -0.000469048957498934
         ],
         "yaxis": "y2"
        },
        {
         "legendgroup": "0",
         "legendgrouptitle": {
          "text": "0"
         },
         "name": "Education",
         "type": "scatter",
         "x": [
          "10th",
          "11th",
          "12th",
          "1st-4th",
          "5th-6th",
          "7th-8th",
          "9th",
          "Assoc-acdm",
          "Assoc-voc",
          "Bachelors",
          "Doctorate",
          "HS-grad",
          "Masters",
          "Preschool",
          "Prof-school",
          "Some-college"
         ],
         "xaxis": "x3",
         "y": [
          0.07466781266561029,
          0.07987234608965002,
          0.036847459249990916,
          0.05007222287742058,
          0.07321918137531111,
          0.08621634326633901,
          0.08326917353604651,
          0.004552357596796203,
          -0.00452283600085443,
          -0.07340536383587566,
          -0.1537037572860425,
          0.040781905102185656,
          -0.14044780725037578,
          0.0553625066426994,
          -0.1733430001821166,
          0.010628668467293378
         ],
         "yaxis": "y3"
        },
        {
         "legendgroup": "1",
         "legendgrouptitle": {
          "text": "1"
         },
         "name": "Education",
         "type": "scatter",
         "x": [
          "10th",
          "11th",
          "12th",
          "1st-4th",
          "5th-6th",
          "7th-8th",
          "9th",
          "Assoc-acdm",
          "Assoc-voc",
          "Bachelors",
          "Doctorate",
          "HS-grad",
          "Masters",
          "Preschool",
          "Prof-school",
          "Some-college"
         ],
         "xaxis": "x3",
         "y": [
          -0.07466781266561026,
          -0.07987234608964996,
          -0.03684745924999089,
          -0.05007222287742055,
          -0.07321918137531108,
          -0.08621634326633898,
          -0.08326917353604649,
          -0.004552357596796175,
          0.004522836000854458,
          0.07340536383587563,
          0.15370375728604252,
          -0.040781905102185656,
          0.14044780725037576,
          -0.055362506642699344,
          0.17334300018211662,
          -0.010628668467293378
         ],
         "yaxis": "y3"
        },
        {
         "legendgroup": "0",
         "line": {
          "color": "#808080"
         },
         "mode": "lines",
         "opacity": 0.1,
         "showlegend": false,
         "type": "scatter",
         "x": [
          "10th",
          "11th",
          "12th",
          "1st-4th",
          "5th-6th",
          "7th-8th",
          "9th",
          "Assoc-acdm",
          "Assoc-voc",
          "Bachelors",
          "Doctorate",
          "HS-grad",
          "Masters",
          "Preschool",
          "Prof-school",
          "Some-college"
         ],
         "xaxis": "x3",
         "y": [
          0.08365842462015391,
          0.10374503560577536,
          0.02942446194497761,
          0.027030076500802636,
          0.07423330610424611,
          0.09219298448733498,
          0.0831591789847507,
          0.013312189108330985,
          -0.0048195137371842,
          -0.08261892728673143,
          -0.16547846439812092,
          0.03929303371280604,
          -0.12608659717916765,
          0.019760845731571886,
          -0.17500115311385095,
          0.011819376669344406
         ],
         "yaxis": "y3"
        },
        {
         "legendgroup": "1",
         "line": {
          "color": "#808080"
         },
         "mode": "lines",
         "opacity": 0.1,
         "showlegend": false,
         "type": "scatter",
         "x": [
          "10th",
          "11th",
          "12th",
          "1st-4th",
          "5th-6th",
          "7th-8th",
          "9th",
          "Assoc-acdm",
          "Assoc-voc",
          "Bachelors",
          "Doctorate",
          "HS-grad",
          "Masters",
          "Preschool",
          "Prof-school",
          "Some-college"
         ],
         "xaxis": "x3",
         "y": [
          -0.08365842462015391,
          -0.1037450356057753,
          -0.029424461944977526,
          -0.027030076500802552,
          -0.07423330610424603,
          -0.09219298448733498,
          -0.08315917898475067,
          -0.013312189108330957,
          0.0048195137371842,
          0.08261892728673143,
          0.16547846439812097,
          -0.03929303371280607,
          0.12608659717916765,
          -0.019760845731571774,
          0.175001153113851,
          -0.011819376669344434
         ],
         "yaxis": "y3"
        },
        {
         "legendgroup": "0",
         "line": {
          "color": "#808080"
         },
         "mode": "lines",
         "opacity": 0.1,
         "showlegend": false,
         "type": "scatter",
         "x": [
          "10th",
          "11th",
          "12th",
          "1st-4th",
          "5th-6th",
          "7th-8th",
          "9th",
          "Assoc-acdm",
          "Assoc-voc",
          "Bachelors",
          "Doctorate",
          "HS-grad",
          "Masters",
          "Preschool",
          "Prof-school",
          "Some-college"
         ],
         "xaxis": "x3",
         "y": [
          0.07708015487040229,
          0.09000737655164232,
          0.04237914615376709,
          0.024580401422960335,
          0.07243620479000529,
          0.08274025909373739,
          0.08692109090982034,
          0.0161528381107697,
          0.000828299952230313,
          -0.07887546380206968,
          -0.09649975190534421,
          0.04047602120033636,
          -0.1424621998329423,
          0.0231435305780084,
          -0.137304675192182,
          0.005662913532786543
         ],
         "yaxis": "y3"
        },
        {
         "legendgroup": "1",
         "line": {
          "color": "#808080"
         },
         "mode": "lines",
         "opacity": 0.1,
         "showlegend": false,
         "type": "scatter",
         "x": [
          "10th",
          "11th",
          "12th",
          "1st-4th",
          "5th-6th",
          "7th-8th",
          "9th",
          "Assoc-acdm",
          "Assoc-voc",
          "Bachelors",
          "Doctorate",
          "HS-grad",
          "Masters",
          "Preschool",
          "Prof-school",
          "Some-college"
         ],
         "xaxis": "x3",
         "y": [
          -0.07708015487040225,
          -0.09000737655164225,
          -0.04237914615376705,
          -0.02458040142296032,
          -0.07243620479000525,
          -0.08274025909373735,
          -0.08692109090982027,
          -0.016152838110769674,
          -0.000828299952230313,
          0.07887546380206968,
          0.09649975190534425,
          -0.04047602120033637,
          0.1424621998329423,
          -0.02314353057800833,
          0.13730467519218206,
          -0.0056629135327865565
         ],
         "yaxis": "y3"
        },
        {
         "legendgroup": "0",
         "line": {
          "color": "#808080"
         },
         "mode": "lines",
         "opacity": 0.1,
         "showlegend": false,
         "type": "scatter",
         "x": [
          "10th",
          "11th",
          "12th",
          "1st-4th",
          "5th-6th",
          "7th-8th",
          "9th",
          "Assoc-acdm",
          "Assoc-voc",
          "Bachelors",
          "Doctorate",
          "HS-grad",
          "Masters",
          "Preschool",
          "Prof-school",
          "Some-college"
         ],
         "xaxis": "x3",
         "y": [
          0.062403612152502175,
          0.08939478096078901,
          0.04770497777826385,
          0.06248257743414978,
          0.0708832582857088,
          0.0855518302656369,
          0.09234003452863748,
          -0.001352521292302511,
          -0.005582515590367557,
          -0.08037091487802547,
          -0.12826867036851858,
          0.03826664451756534,
          -0.1344718203586979,
          0.05219270131250109,
          -0.13029721720059756,
          0.013274402403662455
         ],
         "yaxis": "y3"
        },
        {
         "legendgroup": "1",
         "line": {
          "color": "#808080"
         },
         "mode": "lines",
         "opacity": 0.1,
         "showlegend": false,
         "type": "scatter",
         "x": [
          "10th",
          "11th",
          "12th",
          "1st-4th",
          "5th-6th",
          "7th-8th",
          "9th",
          "Assoc-acdm",
          "Assoc-voc",
          "Bachelors",
          "Doctorate",
          "HS-grad",
          "Masters",
          "Preschool",
          "Prof-school",
          "Some-college"
         ],
         "xaxis": "x3",
         "y": [
          -0.062403612152502175,
          -0.08939478096078898,
          -0.047704977778263824,
          -0.06248257743414973,
          -0.07088325828570874,
          -0.08555183026563687,
          -0.09234003452863745,
          0.001352521292302511,
          0.005582515590367557,
          0.08037091487802545,
          0.1282686703685186,
          -0.03826664451756537,
          0.13447182035869787,
          -0.05219270131250103,
          0.1302972172005976,
          -0.013274402403662483
         ],
         "yaxis": "y3"
        },
        {
         "legendgroup": "0",
         "line": {
          "color": "#808080"
         },
         "mode": "lines",
         "opacity": 0.1,
         "showlegend": false,
         "type": "scatter",
         "x": [
          "10th",
          "11th",
          "12th",
          "1st-4th",
          "5th-6th",
          "7th-8th",
          "9th",
          "Assoc-acdm",
          "Assoc-voc",
          "Bachelors",
          "Doctorate",
          "HS-grad",
          "Masters",
          "Preschool",
          "Prof-school",
          "Some-college"
         ],
         "xaxis": "x3",
         "y": [
          0.06639579119929168,
          0.09174130386442306,
          0.02647014739334161,
          0.05151544927602622,
          0.07311988947750062,
          0.08038488235167071,
          0.0799776530122325,
          0.00035066722565960107,
          -0.009571425060498101,
          -0.06424926100141076,
          -0.17737657930251102,
          0.042269645624918945,
          -0.126909088081847,
          0.04313762680267896,
          -0.18355361035177806,
          0.002510434815684165
         ],
         "yaxis": "y3"
        },
        {
         "legendgroup": "1",
         "line": {
          "color": "#808080"
         },
         "mode": "lines",
         "opacity": 0.1,
         "showlegend": false,
         "type": "scatter",
         "x": [
          "10th",
          "11th",
          "12th",
          "1st-4th",
          "5th-6th",
          "7th-8th",
          "9th",
          "Assoc-acdm",
          "Assoc-voc",
          "Bachelors",
          "Doctorate",
          "HS-grad",
          "Masters",
          "Preschool",
          "Prof-school",
          "Some-college"
         ],
         "xaxis": "x3",
         "y": [
          -0.06639579119929165,
          -0.09174130386442295,
          -0.026470147393341525,
          -0.051515449276026165,
          -0.07311988947750056,
          -0.08038488235167066,
          -0.07997765301223245,
          -0.00035066722565954556,
          0.009571425060498129,
          0.06424926100141076,
          0.17737657930251108,
          -0.042269645624918945,
          0.126909088081847,
          -0.04313762680267891,
          0.18355361035177808,
          -0.002510434815684137
         ],
         "yaxis": "y3"
        },
        {
         "legendgroup": "0",
         "line": {
          "color": "#808080"
         },
         "mode": "lines",
         "opacity": 0.1,
         "showlegend": false,
         "type": "scatter",
         "x": [
          "10th",
          "11th",
          "12th",
          "1st-4th",
          "5th-6th",
          "7th-8th",
          "9th",
          "Assoc-acdm",
          "Assoc-voc",
          "Bachelors",
          "Doctorate",
          "HS-grad",
          "Masters",
          "Preschool",
          "Prof-school",
          "Some-college"
         ],
         "xaxis": "x3",
         "y": [
          0.07630728181691049,
          0.07388601700410094,
          0.02057668262562598,
          0.02605916269592659,
          0.07115734434797338,
          0.08599148372619864,
          0.07971022466303365,
          0.0015692242016168423,
          -0.013394640639458805,
          -0.07345917711490177,
          -0.14149162828414533,
          0.041826316617384424,
          -0.14092050588826643,
          0.0850981544059709,
          -0.19247183414530356,
          0.01466134859272461
         ],
         "yaxis": "y3"
        },
        {
         "legendgroup": "1",
         "line": {
          "color": "#808080"
         },
         "mode": "lines",
         "opacity": 0.1,
         "showlegend": false,
         "type": "scatter",
         "x": [
          "10th",
          "11th",
          "12th",
          "1st-4th",
          "5th-6th",
          "7th-8th",
          "9th",
          "Assoc-acdm",
          "Assoc-voc",
          "Bachelors",
          "Doctorate",
          "HS-grad",
          "Masters",
          "Preschool",
          "Prof-school",
          "Some-college"
         ],
         "xaxis": "x3",
         "y": [
          -0.07630728181691049,
          -0.07388601700410094,
          -0.02057668262562598,
          -0.026059162695926563,
          -0.07115734434797336,
          -0.08599148372619864,
          -0.07971022466303365,
          -0.0015692242016168145,
          0.013394640639458805,
          0.07345917711490173,
          0.1414916282841453,
          -0.04182631661738445,
          0.14092050588826638,
          -0.0850981544059709,
          0.19247183414530356,
          -0.014661348592724638
         ],
         "yaxis": "y3"
        },
        {
         "legendgroup": "0",
         "line": {
          "color": "#808080"
         },
         "mode": "lines",
         "opacity": 0.1,
         "showlegend": false,
         "type": "scatter",
         "x": [
          "10th",
          "11th",
          "12th",
          "1st-4th",
          "5th-6th",
          "7th-8th",
          "9th",
          "Assoc-acdm",
          "Assoc-voc",
          "Bachelors",
          "Doctorate",
          "HS-grad",
          "Masters",
          "Preschool",
          "Prof-school",
          "Some-college"
         ],
         "xaxis": "x3",
         "y": [
          0.06118698945883269,
          0.08684541274228619,
          0.010329383551396815,
          0.04555474959042263,
          0.0831849368635143,
          0.08633319605722797,
          0.09773433557539041,
          -0.004386164473746901,
          -0.004809742907774278,
          -0.08356781879018114,
          -0.12858261562443316,
          0.04650388430361069,
          -0.13482338349926792,
          0.05870093794313272,
          -0.2107619413169201,
          0.012067381067905808
         ],
         "yaxis": "y3"
        },
        {
         "legendgroup": "1",
         "line": {
          "color": "#808080"
         },
         "mode": "lines",
         "opacity": 0.1,
         "showlegend": false,
         "type": "scatter",
         "x": [
          "10th",
          "11th",
          "12th",
          "1st-4th",
          "5th-6th",
          "7th-8th",
          "9th",
          "Assoc-acdm",
          "Assoc-voc",
          "Bachelors",
          "Doctorate",
          "HS-grad",
          "Masters",
          "Preschool",
          "Prof-school",
          "Some-college"
         ],
         "xaxis": "x3",
         "y": [
          -0.061186989458832663,
          -0.08684541274228613,
          -0.010329383551396787,
          -0.04555474959042258,
          -0.08318493686351425,
          -0.08633319605722795,
          -0.09773433557539035,
          0.004386164473746901,
          0.004809742907774264,
          0.08356781879018113,
          0.12858261562443324,
          -0.046503884303610715,
          0.13482338349926792,
          -0.058700937943132664,
          0.21076194131692016,
          -0.012067381067905836
         ],
         "yaxis": "y3"
        },
        {
         "legendgroup": "0",
         "line": {
          "color": "#808080"
         },
         "mode": "lines",
         "opacity": 0.1,
         "showlegend": false,
         "type": "scatter",
         "x": [
          "10th",
          "11th",
          "12th",
          "1st-4th",
          "5th-6th",
          "7th-8th",
          "9th",
          "Assoc-acdm",
          "Assoc-voc",
          "Bachelors",
          "Doctorate",
          "HS-grad",
          "Masters",
          "Preschool",
          "Prof-school",
          "Some-college"
         ],
         "xaxis": "x3",
         "y": [
          0.09855477969051794,
          0.09377814230163774,
          0.02532686808418909,
          0.026782736528843512,
          0.06251084980161993,
          0.09714732662586507,
          0.08404120833688682,
          -0.01071250824771594,
          -0.005681321920858365,
          -0.0893965490805287,
          -0.1010049844419421,
          0.04917478589697623,
          -0.17019314345530784,
          0.04003606388829899,
          -0.1726237585250019,
          0.012619557635704617
         ],
         "yaxis": "y3"
        },
        {
         "legendgroup": "1",
         "line": {
          "color": "#808080"
         },
         "mode": "lines",
         "opacity": 0.1,
         "showlegend": false,
         "type": "scatter",
         "x": [
          "10th",
          "11th",
          "12th",
          "1st-4th",
          "5th-6th",
          "7th-8th",
          "9th",
          "Assoc-acdm",
          "Assoc-voc",
          "Bachelors",
          "Doctorate",
          "HS-grad",
          "Masters",
          "Preschool",
          "Prof-school",
          "Some-college"
         ],
         "xaxis": "x3",
         "y": [
          -0.09855477969051792,
          -0.09377814230163771,
          -0.02532686808418909,
          -0.026782736528843484,
          -0.0625108498016199,
          -0.09714732662586505,
          -0.08404120833688682,
          0.010712508247715954,
          0.005681321920858365,
          0.08939654908052866,
          0.10100498444194213,
          -0.04917478589697623,
          0.17019314345530778,
          -0.04003606388829896,
          0.17262375852500192,
          -0.012619557635704617
         ],
         "yaxis": "y3"
        },
        {
         "legendgroup": "0",
         "line": {
          "color": "#808080"
         },
         "mode": "lines",
         "opacity": 0.1,
         "showlegend": false,
         "type": "scatter",
         "x": [
          "10th",
          "11th",
          "12th",
          "1st-4th",
          "5th-6th",
          "7th-8th",
          "9th",
          "Assoc-acdm",
          "Assoc-voc",
          "Bachelors",
          "Doctorate",
          "HS-grad",
          "Masters",
          "Preschool",
          "Prof-school",
          "Some-college"
         ],
         "xaxis": "x3",
         "y": [
          0.07092549543198295,
          0.06708643966626948,
          0.022999867970671634,
          0.053374214898002675,
          0.05804435569470598,
          0.0752654091763629,
          0.07455960008349502,
          0.02859287790711465,
          -0.009973322618101493,
          -0.0400378333645538,
          -0.1730910862346132,
          0.025630367768293194,
          -0.11764817405195113,
          0.05327390964769743,
          -0.2000796810166262,
          0.00849481641892888
         ],
         "yaxis": "y3"
        },
        {
         "legendgroup": "1",
         "line": {
          "color": "#808080"
         },
         "mode": "lines",
         "opacity": 0.1,
         "showlegend": false,
         "type": "scatter",
         "x": [
          "10th",
          "11th",
          "12th",
          "1st-4th",
          "5th-6th",
          "7th-8th",
          "9th",
          "Assoc-acdm",
          "Assoc-voc",
          "Bachelors",
          "Doctorate",
          "HS-grad",
          "Masters",
          "Preschool",
          "Prof-school",
          "Some-college"
         ],
         "xaxis": "x3",
         "y": [
          -0.07092549543198295,
          -0.06708643966626945,
          -0.022999867970671606,
          -0.05337421489800262,
          -0.058044355694705924,
          -0.07526540917636287,
          -0.07455960008349499,
          -0.02859287790711465,
          0.009973322618101493,
          0.04003783336455374,
          0.1730910862346132,
          -0.025630367768293222,
          0.11764817405195108,
          -0.053273909647697376,
          0.2000796810166262,
          -0.008494816418928908
         ],
         "yaxis": "y3"
        },
        {
         "legendgroup": "0",
         "line": {
          "color": "#808080"
         },
         "mode": "lines",
         "opacity": 0.1,
         "showlegend": false,
         "type": "scatter",
         "x": [
          "10th",
          "11th",
          "12th",
          "1st-4th",
          "5th-6th",
          "7th-8th",
          "9th",
          "Assoc-acdm",
          "Assoc-voc",
          "Bachelors",
          "Doctorate",
          "HS-grad",
          "Masters",
          "Preschool",
          "Prof-school",
          "Some-college"
         ],
         "xaxis": "x3",
         "y": [
          0.056355220394564504,
          0.09329915783512455,
          0.05316436845287592,
          0.05855497381470107,
          0.08466904909816825,
          0.08563377523175142,
          0.09064747766397319,
          0.002850451832086792,
          -0.014190701922865173,
          -0.07791698635635144,
          -0.16531820409276976,
          0.043369153771082636,
          -0.13963252369740065,
          0.029689138719525,
          -0.19052172852248467,
          0.012549694226062558
         ],
         "yaxis": "y3"
        },
        {
         "legendgroup": "1",
         "line": {
          "color": "#808080"
         },
         "mode": "lines",
         "opacity": 0.1,
         "showlegend": false,
         "type": "scatter",
         "x": [
          "10th",
          "11th",
          "12th",
          "1st-4th",
          "5th-6th",
          "7th-8th",
          "9th",
          "Assoc-acdm",
          "Assoc-voc",
          "Bachelors",
          "Doctorate",
          "HS-grad",
          "Masters",
          "Preschool",
          "Prof-school",
          "Some-college"
         ],
         "xaxis": "x3",
         "y": [
          -0.056355220394564504,
          -0.09329915783512452,
          -0.05316436845287589,
          -0.05855497381470104,
          -0.08466904909816822,
          -0.08563377523175139,
          -0.09064747766397316,
          -0.002850451832086792,
          0.014190701922865173,
          0.0779169863563514,
          0.1653182040927698,
          -0.043369153771082664,
          0.1396325236974006,
          -0.029689138719524943,
          0.19052172852248467,
          -0.012549694226062585
         ],
         "yaxis": "y3"
        },
        {
         "legendgroup": "0",
         "line": {
          "color": "#808080"
         },
         "mode": "lines",
         "opacity": 0.1,
         "showlegend": false,
         "type": "scatter",
         "x": [
          "10th",
          "11th",
          "12th",
          "1st-4th",
          "5th-6th",
          "7th-8th",
          "9th",
          "Assoc-acdm",
          "Assoc-voc",
          "Bachelors",
          "Doctorate",
          "HS-grad",
          "Masters",
          "Preschool",
          "Prof-school",
          "Some-college"
         ],
         "xaxis": "x3",
         "y": [
          0.0796428207088562,
          0.0935962871153414,
          0.0492478514381981,
          0.03281829235409037,
          0.07752118542958647,
          0.08003179569560176,
          0.09764505226155823,
          0.023085081683802133,
          -0.005527410618856615,
          -0.057471249790595036,
          -0.1894165680027844,
          0.031890689130342376,
          -0.13501598786258745,
          0.06284356582276007,
          -0.14806205782214973,
          0.004442463794394114
         ],
         "yaxis": "y3"
        },
        {
         "legendgroup": "1",
         "line": {
          "color": "#808080"
         },
         "mode": "lines",
         "opacity": 0.1,
         "showlegend": false,
         "type": "scatter",
         "x": [
          "10th",
          "11th",
          "12th",
          "1st-4th",
          "5th-6th",
          "7th-8th",
          "9th",
          "Assoc-acdm",
          "Assoc-voc",
          "Bachelors",
          "Doctorate",
          "HS-grad",
          "Masters",
          "Preschool",
          "Prof-school",
          "Some-college"
         ],
         "xaxis": "x3",
         "y": [
          -0.07964282070885617,
          -0.09359628711534138,
          -0.04924785143819807,
          -0.03281829235409037,
          -0.07752118542958644,
          -0.08003179569560173,
          -0.0976450522615582,
          -0.023085081683802106,
          0.005527410618856643,
          0.05747124979059501,
          0.18941656800278442,
          -0.031890689130342376,
          0.13501598786258745,
          -0.06284356582276004,
          0.14806205782214976,
          -0.004442463794394114
         ],
         "yaxis": "y3"
        },
        {
         "legendgroup": "0",
         "legendgrouptitle": {
          "text": "0"
         },
         "name": "Occupation",
         "type": "scatter",
         "x": [
          "Adm-clerical",
          "Armed-Forces",
          "Craft-repair",
          "Exec-managerial",
          "Farming-fishing",
          "Handlers-cleane*",
          "Machine-op-insp*",
          "Other-service",
          "Priv-house-serv",
          "Prof-specialty",
          "Protective-serv",
          "Sales",
          "Tech-support",
          "Transport-movin*"
         ],
         "xaxis": "x4",
         "y": [
          -0.006806970770217073,
          0.003815940778016065,
          0.04182503348683304,
          -0.07136830997756966,
          0.10836803237867126,
          0.03994372112075335,
          0.030182386000242308,
          0.0441838452558696,
          0.027741304954049535,
          -0.03560246322931806,
          0.003564488219035343,
          -0.029821157292059176,
          -0.06482806789477638,
          0.05079723882543256
         ],
         "yaxis": "y4"
        },
        {
         "legendgroup": "1",
         "legendgrouptitle": {
          "text": "1"
         },
         "name": "Occupation",
         "type": "scatter",
         "x": [
          "Adm-clerical",
          "Armed-Forces",
          "Craft-repair",
          "Exec-managerial",
          "Farming-fishing",
          "Handlers-cleane*",
          "Machine-op-insp*",
          "Other-service",
          "Priv-house-serv",
          "Prof-specialty",
          "Protective-serv",
          "Sales",
          "Tech-support",
          "Transport-movin*"
         ],
         "xaxis": "x4",
         "y": [
          0.006806970770217094,
          -0.0038159407780160165,
          -0.04182503348683305,
          0.07136830997756964,
          -0.10836803237867124,
          -0.03994372112075331,
          -0.03018238600024232,
          -0.04418384525586956,
          -0.027741304954049487,
          0.03560246322931805,
          -0.003564488219035322,
          0.029821157292059156,
          0.06482806789477638,
          -0.050797238825432564
         ],
         "yaxis": "y4"
        },
        {
         "legendgroup": "0",
         "line": {
          "color": "#808080"
         },
         "mode": "lines",
         "opacity": 0.1,
         "showlegend": false,
         "type": "scatter",
         "x": [
          "Adm-clerical",
          "Armed-Forces",
          "Craft-repair",
          "Exec-managerial",
          "Farming-fishing",
          "Handlers-cleane*",
          "Machine-op-insp*",
          "Other-service",
          "Priv-house-serv",
          "Prof-specialty",
          "Protective-serv",
          "Sales",
          "Tech-support",
          "Transport-movin*"
         ],
         "xaxis": "x4",
         "y": [
          -0.005366412244771433,
          0.012868996719064236,
          0.04243162557104599,
          -0.07864898291622603,
          0.10753158781274785,
          0.0467694515145165,
          0.04442621376275628,
          0.04562102554480168,
          0.031562379360406026,
          -0.047674048279263484,
          0.002602285441291541,
          -0.024738048669974727,
          -0.06938783748389406,
          0.060492639192268674
         ],
         "yaxis": "y4"
        },
        {
         "legendgroup": "1",
         "line": {
          "color": "#808080"
         },
         "mode": "lines",
         "opacity": 0.1,
         "showlegend": false,
         "type": "scatter",
         "x": [
          "Adm-clerical",
          "Armed-Forces",
          "Craft-repair",
          "Exec-managerial",
          "Farming-fishing",
          "Handlers-cleane*",
          "Machine-op-insp*",
          "Other-service",
          "Priv-house-serv",
          "Prof-specialty",
          "Protective-serv",
          "Sales",
          "Tech-support",
          "Transport-movin*"
         ],
         "xaxis": "x4",
         "y": [
          0.005366412244771461,
          -0.012868996719064194,
          -0.042431625571046024,
          0.07864898291622599,
          -0.10753158781274783,
          -0.04676945151451646,
          -0.04442621376275628,
          -0.045621025544801644,
          -0.03156237936040598,
          0.04767404827926345,
          -0.00260228544129152,
          0.02473804866997472,
          0.06938783748389407,
          -0.060492639192268695
         ],
         "yaxis": "y4"
        },
        {
         "legendgroup": "0",
         "line": {
          "color": "#808080"
         },
         "mode": "lines",
         "opacity": 0.1,
         "showlegend": false,
         "type": "scatter",
         "x": [
          "Adm-clerical",
          "Armed-Forces",
          "Craft-repair",
          "Exec-managerial",
          "Farming-fishing",
          "Handlers-cleane*",
          "Machine-op-insp*",
          "Other-service",
          "Priv-house-serv",
          "Prof-specialty",
          "Protective-serv",
          "Sales",
          "Tech-support",
          "Transport-movin*"
         ],
         "xaxis": "x4",
         "y": [
          -0.013142659616321863,
          0.0023652120288700854,
          0.050548406227551,
          -0.07305777571567279,
          0.11200357454211804,
          0.041477273196658324,
          0.0280749707349717,
          0.048932245390534354,
          0.02711683031203726,
          -0.04122908944565836,
          0.009040939275365235,
          -0.028987685559348088,
          -0.06391216938108454,
          0.04773927888056872
         ],
         "yaxis": "y4"
        },
        {
         "legendgroup": "1",
         "line": {
          "color": "#808080"
         },
         "mode": "lines",
         "opacity": 0.1,
         "showlegend": false,
         "type": "scatter",
         "x": [
          "Adm-clerical",
          "Armed-Forces",
          "Craft-repair",
          "Exec-managerial",
          "Farming-fishing",
          "Handlers-cleane*",
          "Machine-op-insp*",
          "Other-service",
          "Priv-house-serv",
          "Prof-specialty",
          "Protective-serv",
          "Sales",
          "Tech-support",
          "Transport-movin*"
         ],
         "xaxis": "x4",
         "y": [
          0.013142659616321887,
          -0.0023652120288700403,
          -0.05054840622755101,
          0.07305777571567278,
          -0.11200357454211801,
          -0.04147727319665829,
          -0.028074970734971696,
          -0.04893224539053434,
          -0.027116830312037234,
          0.04122908944565834,
          -0.009040939275365225,
          0.02898768555934807,
          0.06391216938108454,
          -0.047739278880568725
         ],
         "yaxis": "y4"
        },
        {
         "legendgroup": "0",
         "line": {
          "color": "#808080"
         },
         "mode": "lines",
         "opacity": 0.1,
         "showlegend": false,
         "type": "scatter",
         "x": [
          "Adm-clerical",
          "Armed-Forces",
          "Craft-repair",
          "Exec-managerial",
          "Farming-fishing",
          "Handlers-cleane*",
          "Machine-op-insp*",
          "Other-service",
          "Priv-house-serv",
          "Prof-specialty",
          "Protective-serv",
          "Sales",
          "Tech-support",
          "Transport-movin*"
         ],
         "xaxis": "x4",
         "y": [
          0.006885954731382631,
          0.013556551000571718,
          0.038915485636705646,
          -0.07508739765868856,
          0.09642695181668079,
          0.04452331972913655,
          0.03519899480960579,
          0.04935073920433358,
          0.02799023019601213,
          -0.05075662960732513,
          -0.012351224347483435,
          -0.024284328647729714,
          -0.06555376106509164,
          0.05626317397045279
         ],
         "yaxis": "y4"
        },
        {
         "legendgroup": "1",
         "line": {
          "color": "#808080"
         },
         "mode": "lines",
         "opacity": 0.1,
         "showlegend": false,
         "type": "scatter",
         "x": [
          "Adm-clerical",
          "Armed-Forces",
          "Craft-repair",
          "Exec-managerial",
          "Farming-fishing",
          "Handlers-cleane*",
          "Machine-op-insp*",
          "Other-service",
          "Priv-house-serv",
          "Prof-specialty",
          "Protective-serv",
          "Sales",
          "Tech-support",
          "Transport-movin*"
         ],
         "xaxis": "x4",
         "y": [
          -0.006885954731382572,
          -0.013556551000571642,
          -0.038915485636705674,
          0.07508739765868852,
          -0.09642695181668079,
          -0.044523319729136486,
          -0.035198994809605776,
          -0.04935073920433351,
          -0.027990230196012062,
          0.05075662960732509,
          0.012351224347483421,
          0.024284328647729714,
          0.06555376106509166,
          -0.056263173970452815
         ],
         "yaxis": "y4"
        },
        {
         "legendgroup": "0",
         "line": {
          "color": "#808080"
         },
         "mode": "lines",
         "opacity": 0.1,
         "showlegend": false,
         "type": "scatter",
         "x": [
          "Adm-clerical",
          "Armed-Forces",
          "Craft-repair",
          "Exec-managerial",
          "Farming-fishing",
          "Handlers-cleane*",
          "Machine-op-insp*",
          "Other-service",
          "Priv-house-serv",
          "Prof-specialty",
          "Protective-serv",
          "Sales",
          "Tech-support",
          "Transport-movin*"
         ],
         "xaxis": "x4",
         "y": [
          -0.021080037826004316,
          -0.009556999589156664,
          0.042763319893664026,
          -0.05214351730613137,
          0.11671560918151845,
          0.03334644100126077,
          0.01851339408394727,
          0.04108212500980061,
          0.02590586182618196,
          -0.024193102474467494,
          0.022369219842865468,
          -0.04331506574661936,
          -0.09091570696565587,
          0.06459338352580216
         ],
         "yaxis": "y4"
        },
        {
         "legendgroup": "1",
         "line": {
          "color": "#808080"
         },
         "mode": "lines",
         "opacity": 0.1,
         "showlegend": false,
         "type": "scatter",
         "x": [
          "Adm-clerical",
          "Armed-Forces",
          "Craft-repair",
          "Exec-managerial",
          "Farming-fishing",
          "Handlers-cleane*",
          "Machine-op-insp*",
          "Other-service",
          "Priv-house-serv",
          "Prof-specialty",
          "Protective-serv",
          "Sales",
          "Tech-support",
          "Transport-movin*"
         ],
         "xaxis": "x4",
         "y": [
          0.021080037826004344,
          0.00955699958915672,
          -0.042763319893664026,
          0.05214351730613136,
          -0.11671560918151841,
          -0.033346441001260725,
          -0.01851339408394728,
          -0.041082125009800574,
          -0.025905861826181917,
          0.024193102474467494,
          -0.02236921984286544,
          0.043315065746619336,
          0.09091570696565586,
          -0.06459338352580217
         ],
         "yaxis": "y4"
        },
        {
         "legendgroup": "0",
         "line": {
          "color": "#808080"
         },
         "mode": "lines",
         "opacity": 0.1,
         "showlegend": false,
         "type": "scatter",
         "x": [
          "Adm-clerical",
          "Armed-Forces",
          "Craft-repair",
          "Exec-managerial",
          "Farming-fishing",
          "Handlers-cleane*",
          "Machine-op-insp*",
          "Other-service",
          "Priv-house-serv",
          "Prof-specialty",
          "Protective-serv",
          "Sales",
          "Tech-support",
          "Transport-movin*"
         ],
         "xaxis": "x4",
         "y": [
          -0.0016011044831375151,
          0.013333007399799097,
          0.040841371919724756,
          -0.07545152616829359,
          0.09814984455560458,
          0.05083524260049355,
          0.03593426527548722,
          0.05143442779035875,
          0.04286527501600889,
          -0.04390463155809036,
          0.004646150197594907,
          -0.028734635906017693,
          -0.0786864582580912,
          0.05220356010844706
         ],
         "yaxis": "y4"
        },
        {
         "legendgroup": "1",
         "line": {
          "color": "#808080"
         },
         "mode": "lines",
         "opacity": 0.1,
         "showlegend": false,
         "type": "scatter",
         "x": [
          "Adm-clerical",
          "Armed-Forces",
          "Craft-repair",
          "Exec-managerial",
          "Farming-fishing",
          "Handlers-cleane*",
          "Machine-op-insp*",
          "Other-service",
          "Priv-house-serv",
          "Prof-specialty",
          "Protective-serv",
          "Sales",
          "Tech-support",
          "Transport-movin*"
         ],
         "xaxis": "x4",
         "y": [
          0.0016011044831375845,
          -0.013333007399799014,
          -0.04084137191972478,
          0.07545152616829356,
          -0.09814984455560455,
          -0.05083524260049348,
          -0.035934265275487216,
          -0.051434427790358686,
          -0.04286527501600882,
          0.04390463155809032,
          -0.004646150197594921,
          0.02873463590601768,
          0.07868645825809123,
          -0.052203560108447074
         ],
         "yaxis": "y4"
        },
        {
         "legendgroup": "0",
         "line": {
          "color": "#808080"
         },
         "mode": "lines",
         "opacity": 0.1,
         "showlegend": false,
         "type": "scatter",
         "x": [
          "Adm-clerical",
          "Armed-Forces",
          "Craft-repair",
          "Exec-managerial",
          "Farming-fishing",
          "Handlers-cleane*",
          "Machine-op-insp*",
          "Other-service",
          "Priv-house-serv",
          "Prof-specialty",
          "Protective-serv",
          "Sales",
          "Tech-support",
          "Transport-movin*"
         ],
         "xaxis": "x4",
         "y": [
          -0.01392092377811451,
          -0.01830155449711747,
          0.039056241378255384,
          -0.03481038247284363,
          0.10623832324704856,
          0.016149245219222334,
          0.014986147668868131,
          0.02339397856838739,
          -0.00024199174158800497,
          -0.0026071952712746847,
          0.03743654143725993,
          -0.05939284016099648,
          -0.08378776253668704,
          0.04850786769620483
         ],
         "yaxis": "y4"
        },
        {
         "legendgroup": "1",
         "line": {
          "color": "#808080"
         },
         "mode": "lines",
         "opacity": 0.1,
         "showlegend": false,
         "type": "scatter",
         "x": [
          "Adm-clerical",
          "Armed-Forces",
          "Craft-repair",
          "Exec-managerial",
          "Farming-fishing",
          "Handlers-cleane*",
          "Machine-op-insp*",
          "Other-service",
          "Priv-house-serv",
          "Prof-specialty",
          "Protective-serv",
          "Sales",
          "Tech-support",
          "Transport-movin*"
         ],
         "xaxis": "x4",
         "y": [
          0.013920923778114526,
          0.018301554497117515,
          -0.03905624137825542,
          0.03481038247284363,
          -0.10623832324704854,
          -0.016149245219222303,
          -0.01498614766886815,
          -0.023393978568387364,
          0.00024199174158804227,
          0.0026071952712746873,
          -0.037436541437259906,
          0.05939284016099647,
          0.08378776253668704,
          -0.04850786769620485
         ],
         "yaxis": "y4"
        },
        {
         "legendgroup": "0",
         "line": {
          "color": "#808080"
         },
         "mode": "lines",
         "opacity": 0.1,
         "showlegend": false,
         "type": "scatter",
         "x": [
          "Adm-clerical",
          "Armed-Forces",
          "Craft-repair",
          "Exec-managerial",
          "Farming-fishing",
          "Handlers-cleane*",
          "Machine-op-insp*",
          "Other-service",
          "Priv-house-serv",
          "Prof-specialty",
          "Protective-serv",
          "Sales",
          "Tech-support",
          "Transport-movin*"
         ],
         "xaxis": "x4",
         "y": [
          -0.007454348218014342,
          0.0009411129427392625,
          0.034308325408317256,
          -0.0702291124113986,
          0.10437007245617946,
          0.03762022459690566,
          0.03604391065232352,
          0.04219559322818972,
          0.02653272964082,
          -0.03789243876603214,
          -0.0013653483774832414,
          -0.021789602097708256,
          -0.06096435519518993,
          0.05795241274788071
         ],
         "yaxis": "y4"
        },
        {
         "legendgroup": "1",
         "line": {
          "color": "#808080"
         },
         "mode": "lines",
         "opacity": 0.1,
         "showlegend": false,
         "type": "scatter",
         "x": [
          "Adm-clerical",
          "Armed-Forces",
          "Craft-repair",
          "Exec-managerial",
          "Farming-fishing",
          "Handlers-cleane*",
          "Machine-op-insp*",
          "Other-service",
          "Priv-house-serv",
          "Prof-specialty",
          "Protective-serv",
          "Sales",
          "Tech-support",
          "Transport-movin*"
         ],
         "xaxis": "x4",
         "y": [
          0.0074543482180143665,
          -0.0009411129427392209,
          -0.03430832540831728,
          0.07022911241139858,
          -0.10437007245617944,
          -0.037620224596905616,
          -0.03604391065232354,
          -0.04219559322818968,
          -0.026532729640819954,
          0.03789243876603213,
          0.0013653483774832727,
          0.02178960209770821,
          0.06096435519518992,
          -0.057952412747880724
         ],
         "yaxis": "y4"
        },
        {
         "legendgroup": "0",
         "line": {
          "color": "#808080"
         },
         "mode": "lines",
         "opacity": 0.1,
         "showlegend": false,
         "type": "scatter",
         "x": [
          "Adm-clerical",
          "Armed-Forces",
          "Craft-repair",
          "Exec-managerial",
          "Farming-fishing",
          "Handlers-cleane*",
          "Machine-op-insp*",
          "Other-service",
          "Priv-house-serv",
          "Prof-specialty",
          "Protective-serv",
          "Sales",
          "Tech-support",
          "Transport-movin*"
         ],
         "xaxis": "x4",
         "y": [
          -0.010049618216743009,
          -0.008246939813611139,
          0.03819368925162822,
          -0.05838501478297336,
          0.1157980339835199,
          0.03240570795178469,
          0.03330465417881238,
          0.038960843636253545,
          0.02491881429766204,
          -0.0411205287255885,
          0.00550300482309659,
          -0.029764651868089527,
          -0.05090348074928112,
          0.05005260421609745
         ],
         "yaxis": "y4"
        },
        {
         "legendgroup": "1",
         "line": {
          "color": "#808080"
         },
         "mode": "lines",
         "opacity": 0.1,
         "showlegend": false,
         "type": "scatter",
         "x": [
          "Adm-clerical",
          "Armed-Forces",
          "Craft-repair",
          "Exec-managerial",
          "Farming-fishing",
          "Handlers-cleane*",
          "Machine-op-insp*",
          "Other-service",
          "Priv-house-serv",
          "Prof-specialty",
          "Protective-serv",
          "Sales",
          "Tech-support",
          "Transport-movin*"
         ],
         "xaxis": "x4",
         "y": [
          0.010049618216743036,
          0.008246939813611194,
          -0.03819368925162824,
          0.05838501478297333,
          -0.11579803398351984,
          -0.03240570795178465,
          -0.03330465417881238,
          -0.038960843636253524,
          -0.024918814297661997,
          0.041120528725588475,
          -0.00550300482309659,
          0.029764651868089513,
          0.0509034807492811,
          -0.05005260421609747
         ],
         "yaxis": "y4"
        },
        {
         "legendgroup": "0",
         "line": {
          "color": "#808080"
         },
         "mode": "lines",
         "opacity": 0.1,
         "showlegend": false,
         "type": "scatter",
         "x": [
          "Adm-clerical",
          "Armed-Forces",
          "Craft-repair",
          "Exec-managerial",
          "Farming-fishing",
          "Handlers-cleane*",
          "Machine-op-insp*",
          "Other-service",
          "Priv-house-serv",
          "Prof-specialty",
          "Protective-serv",
          "Sales",
          "Tech-support",
          "Transport-movin*"
         ],
         "xaxis": "x4",
         "y": [
          -0.002193042055631849,
          0.004503972532136011,
          0.04389929495490634,
          -0.07036275494758477,
          0.10386615775869447,
          0.04115275688616046,
          0.01836644742563526,
          0.04643236646008038,
          0.02152581899771004,
          -0.054503869025695845,
          0.0020756028323158787,
          -0.0167929237158356,
          -0.05632845423639647,
          0.05991671621925106
         ],
         "yaxis": "y4"
        },
        {
         "legendgroup": "1",
         "line": {
          "color": "#808080"
         },
         "mode": "lines",
         "opacity": 0.1,
         "showlegend": false,
         "type": "scatter",
         "x": [
          "Adm-clerical",
          "Armed-Forces",
          "Craft-repair",
          "Exec-managerial",
          "Farming-fishing",
          "Handlers-cleane*",
          "Machine-op-insp*",
          "Other-service",
          "Priv-house-serv",
          "Prof-specialty",
          "Protective-serv",
          "Sales",
          "Tech-support",
          "Transport-movin*"
         ],
         "xaxis": "x4",
         "y": [
          0.002193042055631887,
          -0.004503972532135955,
          -0.04389929495490637,
          0.07036275494758473,
          -0.10386615775869446,
          -0.04115275688616041,
          -0.018366447425635257,
          -0.04643236646008034,
          -0.021525818997709993,
          0.054503869025695824,
          -0.0020756028323158857,
          0.016792923715835587,
          0.056328454236396465,
          -0.05991671621925108
         ],
         "yaxis": "y4"
        },
        {
         "legendgroup": "0",
         "line": {
          "color": "#808080"
         },
         "mode": "lines",
         "opacity": 0.1,
         "showlegend": false,
         "type": "scatter",
         "x": [
          "Adm-clerical",
          "Armed-Forces",
          "Craft-repair",
          "Exec-managerial",
          "Farming-fishing",
          "Handlers-cleane*",
          "Machine-op-insp*",
          "Other-service",
          "Priv-house-serv",
          "Prof-specialty",
          "Protective-serv",
          "Sales",
          "Tech-support",
          "Transport-movin*"
         ],
         "xaxis": "x4",
         "y": [
          -0.02574573366068828,
          -0.017578964713166403,
          0.04466628339717853,
          -0.04657992839777841,
          0.11053200144103148,
          0.028887595710402666,
          0.01786499136501525,
          0.03293650989830002,
          0.015890403963715195,
          -0.010386768071321321,
          0.03590326363758171,
          -0.04550679087760448,
          -0.07971773748503652,
          0.04014242848620659
         ],
         "yaxis": "y4"
        },
        {
         "legendgroup": "1",
         "line": {
          "color": "#808080"
         },
         "mode": "lines",
         "opacity": 0.1,
         "showlegend": false,
         "type": "scatter",
         "x": [
          "Adm-clerical",
          "Armed-Forces",
          "Craft-repair",
          "Exec-managerial",
          "Farming-fishing",
          "Handlers-cleane*",
          "Machine-op-insp*",
          "Other-service",
          "Priv-house-serv",
          "Prof-specialty",
          "Protective-serv",
          "Sales",
          "Tech-support",
          "Transport-movin*"
         ],
         "xaxis": "x4",
         "y": [
          0.025745733660688327,
          0.01757896471316647,
          -0.044666283397178555,
          0.046579928397778345,
          -0.11053200144103147,
          -0.0288875957104026,
          -0.017864991365015234,
          -0.032936509898299965,
          -0.015890403963715122,
          0.010386768071321256,
          -0.03590326363758173,
          0.045506790877604494,
          0.07971773748503655,
          -0.04014242848620658
         ],
         "yaxis": "y4"
        },
        {
         "legendgroup": "0",
         "legendgrouptitle": {
          "text": "0"
         },
         "name": "Relationsh*",
         "type": "scatter",
         "x": [
          "Married",
          "Not-in-family",
          "Other-relative",
          "Own-child",
          "Unmarried"
         ],
         "xaxis": "x5",
         "y": [
          -0.16733539473375256,
          0.1333666234187393,
          0.14347922305622493,
          0.16166535472624746,
          0.1384981562676836
         ],
         "yaxis": "y5"
        },
        {
         "legendgroup": "1",
         "legendgrouptitle": {
          "text": "1"
         },
         "name": "Relationsh*",
         "type": "scatter",
         "x": [
          "Married",
          "Not-in-family",
          "Other-relative",
          "Own-child",
          "Unmarried"
         ],
         "xaxis": "x5",
         "y": [
          0.16733539473375256,
          -0.13336662341873926,
          -0.14347922305622487,
          -0.1616653547262474,
          -0.13849815626768355
         ],
         "yaxis": "y5"
        },
        {
         "legendgroup": "0",
         "line": {
          "color": "#808080"
         },
         "mode": "lines",
         "opacity": 0.1,
         "showlegend": false,
         "type": "scatter",
         "x": [
          "Married",
          "Not-in-family",
          "Other-relative",
          "Own-child",
          "Unmarried"
         ],
         "xaxis": "x5",
         "y": [
          -0.16206750837924636,
          0.12981355308802286,
          0.13796459777195016,
          0.15813672784965152,
          0.13137928789776662
         ],
         "yaxis": "y5"
        },
        {
         "legendgroup": "1",
         "line": {
          "color": "#808080"
         },
         "mode": "lines",
         "opacity": 0.1,
         "showlegend": false,
         "type": "scatter",
         "x": [
          "Married",
          "Not-in-family",
          "Other-relative",
          "Own-child",
          "Unmarried"
         ],
         "xaxis": "x5",
         "y": [
          0.16206750837924636,
          -0.12981355308802286,
          -0.13796459777195016,
          -0.15813672784965152,
          -0.13137928789776662
         ],
         "yaxis": "y5"
        },
        {
         "legendgroup": "0",
         "line": {
          "color": "#808080"
         },
         "mode": "lines",
         "opacity": 0.1,
         "showlegend": false,
         "type": "scatter",
         "x": [
          "Married",
          "Not-in-family",
          "Other-relative",
          "Own-child",
          "Unmarried"
         ],
         "xaxis": "x5",
         "y": [
          -0.1628963531345501,
          0.13727705415831026,
          0.13254593369457807,
          0.1458235607043073,
          0.1354658097435748
         ],
         "yaxis": "y5"
        },
        {
         "legendgroup": "1",
         "line": {
          "color": "#808080"
         },
         "mode": "lines",
         "opacity": 0.1,
         "showlegend": false,
         "type": "scatter",
         "x": [
          "Married",
          "Not-in-family",
          "Other-relative",
          "Own-child",
          "Unmarried"
         ],
         "xaxis": "x5",
         "y": [
          0.16289635313455003,
          -0.13727705415831026,
          -0.132545933694578,
          -0.14582356070430724,
          -0.13546580974357475
         ],
         "yaxis": "y5"
        },
        {
         "legendgroup": "0",
         "line": {
          "color": "#808080"
         },
         "mode": "lines",
         "opacity": 0.1,
         "showlegend": false,
         "type": "scatter",
         "x": [
          "Married",
          "Not-in-family",
          "Other-relative",
          "Own-child",
          "Unmarried"
         ],
         "xaxis": "x5",
         "y": [
          -0.17320207848747005,
          0.13871899863538917,
          0.14901270424257718,
          0.16660550426927745,
          0.1433510245978526
         ],
         "yaxis": "y5"
        },
        {
         "legendgroup": "1",
         "line": {
          "color": "#808080"
         },
         "mode": "lines",
         "opacity": 0.1,
         "showlegend": false,
         "type": "scatter",
         "x": [
          "Married",
          "Not-in-family",
          "Other-relative",
          "Own-child",
          "Unmarried"
         ],
         "xaxis": "x5",
         "y": [
          0.17320207848747002,
          -0.1387189986353892,
          -0.1490127042425771,
          -0.16660550426927742,
          -0.14335102459785257
         ],
         "yaxis": "y5"
        },
        {
         "legendgroup": "0",
         "line": {
          "color": "#808080"
         },
         "mode": "lines",
         "opacity": 0.1,
         "showlegend": false,
         "type": "scatter",
         "x": [
          "Married",
          "Not-in-family",
          "Other-relative",
          "Own-child",
          "Unmarried"
         ],
         "xaxis": "x5",
         "y": [
          -0.16653547293588766,
          0.1325461858569854,
          0.14140712997967514,
          0.16252166588479217,
          0.13715137406369787
         ],
         "yaxis": "y5"
        },
        {
         "legendgroup": "1",
         "line": {
          "color": "#808080"
         },
         "mode": "lines",
         "opacity": 0.1,
         "showlegend": false,
         "type": "scatter",
         "x": [
          "Married",
          "Not-in-family",
          "Other-relative",
          "Own-child",
          "Unmarried"
         ],
         "xaxis": "x5",
         "y": [
          0.16653547293588766,
          -0.1325461858569854,
          -0.14140712997967514,
          -0.16252166588479217,
          -0.13715137406369787
         ],
         "yaxis": "y5"
        },
        {
         "legendgroup": "0",
         "line": {
          "color": "#808080"
         },
         "mode": "lines",
         "opacity": 0.1,
         "showlegend": false,
         "type": "scatter",
         "x": [
          "Married",
          "Not-in-family",
          "Other-relative",
          "Own-child",
          "Unmarried"
         ],
         "xaxis": "x5",
         "y": [
          -0.1716330850738447,
          0.13797024997406107,
          0.14778636318192154,
          0.1637010253248987,
          0.1427242129469112
         ],
         "yaxis": "y5"
        },
        {
         "legendgroup": "1",
         "line": {
          "color": "#808080"
         },
         "mode": "lines",
         "opacity": 0.1,
         "showlegend": false,
         "type": "scatter",
         "x": [
          "Married",
          "Not-in-family",
          "Other-relative",
          "Own-child",
          "Unmarried"
         ],
         "xaxis": "x5",
         "y": [
          0.1716330850738447,
          -0.13797024997406107,
          -0.14778636318192154,
          -0.1637010253248987,
          -0.14272421294691115
         ],
         "yaxis": "y5"
        },
        {
         "legendgroup": "0",
         "line": {
          "color": "#808080"
         },
         "mode": "lines",
         "opacity": 0.1,
         "showlegend": false,
         "type": "scatter",
         "x": [
          "Married",
          "Not-in-family",
          "Other-relative",
          "Own-child",
          "Unmarried"
         ],
         "xaxis": "x5",
         "y": [
          -0.16864723228072304,
          0.13461589503382843,
          0.14861900448351584,
          0.16520526104768313,
          0.13551487605241336
         ],
         "yaxis": "y5"
        },
        {
         "legendgroup": "1",
         "line": {
          "color": "#808080"
         },
         "mode": "lines",
         "opacity": 0.1,
         "showlegend": false,
         "type": "scatter",
         "x": [
          "Married",
          "Not-in-family",
          "Other-relative",
          "Own-child",
          "Unmarried"
         ],
         "xaxis": "x5",
         "y": [
          0.16864723228072304,
          -0.13461589503382843,
          -0.14861900448351584,
          -0.16520526104768313,
          -0.13551487605241336
         ],
         "yaxis": "y5"
        },
        {
         "legendgroup": "0",
         "line": {
          "color": "#808080"
         },
         "mode": "lines",
         "opacity": 0.1,
         "showlegend": false,
         "type": "scatter",
         "x": [
          "Married",
          "Not-in-family",
          "Other-relative",
          "Own-child",
          "Unmarried"
         ],
         "xaxis": "x5",
         "y": [
          -0.16766544910333722,
          0.1332775310646304,
          0.1416122276114025,
          0.16121298052555058,
          0.14209312237741142
         ],
         "yaxis": "y5"
        },
        {
         "legendgroup": "1",
         "line": {
          "color": "#808080"
         },
         "mode": "lines",
         "opacity": 0.1,
         "showlegend": false,
         "type": "scatter",
         "x": [
          "Married",
          "Not-in-family",
          "Other-relative",
          "Own-child",
          "Unmarried"
         ],
         "xaxis": "x5",
         "y": [
          0.16766544910333722,
          -0.1332775310646304,
          -0.1416122276114025,
          -0.16121298052555058,
          -0.14209312237741142
         ],
         "yaxis": "y5"
        },
        {
         "legendgroup": "0",
         "line": {
          "color": "#808080"
         },
         "mode": "lines",
         "opacity": 0.1,
         "showlegend": false,
         "type": "scatter",
         "x": [
          "Married",
          "Not-in-family",
          "Other-relative",
          "Own-child",
          "Unmarried"
         ],
         "xaxis": "x5",
         "y": [
          -0.1678801116825497,
          0.13434478961014226,
          0.14471599455890258,
          0.1635282287587063,
          0.1362767624041117
         ],
         "yaxis": "y5"
        },
        {
         "legendgroup": "1",
         "line": {
          "color": "#808080"
         },
         "mode": "lines",
         "opacity": 0.1,
         "showlegend": false,
         "type": "scatter",
         "x": [
          "Married",
          "Not-in-family",
          "Other-relative",
          "Own-child",
          "Unmarried"
         ],
         "xaxis": "x5",
         "y": [
          0.1678801116825497,
          -0.13434478961014226,
          -0.14471599455890258,
          -0.1635282287587063,
          -0.1362767624041117
         ],
         "yaxis": "y5"
        },
        {
         "legendgroup": "0",
         "line": {
          "color": "#808080"
         },
         "mode": "lines",
         "opacity": 0.1,
         "showlegend": false,
         "type": "scatter",
         "x": [
          "Married",
          "Not-in-family",
          "Other-relative",
          "Own-child",
          "Unmarried"
         ],
         "xaxis": "x5",
         "y": [
          -0.16738815214133204,
          0.13749376157058582,
          0.14570293118345493,
          0.15638950898343876,
          0.1360961862117612
         ],
         "yaxis": "y5"
        },
        {
         "legendgroup": "1",
         "line": {
          "color": "#808080"
         },
         "mode": "lines",
         "opacity": 0.1,
         "showlegend": false,
         "type": "scatter",
         "x": [
          "Married",
          "Not-in-family",
          "Other-relative",
          "Own-child",
          "Unmarried"
         ],
         "xaxis": "x5",
         "y": [
          0.16738815214133204,
          -0.13749376157058582,
          -0.14570293118345493,
          -0.15638950898343876,
          -0.1360961862117612
         ],
         "yaxis": "y5"
        },
        {
         "legendgroup": "0",
         "line": {
          "color": "#808080"
         },
         "mode": "lines",
         "opacity": 0.1,
         "showlegend": false,
         "type": "scatter",
         "x": [
          "Married",
          "Not-in-family",
          "Other-relative",
          "Own-child",
          "Unmarried"
         ],
         "xaxis": "x5",
         "y": [
          -0.16534015419765064,
          0.13625689544565245,
          0.14183929919536986,
          0.15732086949487772,
          0.1299375265887041
         ],
         "yaxis": "y5"
        },
        {
         "legendgroup": "1",
         "line": {
          "color": "#808080"
         },
         "mode": "lines",
         "opacity": 0.1,
         "showlegend": false,
         "type": "scatter",
         "x": [
          "Married",
          "Not-in-family",
          "Other-relative",
          "Own-child",
          "Unmarried"
         ],
         "xaxis": "x5",
         "y": [
          0.16534015419765064,
          -0.13625689544565245,
          -0.14183929919536986,
          -0.15732086949487772,
          -0.1299375265887041
         ],
         "yaxis": "y5"
        },
        {
         "legendgroup": "0",
         "legendgrouptitle": {
          "text": "0"
         },
         "name": "Race",
         "type": "scatter",
         "x": [
          "Amer-Indian-Esk*",
          "Asian-Pac-Islan*",
          "Black",
          "Other",
          "White"
         ],
         "xaxis": "x6",
         "y": [
          0.03034541094490347,
          0.0018047786967613846,
          0.02834042797898231,
          0.03223247769937248,
          -0.0037574379441693215
         ],
         "yaxis": "y6"
        },
        {
         "legendgroup": "1",
         "legendgrouptitle": {
          "text": "1"
         },
         "name": "Race",
         "type": "scatter",
         "x": [
          "Amer-Indian-Esk*",
          "Asian-Pac-Islan*",
          "Black",
          "Other",
          "White"
         ],
         "xaxis": "x6",
         "y": [
          -0.030345410944903436,
          -0.0018047786967613534,
          -0.02834042797898227,
          -0.032232477699372444,
          0.0037574379441693215
         ],
         "yaxis": "y6"
        },
        {
         "legendgroup": "0",
         "line": {
          "color": "#808080"
         },
         "mode": "lines",
         "opacity": 0.1,
         "showlegend": false,
         "type": "scatter",
         "x": [
          "Amer-Indian-Esk*",
          "Asian-Pac-Islan*",
          "Black",
          "Other",
          "White"
         ],
         "xaxis": "x6",
         "y": [
          0.03183466351923994,
          -8.343110813711224e-05,
          0.027847717304840307,
          0.029460557305112774,
          -0.003599296573949272
         ],
         "yaxis": "y6"
        },
        {
         "legendgroup": "1",
         "line": {
          "color": "#808080"
         },
         "mode": "lines",
         "opacity": 0.1,
         "showlegend": false,
         "type": "scatter",
         "x": [
          "Amer-Indian-Esk*",
          "Asian-Pac-Islan*",
          "Black",
          "Other",
          "White"
         ],
         "xaxis": "x6",
         "y": [
          -0.031834663519239914,
          8.343110813713306e-05,
          -0.027847717304840282,
          -0.029460557305112742,
          0.0035992965739492684
         ],
         "yaxis": "y6"
        },
        {
         "legendgroup": "0",
         "line": {
          "color": "#808080"
         },
         "mode": "lines",
         "opacity": 0.1,
         "showlegend": false,
         "type": "scatter",
         "x": [
          "Amer-Indian-Esk*",
          "Asian-Pac-Islan*",
          "Black",
          "Other",
          "White"
         ],
         "xaxis": "x6",
         "y": [
          0.031374756054185944,
          -0.0019236365031006022,
          0.0252520017015374,
          0.02783815924535335,
          -0.0032357961271220134
         ],
         "yaxis": "y6"
        },
        {
         "legendgroup": "1",
         "line": {
          "color": "#808080"
         },
         "mode": "lines",
         "opacity": 0.1,
         "showlegend": false,
         "type": "scatter",
         "x": [
          "Amer-Indian-Esk*",
          "Asian-Pac-Islan*",
          "Black",
          "Other",
          "White"
         ],
         "xaxis": "x6",
         "y": [
          -0.03137475605418591,
          0.0019236365031006265,
          -0.02525200170153737,
          -0.027838159245353312,
          0.00323579612712201
         ],
         "yaxis": "y6"
        },
        {
         "legendgroup": "0",
         "line": {
          "color": "#808080"
         },
         "mode": "lines",
         "opacity": 0.1,
         "showlegend": false,
         "type": "scatter",
         "x": [
          "Amer-Indian-Esk*",
          "Asian-Pac-Islan*",
          "Black",
          "Other",
          "White"
         ],
         "xaxis": "x6",
         "y": [
          0.030442135746559733,
          0.002799768386288898,
          0.018756822887381182,
          0.033679146627968934,
          -0.0027397958396770603
         ],
         "yaxis": "y6"
        },
        {
         "legendgroup": "1",
         "line": {
          "color": "#808080"
         },
         "mode": "lines",
         "opacity": 0.1,
         "showlegend": false,
         "type": "scatter",
         "x": [
          "Amer-Indian-Esk*",
          "Asian-Pac-Islan*",
          "Black",
          "Other",
          "White"
         ],
         "xaxis": "x6",
         "y": [
          -0.030442135746559705,
          -0.0027997683862888735,
          -0.01875682288738116,
          -0.03367914662796891,
          0.0027397958396770533
         ],
         "yaxis": "y6"
        },
        {
         "legendgroup": "0",
         "line": {
          "color": "#808080"
         },
         "mode": "lines",
         "opacity": 0.1,
         "showlegend": false,
         "type": "scatter",
         "x": [
          "Amer-Indian-Esk*",
          "Asian-Pac-Islan*",
          "Black",
          "Other",
          "White"
         ],
         "xaxis": "x6",
         "y": [
          0.032124655593542634,
          0.0003588871576496004,
          0.024754175131118557,
          0.025278501785282414,
          -0.003246556078694316
         ],
         "yaxis": "y6"
        },
        {
         "legendgroup": "1",
         "line": {
          "color": "#808080"
         },
         "mode": "lines",
         "opacity": 0.1,
         "showlegend": false,
         "type": "scatter",
         "x": [
          "Amer-Indian-Esk*",
          "Asian-Pac-Islan*",
          "Black",
          "Other",
          "White"
         ],
         "xaxis": "x6",
         "y": [
          -0.0321246555935426,
          -0.00035888715764957266,
          -0.024754175131118522,
          -0.025278501785282376,
          0.0032465560786943126
         ],
         "yaxis": "y6"
        },
        {
         "legendgroup": "0",
         "line": {
          "color": "#808080"
         },
         "mode": "lines",
         "opacity": 0.1,
         "showlegend": false,
         "type": "scatter",
         "x": [
          "Amer-Indian-Esk*",
          "Asian-Pac-Islan*",
          "Black",
          "Other",
          "White"
         ],
         "xaxis": "x6",
         "y": [
          0.030434931462158872,
          -0.0008627735322629254,
          0.025247531522259968,
          0.03543773574764717,
          -0.0033293434129060065
         ],
         "yaxis": "y6"
        },
        {
         "legendgroup": "1",
         "line": {
          "color": "#808080"
         },
         "mode": "lines",
         "opacity": 0.1,
         "showlegend": false,
         "type": "scatter",
         "x": [
          "Amer-Indian-Esk*",
          "Asian-Pac-Islan*",
          "Black",
          "Other",
          "White"
         ],
         "xaxis": "x6",
         "y": [
          -0.030434931462158837,
          0.0008627735322629532,
          -0.02524753152225995,
          -0.035437735747647144,
          0.0033293434129059996
         ],
         "yaxis": "y6"
        },
        {
         "legendgroup": "0",
         "line": {
          "color": "#808080"
         },
         "mode": "lines",
         "opacity": 0.1,
         "showlegend": false,
         "type": "scatter",
         "x": [
          "Amer-Indian-Esk*",
          "Asian-Pac-Islan*",
          "Black",
          "Other",
          "White"
         ],
         "xaxis": "x6",
         "y": [
          0.031234082286331358,
          0.0042714739692912215,
          0.020150100909088826,
          0.022357354942296292,
          -0.002849883077795559
         ],
         "yaxis": "y6"
        },
        {
         "legendgroup": "1",
         "line": {
          "color": "#808080"
         },
         "mode": "lines",
         "opacity": 0.1,
         "showlegend": false,
         "type": "scatter",
         "x": [
          "Amer-Indian-Esk*",
          "Asian-Pac-Islan*",
          "Black",
          "Other",
          "White"
         ],
         "xaxis": "x6",
         "y": [
          -0.031234082286331323,
          -0.004271473969291194,
          -0.020150100909088788,
          -0.022357354942296265,
          0.0028498830777955522
         ],
         "yaxis": "y6"
        },
        {
         "legendgroup": "0",
         "line": {
          "color": "#808080"
         },
         "mode": "lines",
         "opacity": 0.1,
         "showlegend": false,
         "type": "scatter",
         "x": [
          "Amer-Indian-Esk*",
          "Asian-Pac-Islan*",
          "Black",
          "Other",
          "White"
         ],
         "xaxis": "x6",
         "y": [
          0.029168756470333766,
          0.005072385916514731,
          0.0195940687155477,
          0.026272492289859735,
          -0.0028305204282438566
         ],
         "yaxis": "y6"
        },
        {
         "legendgroup": "1",
         "line": {
          "color": "#808080"
         },
         "mode": "lines",
         "opacity": 0.1,
         "showlegend": false,
         "type": "scatter",
         "x": [
          "Amer-Indian-Esk*",
          "Asian-Pac-Islan*",
          "Black",
          "Other",
          "White"
         ],
         "xaxis": "x6",
         "y": [
          -0.029168756470333727,
          -0.005072385916514696,
          -0.019594068715547662,
          -0.0262724922898597,
          0.002830520428243853
         ],
         "yaxis": "y6"
        },
        {
         "legendgroup": "0",
         "line": {
          "color": "#808080"
         },
         "mode": "lines",
         "opacity": 0.1,
         "showlegend": false,
         "type": "scatter",
         "x": [
          "Amer-Indian-Esk*",
          "Asian-Pac-Islan*",
          "Black",
          "Other",
          "White"
         ],
         "xaxis": "x6",
         "y": [
          0.03135623191577916,
          0.0034300381068628066,
          0.02750379876149706,
          0.03394342435677675,
          -0.0037186880860184263
         ],
         "yaxis": "y6"
        },
        {
         "legendgroup": "1",
         "line": {
          "color": "#808080"
         },
         "mode": "lines",
         "opacity": 0.1,
         "showlegend": false,
         "type": "scatter",
         "x": [
          "Amer-Indian-Esk*",
          "Asian-Pac-Islan*",
          "Black",
          "Other",
          "White"
         ],
         "xaxis": "x6",
         "y": [
          -0.03135623191577913,
          -0.0034300381068627823,
          -0.02750379876149703,
          -0.03394342435677671,
          0.0037186880860184193
         ],
         "yaxis": "y6"
        },
        {
         "legendgroup": "0",
         "line": {
          "color": "#808080"
         },
         "mode": "lines",
         "opacity": 0.1,
         "showlegend": false,
         "type": "scatter",
         "x": [
          "Amer-Indian-Esk*",
          "Asian-Pac-Islan*",
          "Black",
          "Other",
          "White"
         ],
         "xaxis": "x6",
         "y": [
          0.031350476223546794,
          0.003923765976008742,
          0.025496937372384117,
          0.02832374651582839,
          -0.0034693693507718976
         ],
         "yaxis": "y6"
        },
        {
         "legendgroup": "1",
         "line": {
          "color": "#808080"
         },
         "mode": "lines",
         "opacity": 0.1,
         "showlegend": false,
         "type": "scatter",
         "x": [
          "Amer-Indian-Esk*",
          "Asian-Pac-Islan*",
          "Black",
          "Other",
          "White"
         ],
         "xaxis": "x6",
         "y": [
          -0.03135047622354677,
          -0.0039237659760087105,
          -0.02549693737238408,
          -0.02832374651582836,
          0.003469369350771894
         ],
         "yaxis": "y6"
        },
        {
         "legendgroup": "0",
         "line": {
          "color": "#808080"
         },
         "mode": "lines",
         "opacity": 0.1,
         "showlegend": false,
         "type": "scatter",
         "x": [
          "Amer-Indian-Esk*",
          "Asian-Pac-Islan*",
          "Black",
          "Other",
          "White"
         ],
         "xaxis": "x6",
         "y": [
          0.027159967045522655,
          -5.830029657426239e-05,
          0.03607897195070102,
          0.03694130627066896,
          -0.004506563337811548
         ],
         "yaxis": "y6"
        },
        {
         "legendgroup": "1",
         "line": {
          "color": "#808080"
         },
         "mode": "lines",
         "opacity": 0.1,
         "showlegend": false,
         "type": "scatter",
         "x": [
          "Amer-Indian-Esk*",
          "Asian-Pac-Islan*",
          "Black",
          "Other",
          "White"
         ],
         "xaxis": "x6",
         "y": [
          -0.02715996704552262,
          5.8300296574290145e-05,
          -0.03607897195070099,
          -0.036941306270668925,
          0.004506563337811548
         ],
         "yaxis": "y6"
        },
        {
         "legendgroup": "0",
         "legendgrouptitle": {
          "text": "0"
         },
         "name": "Sex",
         "type": "scatter",
         "x": [
          "Female",
          "Male"
         ],
         "xaxis": "x7",
         "y": [
          -0.0019259155662021859,
          0.0014119481139121361
         ],
         "yaxis": "y7"
        },
        {
         "legendgroup": "1",
         "legendgrouptitle": {
          "text": "1"
         },
         "name": "Sex",
         "type": "scatter",
         "x": [
          "Female",
          "Male"
         ],
         "xaxis": "x7",
         "y": [
          0.00192591556620219,
          -0.001411948113912139
         ],
         "yaxis": "y7"
        },
        {
         "legendgroup": "0",
         "line": {
          "color": "#808080"
         },
         "mode": "lines",
         "opacity": 0.1,
         "showlegend": false,
         "type": "scatter",
         "x": [
          "Female",
          "Male"
         ],
         "xaxis": "x7",
         "y": [
          -0.007314484540709411,
          0.005362754271073881
         ],
         "yaxis": "y7"
        },
        {
         "legendgroup": "1",
         "line": {
          "color": "#808080"
         },
         "mode": "lines",
         "opacity": 0.1,
         "showlegend": false,
         "type": "scatter",
         "x": [
          "Female",
          "Male"
         ],
         "xaxis": "x7",
         "y": [
          0.007314484540709411,
          -0.005362754271073881
         ],
         "yaxis": "y7"
        },
        {
         "legendgroup": "0",
         "line": {
          "color": "#808080"
         },
         "mode": "lines",
         "opacity": 0.1,
         "showlegend": false,
         "type": "scatter",
         "x": [
          "Female",
          "Male"
         ],
         "xaxis": "x7",
         "y": [
          -0.003815799158454901,
          0.0027976261513267863
         ],
         "yaxis": "y7"
        },
        {
         "legendgroup": "1",
         "line": {
          "color": "#808080"
         },
         "mode": "lines",
         "opacity": 0.1,
         "showlegend": false,
         "type": "scatter",
         "x": [
          "Female",
          "Male"
         ],
         "xaxis": "x7",
         "y": [
          0.003815799158454903,
          -0.0027976261513267876
         ],
         "yaxis": "y7"
        },
        {
         "legendgroup": "0",
         "line": {
          "color": "#808080"
         },
         "mode": "lines",
         "opacity": 0.1,
         "showlegend": false,
         "type": "scatter",
         "x": [
          "Female",
          "Male"
         ],
         "xaxis": "x7",
         "y": [
          -0.0025053768003181326,
          0.0018368649303690224
         ],
         "yaxis": "y7"
        },
        {
         "legendgroup": "1",
         "line": {
          "color": "#808080"
         },
         "mode": "lines",
         "opacity": 0.1,
         "showlegend": false,
         "type": "scatter",
         "x": [
          "Female",
          "Male"
         ],
         "xaxis": "x7",
         "y": [
          0.0025053768003181365,
          -0.0018368649303690254
         ],
         "yaxis": "y7"
        },
        {
         "legendgroup": "0",
         "line": {
          "color": "#808080"
         },
         "mode": "lines",
         "opacity": 0.1,
         "showlegend": false,
         "type": "scatter",
         "x": [
          "Female",
          "Male"
         ],
         "xaxis": "x7",
         "y": [
          -0.0006398094061745608,
          0.00046908850603751397
         ],
         "yaxis": "y7"
        },
        {
         "legendgroup": "1",
         "line": {
          "color": "#808080"
         },
         "mode": "lines",
         "opacity": 0.1,
         "showlegend": false,
         "type": "scatter",
         "x": [
          "Female",
          "Male"
         ],
         "xaxis": "x7",
         "y": [
          0.0006398094061745618,
          -0.00046908850603751483
         ],
         "yaxis": "y7"
        },
        {
         "legendgroup": "0",
         "line": {
          "color": "#808080"
         },
         "mode": "lines",
         "opacity": 0.1,
         "showlegend": false,
         "type": "scatter",
         "x": [
          "Female",
          "Male"
         ],
         "xaxis": "x7",
         "y": [
          -0.00041664147624369117,
          0.000305468668885269
         ],
         "yaxis": "y7"
        },
        {
         "legendgroup": "1",
         "line": {
          "color": "#808080"
         },
         "mode": "lines",
         "opacity": 0.1,
         "showlegend": false,
         "type": "scatter",
         "x": [
          "Female",
          "Male"
         ],
         "xaxis": "x7",
         "y": [
          0.00041664147624369887,
          -0.0003054686688852746
         ],
         "yaxis": "y7"
        },
        {
         "legendgroup": "0",
         "line": {
          "color": "#808080"
         },
         "mode": "lines",
         "opacity": 0.1,
         "showlegend": false,
         "type": "scatter",
         "x": [
          "Female",
          "Male"
         ],
         "xaxis": "x7",
         "y": [
          -0.0010895899679910857,
          0.0007988537294791704
         ],
         "yaxis": "y7"
        },
        {
         "legendgroup": "1",
         "line": {
          "color": "#808080"
         },
         "mode": "lines",
         "opacity": 0.1,
         "showlegend": false,
         "type": "scatter",
         "x": [
          "Female",
          "Male"
         ],
         "xaxis": "x7",
         "y": [
          0.0010895899679910907,
          -0.0007988537294791741
         ],
         "yaxis": "y7"
        },
        {
         "legendgroup": "0",
         "line": {
          "color": "#808080"
         },
         "mode": "lines",
         "opacity": 0.1,
         "showlegend": false,
         "type": "scatter",
         "x": [
          "Female",
          "Male"
         ],
         "xaxis": "x7",
         "y": [
          -0.00026303058915819183,
          0.00019284590835902784
         ],
         "yaxis": "y7"
        },
        {
         "legendgroup": "1",
         "line": {
          "color": "#808080"
         },
         "mode": "lines",
         "opacity": 0.1,
         "showlegend": false,
         "type": "scatter",
         "x": [
          "Female",
          "Male"
         ],
         "xaxis": "x7",
         "y": [
          0.0002630305891581994,
          -0.00019284590835903336
         ],
         "yaxis": "y7"
        },
        {
         "legendgroup": "0",
         "line": {
          "color": "#808080"
         },
         "mode": "lines",
         "opacity": 0.1,
         "showlegend": false,
         "type": "scatter",
         "x": [
          "Female",
          "Male"
         ],
         "xaxis": "x7",
         "y": [
          0.0007049240854664472,
          -0.0005168285788394593
         ],
         "yaxis": "y7"
        },
        {
         "legendgroup": "1",
         "line": {
          "color": "#808080"
         },
         "mode": "lines",
         "opacity": 0.1,
         "showlegend": false,
         "type": "scatter",
         "x": [
          "Female",
          "Male"
         ],
         "xaxis": "x7",
         "y": [
          -0.0007049240854664398,
          0.0005168285788394539
         ],
         "yaxis": "y7"
        },
        {
         "legendgroup": "0",
         "line": {
          "color": "#808080"
         },
         "mode": "lines",
         "opacity": 0.1,
         "showlegend": false,
         "type": "scatter",
         "x": [
          "Female",
          "Male"
         ],
         "xaxis": "x7",
         "y": [
          0.003792442434723372,
          -0.002780501722496234
         ],
         "yaxis": "y7"
        },
        {
         "legendgroup": "1",
         "line": {
          "color": "#808080"
         },
         "mode": "lines",
         "opacity": 0.1,
         "showlegend": false,
         "type": "scatter",
         "x": [
          "Female",
          "Male"
         ],
         "xaxis": "x7",
         "y": [
          -0.003792442434723369,
          0.002780501722496232
         ],
         "yaxis": "y7"
        },
        {
         "legendgroup": "0",
         "line": {
          "color": "#808080"
         },
         "mode": "lines",
         "opacity": 0.1,
         "showlegend": false,
         "type": "scatter",
         "x": [
          "Female",
          "Male"
         ],
         "xaxis": "x7",
         "y": [
          -0.005442560375125128,
          0.0039903172581521335
         ],
         "yaxis": "y7"
        },
        {
         "legendgroup": "1",
         "line": {
          "color": "#808080"
         },
         "mode": "lines",
         "opacity": 0.1,
         "showlegend": false,
         "type": "scatter",
         "x": [
          "Female",
          "Male"
         ],
         "xaxis": "x7",
         "y": [
          0.005442560375125131,
          -0.003990317258152137
         ],
         "yaxis": "y7"
        },
        {
         "legendgroup": "0",
         "legendgrouptitle": {
          "text": "0"
         },
         "name": "Hours per *",
         "type": "scatter",
         "x": [
          "BrainDrain",
          "FullTime",
          "MidTime",
          "OverTime",
          "PartTime"
         ],
         "xaxis": "x8",
         "y": [
          -0.04644632061909239,
          0.004402503637364413,
          0.04069208563391835,
          -0.04486637611411262,
          0.0677470754192453
         ],
         "yaxis": "y8"
        },
        {
         "legendgroup": "1",
         "legendgrouptitle": {
          "text": "1"
         },
         "name": "Hours per *",
         "type": "scatter",
         "x": [
          "BrainDrain",
          "FullTime",
          "MidTime",
          "OverTime",
          "PartTime"
         ],
         "xaxis": "x8",
         "y": [
          0.04644632061909242,
          -0.004402503637364427,
          -0.04069208563391833,
          0.04486637611411262,
          -0.06774707541924527
         ],
         "yaxis": "y8"
        },
        {
         "legendgroup": "0",
         "line": {
          "color": "#808080"
         },
         "mode": "lines",
         "opacity": 0.1,
         "showlegend": false,
         "type": "scatter",
         "x": [
          "BrainDrain",
          "FullTime",
          "MidTime",
          "OverTime",
          "PartTime"
         ],
         "xaxis": "x8",
         "y": [
          -0.04710347636951674,
          0.0037404625734394625,
          0.03831061445246278,
          -0.0454430732874655,
          0.07478821890667768
         ],
         "yaxis": "y8"
        },
        {
         "legendgroup": "1",
         "line": {
          "color": "#808080"
         },
         "mode": "lines",
         "opacity": 0.1,
         "showlegend": false,
         "type": "scatter",
         "x": [
          "BrainDrain",
          "FullTime",
          "MidTime",
          "OverTime",
          "PartTime"
         ],
         "xaxis": "x8",
         "y": [
          0.04710347636951677,
          -0.0037404625734394625,
          -0.038310614452462755,
          0.0454430732874655,
          -0.07478821890667765
         ],
         "yaxis": "y8"
        },
        {
         "legendgroup": "0",
         "line": {
          "color": "#808080"
         },
         "mode": "lines",
         "opacity": 0.1,
         "showlegend": false,
         "type": "scatter",
         "x": [
          "BrainDrain",
          "FullTime",
          "MidTime",
          "OverTime",
          "PartTime"
         ],
         "xaxis": "x8",
         "y": [
          -0.03576860703820819,
          0.0036865006350749047,
          0.04216025712782157,
          -0.05198884224238741,
          0.07534117111541508
         ],
         "yaxis": "y8"
        },
        {
         "legendgroup": "1",
         "line": {
          "color": "#808080"
         },
         "mode": "lines",
         "opacity": 0.1,
         "showlegend": false,
         "type": "scatter",
         "x": [
          "BrainDrain",
          "FullTime",
          "MidTime",
          "OverTime",
          "PartTime"
         ],
         "xaxis": "x8",
         "y": [
          0.03576860703820821,
          -0.0036865006350749185,
          -0.04216025712782155,
          0.051988842242387395,
          -0.07534117111541504
         ],
         "yaxis": "y8"
        },
        {
         "legendgroup": "0",
         "line": {
          "color": "#808080"
         },
         "mode": "lines",
         "opacity": 0.1,
         "showlegend": false,
         "type": "scatter",
         "x": [
          "BrainDrain",
          "FullTime",
          "MidTime",
          "OverTime",
          "PartTime"
         ],
         "xaxis": "x8",
         "y": [
          -0.051898844788193045,
          0.006526226407870761,
          0.03848660262803779,
          -0.04683116520972088,
          0.06903740547327322
         ],
         "yaxis": "y8"
        },
        {
         "legendgroup": "1",
         "line": {
          "color": "#808080"
         },
         "mode": "lines",
         "opacity": 0.1,
         "showlegend": false,
         "type": "scatter",
         "x": [
          "BrainDrain",
          "FullTime",
          "MidTime",
          "OverTime",
          "PartTime"
         ],
         "xaxis": "x8",
         "y": [
          0.05189884478819306,
          -0.006526226407870768,
          -0.038486602628037776,
          0.046831165209720874,
          -0.06903740547327322
         ],
         "yaxis": "y8"
        },
        {
         "legendgroup": "0",
         "line": {
          "color": "#808080"
         },
         "mode": "lines",
         "opacity": 0.1,
         "showlegend": false,
         "type": "scatter",
         "x": [
          "BrainDrain",
          "FullTime",
          "MidTime",
          "OverTime",
          "PartTime"
         ],
         "xaxis": "x8",
         "y": [
          -0.03821864014578939,
          0.00374851337747404,
          0.037559683024072796,
          -0.04191011995597909,
          0.06110369932375055
         ],
         "yaxis": "y8"
        },
        {
         "legendgroup": "1",
         "line": {
          "color": "#808080"
         },
         "mode": "lines",
         "opacity": 0.1,
         "showlegend": false,
         "type": "scatter",
         "x": [
          "BrainDrain",
          "FullTime",
          "MidTime",
          "OverTime",
          "PartTime"
         ],
         "xaxis": "x8",
         "y": [
          0.038218640145789434,
          -0.003748513377474054,
          -0.03755968302407278,
          0.04191011995597909,
          -0.061103699323750524
         ],
         "yaxis": "y8"
        },
        {
         "legendgroup": "0",
         "line": {
          "color": "#808080"
         },
         "mode": "lines",
         "opacity": 0.1,
         "showlegend": false,
         "type": "scatter",
         "x": [
          "BrainDrain",
          "FullTime",
          "MidTime",
          "OverTime",
          "PartTime"
         ],
         "xaxis": "x8",
         "y": [
          -0.05880812082245852,
          0.005748729798720625,
          0.046318586083652816,
          -0.04773296060187897,
          0.07164305571565192
         ],
         "yaxis": "y8"
        },
        {
         "legendgroup": "1",
         "line": {
          "color": "#808080"
         },
         "mode": "lines",
         "opacity": 0.1,
         "showlegend": false,
         "type": "scatter",
         "x": [
          "BrainDrain",
          "FullTime",
          "MidTime",
          "OverTime",
          "PartTime"
         ],
         "xaxis": "x8",
         "y": [
          0.05880812082245855,
          -0.005748729798720639,
          -0.04631858608365279,
          0.047732960601878975,
          -0.0716430557156519
         ],
         "yaxis": "y8"
        },
        {
         "legendgroup": "0",
         "line": {
          "color": "#808080"
         },
         "mode": "lines",
         "opacity": 0.1,
         "showlegend": false,
         "type": "scatter",
         "x": [
          "BrainDrain",
          "FullTime",
          "MidTime",
          "OverTime",
          "PartTime"
         ],
         "xaxis": "x8",
         "y": [
          -0.03845595149503909,
          0.0020895086246689107,
          0.0404640005474747,
          -0.04177922498907271,
          0.06528508772728786
         ],
         "yaxis": "y8"
        },
        {
         "legendgroup": "1",
         "line": {
          "color": "#808080"
         },
         "mode": "lines",
         "opacity": 0.1,
         "showlegend": false,
         "type": "scatter",
         "x": [
          "BrainDrain",
          "FullTime",
          "MidTime",
          "OverTime",
          "PartTime"
         ],
         "xaxis": "x8",
         "y": [
          0.03845595149503911,
          -0.0020895086246689246,
          -0.04046400054747469,
          0.041779224989072695,
          -0.06528508772728786
         ],
         "yaxis": "y8"
        },
        {
         "legendgroup": "0",
         "line": {
          "color": "#808080"
         },
         "mode": "lines",
         "opacity": 0.1,
         "showlegend": false,
         "type": "scatter",
         "x": [
          "BrainDrain",
          "FullTime",
          "MidTime",
          "OverTime",
          "PartTime"
         ],
         "xaxis": "x8",
         "y": [
          -0.04060561309712407,
          0.005513331883271862,
          0.043847295494359256,
          -0.047473554627554,
          0.0600904861302779
         ],
         "yaxis": "y8"
        },
        {
         "legendgroup": "1",
         "line": {
          "color": "#808080"
         },
         "mode": "lines",
         "opacity": 0.1,
         "showlegend": false,
         "type": "scatter",
         "x": [
          "BrainDrain",
          "FullTime",
          "MidTime",
          "OverTime",
          "PartTime"
         ],
         "xaxis": "x8",
         "y": [
          0.0406056130971241,
          -0.005513331883271876,
          -0.04384729549435923,
          0.04747355462755399,
          -0.060090486130277856
         ],
         "yaxis": "y8"
        },
        {
         "legendgroup": "0",
         "line": {
          "color": "#808080"
         },
         "mode": "lines",
         "opacity": 0.1,
         "showlegend": false,
         "type": "scatter",
         "x": [
          "BrainDrain",
          "FullTime",
          "MidTime",
          "OverTime",
          "PartTime"
         ],
         "xaxis": "x8",
         "y": [
          -0.03723557036235766,
          0.004493924656689498,
          0.03584812945576676,
          -0.045982818295532156,
          0.06722375874208286
         ],
         "yaxis": "y8"
        },
        {
         "legendgroup": "1",
         "line": {
          "color": "#808080"
         },
         "mode": "lines",
         "opacity": 0.1,
         "showlegend": false,
         "type": "scatter",
         "x": [
          "BrainDrain",
          "FullTime",
          "MidTime",
          "OverTime",
          "PartTime"
         ],
         "xaxis": "x8",
         "y": [
          0.03723557036235768,
          -0.004493924656689505,
          -0.035848129455766736,
          0.04598281829553215,
          -0.06722375874208283
         ],
         "yaxis": "y8"
        },
        {
         "legendgroup": "0",
         "line": {
          "color": "#808080"
         },
         "mode": "lines",
         "opacity": 0.1,
         "showlegend": false,
         "type": "scatter",
         "x": [
          "BrainDrain",
          "FullTime",
          "MidTime",
          "OverTime",
          "PartTime"
         ],
         "xaxis": "x8",
         "y": [
          -0.04493645641856907,
          0.005092724461563079,
          0.039793072502470175,
          -0.05079484693686361,
          0.07655148779614242
         ],
         "yaxis": "y8"
        },
        {
         "legendgroup": "1",
         "line": {
          "color": "#808080"
         },
         "mode": "lines",
         "opacity": 0.1,
         "showlegend": false,
         "type": "scatter",
         "x": [
          "BrainDrain",
          "FullTime",
          "MidTime",
          "OverTime",
          "PartTime"
         ],
         "xaxis": "x8",
         "y": [
          0.04493645641856911,
          -0.005092724461563079,
          -0.03979307250247016,
          0.050794846936863626,
          -0.0765514877961424
         ],
         "yaxis": "y8"
        },
        {
         "legendgroup": "0",
         "line": {
          "color": "#808080"
         },
         "mode": "lines",
         "opacity": 0.1,
         "showlegend": false,
         "type": "scatter",
         "x": [
          "BrainDrain",
          "FullTime",
          "MidTime",
          "OverTime",
          "PartTime"
         ],
         "xaxis": "x8",
         "y": [
          -0.05527768788723627,
          0.003291950741280511,
          0.04571757299028432,
          -0.04761075836079497,
          0.0800190061333664
         ],
         "yaxis": "y8"
        },
        {
         "legendgroup": "1",
         "line": {
          "color": "#808080"
         },
         "mode": "lines",
         "opacity": 0.1,
         "showlegend": false,
         "type": "scatter",
         "x": [
          "BrainDrain",
          "FullTime",
          "MidTime",
          "OverTime",
          "PartTime"
         ],
         "xaxis": "x8",
         "y": [
          0.055277687887236276,
          -0.003291950741280518,
          -0.0457175729902843,
          0.047610758360794966,
          -0.08001900613336638
         ],
         "yaxis": "y8"
        },
        {
         "legendgroup": "0",
         "legendgrouptitle": {
          "text": "0"
         },
         "name": "Country",
         "type": "scatter",
         "x": [
          "Cambodia",
          "Canada",
          "China",
          "Columbia",
          "Cuba",
          "Dominican-Repub*",
          "Ecuador",
          "El-Salvador",
          "England",
          "France",
          "Germany",
          "Greece",
          "Guatemala",
          "Haiti",
          "Honduras",
          "Hong",
          "Hungary",
          "India",
          "Iran",
          "Ireland",
          "Italy",
          "Jamaica",
          "Japan",
          "Laos",
          "Mexico",
          "Nicaragua",
          "Outlying-US(Gua*",
          "Peru",
          "Philippines",
          "Poland",
          "Portugal",
          "Puerto-Rico",
          "Scotland",
          "South",
          "Taiwan",
          "Thailand",
          "Trinadad&Tobago",
          "United-States",
          "Vietnam",
          "Yugoslavia"
         ],
         "xaxis": "x9",
         "y": [
          0.0026143851047359216,
          -0.005906617406783481,
          0.0344400006163969,
          0.0322214946532397,
          0.0035571966120852908,
          0.024831010082816414,
          0.013489632976321761,
          0.04576029758120148,
          -0.022476707418732735,
          0.013175769991282614,
          -0.026584655047806383,
          0.03081967646065481,
          0.016113587499832348,
          0.0015877177735898421,
          0.02323341318509061,
          0.026014881121794065,
          0.009774226986864275,
          0.0437419184724257,
          0.009991036828736394,
          -0.0009721635640601387,
          -0.012005900671219677,
          0.005305758437905378,
          -0.033879621956477125,
          0.0239379453105997,
          0.047200353523089364,
          0.03513612629119886,
          0.028016026766184546,
          0.027780513935399927,
          -0.010097366875936972,
          0.0332844109174484,
          0.00027571225686766516,
          0.014090073067605069,
          0.018745212987918442,
          0.06094175019038259,
          0.014119371484810087,
          0.023718912351826424,
          0.021660041254919236,
          -0.0018420158193180602,
          0.03137284887061257,
          0.008250296855875472
         ],
         "yaxis": "y9"
        },
        {
         "legendgroup": "1",
         "legendgrouptitle": {
          "text": "1"
         },
         "name": "Country",
         "type": "scatter",
         "x": [
          "Cambodia",
          "Canada",
          "China",
          "Columbia",
          "Cuba",
          "Dominican-Repub*",
          "Ecuador",
          "El-Salvador",
          "England",
          "France",
          "Germany",
          "Greece",
          "Guatemala",
          "Haiti",
          "Honduras",
          "Hong",
          "Hungary",
          "India",
          "Iran",
          "Ireland",
          "Italy",
          "Jamaica",
          "Japan",
          "Laos",
          "Mexico",
          "Nicaragua",
          "Outlying-US(Gua*",
          "Peru",
          "Philippines",
          "Poland",
          "Portugal",
          "Puerto-Rico",
          "Scotland",
          "South",
          "Taiwan",
          "Thailand",
          "Trinadad&Tobago",
          "United-States",
          "Vietnam",
          "Yugoslavia"
         ],
         "xaxis": "x9",
         "y": [
          -0.0026143851047359286,
          0.005906617406783509,
          -0.034440000616396904,
          -0.03222149465323966,
          -0.00355719661208527,
          -0.024831010082816386,
          -0.013489632976321728,
          -0.045760297581201426,
          0.02247670741873276,
          -0.013175769991282588,
          0.026584655047806407,
          -0.030819676460654796,
          -0.016113587499832292,
          -0.0015877177735898196,
          -0.023233413185090555,
          -0.02601488112179406,
          -0.009774226986864244,
          -0.0437419184724257,
          -0.009991036828736363,
          0.0009721635640601665,
          0.012005900671219712,
          -0.005305758437905357,
          0.03387962195647713,
          -0.02393794531059969,
          -0.04720035352308932,
          -0.03513612629119881,
          -0.028016026766184525,
          -0.02778051393539987,
          0.010097366875936976,
          -0.033284410917448395,
          -0.00027571225686764955,
          -0.01409007306760504,
          -0.018745212987918404,
          -0.06094175019038259,
          -0.014119371484810097,
          -0.023718912351826417,
          -0.02166004125491923,
          0.0018420158193180602,
          -0.03137284887061256,
          -0.008250296855875451
         ],
         "yaxis": "y9"
        },
        {
         "legendgroup": "0",
         "line": {
          "color": "#808080"
         },
         "mode": "lines",
         "opacity": 0.1,
         "showlegend": false,
         "type": "scatter",
         "x": [
          "Cambodia",
          "Canada",
          "China",
          "Columbia",
          "Cuba",
          "Dominican-Repub*",
          "Ecuador",
          "El-Salvador",
          "England",
          "France",
          "Germany",
          "Greece",
          "Guatemala",
          "Haiti",
          "Honduras",
          "Hong",
          "Hungary",
          "India",
          "Iran",
          "Ireland",
          "Italy",
          "Jamaica",
          "Japan",
          "Laos",
          "Mexico",
          "Nicaragua",
          "Outlying-US(Gua*",
          "Peru",
          "Philippines",
          "Poland",
          "Portugal",
          "Puerto-Rico",
          "Scotland",
          "South",
          "Taiwan",
          "Thailand",
          "Trinadad&Tobago",
          "United-States",
          "Vietnam",
          "Yugoslavia"
         ],
         "xaxis": "x9",
         "y": [
          -0.04582313048228557,
          -0.005744118329945425,
          0.012663682704527598,
          0.014247967572492873,
          0.05753347513460755,
          0.06544105370536915,
          -0.010414547324915271,
          0.03651510134701766,
          -0.06626831892292263,
          0.013981773259746172,
          0.0032088890113285973,
          0.061107717341202655,
          0.02880522480380776,
          -0.03362025524591873,
          0.030805224803807763,
          -0.00966172228264206,
          -0.010414547324915271,
          -0.012755975415130516,
          -0.012220142277491824,
          0.015198863843661592,
          -0.002545695894534003,
          0.0006654590397955629,
          -0.10767455252693604,
          -0.009758071716724617,
          0.02430455881065191,
          0.030157076655659615,
          0.049713078087414625,
          0.02821263221121517,
          -0.04357728391423691,
          0.08928696264419714,
          0.01125211934175141,
          0.06139081901080656,
          -0.005684055399014135,
          -4.53527045078117e-05,
          -0.09443619360963443,
          -0.004472357431010349,
          0.028998792373128884,
          -0.0005784119251985853,
          0.007527642568989662,
          0.05216116543096316
         ],
         "yaxis": "y9"
        },
        {
         "legendgroup": "1",
         "line": {
          "color": "#808080"
         },
         "mode": "lines",
         "opacity": 0.1,
         "showlegend": false,
         "type": "scatter",
         "x": [
          "Cambodia",
          "Canada",
          "China",
          "Columbia",
          "Cuba",
          "Dominican-Repub*",
          "Ecuador",
          "El-Salvador",
          "England",
          "France",
          "Germany",
          "Greece",
          "Guatemala",
          "Haiti",
          "Honduras",
          "Hong",
          "Hungary",
          "India",
          "Iran",
          "Ireland",
          "Italy",
          "Jamaica",
          "Japan",
          "Laos",
          "Mexico",
          "Nicaragua",
          "Outlying-US(Gua*",
          "Peru",
          "Philippines",
          "Poland",
          "Portugal",
          "Puerto-Rico",
          "Scotland",
          "South",
          "Taiwan",
          "Thailand",
          "Trinadad&Tobago",
          "United-States",
          "Vietnam",
          "Yugoslavia"
         ],
         "xaxis": "x9",
         "y": [
          0.045823130482285375,
          0.00574411832994548,
          -0.01266368270452782,
          -0.014247967572492748,
          -0.05753347513460744,
          -0.0654410537053691,
          0.0104145473249153,
          -0.03651510134701749,
          0.0662683189229227,
          -0.013981773259746116,
          -0.0032088890113285418,
          -0.0611077173412026,
          -0.028805224803807622,
          0.03362025524591867,
          -0.030805224803807624,
          0.009661722282641894,
          0.0104145473249153,
          0.012755975415130322,
          0.012220142277491769,
          -0.01519886384366155,
          0.0025456958945340724,
          -0.0006654590397956184,
          0.10767455252693599,
          0.009758071716724478,
          -0.0243045588106518,
          -0.030157076655659462,
          -0.04971307808741465,
          -0.02821263221121502,
          0.04357728391423671,
          -0.08928696264419703,
          -0.011252119341751368,
          -0.06139081901080648,
          0.005684055399014246,
          4.5352704507617414e-05,
          0.09443619360963426,
          0.004472357431010196,
          -0.028998792373128954,
          0.0005784119251986131,
          -0.007527642568989801,
          -0.05216116543096311
         ],
         "yaxis": "y9"
        },
        {
         "legendgroup": "0",
         "line": {
          "color": "#808080"
         },
         "mode": "lines",
         "opacity": 0.1,
         "showlegend": false,
         "type": "scatter",
         "x": [
          "Cambodia",
          "Canada",
          "China",
          "Columbia",
          "Cuba",
          "Dominican-Repub*",
          "Ecuador",
          "El-Salvador",
          "England",
          "France",
          "Germany",
          "Greece",
          "Guatemala",
          "Haiti",
          "Honduras",
          "Hong",
          "Hungary",
          "India",
          "Iran",
          "Ireland",
          "Italy",
          "Jamaica",
          "Japan",
          "Laos",
          "Mexico",
          "Nicaragua",
          "Outlying-US(Gua*",
          "Peru",
          "Philippines",
          "Poland",
          "Portugal",
          "Puerto-Rico",
          "Scotland",
          "South",
          "Taiwan",
          "Thailand",
          "Trinadad&Tobago",
          "United-States",
          "Vietnam",
          "Yugoslavia"
         ],
         "xaxis": "x9",
         "y": [
          -0.09632180414391224,
          -0.0036759792879761527,
          -0.04549045692790983,
          0.11370258496084736,
          0.04757079268820687,
          0.10606051687714672,
          0.10266448513111497,
          0.1279256094558509,
          -0.08576733440729956,
          0.015304919672333842,
          0.0084578131278739,
          0.08847158633900053,
          0.10480825061261485,
          -0.08330243819240336,
          0.10480825061261488,
          -0.08409958192168995,
          0.09599781846444828,
          0.01077655381996298,
          -0.09948212160422962,
          0.09174555587305071,
          0.08047158633900052,
          -0.037190454937562956,
          -0.08769640731851536,
          -0.0775440263661344,
          0.11950914854804338,
          0.1144305354914787,
          0.022550125910160743,
          0.0981415839459482,
          -0.1181850987776672,
          0.05458055331288687,
          0.10799517296180276,
          0.07659916564603263,
          0.10166167547316692,
          -0.018853550175658235,
          -0.06680352481240633,
          -0.06754402636613442,
          -0.043857121604229624,
          -0.0028174861429133002,
          -0.0679321216042296,
          0.0877455558730507
         ],
         "yaxis": "y9"
        },
        {
         "legendgroup": "1",
         "line": {
          "color": "#808080"
         },
         "mode": "lines",
         "opacity": 0.1,
         "showlegend": false,
         "type": "scatter",
         "x": [
          "Cambodia",
          "Canada",
          "China",
          "Columbia",
          "Cuba",
          "Dominican-Repub*",
          "Ecuador",
          "El-Salvador",
          "England",
          "France",
          "Germany",
          "Greece",
          "Guatemala",
          "Haiti",
          "Honduras",
          "Hong",
          "Hungary",
          "India",
          "Iran",
          "Ireland",
          "Italy",
          "Jamaica",
          "Japan",
          "Laos",
          "Mexico",
          "Nicaragua",
          "Outlying-US(Gua*",
          "Peru",
          "Philippines",
          "Poland",
          "Portugal",
          "Puerto-Rico",
          "Scotland",
          "South",
          "Taiwan",
          "Thailand",
          "Trinadad&Tobago",
          "United-States",
          "Vietnam",
          "Yugoslavia"
         ],
         "xaxis": "x9",
         "y": [
          0.09632180414391218,
          0.0036759792879761666,
          0.045490456927909796,
          -0.11370258496084726,
          -0.047570792688206825,
          -0.10606051687714665,
          -0.10266448513111492,
          -0.1279256094558508,
          0.0857673344072996,
          -0.015304919672333828,
          -0.0084578131278739,
          -0.08847158633900051,
          -0.10480825061261476,
          0.08330243819240338,
          -0.10480825061261476,
          0.08409958192168998,
          -0.09599781846444824,
          -0.010776553819963036,
          0.09948212160422965,
          -0.0917455558730507,
          -0.0804715863390005,
          0.037190454937562976,
          0.08769640731851534,
          0.07754402636613442,
          -0.11950914854804326,
          -0.11443053549147858,
          -0.022550125910160743,
          -0.09814158394594807,
          0.1181850987776672,
          -0.05458055331288683,
          -0.10799517296180275,
          -0.07659916564603259,
          -0.10166167547316682,
          0.01885355017565825,
          0.06680352481240623,
          0.06754402636613442,
          0.043857121604229644,
          0.0028174861429132864,
          0.06793212160422966,
          -0.08774555587305069
         ],
         "yaxis": "y9"
        },
        {
         "legendgroup": "0",
         "line": {
          "color": "#808080"
         },
         "mode": "lines",
         "opacity": 0.1,
         "showlegend": false,
         "type": "scatter",
         "x": [
          "Cambodia",
          "Canada",
          "China",
          "Columbia",
          "Cuba",
          "Dominican-Repub*",
          "Ecuador",
          "El-Salvador",
          "England",
          "France",
          "Germany",
          "Greece",
          "Guatemala",
          "Haiti",
          "Honduras",
          "Hong",
          "Hungary",
          "India",
          "Iran",
          "Ireland",
          "Italy",
          "Jamaica",
          "Japan",
          "Laos",
          "Mexico",
          "Nicaragua",
          "Outlying-US(Gua*",
          "Peru",
          "Philippines",
          "Poland",
          "Portugal",
          "Puerto-Rico",
          "Scotland",
          "South",
          "Taiwan",
          "Thailand",
          "Trinadad&Tobago",
          "United-States",
          "Vietnam",
          "Yugoslavia"
         ],
         "xaxis": "x9",
         "y": [
          -0.05879182965460862,
          -0.007017158854566413,
          -0.05714182965460862,
          0.06925681912634665,
          0.03459881657397573,
          0.08502082698843205,
          0.014093775073741183,
          0.10662006499734009,
          -0.009862782491066258,
          0.012332948029374818,
          -0.008941284692277729,
          0.02918214990730908,
          0.08523895259122763,
          -0.12105963845096956,
          0.07832596557824065,
          -0.10309738521016419,
          0.07199686030062763,
          -0.03545849632127529,
          -0.13277984090059566,
          0.05814048324064236,
          -0.11157227066217161,
          -0.03155108808163784,
          -0.1179812147833221,
          -0.08976405187683087,
          0.10902343516644378,
          0.08388129831739694,
          -0.0073697727611038155,
          0.08054729653486581,
          -0.108678073040852,
          0.04605714990730905,
          0.048177833810548465,
          0.07695062555804269,
          0.045711323514150054,
          -0.036430718543497526,
          -0.1643931592074088,
          -0.09576405187683087,
          -0.0821804163818777,
          -0.001271556323525408,
          -0.0487640518768309,
          -0.06935951675935764
         ],
         "yaxis": "y9"
        },
        {
         "legendgroup": "1",
         "line": {
          "color": "#808080"
         },
         "mode": "lines",
         "opacity": 0.1,
         "showlegend": false,
         "type": "scatter",
         "x": [
          "Cambodia",
          "Canada",
          "China",
          "Columbia",
          "Cuba",
          "Dominican-Repub*",
          "Ecuador",
          "El-Salvador",
          "England",
          "France",
          "Germany",
          "Greece",
          "Guatemala",
          "Haiti",
          "Honduras",
          "Hong",
          "Hungary",
          "India",
          "Iran",
          "Ireland",
          "Italy",
          "Jamaica",
          "Japan",
          "Laos",
          "Mexico",
          "Nicaragua",
          "Outlying-US(Gua*",
          "Peru",
          "Philippines",
          "Poland",
          "Portugal",
          "Puerto-Rico",
          "Scotland",
          "South",
          "Taiwan",
          "Thailand",
          "Trinadad&Tobago",
          "United-States",
          "Vietnam",
          "Yugoslavia"
         ],
         "xaxis": "x9",
         "y": [
          0.058791829654608566,
          0.007017158854566413,
          0.05714182965460855,
          -0.06925681912634671,
          -0.034598816573975705,
          -0.08502082698843202,
          -0.014093775073741266,
          -0.10662006499734003,
          0.00986278249106623,
          -0.012332948029374818,
          0.008941284692277701,
          -0.029182149907309052,
          -0.08523895259122763,
          0.12105963845096952,
          -0.07832596557824062,
          0.10309738521016414,
          -0.07199686030062766,
          0.035458496321275235,
          0.13277984090059566,
          -0.05814048324064236,
          0.11157227066217165,
          0.03155108808163781,
          0.11798121478332205,
          0.0897640518768308,
          -0.10902343516644378,
          -0.08388129831739688,
          0.0073697727611038155,
          -0.0805472965348657,
          0.10867807304085197,
          -0.046057149907309025,
          -0.04817783381054855,
          -0.07695062555804266,
          -0.045711323514150054,
          0.03643071854349747,
          0.16439315920740868,
          0.09576405187683082,
          0.08218041638187767,
          0.0012715563235253802,
          0.04876405187683079,
          0.06935951675935764
         ],
         "yaxis": "y9"
        },
        {
         "legendgroup": "0",
         "line": {
          "color": "#808080"
         },
         "mode": "lines",
         "opacity": 0.1,
         "showlegend": false,
         "type": "scatter",
         "x": [
          "Cambodia",
          "Canada",
          "China",
          "Columbia",
          "Cuba",
          "Dominican-Repub*",
          "Ecuador",
          "El-Salvador",
          "England",
          "France",
          "Germany",
          "Greece",
          "Guatemala",
          "Haiti",
          "Honduras",
          "Hong",
          "Hungary",
          "India",
          "Iran",
          "Ireland",
          "Italy",
          "Jamaica",
          "Japan",
          "Laos",
          "Mexico",
          "Nicaragua",
          "Outlying-US(Gua*",
          "Peru",
          "Philippines",
          "Poland",
          "Portugal",
          "Puerto-Rico",
          "Scotland",
          "South",
          "Taiwan",
          "Thailand",
          "Trinadad&Tobago",
          "United-States",
          "Vietnam",
          "Yugoslavia"
         ],
         "xaxis": "x9",
         "y": [
          -0.10596143371642326,
          0.0005304516209943266,
          -0.06317661307265904,
          -0.11555342032042729,
          -0.01718761524121036,
          -0.12400988977689674,
          -0.11805342032042729,
          -0.05767309596796501,
          0.005397166353662303,
          0.01999016253656738,
          0.005062346543842508,
          -0.010909837463432603,
          -0.10222585534977498,
          -0.07175665306884356,
          -0.10678152149305722,
          -0.031533366193117626,
          -0.09908095759796452,
          -0.04314641124833957,
          -0.052887605449795934,
          -0.18202693747201346,
          -0.019709837463432606,
          -0.027470938783129284,
          -0.04657808164027215,
          -0.04041141497360543,
          -0.09674951202516525,
          -0.10678152149305722,
          0.0015766802644897882,
          -0.10678152149305722,
          -0.05214590818639871,
          -0.007764864624380863,
          -0.10938939915640616,
          -0.12491898068598764,
          -0.123877415953535,
          -0.04258134599109743,
          -0.09355776553364345,
          -0.03441141497360547,
          -0.03413760544979593,
          0.005522823437142554,
          -0.032411414973605425,
          -0.01527703252470658
         ],
         "yaxis": "y9"
        },
        {
         "legendgroup": "1",
         "line": {
          "color": "#808080"
         },
         "mode": "lines",
         "opacity": 0.1,
         "showlegend": false,
         "type": "scatter",
         "x": [
          "Cambodia",
          "Canada",
          "China",
          "Columbia",
          "Cuba",
          "Dominican-Repub*",
          "Ecuador",
          "El-Salvador",
          "England",
          "France",
          "Germany",
          "Greece",
          "Guatemala",
          "Haiti",
          "Honduras",
          "Hong",
          "Hungary",
          "India",
          "Iran",
          "Ireland",
          "Italy",
          "Jamaica",
          "Japan",
          "Laos",
          "Mexico",
          "Nicaragua",
          "Outlying-US(Gua*",
          "Peru",
          "Philippines",
          "Poland",
          "Portugal",
          "Puerto-Rico",
          "Scotland",
          "South",
          "Taiwan",
          "Thailand",
          "Trinadad&Tobago",
          "United-States",
          "Vietnam",
          "Yugoslavia"
         ],
         "xaxis": "x9",
         "y": [
          0.10596143371642318,
          -0.0005304516209942989,
          0.06317661307265898,
          0.1155534203204273,
          0.017187615241210402,
          0.12400988977689675,
          0.1180534203204273,
          0.05767309596796505,
          -0.005397166353662289,
          -0.019990162536567366,
          -0.00506234654384248,
          0.010909837463432631,
          0.10222585534977499,
          0.07175665306884352,
          0.10678152149305724,
          0.031533366193117605,
          0.09908095759796459,
          0.043146411248339525,
          0.0528876054497959,
          0.18202693747201343,
          0.019709837463432633,
          0.027470938783129215,
          0.046578081640272086,
          0.04041141497360541,
          0.09674951202516525,
          0.10678152149305724,
          -0.001576680264489802,
          0.10678152149305724,
          0.05214590818639868,
          0.007764864624380849,
          0.10938939915640614,
          0.12491898068598767,
          0.12387741595353502,
          0.04258134599109739,
          0.09355776553364338,
          0.03441141497360541,
          0.03413760544979588,
          -0.005522823437142554,
          0.03241141497360542,
          0.015277032524706649
         ],
         "yaxis": "y9"
        },
        {
         "legendgroup": "0",
         "line": {
          "color": "#808080"
         },
         "mode": "lines",
         "opacity": 0.1,
         "showlegend": false,
         "type": "scatter",
         "x": [
          "Cambodia",
          "Canada",
          "China",
          "Columbia",
          "Cuba",
          "Dominican-Repub*",
          "Ecuador",
          "El-Salvador",
          "England",
          "France",
          "Germany",
          "Greece",
          "Guatemala",
          "Haiti",
          "Honduras",
          "Hong",
          "Hungary",
          "India",
          "Iran",
          "Ireland",
          "Italy",
          "Jamaica",
          "Japan",
          "Laos",
          "Mexico",
          "Nicaragua",
          "Outlying-US(Gua*",
          "Peru",
          "Philippines",
          "Poland",
          "Portugal",
          "Puerto-Rico",
          "Scotland",
          "South",
          "Taiwan",
          "Thailand",
          "Trinadad&Tobago",
          "United-States",
          "Vietnam",
          "Yugoslavia"
         ],
         "xaxis": "x9",
         "y": [
          -0.05713596803196962,
          -0.003925268843773644,
          0.03271522244422083,
          0.011670417226577683,
          -0.023092098408586892,
          0.029287083893244387,
          0.01042041722657771,
          0.03676586891030548,
          -0.10512601923077614,
          0.015834541642395186,
          -0.1138081102203917,
          0.03523689776580399,
          -0.007436228328644448,
          -0.0876180015407888,
          -0.008007656900073004,
          0.009821703925702363,
          0.01042041722657771,
          0.06288784149183992,
          -0.11856956684056841,
          0.028893144499305003,
          -0.05517952046508791,
          -0.06538500834350988,
          -0.0976491955451971,
          0.0016365187405171719,
          0.019391746284206632,
          0.006227236578672177,
          0.03571533179254455,
          -0.008007656900073004,
          -0.04352118466718624,
          0.036291603883058486,
          0.01497681453297494,
          -0.04110685550069501,
          -0.0017579406135040526,
          -0.004020888666890252,
          0.05595649228549068,
          -0.022252370148371725,
          -0.039031833740335295,
          0.0011213483507460167,
          0.007441280645279061,
          -0.007773522167361657
         ],
         "yaxis": "y9"
        },
        {
         "legendgroup": "1",
         "line": {
          "color": "#808080"
         },
         "mode": "lines",
         "opacity": 0.1,
         "showlegend": false,
         "type": "scatter",
         "x": [
          "Cambodia",
          "Canada",
          "China",
          "Columbia",
          "Cuba",
          "Dominican-Repub*",
          "Ecuador",
          "El-Salvador",
          "England",
          "France",
          "Germany",
          "Greece",
          "Guatemala",
          "Haiti",
          "Honduras",
          "Hong",
          "Hungary",
          "India",
          "Iran",
          "Ireland",
          "Italy",
          "Jamaica",
          "Japan",
          "Laos",
          "Mexico",
          "Nicaragua",
          "Outlying-US(Gua*",
          "Peru",
          "Philippines",
          "Poland",
          "Portugal",
          "Puerto-Rico",
          "Scotland",
          "South",
          "Taiwan",
          "Thailand",
          "Trinadad&Tobago",
          "United-States",
          "Vietnam",
          "Yugoslavia"
         ],
         "xaxis": "x9",
         "y": [
          0.05713596803196956,
          0.003925268843773672,
          -0.032715222444220926,
          -0.011670417226577627,
          0.02309209840858699,
          -0.029287083893244303,
          -0.010420417226577633,
          -0.03676586891030542,
          0.10512601923077615,
          -0.01583454164239516,
          0.11380811022039174,
          -0.03523689776580392,
          0.0074362283286445174,
          0.08761800154078873,
          0.008007656900073087,
          -0.009821703925702398,
          -0.010420417226577633,
          -0.06288784149183996,
          0.11856956684056837,
          -0.028893144499304912,
          0.05517952046508805,
          0.06538500834350983,
          0.09764919554519703,
          -0.0016365187405172205,
          -0.01939174628420657,
          -0.006227236578672121,
          -0.035715331792544575,
          0.008007656900073087,
          0.04352118466718617,
          -0.036291603883058424,
          -0.01497681453297494,
          0.041106855500695094,
          0.0017579406135040943,
          0.004020888666890175,
          -0.05595649228549075,
          0.022252370148371656,
          0.03903183374033524,
          -0.0011213483507460098,
          -0.00744128064527913,
          0.007773522167361768
         ],
         "yaxis": "y9"
        },
        {
         "legendgroup": "0",
         "line": {
          "color": "#808080"
         },
         "mode": "lines",
         "opacity": 0.1,
         "showlegend": false,
         "type": "scatter",
         "x": [
          "Cambodia",
          "Canada",
          "China",
          "Columbia",
          "Cuba",
          "Dominican-Repub*",
          "Ecuador",
          "El-Salvador",
          "England",
          "France",
          "Germany",
          "Greece",
          "Guatemala",
          "Haiti",
          "Honduras",
          "Hong",
          "Hungary",
          "India",
          "Iran",
          "Ireland",
          "Italy",
          "Jamaica",
          "Japan",
          "Laos",
          "Mexico",
          "Nicaragua",
          "Outlying-US(Gua*",
          "Peru",
          "Philippines",
          "Poland",
          "Portugal",
          "Puerto-Rico",
          "Scotland",
          "South",
          "Taiwan",
          "Thailand",
          "Trinadad&Tobago",
          "United-States",
          "Vietnam",
          "Yugoslavia"
         ],
         "xaxis": "x9",
         "y": [
          0.028916849945674724,
          -0.00858354317563089,
          0.047005431934256714,
          0.03060754339114102,
          -0.029848209369013275,
          0.03439246402606171,
          0.020607543391141035,
          0.04822713252114695,
          -0.08586269346464974,
          0.01102626467929561,
          -0.031628495988579204,
          0.0313026409977979,
          -0.00859199539109574,
          0.04379391795921066,
          0.0034080046089042483,
          0.05547240550123029,
          0.013801987835585491,
          0.09633023068258484,
          -0.016966073802697216,
          0.023064541948139613,
          0.020981080018346036,
          0.049140089644668095,
          -0.020840777248604957,
          0.05379906490335882,
          0.05919810946086223,
          0.058608553818958485,
          0.09379391795921067,
          0.0034080046089042483,
          0.010495517737577825,
          0.0035350821760429902,
          0.027274210057807672,
          0.029231208614806294,
          0.00701090063448537,
          0.09952597692980171,
          -0.004843828490633963,
          0.031159222751395047,
          0.05123622267830107,
          -0.0022343354310987336,
          -0.029353532350645768,
          -0.03393212303379916
         ],
         "yaxis": "y9"
        },
        {
         "legendgroup": "1",
         "line": {
          "color": "#808080"
         },
         "mode": "lines",
         "opacity": 0.1,
         "showlegend": false,
         "type": "scatter",
         "x": [
          "Cambodia",
          "Canada",
          "China",
          "Columbia",
          "Cuba",
          "Dominican-Repub*",
          "Ecuador",
          "El-Salvador",
          "England",
          "France",
          "Germany",
          "Greece",
          "Guatemala",
          "Haiti",
          "Honduras",
          "Hong",
          "Hungary",
          "India",
          "Iran",
          "Ireland",
          "Italy",
          "Jamaica",
          "Japan",
          "Laos",
          "Mexico",
          "Nicaragua",
          "Outlying-US(Gua*",
          "Peru",
          "Philippines",
          "Poland",
          "Portugal",
          "Puerto-Rico",
          "Scotland",
          "South",
          "Taiwan",
          "Thailand",
          "Trinadad&Tobago",
          "United-States",
          "Vietnam",
          "Yugoslavia"
         ],
         "xaxis": "x9",
         "y": [
          -0.028916849945674755,
          0.008583543175630922,
          -0.047005431934256756,
          -0.030607543391141155,
          0.029848209369013334,
          -0.03439246402606179,
          -0.020607543391141153,
          -0.048227132521147055,
          0.0858626934646498,
          -0.011026264679295579,
          0.03162849598857927,
          -0.03130264099779789,
          0.008591995391095664,
          -0.043793917959210685,
          -0.003408004608904336,
          -0.05547240550123033,
          -0.013801987835585599,
          -0.09633023068258491,
          0.01696607380269717,
          -0.023064541948139707,
          -0.020981080018345998,
          -0.04914008964466808,
          0.020840777248604912,
          -0.053799064903358826,
          -0.05919810946086236,
          -0.05860855381895862,
          -0.09379391795921067,
          -0.003408004608904336,
          -0.010495517737577849,
          -0.003535082176042925,
          -0.02727421005780782,
          -0.029231208614806374,
          -0.00701090063448552,
          -0.09952597692980177,
          0.004843828490633931,
          -0.031159222751395065,
          -0.05123622267830112,
          0.002234335431098738,
          0.02935353235064571,
          0.03393212303379924
         ],
         "yaxis": "y9"
        },
        {
         "legendgroup": "0",
         "line": {
          "color": "#808080"
         },
         "mode": "lines",
         "opacity": 0.1,
         "showlegend": false,
         "type": "scatter",
         "x": [
          "Cambodia",
          "Canada",
          "China",
          "Columbia",
          "Cuba",
          "Dominican-Repub*",
          "Ecuador",
          "El-Salvador",
          "England",
          "France",
          "Germany",
          "Greece",
          "Guatemala",
          "Haiti",
          "Honduras",
          "Hong",
          "Hungary",
          "India",
          "Iran",
          "Ireland",
          "Italy",
          "Jamaica",
          "Japan",
          "Laos",
          "Mexico",
          "Nicaragua",
          "Outlying-US(Gua*",
          "Peru",
          "Philippines",
          "Poland",
          "Portugal",
          "Puerto-Rico",
          "Scotland",
          "South",
          "Taiwan",
          "Thailand",
          "Trinadad&Tobago",
          "United-States",
          "Vietnam",
          "Yugoslavia"
         ],
         "xaxis": "x9",
         "y": [
          -0.05722533351950112,
          -0.004047813171112375,
          0.04561126001119177,
          0.07917589272157516,
          0.034581835220164024,
          0.04679951925714146,
          0.08235154066140374,
          0.09465023018529391,
          -0.002586912541680006,
          0.016027734691063507,
          -0.08274879654479082,
          0.053685671199,
          0.0737508698735497,
          -0.0040747614725004586,
          0.06819520373026745,
          0.010033685239517632,
          0.03879951925714145,
          0.01762316477309656,
          -0.013132301155040141,
          0.042732018370347076,
          -0.09866997966357446,
          -0.0031223805201195157,
          -0.01328536237952994,
          0.008914637620470008,
          0.10379421157295957,
          0.07652853706360079,
          0.05521776082002182,
          0.07652853706360079,
          -0.0309258633817957,
          0.04024254950587831,
          0.06253883549645774,
          0.03654738009195882,
          0.06854903970910342,
          0.03513258633841875,
          0.002043603927779369,
          -0.014385362379529937,
          -0.005900158297897284,
          -0.0031601112409516594,
          0.0817193995252319,
          0.027075882839211644
         ],
         "yaxis": "y9"
        },
        {
         "legendgroup": "1",
         "line": {
          "color": "#808080"
         },
         "mode": "lines",
         "opacity": 0.1,
         "showlegend": false,
         "type": "scatter",
         "x": [
          "Cambodia",
          "Canada",
          "China",
          "Columbia",
          "Cuba",
          "Dominican-Repub*",
          "Ecuador",
          "El-Salvador",
          "England",
          "France",
          "Germany",
          "Greece",
          "Guatemala",
          "Haiti",
          "Honduras",
          "Hong",
          "Hungary",
          "India",
          "Iran",
          "Ireland",
          "Italy",
          "Jamaica",
          "Japan",
          "Laos",
          "Mexico",
          "Nicaragua",
          "Outlying-US(Gua*",
          "Peru",
          "Philippines",
          "Poland",
          "Portugal",
          "Puerto-Rico",
          "Scotland",
          "South",
          "Taiwan",
          "Thailand",
          "Trinadad&Tobago",
          "United-States",
          "Vietnam",
          "Yugoslavia"
         ],
         "xaxis": "x9",
         "y": [
          0.0572253335195011,
          0.004047813171112402,
          -0.045611260011191826,
          -0.07917589272157521,
          -0.03458183522016403,
          -0.04679951925714153,
          -0.08235154066140382,
          -0.09465023018529398,
          0.002586912541679999,
          -0.016027734691063476,
          0.08274879654479084,
          -0.053685671199,
          -0.07375086987354977,
          0.004074761472500481,
          -0.06819520373026752,
          -0.010033685239517656,
          -0.03879951925714153,
          -0.017623164773096583,
          0.01313230115504016,
          -0.042732018370347166,
          0.09866997966357449,
          0.003122380520119529,
          0.013285362379529944,
          -0.008914637620470043,
          -0.10379421157295962,
          -0.07652853706360085,
          -0.05521776082002181,
          -0.07652853706360085,
          0.030925863381795666,
          -0.0402425495058783,
          -0.06253883549645775,
          -0.03654738009195889,
          -0.06854903970910349,
          -0.03513258633841876,
          -0.002043603927779439,
          0.014385362379529937,
          0.0059001582978973075,
          0.0031601112409516633,
          -0.08171939952523197,
          -0.02707588283921163
         ],
         "yaxis": "y9"
        },
        {
         "legendgroup": "0",
         "line": {
          "color": "#808080"
         },
         "mode": "lines",
         "opacity": 0.1,
         "showlegend": false,
         "type": "scatter",
         "x": [
          "Cambodia",
          "Canada",
          "China",
          "Columbia",
          "Cuba",
          "Dominican-Repub*",
          "Ecuador",
          "El-Salvador",
          "England",
          "France",
          "Germany",
          "Greece",
          "Guatemala",
          "Haiti",
          "Honduras",
          "Hong",
          "Hungary",
          "India",
          "Iran",
          "Ireland",
          "Italy",
          "Jamaica",
          "Japan",
          "Laos",
          "Mexico",
          "Nicaragua",
          "Outlying-US(Gua*",
          "Peru",
          "Philippines",
          "Poland",
          "Portugal",
          "Puerto-Rico",
          "Scotland",
          "South",
          "Taiwan",
          "Thailand",
          "Trinadad&Tobago",
          "United-States",
          "Vietnam",
          "Yugoslavia"
         ],
         "xaxis": "x9",
         "y": [
          0.07406918090513981,
          -0.005465238771890434,
          0.06877156185752076,
          0.006043042063401989,
          0.01570117827890713,
          -0.0013937181779780962,
          -0.0014085616472104146,
          -0.010357523661514441,
          0.010907943196798227,
          0.01390655913428703,
          -0.029993786495807223,
          0.05965177802904719,
          -0.06715279852029257,
          0.07893947119261197,
          -0.0037084646635748286,
          0.0950691809051398,
          -0.012234194368454306,
          0.08968822852418745,
          0.09644262478505122,
          -0.074090670849701,
          0.059391660290440865,
          0.020158644876071323,
          -0.1266495737965091,
          0.09685779879131867,
          0.027105340492994602,
          -0.009325528155638332,
          0.07982836008150085,
          -0.053319575774685955,
          0.047258918114137925,
          0.07974109179812738,
          0.0074179862707044394,
          -0.00418095611863125,
          -0.00544652871740383,
          0.09840251423847313,
          0.009882672968631885,
          0.08930224323576313,
          0.11644262478505121,
          -0.002096278948947731,
          0.10919113212465201,
          0.07265662352259339
         ],
         "yaxis": "y9"
        },
        {
         "legendgroup": "1",
         "line": {
          "color": "#808080"
         },
         "mode": "lines",
         "opacity": 0.1,
         "showlegend": false,
         "type": "scatter",
         "x": [
          "Cambodia",
          "Canada",
          "China",
          "Columbia",
          "Cuba",
          "Dominican-Repub*",
          "Ecuador",
          "El-Salvador",
          "England",
          "France",
          "Germany",
          "Greece",
          "Guatemala",
          "Haiti",
          "Honduras",
          "Hong",
          "Hungary",
          "India",
          "Iran",
          "Ireland",
          "Italy",
          "Jamaica",
          "Japan",
          "Laos",
          "Mexico",
          "Nicaragua",
          "Outlying-US(Gua*",
          "Peru",
          "Philippines",
          "Poland",
          "Portugal",
          "Puerto-Rico",
          "Scotland",
          "South",
          "Taiwan",
          "Thailand",
          "Trinadad&Tobago",
          "United-States",
          "Vietnam",
          "Yugoslavia"
         ],
         "xaxis": "x9",
         "y": [
          -0.07406918090513992,
          0.0054652387718904585,
          -0.06877156185752087,
          -0.006043042063401871,
          -0.01570117827890707,
          0.001393718177978169,
          0.0014085616472105187,
          0.010357523661514555,
          -0.010907943196798189,
          -0.013906559134287007,
          0.02999378649580724,
          -0.05965177802904713,
          0.06715279852029274,
          -0.07893947119261194,
          0.0037084646635749917,
          -0.09506918090513992,
          0.012234194368454358,
          -0.08968822852418754,
          -0.09644262478505122,
          0.07409067084970104,
          -0.059391660290440754,
          -0.020158644876071313,
          0.126649573796509,
          -0.09685779879131878,
          -0.027105340492994495,
          0.009325528155638453,
          -0.07982836008150082,
          0.05331957577468607,
          -0.04725891811413803,
          -0.07974109179812733,
          -0.007417986270704349,
          0.00418095611863133,
          0.005446528717403937,
          -0.09840251423847325,
          -0.009882672968631986,
          -0.08930224323576322,
          -0.11644262478505123,
          0.0020962789489477295,
          -0.1091911321246521,
          -0.07265662352259335
         ],
         "yaxis": "y9"
        },
        {
         "legendgroup": "0",
         "line": {
          "color": "#808080"
         },
         "mode": "lines",
         "opacity": 0.1,
         "showlegend": false,
         "type": "scatter",
         "x": [
          "Cambodia",
          "Canada",
          "China",
          "Columbia",
          "Cuba",
          "Dominican-Repub*",
          "Ecuador",
          "El-Salvador",
          "England",
          "France",
          "Germany",
          "Greece",
          "Guatemala",
          "Haiti",
          "Honduras",
          "Hong",
          "Hungary",
          "India",
          "Iran",
          "Ireland",
          "Italy",
          "Jamaica",
          "Japan",
          "Laos",
          "Mexico",
          "Nicaragua",
          "Outlying-US(Gua*",
          "Peru",
          "Philippines",
          "Poland",
          "Portugal",
          "Puerto-Rico",
          "Scotland",
          "South",
          "Taiwan",
          "Thailand",
          "Trinadad&Tobago",
          "United-States",
          "Vietnam",
          "Yugoslavia"
         ],
         "xaxis": "x9",
         "y": [
          0.06418780753163436,
          -0.003330008755489451,
          0.04291995038877722,
          -0.007058135325308815,
          -0.07502644571708864,
          -0.008260516277689846,
          -0.0011890877062612076,
          -0.0024171264933249142,
          -0.05026630888856694,
          0.017766744966131995,
          -0.023313501543919896,
          0.032465157664544705,
          -0.06966716056419239,
          0.006684800122127348,
          -0.06149890659593843,
          0.08363225197607876,
          -0.02768908770626126,
          0.037044950388777226,
          0.06813287793864639,
          -0.02816166521292969,
          0.035615922250835624,
          0.04656776179444177,
          -0.0367191494690533,
          0.07861637896020576,
          0.019968765861805633,
          -0.007120389279921063,
          0.06194557638290357,
          -0.015233033580065308,
          0.04450923610306292,
          0.017195477644213156,
          -0.02739923263379751,
          -0.006892725818990281,
          -0.01725690823935666,
          0.07401320435703118,
          0.05272301161326706,
          0.08261637896020577,
          0.03302176682753524,
          -0.0011789667690709354,
          0.12061637896020573,
          0.01183833478707029
         ],
         "yaxis": "y9"
        },
        {
         "legendgroup": "1",
         "line": {
          "color": "#808080"
         },
         "mode": "lines",
         "opacity": 0.1,
         "showlegend": false,
         "type": "scatter",
         "x": [
          "Cambodia",
          "Canada",
          "China",
          "Columbia",
          "Cuba",
          "Dominican-Repub*",
          "Ecuador",
          "El-Salvador",
          "England",
          "France",
          "Germany",
          "Greece",
          "Guatemala",
          "Haiti",
          "Honduras",
          "Hong",
          "Hungary",
          "India",
          "Iran",
          "Ireland",
          "Italy",
          "Jamaica",
          "Japan",
          "Laos",
          "Mexico",
          "Nicaragua",
          "Outlying-US(Gua*",
          "Peru",
          "Philippines",
          "Poland",
          "Portugal",
          "Puerto-Rico",
          "Scotland",
          "South",
          "Taiwan",
          "Thailand",
          "Trinadad&Tobago",
          "United-States",
          "Vietnam",
          "Yugoslavia"
         ],
         "xaxis": "x9",
         "y": [
          -0.06418780753163436,
          0.003330008755489479,
          -0.0429199503887772,
          0.007058135325308967,
          0.07502644571708872,
          0.008260516277689915,
          0.0011890877062613464,
          0.002417126493325053,
          0.05026630888856698,
          -0.017766744966131967,
          0.02331350154391991,
          -0.03246515766454466,
          0.06966716056419248,
          -0.006684800122127306,
          0.06149890659593851,
          -0.08363225197607879,
          0.027689087706261342,
          -0.03704495038877721,
          -0.06813287793864632,
          0.02816166521292976,
          -0.035615922250835555,
          -0.04656776179444174,
          0.03671914946905336,
          -0.07861637896020576,
          -0.01996876586180548,
          0.007120389279921174,
          -0.06194557638290356,
          0.015233033580065475,
          -0.0445092361030629,
          -0.017195477644213086,
          0.02739923263379758,
          0.006892725818990364,
          0.0172569082393568,
          -0.07401320435703115,
          -0.05272301161326701,
          -0.08261637896020577,
          -0.03302176682753522,
          0.0011789667690709354,
          -0.12061637896020577,
          -0.011838334787070234
         ],
         "yaxis": "y9"
        },
        {
         "legendgroup": "0",
         "line": {
          "color": "#808080"
         },
         "mode": "lines",
         "opacity": 0.1,
         "showlegend": false,
         "type": "scatter",
         "x": [
          "Cambodia",
          "Canada",
          "China",
          "Columbia",
          "Cuba",
          "Dominican-Repub*",
          "Ecuador",
          "El-Salvador",
          "England",
          "France",
          "Germany",
          "Greece",
          "Guatemala",
          "Haiti",
          "Honduras",
          "Hong",
          "Hungary",
          "India",
          "Iran",
          "Ireland",
          "Italy",
          "Jamaica",
          "Japan",
          "Laos",
          "Mexico",
          "Nicaragua",
          "Outlying-US(Gua*",
          "Peru",
          "Philippines",
          "Poland",
          "Portugal",
          "Puerto-Rico",
          "Scotland",
          "South",
          "Taiwan",
          "Thailand",
          "Trinadad&Tobago",
          "United-States",
          "Vietnam",
          "Yugoslavia"
         ],
         "xaxis": "x9",
         "y": [
          0.0401893780909194,
          0.00011605015937682026,
          0.04722509237663369,
          -0.0489636243477516,
          0.027142378484390505,
          -0.10920614527554166,
          -0.13510217702157346,
          -0.003461447484721717,
          -0.00740940499432283,
          0.018600986132880436,
          -0.06081802172022317,
          0.07052693021433691,
          -0.07365103728404859,
          0.007289221323372161,
          -0.053317703950715264,
          0.03282826697980826,
          -0.13176884368824013,
          0.06580842570996703,
          0.054705241995206766,
          -0.18094371168640355,
          -0.019914902934819626,
          0.007289221323372164,
          -0.046737296722407964,
          0.021059688286698682,
          -0.02915454442061673,
          -0.042230958620118234,
          0.012209856244007115,
          -0.055910296543307855,
          -0.028310754184212892,
          0.08852625584606384,
          -0.09477148919088561,
          -0.11820683398077585,
          -0.07604137463101883,
          0.04616160031314158,
          0.028058425709966982,
          -0.001580153865265093,
          -0.003821889787738956,
          0.0018806380499601788,
          -0.062092908967305904,
          0.0690252637825718
         ],
         "yaxis": "y9"
        },
        {
         "legendgroup": "1",
         "line": {
          "color": "#808080"
         },
         "mode": "lines",
         "opacity": 0.1,
         "showlegend": false,
         "type": "scatter",
         "x": [
          "Cambodia",
          "Canada",
          "China",
          "Columbia",
          "Cuba",
          "Dominican-Repub*",
          "Ecuador",
          "El-Salvador",
          "England",
          "France",
          "Germany",
          "Greece",
          "Guatemala",
          "Haiti",
          "Honduras",
          "Hong",
          "Hungary",
          "India",
          "Iran",
          "Ireland",
          "Italy",
          "Jamaica",
          "Japan",
          "Laos",
          "Mexico",
          "Nicaragua",
          "Outlying-US(Gua*",
          "Peru",
          "Philippines",
          "Poland",
          "Portugal",
          "Puerto-Rico",
          "Scotland",
          "South",
          "Taiwan",
          "Thailand",
          "Trinadad&Tobago",
          "United-States",
          "Vietnam",
          "Yugoslavia"
         ],
         "xaxis": "x9",
         "y": [
          -0.040189378090919506,
          -0.00011605015937680985,
          -0.047225092376633776,
          0.04896362434775171,
          -0.027142378484390432,
          0.10920614527554182,
          0.13510217702157354,
          0.0034614474847218177,
          0.007409404994322778,
          -0.018600986132880422,
          0.06081802172022314,
          -0.07052693021433692,
          0.0736510372840487,
          -0.007289221323372234,
          0.053317703950715396,
          -0.032828266979808396,
          0.1317688436882402,
          -0.06580842570996712,
          -0.054705241995206884,
          0.18094371168640372,
          0.01991490293481967,
          -0.00728922132337223,
          0.04673729672240779,
          -0.02105968828669881,
          0.02915454442061683,
          0.04223095862011834,
          -0.012209856244007153,
          0.05591029654330799,
          0.02831075418421277,
          -0.08852625584606383,
          0.09477148919088571,
          0.11820683398077597,
          0.07604137463101893,
          -0.04616160031314174,
          -0.02805842570996713,
          0.0015801538652649438,
          0.00382188978773889,
          -0.0018806380499601962,
          0.06209290896730572,
          -0.06902526378257176
         ],
         "yaxis": "y9"
        },
        {
         "legendgroup": "0",
         "legendgrouptitle": {
          "text": "0"
         },
         "name": "Capital Ga*",
         "type": "scatter",
         "x": [
          0,
          99999
         ],
         "xaxis": "x10",
         "y": [
          0.2751189613140763,
          -0.2751189613401379
         ],
         "yaxis": "y10"
        },
        {
         "legendgroup": "1",
         "legendgrouptitle": {
          "text": "1"
         },
         "name": "Capital Ga*",
         "type": "scatter",
         "x": [
          0,
          99999
         ],
         "xaxis": "x10",
         "y": [
          -0.27511896131407637,
          0.27511896134013797
         ],
         "yaxis": "y10"
        },
        {
         "legendgroup": "0",
         "line": {
          "color": "#808080"
         },
         "mode": "lines",
         "opacity": 0.1,
         "showlegend": false,
         "type": "scatter",
         "x": [
          0,
          99999
         ],
         "xaxis": "x10",
         "y": [
          0.2754807993165581,
          -0.27548079957755367
         ],
         "yaxis": "y10"
        },
        {
         "legendgroup": "1",
         "line": {
          "color": "#808080"
         },
         "mode": "lines",
         "opacity": 0.1,
         "showlegend": false,
         "type": "scatter",
         "x": [
          0,
          99999
         ],
         "xaxis": "x10",
         "y": [
          -0.27548079931655817,
          0.2754807995775537
         ],
         "yaxis": "y10"
        },
        {
         "legendgroup": "0",
         "line": {
          "color": "#808080"
         },
         "mode": "lines",
         "opacity": 0.1,
         "showlegend": false,
         "type": "scatter",
         "x": [
          0,
          99999
         ],
         "xaxis": "x10",
         "y": [
          0.27309810778043564,
          -0.2730981080391738
         ],
         "yaxis": "y10"
        },
        {
         "legendgroup": "1",
         "line": {
          "color": "#808080"
         },
         "mode": "lines",
         "opacity": 0.1,
         "showlegend": false,
         "type": "scatter",
         "x": [
          0,
          99999
         ],
         "xaxis": "x10",
         "y": [
          -0.2730981077804357,
          0.27309810803917384
         ],
         "yaxis": "y10"
        },
        {
         "legendgroup": "0",
         "line": {
          "color": "#808080"
         },
         "mode": "lines",
         "opacity": 0.1,
         "showlegend": false,
         "type": "scatter",
         "x": [
          0,
          99999
         ],
         "xaxis": "x10",
         "y": [
          0.2733120208797537,
          -0.27331202113869446
         ],
         "yaxis": "y10"
        },
        {
         "legendgroup": "1",
         "line": {
          "color": "#808080"
         },
         "mode": "lines",
         "opacity": 0.1,
         "showlegend": false,
         "type": "scatter",
         "x": [
          0,
          99999
         ],
         "xaxis": "x10",
         "y": [
          -0.27331202087975376,
          0.2733120211386945
         ],
         "yaxis": "y10"
        },
        {
         "legendgroup": "0",
         "line": {
          "color": "#808080"
         },
         "mode": "lines",
         "opacity": 0.1,
         "showlegend": false,
         "type": "scatter",
         "x": [
          0,
          99999
         ],
         "xaxis": "x10",
         "y": [
          0.2734080933524719,
          -0.2734080936115037
         ],
         "yaxis": "y10"
        },
        {
         "legendgroup": "1",
         "line": {
          "color": "#808080"
         },
         "mode": "lines",
         "opacity": 0.1,
         "showlegend": false,
         "type": "scatter",
         "x": [
          0,
          99999
         ],
         "xaxis": "x10",
         "y": [
          -0.2734080933524719,
          0.2734080936115037
         ],
         "yaxis": "y10"
        },
        {
         "legendgroup": "0",
         "line": {
          "color": "#808080"
         },
         "mode": "lines",
         "opacity": 0.1,
         "showlegend": false,
         "type": "scatter",
         "x": [
          0,
          99999
         ],
         "xaxis": "x10",
         "y": [
          0.27382260435989386,
          -0.27382260461931845
         ],
         "yaxis": "y10"
        },
        {
         "legendgroup": "1",
         "line": {
          "color": "#808080"
         },
         "mode": "lines",
         "opacity": 0.1,
         "showlegend": false,
         "type": "scatter",
         "x": [
          0,
          99999
         ],
         "xaxis": "x10",
         "y": [
          -0.2738226043598939,
          0.2738226046193185
         ],
         "yaxis": "y10"
        },
        {
         "legendgroup": "0",
         "line": {
          "color": "#808080"
         },
         "mode": "lines",
         "opacity": 0.1,
         "showlegend": false,
         "type": "scatter",
         "x": [
          0,
          99999
         ],
         "xaxis": "x10",
         "y": [
          0.2727765381033709,
          -0.2727765383618044
         ],
         "yaxis": "y10"
        },
        {
         "legendgroup": "1",
         "line": {
          "color": "#808080"
         },
         "mode": "lines",
         "opacity": 0.1,
         "showlegend": false,
         "type": "scatter",
         "x": [
          0,
          99999
         ],
         "xaxis": "x10",
         "y": [
          -0.2727765381033709,
          0.2727765383618044
         ],
         "yaxis": "y10"
        },
        {
         "legendgroup": "0",
         "line": {
          "color": "#808080"
         },
         "mode": "lines",
         "opacity": 0.1,
         "showlegend": false,
         "type": "scatter",
         "x": [
          0,
          99999
         ],
         "xaxis": "x10",
         "y": [
          0.27295797468810046,
          -0.2729579749467058
         ],
         "yaxis": "y10"
        },
        {
         "legendgroup": "1",
         "line": {
          "color": "#808080"
         },
         "mode": "lines",
         "opacity": 0.1,
         "showlegend": false,
         "type": "scatter",
         "x": [
          0,
          99999
         ],
         "xaxis": "x10",
         "y": [
          -0.27295797468810046,
          0.2729579749467058
         ],
         "yaxis": "y10"
        },
        {
         "legendgroup": "0",
         "line": {
          "color": "#808080"
         },
         "mode": "lines",
         "opacity": 0.1,
         "showlegend": false,
         "type": "scatter",
         "x": [
          0,
          99999
         ],
         "xaxis": "x10",
         "y": [
          0.2774771633724166,
          -0.27747716363530356
         ],
         "yaxis": "y10"
        },
        {
         "legendgroup": "1",
         "line": {
          "color": "#808080"
         },
         "mode": "lines",
         "opacity": 0.1,
         "showlegend": false,
         "type": "scatter",
         "x": [
          0,
          99999
         ],
         "xaxis": "x10",
         "y": [
          -0.2774771633724166,
          0.27747716363530356
         ],
         "yaxis": "y10"
        },
        {
         "legendgroup": "0",
         "line": {
          "color": "#808080"
         },
         "mode": "lines",
         "opacity": 0.1,
         "showlegend": false,
         "type": "scatter",
         "x": [
          0,
          99999
         ],
         "xaxis": "x10",
         "y": [
          0.276341797265877,
          -0.2763417975276882
         ],
         "yaxis": "y10"
        },
        {
         "legendgroup": "1",
         "line": {
          "color": "#808080"
         },
         "mode": "lines",
         "opacity": 0.1,
         "showlegend": false,
         "type": "scatter",
         "x": [
          0,
          99999
         ],
         "xaxis": "x10",
         "y": [
          -0.276341797265877,
          0.2763417975276882
         ],
         "yaxis": "y10"
        },
        {
         "legendgroup": "0",
         "line": {
          "color": "#808080"
         },
         "mode": "lines",
         "opacity": 0.1,
         "showlegend": false,
         "type": "scatter",
         "x": [
          0,
          99999
         ],
         "xaxis": "x10",
         "y": [
          0.27174669810549923,
          -0.27174669836295695
         ],
         "yaxis": "y10"
        },
        {
         "legendgroup": "1",
         "line": {
          "color": "#808080"
         },
         "mode": "lines",
         "opacity": 0.1,
         "showlegend": false,
         "type": "scatter",
         "x": [
          0,
          99999
         ],
         "xaxis": "x10",
         "y": [
          -0.27174669810549923,
          0.27174669836295695
         ],
         "yaxis": "y10"
        },
        {
         "legendgroup": "0",
         "legendgrouptitle": {
          "text": "0"
         },
         "name": "Capital Lo*",
         "type": "scatter",
         "x": [
          0,
          3900
         ],
         "xaxis": "x11",
         "y": [
          0.10347249580188336,
          -0.10347249581168513
         ],
         "yaxis": "y11"
        },
        {
         "legendgroup": "1",
         "legendgrouptitle": {
          "text": "1"
         },
         "name": "Capital Lo*",
         "type": "scatter",
         "x": [
          0,
          3900
         ],
         "xaxis": "x11",
         "y": [
          -0.10347249580188338,
          0.10347249581168518
         ],
         "yaxis": "y11"
        },
        {
         "legendgroup": "0",
         "line": {
          "color": "#808080"
         },
         "mode": "lines",
         "opacity": 0.1,
         "showlegend": false,
         "type": "scatter",
         "x": [
          0,
          3900
         ],
         "xaxis": "x11",
         "y": [
          0.101848420650588,
          -0.10184842074708103
         ],
         "yaxis": "y11"
        },
        {
         "legendgroup": "1",
         "line": {
          "color": "#808080"
         },
         "mode": "lines",
         "opacity": 0.1,
         "showlegend": false,
         "type": "scatter",
         "x": [
          0,
          3900
         ],
         "xaxis": "x11",
         "y": [
          -0.10184842065058802,
          0.10184842074708106
         ],
         "yaxis": "y11"
        },
        {
         "legendgroup": "0",
         "line": {
          "color": "#808080"
         },
         "mode": "lines",
         "opacity": 0.1,
         "showlegend": false,
         "type": "scatter",
         "x": [
          0,
          3900
         ],
         "xaxis": "x11",
         "y": [
          0.10312233144207134,
          -0.1031223315397713
         ],
         "yaxis": "y11"
        },
        {
         "legendgroup": "1",
         "line": {
          "color": "#808080"
         },
         "mode": "lines",
         "opacity": 0.1,
         "showlegend": false,
         "type": "scatter",
         "x": [
          0,
          3900
         ],
         "xaxis": "x11",
         "y": [
          -0.10312233144207136,
          0.10312233153977132
         ],
         "yaxis": "y11"
        },
        {
         "legendgroup": "0",
         "line": {
          "color": "#808080"
         },
         "mode": "lines",
         "opacity": 0.1,
         "showlegend": false,
         "type": "scatter",
         "x": [
          0,
          3900
         ],
         "xaxis": "x11",
         "y": [
          0.10169446067888514,
          -0.10169446077523232
         ],
         "yaxis": "y11"
        },
        {
         "legendgroup": "1",
         "line": {
          "color": "#808080"
         },
         "mode": "lines",
         "opacity": 0.1,
         "showlegend": false,
         "type": "scatter",
         "x": [
          0,
          3900
         ],
         "xaxis": "x11",
         "y": [
          -0.10169446067888517,
          0.10169446077523235
         ],
         "yaxis": "y11"
        },
        {
         "legendgroup": "0",
         "line": {
          "color": "#808080"
         },
         "mode": "lines",
         "opacity": 0.1,
         "showlegend": false,
         "type": "scatter",
         "x": [
          0,
          3900
         ],
         "xaxis": "x11",
         "y": [
          0.1018229009382373,
          -0.10182290103470616
         ],
         "yaxis": "y11"
        },
        {
         "legendgroup": "1",
         "line": {
          "color": "#808080"
         },
         "mode": "lines",
         "opacity": 0.1,
         "showlegend": false,
         "type": "scatter",
         "x": [
          0,
          3900
         ],
         "xaxis": "x11",
         "y": [
          -0.10182290093823733,
          0.10182290103470619
         ],
         "yaxis": "y11"
        },
        {
         "legendgroup": "0",
         "line": {
          "color": "#808080"
         },
         "mode": "lines",
         "opacity": 0.1,
         "showlegend": false,
         "type": "scatter",
         "x": [
          0,
          3900
         ],
         "xaxis": "x11",
         "y": [
          0.10281932795601771,
          -0.10281932805343062
         ],
         "yaxis": "y11"
        },
        {
         "legendgroup": "1",
         "line": {
          "color": "#808080"
         },
         "mode": "lines",
         "opacity": 0.1,
         "showlegend": false,
         "type": "scatter",
         "x": [
          0,
          3900
         ],
         "xaxis": "x11",
         "y": [
          -0.10281932795601774,
          0.10281932805343065
         ],
         "yaxis": "y11"
        },
        {
         "legendgroup": "0",
         "line": {
          "color": "#808080"
         },
         "mode": "lines",
         "opacity": 0.1,
         "showlegend": false,
         "type": "scatter",
         "x": [
          0,
          3900
         ],
         "xaxis": "x11",
         "y": [
          0.10166365755312147,
          -0.10166365764943948
         ],
         "yaxis": "y11"
        },
        {
         "legendgroup": "1",
         "line": {
          "color": "#808080"
         },
         "mode": "lines",
         "opacity": 0.1,
         "showlegend": false,
         "type": "scatter",
         "x": [
          0,
          3900
         ],
         "xaxis": "x11",
         "y": [
          -0.10166365755312148,
          0.10166365764943949
         ],
         "yaxis": "y11"
        },
        {
         "legendgroup": "0",
         "line": {
          "color": "#808080"
         },
         "mode": "lines",
         "opacity": 0.1,
         "showlegend": false,
         "type": "scatter",
         "x": [
          0,
          3900
         ],
         "xaxis": "x11",
         "y": [
          0.10339399709305198,
          -0.10339399719100932
         ],
         "yaxis": "y11"
        },
        {
         "legendgroup": "1",
         "line": {
          "color": "#808080"
         },
         "mode": "lines",
         "opacity": 0.1,
         "showlegend": false,
         "type": "scatter",
         "x": [
          0,
          3900
         ],
         "xaxis": "x11",
         "y": [
          -0.10339399709305201,
          0.10339399719100935
         ],
         "yaxis": "y11"
        },
        {
         "legendgroup": "0",
         "line": {
          "color": "#808080"
         },
         "mode": "lines",
         "opacity": 0.1,
         "showlegend": false,
         "type": "scatter",
         "x": [
          0,
          3900
         ],
         "xaxis": "x11",
         "y": [
          0.10522912800217515,
          -0.10522912810187116
         ],
         "yaxis": "y11"
        },
        {
         "legendgroup": "1",
         "line": {
          "color": "#808080"
         },
         "mode": "lines",
         "opacity": 0.1,
         "showlegend": false,
         "type": "scatter",
         "x": [
          0,
          3900
         ],
         "xaxis": "x11",
         "y": [
          -0.10522912800217517,
          0.10522912810187117
         ],
         "yaxis": "y11"
        },
        {
         "legendgroup": "0",
         "line": {
          "color": "#808080"
         },
         "mode": "lines",
         "opacity": 0.1,
         "showlegend": false,
         "type": "scatter",
         "x": [
          0,
          3900
         ],
         "xaxis": "x11",
         "y": [
          0.10344215595646147,
          -0.10344215605446444
         ],
         "yaxis": "y11"
        },
        {
         "legendgroup": "1",
         "line": {
          "color": "#808080"
         },
         "mode": "lines",
         "opacity": 0.1,
         "showlegend": false,
         "type": "scatter",
         "x": [
          0,
          3900
         ],
         "xaxis": "x11",
         "y": [
          -0.1034421559564615,
          0.10344215605446447
         ],
         "yaxis": "y11"
        },
        {
         "legendgroup": "0",
         "line": {
          "color": "#808080"
         },
         "mode": "lines",
         "opacity": 0.1,
         "showlegend": false,
         "type": "scatter",
         "x": [
          0,
          3900
         ],
         "xaxis": "x11",
         "y": [
          0.10196510472468946,
          -0.10196510482129305
         ],
         "yaxis": "y11"
        },
        {
         "legendgroup": "1",
         "line": {
          "color": "#808080"
         },
         "mode": "lines",
         "opacity": 0.1,
         "showlegend": false,
         "type": "scatter",
         "x": [
          0,
          3900
         ],
         "xaxis": "x11",
         "y": [
          -0.10196510472468949,
          0.10196510482129308
         ],
         "yaxis": "y11"
        }
       ],
       "layout": {
        "annotations": [
         {
          "font": {
           "size": 16
          },
          "showarrow": false,
          "text": "Age",
          "x": 0.225,
          "xanchor": "center",
          "xref": "paper",
          "y": 0.9999999999999999,
          "yanchor": "bottom",
          "yref": "paper"
         },
         {
          "font": {
           "size": 16
          },
          "showarrow": false,
          "text": "Workclass",
          "x": 0.775,
          "xanchor": "center",
          "xref": "paper",
          "y": 0.9999999999999999,
          "yanchor": "bottom",
          "yref": "paper"
         },
         {
          "font": {
           "size": 16
          },
          "showarrow": false,
          "text": "Education",
          "x": 0.225,
          "xanchor": "center",
          "xref": "paper",
          "y": 0.8194444444444444,
          "yanchor": "bottom",
          "yref": "paper"
         },
         {
          "font": {
           "size": 16
          },
          "showarrow": false,
          "text": "Occupation",
          "x": 0.775,
          "xanchor": "center",
          "xref": "paper",
          "y": 0.8194444444444444,
          "yanchor": "bottom",
          "yref": "paper"
         },
         {
          "font": {
           "size": 16
          },
          "showarrow": false,
          "text": "Relationship",
          "x": 0.225,
          "xanchor": "center",
          "xref": "paper",
          "y": 0.638888888888889,
          "yanchor": "bottom",
          "yref": "paper"
         },
         {
          "font": {
           "size": 16
          },
          "showarrow": false,
          "text": "Race",
          "x": 0.775,
          "xanchor": "center",
          "xref": "paper",
          "y": 0.638888888888889,
          "yanchor": "bottom",
          "yref": "paper"
         },
         {
          "font": {
           "size": 16
          },
          "showarrow": false,
          "text": "Sex",
          "x": 0.225,
          "xanchor": "center",
          "xref": "paper",
          "y": 0.4583333333333333,
          "yanchor": "bottom",
          "yref": "paper"
         },
         {
          "font": {
           "size": 16
          },
          "showarrow": false,
          "text": "Hours per week",
          "x": 0.775,
          "xanchor": "center",
          "xref": "paper",
          "y": 0.4583333333333333,
          "yanchor": "bottom",
          "yref": "paper"
         },
         {
          "font": {
           "size": 16
          },
          "showarrow": false,
          "text": "Country",
          "x": 0.225,
          "xanchor": "center",
          "xref": "paper",
          "y": 0.2777777777777778,
          "yanchor": "bottom",
          "yref": "paper"
         },
         {
          "font": {
           "size": 16
          },
          "showarrow": false,
          "text": "Capital Gain",
          "x": 0.775,
          "xanchor": "center",
          "xref": "paper",
          "y": 0.2777777777777778,
          "yanchor": "bottom",
          "yref": "paper"
         },
         {
          "font": {
           "size": 16
          },
          "showarrow": false,
          "text": "Capital Loss",
          "x": 0.225,
          "xanchor": "center",
          "xref": "paper",
          "y": 0.09722222222222222,
          "yanchor": "bottom",
          "yref": "paper"
         }
        ],
        "autosize": true,
        "template": {
         "data": {
          "bar": [
           {
            "error_x": {
             "color": "#2a3f5f"
            },
            "error_y": {
             "color": "#2a3f5f"
            },
            "marker": {
             "line": {
              "color": "#E5ECF6",
              "width": 0.5
             },
             "pattern": {
              "fillmode": "overlay",
              "size": 10,
              "solidity": 0.2
             }
            },
            "type": "bar"
           }
          ],
          "barpolar": [
           {
            "marker": {
             "line": {
              "color": "#E5ECF6",
              "width": 0.5
             },
             "pattern": {
              "fillmode": "overlay",
              "size": 10,
              "solidity": 0.2
             }
            },
            "type": "barpolar"
           }
          ],
          "carpet": [
           {
            "aaxis": {
             "endlinecolor": "#2a3f5f",
             "gridcolor": "white",
             "linecolor": "white",
             "minorgridcolor": "white",
             "startlinecolor": "#2a3f5f"
            },
            "baxis": {
             "endlinecolor": "#2a3f5f",
             "gridcolor": "white",
             "linecolor": "white",
             "minorgridcolor": "white",
             "startlinecolor": "#2a3f5f"
            },
            "type": "carpet"
           }
          ],
          "choropleth": [
           {
            "colorbar": {
             "outlinewidth": 0,
             "ticks": ""
            },
            "type": "choropleth"
           }
          ],
          "contour": [
           {
            "colorbar": {
             "outlinewidth": 0,
             "ticks": ""
            },
            "colorscale": [
             [
              0,
              "#0d0887"
             ],
             [
              0.1111111111111111,
              "#46039f"
             ],
             [
              0.2222222222222222,
              "#7201a8"
             ],
             [
              0.3333333333333333,
              "#9c179e"
             ],
             [
              0.4444444444444444,
              "#bd3786"
             ],
             [
              0.5555555555555556,
              "#d8576b"
             ],
             [
              0.6666666666666666,
              "#ed7953"
             ],
             [
              0.7777777777777778,
              "#fb9f3a"
             ],
             [
              0.8888888888888888,
              "#fdca26"
             ],
             [
              1,
              "#f0f921"
             ]
            ],
            "type": "contour"
           }
          ],
          "contourcarpet": [
           {
            "colorbar": {
             "outlinewidth": 0,
             "ticks": ""
            },
            "type": "contourcarpet"
           }
          ],
          "heatmap": [
           {
            "colorbar": {
             "outlinewidth": 0,
             "ticks": ""
            },
            "colorscale": [
             [
              0,
              "#0d0887"
             ],
             [
              0.1111111111111111,
              "#46039f"
             ],
             [
              0.2222222222222222,
              "#7201a8"
             ],
             [
              0.3333333333333333,
              "#9c179e"
             ],
             [
              0.4444444444444444,
              "#bd3786"
             ],
             [
              0.5555555555555556,
              "#d8576b"
             ],
             [
              0.6666666666666666,
              "#ed7953"
             ],
             [
              0.7777777777777778,
              "#fb9f3a"
             ],
             [
              0.8888888888888888,
              "#fdca26"
             ],
             [
              1,
              "#f0f921"
             ]
            ],
            "type": "heatmap"
           }
          ],
          "heatmapgl": [
           {
            "colorbar": {
             "outlinewidth": 0,
             "ticks": ""
            },
            "colorscale": [
             [
              0,
              "#0d0887"
             ],
             [
              0.1111111111111111,
              "#46039f"
             ],
             [
              0.2222222222222222,
              "#7201a8"
             ],
             [
              0.3333333333333333,
              "#9c179e"
             ],
             [
              0.4444444444444444,
              "#bd3786"
             ],
             [
              0.5555555555555556,
              "#d8576b"
             ],
             [
              0.6666666666666666,
              "#ed7953"
             ],
             [
              0.7777777777777778,
              "#fb9f3a"
             ],
             [
              0.8888888888888888,
              "#fdca26"
             ],
             [
              1,
              "#f0f921"
             ]
            ],
            "type": "heatmapgl"
           }
          ],
          "histogram": [
           {
            "marker": {
             "pattern": {
              "fillmode": "overlay",
              "size": 10,
              "solidity": 0.2
             }
            },
            "type": "histogram"
           }
          ],
          "histogram2d": [
           {
            "colorbar": {
             "outlinewidth": 0,
             "ticks": ""
            },
            "colorscale": [
             [
              0,
              "#0d0887"
             ],
             [
              0.1111111111111111,
              "#46039f"
             ],
             [
              0.2222222222222222,
              "#7201a8"
             ],
             [
              0.3333333333333333,
              "#9c179e"
             ],
             [
              0.4444444444444444,
              "#bd3786"
             ],
             [
              0.5555555555555556,
              "#d8576b"
             ],
             [
              0.6666666666666666,
              "#ed7953"
             ],
             [
              0.7777777777777778,
              "#fb9f3a"
             ],
             [
              0.8888888888888888,
              "#fdca26"
             ],
             [
              1,
              "#f0f921"
             ]
            ],
            "type": "histogram2d"
           }
          ],
          "histogram2dcontour": [
           {
            "colorbar": {
             "outlinewidth": 0,
             "ticks": ""
            },
            "colorscale": [
             [
              0,
              "#0d0887"
             ],
             [
              0.1111111111111111,
              "#46039f"
             ],
             [
              0.2222222222222222,
              "#7201a8"
             ],
             [
              0.3333333333333333,
              "#9c179e"
             ],
             [
              0.4444444444444444,
              "#bd3786"
             ],
             [
              0.5555555555555556,
              "#d8576b"
             ],
             [
              0.6666666666666666,
              "#ed7953"
             ],
             [
              0.7777777777777778,
              "#fb9f3a"
             ],
             [
              0.8888888888888888,
              "#fdca26"
             ],
             [
              1,
              "#f0f921"
             ]
            ],
            "type": "histogram2dcontour"
           }
          ],
          "mesh3d": [
           {
            "colorbar": {
             "outlinewidth": 0,
             "ticks": ""
            },
            "type": "mesh3d"
           }
          ],
          "parcoords": [
           {
            "line": {
             "colorbar": {
              "outlinewidth": 0,
              "ticks": ""
             }
            },
            "type": "parcoords"
           }
          ],
          "pie": [
           {
            "automargin": true,
            "type": "pie"
           }
          ],
          "scatter": [
           {
            "fillpattern": {
             "fillmode": "overlay",
             "size": 10,
             "solidity": 0.2
            },
            "type": "scatter"
           }
          ],
          "scatter3d": [
           {
            "line": {
             "colorbar": {
              "outlinewidth": 0,
              "ticks": ""
             }
            },
            "marker": {
             "colorbar": {
              "outlinewidth": 0,
              "ticks": ""
             }
            },
            "type": "scatter3d"
           }
          ],
          "scattercarpet": [
           {
            "marker": {
             "colorbar": {
              "outlinewidth": 0,
              "ticks": ""
             }
            },
            "type": "scattercarpet"
           }
          ],
          "scattergeo": [
           {
            "marker": {
             "colorbar": {
              "outlinewidth": 0,
              "ticks": ""
             }
            },
            "type": "scattergeo"
           }
          ],
          "scattergl": [
           {
            "marker": {
             "colorbar": {
              "outlinewidth": 0,
              "ticks": ""
             }
            },
            "type": "scattergl"
           }
          ],
          "scattermapbox": [
           {
            "marker": {
             "colorbar": {
              "outlinewidth": 0,
              "ticks": ""
             }
            },
            "type": "scattermapbox"
           }
          ],
          "scatterpolar": [
           {
            "marker": {
             "colorbar": {
              "outlinewidth": 0,
              "ticks": ""
             }
            },
            "type": "scatterpolar"
           }
          ],
          "scatterpolargl": [
           {
            "marker": {
             "colorbar": {
              "outlinewidth": 0,
              "ticks": ""
             }
            },
            "type": "scatterpolargl"
           }
          ],
          "scatterternary": [
           {
            "marker": {
             "colorbar": {
              "outlinewidth": 0,
              "ticks": ""
             }
            },
            "type": "scatterternary"
           }
          ],
          "surface": [
           {
            "colorbar": {
             "outlinewidth": 0,
             "ticks": ""
            },
            "colorscale": [
             [
              0,
              "#0d0887"
             ],
             [
              0.1111111111111111,
              "#46039f"
             ],
             [
              0.2222222222222222,
              "#7201a8"
             ],
             [
              0.3333333333333333,
              "#9c179e"
             ],
             [
              0.4444444444444444,
              "#bd3786"
             ],
             [
              0.5555555555555556,
              "#d8576b"
             ],
             [
              0.6666666666666666,
              "#ed7953"
             ],
             [
              0.7777777777777778,
              "#fb9f3a"
             ],
             [
              0.8888888888888888,
              "#fdca26"
             ],
             [
              1,
              "#f0f921"
             ]
            ],
            "type": "surface"
           }
          ],
          "table": [
           {
            "cells": {
             "fill": {
              "color": "#EBF0F8"
             },
             "line": {
              "color": "white"
             }
            },
            "header": {
             "fill": {
              "color": "#C8D4E3"
             },
             "line": {
              "color": "white"
             }
            },
            "type": "table"
           }
          ]
         },
         "layout": {
          "annotationdefaults": {
           "arrowcolor": "#2a3f5f",
           "arrowhead": 0,
           "arrowwidth": 1
          },
          "autotypenumbers": "strict",
          "coloraxis": {
           "colorbar": {
            "outlinewidth": 0,
            "ticks": ""
           }
          },
          "colorscale": {
           "diverging": [
            [
             0,
             "#8e0152"
            ],
            [
             0.1,
             "#c51b7d"
            ],
            [
             0.2,
             "#de77ae"
            ],
            [
             0.3,
             "#f1b6da"
            ],
            [
             0.4,
             "#fde0ef"
            ],
            [
             0.5,
             "#f7f7f7"
            ],
            [
             0.6,
             "#e6f5d0"
            ],
            [
             0.7,
             "#b8e186"
            ],
            [
             0.8,
             "#7fbc41"
            ],
            [
             0.9,
             "#4d9221"
            ],
            [
             1,
             "#276419"
            ]
           ],
           "sequential": [
            [
             0,
             "#0d0887"
            ],
            [
             0.1111111111111111,
             "#46039f"
            ],
            [
             0.2222222222222222,
             "#7201a8"
            ],
            [
             0.3333333333333333,
             "#9c179e"
            ],
            [
             0.4444444444444444,
             "#bd3786"
            ],
            [
             0.5555555555555556,
             "#d8576b"
            ],
            [
             0.6666666666666666,
             "#ed7953"
            ],
            [
             0.7777777777777778,
             "#fb9f3a"
            ],
            [
             0.8888888888888888,
             "#fdca26"
            ],
            [
             1,
             "#f0f921"
            ]
           ],
           "sequentialminus": [
            [
             0,
             "#0d0887"
            ],
            [
             0.1111111111111111,
             "#46039f"
            ],
            [
             0.2222222222222222,
             "#7201a8"
            ],
            [
             0.3333333333333333,
             "#9c179e"
            ],
            [
             0.4444444444444444,
             "#bd3786"
            ],
            [
             0.5555555555555556,
             "#d8576b"
            ],
            [
             0.6666666666666666,
             "#ed7953"
            ],
            [
             0.7777777777777778,
             "#fb9f3a"
            ],
            [
             0.8888888888888888,
             "#fdca26"
            ],
            [
             1,
             "#f0f921"
            ]
           ]
          },
          "colorway": [
           "#636efa",
           "#EF553B",
           "#00cc96",
           "#ab63fa",
           "#FFA15A",
           "#19d3f3",
           "#FF6692",
           "#B6E880",
           "#FF97FF",
           "#FECB52"
          ],
          "font": {
           "color": "#2a3f5f"
          },
          "geo": {
           "bgcolor": "white",
           "lakecolor": "white",
           "landcolor": "#E5ECF6",
           "showlakes": true,
           "showland": true,
           "subunitcolor": "white"
          },
          "hoverlabel": {
           "align": "left"
          },
          "hovermode": "closest",
          "mapbox": {
           "style": "light"
          },
          "paper_bgcolor": "white",
          "plot_bgcolor": "#E5ECF6",
          "polar": {
           "angularaxis": {
            "gridcolor": "white",
            "linecolor": "white",
            "ticks": ""
           },
           "bgcolor": "#E5ECF6",
           "radialaxis": {
            "gridcolor": "white",
            "linecolor": "white",
            "ticks": ""
           }
          },
          "scene": {
           "xaxis": {
            "backgroundcolor": "#E5ECF6",
            "gridcolor": "white",
            "gridwidth": 2,
            "linecolor": "white",
            "showbackground": true,
            "ticks": "",
            "zerolinecolor": "white"
           },
           "yaxis": {
            "backgroundcolor": "#E5ECF6",
            "gridcolor": "white",
            "gridwidth": 2,
            "linecolor": "white",
            "showbackground": true,
            "ticks": "",
            "zerolinecolor": "white"
           },
           "zaxis": {
            "backgroundcolor": "#E5ECF6",
            "gridcolor": "white",
            "gridwidth": 2,
            "linecolor": "white",
            "showbackground": true,
            "ticks": "",
            "zerolinecolor": "white"
           }
          },
          "shapedefaults": {
           "line": {
            "color": "#2a3f5f"
           }
          },
          "ternary": {
           "aaxis": {
            "gridcolor": "white",
            "linecolor": "white",
            "ticks": ""
           },
           "baxis": {
            "gridcolor": "white",
            "linecolor": "white",
            "ticks": ""
           },
           "bgcolor": "#E5ECF6",
           "caxis": {
            "gridcolor": "white",
            "linecolor": "white",
            "ticks": ""
           }
          },
          "title": {
           "x": 0.05
          },
          "xaxis": {
           "automargin": true,
           "gridcolor": "white",
           "linecolor": "white",
           "ticks": "",
           "title": {
            "standoff": 15
           },
           "zerolinecolor": "white",
           "zerolinewidth": 2
          },
          "yaxis": {
           "automargin": true,
           "gridcolor": "white",
           "linecolor": "white",
           "ticks": "",
           "title": {
            "standoff": 15
           },
           "zerolinecolor": "white",
           "zerolinewidth": 2
          }
         }
        },
        "xaxis": {
         "anchor": "y",
         "autorange": true,
         "domain": [
          0,
          0.45
         ],
         "range": [
          -0.07780091294946745,
          1.0778009129494674
         ],
         "type": "category"
        },
        "xaxis10": {
         "anchor": "y10",
         "autorange": true,
         "domain": [
          0.55,
          1
         ],
         "range": [
          -7780.013494033796,
          107779.0134940338
         ],
         "type": "linear"
        },
        "xaxis11": {
         "anchor": "y11",
         "autorange": true,
         "domain": [
          0,
          0.45
         ],
         "range": [
          -303.423560502923,
          4203.423560502923
         ],
         "type": "linear"
        },
        "xaxis12": {
         "anchor": "y12",
         "domain": [
          0.55,
          1
         ]
        },
        "xaxis2": {
         "anchor": "y2",
         "autorange": true,
         "domain": [
          0.55,
          1
         ],
         "range": [
          -0.46680547769680464,
          6.466805477696805
         ],
         "type": "category"
        },
        "xaxis3": {
         "anchor": "y3",
         "autorange": true,
         "domain": [
          0,
          0.45
         ],
         "range": [
          -1.1670136942420117,
          16.167013694242012
         ],
         "type": "category"
        },
        "xaxis4": {
         "anchor": "y4",
         "autorange": true,
         "domain": [
          0.55,
          1
         ],
         "range": [
          -1.0114118683430766,
          14.011411868343076
         ],
         "type": "category"
        },
        "xaxis5": {
         "anchor": "y5",
         "autorange": true,
         "domain": [
          0,
          0.45
         ],
         "range": [
          -0.3112036517978698,
          4.31120365179787
         ],
         "type": "category"
        },
        "xaxis6": {
         "anchor": "y6",
         "autorange": true,
         "domain": [
          0.55,
          1
         ],
         "range": [
          -0.3112036517978698,
          4.31120365179787
         ],
         "type": "category"
        },
        "xaxis7": {
         "anchor": "y7",
         "autorange": true,
         "domain": [
          0,
          0.45
         ],
         "range": [
          -0.07780091294946745,
          1.0778009129494674
         ],
         "type": "category"
        },
        "xaxis8": {
         "anchor": "y8",
         "autorange": true,
         "domain": [
          0.55,
          1
         ],
         "range": [
          -0.3112036517978698,
          4.31120365179787
         ],
         "type": "category"
        },
        "xaxis9": {
         "anchor": "y9",
         "autorange": true,
         "domain": [
          0,
          0.45
         ],
         "range": [
          0,
          39
         ],
         "type": "category"
        },
        "yaxis": {
         "anchor": "x",
         "autorange": true,
         "domain": [
          0.9027777777777777,
          0.9999999999999999
         ],
         "range": [
          -0.019205072651647826,
          0.01920507265164782
         ],
         "type": "linear"
        },
        "yaxis10": {
         "anchor": "x10",
         "autorange": true,
         "domain": [
          0.18055555555555555,
          0.2777777777777778
         ],
         "range": [
          -0.32593195567153943,
          0.32593195567153943
         ],
         "type": "linear"
        },
        "yaxis11": {
         "anchor": "x11",
         "autorange": true,
         "domain": [
          0,
          0.09722222222222222
         ],
         "range": [
          -0.1225833099755799,
          0.12258330997557992
         ],
         "type": "linear"
        },
        "yaxis12": {
         "anchor": "x12",
         "domain": [
          0,
          0.09722222222222222
         ]
        },
        "yaxis2": {
         "anchor": "x2",
         "autorange": true,
         "domain": [
          0.9027777777777777,
          0.9999999999999999
         ],
         "range": [
          -0.10232466294764068,
          0.10232466294764071
         ],
         "type": "linear"
        },
        "yaxis3": {
         "anchor": "x3",
         "autorange": true,
         "domain": [
          0.7222222222222222,
          0.8194444444444444
         ],
         "range": [
          -0.2341799347965779,
          0.23417993479657795
         ],
         "type": "linear"
        },
        "yaxis4": {
         "anchor": "x4",
         "autorange": true,
         "domain": [
          0.7222222222222222,
          0.8194444444444444
         ],
         "range": [
          -0.12968401020168713,
          0.12968401020168716
         ],
         "type": "linear"
        },
        "yaxis5": {
         "anchor": "x5",
         "autorange": true,
         "domain": [
          0.5416666666666667,
          0.638888888888889
         ],
         "range": [
          -0.19824134328281207,
          0.19824134328281207
         ],
         "type": "linear"
        },
        "yaxis6": {
         "anchor": "x6",
         "autorange": true,
         "domain": [
          0.5416666666666667,
          0.638888888888889
         ],
         "range": [
          -0.04104589585629881,
          0.04104589585629884
         ],
         "type": "linear"
        },
        "yaxis7": {
         "anchor": "x7",
         "autorange": true,
         "domain": [
          0.3611111111111111,
          0.4583333333333333
         ],
         "range": [
          -0.008127205045232679,
          0.008127205045232679
         ],
         "type": "linear"
        },
        "yaxis8": {
         "anchor": "x8",
         "autorange": true,
         "domain": [
          0.3611111111111111,
          0.4583333333333333
         ],
         "range": [
          -0.08891000681485153,
          0.08891000681485156
         ],
         "type": "linear"
        },
        "yaxis9": {
         "anchor": "x9",
         "autorange": true,
         "domain": [
          0.18055555555555555,
          0.2777777777777778
         ],
         "range": [
          -0.20225215274668162,
          0.2022521527466816
         ],
         "type": "linear"
        }
       }
      },
      "text/html": [
       "<div>                            <div id=\"f7cf7b7f-63be-431b-b94c-12fbc8a07da1\" class=\"plotly-graph-div\" style=\"height:1560px; width:100%;\"></div>            <script type=\"text/javascript\">                require([\"plotly\"], function(Plotly) {                    window.PLOTLYENV=window.PLOTLYENV || {};                                    if (document.getElementById(\"f7cf7b7f-63be-431b-b94c-12fbc8a07da1\")) {                    Plotly.newPlot(                        \"f7cf7b7f-63be-431b-b94c-12fbc8a07da1\",                        [{\"legendgroup\":\"0\",\"legendgrouptitle\":{\"text\":\"0\"},\"name\":\"Age\",\"x\":[\"Aged\",\"Young\"],\"xaxis\":\"x\",\"y\":[-0.01385496565743344,0.01494203079258105],\"yaxis\":\"y\",\"type\":\"scatter\"},{\"legendgroup\":\"1\",\"legendgrouptitle\":{\"text\":\"1\"},\"name\":\"Age\",\"x\":[\"Aged\",\"Young\"],\"xaxis\":\"x\",\"y\":[0.013854965657433445,-0.014942030792581055],\"yaxis\":\"y\",\"type\":\"scatter\"},{\"legendgroup\":\"0\",\"line\":{\"color\":\"#808080\"},\"mode\":\"lines\",\"opacity\":0.1,\"showlegend\":false,\"x\":[\"Aged\",\"Young\"],\"xaxis\":\"x\",\"y\":[-0.0098750944846613,0.010653427064610066],\"yaxis\":\"y\",\"type\":\"scatter\"},{\"legendgroup\":\"1\",\"line\":{\"color\":\"#808080\"},\"mode\":\"lines\",\"opacity\":0.1,\"showlegend\":false,\"x\":[\"Aged\",\"Young\"],\"xaxis\":\"x\",\"y\":[0.009875094484661303,-0.010653427064610069],\"yaxis\":\"y\",\"type\":\"scatter\"},{\"legendgroup\":\"0\",\"line\":{\"color\":\"#808080\"},\"mode\":\"lines\",\"opacity\":0.1,\"showlegend\":false,\"x\":[\"Aged\",\"Young\"],\"xaxis\":\"x\",\"y\":[-0.011264109012448004,0.012151920571324802],\"yaxis\":\"y\",\"type\":\"scatter\"},{\"legendgroup\":\"1\",\"line\":{\"color\":\"#808080\"},\"mode\":\"lines\",\"opacity\":0.1,\"showlegend\":false,\"x\":[\"Aged\",\"Young\"],\"xaxis\":\"x\",\"y\":[0.011264109012448007,-0.012151920571324805],\"yaxis\":\"y\",\"type\":\"scatter\"},{\"legendgroup\":\"0\",\"line\":{\"color\":\"#808080\"},\"mode\":\"lines\",\"opacity\":0.1,\"showlegend\":false,\"x\":[\"Aged\",\"Young\"],\"xaxis\":\"x\",\"y\":[-0.014292491413819622,0.0154189932142118],\"yaxis\":\"y\",\"type\":\"scatter\"},{\"legendgroup\":\"1\",\"line\":{\"color\":\"#808080\"},\"mode\":\"lines\",\"opacity\":0.1,\"showlegend\":false,\"x\":[\"Aged\",\"Young\"],\"xaxis\":\"x\",\"y\":[0.014292491413819629,-0.015418993214211807],\"yaxis\":\"y\",\"type\":\"scatter\"},{\"legendgroup\":\"0\",\"line\":{\"color\":\"#808080\"},\"mode\":\"lines\",\"opacity\":0.1,\"showlegend\":false,\"x\":[\"Aged\",\"Young\"],\"xaxis\":\"x\",\"y\":[-0.015869228132919213,0.017120004750163318],\"yaxis\":\"y\",\"type\":\"scatter\"},{\"legendgroup\":\"1\",\"line\":{\"color\":\"#808080\"},\"mode\":\"lines\",\"opacity\":0.1,\"showlegend\":false,\"x\":[\"Aged\",\"Young\"],\"xaxis\":\"x\",\"y\":[0.01586922813291922,-0.017120004750163325],\"yaxis\":\"y\",\"type\":\"scatter\"},{\"legendgroup\":\"0\",\"line\":{\"color\":\"#808080\"},\"mode\":\"lines\",\"opacity\":0.1,\"showlegend\":false,\"x\":[\"Aged\",\"Young\"],\"xaxis\":\"x\",\"y\":[-0.015837214125319615,0.01708546747099723],\"yaxis\":\"y\",\"type\":\"scatter\"},{\"legendgroup\":\"1\",\"line\":{\"color\":\"#808080\"},\"mode\":\"lines\",\"opacity\":0.1,\"showlegend\":false,\"x\":[\"Aged\",\"Young\"],\"xaxis\":\"x\",\"y\":[0.015837214125319618,-0.017085467470997234],\"yaxis\":\"y\",\"type\":\"scatter\"},{\"legendgroup\":\"0\",\"line\":{\"color\":\"#808080\"},\"mode\":\"lines\",\"opacity\":0.1,\"showlegend\":false,\"x\":[\"Aged\",\"Young\"],\"xaxis\":\"x\",\"y\":[-0.01602176607420869,0.01728456538648304],\"yaxis\":\"y\",\"type\":\"scatter\"},{\"legendgroup\":\"1\",\"line\":{\"color\":\"#808080\"},\"mode\":\"lines\",\"opacity\":0.1,\"showlegend\":false,\"x\":[\"Aged\",\"Young\"],\"xaxis\":\"x\",\"y\":[0.016021766074208698,-0.017284565386483045],\"yaxis\":\"y\",\"type\":\"scatter\"},{\"legendgroup\":\"0\",\"line\":{\"color\":\"#808080\"},\"mode\":\"lines\",\"opacity\":0.1,\"showlegend\":false,\"x\":[\"Aged\",\"Young\"],\"xaxis\":\"x\",\"y\":[-0.014533822051588957,0.015679344986230276],\"yaxis\":\"y\",\"type\":\"scatter\"},{\"legendgroup\":\"1\",\"line\":{\"color\":\"#808080\"},\"mode\":\"lines\",\"opacity\":0.1,\"showlegend\":false,\"x\":[\"Aged\",\"Young\"],\"xaxis\":\"x\",\"y\":[0.014533822051588962,-0.015679344986230283],\"yaxis\":\"y\",\"type\":\"scatter\"},{\"legendgroup\":\"0\",\"line\":{\"color\":\"#808080\"},\"mode\":\"lines\",\"opacity\":0.1,\"showlegend\":false,\"x\":[\"Aged\",\"Young\"],\"xaxis\":\"x\",\"y\":[-0.012245874186545271,0.013211066252722113],\"yaxis\":\"y\",\"type\":\"scatter\"},{\"legendgroup\":\"1\",\"line\":{\"color\":\"#808080\"},\"mode\":\"lines\",\"opacity\":0.1,\"showlegend\":false,\"x\":[\"Aged\",\"Young\"],\"xaxis\":\"x\",\"y\":[0.012245874186545278,-0.01321106625272212],\"yaxis\":\"y\",\"type\":\"scatter\"},{\"legendgroup\":\"0\",\"line\":{\"color\":\"#808080\"},\"mode\":\"lines\",\"opacity\":0.1,\"showlegend\":false,\"x\":[\"Aged\",\"Young\"],\"xaxis\":\"x\",\"y\":[-0.014446307085475063,0.015584932288710836],\"yaxis\":\"y\",\"type\":\"scatter\"},{\"legendgroup\":\"1\",\"line\":{\"color\":\"#808080\"},\"mode\":\"lines\",\"opacity\":0.1,\"showlegend\":false,\"x\":[\"Aged\",\"Young\"],\"xaxis\":\"x\",\"y\":[0.014446307085475067,-0.01558493228871084],\"yaxis\":\"y\",\"type\":\"scatter\"},{\"legendgroup\":\"0\",\"line\":{\"color\":\"#808080\"},\"mode\":\"lines\",\"opacity\":0.1,\"showlegend\":false,\"x\":[\"Aged\",\"Young\"],\"xaxis\":\"x\",\"y\":[-0.013148284668613168,0.014184602685004634],\"yaxis\":\"y\",\"type\":\"scatter\"},{\"legendgroup\":\"1\",\"line\":{\"color\":\"#808080\"},\"mode\":\"lines\",\"opacity\":0.1,\"showlegend\":false,\"x\":[\"Aged\",\"Young\"],\"xaxis\":\"x\",\"y\":[0.013148284668613171,-0.014184602685004637],\"yaxis\":\"y\",\"type\":\"scatter\"},{\"legendgroup\":\"0\",\"legendgrouptitle\":{\"text\":\"0\"},\"name\":\"Workclass\",\"x\":[\"Federal-gov\",\"Local-gov\",\"Private\",\"Self-emp-inc\",\"Self-emp-not-in*\",\"State-gov\",\"Without-pay\"],\"xaxis\":\"x2\",\"y\":[-0.06869525879742426,-0.010373556895538955,0.004390296077097899,-0.06843708636752215,0.02200916840762393,0.007272168951858268,0.001733871974482451],\"yaxis\":\"y2\",\"type\":\"scatter\"},{\"legendgroup\":\"1\",\"legendgrouptitle\":{\"text\":\"1\"},\"name\":\"Workclass\",\"x\":[\"Federal-gov\",\"Local-gov\",\"Private\",\"Self-emp-inc\",\"Self-emp-not-in*\",\"State-gov\",\"Without-pay\"],\"xaxis\":\"x2\",\"y\":[0.06869525879742429,0.010373556895538968,-0.004390296077097913,0.06843708636752219,-0.022009168407623916,-0.0072721689518582405,-0.0017338719744824371],\"yaxis\":\"y2\",\"type\":\"scatter\"},{\"legendgroup\":\"0\",\"line\":{\"color\":\"#808080\"},\"mode\":\"lines\",\"opacity\":0.1,\"showlegend\":false,\"x\":[\"Federal-gov\",\"Local-gov\",\"Private\",\"Self-emp-inc\",\"Self-emp-not-in*\",\"State-gov\",\"Without-pay\"],\"xaxis\":\"x2\",\"y\":[-0.07092909239005507,0.007436078058460541,0.0006732083239606584,-0.044084869946030454,0.02039034349863183,0.025965919136894493,-0.0004140570321671949],\"yaxis\":\"y2\",\"type\":\"scatter\"},{\"legendgroup\":\"1\",\"line\":{\"color\":\"#808080\"},\"mode\":\"lines\",\"opacity\":0.1,\"showlegend\":false,\"x\":[\"Federal-gov\",\"Local-gov\",\"Private\",\"Self-emp-inc\",\"Self-emp-not-in*\",\"State-gov\",\"Without-pay\"],\"xaxis\":\"x2\",\"y\":[0.0709290923900551,-0.007436078058460513,-0.0006732083239606654,0.044084869946030496,-0.020390343498631815,-0.025965919136894465,0.00041405703216722267],\"yaxis\":\"y2\",\"type\":\"scatter\"},{\"legendgroup\":\"0\",\"line\":{\"color\":\"#808080\"},\"mode\":\"lines\",\"opacity\":0.1,\"showlegend\":false,\"x\":[\"Federal-gov\",\"Local-gov\",\"Private\",\"Self-emp-inc\",\"Self-emp-not-in*\",\"State-gov\",\"Without-pay\"],\"xaxis\":\"x2\",\"y\":[-0.06202743926087874,-0.020212632301310915,0.005939208216647715,-0.08847500329019327,0.02199068007550868,0.007898708257114792,0.0005322980712188091],\"yaxis\":\"y2\",\"type\":\"scatter\"},{\"legendgroup\":\"1\",\"line\":{\"color\":\"#808080\"},\"mode\":\"lines\",\"opacity\":0.1,\"showlegend\":false,\"x\":[\"Federal-gov\",\"Local-gov\",\"Private\",\"Self-emp-inc\",\"Self-emp-not-in*\",\"State-gov\",\"Without-pay\"],\"xaxis\":\"x2\",\"y\":[0.06202743926087875,0.020212632301310915,-0.005939208216647729,0.0884750032901933,-0.02199068007550868,-0.007898708257114778,-0.0005322980712187952],\"yaxis\":\"y2\",\"type\":\"scatter\"},{\"legendgroup\":\"0\",\"line\":{\"color\":\"#808080\"},\"mode\":\"lines\",\"opacity\":0.1,\"showlegend\":false,\"x\":[\"Federal-gov\",\"Local-gov\",\"Private\",\"Self-emp-inc\",\"Self-emp-not-in*\",\"State-gov\",\"Without-pay\"],\"xaxis\":\"x2\",\"y\":[-0.06039887285289447,0.0016328937754888292,0.00044787953535402325,-0.03461510652030504,0.018451230246743444,0.02756621898034306,-0.0002319526789431453],\"yaxis\":\"y2\",\"type\":\"scatter\"},{\"legendgroup\":\"1\",\"line\":{\"color\":\"#808080\"},\"mode\":\"lines\",\"opacity\":0.1,\"showlegend\":false,\"x\":[\"Federal-gov\",\"Local-gov\",\"Private\",\"Self-emp-inc\",\"Self-emp-not-in*\",\"State-gov\",\"Without-pay\"],\"xaxis\":\"x2\",\"y\":[0.06039887285289449,-0.0016328937754888154,-0.0004478795353540302,0.03461510652030509,-0.018451230246743437,-0.02756621898034304,0.00023195267894316612],\"yaxis\":\"y2\",\"type\":\"scatter\"},{\"legendgroup\":\"0\",\"line\":{\"color\":\"#808080\"},\"mode\":\"lines\",\"opacity\":0.1,\"showlegend\":false,\"x\":[\"Federal-gov\",\"Local-gov\",\"Private\",\"Self-emp-inc\",\"Self-emp-not-in*\",\"State-gov\",\"Without-pay\"],\"xaxis\":\"x2\",\"y\":[-0.06880766748856645,-0.031890579790444365,0.006209717190454607,-0.056854911578142646,0.026050024842016052,-0.007575589487362637,0.004745444217635848],\"yaxis\":\"y2\",\"type\":\"scatter\"},{\"legendgroup\":\"1\",\"line\":{\"color\":\"#808080\"},\"mode\":\"lines\",\"opacity\":0.1,\"showlegend\":false,\"x\":[\"Federal-gov\",\"Local-gov\",\"Private\",\"Self-emp-inc\",\"Self-emp-not-in*\",\"State-gov\",\"Without-pay\"],\"xaxis\":\"x2\",\"y\":[0.0688076674885665,0.031890579790444386,-0.006209717190454614,0.05685491157814271,-0.02605002484201603,0.007575589487362672,-0.0047454442176358205],\"yaxis\":\"y2\",\"type\":\"scatter\"},{\"legendgroup\":\"0\",\"line\":{\"color\":\"#808080\"},\"mode\":\"lines\",\"opacity\":0.1,\"showlegend\":false,\"x\":[\"Federal-gov\",\"Local-gov\",\"Private\",\"Self-emp-inc\",\"Self-emp-not-in*\",\"State-gov\",\"Without-pay\"],\"xaxis\":\"x2\",\"y\":[-0.04922701313126358,0.002077704169055436,0.0017528650804468915,-0.06574581746248541,0.019998609104250345,0.01929490970249506,0.0020154702959360726],\"yaxis\":\"y2\",\"type\":\"scatter\"},{\"legendgroup\":\"1\",\"line\":{\"color\":\"#808080\"},\"mode\":\"lines\",\"opacity\":0.1,\"showlegend\":false,\"x\":[\"Federal-gov\",\"Local-gov\",\"Private\",\"Self-emp-inc\",\"Self-emp-not-in*\",\"State-gov\",\"Without-pay\"],\"xaxis\":\"x2\",\"y\":[0.049227013131263625,-0.00207770416905545,-0.0017528650804468776,0.06574581746248544,-0.019998609104250303,-0.019294909702495047,-0.002015470295936031],\"yaxis\":\"y2\",\"type\":\"scatter\"},{\"legendgroup\":\"0\",\"line\":{\"color\":\"#808080\"},\"mode\":\"lines\",\"opacity\":0.1,\"showlegend\":false,\"x\":[\"Federal-gov\",\"Local-gov\",\"Private\",\"Self-emp-inc\",\"Self-emp-not-in*\",\"State-gov\",\"Without-pay\"],\"xaxis\":\"x2\",\"y\":[-0.07683938242993932,-0.024111073584968987,0.006345557797136581,-0.07303581578852825,0.02922249720930513,-0.009388023871141515,0.004341414794407902],\"yaxis\":\"y2\",\"type\":\"scatter\"},{\"legendgroup\":\"1\",\"line\":{\"color\":\"#808080\"},\"mode\":\"lines\",\"opacity\":0.1,\"showlegend\":false,\"x\":[\"Federal-gov\",\"Local-gov\",\"Private\",\"Self-emp-inc\",\"Self-emp-not-in*\",\"State-gov\",\"Without-pay\"],\"xaxis\":\"x2\",\"y\":[0.07683938242993935,0.024111073584969007,-0.0063455577971365945,0.07303581578852827,-0.0292224972093051,0.009388023871141543,-0.0043414147944078885],\"yaxis\":\"y2\",\"type\":\"scatter\"},{\"legendgroup\":\"0\",\"line\":{\"color\":\"#808080\"},\"mode\":\"lines\",\"opacity\":0.1,\"showlegend\":false,\"x\":[\"Federal-gov\",\"Local-gov\",\"Private\",\"Self-emp-inc\",\"Self-emp-not-in*\",\"State-gov\",\"Without-pay\"],\"xaxis\":\"x2\",\"y\":[-0.064711853830806,-0.00473105664985226,0.0027792470291032115,-0.050145684764721206,0.015178464759166906,0.020086397835808963,-0.0032260617557427415],\"yaxis\":\"y2\",\"type\":\"scatter\"},{\"legendgroup\":\"1\",\"line\":{\"color\":\"#808080\"},\"mode\":\"lines\",\"opacity\":0.1,\"showlegend\":false,\"x\":[\"Federal-gov\",\"Local-gov\",\"Private\",\"Self-emp-inc\",\"Self-emp-not-in*\",\"State-gov\",\"Without-pay\"],\"xaxis\":\"x2\",\"y\":[0.06471185383080602,0.00473105664985226,-0.0027792470291032184,0.050145684764721234,-0.015178464759166892,-0.020086397835808935,0.0032260617557427623],\"yaxis\":\"y2\",\"type\":\"scatter\"},{\"legendgroup\":\"0\",\"line\":{\"color\":\"#808080\"},\"mode\":\"lines\",\"opacity\":0.1,\"showlegend\":false,\"x\":[\"Federal-gov\",\"Local-gov\",\"Private\",\"Self-emp-inc\",\"Self-emp-not-in*\",\"State-gov\",\"Without-pay\"],\"xaxis\":\"x2\",\"y\":[-0.09209219665287662,-0.012825190534596083,0.005386557879615672,-0.06903622444163184,0.02090550478655931,0.01283254466211943,-0.0019127687454455339],\"yaxis\":\"y2\",\"type\":\"scatter\"},{\"legendgroup\":\"1\",\"line\":{\"color\":\"#808080\"},\"mode\":\"lines\",\"opacity\":0.1,\"showlegend\":false,\"x\":[\"Federal-gov\",\"Local-gov\",\"Private\",\"Self-emp-inc\",\"Self-emp-not-in*\",\"State-gov\",\"Without-pay\"],\"xaxis\":\"x2\",\"y\":[0.09209219665287664,0.012825190534596083,-0.005386557879615686,0.06903622444163186,-0.020905504786559295,-0.012832544662119402,0.0019127687454455478],\"yaxis\":\"y2\",\"type\":\"scatter\"},{\"legendgroup\":\"0\",\"line\":{\"color\":\"#808080\"},\"mode\":\"lines\",\"opacity\":0.1,\"showlegend\":false,\"x\":[\"Federal-gov\",\"Local-gov\",\"Private\",\"Self-emp-inc\",\"Self-emp-not-in*\",\"State-gov\",\"Without-pay\"],\"xaxis\":\"x2\",\"y\":[-0.08036603111238141,-0.019574998355030487,0.004890950071038777,-0.07969204449055725,0.02627408356842459,0.02288920156867333,0.00261178383559571],\"yaxis\":\"y2\",\"type\":\"scatter\"},{\"legendgroup\":\"1\",\"line\":{\"color\":\"#808080\"},\"mode\":\"lines\",\"opacity\":0.1,\"showlegend\":false,\"x\":[\"Federal-gov\",\"Local-gov\",\"Private\",\"Self-emp-inc\",\"Self-emp-not-in*\",\"State-gov\",\"Without-pay\"],\"xaxis\":\"x2\",\"y\":[0.08036603111238144,0.019574998355030487,-0.004890950071038791,0.07969204449055727,-0.026274083568424575,-0.0228892015686733,-0.0026117838355956963],\"yaxis\":\"y2\",\"type\":\"scatter\"},{\"legendgroup\":\"0\",\"line\":{\"color\":\"#808080\"},\"mode\":\"lines\",\"opacity\":0.1,\"showlegend\":false,\"x\":[\"Federal-gov\",\"Local-gov\",\"Private\",\"Self-emp-inc\",\"Self-emp-not-in*\",\"State-gov\",\"Without-pay\"],\"xaxis\":\"x2\",\"y\":[-0.07241650855064194,0.00479251934549299,0.0036181641684779747,-0.05910363477728919,0.01479368435243432,0.0033681641203127527,0.00046904895749896175],\"yaxis\":\"y2\",\"type\":\"scatter\"},{\"legendgroup\":\"1\",\"line\":{\"color\":\"#808080\"},\"mode\":\"lines\",\"opacity\":0.1,\"showlegend\":false,\"x\":[\"Federal-gov\",\"Local-gov\",\"Private\",\"Self-emp-inc\",\"Self-emp-not-in*\",\"State-gov\",\"Without-pay\"],\"xaxis\":\"x2\",\"y\":[0.07241650855064197,-0.004792519345492997,-0.0036181641684779817,0.05910363477728923,-0.014793684352434298,-0.003368164120312739,-0.000469048957498934],\"yaxis\":\"y2\",\"type\":\"scatter\"},{\"legendgroup\":\"0\",\"legendgrouptitle\":{\"text\":\"0\"},\"name\":\"Education\",\"x\":[\"10th\",\"11th\",\"12th\",\"1st-4th\",\"5th-6th\",\"7th-8th\",\"9th\",\"Assoc-acdm\",\"Assoc-voc\",\"Bachelors\",\"Doctorate\",\"HS-grad\",\"Masters\",\"Preschool\",\"Prof-school\",\"Some-college\"],\"xaxis\":\"x3\",\"y\":[0.07466781266561029,0.07987234608965002,0.036847459249990916,0.05007222287742058,0.07321918137531111,0.08621634326633901,0.08326917353604651,0.004552357596796203,-0.00452283600085443,-0.07340536383587566,-0.1537037572860425,0.040781905102185656,-0.14044780725037578,0.0553625066426994,-0.1733430001821166,0.010628668467293378],\"yaxis\":\"y3\",\"type\":\"scatter\"},{\"legendgroup\":\"1\",\"legendgrouptitle\":{\"text\":\"1\"},\"name\":\"Education\",\"x\":[\"10th\",\"11th\",\"12th\",\"1st-4th\",\"5th-6th\",\"7th-8th\",\"9th\",\"Assoc-acdm\",\"Assoc-voc\",\"Bachelors\",\"Doctorate\",\"HS-grad\",\"Masters\",\"Preschool\",\"Prof-school\",\"Some-college\"],\"xaxis\":\"x3\",\"y\":[-0.07466781266561026,-0.07987234608964996,-0.03684745924999089,-0.05007222287742055,-0.07321918137531108,-0.08621634326633898,-0.08326917353604649,-0.004552357596796175,0.004522836000854458,0.07340536383587563,0.15370375728604252,-0.040781905102185656,0.14044780725037576,-0.055362506642699344,0.17334300018211662,-0.010628668467293378],\"yaxis\":\"y3\",\"type\":\"scatter\"},{\"legendgroup\":\"0\",\"line\":{\"color\":\"#808080\"},\"mode\":\"lines\",\"opacity\":0.1,\"showlegend\":false,\"x\":[\"10th\",\"11th\",\"12th\",\"1st-4th\",\"5th-6th\",\"7th-8th\",\"9th\",\"Assoc-acdm\",\"Assoc-voc\",\"Bachelors\",\"Doctorate\",\"HS-grad\",\"Masters\",\"Preschool\",\"Prof-school\",\"Some-college\"],\"xaxis\":\"x3\",\"y\":[0.08365842462015391,0.10374503560577536,0.02942446194497761,0.027030076500802636,0.07423330610424611,0.09219298448733498,0.0831591789847507,0.013312189108330985,-0.0048195137371842,-0.08261892728673143,-0.16547846439812092,0.03929303371280604,-0.12608659717916765,0.019760845731571886,-0.17500115311385095,0.011819376669344406],\"yaxis\":\"y3\",\"type\":\"scatter\"},{\"legendgroup\":\"1\",\"line\":{\"color\":\"#808080\"},\"mode\":\"lines\",\"opacity\":0.1,\"showlegend\":false,\"x\":[\"10th\",\"11th\",\"12th\",\"1st-4th\",\"5th-6th\",\"7th-8th\",\"9th\",\"Assoc-acdm\",\"Assoc-voc\",\"Bachelors\",\"Doctorate\",\"HS-grad\",\"Masters\",\"Preschool\",\"Prof-school\",\"Some-college\"],\"xaxis\":\"x3\",\"y\":[-0.08365842462015391,-0.1037450356057753,-0.029424461944977526,-0.027030076500802552,-0.07423330610424603,-0.09219298448733498,-0.08315917898475067,-0.013312189108330957,0.0048195137371842,0.08261892728673143,0.16547846439812097,-0.03929303371280607,0.12608659717916765,-0.019760845731571774,0.175001153113851,-0.011819376669344434],\"yaxis\":\"y3\",\"type\":\"scatter\"},{\"legendgroup\":\"0\",\"line\":{\"color\":\"#808080\"},\"mode\":\"lines\",\"opacity\":0.1,\"showlegend\":false,\"x\":[\"10th\",\"11th\",\"12th\",\"1st-4th\",\"5th-6th\",\"7th-8th\",\"9th\",\"Assoc-acdm\",\"Assoc-voc\",\"Bachelors\",\"Doctorate\",\"HS-grad\",\"Masters\",\"Preschool\",\"Prof-school\",\"Some-college\"],\"xaxis\":\"x3\",\"y\":[0.07708015487040229,0.09000737655164232,0.04237914615376709,0.024580401422960335,0.07243620479000529,0.08274025909373739,0.08692109090982034,0.0161528381107697,0.000828299952230313,-0.07887546380206968,-0.09649975190534421,0.04047602120033636,-0.1424621998329423,0.0231435305780084,-0.137304675192182,0.005662913532786543],\"yaxis\":\"y3\",\"type\":\"scatter\"},{\"legendgroup\":\"1\",\"line\":{\"color\":\"#808080\"},\"mode\":\"lines\",\"opacity\":0.1,\"showlegend\":false,\"x\":[\"10th\",\"11th\",\"12th\",\"1st-4th\",\"5th-6th\",\"7th-8th\",\"9th\",\"Assoc-acdm\",\"Assoc-voc\",\"Bachelors\",\"Doctorate\",\"HS-grad\",\"Masters\",\"Preschool\",\"Prof-school\",\"Some-college\"],\"xaxis\":\"x3\",\"y\":[-0.07708015487040225,-0.09000737655164225,-0.04237914615376705,-0.02458040142296032,-0.07243620479000525,-0.08274025909373735,-0.08692109090982027,-0.016152838110769674,-0.000828299952230313,0.07887546380206968,0.09649975190534425,-0.04047602120033637,0.1424621998329423,-0.02314353057800833,0.13730467519218206,-0.0056629135327865565],\"yaxis\":\"y3\",\"type\":\"scatter\"},{\"legendgroup\":\"0\",\"line\":{\"color\":\"#808080\"},\"mode\":\"lines\",\"opacity\":0.1,\"showlegend\":false,\"x\":[\"10th\",\"11th\",\"12th\",\"1st-4th\",\"5th-6th\",\"7th-8th\",\"9th\",\"Assoc-acdm\",\"Assoc-voc\",\"Bachelors\",\"Doctorate\",\"HS-grad\",\"Masters\",\"Preschool\",\"Prof-school\",\"Some-college\"],\"xaxis\":\"x3\",\"y\":[0.062403612152502175,0.08939478096078901,0.04770497777826385,0.06248257743414978,0.0708832582857088,0.0855518302656369,0.09234003452863748,-0.001352521292302511,-0.005582515590367557,-0.08037091487802547,-0.12826867036851858,0.03826664451756534,-0.1344718203586979,0.05219270131250109,-0.13029721720059756,0.013274402403662455],\"yaxis\":\"y3\",\"type\":\"scatter\"},{\"legendgroup\":\"1\",\"line\":{\"color\":\"#808080\"},\"mode\":\"lines\",\"opacity\":0.1,\"showlegend\":false,\"x\":[\"10th\",\"11th\",\"12th\",\"1st-4th\",\"5th-6th\",\"7th-8th\",\"9th\",\"Assoc-acdm\",\"Assoc-voc\",\"Bachelors\",\"Doctorate\",\"HS-grad\",\"Masters\",\"Preschool\",\"Prof-school\",\"Some-college\"],\"xaxis\":\"x3\",\"y\":[-0.062403612152502175,-0.08939478096078898,-0.047704977778263824,-0.06248257743414973,-0.07088325828570874,-0.08555183026563687,-0.09234003452863745,0.001352521292302511,0.005582515590367557,0.08037091487802545,0.1282686703685186,-0.03826664451756537,0.13447182035869787,-0.05219270131250103,0.1302972172005976,-0.013274402403662483],\"yaxis\":\"y3\",\"type\":\"scatter\"},{\"legendgroup\":\"0\",\"line\":{\"color\":\"#808080\"},\"mode\":\"lines\",\"opacity\":0.1,\"showlegend\":false,\"x\":[\"10th\",\"11th\",\"12th\",\"1st-4th\",\"5th-6th\",\"7th-8th\",\"9th\",\"Assoc-acdm\",\"Assoc-voc\",\"Bachelors\",\"Doctorate\",\"HS-grad\",\"Masters\",\"Preschool\",\"Prof-school\",\"Some-college\"],\"xaxis\":\"x3\",\"y\":[0.06639579119929168,0.09174130386442306,0.02647014739334161,0.05151544927602622,0.07311988947750062,0.08038488235167071,0.0799776530122325,0.00035066722565960107,-0.009571425060498101,-0.06424926100141076,-0.17737657930251102,0.042269645624918945,-0.126909088081847,0.04313762680267896,-0.18355361035177806,0.002510434815684165],\"yaxis\":\"y3\",\"type\":\"scatter\"},{\"legendgroup\":\"1\",\"line\":{\"color\":\"#808080\"},\"mode\":\"lines\",\"opacity\":0.1,\"showlegend\":false,\"x\":[\"10th\",\"11th\",\"12th\",\"1st-4th\",\"5th-6th\",\"7th-8th\",\"9th\",\"Assoc-acdm\",\"Assoc-voc\",\"Bachelors\",\"Doctorate\",\"HS-grad\",\"Masters\",\"Preschool\",\"Prof-school\",\"Some-college\"],\"xaxis\":\"x3\",\"y\":[-0.06639579119929165,-0.09174130386442295,-0.026470147393341525,-0.051515449276026165,-0.07311988947750056,-0.08038488235167066,-0.07997765301223245,-0.00035066722565954556,0.009571425060498129,0.06424926100141076,0.17737657930251108,-0.042269645624918945,0.126909088081847,-0.04313762680267891,0.18355361035177808,-0.002510434815684137],\"yaxis\":\"y3\",\"type\":\"scatter\"},{\"legendgroup\":\"0\",\"line\":{\"color\":\"#808080\"},\"mode\":\"lines\",\"opacity\":0.1,\"showlegend\":false,\"x\":[\"10th\",\"11th\",\"12th\",\"1st-4th\",\"5th-6th\",\"7th-8th\",\"9th\",\"Assoc-acdm\",\"Assoc-voc\",\"Bachelors\",\"Doctorate\",\"HS-grad\",\"Masters\",\"Preschool\",\"Prof-school\",\"Some-college\"],\"xaxis\":\"x3\",\"y\":[0.07630728181691049,0.07388601700410094,0.02057668262562598,0.02605916269592659,0.07115734434797338,0.08599148372619864,0.07971022466303365,0.0015692242016168423,-0.013394640639458805,-0.07345917711490177,-0.14149162828414533,0.041826316617384424,-0.14092050588826643,0.0850981544059709,-0.19247183414530356,0.01466134859272461],\"yaxis\":\"y3\",\"type\":\"scatter\"},{\"legendgroup\":\"1\",\"line\":{\"color\":\"#808080\"},\"mode\":\"lines\",\"opacity\":0.1,\"showlegend\":false,\"x\":[\"10th\",\"11th\",\"12th\",\"1st-4th\",\"5th-6th\",\"7th-8th\",\"9th\",\"Assoc-acdm\",\"Assoc-voc\",\"Bachelors\",\"Doctorate\",\"HS-grad\",\"Masters\",\"Preschool\",\"Prof-school\",\"Some-college\"],\"xaxis\":\"x3\",\"y\":[-0.07630728181691049,-0.07388601700410094,-0.02057668262562598,-0.026059162695926563,-0.07115734434797336,-0.08599148372619864,-0.07971022466303365,-0.0015692242016168145,0.013394640639458805,0.07345917711490173,0.1414916282841453,-0.04182631661738445,0.14092050588826638,-0.0850981544059709,0.19247183414530356,-0.014661348592724638],\"yaxis\":\"y3\",\"type\":\"scatter\"},{\"legendgroup\":\"0\",\"line\":{\"color\":\"#808080\"},\"mode\":\"lines\",\"opacity\":0.1,\"showlegend\":false,\"x\":[\"10th\",\"11th\",\"12th\",\"1st-4th\",\"5th-6th\",\"7th-8th\",\"9th\",\"Assoc-acdm\",\"Assoc-voc\",\"Bachelors\",\"Doctorate\",\"HS-grad\",\"Masters\",\"Preschool\",\"Prof-school\",\"Some-college\"],\"xaxis\":\"x3\",\"y\":[0.06118698945883269,0.08684541274228619,0.010329383551396815,0.04555474959042263,0.0831849368635143,0.08633319605722797,0.09773433557539041,-0.004386164473746901,-0.004809742907774278,-0.08356781879018114,-0.12858261562443316,0.04650388430361069,-0.13482338349926792,0.05870093794313272,-0.2107619413169201,0.012067381067905808],\"yaxis\":\"y3\",\"type\":\"scatter\"},{\"legendgroup\":\"1\",\"line\":{\"color\":\"#808080\"},\"mode\":\"lines\",\"opacity\":0.1,\"showlegend\":false,\"x\":[\"10th\",\"11th\",\"12th\",\"1st-4th\",\"5th-6th\",\"7th-8th\",\"9th\",\"Assoc-acdm\",\"Assoc-voc\",\"Bachelors\",\"Doctorate\",\"HS-grad\",\"Masters\",\"Preschool\",\"Prof-school\",\"Some-college\"],\"xaxis\":\"x3\",\"y\":[-0.061186989458832663,-0.08684541274228613,-0.010329383551396787,-0.04555474959042258,-0.08318493686351425,-0.08633319605722795,-0.09773433557539035,0.004386164473746901,0.004809742907774264,0.08356781879018113,0.12858261562443324,-0.046503884303610715,0.13482338349926792,-0.058700937943132664,0.21076194131692016,-0.012067381067905836],\"yaxis\":\"y3\",\"type\":\"scatter\"},{\"legendgroup\":\"0\",\"line\":{\"color\":\"#808080\"},\"mode\":\"lines\",\"opacity\":0.1,\"showlegend\":false,\"x\":[\"10th\",\"11th\",\"12th\",\"1st-4th\",\"5th-6th\",\"7th-8th\",\"9th\",\"Assoc-acdm\",\"Assoc-voc\",\"Bachelors\",\"Doctorate\",\"HS-grad\",\"Masters\",\"Preschool\",\"Prof-school\",\"Some-college\"],\"xaxis\":\"x3\",\"y\":[0.09855477969051794,0.09377814230163774,0.02532686808418909,0.026782736528843512,0.06251084980161993,0.09714732662586507,0.08404120833688682,-0.01071250824771594,-0.005681321920858365,-0.0893965490805287,-0.1010049844419421,0.04917478589697623,-0.17019314345530784,0.04003606388829899,-0.1726237585250019,0.012619557635704617],\"yaxis\":\"y3\",\"type\":\"scatter\"},{\"legendgroup\":\"1\",\"line\":{\"color\":\"#808080\"},\"mode\":\"lines\",\"opacity\":0.1,\"showlegend\":false,\"x\":[\"10th\",\"11th\",\"12th\",\"1st-4th\",\"5th-6th\",\"7th-8th\",\"9th\",\"Assoc-acdm\",\"Assoc-voc\",\"Bachelors\",\"Doctorate\",\"HS-grad\",\"Masters\",\"Preschool\",\"Prof-school\",\"Some-college\"],\"xaxis\":\"x3\",\"y\":[-0.09855477969051792,-0.09377814230163771,-0.02532686808418909,-0.026782736528843484,-0.0625108498016199,-0.09714732662586505,-0.08404120833688682,0.010712508247715954,0.005681321920858365,0.08939654908052866,0.10100498444194213,-0.04917478589697623,0.17019314345530778,-0.04003606388829896,0.17262375852500192,-0.012619557635704617],\"yaxis\":\"y3\",\"type\":\"scatter\"},{\"legendgroup\":\"0\",\"line\":{\"color\":\"#808080\"},\"mode\":\"lines\",\"opacity\":0.1,\"showlegend\":false,\"x\":[\"10th\",\"11th\",\"12th\",\"1st-4th\",\"5th-6th\",\"7th-8th\",\"9th\",\"Assoc-acdm\",\"Assoc-voc\",\"Bachelors\",\"Doctorate\",\"HS-grad\",\"Masters\",\"Preschool\",\"Prof-school\",\"Some-college\"],\"xaxis\":\"x3\",\"y\":[0.07092549543198295,0.06708643966626948,0.022999867970671634,0.053374214898002675,0.05804435569470598,0.0752654091763629,0.07455960008349502,0.02859287790711465,-0.009973322618101493,-0.0400378333645538,-0.1730910862346132,0.025630367768293194,-0.11764817405195113,0.05327390964769743,-0.2000796810166262,0.00849481641892888],\"yaxis\":\"y3\",\"type\":\"scatter\"},{\"legendgroup\":\"1\",\"line\":{\"color\":\"#808080\"},\"mode\":\"lines\",\"opacity\":0.1,\"showlegend\":false,\"x\":[\"10th\",\"11th\",\"12th\",\"1st-4th\",\"5th-6th\",\"7th-8th\",\"9th\",\"Assoc-acdm\",\"Assoc-voc\",\"Bachelors\",\"Doctorate\",\"HS-grad\",\"Masters\",\"Preschool\",\"Prof-school\",\"Some-college\"],\"xaxis\":\"x3\",\"y\":[-0.07092549543198295,-0.06708643966626945,-0.022999867970671606,-0.05337421489800262,-0.058044355694705924,-0.07526540917636287,-0.07455960008349499,-0.02859287790711465,0.009973322618101493,0.04003783336455374,0.1730910862346132,-0.025630367768293222,0.11764817405195108,-0.053273909647697376,0.2000796810166262,-0.008494816418928908],\"yaxis\":\"y3\",\"type\":\"scatter\"},{\"legendgroup\":\"0\",\"line\":{\"color\":\"#808080\"},\"mode\":\"lines\",\"opacity\":0.1,\"showlegend\":false,\"x\":[\"10th\",\"11th\",\"12th\",\"1st-4th\",\"5th-6th\",\"7th-8th\",\"9th\",\"Assoc-acdm\",\"Assoc-voc\",\"Bachelors\",\"Doctorate\",\"HS-grad\",\"Masters\",\"Preschool\",\"Prof-school\",\"Some-college\"],\"xaxis\":\"x3\",\"y\":[0.056355220394564504,0.09329915783512455,0.05316436845287592,0.05855497381470107,0.08466904909816825,0.08563377523175142,0.09064747766397319,0.002850451832086792,-0.014190701922865173,-0.07791698635635144,-0.16531820409276976,0.043369153771082636,-0.13963252369740065,0.029689138719525,-0.19052172852248467,0.012549694226062558],\"yaxis\":\"y3\",\"type\":\"scatter\"},{\"legendgroup\":\"1\",\"line\":{\"color\":\"#808080\"},\"mode\":\"lines\",\"opacity\":0.1,\"showlegend\":false,\"x\":[\"10th\",\"11th\",\"12th\",\"1st-4th\",\"5th-6th\",\"7th-8th\",\"9th\",\"Assoc-acdm\",\"Assoc-voc\",\"Bachelors\",\"Doctorate\",\"HS-grad\",\"Masters\",\"Preschool\",\"Prof-school\",\"Some-college\"],\"xaxis\":\"x3\",\"y\":[-0.056355220394564504,-0.09329915783512452,-0.05316436845287589,-0.05855497381470104,-0.08466904909816822,-0.08563377523175139,-0.09064747766397316,-0.002850451832086792,0.014190701922865173,0.0779169863563514,0.1653182040927698,-0.043369153771082664,0.1396325236974006,-0.029689138719524943,0.19052172852248467,-0.012549694226062585],\"yaxis\":\"y3\",\"type\":\"scatter\"},{\"legendgroup\":\"0\",\"line\":{\"color\":\"#808080\"},\"mode\":\"lines\",\"opacity\":0.1,\"showlegend\":false,\"x\":[\"10th\",\"11th\",\"12th\",\"1st-4th\",\"5th-6th\",\"7th-8th\",\"9th\",\"Assoc-acdm\",\"Assoc-voc\",\"Bachelors\",\"Doctorate\",\"HS-grad\",\"Masters\",\"Preschool\",\"Prof-school\",\"Some-college\"],\"xaxis\":\"x3\",\"y\":[0.0796428207088562,0.0935962871153414,0.0492478514381981,0.03281829235409037,0.07752118542958647,0.08003179569560176,0.09764505226155823,0.023085081683802133,-0.005527410618856615,-0.057471249790595036,-0.1894165680027844,0.031890689130342376,-0.13501598786258745,0.06284356582276007,-0.14806205782214973,0.004442463794394114],\"yaxis\":\"y3\",\"type\":\"scatter\"},{\"legendgroup\":\"1\",\"line\":{\"color\":\"#808080\"},\"mode\":\"lines\",\"opacity\":0.1,\"showlegend\":false,\"x\":[\"10th\",\"11th\",\"12th\",\"1st-4th\",\"5th-6th\",\"7th-8th\",\"9th\",\"Assoc-acdm\",\"Assoc-voc\",\"Bachelors\",\"Doctorate\",\"HS-grad\",\"Masters\",\"Preschool\",\"Prof-school\",\"Some-college\"],\"xaxis\":\"x3\",\"y\":[-0.07964282070885617,-0.09359628711534138,-0.04924785143819807,-0.03281829235409037,-0.07752118542958644,-0.08003179569560173,-0.0976450522615582,-0.023085081683802106,0.005527410618856643,0.05747124979059501,0.18941656800278442,-0.031890689130342376,0.13501598786258745,-0.06284356582276004,0.14806205782214976,-0.004442463794394114],\"yaxis\":\"y3\",\"type\":\"scatter\"},{\"legendgroup\":\"0\",\"legendgrouptitle\":{\"text\":\"0\"},\"name\":\"Occupation\",\"x\":[\"Adm-clerical\",\"Armed-Forces\",\"Craft-repair\",\"Exec-managerial\",\"Farming-fishing\",\"Handlers-cleane*\",\"Machine-op-insp*\",\"Other-service\",\"Priv-house-serv\",\"Prof-specialty\",\"Protective-serv\",\"Sales\",\"Tech-support\",\"Transport-movin*\"],\"xaxis\":\"x4\",\"y\":[-0.006806970770217073,0.003815940778016065,0.04182503348683304,-0.07136830997756966,0.10836803237867126,0.03994372112075335,0.030182386000242308,0.0441838452558696,0.027741304954049535,-0.03560246322931806,0.003564488219035343,-0.029821157292059176,-0.06482806789477638,0.05079723882543256],\"yaxis\":\"y4\",\"type\":\"scatter\"},{\"legendgroup\":\"1\",\"legendgrouptitle\":{\"text\":\"1\"},\"name\":\"Occupation\",\"x\":[\"Adm-clerical\",\"Armed-Forces\",\"Craft-repair\",\"Exec-managerial\",\"Farming-fishing\",\"Handlers-cleane*\",\"Machine-op-insp*\",\"Other-service\",\"Priv-house-serv\",\"Prof-specialty\",\"Protective-serv\",\"Sales\",\"Tech-support\",\"Transport-movin*\"],\"xaxis\":\"x4\",\"y\":[0.006806970770217094,-0.0038159407780160165,-0.04182503348683305,0.07136830997756964,-0.10836803237867124,-0.03994372112075331,-0.03018238600024232,-0.04418384525586956,-0.027741304954049487,0.03560246322931805,-0.003564488219035322,0.029821157292059156,0.06482806789477638,-0.050797238825432564],\"yaxis\":\"y4\",\"type\":\"scatter\"},{\"legendgroup\":\"0\",\"line\":{\"color\":\"#808080\"},\"mode\":\"lines\",\"opacity\":0.1,\"showlegend\":false,\"x\":[\"Adm-clerical\",\"Armed-Forces\",\"Craft-repair\",\"Exec-managerial\",\"Farming-fishing\",\"Handlers-cleane*\",\"Machine-op-insp*\",\"Other-service\",\"Priv-house-serv\",\"Prof-specialty\",\"Protective-serv\",\"Sales\",\"Tech-support\",\"Transport-movin*\"],\"xaxis\":\"x4\",\"y\":[-0.005366412244771433,0.012868996719064236,0.04243162557104599,-0.07864898291622603,0.10753158781274785,0.0467694515145165,0.04442621376275628,0.04562102554480168,0.031562379360406026,-0.047674048279263484,0.002602285441291541,-0.024738048669974727,-0.06938783748389406,0.060492639192268674],\"yaxis\":\"y4\",\"type\":\"scatter\"},{\"legendgroup\":\"1\",\"line\":{\"color\":\"#808080\"},\"mode\":\"lines\",\"opacity\":0.1,\"showlegend\":false,\"x\":[\"Adm-clerical\",\"Armed-Forces\",\"Craft-repair\",\"Exec-managerial\",\"Farming-fishing\",\"Handlers-cleane*\",\"Machine-op-insp*\",\"Other-service\",\"Priv-house-serv\",\"Prof-specialty\",\"Protective-serv\",\"Sales\",\"Tech-support\",\"Transport-movin*\"],\"xaxis\":\"x4\",\"y\":[0.005366412244771461,-0.012868996719064194,-0.042431625571046024,0.07864898291622599,-0.10753158781274783,-0.04676945151451646,-0.04442621376275628,-0.045621025544801644,-0.03156237936040598,0.04767404827926345,-0.00260228544129152,0.02473804866997472,0.06938783748389407,-0.060492639192268695],\"yaxis\":\"y4\",\"type\":\"scatter\"},{\"legendgroup\":\"0\",\"line\":{\"color\":\"#808080\"},\"mode\":\"lines\",\"opacity\":0.1,\"showlegend\":false,\"x\":[\"Adm-clerical\",\"Armed-Forces\",\"Craft-repair\",\"Exec-managerial\",\"Farming-fishing\",\"Handlers-cleane*\",\"Machine-op-insp*\",\"Other-service\",\"Priv-house-serv\",\"Prof-specialty\",\"Protective-serv\",\"Sales\",\"Tech-support\",\"Transport-movin*\"],\"xaxis\":\"x4\",\"y\":[-0.013142659616321863,0.0023652120288700854,0.050548406227551,-0.07305777571567279,0.11200357454211804,0.041477273196658324,0.0280749707349717,0.048932245390534354,0.02711683031203726,-0.04122908944565836,0.009040939275365235,-0.028987685559348088,-0.06391216938108454,0.04773927888056872],\"yaxis\":\"y4\",\"type\":\"scatter\"},{\"legendgroup\":\"1\",\"line\":{\"color\":\"#808080\"},\"mode\":\"lines\",\"opacity\":0.1,\"showlegend\":false,\"x\":[\"Adm-clerical\",\"Armed-Forces\",\"Craft-repair\",\"Exec-managerial\",\"Farming-fishing\",\"Handlers-cleane*\",\"Machine-op-insp*\",\"Other-service\",\"Priv-house-serv\",\"Prof-specialty\",\"Protective-serv\",\"Sales\",\"Tech-support\",\"Transport-movin*\"],\"xaxis\":\"x4\",\"y\":[0.013142659616321887,-0.0023652120288700403,-0.05054840622755101,0.07305777571567278,-0.11200357454211801,-0.04147727319665829,-0.028074970734971696,-0.04893224539053434,-0.027116830312037234,0.04122908944565834,-0.009040939275365225,0.02898768555934807,0.06391216938108454,-0.047739278880568725],\"yaxis\":\"y4\",\"type\":\"scatter\"},{\"legendgroup\":\"0\",\"line\":{\"color\":\"#808080\"},\"mode\":\"lines\",\"opacity\":0.1,\"showlegend\":false,\"x\":[\"Adm-clerical\",\"Armed-Forces\",\"Craft-repair\",\"Exec-managerial\",\"Farming-fishing\",\"Handlers-cleane*\",\"Machine-op-insp*\",\"Other-service\",\"Priv-house-serv\",\"Prof-specialty\",\"Protective-serv\",\"Sales\",\"Tech-support\",\"Transport-movin*\"],\"xaxis\":\"x4\",\"y\":[0.006885954731382631,0.013556551000571718,0.038915485636705646,-0.07508739765868856,0.09642695181668079,0.04452331972913655,0.03519899480960579,0.04935073920433358,0.02799023019601213,-0.05075662960732513,-0.012351224347483435,-0.024284328647729714,-0.06555376106509164,0.05626317397045279],\"yaxis\":\"y4\",\"type\":\"scatter\"},{\"legendgroup\":\"1\",\"line\":{\"color\":\"#808080\"},\"mode\":\"lines\",\"opacity\":0.1,\"showlegend\":false,\"x\":[\"Adm-clerical\",\"Armed-Forces\",\"Craft-repair\",\"Exec-managerial\",\"Farming-fishing\",\"Handlers-cleane*\",\"Machine-op-insp*\",\"Other-service\",\"Priv-house-serv\",\"Prof-specialty\",\"Protective-serv\",\"Sales\",\"Tech-support\",\"Transport-movin*\"],\"xaxis\":\"x4\",\"y\":[-0.006885954731382572,-0.013556551000571642,-0.038915485636705674,0.07508739765868852,-0.09642695181668079,-0.044523319729136486,-0.035198994809605776,-0.04935073920433351,-0.027990230196012062,0.05075662960732509,0.012351224347483421,0.024284328647729714,0.06555376106509166,-0.056263173970452815],\"yaxis\":\"y4\",\"type\":\"scatter\"},{\"legendgroup\":\"0\",\"line\":{\"color\":\"#808080\"},\"mode\":\"lines\",\"opacity\":0.1,\"showlegend\":false,\"x\":[\"Adm-clerical\",\"Armed-Forces\",\"Craft-repair\",\"Exec-managerial\",\"Farming-fishing\",\"Handlers-cleane*\",\"Machine-op-insp*\",\"Other-service\",\"Priv-house-serv\",\"Prof-specialty\",\"Protective-serv\",\"Sales\",\"Tech-support\",\"Transport-movin*\"],\"xaxis\":\"x4\",\"y\":[-0.021080037826004316,-0.009556999589156664,0.042763319893664026,-0.05214351730613137,0.11671560918151845,0.03334644100126077,0.01851339408394727,0.04108212500980061,0.02590586182618196,-0.024193102474467494,0.022369219842865468,-0.04331506574661936,-0.09091570696565587,0.06459338352580216],\"yaxis\":\"y4\",\"type\":\"scatter\"},{\"legendgroup\":\"1\",\"line\":{\"color\":\"#808080\"},\"mode\":\"lines\",\"opacity\":0.1,\"showlegend\":false,\"x\":[\"Adm-clerical\",\"Armed-Forces\",\"Craft-repair\",\"Exec-managerial\",\"Farming-fishing\",\"Handlers-cleane*\",\"Machine-op-insp*\",\"Other-service\",\"Priv-house-serv\",\"Prof-specialty\",\"Protective-serv\",\"Sales\",\"Tech-support\",\"Transport-movin*\"],\"xaxis\":\"x4\",\"y\":[0.021080037826004344,0.00955699958915672,-0.042763319893664026,0.05214351730613136,-0.11671560918151841,-0.033346441001260725,-0.01851339408394728,-0.041082125009800574,-0.025905861826181917,0.024193102474467494,-0.02236921984286544,0.043315065746619336,0.09091570696565586,-0.06459338352580217],\"yaxis\":\"y4\",\"type\":\"scatter\"},{\"legendgroup\":\"0\",\"line\":{\"color\":\"#808080\"},\"mode\":\"lines\",\"opacity\":0.1,\"showlegend\":false,\"x\":[\"Adm-clerical\",\"Armed-Forces\",\"Craft-repair\",\"Exec-managerial\",\"Farming-fishing\",\"Handlers-cleane*\",\"Machine-op-insp*\",\"Other-service\",\"Priv-house-serv\",\"Prof-specialty\",\"Protective-serv\",\"Sales\",\"Tech-support\",\"Transport-movin*\"],\"xaxis\":\"x4\",\"y\":[-0.0016011044831375151,0.013333007399799097,0.040841371919724756,-0.07545152616829359,0.09814984455560458,0.05083524260049355,0.03593426527548722,0.05143442779035875,0.04286527501600889,-0.04390463155809036,0.004646150197594907,-0.028734635906017693,-0.0786864582580912,0.05220356010844706],\"yaxis\":\"y4\",\"type\":\"scatter\"},{\"legendgroup\":\"1\",\"line\":{\"color\":\"#808080\"},\"mode\":\"lines\",\"opacity\":0.1,\"showlegend\":false,\"x\":[\"Adm-clerical\",\"Armed-Forces\",\"Craft-repair\",\"Exec-managerial\",\"Farming-fishing\",\"Handlers-cleane*\",\"Machine-op-insp*\",\"Other-service\",\"Priv-house-serv\",\"Prof-specialty\",\"Protective-serv\",\"Sales\",\"Tech-support\",\"Transport-movin*\"],\"xaxis\":\"x4\",\"y\":[0.0016011044831375845,-0.013333007399799014,-0.04084137191972478,0.07545152616829356,-0.09814984455560455,-0.05083524260049348,-0.035934265275487216,-0.051434427790358686,-0.04286527501600882,0.04390463155809032,-0.004646150197594921,0.02873463590601768,0.07868645825809123,-0.052203560108447074],\"yaxis\":\"y4\",\"type\":\"scatter\"},{\"legendgroup\":\"0\",\"line\":{\"color\":\"#808080\"},\"mode\":\"lines\",\"opacity\":0.1,\"showlegend\":false,\"x\":[\"Adm-clerical\",\"Armed-Forces\",\"Craft-repair\",\"Exec-managerial\",\"Farming-fishing\",\"Handlers-cleane*\",\"Machine-op-insp*\",\"Other-service\",\"Priv-house-serv\",\"Prof-specialty\",\"Protective-serv\",\"Sales\",\"Tech-support\",\"Transport-movin*\"],\"xaxis\":\"x4\",\"y\":[-0.01392092377811451,-0.01830155449711747,0.039056241378255384,-0.03481038247284363,0.10623832324704856,0.016149245219222334,0.014986147668868131,0.02339397856838739,-0.00024199174158800497,-0.0026071952712746847,0.03743654143725993,-0.05939284016099648,-0.08378776253668704,0.04850786769620483],\"yaxis\":\"y4\",\"type\":\"scatter\"},{\"legendgroup\":\"1\",\"line\":{\"color\":\"#808080\"},\"mode\":\"lines\",\"opacity\":0.1,\"showlegend\":false,\"x\":[\"Adm-clerical\",\"Armed-Forces\",\"Craft-repair\",\"Exec-managerial\",\"Farming-fishing\",\"Handlers-cleane*\",\"Machine-op-insp*\",\"Other-service\",\"Priv-house-serv\",\"Prof-specialty\",\"Protective-serv\",\"Sales\",\"Tech-support\",\"Transport-movin*\"],\"xaxis\":\"x4\",\"y\":[0.013920923778114526,0.018301554497117515,-0.03905624137825542,0.03481038247284363,-0.10623832324704854,-0.016149245219222303,-0.01498614766886815,-0.023393978568387364,0.00024199174158804227,0.0026071952712746873,-0.037436541437259906,0.05939284016099647,0.08378776253668704,-0.04850786769620485],\"yaxis\":\"y4\",\"type\":\"scatter\"},{\"legendgroup\":\"0\",\"line\":{\"color\":\"#808080\"},\"mode\":\"lines\",\"opacity\":0.1,\"showlegend\":false,\"x\":[\"Adm-clerical\",\"Armed-Forces\",\"Craft-repair\",\"Exec-managerial\",\"Farming-fishing\",\"Handlers-cleane*\",\"Machine-op-insp*\",\"Other-service\",\"Priv-house-serv\",\"Prof-specialty\",\"Protective-serv\",\"Sales\",\"Tech-support\",\"Transport-movin*\"],\"xaxis\":\"x4\",\"y\":[-0.007454348218014342,0.0009411129427392625,0.034308325408317256,-0.0702291124113986,0.10437007245617946,0.03762022459690566,0.03604391065232352,0.04219559322818972,0.02653272964082,-0.03789243876603214,-0.0013653483774832414,-0.021789602097708256,-0.06096435519518993,0.05795241274788071],\"yaxis\":\"y4\",\"type\":\"scatter\"},{\"legendgroup\":\"1\",\"line\":{\"color\":\"#808080\"},\"mode\":\"lines\",\"opacity\":0.1,\"showlegend\":false,\"x\":[\"Adm-clerical\",\"Armed-Forces\",\"Craft-repair\",\"Exec-managerial\",\"Farming-fishing\",\"Handlers-cleane*\",\"Machine-op-insp*\",\"Other-service\",\"Priv-house-serv\",\"Prof-specialty\",\"Protective-serv\",\"Sales\",\"Tech-support\",\"Transport-movin*\"],\"xaxis\":\"x4\",\"y\":[0.0074543482180143665,-0.0009411129427392209,-0.03430832540831728,0.07022911241139858,-0.10437007245617944,-0.037620224596905616,-0.03604391065232354,-0.04219559322818968,-0.026532729640819954,0.03789243876603213,0.0013653483774832727,0.02178960209770821,0.06096435519518992,-0.057952412747880724],\"yaxis\":\"y4\",\"type\":\"scatter\"},{\"legendgroup\":\"0\",\"line\":{\"color\":\"#808080\"},\"mode\":\"lines\",\"opacity\":0.1,\"showlegend\":false,\"x\":[\"Adm-clerical\",\"Armed-Forces\",\"Craft-repair\",\"Exec-managerial\",\"Farming-fishing\",\"Handlers-cleane*\",\"Machine-op-insp*\",\"Other-service\",\"Priv-house-serv\",\"Prof-specialty\",\"Protective-serv\",\"Sales\",\"Tech-support\",\"Transport-movin*\"],\"xaxis\":\"x4\",\"y\":[-0.010049618216743009,-0.008246939813611139,0.03819368925162822,-0.05838501478297336,0.1157980339835199,0.03240570795178469,0.03330465417881238,0.038960843636253545,0.02491881429766204,-0.0411205287255885,0.00550300482309659,-0.029764651868089527,-0.05090348074928112,0.05005260421609745],\"yaxis\":\"y4\",\"type\":\"scatter\"},{\"legendgroup\":\"1\",\"line\":{\"color\":\"#808080\"},\"mode\":\"lines\",\"opacity\":0.1,\"showlegend\":false,\"x\":[\"Adm-clerical\",\"Armed-Forces\",\"Craft-repair\",\"Exec-managerial\",\"Farming-fishing\",\"Handlers-cleane*\",\"Machine-op-insp*\",\"Other-service\",\"Priv-house-serv\",\"Prof-specialty\",\"Protective-serv\",\"Sales\",\"Tech-support\",\"Transport-movin*\"],\"xaxis\":\"x4\",\"y\":[0.010049618216743036,0.008246939813611194,-0.03819368925162824,0.05838501478297333,-0.11579803398351984,-0.03240570795178465,-0.03330465417881238,-0.038960843636253524,-0.024918814297661997,0.041120528725588475,-0.00550300482309659,0.029764651868089513,0.0509034807492811,-0.05005260421609747],\"yaxis\":\"y4\",\"type\":\"scatter\"},{\"legendgroup\":\"0\",\"line\":{\"color\":\"#808080\"},\"mode\":\"lines\",\"opacity\":0.1,\"showlegend\":false,\"x\":[\"Adm-clerical\",\"Armed-Forces\",\"Craft-repair\",\"Exec-managerial\",\"Farming-fishing\",\"Handlers-cleane*\",\"Machine-op-insp*\",\"Other-service\",\"Priv-house-serv\",\"Prof-specialty\",\"Protective-serv\",\"Sales\",\"Tech-support\",\"Transport-movin*\"],\"xaxis\":\"x4\",\"y\":[-0.002193042055631849,0.004503972532136011,0.04389929495490634,-0.07036275494758477,0.10386615775869447,0.04115275688616046,0.01836644742563526,0.04643236646008038,0.02152581899771004,-0.054503869025695845,0.0020756028323158787,-0.0167929237158356,-0.05632845423639647,0.05991671621925106],\"yaxis\":\"y4\",\"type\":\"scatter\"},{\"legendgroup\":\"1\",\"line\":{\"color\":\"#808080\"},\"mode\":\"lines\",\"opacity\":0.1,\"showlegend\":false,\"x\":[\"Adm-clerical\",\"Armed-Forces\",\"Craft-repair\",\"Exec-managerial\",\"Farming-fishing\",\"Handlers-cleane*\",\"Machine-op-insp*\",\"Other-service\",\"Priv-house-serv\",\"Prof-specialty\",\"Protective-serv\",\"Sales\",\"Tech-support\",\"Transport-movin*\"],\"xaxis\":\"x4\",\"y\":[0.002193042055631887,-0.004503972532135955,-0.04389929495490637,0.07036275494758473,-0.10386615775869446,-0.04115275688616041,-0.018366447425635257,-0.04643236646008034,-0.021525818997709993,0.054503869025695824,-0.0020756028323158857,0.016792923715835587,0.056328454236396465,-0.05991671621925108],\"yaxis\":\"y4\",\"type\":\"scatter\"},{\"legendgroup\":\"0\",\"line\":{\"color\":\"#808080\"},\"mode\":\"lines\",\"opacity\":0.1,\"showlegend\":false,\"x\":[\"Adm-clerical\",\"Armed-Forces\",\"Craft-repair\",\"Exec-managerial\",\"Farming-fishing\",\"Handlers-cleane*\",\"Machine-op-insp*\",\"Other-service\",\"Priv-house-serv\",\"Prof-specialty\",\"Protective-serv\",\"Sales\",\"Tech-support\",\"Transport-movin*\"],\"xaxis\":\"x4\",\"y\":[-0.02574573366068828,-0.017578964713166403,0.04466628339717853,-0.04657992839777841,0.11053200144103148,0.028887595710402666,0.01786499136501525,0.03293650989830002,0.015890403963715195,-0.010386768071321321,0.03590326363758171,-0.04550679087760448,-0.07971773748503652,0.04014242848620659],\"yaxis\":\"y4\",\"type\":\"scatter\"},{\"legendgroup\":\"1\",\"line\":{\"color\":\"#808080\"},\"mode\":\"lines\",\"opacity\":0.1,\"showlegend\":false,\"x\":[\"Adm-clerical\",\"Armed-Forces\",\"Craft-repair\",\"Exec-managerial\",\"Farming-fishing\",\"Handlers-cleane*\",\"Machine-op-insp*\",\"Other-service\",\"Priv-house-serv\",\"Prof-specialty\",\"Protective-serv\",\"Sales\",\"Tech-support\",\"Transport-movin*\"],\"xaxis\":\"x4\",\"y\":[0.025745733660688327,0.01757896471316647,-0.044666283397178555,0.046579928397778345,-0.11053200144103147,-0.0288875957104026,-0.017864991365015234,-0.032936509898299965,-0.015890403963715122,0.010386768071321256,-0.03590326363758173,0.045506790877604494,0.07971773748503655,-0.04014242848620658],\"yaxis\":\"y4\",\"type\":\"scatter\"},{\"legendgroup\":\"0\",\"legendgrouptitle\":{\"text\":\"0\"},\"name\":\"Relationsh*\",\"x\":[\"Married\",\"Not-in-family\",\"Other-relative\",\"Own-child\",\"Unmarried\"],\"xaxis\":\"x5\",\"y\":[-0.16733539473375256,0.1333666234187393,0.14347922305622493,0.16166535472624746,0.1384981562676836],\"yaxis\":\"y5\",\"type\":\"scatter\"},{\"legendgroup\":\"1\",\"legendgrouptitle\":{\"text\":\"1\"},\"name\":\"Relationsh*\",\"x\":[\"Married\",\"Not-in-family\",\"Other-relative\",\"Own-child\",\"Unmarried\"],\"xaxis\":\"x5\",\"y\":[0.16733539473375256,-0.13336662341873926,-0.14347922305622487,-0.1616653547262474,-0.13849815626768355],\"yaxis\":\"y5\",\"type\":\"scatter\"},{\"legendgroup\":\"0\",\"line\":{\"color\":\"#808080\"},\"mode\":\"lines\",\"opacity\":0.1,\"showlegend\":false,\"x\":[\"Married\",\"Not-in-family\",\"Other-relative\",\"Own-child\",\"Unmarried\"],\"xaxis\":\"x5\",\"y\":[-0.16206750837924636,0.12981355308802286,0.13796459777195016,0.15813672784965152,0.13137928789776662],\"yaxis\":\"y5\",\"type\":\"scatter\"},{\"legendgroup\":\"1\",\"line\":{\"color\":\"#808080\"},\"mode\":\"lines\",\"opacity\":0.1,\"showlegend\":false,\"x\":[\"Married\",\"Not-in-family\",\"Other-relative\",\"Own-child\",\"Unmarried\"],\"xaxis\":\"x5\",\"y\":[0.16206750837924636,-0.12981355308802286,-0.13796459777195016,-0.15813672784965152,-0.13137928789776662],\"yaxis\":\"y5\",\"type\":\"scatter\"},{\"legendgroup\":\"0\",\"line\":{\"color\":\"#808080\"},\"mode\":\"lines\",\"opacity\":0.1,\"showlegend\":false,\"x\":[\"Married\",\"Not-in-family\",\"Other-relative\",\"Own-child\",\"Unmarried\"],\"xaxis\":\"x5\",\"y\":[-0.1628963531345501,0.13727705415831026,0.13254593369457807,0.1458235607043073,0.1354658097435748],\"yaxis\":\"y5\",\"type\":\"scatter\"},{\"legendgroup\":\"1\",\"line\":{\"color\":\"#808080\"},\"mode\":\"lines\",\"opacity\":0.1,\"showlegend\":false,\"x\":[\"Married\",\"Not-in-family\",\"Other-relative\",\"Own-child\",\"Unmarried\"],\"xaxis\":\"x5\",\"y\":[0.16289635313455003,-0.13727705415831026,-0.132545933694578,-0.14582356070430724,-0.13546580974357475],\"yaxis\":\"y5\",\"type\":\"scatter\"},{\"legendgroup\":\"0\",\"line\":{\"color\":\"#808080\"},\"mode\":\"lines\",\"opacity\":0.1,\"showlegend\":false,\"x\":[\"Married\",\"Not-in-family\",\"Other-relative\",\"Own-child\",\"Unmarried\"],\"xaxis\":\"x5\",\"y\":[-0.17320207848747005,0.13871899863538917,0.14901270424257718,0.16660550426927745,0.1433510245978526],\"yaxis\":\"y5\",\"type\":\"scatter\"},{\"legendgroup\":\"1\",\"line\":{\"color\":\"#808080\"},\"mode\":\"lines\",\"opacity\":0.1,\"showlegend\":false,\"x\":[\"Married\",\"Not-in-family\",\"Other-relative\",\"Own-child\",\"Unmarried\"],\"xaxis\":\"x5\",\"y\":[0.17320207848747002,-0.1387189986353892,-0.1490127042425771,-0.16660550426927742,-0.14335102459785257],\"yaxis\":\"y5\",\"type\":\"scatter\"},{\"legendgroup\":\"0\",\"line\":{\"color\":\"#808080\"},\"mode\":\"lines\",\"opacity\":0.1,\"showlegend\":false,\"x\":[\"Married\",\"Not-in-family\",\"Other-relative\",\"Own-child\",\"Unmarried\"],\"xaxis\":\"x5\",\"y\":[-0.16653547293588766,0.1325461858569854,0.14140712997967514,0.16252166588479217,0.13715137406369787],\"yaxis\":\"y5\",\"type\":\"scatter\"},{\"legendgroup\":\"1\",\"line\":{\"color\":\"#808080\"},\"mode\":\"lines\",\"opacity\":0.1,\"showlegend\":false,\"x\":[\"Married\",\"Not-in-family\",\"Other-relative\",\"Own-child\",\"Unmarried\"],\"xaxis\":\"x5\",\"y\":[0.16653547293588766,-0.1325461858569854,-0.14140712997967514,-0.16252166588479217,-0.13715137406369787],\"yaxis\":\"y5\",\"type\":\"scatter\"},{\"legendgroup\":\"0\",\"line\":{\"color\":\"#808080\"},\"mode\":\"lines\",\"opacity\":0.1,\"showlegend\":false,\"x\":[\"Married\",\"Not-in-family\",\"Other-relative\",\"Own-child\",\"Unmarried\"],\"xaxis\":\"x5\",\"y\":[-0.1716330850738447,0.13797024997406107,0.14778636318192154,0.1637010253248987,0.1427242129469112],\"yaxis\":\"y5\",\"type\":\"scatter\"},{\"legendgroup\":\"1\",\"line\":{\"color\":\"#808080\"},\"mode\":\"lines\",\"opacity\":0.1,\"showlegend\":false,\"x\":[\"Married\",\"Not-in-family\",\"Other-relative\",\"Own-child\",\"Unmarried\"],\"xaxis\":\"x5\",\"y\":[0.1716330850738447,-0.13797024997406107,-0.14778636318192154,-0.1637010253248987,-0.14272421294691115],\"yaxis\":\"y5\",\"type\":\"scatter\"},{\"legendgroup\":\"0\",\"line\":{\"color\":\"#808080\"},\"mode\":\"lines\",\"opacity\":0.1,\"showlegend\":false,\"x\":[\"Married\",\"Not-in-family\",\"Other-relative\",\"Own-child\",\"Unmarried\"],\"xaxis\":\"x5\",\"y\":[-0.16864723228072304,0.13461589503382843,0.14861900448351584,0.16520526104768313,0.13551487605241336],\"yaxis\":\"y5\",\"type\":\"scatter\"},{\"legendgroup\":\"1\",\"line\":{\"color\":\"#808080\"},\"mode\":\"lines\",\"opacity\":0.1,\"showlegend\":false,\"x\":[\"Married\",\"Not-in-family\",\"Other-relative\",\"Own-child\",\"Unmarried\"],\"xaxis\":\"x5\",\"y\":[0.16864723228072304,-0.13461589503382843,-0.14861900448351584,-0.16520526104768313,-0.13551487605241336],\"yaxis\":\"y5\",\"type\":\"scatter\"},{\"legendgroup\":\"0\",\"line\":{\"color\":\"#808080\"},\"mode\":\"lines\",\"opacity\":0.1,\"showlegend\":false,\"x\":[\"Married\",\"Not-in-family\",\"Other-relative\",\"Own-child\",\"Unmarried\"],\"xaxis\":\"x5\",\"y\":[-0.16766544910333722,0.1332775310646304,0.1416122276114025,0.16121298052555058,0.14209312237741142],\"yaxis\":\"y5\",\"type\":\"scatter\"},{\"legendgroup\":\"1\",\"line\":{\"color\":\"#808080\"},\"mode\":\"lines\",\"opacity\":0.1,\"showlegend\":false,\"x\":[\"Married\",\"Not-in-family\",\"Other-relative\",\"Own-child\",\"Unmarried\"],\"xaxis\":\"x5\",\"y\":[0.16766544910333722,-0.1332775310646304,-0.1416122276114025,-0.16121298052555058,-0.14209312237741142],\"yaxis\":\"y5\",\"type\":\"scatter\"},{\"legendgroup\":\"0\",\"line\":{\"color\":\"#808080\"},\"mode\":\"lines\",\"opacity\":0.1,\"showlegend\":false,\"x\":[\"Married\",\"Not-in-family\",\"Other-relative\",\"Own-child\",\"Unmarried\"],\"xaxis\":\"x5\",\"y\":[-0.1678801116825497,0.13434478961014226,0.14471599455890258,0.1635282287587063,0.1362767624041117],\"yaxis\":\"y5\",\"type\":\"scatter\"},{\"legendgroup\":\"1\",\"line\":{\"color\":\"#808080\"},\"mode\":\"lines\",\"opacity\":0.1,\"showlegend\":false,\"x\":[\"Married\",\"Not-in-family\",\"Other-relative\",\"Own-child\",\"Unmarried\"],\"xaxis\":\"x5\",\"y\":[0.1678801116825497,-0.13434478961014226,-0.14471599455890258,-0.1635282287587063,-0.1362767624041117],\"yaxis\":\"y5\",\"type\":\"scatter\"},{\"legendgroup\":\"0\",\"line\":{\"color\":\"#808080\"},\"mode\":\"lines\",\"opacity\":0.1,\"showlegend\":false,\"x\":[\"Married\",\"Not-in-family\",\"Other-relative\",\"Own-child\",\"Unmarried\"],\"xaxis\":\"x5\",\"y\":[-0.16738815214133204,0.13749376157058582,0.14570293118345493,0.15638950898343876,0.1360961862117612],\"yaxis\":\"y5\",\"type\":\"scatter\"},{\"legendgroup\":\"1\",\"line\":{\"color\":\"#808080\"},\"mode\":\"lines\",\"opacity\":0.1,\"showlegend\":false,\"x\":[\"Married\",\"Not-in-family\",\"Other-relative\",\"Own-child\",\"Unmarried\"],\"xaxis\":\"x5\",\"y\":[0.16738815214133204,-0.13749376157058582,-0.14570293118345493,-0.15638950898343876,-0.1360961862117612],\"yaxis\":\"y5\",\"type\":\"scatter\"},{\"legendgroup\":\"0\",\"line\":{\"color\":\"#808080\"},\"mode\":\"lines\",\"opacity\":0.1,\"showlegend\":false,\"x\":[\"Married\",\"Not-in-family\",\"Other-relative\",\"Own-child\",\"Unmarried\"],\"xaxis\":\"x5\",\"y\":[-0.16534015419765064,0.13625689544565245,0.14183929919536986,0.15732086949487772,0.1299375265887041],\"yaxis\":\"y5\",\"type\":\"scatter\"},{\"legendgroup\":\"1\",\"line\":{\"color\":\"#808080\"},\"mode\":\"lines\",\"opacity\":0.1,\"showlegend\":false,\"x\":[\"Married\",\"Not-in-family\",\"Other-relative\",\"Own-child\",\"Unmarried\"],\"xaxis\":\"x5\",\"y\":[0.16534015419765064,-0.13625689544565245,-0.14183929919536986,-0.15732086949487772,-0.1299375265887041],\"yaxis\":\"y5\",\"type\":\"scatter\"},{\"legendgroup\":\"0\",\"legendgrouptitle\":{\"text\":\"0\"},\"name\":\"Race\",\"x\":[\"Amer-Indian-Esk*\",\"Asian-Pac-Islan*\",\"Black\",\"Other\",\"White\"],\"xaxis\":\"x6\",\"y\":[0.03034541094490347,0.0018047786967613846,0.02834042797898231,0.03223247769937248,-0.0037574379441693215],\"yaxis\":\"y6\",\"type\":\"scatter\"},{\"legendgroup\":\"1\",\"legendgrouptitle\":{\"text\":\"1\"},\"name\":\"Race\",\"x\":[\"Amer-Indian-Esk*\",\"Asian-Pac-Islan*\",\"Black\",\"Other\",\"White\"],\"xaxis\":\"x6\",\"y\":[-0.030345410944903436,-0.0018047786967613534,-0.02834042797898227,-0.032232477699372444,0.0037574379441693215],\"yaxis\":\"y6\",\"type\":\"scatter\"},{\"legendgroup\":\"0\",\"line\":{\"color\":\"#808080\"},\"mode\":\"lines\",\"opacity\":0.1,\"showlegend\":false,\"x\":[\"Amer-Indian-Esk*\",\"Asian-Pac-Islan*\",\"Black\",\"Other\",\"White\"],\"xaxis\":\"x6\",\"y\":[0.03183466351923994,-8.343110813711224e-05,0.027847717304840307,0.029460557305112774,-0.003599296573949272],\"yaxis\":\"y6\",\"type\":\"scatter\"},{\"legendgroup\":\"1\",\"line\":{\"color\":\"#808080\"},\"mode\":\"lines\",\"opacity\":0.1,\"showlegend\":false,\"x\":[\"Amer-Indian-Esk*\",\"Asian-Pac-Islan*\",\"Black\",\"Other\",\"White\"],\"xaxis\":\"x6\",\"y\":[-0.031834663519239914,8.343110813713306e-05,-0.027847717304840282,-0.029460557305112742,0.0035992965739492684],\"yaxis\":\"y6\",\"type\":\"scatter\"},{\"legendgroup\":\"0\",\"line\":{\"color\":\"#808080\"},\"mode\":\"lines\",\"opacity\":0.1,\"showlegend\":false,\"x\":[\"Amer-Indian-Esk*\",\"Asian-Pac-Islan*\",\"Black\",\"Other\",\"White\"],\"xaxis\":\"x6\",\"y\":[0.031374756054185944,-0.0019236365031006022,0.0252520017015374,0.02783815924535335,-0.0032357961271220134],\"yaxis\":\"y6\",\"type\":\"scatter\"},{\"legendgroup\":\"1\",\"line\":{\"color\":\"#808080\"},\"mode\":\"lines\",\"opacity\":0.1,\"showlegend\":false,\"x\":[\"Amer-Indian-Esk*\",\"Asian-Pac-Islan*\",\"Black\",\"Other\",\"White\"],\"xaxis\":\"x6\",\"y\":[-0.03137475605418591,0.0019236365031006265,-0.02525200170153737,-0.027838159245353312,0.00323579612712201],\"yaxis\":\"y6\",\"type\":\"scatter\"},{\"legendgroup\":\"0\",\"line\":{\"color\":\"#808080\"},\"mode\":\"lines\",\"opacity\":0.1,\"showlegend\":false,\"x\":[\"Amer-Indian-Esk*\",\"Asian-Pac-Islan*\",\"Black\",\"Other\",\"White\"],\"xaxis\":\"x6\",\"y\":[0.030442135746559733,0.002799768386288898,0.018756822887381182,0.033679146627968934,-0.0027397958396770603],\"yaxis\":\"y6\",\"type\":\"scatter\"},{\"legendgroup\":\"1\",\"line\":{\"color\":\"#808080\"},\"mode\":\"lines\",\"opacity\":0.1,\"showlegend\":false,\"x\":[\"Amer-Indian-Esk*\",\"Asian-Pac-Islan*\",\"Black\",\"Other\",\"White\"],\"xaxis\":\"x6\",\"y\":[-0.030442135746559705,-0.0027997683862888735,-0.01875682288738116,-0.03367914662796891,0.0027397958396770533],\"yaxis\":\"y6\",\"type\":\"scatter\"},{\"legendgroup\":\"0\",\"line\":{\"color\":\"#808080\"},\"mode\":\"lines\",\"opacity\":0.1,\"showlegend\":false,\"x\":[\"Amer-Indian-Esk*\",\"Asian-Pac-Islan*\",\"Black\",\"Other\",\"White\"],\"xaxis\":\"x6\",\"y\":[0.032124655593542634,0.0003588871576496004,0.024754175131118557,0.025278501785282414,-0.003246556078694316],\"yaxis\":\"y6\",\"type\":\"scatter\"},{\"legendgroup\":\"1\",\"line\":{\"color\":\"#808080\"},\"mode\":\"lines\",\"opacity\":0.1,\"showlegend\":false,\"x\":[\"Amer-Indian-Esk*\",\"Asian-Pac-Islan*\",\"Black\",\"Other\",\"White\"],\"xaxis\":\"x6\",\"y\":[-0.0321246555935426,-0.00035888715764957266,-0.024754175131118522,-0.025278501785282376,0.0032465560786943126],\"yaxis\":\"y6\",\"type\":\"scatter\"},{\"legendgroup\":\"0\",\"line\":{\"color\":\"#808080\"},\"mode\":\"lines\",\"opacity\":0.1,\"showlegend\":false,\"x\":[\"Amer-Indian-Esk*\",\"Asian-Pac-Islan*\",\"Black\",\"Other\",\"White\"],\"xaxis\":\"x6\",\"y\":[0.030434931462158872,-0.0008627735322629254,0.025247531522259968,0.03543773574764717,-0.0033293434129060065],\"yaxis\":\"y6\",\"type\":\"scatter\"},{\"legendgroup\":\"1\",\"line\":{\"color\":\"#808080\"},\"mode\":\"lines\",\"opacity\":0.1,\"showlegend\":false,\"x\":[\"Amer-Indian-Esk*\",\"Asian-Pac-Islan*\",\"Black\",\"Other\",\"White\"],\"xaxis\":\"x6\",\"y\":[-0.030434931462158837,0.0008627735322629532,-0.02524753152225995,-0.035437735747647144,0.0033293434129059996],\"yaxis\":\"y6\",\"type\":\"scatter\"},{\"legendgroup\":\"0\",\"line\":{\"color\":\"#808080\"},\"mode\":\"lines\",\"opacity\":0.1,\"showlegend\":false,\"x\":[\"Amer-Indian-Esk*\",\"Asian-Pac-Islan*\",\"Black\",\"Other\",\"White\"],\"xaxis\":\"x6\",\"y\":[0.031234082286331358,0.0042714739692912215,0.020150100909088826,0.022357354942296292,-0.002849883077795559],\"yaxis\":\"y6\",\"type\":\"scatter\"},{\"legendgroup\":\"1\",\"line\":{\"color\":\"#808080\"},\"mode\":\"lines\",\"opacity\":0.1,\"showlegend\":false,\"x\":[\"Amer-Indian-Esk*\",\"Asian-Pac-Islan*\",\"Black\",\"Other\",\"White\"],\"xaxis\":\"x6\",\"y\":[-0.031234082286331323,-0.004271473969291194,-0.020150100909088788,-0.022357354942296265,0.0028498830777955522],\"yaxis\":\"y6\",\"type\":\"scatter\"},{\"legendgroup\":\"0\",\"line\":{\"color\":\"#808080\"},\"mode\":\"lines\",\"opacity\":0.1,\"showlegend\":false,\"x\":[\"Amer-Indian-Esk*\",\"Asian-Pac-Islan*\",\"Black\",\"Other\",\"White\"],\"xaxis\":\"x6\",\"y\":[0.029168756470333766,0.005072385916514731,0.0195940687155477,0.026272492289859735,-0.0028305204282438566],\"yaxis\":\"y6\",\"type\":\"scatter\"},{\"legendgroup\":\"1\",\"line\":{\"color\":\"#808080\"},\"mode\":\"lines\",\"opacity\":0.1,\"showlegend\":false,\"x\":[\"Amer-Indian-Esk*\",\"Asian-Pac-Islan*\",\"Black\",\"Other\",\"White\"],\"xaxis\":\"x6\",\"y\":[-0.029168756470333727,-0.005072385916514696,-0.019594068715547662,-0.0262724922898597,0.002830520428243853],\"yaxis\":\"y6\",\"type\":\"scatter\"},{\"legendgroup\":\"0\",\"line\":{\"color\":\"#808080\"},\"mode\":\"lines\",\"opacity\":0.1,\"showlegend\":false,\"x\":[\"Amer-Indian-Esk*\",\"Asian-Pac-Islan*\",\"Black\",\"Other\",\"White\"],\"xaxis\":\"x6\",\"y\":[0.03135623191577916,0.0034300381068628066,0.02750379876149706,0.03394342435677675,-0.0037186880860184263],\"yaxis\":\"y6\",\"type\":\"scatter\"},{\"legendgroup\":\"1\",\"line\":{\"color\":\"#808080\"},\"mode\":\"lines\",\"opacity\":0.1,\"showlegend\":false,\"x\":[\"Amer-Indian-Esk*\",\"Asian-Pac-Islan*\",\"Black\",\"Other\",\"White\"],\"xaxis\":\"x6\",\"y\":[-0.03135623191577913,-0.0034300381068627823,-0.02750379876149703,-0.03394342435677671,0.0037186880860184193],\"yaxis\":\"y6\",\"type\":\"scatter\"},{\"legendgroup\":\"0\",\"line\":{\"color\":\"#808080\"},\"mode\":\"lines\",\"opacity\":0.1,\"showlegend\":false,\"x\":[\"Amer-Indian-Esk*\",\"Asian-Pac-Islan*\",\"Black\",\"Other\",\"White\"],\"xaxis\":\"x6\",\"y\":[0.031350476223546794,0.003923765976008742,0.025496937372384117,0.02832374651582839,-0.0034693693507718976],\"yaxis\":\"y6\",\"type\":\"scatter\"},{\"legendgroup\":\"1\",\"line\":{\"color\":\"#808080\"},\"mode\":\"lines\",\"opacity\":0.1,\"showlegend\":false,\"x\":[\"Amer-Indian-Esk*\",\"Asian-Pac-Islan*\",\"Black\",\"Other\",\"White\"],\"xaxis\":\"x6\",\"y\":[-0.03135047622354677,-0.0039237659760087105,-0.02549693737238408,-0.02832374651582836,0.003469369350771894],\"yaxis\":\"y6\",\"type\":\"scatter\"},{\"legendgroup\":\"0\",\"line\":{\"color\":\"#808080\"},\"mode\":\"lines\",\"opacity\":0.1,\"showlegend\":false,\"x\":[\"Amer-Indian-Esk*\",\"Asian-Pac-Islan*\",\"Black\",\"Other\",\"White\"],\"xaxis\":\"x6\",\"y\":[0.027159967045522655,-5.830029657426239e-05,0.03607897195070102,0.03694130627066896,-0.004506563337811548],\"yaxis\":\"y6\",\"type\":\"scatter\"},{\"legendgroup\":\"1\",\"line\":{\"color\":\"#808080\"},\"mode\":\"lines\",\"opacity\":0.1,\"showlegend\":false,\"x\":[\"Amer-Indian-Esk*\",\"Asian-Pac-Islan*\",\"Black\",\"Other\",\"White\"],\"xaxis\":\"x6\",\"y\":[-0.02715996704552262,5.8300296574290145e-05,-0.03607897195070099,-0.036941306270668925,0.004506563337811548],\"yaxis\":\"y6\",\"type\":\"scatter\"},{\"legendgroup\":\"0\",\"legendgrouptitle\":{\"text\":\"0\"},\"name\":\"Sex\",\"x\":[\"Female\",\"Male\"],\"xaxis\":\"x7\",\"y\":[-0.0019259155662021859,0.0014119481139121361],\"yaxis\":\"y7\",\"type\":\"scatter\"},{\"legendgroup\":\"1\",\"legendgrouptitle\":{\"text\":\"1\"},\"name\":\"Sex\",\"x\":[\"Female\",\"Male\"],\"xaxis\":\"x7\",\"y\":[0.00192591556620219,-0.001411948113912139],\"yaxis\":\"y7\",\"type\":\"scatter\"},{\"legendgroup\":\"0\",\"line\":{\"color\":\"#808080\"},\"mode\":\"lines\",\"opacity\":0.1,\"showlegend\":false,\"x\":[\"Female\",\"Male\"],\"xaxis\":\"x7\",\"y\":[-0.007314484540709411,0.005362754271073881],\"yaxis\":\"y7\",\"type\":\"scatter\"},{\"legendgroup\":\"1\",\"line\":{\"color\":\"#808080\"},\"mode\":\"lines\",\"opacity\":0.1,\"showlegend\":false,\"x\":[\"Female\",\"Male\"],\"xaxis\":\"x7\",\"y\":[0.007314484540709411,-0.005362754271073881],\"yaxis\":\"y7\",\"type\":\"scatter\"},{\"legendgroup\":\"0\",\"line\":{\"color\":\"#808080\"},\"mode\":\"lines\",\"opacity\":0.1,\"showlegend\":false,\"x\":[\"Female\",\"Male\"],\"xaxis\":\"x7\",\"y\":[-0.003815799158454901,0.0027976261513267863],\"yaxis\":\"y7\",\"type\":\"scatter\"},{\"legendgroup\":\"1\",\"line\":{\"color\":\"#808080\"},\"mode\":\"lines\",\"opacity\":0.1,\"showlegend\":false,\"x\":[\"Female\",\"Male\"],\"xaxis\":\"x7\",\"y\":[0.003815799158454903,-0.0027976261513267876],\"yaxis\":\"y7\",\"type\":\"scatter\"},{\"legendgroup\":\"0\",\"line\":{\"color\":\"#808080\"},\"mode\":\"lines\",\"opacity\":0.1,\"showlegend\":false,\"x\":[\"Female\",\"Male\"],\"xaxis\":\"x7\",\"y\":[-0.0025053768003181326,0.0018368649303690224],\"yaxis\":\"y7\",\"type\":\"scatter\"},{\"legendgroup\":\"1\",\"line\":{\"color\":\"#808080\"},\"mode\":\"lines\",\"opacity\":0.1,\"showlegend\":false,\"x\":[\"Female\",\"Male\"],\"xaxis\":\"x7\",\"y\":[0.0025053768003181365,-0.0018368649303690254],\"yaxis\":\"y7\",\"type\":\"scatter\"},{\"legendgroup\":\"0\",\"line\":{\"color\":\"#808080\"},\"mode\":\"lines\",\"opacity\":0.1,\"showlegend\":false,\"x\":[\"Female\",\"Male\"],\"xaxis\":\"x7\",\"y\":[-0.0006398094061745608,0.00046908850603751397],\"yaxis\":\"y7\",\"type\":\"scatter\"},{\"legendgroup\":\"1\",\"line\":{\"color\":\"#808080\"},\"mode\":\"lines\",\"opacity\":0.1,\"showlegend\":false,\"x\":[\"Female\",\"Male\"],\"xaxis\":\"x7\",\"y\":[0.0006398094061745618,-0.00046908850603751483],\"yaxis\":\"y7\",\"type\":\"scatter\"},{\"legendgroup\":\"0\",\"line\":{\"color\":\"#808080\"},\"mode\":\"lines\",\"opacity\":0.1,\"showlegend\":false,\"x\":[\"Female\",\"Male\"],\"xaxis\":\"x7\",\"y\":[-0.00041664147624369117,0.000305468668885269],\"yaxis\":\"y7\",\"type\":\"scatter\"},{\"legendgroup\":\"1\",\"line\":{\"color\":\"#808080\"},\"mode\":\"lines\",\"opacity\":0.1,\"showlegend\":false,\"x\":[\"Female\",\"Male\"],\"xaxis\":\"x7\",\"y\":[0.00041664147624369887,-0.0003054686688852746],\"yaxis\":\"y7\",\"type\":\"scatter\"},{\"legendgroup\":\"0\",\"line\":{\"color\":\"#808080\"},\"mode\":\"lines\",\"opacity\":0.1,\"showlegend\":false,\"x\":[\"Female\",\"Male\"],\"xaxis\":\"x7\",\"y\":[-0.0010895899679910857,0.0007988537294791704],\"yaxis\":\"y7\",\"type\":\"scatter\"},{\"legendgroup\":\"1\",\"line\":{\"color\":\"#808080\"},\"mode\":\"lines\",\"opacity\":0.1,\"showlegend\":false,\"x\":[\"Female\",\"Male\"],\"xaxis\":\"x7\",\"y\":[0.0010895899679910907,-0.0007988537294791741],\"yaxis\":\"y7\",\"type\":\"scatter\"},{\"legendgroup\":\"0\",\"line\":{\"color\":\"#808080\"},\"mode\":\"lines\",\"opacity\":0.1,\"showlegend\":false,\"x\":[\"Female\",\"Male\"],\"xaxis\":\"x7\",\"y\":[-0.00026303058915819183,0.00019284590835902784],\"yaxis\":\"y7\",\"type\":\"scatter\"},{\"legendgroup\":\"1\",\"line\":{\"color\":\"#808080\"},\"mode\":\"lines\",\"opacity\":0.1,\"showlegend\":false,\"x\":[\"Female\",\"Male\"],\"xaxis\":\"x7\",\"y\":[0.0002630305891581994,-0.00019284590835903336],\"yaxis\":\"y7\",\"type\":\"scatter\"},{\"legendgroup\":\"0\",\"line\":{\"color\":\"#808080\"},\"mode\":\"lines\",\"opacity\":0.1,\"showlegend\":false,\"x\":[\"Female\",\"Male\"],\"xaxis\":\"x7\",\"y\":[0.0007049240854664472,-0.0005168285788394593],\"yaxis\":\"y7\",\"type\":\"scatter\"},{\"legendgroup\":\"1\",\"line\":{\"color\":\"#808080\"},\"mode\":\"lines\",\"opacity\":0.1,\"showlegend\":false,\"x\":[\"Female\",\"Male\"],\"xaxis\":\"x7\",\"y\":[-0.0007049240854664398,0.0005168285788394539],\"yaxis\":\"y7\",\"type\":\"scatter\"},{\"legendgroup\":\"0\",\"line\":{\"color\":\"#808080\"},\"mode\":\"lines\",\"opacity\":0.1,\"showlegend\":false,\"x\":[\"Female\",\"Male\"],\"xaxis\":\"x7\",\"y\":[0.003792442434723372,-0.002780501722496234],\"yaxis\":\"y7\",\"type\":\"scatter\"},{\"legendgroup\":\"1\",\"line\":{\"color\":\"#808080\"},\"mode\":\"lines\",\"opacity\":0.1,\"showlegend\":false,\"x\":[\"Female\",\"Male\"],\"xaxis\":\"x7\",\"y\":[-0.003792442434723369,0.002780501722496232],\"yaxis\":\"y7\",\"type\":\"scatter\"},{\"legendgroup\":\"0\",\"line\":{\"color\":\"#808080\"},\"mode\":\"lines\",\"opacity\":0.1,\"showlegend\":false,\"x\":[\"Female\",\"Male\"],\"xaxis\":\"x7\",\"y\":[-0.005442560375125128,0.0039903172581521335],\"yaxis\":\"y7\",\"type\":\"scatter\"},{\"legendgroup\":\"1\",\"line\":{\"color\":\"#808080\"},\"mode\":\"lines\",\"opacity\":0.1,\"showlegend\":false,\"x\":[\"Female\",\"Male\"],\"xaxis\":\"x7\",\"y\":[0.005442560375125131,-0.003990317258152137],\"yaxis\":\"y7\",\"type\":\"scatter\"},{\"legendgroup\":\"0\",\"legendgrouptitle\":{\"text\":\"0\"},\"name\":\"Hours per *\",\"x\":[\"BrainDrain\",\"FullTime\",\"MidTime\",\"OverTime\",\"PartTime\"],\"xaxis\":\"x8\",\"y\":[-0.04644632061909239,0.004402503637364413,0.04069208563391835,-0.04486637611411262,0.0677470754192453],\"yaxis\":\"y8\",\"type\":\"scatter\"},{\"legendgroup\":\"1\",\"legendgrouptitle\":{\"text\":\"1\"},\"name\":\"Hours per *\",\"x\":[\"BrainDrain\",\"FullTime\",\"MidTime\",\"OverTime\",\"PartTime\"],\"xaxis\":\"x8\",\"y\":[0.04644632061909242,-0.004402503637364427,-0.04069208563391833,0.04486637611411262,-0.06774707541924527],\"yaxis\":\"y8\",\"type\":\"scatter\"},{\"legendgroup\":\"0\",\"line\":{\"color\":\"#808080\"},\"mode\":\"lines\",\"opacity\":0.1,\"showlegend\":false,\"x\":[\"BrainDrain\",\"FullTime\",\"MidTime\",\"OverTime\",\"PartTime\"],\"xaxis\":\"x8\",\"y\":[-0.04710347636951674,0.0037404625734394625,0.03831061445246278,-0.0454430732874655,0.07478821890667768],\"yaxis\":\"y8\",\"type\":\"scatter\"},{\"legendgroup\":\"1\",\"line\":{\"color\":\"#808080\"},\"mode\":\"lines\",\"opacity\":0.1,\"showlegend\":false,\"x\":[\"BrainDrain\",\"FullTime\",\"MidTime\",\"OverTime\",\"PartTime\"],\"xaxis\":\"x8\",\"y\":[0.04710347636951677,-0.0037404625734394625,-0.038310614452462755,0.0454430732874655,-0.07478821890667765],\"yaxis\":\"y8\",\"type\":\"scatter\"},{\"legendgroup\":\"0\",\"line\":{\"color\":\"#808080\"},\"mode\":\"lines\",\"opacity\":0.1,\"showlegend\":false,\"x\":[\"BrainDrain\",\"FullTime\",\"MidTime\",\"OverTime\",\"PartTime\"],\"xaxis\":\"x8\",\"y\":[-0.03576860703820819,0.0036865006350749047,0.04216025712782157,-0.05198884224238741,0.07534117111541508],\"yaxis\":\"y8\",\"type\":\"scatter\"},{\"legendgroup\":\"1\",\"line\":{\"color\":\"#808080\"},\"mode\":\"lines\",\"opacity\":0.1,\"showlegend\":false,\"x\":[\"BrainDrain\",\"FullTime\",\"MidTime\",\"OverTime\",\"PartTime\"],\"xaxis\":\"x8\",\"y\":[0.03576860703820821,-0.0036865006350749185,-0.04216025712782155,0.051988842242387395,-0.07534117111541504],\"yaxis\":\"y8\",\"type\":\"scatter\"},{\"legendgroup\":\"0\",\"line\":{\"color\":\"#808080\"},\"mode\":\"lines\",\"opacity\":0.1,\"showlegend\":false,\"x\":[\"BrainDrain\",\"FullTime\",\"MidTime\",\"OverTime\",\"PartTime\"],\"xaxis\":\"x8\",\"y\":[-0.051898844788193045,0.006526226407870761,0.03848660262803779,-0.04683116520972088,0.06903740547327322],\"yaxis\":\"y8\",\"type\":\"scatter\"},{\"legendgroup\":\"1\",\"line\":{\"color\":\"#808080\"},\"mode\":\"lines\",\"opacity\":0.1,\"showlegend\":false,\"x\":[\"BrainDrain\",\"FullTime\",\"MidTime\",\"OverTime\",\"PartTime\"],\"xaxis\":\"x8\",\"y\":[0.05189884478819306,-0.006526226407870768,-0.038486602628037776,0.046831165209720874,-0.06903740547327322],\"yaxis\":\"y8\",\"type\":\"scatter\"},{\"legendgroup\":\"0\",\"line\":{\"color\":\"#808080\"},\"mode\":\"lines\",\"opacity\":0.1,\"showlegend\":false,\"x\":[\"BrainDrain\",\"FullTime\",\"MidTime\",\"OverTime\",\"PartTime\"],\"xaxis\":\"x8\",\"y\":[-0.03821864014578939,0.00374851337747404,0.037559683024072796,-0.04191011995597909,0.06110369932375055],\"yaxis\":\"y8\",\"type\":\"scatter\"},{\"legendgroup\":\"1\",\"line\":{\"color\":\"#808080\"},\"mode\":\"lines\",\"opacity\":0.1,\"showlegend\":false,\"x\":[\"BrainDrain\",\"FullTime\",\"MidTime\",\"OverTime\",\"PartTime\"],\"xaxis\":\"x8\",\"y\":[0.038218640145789434,-0.003748513377474054,-0.03755968302407278,0.04191011995597909,-0.061103699323750524],\"yaxis\":\"y8\",\"type\":\"scatter\"},{\"legendgroup\":\"0\",\"line\":{\"color\":\"#808080\"},\"mode\":\"lines\",\"opacity\":0.1,\"showlegend\":false,\"x\":[\"BrainDrain\",\"FullTime\",\"MidTime\",\"OverTime\",\"PartTime\"],\"xaxis\":\"x8\",\"y\":[-0.05880812082245852,0.005748729798720625,0.046318586083652816,-0.04773296060187897,0.07164305571565192],\"yaxis\":\"y8\",\"type\":\"scatter\"},{\"legendgroup\":\"1\",\"line\":{\"color\":\"#808080\"},\"mode\":\"lines\",\"opacity\":0.1,\"showlegend\":false,\"x\":[\"BrainDrain\",\"FullTime\",\"MidTime\",\"OverTime\",\"PartTime\"],\"xaxis\":\"x8\",\"y\":[0.05880812082245855,-0.005748729798720639,-0.04631858608365279,0.047732960601878975,-0.0716430557156519],\"yaxis\":\"y8\",\"type\":\"scatter\"},{\"legendgroup\":\"0\",\"line\":{\"color\":\"#808080\"},\"mode\":\"lines\",\"opacity\":0.1,\"showlegend\":false,\"x\":[\"BrainDrain\",\"FullTime\",\"MidTime\",\"OverTime\",\"PartTime\"],\"xaxis\":\"x8\",\"y\":[-0.03845595149503909,0.0020895086246689107,0.0404640005474747,-0.04177922498907271,0.06528508772728786],\"yaxis\":\"y8\",\"type\":\"scatter\"},{\"legendgroup\":\"1\",\"line\":{\"color\":\"#808080\"},\"mode\":\"lines\",\"opacity\":0.1,\"showlegend\":false,\"x\":[\"BrainDrain\",\"FullTime\",\"MidTime\",\"OverTime\",\"PartTime\"],\"xaxis\":\"x8\",\"y\":[0.03845595149503911,-0.0020895086246689246,-0.04046400054747469,0.041779224989072695,-0.06528508772728786],\"yaxis\":\"y8\",\"type\":\"scatter\"},{\"legendgroup\":\"0\",\"line\":{\"color\":\"#808080\"},\"mode\":\"lines\",\"opacity\":0.1,\"showlegend\":false,\"x\":[\"BrainDrain\",\"FullTime\",\"MidTime\",\"OverTime\",\"PartTime\"],\"xaxis\":\"x8\",\"y\":[-0.04060561309712407,0.005513331883271862,0.043847295494359256,-0.047473554627554,0.0600904861302779],\"yaxis\":\"y8\",\"type\":\"scatter\"},{\"legendgroup\":\"1\",\"line\":{\"color\":\"#808080\"},\"mode\":\"lines\",\"opacity\":0.1,\"showlegend\":false,\"x\":[\"BrainDrain\",\"FullTime\",\"MidTime\",\"OverTime\",\"PartTime\"],\"xaxis\":\"x8\",\"y\":[0.0406056130971241,-0.005513331883271876,-0.04384729549435923,0.04747355462755399,-0.060090486130277856],\"yaxis\":\"y8\",\"type\":\"scatter\"},{\"legendgroup\":\"0\",\"line\":{\"color\":\"#808080\"},\"mode\":\"lines\",\"opacity\":0.1,\"showlegend\":false,\"x\":[\"BrainDrain\",\"FullTime\",\"MidTime\",\"OverTime\",\"PartTime\"],\"xaxis\":\"x8\",\"y\":[-0.03723557036235766,0.004493924656689498,0.03584812945576676,-0.045982818295532156,0.06722375874208286],\"yaxis\":\"y8\",\"type\":\"scatter\"},{\"legendgroup\":\"1\",\"line\":{\"color\":\"#808080\"},\"mode\":\"lines\",\"opacity\":0.1,\"showlegend\":false,\"x\":[\"BrainDrain\",\"FullTime\",\"MidTime\",\"OverTime\",\"PartTime\"],\"xaxis\":\"x8\",\"y\":[0.03723557036235768,-0.004493924656689505,-0.035848129455766736,0.04598281829553215,-0.06722375874208283],\"yaxis\":\"y8\",\"type\":\"scatter\"},{\"legendgroup\":\"0\",\"line\":{\"color\":\"#808080\"},\"mode\":\"lines\",\"opacity\":0.1,\"showlegend\":false,\"x\":[\"BrainDrain\",\"FullTime\",\"MidTime\",\"OverTime\",\"PartTime\"],\"xaxis\":\"x8\",\"y\":[-0.04493645641856907,0.005092724461563079,0.039793072502470175,-0.05079484693686361,0.07655148779614242],\"yaxis\":\"y8\",\"type\":\"scatter\"},{\"legendgroup\":\"1\",\"line\":{\"color\":\"#808080\"},\"mode\":\"lines\",\"opacity\":0.1,\"showlegend\":false,\"x\":[\"BrainDrain\",\"FullTime\",\"MidTime\",\"OverTime\",\"PartTime\"],\"xaxis\":\"x8\",\"y\":[0.04493645641856911,-0.005092724461563079,-0.03979307250247016,0.050794846936863626,-0.0765514877961424],\"yaxis\":\"y8\",\"type\":\"scatter\"},{\"legendgroup\":\"0\",\"line\":{\"color\":\"#808080\"},\"mode\":\"lines\",\"opacity\":0.1,\"showlegend\":false,\"x\":[\"BrainDrain\",\"FullTime\",\"MidTime\",\"OverTime\",\"PartTime\"],\"xaxis\":\"x8\",\"y\":[-0.05527768788723627,0.003291950741280511,0.04571757299028432,-0.04761075836079497,0.0800190061333664],\"yaxis\":\"y8\",\"type\":\"scatter\"},{\"legendgroup\":\"1\",\"line\":{\"color\":\"#808080\"},\"mode\":\"lines\",\"opacity\":0.1,\"showlegend\":false,\"x\":[\"BrainDrain\",\"FullTime\",\"MidTime\",\"OverTime\",\"PartTime\"],\"xaxis\":\"x8\",\"y\":[0.055277687887236276,-0.003291950741280518,-0.0457175729902843,0.047610758360794966,-0.08001900613336638],\"yaxis\":\"y8\",\"type\":\"scatter\"},{\"legendgroup\":\"0\",\"legendgrouptitle\":{\"text\":\"0\"},\"name\":\"Country\",\"x\":[\"Cambodia\",\"Canada\",\"China\",\"Columbia\",\"Cuba\",\"Dominican-Repub*\",\"Ecuador\",\"El-Salvador\",\"England\",\"France\",\"Germany\",\"Greece\",\"Guatemala\",\"Haiti\",\"Honduras\",\"Hong\",\"Hungary\",\"India\",\"Iran\",\"Ireland\",\"Italy\",\"Jamaica\",\"Japan\",\"Laos\",\"Mexico\",\"Nicaragua\",\"Outlying-US(Gua*\",\"Peru\",\"Philippines\",\"Poland\",\"Portugal\",\"Puerto-Rico\",\"Scotland\",\"South\",\"Taiwan\",\"Thailand\",\"Trinadad&Tobago\",\"United-States\",\"Vietnam\",\"Yugoslavia\"],\"xaxis\":\"x9\",\"y\":[0.0026143851047359216,-0.005906617406783481,0.0344400006163969,0.0322214946532397,0.0035571966120852908,0.024831010082816414,0.013489632976321761,0.04576029758120148,-0.022476707418732735,0.013175769991282614,-0.026584655047806383,0.03081967646065481,0.016113587499832348,0.0015877177735898421,0.02323341318509061,0.026014881121794065,0.009774226986864275,0.0437419184724257,0.009991036828736394,-0.0009721635640601387,-0.012005900671219677,0.005305758437905378,-0.033879621956477125,0.0239379453105997,0.047200353523089364,0.03513612629119886,0.028016026766184546,0.027780513935399927,-0.010097366875936972,0.0332844109174484,0.00027571225686766516,0.014090073067605069,0.018745212987918442,0.06094175019038259,0.014119371484810087,0.023718912351826424,0.021660041254919236,-0.0018420158193180602,0.03137284887061257,0.008250296855875472],\"yaxis\":\"y9\",\"type\":\"scatter\"},{\"legendgroup\":\"1\",\"legendgrouptitle\":{\"text\":\"1\"},\"name\":\"Country\",\"x\":[\"Cambodia\",\"Canada\",\"China\",\"Columbia\",\"Cuba\",\"Dominican-Repub*\",\"Ecuador\",\"El-Salvador\",\"England\",\"France\",\"Germany\",\"Greece\",\"Guatemala\",\"Haiti\",\"Honduras\",\"Hong\",\"Hungary\",\"India\",\"Iran\",\"Ireland\",\"Italy\",\"Jamaica\",\"Japan\",\"Laos\",\"Mexico\",\"Nicaragua\",\"Outlying-US(Gua*\",\"Peru\",\"Philippines\",\"Poland\",\"Portugal\",\"Puerto-Rico\",\"Scotland\",\"South\",\"Taiwan\",\"Thailand\",\"Trinadad&Tobago\",\"United-States\",\"Vietnam\",\"Yugoslavia\"],\"xaxis\":\"x9\",\"y\":[-0.0026143851047359286,0.005906617406783509,-0.034440000616396904,-0.03222149465323966,-0.00355719661208527,-0.024831010082816386,-0.013489632976321728,-0.045760297581201426,0.02247670741873276,-0.013175769991282588,0.026584655047806407,-0.030819676460654796,-0.016113587499832292,-0.0015877177735898196,-0.023233413185090555,-0.02601488112179406,-0.009774226986864244,-0.0437419184724257,-0.009991036828736363,0.0009721635640601665,0.012005900671219712,-0.005305758437905357,0.03387962195647713,-0.02393794531059969,-0.04720035352308932,-0.03513612629119881,-0.028016026766184525,-0.02778051393539987,0.010097366875936976,-0.033284410917448395,-0.00027571225686764955,-0.01409007306760504,-0.018745212987918404,-0.06094175019038259,-0.014119371484810097,-0.023718912351826417,-0.02166004125491923,0.0018420158193180602,-0.03137284887061256,-0.008250296855875451],\"yaxis\":\"y9\",\"type\":\"scatter\"},{\"legendgroup\":\"0\",\"line\":{\"color\":\"#808080\"},\"mode\":\"lines\",\"opacity\":0.1,\"showlegend\":false,\"x\":[\"Cambodia\",\"Canada\",\"China\",\"Columbia\",\"Cuba\",\"Dominican-Repub*\",\"Ecuador\",\"El-Salvador\",\"England\",\"France\",\"Germany\",\"Greece\",\"Guatemala\",\"Haiti\",\"Honduras\",\"Hong\",\"Hungary\",\"India\",\"Iran\",\"Ireland\",\"Italy\",\"Jamaica\",\"Japan\",\"Laos\",\"Mexico\",\"Nicaragua\",\"Outlying-US(Gua*\",\"Peru\",\"Philippines\",\"Poland\",\"Portugal\",\"Puerto-Rico\",\"Scotland\",\"South\",\"Taiwan\",\"Thailand\",\"Trinadad&Tobago\",\"United-States\",\"Vietnam\",\"Yugoslavia\"],\"xaxis\":\"x9\",\"y\":[-0.04582313048228557,-0.005744118329945425,0.012663682704527598,0.014247967572492873,0.05753347513460755,0.06544105370536915,-0.010414547324915271,0.03651510134701766,-0.06626831892292263,0.013981773259746172,0.0032088890113285973,0.061107717341202655,0.02880522480380776,-0.03362025524591873,0.030805224803807763,-0.00966172228264206,-0.010414547324915271,-0.012755975415130516,-0.012220142277491824,0.015198863843661592,-0.002545695894534003,0.0006654590397955629,-0.10767455252693604,-0.009758071716724617,0.02430455881065191,0.030157076655659615,0.049713078087414625,0.02821263221121517,-0.04357728391423691,0.08928696264419714,0.01125211934175141,0.06139081901080656,-0.005684055399014135,-4.53527045078117e-05,-0.09443619360963443,-0.004472357431010349,0.028998792373128884,-0.0005784119251985853,0.007527642568989662,0.05216116543096316],\"yaxis\":\"y9\",\"type\":\"scatter\"},{\"legendgroup\":\"1\",\"line\":{\"color\":\"#808080\"},\"mode\":\"lines\",\"opacity\":0.1,\"showlegend\":false,\"x\":[\"Cambodia\",\"Canada\",\"China\",\"Columbia\",\"Cuba\",\"Dominican-Repub*\",\"Ecuador\",\"El-Salvador\",\"England\",\"France\",\"Germany\",\"Greece\",\"Guatemala\",\"Haiti\",\"Honduras\",\"Hong\",\"Hungary\",\"India\",\"Iran\",\"Ireland\",\"Italy\",\"Jamaica\",\"Japan\",\"Laos\",\"Mexico\",\"Nicaragua\",\"Outlying-US(Gua*\",\"Peru\",\"Philippines\",\"Poland\",\"Portugal\",\"Puerto-Rico\",\"Scotland\",\"South\",\"Taiwan\",\"Thailand\",\"Trinadad&Tobago\",\"United-States\",\"Vietnam\",\"Yugoslavia\"],\"xaxis\":\"x9\",\"y\":[0.045823130482285375,0.00574411832994548,-0.01266368270452782,-0.014247967572492748,-0.05753347513460744,-0.0654410537053691,0.0104145473249153,-0.03651510134701749,0.0662683189229227,-0.013981773259746116,-0.0032088890113285418,-0.0611077173412026,-0.028805224803807622,0.03362025524591867,-0.030805224803807624,0.009661722282641894,0.0104145473249153,0.012755975415130322,0.012220142277491769,-0.01519886384366155,0.0025456958945340724,-0.0006654590397956184,0.10767455252693599,0.009758071716724478,-0.0243045588106518,-0.030157076655659462,-0.04971307808741465,-0.02821263221121502,0.04357728391423671,-0.08928696264419703,-0.011252119341751368,-0.06139081901080648,0.005684055399014246,4.5352704507617414e-05,0.09443619360963426,0.004472357431010196,-0.028998792373128954,0.0005784119251986131,-0.007527642568989801,-0.05216116543096311],\"yaxis\":\"y9\",\"type\":\"scatter\"},{\"legendgroup\":\"0\",\"line\":{\"color\":\"#808080\"},\"mode\":\"lines\",\"opacity\":0.1,\"showlegend\":false,\"x\":[\"Cambodia\",\"Canada\",\"China\",\"Columbia\",\"Cuba\",\"Dominican-Repub*\",\"Ecuador\",\"El-Salvador\",\"England\",\"France\",\"Germany\",\"Greece\",\"Guatemala\",\"Haiti\",\"Honduras\",\"Hong\",\"Hungary\",\"India\",\"Iran\",\"Ireland\",\"Italy\",\"Jamaica\",\"Japan\",\"Laos\",\"Mexico\",\"Nicaragua\",\"Outlying-US(Gua*\",\"Peru\",\"Philippines\",\"Poland\",\"Portugal\",\"Puerto-Rico\",\"Scotland\",\"South\",\"Taiwan\",\"Thailand\",\"Trinadad&Tobago\",\"United-States\",\"Vietnam\",\"Yugoslavia\"],\"xaxis\":\"x9\",\"y\":[-0.09632180414391224,-0.0036759792879761527,-0.04549045692790983,0.11370258496084736,0.04757079268820687,0.10606051687714672,0.10266448513111497,0.1279256094558509,-0.08576733440729956,0.015304919672333842,0.0084578131278739,0.08847158633900053,0.10480825061261485,-0.08330243819240336,0.10480825061261488,-0.08409958192168995,0.09599781846444828,0.01077655381996298,-0.09948212160422962,0.09174555587305071,0.08047158633900052,-0.037190454937562956,-0.08769640731851536,-0.0775440263661344,0.11950914854804338,0.1144305354914787,0.022550125910160743,0.0981415839459482,-0.1181850987776672,0.05458055331288687,0.10799517296180276,0.07659916564603263,0.10166167547316692,-0.018853550175658235,-0.06680352481240633,-0.06754402636613442,-0.043857121604229624,-0.0028174861429133002,-0.0679321216042296,0.0877455558730507],\"yaxis\":\"y9\",\"type\":\"scatter\"},{\"legendgroup\":\"1\",\"line\":{\"color\":\"#808080\"},\"mode\":\"lines\",\"opacity\":0.1,\"showlegend\":false,\"x\":[\"Cambodia\",\"Canada\",\"China\",\"Columbia\",\"Cuba\",\"Dominican-Repub*\",\"Ecuador\",\"El-Salvador\",\"England\",\"France\",\"Germany\",\"Greece\",\"Guatemala\",\"Haiti\",\"Honduras\",\"Hong\",\"Hungary\",\"India\",\"Iran\",\"Ireland\",\"Italy\",\"Jamaica\",\"Japan\",\"Laos\",\"Mexico\",\"Nicaragua\",\"Outlying-US(Gua*\",\"Peru\",\"Philippines\",\"Poland\",\"Portugal\",\"Puerto-Rico\",\"Scotland\",\"South\",\"Taiwan\",\"Thailand\",\"Trinadad&Tobago\",\"United-States\",\"Vietnam\",\"Yugoslavia\"],\"xaxis\":\"x9\",\"y\":[0.09632180414391218,0.0036759792879761666,0.045490456927909796,-0.11370258496084726,-0.047570792688206825,-0.10606051687714665,-0.10266448513111492,-0.1279256094558508,0.0857673344072996,-0.015304919672333828,-0.0084578131278739,-0.08847158633900051,-0.10480825061261476,0.08330243819240338,-0.10480825061261476,0.08409958192168998,-0.09599781846444824,-0.010776553819963036,0.09948212160422965,-0.0917455558730507,-0.0804715863390005,0.037190454937562976,0.08769640731851534,0.07754402636613442,-0.11950914854804326,-0.11443053549147858,-0.022550125910160743,-0.09814158394594807,0.1181850987776672,-0.05458055331288683,-0.10799517296180275,-0.07659916564603259,-0.10166167547316682,0.01885355017565825,0.06680352481240623,0.06754402636613442,0.043857121604229644,0.0028174861429132864,0.06793212160422966,-0.08774555587305069],\"yaxis\":\"y9\",\"type\":\"scatter\"},{\"legendgroup\":\"0\",\"line\":{\"color\":\"#808080\"},\"mode\":\"lines\",\"opacity\":0.1,\"showlegend\":false,\"x\":[\"Cambodia\",\"Canada\",\"China\",\"Columbia\",\"Cuba\",\"Dominican-Repub*\",\"Ecuador\",\"El-Salvador\",\"England\",\"France\",\"Germany\",\"Greece\",\"Guatemala\",\"Haiti\",\"Honduras\",\"Hong\",\"Hungary\",\"India\",\"Iran\",\"Ireland\",\"Italy\",\"Jamaica\",\"Japan\",\"Laos\",\"Mexico\",\"Nicaragua\",\"Outlying-US(Gua*\",\"Peru\",\"Philippines\",\"Poland\",\"Portugal\",\"Puerto-Rico\",\"Scotland\",\"South\",\"Taiwan\",\"Thailand\",\"Trinadad&Tobago\",\"United-States\",\"Vietnam\",\"Yugoslavia\"],\"xaxis\":\"x9\",\"y\":[-0.05879182965460862,-0.007017158854566413,-0.05714182965460862,0.06925681912634665,0.03459881657397573,0.08502082698843205,0.014093775073741183,0.10662006499734009,-0.009862782491066258,0.012332948029374818,-0.008941284692277729,0.02918214990730908,0.08523895259122763,-0.12105963845096956,0.07832596557824065,-0.10309738521016419,0.07199686030062763,-0.03545849632127529,-0.13277984090059566,0.05814048324064236,-0.11157227066217161,-0.03155108808163784,-0.1179812147833221,-0.08976405187683087,0.10902343516644378,0.08388129831739694,-0.0073697727611038155,0.08054729653486581,-0.108678073040852,0.04605714990730905,0.048177833810548465,0.07695062555804269,0.045711323514150054,-0.036430718543497526,-0.1643931592074088,-0.09576405187683087,-0.0821804163818777,-0.001271556323525408,-0.0487640518768309,-0.06935951675935764],\"yaxis\":\"y9\",\"type\":\"scatter\"},{\"legendgroup\":\"1\",\"line\":{\"color\":\"#808080\"},\"mode\":\"lines\",\"opacity\":0.1,\"showlegend\":false,\"x\":[\"Cambodia\",\"Canada\",\"China\",\"Columbia\",\"Cuba\",\"Dominican-Repub*\",\"Ecuador\",\"El-Salvador\",\"England\",\"France\",\"Germany\",\"Greece\",\"Guatemala\",\"Haiti\",\"Honduras\",\"Hong\",\"Hungary\",\"India\",\"Iran\",\"Ireland\",\"Italy\",\"Jamaica\",\"Japan\",\"Laos\",\"Mexico\",\"Nicaragua\",\"Outlying-US(Gua*\",\"Peru\",\"Philippines\",\"Poland\",\"Portugal\",\"Puerto-Rico\",\"Scotland\",\"South\",\"Taiwan\",\"Thailand\",\"Trinadad&Tobago\",\"United-States\",\"Vietnam\",\"Yugoslavia\"],\"xaxis\":\"x9\",\"y\":[0.058791829654608566,0.007017158854566413,0.05714182965460855,-0.06925681912634671,-0.034598816573975705,-0.08502082698843202,-0.014093775073741266,-0.10662006499734003,0.00986278249106623,-0.012332948029374818,0.008941284692277701,-0.029182149907309052,-0.08523895259122763,0.12105963845096952,-0.07832596557824062,0.10309738521016414,-0.07199686030062766,0.035458496321275235,0.13277984090059566,-0.05814048324064236,0.11157227066217165,0.03155108808163781,0.11798121478332205,0.0897640518768308,-0.10902343516644378,-0.08388129831739688,0.0073697727611038155,-0.0805472965348657,0.10867807304085197,-0.046057149907309025,-0.04817783381054855,-0.07695062555804266,-0.045711323514150054,0.03643071854349747,0.16439315920740868,0.09576405187683082,0.08218041638187767,0.0012715563235253802,0.04876405187683079,0.06935951675935764],\"yaxis\":\"y9\",\"type\":\"scatter\"},{\"legendgroup\":\"0\",\"line\":{\"color\":\"#808080\"},\"mode\":\"lines\",\"opacity\":0.1,\"showlegend\":false,\"x\":[\"Cambodia\",\"Canada\",\"China\",\"Columbia\",\"Cuba\",\"Dominican-Repub*\",\"Ecuador\",\"El-Salvador\",\"England\",\"France\",\"Germany\",\"Greece\",\"Guatemala\",\"Haiti\",\"Honduras\",\"Hong\",\"Hungary\",\"India\",\"Iran\",\"Ireland\",\"Italy\",\"Jamaica\",\"Japan\",\"Laos\",\"Mexico\",\"Nicaragua\",\"Outlying-US(Gua*\",\"Peru\",\"Philippines\",\"Poland\",\"Portugal\",\"Puerto-Rico\",\"Scotland\",\"South\",\"Taiwan\",\"Thailand\",\"Trinadad&Tobago\",\"United-States\",\"Vietnam\",\"Yugoslavia\"],\"xaxis\":\"x9\",\"y\":[-0.10596143371642326,0.0005304516209943266,-0.06317661307265904,-0.11555342032042729,-0.01718761524121036,-0.12400988977689674,-0.11805342032042729,-0.05767309596796501,0.005397166353662303,0.01999016253656738,0.005062346543842508,-0.010909837463432603,-0.10222585534977498,-0.07175665306884356,-0.10678152149305722,-0.031533366193117626,-0.09908095759796452,-0.04314641124833957,-0.052887605449795934,-0.18202693747201346,-0.019709837463432606,-0.027470938783129284,-0.04657808164027215,-0.04041141497360543,-0.09674951202516525,-0.10678152149305722,0.0015766802644897882,-0.10678152149305722,-0.05214590818639871,-0.007764864624380863,-0.10938939915640616,-0.12491898068598764,-0.123877415953535,-0.04258134599109743,-0.09355776553364345,-0.03441141497360547,-0.03413760544979593,0.005522823437142554,-0.032411414973605425,-0.01527703252470658],\"yaxis\":\"y9\",\"type\":\"scatter\"},{\"legendgroup\":\"1\",\"line\":{\"color\":\"#808080\"},\"mode\":\"lines\",\"opacity\":0.1,\"showlegend\":false,\"x\":[\"Cambodia\",\"Canada\",\"China\",\"Columbia\",\"Cuba\",\"Dominican-Repub*\",\"Ecuador\",\"El-Salvador\",\"England\",\"France\",\"Germany\",\"Greece\",\"Guatemala\",\"Haiti\",\"Honduras\",\"Hong\",\"Hungary\",\"India\",\"Iran\",\"Ireland\",\"Italy\",\"Jamaica\",\"Japan\",\"Laos\",\"Mexico\",\"Nicaragua\",\"Outlying-US(Gua*\",\"Peru\",\"Philippines\",\"Poland\",\"Portugal\",\"Puerto-Rico\",\"Scotland\",\"South\",\"Taiwan\",\"Thailand\",\"Trinadad&Tobago\",\"United-States\",\"Vietnam\",\"Yugoslavia\"],\"xaxis\":\"x9\",\"y\":[0.10596143371642318,-0.0005304516209942989,0.06317661307265898,0.1155534203204273,0.017187615241210402,0.12400988977689675,0.1180534203204273,0.05767309596796505,-0.005397166353662289,-0.019990162536567366,-0.00506234654384248,0.010909837463432631,0.10222585534977499,0.07175665306884352,0.10678152149305724,0.031533366193117605,0.09908095759796459,0.043146411248339525,0.0528876054497959,0.18202693747201343,0.019709837463432633,0.027470938783129215,0.046578081640272086,0.04041141497360541,0.09674951202516525,0.10678152149305724,-0.001576680264489802,0.10678152149305724,0.05214590818639868,0.007764864624380849,0.10938939915640614,0.12491898068598767,0.12387741595353502,0.04258134599109739,0.09355776553364338,0.03441141497360541,0.03413760544979588,-0.005522823437142554,0.03241141497360542,0.015277032524706649],\"yaxis\":\"y9\",\"type\":\"scatter\"},{\"legendgroup\":\"0\",\"line\":{\"color\":\"#808080\"},\"mode\":\"lines\",\"opacity\":0.1,\"showlegend\":false,\"x\":[\"Cambodia\",\"Canada\",\"China\",\"Columbia\",\"Cuba\",\"Dominican-Repub*\",\"Ecuador\",\"El-Salvador\",\"England\",\"France\",\"Germany\",\"Greece\",\"Guatemala\",\"Haiti\",\"Honduras\",\"Hong\",\"Hungary\",\"India\",\"Iran\",\"Ireland\",\"Italy\",\"Jamaica\",\"Japan\",\"Laos\",\"Mexico\",\"Nicaragua\",\"Outlying-US(Gua*\",\"Peru\",\"Philippines\",\"Poland\",\"Portugal\",\"Puerto-Rico\",\"Scotland\",\"South\",\"Taiwan\",\"Thailand\",\"Trinadad&Tobago\",\"United-States\",\"Vietnam\",\"Yugoslavia\"],\"xaxis\":\"x9\",\"y\":[-0.05713596803196962,-0.003925268843773644,0.03271522244422083,0.011670417226577683,-0.023092098408586892,0.029287083893244387,0.01042041722657771,0.03676586891030548,-0.10512601923077614,0.015834541642395186,-0.1138081102203917,0.03523689776580399,-0.007436228328644448,-0.0876180015407888,-0.008007656900073004,0.009821703925702363,0.01042041722657771,0.06288784149183992,-0.11856956684056841,0.028893144499305003,-0.05517952046508791,-0.06538500834350988,-0.0976491955451971,0.0016365187405171719,0.019391746284206632,0.006227236578672177,0.03571533179254455,-0.008007656900073004,-0.04352118466718624,0.036291603883058486,0.01497681453297494,-0.04110685550069501,-0.0017579406135040526,-0.004020888666890252,0.05595649228549068,-0.022252370148371725,-0.039031833740335295,0.0011213483507460167,0.007441280645279061,-0.007773522167361657],\"yaxis\":\"y9\",\"type\":\"scatter\"},{\"legendgroup\":\"1\",\"line\":{\"color\":\"#808080\"},\"mode\":\"lines\",\"opacity\":0.1,\"showlegend\":false,\"x\":[\"Cambodia\",\"Canada\",\"China\",\"Columbia\",\"Cuba\",\"Dominican-Repub*\",\"Ecuador\",\"El-Salvador\",\"England\",\"France\",\"Germany\",\"Greece\",\"Guatemala\",\"Haiti\",\"Honduras\",\"Hong\",\"Hungary\",\"India\",\"Iran\",\"Ireland\",\"Italy\",\"Jamaica\",\"Japan\",\"Laos\",\"Mexico\",\"Nicaragua\",\"Outlying-US(Gua*\",\"Peru\",\"Philippines\",\"Poland\",\"Portugal\",\"Puerto-Rico\",\"Scotland\",\"South\",\"Taiwan\",\"Thailand\",\"Trinadad&Tobago\",\"United-States\",\"Vietnam\",\"Yugoslavia\"],\"xaxis\":\"x9\",\"y\":[0.05713596803196956,0.003925268843773672,-0.032715222444220926,-0.011670417226577627,0.02309209840858699,-0.029287083893244303,-0.010420417226577633,-0.03676586891030542,0.10512601923077615,-0.01583454164239516,0.11380811022039174,-0.03523689776580392,0.0074362283286445174,0.08761800154078873,0.008007656900073087,-0.009821703925702398,-0.010420417226577633,-0.06288784149183996,0.11856956684056837,-0.028893144499304912,0.05517952046508805,0.06538500834350983,0.09764919554519703,-0.0016365187405172205,-0.01939174628420657,-0.006227236578672121,-0.035715331792544575,0.008007656900073087,0.04352118466718617,-0.036291603883058424,-0.01497681453297494,0.041106855500695094,0.0017579406135040943,0.004020888666890175,-0.05595649228549075,0.022252370148371656,0.03903183374033524,-0.0011213483507460098,-0.00744128064527913,0.007773522167361768],\"yaxis\":\"y9\",\"type\":\"scatter\"},{\"legendgroup\":\"0\",\"line\":{\"color\":\"#808080\"},\"mode\":\"lines\",\"opacity\":0.1,\"showlegend\":false,\"x\":[\"Cambodia\",\"Canada\",\"China\",\"Columbia\",\"Cuba\",\"Dominican-Repub*\",\"Ecuador\",\"El-Salvador\",\"England\",\"France\",\"Germany\",\"Greece\",\"Guatemala\",\"Haiti\",\"Honduras\",\"Hong\",\"Hungary\",\"India\",\"Iran\",\"Ireland\",\"Italy\",\"Jamaica\",\"Japan\",\"Laos\",\"Mexico\",\"Nicaragua\",\"Outlying-US(Gua*\",\"Peru\",\"Philippines\",\"Poland\",\"Portugal\",\"Puerto-Rico\",\"Scotland\",\"South\",\"Taiwan\",\"Thailand\",\"Trinadad&Tobago\",\"United-States\",\"Vietnam\",\"Yugoslavia\"],\"xaxis\":\"x9\",\"y\":[0.028916849945674724,-0.00858354317563089,0.047005431934256714,0.03060754339114102,-0.029848209369013275,0.03439246402606171,0.020607543391141035,0.04822713252114695,-0.08586269346464974,0.01102626467929561,-0.031628495988579204,0.0313026409977979,-0.00859199539109574,0.04379391795921066,0.0034080046089042483,0.05547240550123029,0.013801987835585491,0.09633023068258484,-0.016966073802697216,0.023064541948139613,0.020981080018346036,0.049140089644668095,-0.020840777248604957,0.05379906490335882,0.05919810946086223,0.058608553818958485,0.09379391795921067,0.0034080046089042483,0.010495517737577825,0.0035350821760429902,0.027274210057807672,0.029231208614806294,0.00701090063448537,0.09952597692980171,-0.004843828490633963,0.031159222751395047,0.05123622267830107,-0.0022343354310987336,-0.029353532350645768,-0.03393212303379916],\"yaxis\":\"y9\",\"type\":\"scatter\"},{\"legendgroup\":\"1\",\"line\":{\"color\":\"#808080\"},\"mode\":\"lines\",\"opacity\":0.1,\"showlegend\":false,\"x\":[\"Cambodia\",\"Canada\",\"China\",\"Columbia\",\"Cuba\",\"Dominican-Repub*\",\"Ecuador\",\"El-Salvador\",\"England\",\"France\",\"Germany\",\"Greece\",\"Guatemala\",\"Haiti\",\"Honduras\",\"Hong\",\"Hungary\",\"India\",\"Iran\",\"Ireland\",\"Italy\",\"Jamaica\",\"Japan\",\"Laos\",\"Mexico\",\"Nicaragua\",\"Outlying-US(Gua*\",\"Peru\",\"Philippines\",\"Poland\",\"Portugal\",\"Puerto-Rico\",\"Scotland\",\"South\",\"Taiwan\",\"Thailand\",\"Trinadad&Tobago\",\"United-States\",\"Vietnam\",\"Yugoslavia\"],\"xaxis\":\"x9\",\"y\":[-0.028916849945674755,0.008583543175630922,-0.047005431934256756,-0.030607543391141155,0.029848209369013334,-0.03439246402606179,-0.020607543391141153,-0.048227132521147055,0.0858626934646498,-0.011026264679295579,0.03162849598857927,-0.03130264099779789,0.008591995391095664,-0.043793917959210685,-0.003408004608904336,-0.05547240550123033,-0.013801987835585599,-0.09633023068258491,0.01696607380269717,-0.023064541948139707,-0.020981080018345998,-0.04914008964466808,0.020840777248604912,-0.053799064903358826,-0.05919810946086236,-0.05860855381895862,-0.09379391795921067,-0.003408004608904336,-0.010495517737577849,-0.003535082176042925,-0.02727421005780782,-0.029231208614806374,-0.00701090063448552,-0.09952597692980177,0.004843828490633931,-0.031159222751395065,-0.05123622267830112,0.002234335431098738,0.02935353235064571,0.03393212303379924],\"yaxis\":\"y9\",\"type\":\"scatter\"},{\"legendgroup\":\"0\",\"line\":{\"color\":\"#808080\"},\"mode\":\"lines\",\"opacity\":0.1,\"showlegend\":false,\"x\":[\"Cambodia\",\"Canada\",\"China\",\"Columbia\",\"Cuba\",\"Dominican-Repub*\",\"Ecuador\",\"El-Salvador\",\"England\",\"France\",\"Germany\",\"Greece\",\"Guatemala\",\"Haiti\",\"Honduras\",\"Hong\",\"Hungary\",\"India\",\"Iran\",\"Ireland\",\"Italy\",\"Jamaica\",\"Japan\",\"Laos\",\"Mexico\",\"Nicaragua\",\"Outlying-US(Gua*\",\"Peru\",\"Philippines\",\"Poland\",\"Portugal\",\"Puerto-Rico\",\"Scotland\",\"South\",\"Taiwan\",\"Thailand\",\"Trinadad&Tobago\",\"United-States\",\"Vietnam\",\"Yugoslavia\"],\"xaxis\":\"x9\",\"y\":[-0.05722533351950112,-0.004047813171112375,0.04561126001119177,0.07917589272157516,0.034581835220164024,0.04679951925714146,0.08235154066140374,0.09465023018529391,-0.002586912541680006,0.016027734691063507,-0.08274879654479082,0.053685671199,0.0737508698735497,-0.0040747614725004586,0.06819520373026745,0.010033685239517632,0.03879951925714145,0.01762316477309656,-0.013132301155040141,0.042732018370347076,-0.09866997966357446,-0.0031223805201195157,-0.01328536237952994,0.008914637620470008,0.10379421157295957,0.07652853706360079,0.05521776082002182,0.07652853706360079,-0.0309258633817957,0.04024254950587831,0.06253883549645774,0.03654738009195882,0.06854903970910342,0.03513258633841875,0.002043603927779369,-0.014385362379529937,-0.005900158297897284,-0.0031601112409516594,0.0817193995252319,0.027075882839211644],\"yaxis\":\"y9\",\"type\":\"scatter\"},{\"legendgroup\":\"1\",\"line\":{\"color\":\"#808080\"},\"mode\":\"lines\",\"opacity\":0.1,\"showlegend\":false,\"x\":[\"Cambodia\",\"Canada\",\"China\",\"Columbia\",\"Cuba\",\"Dominican-Repub*\",\"Ecuador\",\"El-Salvador\",\"England\",\"France\",\"Germany\",\"Greece\",\"Guatemala\",\"Haiti\",\"Honduras\",\"Hong\",\"Hungary\",\"India\",\"Iran\",\"Ireland\",\"Italy\",\"Jamaica\",\"Japan\",\"Laos\",\"Mexico\",\"Nicaragua\",\"Outlying-US(Gua*\",\"Peru\",\"Philippines\",\"Poland\",\"Portugal\",\"Puerto-Rico\",\"Scotland\",\"South\",\"Taiwan\",\"Thailand\",\"Trinadad&Tobago\",\"United-States\",\"Vietnam\",\"Yugoslavia\"],\"xaxis\":\"x9\",\"y\":[0.0572253335195011,0.004047813171112402,-0.045611260011191826,-0.07917589272157521,-0.03458183522016403,-0.04679951925714153,-0.08235154066140382,-0.09465023018529398,0.002586912541679999,-0.016027734691063476,0.08274879654479084,-0.053685671199,-0.07375086987354977,0.004074761472500481,-0.06819520373026752,-0.010033685239517656,-0.03879951925714153,-0.017623164773096583,0.01313230115504016,-0.042732018370347166,0.09866997966357449,0.003122380520119529,0.013285362379529944,-0.008914637620470043,-0.10379421157295962,-0.07652853706360085,-0.05521776082002181,-0.07652853706360085,0.030925863381795666,-0.0402425495058783,-0.06253883549645775,-0.03654738009195889,-0.06854903970910349,-0.03513258633841876,-0.002043603927779439,0.014385362379529937,0.0059001582978973075,0.0031601112409516633,-0.08171939952523197,-0.02707588283921163],\"yaxis\":\"y9\",\"type\":\"scatter\"},{\"legendgroup\":\"0\",\"line\":{\"color\":\"#808080\"},\"mode\":\"lines\",\"opacity\":0.1,\"showlegend\":false,\"x\":[\"Cambodia\",\"Canada\",\"China\",\"Columbia\",\"Cuba\",\"Dominican-Repub*\",\"Ecuador\",\"El-Salvador\",\"England\",\"France\",\"Germany\",\"Greece\",\"Guatemala\",\"Haiti\",\"Honduras\",\"Hong\",\"Hungary\",\"India\",\"Iran\",\"Ireland\",\"Italy\",\"Jamaica\",\"Japan\",\"Laos\",\"Mexico\",\"Nicaragua\",\"Outlying-US(Gua*\",\"Peru\",\"Philippines\",\"Poland\",\"Portugal\",\"Puerto-Rico\",\"Scotland\",\"South\",\"Taiwan\",\"Thailand\",\"Trinadad&Tobago\",\"United-States\",\"Vietnam\",\"Yugoslavia\"],\"xaxis\":\"x9\",\"y\":[0.07406918090513981,-0.005465238771890434,0.06877156185752076,0.006043042063401989,0.01570117827890713,-0.0013937181779780962,-0.0014085616472104146,-0.010357523661514441,0.010907943196798227,0.01390655913428703,-0.029993786495807223,0.05965177802904719,-0.06715279852029257,0.07893947119261197,-0.0037084646635748286,0.0950691809051398,-0.012234194368454306,0.08968822852418745,0.09644262478505122,-0.074090670849701,0.059391660290440865,0.020158644876071323,-0.1266495737965091,0.09685779879131867,0.027105340492994602,-0.009325528155638332,0.07982836008150085,-0.053319575774685955,0.047258918114137925,0.07974109179812738,0.0074179862707044394,-0.00418095611863125,-0.00544652871740383,0.09840251423847313,0.009882672968631885,0.08930224323576313,0.11644262478505121,-0.002096278948947731,0.10919113212465201,0.07265662352259339],\"yaxis\":\"y9\",\"type\":\"scatter\"},{\"legendgroup\":\"1\",\"line\":{\"color\":\"#808080\"},\"mode\":\"lines\",\"opacity\":0.1,\"showlegend\":false,\"x\":[\"Cambodia\",\"Canada\",\"China\",\"Columbia\",\"Cuba\",\"Dominican-Repub*\",\"Ecuador\",\"El-Salvador\",\"England\",\"France\",\"Germany\",\"Greece\",\"Guatemala\",\"Haiti\",\"Honduras\",\"Hong\",\"Hungary\",\"India\",\"Iran\",\"Ireland\",\"Italy\",\"Jamaica\",\"Japan\",\"Laos\",\"Mexico\",\"Nicaragua\",\"Outlying-US(Gua*\",\"Peru\",\"Philippines\",\"Poland\",\"Portugal\",\"Puerto-Rico\",\"Scotland\",\"South\",\"Taiwan\",\"Thailand\",\"Trinadad&Tobago\",\"United-States\",\"Vietnam\",\"Yugoslavia\"],\"xaxis\":\"x9\",\"y\":[-0.07406918090513992,0.0054652387718904585,-0.06877156185752087,-0.006043042063401871,-0.01570117827890707,0.001393718177978169,0.0014085616472105187,0.010357523661514555,-0.010907943196798189,-0.013906559134287007,0.02999378649580724,-0.05965177802904713,0.06715279852029274,-0.07893947119261194,0.0037084646635749917,-0.09506918090513992,0.012234194368454358,-0.08968822852418754,-0.09644262478505122,0.07409067084970104,-0.059391660290440754,-0.020158644876071313,0.126649573796509,-0.09685779879131878,-0.027105340492994495,0.009325528155638453,-0.07982836008150082,0.05331957577468607,-0.04725891811413803,-0.07974109179812733,-0.007417986270704349,0.00418095611863133,0.005446528717403937,-0.09840251423847325,-0.009882672968631986,-0.08930224323576322,-0.11644262478505123,0.0020962789489477295,-0.1091911321246521,-0.07265662352259335],\"yaxis\":\"y9\",\"type\":\"scatter\"},{\"legendgroup\":\"0\",\"line\":{\"color\":\"#808080\"},\"mode\":\"lines\",\"opacity\":0.1,\"showlegend\":false,\"x\":[\"Cambodia\",\"Canada\",\"China\",\"Columbia\",\"Cuba\",\"Dominican-Repub*\",\"Ecuador\",\"El-Salvador\",\"England\",\"France\",\"Germany\",\"Greece\",\"Guatemala\",\"Haiti\",\"Honduras\",\"Hong\",\"Hungary\",\"India\",\"Iran\",\"Ireland\",\"Italy\",\"Jamaica\",\"Japan\",\"Laos\",\"Mexico\",\"Nicaragua\",\"Outlying-US(Gua*\",\"Peru\",\"Philippines\",\"Poland\",\"Portugal\",\"Puerto-Rico\",\"Scotland\",\"South\",\"Taiwan\",\"Thailand\",\"Trinadad&Tobago\",\"United-States\",\"Vietnam\",\"Yugoslavia\"],\"xaxis\":\"x9\",\"y\":[0.06418780753163436,-0.003330008755489451,0.04291995038877722,-0.007058135325308815,-0.07502644571708864,-0.008260516277689846,-0.0011890877062612076,-0.0024171264933249142,-0.05026630888856694,0.017766744966131995,-0.023313501543919896,0.032465157664544705,-0.06966716056419239,0.006684800122127348,-0.06149890659593843,0.08363225197607876,-0.02768908770626126,0.037044950388777226,0.06813287793864639,-0.02816166521292969,0.035615922250835624,0.04656776179444177,-0.0367191494690533,0.07861637896020576,0.019968765861805633,-0.007120389279921063,0.06194557638290357,-0.015233033580065308,0.04450923610306292,0.017195477644213156,-0.02739923263379751,-0.006892725818990281,-0.01725690823935666,0.07401320435703118,0.05272301161326706,0.08261637896020577,0.03302176682753524,-0.0011789667690709354,0.12061637896020573,0.01183833478707029],\"yaxis\":\"y9\",\"type\":\"scatter\"},{\"legendgroup\":\"1\",\"line\":{\"color\":\"#808080\"},\"mode\":\"lines\",\"opacity\":0.1,\"showlegend\":false,\"x\":[\"Cambodia\",\"Canada\",\"China\",\"Columbia\",\"Cuba\",\"Dominican-Repub*\",\"Ecuador\",\"El-Salvador\",\"England\",\"France\",\"Germany\",\"Greece\",\"Guatemala\",\"Haiti\",\"Honduras\",\"Hong\",\"Hungary\",\"India\",\"Iran\",\"Ireland\",\"Italy\",\"Jamaica\",\"Japan\",\"Laos\",\"Mexico\",\"Nicaragua\",\"Outlying-US(Gua*\",\"Peru\",\"Philippines\",\"Poland\",\"Portugal\",\"Puerto-Rico\",\"Scotland\",\"South\",\"Taiwan\",\"Thailand\",\"Trinadad&Tobago\",\"United-States\",\"Vietnam\",\"Yugoslavia\"],\"xaxis\":\"x9\",\"y\":[-0.06418780753163436,0.003330008755489479,-0.0429199503887772,0.007058135325308967,0.07502644571708872,0.008260516277689915,0.0011890877062613464,0.002417126493325053,0.05026630888856698,-0.017766744966131967,0.02331350154391991,-0.03246515766454466,0.06966716056419248,-0.006684800122127306,0.06149890659593851,-0.08363225197607879,0.027689087706261342,-0.03704495038877721,-0.06813287793864632,0.02816166521292976,-0.035615922250835555,-0.04656776179444174,0.03671914946905336,-0.07861637896020576,-0.01996876586180548,0.007120389279921174,-0.06194557638290356,0.015233033580065475,-0.0445092361030629,-0.017195477644213086,0.02739923263379758,0.006892725818990364,0.0172569082393568,-0.07401320435703115,-0.05272301161326701,-0.08261637896020577,-0.03302176682753522,0.0011789667690709354,-0.12061637896020577,-0.011838334787070234],\"yaxis\":\"y9\",\"type\":\"scatter\"},{\"legendgroup\":\"0\",\"line\":{\"color\":\"#808080\"},\"mode\":\"lines\",\"opacity\":0.1,\"showlegend\":false,\"x\":[\"Cambodia\",\"Canada\",\"China\",\"Columbia\",\"Cuba\",\"Dominican-Repub*\",\"Ecuador\",\"El-Salvador\",\"England\",\"France\",\"Germany\",\"Greece\",\"Guatemala\",\"Haiti\",\"Honduras\",\"Hong\",\"Hungary\",\"India\",\"Iran\",\"Ireland\",\"Italy\",\"Jamaica\",\"Japan\",\"Laos\",\"Mexico\",\"Nicaragua\",\"Outlying-US(Gua*\",\"Peru\",\"Philippines\",\"Poland\",\"Portugal\",\"Puerto-Rico\",\"Scotland\",\"South\",\"Taiwan\",\"Thailand\",\"Trinadad&Tobago\",\"United-States\",\"Vietnam\",\"Yugoslavia\"],\"xaxis\":\"x9\",\"y\":[0.0401893780909194,0.00011605015937682026,0.04722509237663369,-0.0489636243477516,0.027142378484390505,-0.10920614527554166,-0.13510217702157346,-0.003461447484721717,-0.00740940499432283,0.018600986132880436,-0.06081802172022317,0.07052693021433691,-0.07365103728404859,0.007289221323372161,-0.053317703950715264,0.03282826697980826,-0.13176884368824013,0.06580842570996703,0.054705241995206766,-0.18094371168640355,-0.019914902934819626,0.007289221323372164,-0.046737296722407964,0.021059688286698682,-0.02915454442061673,-0.042230958620118234,0.012209856244007115,-0.055910296543307855,-0.028310754184212892,0.08852625584606384,-0.09477148919088561,-0.11820683398077585,-0.07604137463101883,0.04616160031314158,0.028058425709966982,-0.001580153865265093,-0.003821889787738956,0.0018806380499601788,-0.062092908967305904,0.0690252637825718],\"yaxis\":\"y9\",\"type\":\"scatter\"},{\"legendgroup\":\"1\",\"line\":{\"color\":\"#808080\"},\"mode\":\"lines\",\"opacity\":0.1,\"showlegend\":false,\"x\":[\"Cambodia\",\"Canada\",\"China\",\"Columbia\",\"Cuba\",\"Dominican-Repub*\",\"Ecuador\",\"El-Salvador\",\"England\",\"France\",\"Germany\",\"Greece\",\"Guatemala\",\"Haiti\",\"Honduras\",\"Hong\",\"Hungary\",\"India\",\"Iran\",\"Ireland\",\"Italy\",\"Jamaica\",\"Japan\",\"Laos\",\"Mexico\",\"Nicaragua\",\"Outlying-US(Gua*\",\"Peru\",\"Philippines\",\"Poland\",\"Portugal\",\"Puerto-Rico\",\"Scotland\",\"South\",\"Taiwan\",\"Thailand\",\"Trinadad&Tobago\",\"United-States\",\"Vietnam\",\"Yugoslavia\"],\"xaxis\":\"x9\",\"y\":[-0.040189378090919506,-0.00011605015937680985,-0.047225092376633776,0.04896362434775171,-0.027142378484390432,0.10920614527554182,0.13510217702157354,0.0034614474847218177,0.007409404994322778,-0.018600986132880422,0.06081802172022314,-0.07052693021433692,0.0736510372840487,-0.007289221323372234,0.053317703950715396,-0.032828266979808396,0.1317688436882402,-0.06580842570996712,-0.054705241995206884,0.18094371168640372,0.01991490293481967,-0.00728922132337223,0.04673729672240779,-0.02105968828669881,0.02915454442061683,0.04223095862011834,-0.012209856244007153,0.05591029654330799,0.02831075418421277,-0.08852625584606383,0.09477148919088571,0.11820683398077597,0.07604137463101893,-0.04616160031314174,-0.02805842570996713,0.0015801538652649438,0.00382188978773889,-0.0018806380499601962,0.06209290896730572,-0.06902526378257176],\"yaxis\":\"y9\",\"type\":\"scatter\"},{\"legendgroup\":\"0\",\"legendgrouptitle\":{\"text\":\"0\"},\"name\":\"Capital Ga*\",\"x\":[0,99999],\"xaxis\":\"x10\",\"y\":[0.2751189613140763,-0.2751189613401379],\"yaxis\":\"y10\",\"type\":\"scatter\"},{\"legendgroup\":\"1\",\"legendgrouptitle\":{\"text\":\"1\"},\"name\":\"Capital Ga*\",\"x\":[0,99999],\"xaxis\":\"x10\",\"y\":[-0.27511896131407637,0.27511896134013797],\"yaxis\":\"y10\",\"type\":\"scatter\"},{\"legendgroup\":\"0\",\"line\":{\"color\":\"#808080\"},\"mode\":\"lines\",\"opacity\":0.1,\"showlegend\":false,\"x\":[0,99999],\"xaxis\":\"x10\",\"y\":[0.2754807993165581,-0.27548079957755367],\"yaxis\":\"y10\",\"type\":\"scatter\"},{\"legendgroup\":\"1\",\"line\":{\"color\":\"#808080\"},\"mode\":\"lines\",\"opacity\":0.1,\"showlegend\":false,\"x\":[0,99999],\"xaxis\":\"x10\",\"y\":[-0.27548079931655817,0.2754807995775537],\"yaxis\":\"y10\",\"type\":\"scatter\"},{\"legendgroup\":\"0\",\"line\":{\"color\":\"#808080\"},\"mode\":\"lines\",\"opacity\":0.1,\"showlegend\":false,\"x\":[0,99999],\"xaxis\":\"x10\",\"y\":[0.27309810778043564,-0.2730981080391738],\"yaxis\":\"y10\",\"type\":\"scatter\"},{\"legendgroup\":\"1\",\"line\":{\"color\":\"#808080\"},\"mode\":\"lines\",\"opacity\":0.1,\"showlegend\":false,\"x\":[0,99999],\"xaxis\":\"x10\",\"y\":[-0.2730981077804357,0.27309810803917384],\"yaxis\":\"y10\",\"type\":\"scatter\"},{\"legendgroup\":\"0\",\"line\":{\"color\":\"#808080\"},\"mode\":\"lines\",\"opacity\":0.1,\"showlegend\":false,\"x\":[0,99999],\"xaxis\":\"x10\",\"y\":[0.2733120208797537,-0.27331202113869446],\"yaxis\":\"y10\",\"type\":\"scatter\"},{\"legendgroup\":\"1\",\"line\":{\"color\":\"#808080\"},\"mode\":\"lines\",\"opacity\":0.1,\"showlegend\":false,\"x\":[0,99999],\"xaxis\":\"x10\",\"y\":[-0.27331202087975376,0.2733120211386945],\"yaxis\":\"y10\",\"type\":\"scatter\"},{\"legendgroup\":\"0\",\"line\":{\"color\":\"#808080\"},\"mode\":\"lines\",\"opacity\":0.1,\"showlegend\":false,\"x\":[0,99999],\"xaxis\":\"x10\",\"y\":[0.2734080933524719,-0.2734080936115037],\"yaxis\":\"y10\",\"type\":\"scatter\"},{\"legendgroup\":\"1\",\"line\":{\"color\":\"#808080\"},\"mode\":\"lines\",\"opacity\":0.1,\"showlegend\":false,\"x\":[0,99999],\"xaxis\":\"x10\",\"y\":[-0.2734080933524719,0.2734080936115037],\"yaxis\":\"y10\",\"type\":\"scatter\"},{\"legendgroup\":\"0\",\"line\":{\"color\":\"#808080\"},\"mode\":\"lines\",\"opacity\":0.1,\"showlegend\":false,\"x\":[0,99999],\"xaxis\":\"x10\",\"y\":[0.27382260435989386,-0.27382260461931845],\"yaxis\":\"y10\",\"type\":\"scatter\"},{\"legendgroup\":\"1\",\"line\":{\"color\":\"#808080\"},\"mode\":\"lines\",\"opacity\":0.1,\"showlegend\":false,\"x\":[0,99999],\"xaxis\":\"x10\",\"y\":[-0.2738226043598939,0.2738226046193185],\"yaxis\":\"y10\",\"type\":\"scatter\"},{\"legendgroup\":\"0\",\"line\":{\"color\":\"#808080\"},\"mode\":\"lines\",\"opacity\":0.1,\"showlegend\":false,\"x\":[0,99999],\"xaxis\":\"x10\",\"y\":[0.2727765381033709,-0.2727765383618044],\"yaxis\":\"y10\",\"type\":\"scatter\"},{\"legendgroup\":\"1\",\"line\":{\"color\":\"#808080\"},\"mode\":\"lines\",\"opacity\":0.1,\"showlegend\":false,\"x\":[0,99999],\"xaxis\":\"x10\",\"y\":[-0.2727765381033709,0.2727765383618044],\"yaxis\":\"y10\",\"type\":\"scatter\"},{\"legendgroup\":\"0\",\"line\":{\"color\":\"#808080\"},\"mode\":\"lines\",\"opacity\":0.1,\"showlegend\":false,\"x\":[0,99999],\"xaxis\":\"x10\",\"y\":[0.27295797468810046,-0.2729579749467058],\"yaxis\":\"y10\",\"type\":\"scatter\"},{\"legendgroup\":\"1\",\"line\":{\"color\":\"#808080\"},\"mode\":\"lines\",\"opacity\":0.1,\"showlegend\":false,\"x\":[0,99999],\"xaxis\":\"x10\",\"y\":[-0.27295797468810046,0.2729579749467058],\"yaxis\":\"y10\",\"type\":\"scatter\"},{\"legendgroup\":\"0\",\"line\":{\"color\":\"#808080\"},\"mode\":\"lines\",\"opacity\":0.1,\"showlegend\":false,\"x\":[0,99999],\"xaxis\":\"x10\",\"y\":[0.2774771633724166,-0.27747716363530356],\"yaxis\":\"y10\",\"type\":\"scatter\"},{\"legendgroup\":\"1\",\"line\":{\"color\":\"#808080\"},\"mode\":\"lines\",\"opacity\":0.1,\"showlegend\":false,\"x\":[0,99999],\"xaxis\":\"x10\",\"y\":[-0.2774771633724166,0.27747716363530356],\"yaxis\":\"y10\",\"type\":\"scatter\"},{\"legendgroup\":\"0\",\"line\":{\"color\":\"#808080\"},\"mode\":\"lines\",\"opacity\":0.1,\"showlegend\":false,\"x\":[0,99999],\"xaxis\":\"x10\",\"y\":[0.276341797265877,-0.2763417975276882],\"yaxis\":\"y10\",\"type\":\"scatter\"},{\"legendgroup\":\"1\",\"line\":{\"color\":\"#808080\"},\"mode\":\"lines\",\"opacity\":0.1,\"showlegend\":false,\"x\":[0,99999],\"xaxis\":\"x10\",\"y\":[-0.276341797265877,0.2763417975276882],\"yaxis\":\"y10\",\"type\":\"scatter\"},{\"legendgroup\":\"0\",\"line\":{\"color\":\"#808080\"},\"mode\":\"lines\",\"opacity\":0.1,\"showlegend\":false,\"x\":[0,99999],\"xaxis\":\"x10\",\"y\":[0.27174669810549923,-0.27174669836295695],\"yaxis\":\"y10\",\"type\":\"scatter\"},{\"legendgroup\":\"1\",\"line\":{\"color\":\"#808080\"},\"mode\":\"lines\",\"opacity\":0.1,\"showlegend\":false,\"x\":[0,99999],\"xaxis\":\"x10\",\"y\":[-0.27174669810549923,0.27174669836295695],\"yaxis\":\"y10\",\"type\":\"scatter\"},{\"legendgroup\":\"0\",\"legendgrouptitle\":{\"text\":\"0\"},\"name\":\"Capital Lo*\",\"x\":[0,3900],\"xaxis\":\"x11\",\"y\":[0.10347249580188336,-0.10347249581168513],\"yaxis\":\"y11\",\"type\":\"scatter\"},{\"legendgroup\":\"1\",\"legendgrouptitle\":{\"text\":\"1\"},\"name\":\"Capital Lo*\",\"x\":[0,3900],\"xaxis\":\"x11\",\"y\":[-0.10347249580188338,0.10347249581168518],\"yaxis\":\"y11\",\"type\":\"scatter\"},{\"legendgroup\":\"0\",\"line\":{\"color\":\"#808080\"},\"mode\":\"lines\",\"opacity\":0.1,\"showlegend\":false,\"x\":[0,3900],\"xaxis\":\"x11\",\"y\":[0.101848420650588,-0.10184842074708103],\"yaxis\":\"y11\",\"type\":\"scatter\"},{\"legendgroup\":\"1\",\"line\":{\"color\":\"#808080\"},\"mode\":\"lines\",\"opacity\":0.1,\"showlegend\":false,\"x\":[0,3900],\"xaxis\":\"x11\",\"y\":[-0.10184842065058802,0.10184842074708106],\"yaxis\":\"y11\",\"type\":\"scatter\"},{\"legendgroup\":\"0\",\"line\":{\"color\":\"#808080\"},\"mode\":\"lines\",\"opacity\":0.1,\"showlegend\":false,\"x\":[0,3900],\"xaxis\":\"x11\",\"y\":[0.10312233144207134,-0.1031223315397713],\"yaxis\":\"y11\",\"type\":\"scatter\"},{\"legendgroup\":\"1\",\"line\":{\"color\":\"#808080\"},\"mode\":\"lines\",\"opacity\":0.1,\"showlegend\":false,\"x\":[0,3900],\"xaxis\":\"x11\",\"y\":[-0.10312233144207136,0.10312233153977132],\"yaxis\":\"y11\",\"type\":\"scatter\"},{\"legendgroup\":\"0\",\"line\":{\"color\":\"#808080\"},\"mode\":\"lines\",\"opacity\":0.1,\"showlegend\":false,\"x\":[0,3900],\"xaxis\":\"x11\",\"y\":[0.10169446067888514,-0.10169446077523232],\"yaxis\":\"y11\",\"type\":\"scatter\"},{\"legendgroup\":\"1\",\"line\":{\"color\":\"#808080\"},\"mode\":\"lines\",\"opacity\":0.1,\"showlegend\":false,\"x\":[0,3900],\"xaxis\":\"x11\",\"y\":[-0.10169446067888517,0.10169446077523235],\"yaxis\":\"y11\",\"type\":\"scatter\"},{\"legendgroup\":\"0\",\"line\":{\"color\":\"#808080\"},\"mode\":\"lines\",\"opacity\":0.1,\"showlegend\":false,\"x\":[0,3900],\"xaxis\":\"x11\",\"y\":[0.1018229009382373,-0.10182290103470616],\"yaxis\":\"y11\",\"type\":\"scatter\"},{\"legendgroup\":\"1\",\"line\":{\"color\":\"#808080\"},\"mode\":\"lines\",\"opacity\":0.1,\"showlegend\":false,\"x\":[0,3900],\"xaxis\":\"x11\",\"y\":[-0.10182290093823733,0.10182290103470619],\"yaxis\":\"y11\",\"type\":\"scatter\"},{\"legendgroup\":\"0\",\"line\":{\"color\":\"#808080\"},\"mode\":\"lines\",\"opacity\":0.1,\"showlegend\":false,\"x\":[0,3900],\"xaxis\":\"x11\",\"y\":[0.10281932795601771,-0.10281932805343062],\"yaxis\":\"y11\",\"type\":\"scatter\"},{\"legendgroup\":\"1\",\"line\":{\"color\":\"#808080\"},\"mode\":\"lines\",\"opacity\":0.1,\"showlegend\":false,\"x\":[0,3900],\"xaxis\":\"x11\",\"y\":[-0.10281932795601774,0.10281932805343065],\"yaxis\":\"y11\",\"type\":\"scatter\"},{\"legendgroup\":\"0\",\"line\":{\"color\":\"#808080\"},\"mode\":\"lines\",\"opacity\":0.1,\"showlegend\":false,\"x\":[0,3900],\"xaxis\":\"x11\",\"y\":[0.10166365755312147,-0.10166365764943948],\"yaxis\":\"y11\",\"type\":\"scatter\"},{\"legendgroup\":\"1\",\"line\":{\"color\":\"#808080\"},\"mode\":\"lines\",\"opacity\":0.1,\"showlegend\":false,\"x\":[0,3900],\"xaxis\":\"x11\",\"y\":[-0.10166365755312148,0.10166365764943949],\"yaxis\":\"y11\",\"type\":\"scatter\"},{\"legendgroup\":\"0\",\"line\":{\"color\":\"#808080\"},\"mode\":\"lines\",\"opacity\":0.1,\"showlegend\":false,\"x\":[0,3900],\"xaxis\":\"x11\",\"y\":[0.10339399709305198,-0.10339399719100932],\"yaxis\":\"y11\",\"type\":\"scatter\"},{\"legendgroup\":\"1\",\"line\":{\"color\":\"#808080\"},\"mode\":\"lines\",\"opacity\":0.1,\"showlegend\":false,\"x\":[0,3900],\"xaxis\":\"x11\",\"y\":[-0.10339399709305201,0.10339399719100935],\"yaxis\":\"y11\",\"type\":\"scatter\"},{\"legendgroup\":\"0\",\"line\":{\"color\":\"#808080\"},\"mode\":\"lines\",\"opacity\":0.1,\"showlegend\":false,\"x\":[0,3900],\"xaxis\":\"x11\",\"y\":[0.10522912800217515,-0.10522912810187116],\"yaxis\":\"y11\",\"type\":\"scatter\"},{\"legendgroup\":\"1\",\"line\":{\"color\":\"#808080\"},\"mode\":\"lines\",\"opacity\":0.1,\"showlegend\":false,\"x\":[0,3900],\"xaxis\":\"x11\",\"y\":[-0.10522912800217517,0.10522912810187117],\"yaxis\":\"y11\",\"type\":\"scatter\"},{\"legendgroup\":\"0\",\"line\":{\"color\":\"#808080\"},\"mode\":\"lines\",\"opacity\":0.1,\"showlegend\":false,\"x\":[0,3900],\"xaxis\":\"x11\",\"y\":[0.10344215595646147,-0.10344215605446444],\"yaxis\":\"y11\",\"type\":\"scatter\"},{\"legendgroup\":\"1\",\"line\":{\"color\":\"#808080\"},\"mode\":\"lines\",\"opacity\":0.1,\"showlegend\":false,\"x\":[0,3900],\"xaxis\":\"x11\",\"y\":[-0.1034421559564615,0.10344215605446447],\"yaxis\":\"y11\",\"type\":\"scatter\"},{\"legendgroup\":\"0\",\"line\":{\"color\":\"#808080\"},\"mode\":\"lines\",\"opacity\":0.1,\"showlegend\":false,\"x\":[0,3900],\"xaxis\":\"x11\",\"y\":[0.10196510472468946,-0.10196510482129305],\"yaxis\":\"y11\",\"type\":\"scatter\"},{\"legendgroup\":\"1\",\"line\":{\"color\":\"#808080\"},\"mode\":\"lines\",\"opacity\":0.1,\"showlegend\":false,\"x\":[0,3900],\"xaxis\":\"x11\",\"y\":[-0.10196510472468949,0.10196510482129308],\"yaxis\":\"y11\",\"type\":\"scatter\"}],                        {\"annotations\":[{\"font\":{\"size\":16},\"showarrow\":false,\"text\":\"Age\",\"x\":0.225,\"xanchor\":\"center\",\"xref\":\"paper\",\"y\":0.9999999999999999,\"yanchor\":\"bottom\",\"yref\":\"paper\"},{\"font\":{\"size\":16},\"showarrow\":false,\"text\":\"Workclass\",\"x\":0.775,\"xanchor\":\"center\",\"xref\":\"paper\",\"y\":0.9999999999999999,\"yanchor\":\"bottom\",\"yref\":\"paper\"},{\"font\":{\"size\":16},\"showarrow\":false,\"text\":\"Education\",\"x\":0.225,\"xanchor\":\"center\",\"xref\":\"paper\",\"y\":0.8194444444444444,\"yanchor\":\"bottom\",\"yref\":\"paper\"},{\"font\":{\"size\":16},\"showarrow\":false,\"text\":\"Occupation\",\"x\":0.775,\"xanchor\":\"center\",\"xref\":\"paper\",\"y\":0.8194444444444444,\"yanchor\":\"bottom\",\"yref\":\"paper\"},{\"font\":{\"size\":16},\"showarrow\":false,\"text\":\"Relationship\",\"x\":0.225,\"xanchor\":\"center\",\"xref\":\"paper\",\"y\":0.638888888888889,\"yanchor\":\"bottom\",\"yref\":\"paper\"},{\"font\":{\"size\":16},\"showarrow\":false,\"text\":\"Race\",\"x\":0.775,\"xanchor\":\"center\",\"xref\":\"paper\",\"y\":0.638888888888889,\"yanchor\":\"bottom\",\"yref\":\"paper\"},{\"font\":{\"size\":16},\"showarrow\":false,\"text\":\"Sex\",\"x\":0.225,\"xanchor\":\"center\",\"xref\":\"paper\",\"y\":0.4583333333333333,\"yanchor\":\"bottom\",\"yref\":\"paper\"},{\"font\":{\"size\":16},\"showarrow\":false,\"text\":\"Hours per week\",\"x\":0.775,\"xanchor\":\"center\",\"xref\":\"paper\",\"y\":0.4583333333333333,\"yanchor\":\"bottom\",\"yref\":\"paper\"},{\"font\":{\"size\":16},\"showarrow\":false,\"text\":\"Country\",\"x\":0.225,\"xanchor\":\"center\",\"xref\":\"paper\",\"y\":0.2777777777777778,\"yanchor\":\"bottom\",\"yref\":\"paper\"},{\"font\":{\"size\":16},\"showarrow\":false,\"text\":\"Capital Gain\",\"x\":0.775,\"xanchor\":\"center\",\"xref\":\"paper\",\"y\":0.2777777777777778,\"yanchor\":\"bottom\",\"yref\":\"paper\"},{\"font\":{\"size\":16},\"showarrow\":false,\"text\":\"Capital Loss\",\"x\":0.225,\"xanchor\":\"center\",\"xref\":\"paper\",\"y\":0.09722222222222222,\"yanchor\":\"bottom\",\"yref\":\"paper\"}],\"height\":1560,\"template\":{\"data\":{\"barpolar\":[{\"marker\":{\"line\":{\"color\":\"#E5ECF6\",\"width\":0.5},\"pattern\":{\"fillmode\":\"overlay\",\"size\":10,\"solidity\":0.2}},\"type\":\"barpolar\"}],\"bar\":[{\"error_x\":{\"color\":\"#2a3f5f\"},\"error_y\":{\"color\":\"#2a3f5f\"},\"marker\":{\"line\":{\"color\":\"#E5ECF6\",\"width\":0.5},\"pattern\":{\"fillmode\":\"overlay\",\"size\":10,\"solidity\":0.2}},\"type\":\"bar\"}],\"carpet\":[{\"aaxis\":{\"endlinecolor\":\"#2a3f5f\",\"gridcolor\":\"white\",\"linecolor\":\"white\",\"minorgridcolor\":\"white\",\"startlinecolor\":\"#2a3f5f\"},\"baxis\":{\"endlinecolor\":\"#2a3f5f\",\"gridcolor\":\"white\",\"linecolor\":\"white\",\"minorgridcolor\":\"white\",\"startlinecolor\":\"#2a3f5f\"},\"type\":\"carpet\"}],\"choropleth\":[{\"colorbar\":{\"outlinewidth\":0,\"ticks\":\"\"},\"type\":\"choropleth\"}],\"contourcarpet\":[{\"colorbar\":{\"outlinewidth\":0,\"ticks\":\"\"},\"type\":\"contourcarpet\"}],\"contour\":[{\"colorbar\":{\"outlinewidth\":0,\"ticks\":\"\"},\"colorscale\":[[0.0,\"#0d0887\"],[0.1111111111111111,\"#46039f\"],[0.2222222222222222,\"#7201a8\"],[0.3333333333333333,\"#9c179e\"],[0.4444444444444444,\"#bd3786\"],[0.5555555555555556,\"#d8576b\"],[0.6666666666666666,\"#ed7953\"],[0.7777777777777778,\"#fb9f3a\"],[0.8888888888888888,\"#fdca26\"],[1.0,\"#f0f921\"]],\"type\":\"contour\"}],\"heatmapgl\":[{\"colorbar\":{\"outlinewidth\":0,\"ticks\":\"\"},\"colorscale\":[[0.0,\"#0d0887\"],[0.1111111111111111,\"#46039f\"],[0.2222222222222222,\"#7201a8\"],[0.3333333333333333,\"#9c179e\"],[0.4444444444444444,\"#bd3786\"],[0.5555555555555556,\"#d8576b\"],[0.6666666666666666,\"#ed7953\"],[0.7777777777777778,\"#fb9f3a\"],[0.8888888888888888,\"#fdca26\"],[1.0,\"#f0f921\"]],\"type\":\"heatmapgl\"}],\"heatmap\":[{\"colorbar\":{\"outlinewidth\":0,\"ticks\":\"\"},\"colorscale\":[[0.0,\"#0d0887\"],[0.1111111111111111,\"#46039f\"],[0.2222222222222222,\"#7201a8\"],[0.3333333333333333,\"#9c179e\"],[0.4444444444444444,\"#bd3786\"],[0.5555555555555556,\"#d8576b\"],[0.6666666666666666,\"#ed7953\"],[0.7777777777777778,\"#fb9f3a\"],[0.8888888888888888,\"#fdca26\"],[1.0,\"#f0f921\"]],\"type\":\"heatmap\"}],\"histogram2dcontour\":[{\"colorbar\":{\"outlinewidth\":0,\"ticks\":\"\"},\"colorscale\":[[0.0,\"#0d0887\"],[0.1111111111111111,\"#46039f\"],[0.2222222222222222,\"#7201a8\"],[0.3333333333333333,\"#9c179e\"],[0.4444444444444444,\"#bd3786\"],[0.5555555555555556,\"#d8576b\"],[0.6666666666666666,\"#ed7953\"],[0.7777777777777778,\"#fb9f3a\"],[0.8888888888888888,\"#fdca26\"],[1.0,\"#f0f921\"]],\"type\":\"histogram2dcontour\"}],\"histogram2d\":[{\"colorbar\":{\"outlinewidth\":0,\"ticks\":\"\"},\"colorscale\":[[0.0,\"#0d0887\"],[0.1111111111111111,\"#46039f\"],[0.2222222222222222,\"#7201a8\"],[0.3333333333333333,\"#9c179e\"],[0.4444444444444444,\"#bd3786\"],[0.5555555555555556,\"#d8576b\"],[0.6666666666666666,\"#ed7953\"],[0.7777777777777778,\"#fb9f3a\"],[0.8888888888888888,\"#fdca26\"],[1.0,\"#f0f921\"]],\"type\":\"histogram2d\"}],\"histogram\":[{\"marker\":{\"pattern\":{\"fillmode\":\"overlay\",\"size\":10,\"solidity\":0.2}},\"type\":\"histogram\"}],\"mesh3d\":[{\"colorbar\":{\"outlinewidth\":0,\"ticks\":\"\"},\"type\":\"mesh3d\"}],\"parcoords\":[{\"line\":{\"colorbar\":{\"outlinewidth\":0,\"ticks\":\"\"}},\"type\":\"parcoords\"}],\"pie\":[{\"automargin\":true,\"type\":\"pie\"}],\"scatter3d\":[{\"line\":{\"colorbar\":{\"outlinewidth\":0,\"ticks\":\"\"}},\"marker\":{\"colorbar\":{\"outlinewidth\":0,\"ticks\":\"\"}},\"type\":\"scatter3d\"}],\"scattercarpet\":[{\"marker\":{\"colorbar\":{\"outlinewidth\":0,\"ticks\":\"\"}},\"type\":\"scattercarpet\"}],\"scattergeo\":[{\"marker\":{\"colorbar\":{\"outlinewidth\":0,\"ticks\":\"\"}},\"type\":\"scattergeo\"}],\"scattergl\":[{\"marker\":{\"colorbar\":{\"outlinewidth\":0,\"ticks\":\"\"}},\"type\":\"scattergl\"}],\"scattermapbox\":[{\"marker\":{\"colorbar\":{\"outlinewidth\":0,\"ticks\":\"\"}},\"type\":\"scattermapbox\"}],\"scatterpolargl\":[{\"marker\":{\"colorbar\":{\"outlinewidth\":0,\"ticks\":\"\"}},\"type\":\"scatterpolargl\"}],\"scatterpolar\":[{\"marker\":{\"colorbar\":{\"outlinewidth\":0,\"ticks\":\"\"}},\"type\":\"scatterpolar\"}],\"scatter\":[{\"fillpattern\":{\"fillmode\":\"overlay\",\"size\":10,\"solidity\":0.2},\"type\":\"scatter\"}],\"scatterternary\":[{\"marker\":{\"colorbar\":{\"outlinewidth\":0,\"ticks\":\"\"}},\"type\":\"scatterternary\"}],\"surface\":[{\"colorbar\":{\"outlinewidth\":0,\"ticks\":\"\"},\"colorscale\":[[0.0,\"#0d0887\"],[0.1111111111111111,\"#46039f\"],[0.2222222222222222,\"#7201a8\"],[0.3333333333333333,\"#9c179e\"],[0.4444444444444444,\"#bd3786\"],[0.5555555555555556,\"#d8576b\"],[0.6666666666666666,\"#ed7953\"],[0.7777777777777778,\"#fb9f3a\"],[0.8888888888888888,\"#fdca26\"],[1.0,\"#f0f921\"]],\"type\":\"surface\"}],\"table\":[{\"cells\":{\"fill\":{\"color\":\"#EBF0F8\"},\"line\":{\"color\":\"white\"}},\"header\":{\"fill\":{\"color\":\"#C8D4E3\"},\"line\":{\"color\":\"white\"}},\"type\":\"table\"}]},\"layout\":{\"annotationdefaults\":{\"arrowcolor\":\"#2a3f5f\",\"arrowhead\":0,\"arrowwidth\":1},\"autotypenumbers\":\"strict\",\"coloraxis\":{\"colorbar\":{\"outlinewidth\":0,\"ticks\":\"\"}},\"colorscale\":{\"diverging\":[[0,\"#8e0152\"],[0.1,\"#c51b7d\"],[0.2,\"#de77ae\"],[0.3,\"#f1b6da\"],[0.4,\"#fde0ef\"],[0.5,\"#f7f7f7\"],[0.6,\"#e6f5d0\"],[0.7,\"#b8e186\"],[0.8,\"#7fbc41\"],[0.9,\"#4d9221\"],[1,\"#276419\"]],\"sequential\":[[0.0,\"#0d0887\"],[0.1111111111111111,\"#46039f\"],[0.2222222222222222,\"#7201a8\"],[0.3333333333333333,\"#9c179e\"],[0.4444444444444444,\"#bd3786\"],[0.5555555555555556,\"#d8576b\"],[0.6666666666666666,\"#ed7953\"],[0.7777777777777778,\"#fb9f3a\"],[0.8888888888888888,\"#fdca26\"],[1.0,\"#f0f921\"]],\"sequentialminus\":[[0.0,\"#0d0887\"],[0.1111111111111111,\"#46039f\"],[0.2222222222222222,\"#7201a8\"],[0.3333333333333333,\"#9c179e\"],[0.4444444444444444,\"#bd3786\"],[0.5555555555555556,\"#d8576b\"],[0.6666666666666666,\"#ed7953\"],[0.7777777777777778,\"#fb9f3a\"],[0.8888888888888888,\"#fdca26\"],[1.0,\"#f0f921\"]]},\"colorway\":[\"#636efa\",\"#EF553B\",\"#00cc96\",\"#ab63fa\",\"#FFA15A\",\"#19d3f3\",\"#FF6692\",\"#B6E880\",\"#FF97FF\",\"#FECB52\"],\"font\":{\"color\":\"#2a3f5f\"},\"geo\":{\"bgcolor\":\"white\",\"lakecolor\":\"white\",\"landcolor\":\"#E5ECF6\",\"showlakes\":true,\"showland\":true,\"subunitcolor\":\"white\"},\"hoverlabel\":{\"align\":\"left\"},\"hovermode\":\"closest\",\"mapbox\":{\"style\":\"light\"},\"paper_bgcolor\":\"white\",\"plot_bgcolor\":\"#E5ECF6\",\"polar\":{\"angularaxis\":{\"gridcolor\":\"white\",\"linecolor\":\"white\",\"ticks\":\"\"},\"bgcolor\":\"#E5ECF6\",\"radialaxis\":{\"gridcolor\":\"white\",\"linecolor\":\"white\",\"ticks\":\"\"}},\"scene\":{\"xaxis\":{\"backgroundcolor\":\"#E5ECF6\",\"gridcolor\":\"white\",\"gridwidth\":2,\"linecolor\":\"white\",\"showbackground\":true,\"ticks\":\"\",\"zerolinecolor\":\"white\"},\"yaxis\":{\"backgroundcolor\":\"#E5ECF6\",\"gridcolor\":\"white\",\"gridwidth\":2,\"linecolor\":\"white\",\"showbackground\":true,\"ticks\":\"\",\"zerolinecolor\":\"white\"},\"zaxis\":{\"backgroundcolor\":\"#E5ECF6\",\"gridcolor\":\"white\",\"gridwidth\":2,\"linecolor\":\"white\",\"showbackground\":true,\"ticks\":\"\",\"zerolinecolor\":\"white\"}},\"shapedefaults\":{\"line\":{\"color\":\"#2a3f5f\"}},\"ternary\":{\"aaxis\":{\"gridcolor\":\"white\",\"linecolor\":\"white\",\"ticks\":\"\"},\"baxis\":{\"gridcolor\":\"white\",\"linecolor\":\"white\",\"ticks\":\"\"},\"bgcolor\":\"#E5ECF6\",\"caxis\":{\"gridcolor\":\"white\",\"linecolor\":\"white\",\"ticks\":\"\"}},\"title\":{\"x\":0.05},\"xaxis\":{\"automargin\":true,\"gridcolor\":\"white\",\"linecolor\":\"white\",\"ticks\":\"\",\"title\":{\"standoff\":15},\"zerolinecolor\":\"white\",\"zerolinewidth\":2},\"yaxis\":{\"automargin\":true,\"gridcolor\":\"white\",\"linecolor\":\"white\",\"ticks\":\"\",\"title\":{\"standoff\":15},\"zerolinecolor\":\"white\",\"zerolinewidth\":2}}},\"xaxis\":{\"anchor\":\"y\",\"domain\":[0.0,0.45]},\"yaxis\":{\"anchor\":\"x\",\"domain\":[0.9027777777777777,0.9999999999999999]},\"xaxis2\":{\"anchor\":\"y2\",\"domain\":[0.55,1.0]},\"yaxis2\":{\"anchor\":\"x2\",\"domain\":[0.9027777777777777,0.9999999999999999]},\"xaxis3\":{\"anchor\":\"y3\",\"domain\":[0.0,0.45]},\"yaxis3\":{\"anchor\":\"x3\",\"domain\":[0.7222222222222222,0.8194444444444444]},\"xaxis4\":{\"anchor\":\"y4\",\"domain\":[0.55,1.0]},\"yaxis4\":{\"anchor\":\"x4\",\"domain\":[0.7222222222222222,0.8194444444444444]},\"xaxis5\":{\"anchor\":\"y5\",\"domain\":[0.0,0.45]},\"yaxis5\":{\"anchor\":\"x5\",\"domain\":[0.5416666666666667,0.638888888888889]},\"xaxis6\":{\"anchor\":\"y6\",\"domain\":[0.55,1.0]},\"yaxis6\":{\"anchor\":\"x6\",\"domain\":[0.5416666666666667,0.638888888888889]},\"xaxis7\":{\"anchor\":\"y7\",\"domain\":[0.0,0.45]},\"yaxis7\":{\"anchor\":\"x7\",\"domain\":[0.3611111111111111,0.4583333333333333]},\"xaxis8\":{\"anchor\":\"y8\",\"domain\":[0.55,1.0]},\"yaxis8\":{\"anchor\":\"x8\",\"domain\":[0.3611111111111111,0.4583333333333333]},\"xaxis9\":{\"anchor\":\"y9\",\"domain\":[0.0,0.45]},\"yaxis9\":{\"anchor\":\"x9\",\"domain\":[0.18055555555555555,0.2777777777777778]},\"xaxis10\":{\"anchor\":\"y10\",\"domain\":[0.55,1.0]},\"yaxis10\":{\"anchor\":\"x10\",\"domain\":[0.18055555555555555,0.2777777777777778]},\"xaxis11\":{\"anchor\":\"y11\",\"domain\":[0.0,0.45]},\"yaxis11\":{\"anchor\":\"x11\",\"domain\":[0.0,0.09722222222222222]},\"xaxis12\":{\"anchor\":\"y12\",\"domain\":[0.55,1.0]},\"yaxis12\":{\"anchor\":\"x12\",\"domain\":[0.0,0.09722222222222222]}},                        {\"responsive\": true}                    ).then(function(){\n",
       "                            \n",
       "var gd = document.getElementById('f7cf7b7f-63be-431b-b94c-12fbc8a07da1');\n",
       "var x = new MutationObserver(function (mutations, observer) {{\n",
       "        var display = window.getComputedStyle(gd).display;\n",
       "        if (!display || display === 'none') {{\n",
       "            console.log([gd, 'removed!']);\n",
       "            Plotly.purge(gd);\n",
       "            observer.disconnect();\n",
       "        }}\n",
       "}});\n",
       "\n",
       "// Listen for the removal of the full notebook cells\n",
       "var notebookContainer = gd.closest('#notebook-container');\n",
       "if (notebookContainer) {{\n",
       "    x.observe(notebookContainer, {childList: true});\n",
       "}}\n",
       "\n",
       "// Listen for the clearing of the current output cell\n",
       "var outputEl = gd.closest('.output');\n",
       "if (outputEl) {{\n",
       "    x.observe(outputEl, {childList: true});\n",
       "}}\n",
       "\n",
       "                        })                };                });            </script>        </div>"
      ]
     },
     "metadata": {},
     "output_type": "display_data"
    }
   ],
   "source": [
    "print(\"ALE results:\")\n",
    "global_explanations[\"ale\"].ipython_plot(class_names=class_names)"
   ]
  },
  {
   "cell_type": "markdown",
   "id": "2f342ae9-cac0-4386-b88e-a4dccf47802d",
   "metadata": {},
   "source": [
    "The ALE Explainer isolates one feature at a time and estimates the contribution of the feature value to the outcome\n",
    "\n",
    "We have one plot for each attribute, where the x-axis shows the different possible values of each attribute and y-axis shows the contribution of the value to the outcome (overall training of the model)\n",
    "\n",
    "The results are symmetric with one for positive (showing the features that contribute to an outcome of 1) and one for negative (shows features than contribute to an outcome of 0).\n",
    "\n",
    "From the plots,\n",
    "Age: aged individuals have more chance to earn a higher income\n",
    "\n",
    "Workclass: Federal-gov and self-emp-inc have higher chances to earn a higher income than other work classes\n",
    "\n",
    "Education: Individuals with higher educational value (Doctorate, Professional School, Masters) have more chances to earn higher incomes\n",
    "\n",
    "and it goes on like that.\n"
   ]
  },
  {
   "cell_type": "markdown",
   "id": "d39acdde-e885-4fd0-854f-ea79094ad657",
   "metadata": {},
   "source": [
    "### Local Explainability"
   ]
  },
  {
   "cell_type": "markdown",
   "id": "d46601a1-f3bd-4d75-b6e1-c3c6c3449b17",
   "metadata": {},
   "source": [
    "#### Get instances where the model is wrong but highly confident"
   ]
  },
  {
   "cell_type": "code",
   "execution_count": 82,
   "id": "5ebfc484-6c3c-4edb-a489-e7a73d8bbfac",
   "metadata": {},
   "outputs": [
    {
     "name": "stdout",
     "output_type": "stream",
     "text": [
      "There are 48 instances where the model was wrong but had a confidence greater than 0.98\n",
      "Instances with High-Confidence Errors (> 0.98):\n"
     ]
    },
    {
     "data": {
      "text/html": [
       "<div>\n",
       "<style scoped>\n",
       "    .dataframe tbody tr th:only-of-type {\n",
       "        vertical-align: middle;\n",
       "    }\n",
       "\n",
       "    .dataframe tbody tr th {\n",
       "        vertical-align: top;\n",
       "    }\n",
       "\n",
       "    .dataframe thead th {\n",
       "        text-align: right;\n",
       "    }\n",
       "</style>\n",
       "<table border=\"1\" class=\"dataframe\">\n",
       "  <thead>\n",
       "    <tr style=\"text-align: right;\">\n",
       "      <th></th>\n",
       "      <th>Age</th>\n",
       "      <th>Workclass</th>\n",
       "      <th>Education</th>\n",
       "      <th>Occupation</th>\n",
       "      <th>Relationship</th>\n",
       "      <th>Race</th>\n",
       "      <th>Sex</th>\n",
       "      <th>Capital Gain</th>\n",
       "      <th>Capital Loss</th>\n",
       "      <th>Hours per week</th>\n",
       "      <th>Country</th>\n",
       "      <th>label</th>\n",
       "      <th>prediction</th>\n",
       "      <th>confidence</th>\n",
       "    </tr>\n",
       "  </thead>\n",
       "  <tbody>\n",
       "    <tr>\n",
       "      <th>96</th>\n",
       "      <td>Aged</td>\n",
       "      <td>Private</td>\n",
       "      <td>HS-grad</td>\n",
       "      <td>Exec-managerial</td>\n",
       "      <td>Not-in-family</td>\n",
       "      <td>White</td>\n",
       "      <td>Male</td>\n",
       "      <td>0.0</td>\n",
       "      <td>0.0</td>\n",
       "      <td>OverTime</td>\n",
       "      <td>United-States</td>\n",
       "      <td>1</td>\n",
       "      <td>0.0</td>\n",
       "      <td>1.000000</td>\n",
       "    </tr>\n",
       "    <tr>\n",
       "      <th>363</th>\n",
       "      <td>Aged</td>\n",
       "      <td>Private</td>\n",
       "      <td>Some-college</td>\n",
       "      <td>Exec-managerial</td>\n",
       "      <td>Not-in-family</td>\n",
       "      <td>White</td>\n",
       "      <td>Male</td>\n",
       "      <td>0.0</td>\n",
       "      <td>0.0</td>\n",
       "      <td>OverTime</td>\n",
       "      <td>United-States</td>\n",
       "      <td>1</td>\n",
       "      <td>0.0</td>\n",
       "      <td>1.000000</td>\n",
       "    </tr>\n",
       "    <tr>\n",
       "      <th>438</th>\n",
       "      <td>Aged</td>\n",
       "      <td>Private</td>\n",
       "      <td>Bachelors</td>\n",
       "      <td>Sales</td>\n",
       "      <td>Married</td>\n",
       "      <td>White</td>\n",
       "      <td>Female</td>\n",
       "      <td>0.0</td>\n",
       "      <td>0.0</td>\n",
       "      <td>BrainDrain</td>\n",
       "      <td>United-States</td>\n",
       "      <td>0</td>\n",
       "      <td>1.0</td>\n",
       "      <td>0.990000</td>\n",
       "    </tr>\n",
       "    <tr>\n",
       "      <th>663</th>\n",
       "      <td>Aged</td>\n",
       "      <td>Private</td>\n",
       "      <td>Bachelors</td>\n",
       "      <td>Sales</td>\n",
       "      <td>Married</td>\n",
       "      <td>White</td>\n",
       "      <td>Female</td>\n",
       "      <td>0.0</td>\n",
       "      <td>0.0</td>\n",
       "      <td>FullTime</td>\n",
       "      <td>United-States</td>\n",
       "      <td>0</td>\n",
       "      <td>1.0</td>\n",
       "      <td>1.000000</td>\n",
       "    </tr>\n",
       "    <tr>\n",
       "      <th>664</th>\n",
       "      <td>Aged</td>\n",
       "      <td>Private</td>\n",
       "      <td>Doctorate</td>\n",
       "      <td>Prof-specialty</td>\n",
       "      <td>Married</td>\n",
       "      <td>White</td>\n",
       "      <td>Male</td>\n",
       "      <td>0.0</td>\n",
       "      <td>0.0</td>\n",
       "      <td>BrainDrain</td>\n",
       "      <td>United-States</td>\n",
       "      <td>0</td>\n",
       "      <td>1.0</td>\n",
       "      <td>0.996000</td>\n",
       "    </tr>\n",
       "    <tr>\n",
       "      <th>696</th>\n",
       "      <td>Aged</td>\n",
       "      <td>Private</td>\n",
       "      <td>11th</td>\n",
       "      <td>Other-service</td>\n",
       "      <td>Married</td>\n",
       "      <td>Black</td>\n",
       "      <td>Male</td>\n",
       "      <td>0.0</td>\n",
       "      <td>0.0</td>\n",
       "      <td>MidTime</td>\n",
       "      <td>United-States</td>\n",
       "      <td>1</td>\n",
       "      <td>0.0</td>\n",
       "      <td>0.988333</td>\n",
       "    </tr>\n",
       "    <tr>\n",
       "      <th>725</th>\n",
       "      <td>Aged</td>\n",
       "      <td>Private</td>\n",
       "      <td>9th</td>\n",
       "      <td>Machine-op-inspct</td>\n",
       "      <td>Married</td>\n",
       "      <td>White</td>\n",
       "      <td>Male</td>\n",
       "      <td>0.0</td>\n",
       "      <td>0.0</td>\n",
       "      <td>FullTime</td>\n",
       "      <td>United-States</td>\n",
       "      <td>1</td>\n",
       "      <td>0.0</td>\n",
       "      <td>0.997500</td>\n",
       "    </tr>\n",
       "    <tr>\n",
       "      <th>993</th>\n",
       "      <td>Young</td>\n",
       "      <td>Private</td>\n",
       "      <td>Assoc-voc</td>\n",
       "      <td>Craft-repair</td>\n",
       "      <td>Own-child</td>\n",
       "      <td>White</td>\n",
       "      <td>Male</td>\n",
       "      <td>0.0</td>\n",
       "      <td>0.0</td>\n",
       "      <td>FullTime</td>\n",
       "      <td>United-States</td>\n",
       "      <td>1</td>\n",
       "      <td>0.0</td>\n",
       "      <td>0.995500</td>\n",
       "    </tr>\n",
       "    <tr>\n",
       "      <th>1042</th>\n",
       "      <td>Young</td>\n",
       "      <td>Private</td>\n",
       "      <td>Some-college</td>\n",
       "      <td>Exec-managerial</td>\n",
       "      <td>Not-in-family</td>\n",
       "      <td>White</td>\n",
       "      <td>Male</td>\n",
       "      <td>0.0</td>\n",
       "      <td>0.0</td>\n",
       "      <td>OverTime</td>\n",
       "      <td>United-States</td>\n",
       "      <td>1</td>\n",
       "      <td>0.0</td>\n",
       "      <td>1.000000</td>\n",
       "    </tr>\n",
       "    <tr>\n",
       "      <th>1144</th>\n",
       "      <td>Young</td>\n",
       "      <td>Private</td>\n",
       "      <td>Masters</td>\n",
       "      <td>Prof-specialty</td>\n",
       "      <td>Married</td>\n",
       "      <td>White</td>\n",
       "      <td>Female</td>\n",
       "      <td>0.0</td>\n",
       "      <td>0.0</td>\n",
       "      <td>OverTime</td>\n",
       "      <td>United-States</td>\n",
       "      <td>0</td>\n",
       "      <td>1.0</td>\n",
       "      <td>0.984167</td>\n",
       "    </tr>\n",
       "    <tr>\n",
       "      <th>1317</th>\n",
       "      <td>Aged</td>\n",
       "      <td>Private</td>\n",
       "      <td>11th</td>\n",
       "      <td>Craft-repair</td>\n",
       "      <td>Married</td>\n",
       "      <td>White</td>\n",
       "      <td>Female</td>\n",
       "      <td>0.0</td>\n",
       "      <td>0.0</td>\n",
       "      <td>OverTime</td>\n",
       "      <td>United-States</td>\n",
       "      <td>1</td>\n",
       "      <td>0.0</td>\n",
       "      <td>0.982500</td>\n",
       "    </tr>\n",
       "    <tr>\n",
       "      <th>1369</th>\n",
       "      <td>Young</td>\n",
       "      <td>Local-gov</td>\n",
       "      <td>Bachelors</td>\n",
       "      <td>Prof-specialty</td>\n",
       "      <td>Unmarried</td>\n",
       "      <td>White</td>\n",
       "      <td>Female</td>\n",
       "      <td>0.0</td>\n",
       "      <td>0.0</td>\n",
       "      <td>FullTime</td>\n",
       "      <td>United-States</td>\n",
       "      <td>1</td>\n",
       "      <td>0.0</td>\n",
       "      <td>0.996071</td>\n",
       "    </tr>\n",
       "    <tr>\n",
       "      <th>1581</th>\n",
       "      <td>Young</td>\n",
       "      <td>Private</td>\n",
       "      <td>Some-college</td>\n",
       "      <td>Craft-repair</td>\n",
       "      <td>Not-in-family</td>\n",
       "      <td>White</td>\n",
       "      <td>Male</td>\n",
       "      <td>0.0</td>\n",
       "      <td>0.0</td>\n",
       "      <td>FullTime</td>\n",
       "      <td>United-States</td>\n",
       "      <td>1</td>\n",
       "      <td>0.0</td>\n",
       "      <td>1.000000</td>\n",
       "    </tr>\n",
       "    <tr>\n",
       "      <th>1605</th>\n",
       "      <td>Aged</td>\n",
       "      <td>Private</td>\n",
       "      <td>HS-grad</td>\n",
       "      <td>Transport-moving</td>\n",
       "      <td>Married</td>\n",
       "      <td>Black</td>\n",
       "      <td>Male</td>\n",
       "      <td>0.0</td>\n",
       "      <td>0.0</td>\n",
       "      <td>FullTime</td>\n",
       "      <td>United-States</td>\n",
       "      <td>1</td>\n",
       "      <td>0.0</td>\n",
       "      <td>0.986667</td>\n",
       "    </tr>\n",
       "    <tr>\n",
       "      <th>1621</th>\n",
       "      <td>Aged</td>\n",
       "      <td>Private</td>\n",
       "      <td>HS-grad</td>\n",
       "      <td>Craft-repair</td>\n",
       "      <td>Unmarried</td>\n",
       "      <td>White</td>\n",
       "      <td>Male</td>\n",
       "      <td>0.0</td>\n",
       "      <td>0.0</td>\n",
       "      <td>FullTime</td>\n",
       "      <td>United-States</td>\n",
       "      <td>1</td>\n",
       "      <td>0.0</td>\n",
       "      <td>1.000000</td>\n",
       "    </tr>\n",
       "    <tr>\n",
       "      <th>1889</th>\n",
       "      <td>Young</td>\n",
       "      <td>Self-emp-not-inc</td>\n",
       "      <td>Some-college</td>\n",
       "      <td>Farming-fishing</td>\n",
       "      <td>Married</td>\n",
       "      <td>White</td>\n",
       "      <td>Female</td>\n",
       "      <td>0.0</td>\n",
       "      <td>0.0</td>\n",
       "      <td>OverTime</td>\n",
       "      <td>United-States</td>\n",
       "      <td>1</td>\n",
       "      <td>0.0</td>\n",
       "      <td>0.990000</td>\n",
       "    </tr>\n",
       "    <tr>\n",
       "      <th>1912</th>\n",
       "      <td>Aged</td>\n",
       "      <td>Private</td>\n",
       "      <td>HS-grad</td>\n",
       "      <td>Transport-moving</td>\n",
       "      <td>Not-in-family</td>\n",
       "      <td>White</td>\n",
       "      <td>Male</td>\n",
       "      <td>0.0</td>\n",
       "      <td>0.0</td>\n",
       "      <td>OverTime</td>\n",
       "      <td>United-States</td>\n",
       "      <td>1</td>\n",
       "      <td>0.0</td>\n",
       "      <td>1.000000</td>\n",
       "    </tr>\n",
       "    <tr>\n",
       "      <th>1970</th>\n",
       "      <td>Aged</td>\n",
       "      <td>State-gov</td>\n",
       "      <td>Doctorate</td>\n",
       "      <td>Prof-specialty</td>\n",
       "      <td>Married</td>\n",
       "      <td>White</td>\n",
       "      <td>Male</td>\n",
       "      <td>0.0</td>\n",
       "      <td>0.0</td>\n",
       "      <td>OverTime</td>\n",
       "      <td>United-States</td>\n",
       "      <td>0</td>\n",
       "      <td>1.0</td>\n",
       "      <td>0.983333</td>\n",
       "    </tr>\n",
       "    <tr>\n",
       "      <th>2004</th>\n",
       "      <td>Young</td>\n",
       "      <td>Private</td>\n",
       "      <td>Bachelors</td>\n",
       "      <td>Exec-managerial</td>\n",
       "      <td>Own-child</td>\n",
       "      <td>White</td>\n",
       "      <td>Male</td>\n",
       "      <td>0.0</td>\n",
       "      <td>0.0</td>\n",
       "      <td>OverTime</td>\n",
       "      <td>United-States</td>\n",
       "      <td>1</td>\n",
       "      <td>0.0</td>\n",
       "      <td>1.000000</td>\n",
       "    </tr>\n",
       "    <tr>\n",
       "      <th>2006</th>\n",
       "      <td>Aged</td>\n",
       "      <td>Private</td>\n",
       "      <td>Bachelors</td>\n",
       "      <td>Tech-support</td>\n",
       "      <td>Not-in-family</td>\n",
       "      <td>White</td>\n",
       "      <td>Male</td>\n",
       "      <td>0.0</td>\n",
       "      <td>0.0</td>\n",
       "      <td>FullTime</td>\n",
       "      <td>United-States</td>\n",
       "      <td>1</td>\n",
       "      <td>0.0</td>\n",
       "      <td>0.997500</td>\n",
       "    </tr>\n",
       "    <tr>\n",
       "      <th>2029</th>\n",
       "      <td>Aged</td>\n",
       "      <td>Private</td>\n",
       "      <td>10th</td>\n",
       "      <td>Exec-managerial</td>\n",
       "      <td>Married</td>\n",
       "      <td>White</td>\n",
       "      <td>Male</td>\n",
       "      <td>0.0</td>\n",
       "      <td>0.0</td>\n",
       "      <td>FullTime</td>\n",
       "      <td>United-States</td>\n",
       "      <td>1</td>\n",
       "      <td>0.0</td>\n",
       "      <td>1.000000</td>\n",
       "    </tr>\n",
       "    <tr>\n",
       "      <th>2034</th>\n",
       "      <td>Aged</td>\n",
       "      <td>State-gov</td>\n",
       "      <td>Some-college</td>\n",
       "      <td>Protective-serv</td>\n",
       "      <td>Unmarried</td>\n",
       "      <td>Amer-Indian-Eskimo</td>\n",
       "      <td>Female</td>\n",
       "      <td>0.0</td>\n",
       "      <td>0.0</td>\n",
       "      <td>FullTime</td>\n",
       "      <td>United-States</td>\n",
       "      <td>1</td>\n",
       "      <td>0.0</td>\n",
       "      <td>0.990000</td>\n",
       "    </tr>\n",
       "    <tr>\n",
       "      <th>2053</th>\n",
       "      <td>Aged</td>\n",
       "      <td>Private</td>\n",
       "      <td>HS-grad</td>\n",
       "      <td>Adm-clerical</td>\n",
       "      <td>Not-in-family</td>\n",
       "      <td>White</td>\n",
       "      <td>Female</td>\n",
       "      <td>0.0</td>\n",
       "      <td>0.0</td>\n",
       "      <td>OverTime</td>\n",
       "      <td>United-States</td>\n",
       "      <td>1</td>\n",
       "      <td>0.0</td>\n",
       "      <td>1.000000</td>\n",
       "    </tr>\n",
       "    <tr>\n",
       "      <th>2146</th>\n",
       "      <td>Aged</td>\n",
       "      <td>Private</td>\n",
       "      <td>HS-grad</td>\n",
       "      <td>Sales</td>\n",
       "      <td>Not-in-family</td>\n",
       "      <td>White</td>\n",
       "      <td>Female</td>\n",
       "      <td>0.0</td>\n",
       "      <td>0.0</td>\n",
       "      <td>MidTime</td>\n",
       "      <td>United-States</td>\n",
       "      <td>1</td>\n",
       "      <td>0.0</td>\n",
       "      <td>1.000000</td>\n",
       "    </tr>\n",
       "    <tr>\n",
       "      <th>2151</th>\n",
       "      <td>Young</td>\n",
       "      <td>Self-emp-not-inc</td>\n",
       "      <td>HS-grad</td>\n",
       "      <td>Sales</td>\n",
       "      <td>Married</td>\n",
       "      <td>White</td>\n",
       "      <td>Male</td>\n",
       "      <td>0.0</td>\n",
       "      <td>0.0</td>\n",
       "      <td>OverTime</td>\n",
       "      <td>United-States</td>\n",
       "      <td>1</td>\n",
       "      <td>0.0</td>\n",
       "      <td>1.000000</td>\n",
       "    </tr>\n",
       "    <tr>\n",
       "      <th>2337</th>\n",
       "      <td>Aged</td>\n",
       "      <td>Private</td>\n",
       "      <td>11th</td>\n",
       "      <td>Transport-moving</td>\n",
       "      <td>Married</td>\n",
       "      <td>White</td>\n",
       "      <td>Male</td>\n",
       "      <td>0.0</td>\n",
       "      <td>0.0</td>\n",
       "      <td>FullTime</td>\n",
       "      <td>United-States</td>\n",
       "      <td>1</td>\n",
       "      <td>0.0</td>\n",
       "      <td>1.000000</td>\n",
       "    </tr>\n",
       "    <tr>\n",
       "      <th>2447</th>\n",
       "      <td>Aged</td>\n",
       "      <td>Private</td>\n",
       "      <td>Some-college</td>\n",
       "      <td>Transport-moving</td>\n",
       "      <td>Married</td>\n",
       "      <td>White</td>\n",
       "      <td>Female</td>\n",
       "      <td>0.0</td>\n",
       "      <td>0.0</td>\n",
       "      <td>OverTime</td>\n",
       "      <td>United-States</td>\n",
       "      <td>1</td>\n",
       "      <td>0.0</td>\n",
       "      <td>0.990000</td>\n",
       "    </tr>\n",
       "    <tr>\n",
       "      <th>2461</th>\n",
       "      <td>Young</td>\n",
       "      <td>Private</td>\n",
       "      <td>Bachelors</td>\n",
       "      <td>Sales</td>\n",
       "      <td>Married</td>\n",
       "      <td>White</td>\n",
       "      <td>Female</td>\n",
       "      <td>0.0</td>\n",
       "      <td>0.0</td>\n",
       "      <td>FullTime</td>\n",
       "      <td>United-States</td>\n",
       "      <td>0</td>\n",
       "      <td>1.0</td>\n",
       "      <td>1.000000</td>\n",
       "    </tr>\n",
       "    <tr>\n",
       "      <th>2511</th>\n",
       "      <td>Aged</td>\n",
       "      <td>Private</td>\n",
       "      <td>Some-college</td>\n",
       "      <td>Sales</td>\n",
       "      <td>Not-in-family</td>\n",
       "      <td>White</td>\n",
       "      <td>Male</td>\n",
       "      <td>0.0</td>\n",
       "      <td>0.0</td>\n",
       "      <td>BrainDrain</td>\n",
       "      <td>United-States</td>\n",
       "      <td>1</td>\n",
       "      <td>0.0</td>\n",
       "      <td>1.000000</td>\n",
       "    </tr>\n",
       "    <tr>\n",
       "      <th>2642</th>\n",
       "      <td>Young</td>\n",
       "      <td>Private</td>\n",
       "      <td>Some-college</td>\n",
       "      <td>Adm-clerical</td>\n",
       "      <td>Not-in-family</td>\n",
       "      <td>White</td>\n",
       "      <td>Female</td>\n",
       "      <td>0.0</td>\n",
       "      <td>0.0</td>\n",
       "      <td>FullTime</td>\n",
       "      <td>United-States</td>\n",
       "      <td>1</td>\n",
       "      <td>0.0</td>\n",
       "      <td>1.000000</td>\n",
       "    </tr>\n",
       "    <tr>\n",
       "      <th>2810</th>\n",
       "      <td>Aged</td>\n",
       "      <td>Private</td>\n",
       "      <td>10th</td>\n",
       "      <td>Machine-op-inspct</td>\n",
       "      <td>Married</td>\n",
       "      <td>White</td>\n",
       "      <td>Female</td>\n",
       "      <td>0.0</td>\n",
       "      <td>0.0</td>\n",
       "      <td>FullTime</td>\n",
       "      <td>United-States</td>\n",
       "      <td>1</td>\n",
       "      <td>0.0</td>\n",
       "      <td>1.000000</td>\n",
       "    </tr>\n",
       "    <tr>\n",
       "      <th>2862</th>\n",
       "      <td>Aged</td>\n",
       "      <td>Self-emp-not-inc</td>\n",
       "      <td>HS-grad</td>\n",
       "      <td>Exec-managerial</td>\n",
       "      <td>Married</td>\n",
       "      <td>White</td>\n",
       "      <td>Male</td>\n",
       "      <td>0.0</td>\n",
       "      <td>0.0</td>\n",
       "      <td>FullTime</td>\n",
       "      <td>United-States</td>\n",
       "      <td>1</td>\n",
       "      <td>0.0</td>\n",
       "      <td>1.000000</td>\n",
       "    </tr>\n",
       "    <tr>\n",
       "      <th>2877</th>\n",
       "      <td>Young</td>\n",
       "      <td>Local-gov</td>\n",
       "      <td>Masters</td>\n",
       "      <td>Prof-specialty</td>\n",
       "      <td>Not-in-family</td>\n",
       "      <td>White</td>\n",
       "      <td>Female</td>\n",
       "      <td>0.0</td>\n",
       "      <td>0.0</td>\n",
       "      <td>FullTime</td>\n",
       "      <td>United-States</td>\n",
       "      <td>1</td>\n",
       "      <td>0.0</td>\n",
       "      <td>1.000000</td>\n",
       "    </tr>\n",
       "    <tr>\n",
       "      <th>2927</th>\n",
       "      <td>Young</td>\n",
       "      <td>Private</td>\n",
       "      <td>Masters</td>\n",
       "      <td>Prof-specialty</td>\n",
       "      <td>Own-child</td>\n",
       "      <td>White</td>\n",
       "      <td>Female</td>\n",
       "      <td>0.0</td>\n",
       "      <td>0.0</td>\n",
       "      <td>FullTime</td>\n",
       "      <td>United-States</td>\n",
       "      <td>1</td>\n",
       "      <td>0.0</td>\n",
       "      <td>0.990000</td>\n",
       "    </tr>\n",
       "    <tr>\n",
       "      <th>2969</th>\n",
       "      <td>Aged</td>\n",
       "      <td>Private</td>\n",
       "      <td>Assoc-voc</td>\n",
       "      <td>Craft-repair</td>\n",
       "      <td>Married</td>\n",
       "      <td>White</td>\n",
       "      <td>Male</td>\n",
       "      <td>0.0</td>\n",
       "      <td>0.0</td>\n",
       "      <td>OverTime</td>\n",
       "      <td>United-States</td>\n",
       "      <td>0</td>\n",
       "      <td>1.0</td>\n",
       "      <td>0.990000</td>\n",
       "    </tr>\n",
       "    <tr>\n",
       "      <th>3008</th>\n",
       "      <td>Aged</td>\n",
       "      <td>Private</td>\n",
       "      <td>Some-college</td>\n",
       "      <td>Sales</td>\n",
       "      <td>Not-in-family</td>\n",
       "      <td>White</td>\n",
       "      <td>Male</td>\n",
       "      <td>0.0</td>\n",
       "      <td>0.0</td>\n",
       "      <td>BrainDrain</td>\n",
       "      <td>United-States</td>\n",
       "      <td>1</td>\n",
       "      <td>0.0</td>\n",
       "      <td>1.000000</td>\n",
       "    </tr>\n",
       "    <tr>\n",
       "      <th>3533</th>\n",
       "      <td>Aged</td>\n",
       "      <td>Private</td>\n",
       "      <td>HS-grad</td>\n",
       "      <td>Machine-op-inspct</td>\n",
       "      <td>Married</td>\n",
       "      <td>Black</td>\n",
       "      <td>Male</td>\n",
       "      <td>0.0</td>\n",
       "      <td>0.0</td>\n",
       "      <td>MidTime</td>\n",
       "      <td>United-States</td>\n",
       "      <td>1</td>\n",
       "      <td>0.0</td>\n",
       "      <td>0.986317</td>\n",
       "    </tr>\n",
       "    <tr>\n",
       "      <th>3762</th>\n",
       "      <td>Young</td>\n",
       "      <td>Private</td>\n",
       "      <td>HS-grad</td>\n",
       "      <td>Other-service</td>\n",
       "      <td>Married</td>\n",
       "      <td>White</td>\n",
       "      <td>Female</td>\n",
       "      <td>0.0</td>\n",
       "      <td>0.0</td>\n",
       "      <td>MidTime</td>\n",
       "      <td>United-States</td>\n",
       "      <td>1</td>\n",
       "      <td>0.0</td>\n",
       "      <td>0.995000</td>\n",
       "    </tr>\n",
       "    <tr>\n",
       "      <th>3787</th>\n",
       "      <td>Aged</td>\n",
       "      <td>Self-emp-inc</td>\n",
       "      <td>Some-college</td>\n",
       "      <td>Sales</td>\n",
       "      <td>Married</td>\n",
       "      <td>White</td>\n",
       "      <td>Male</td>\n",
       "      <td>0.0</td>\n",
       "      <td>0.0</td>\n",
       "      <td>MidTime</td>\n",
       "      <td>United-States</td>\n",
       "      <td>0</td>\n",
       "      <td>1.0</td>\n",
       "      <td>0.980714</td>\n",
       "    </tr>\n",
       "    <tr>\n",
       "      <th>3909</th>\n",
       "      <td>Aged</td>\n",
       "      <td>Local-gov</td>\n",
       "      <td>Bachelors</td>\n",
       "      <td>Prof-specialty</td>\n",
       "      <td>Not-in-family</td>\n",
       "      <td>White</td>\n",
       "      <td>Male</td>\n",
       "      <td>0.0</td>\n",
       "      <td>0.0</td>\n",
       "      <td>OverTime</td>\n",
       "      <td>United-States</td>\n",
       "      <td>1</td>\n",
       "      <td>0.0</td>\n",
       "      <td>0.990000</td>\n",
       "    </tr>\n",
       "    <tr>\n",
       "      <th>3977</th>\n",
       "      <td>Young</td>\n",
       "      <td>Private</td>\n",
       "      <td>HS-grad</td>\n",
       "      <td>Craft-repair</td>\n",
       "      <td>Married</td>\n",
       "      <td>Black</td>\n",
       "      <td>Male</td>\n",
       "      <td>0.0</td>\n",
       "      <td>0.0</td>\n",
       "      <td>FullTime</td>\n",
       "      <td>United-States</td>\n",
       "      <td>1</td>\n",
       "      <td>0.0</td>\n",
       "      <td>0.985662</td>\n",
       "    </tr>\n",
       "    <tr>\n",
       "      <th>4099</th>\n",
       "      <td>Aged</td>\n",
       "      <td>Private</td>\n",
       "      <td>Assoc-voc</td>\n",
       "      <td>Craft-repair</td>\n",
       "      <td>Married</td>\n",
       "      <td>White</td>\n",
       "      <td>Male</td>\n",
       "      <td>0.0</td>\n",
       "      <td>0.0</td>\n",
       "      <td>OverTime</td>\n",
       "      <td>United-States</td>\n",
       "      <td>0</td>\n",
       "      <td>1.0</td>\n",
       "      <td>0.990000</td>\n",
       "    </tr>\n",
       "    <tr>\n",
       "      <th>4109</th>\n",
       "      <td>Young</td>\n",
       "      <td>Private</td>\n",
       "      <td>10th</td>\n",
       "      <td>Craft-repair</td>\n",
       "      <td>Own-child</td>\n",
       "      <td>Other</td>\n",
       "      <td>Male</td>\n",
       "      <td>0.0</td>\n",
       "      <td>0.0</td>\n",
       "      <td>OverTime</td>\n",
       "      <td>United-States</td>\n",
       "      <td>1</td>\n",
       "      <td>0.0</td>\n",
       "      <td>0.990000</td>\n",
       "    </tr>\n",
       "    <tr>\n",
       "      <th>4150</th>\n",
       "      <td>Aged</td>\n",
       "      <td>Private</td>\n",
       "      <td>Bachelors</td>\n",
       "      <td>Prof-specialty</td>\n",
       "      <td>Own-child</td>\n",
       "      <td>White</td>\n",
       "      <td>Female</td>\n",
       "      <td>0.0</td>\n",
       "      <td>0.0</td>\n",
       "      <td>MidTime</td>\n",
       "      <td>United-States</td>\n",
       "      <td>1</td>\n",
       "      <td>0.0</td>\n",
       "      <td>0.982333</td>\n",
       "    </tr>\n",
       "    <tr>\n",
       "      <th>4206</th>\n",
       "      <td>Aged</td>\n",
       "      <td>Private</td>\n",
       "      <td>Some-college</td>\n",
       "      <td>Exec-managerial</td>\n",
       "      <td>Not-in-family</td>\n",
       "      <td>White</td>\n",
       "      <td>Male</td>\n",
       "      <td>0.0</td>\n",
       "      <td>0.0</td>\n",
       "      <td>OverTime</td>\n",
       "      <td>United-States</td>\n",
       "      <td>1</td>\n",
       "      <td>0.0</td>\n",
       "      <td>1.000000</td>\n",
       "    </tr>\n",
       "    <tr>\n",
       "      <th>4376</th>\n",
       "      <td>Young</td>\n",
       "      <td>Private</td>\n",
       "      <td>HS-grad</td>\n",
       "      <td>Farming-fishing</td>\n",
       "      <td>Married</td>\n",
       "      <td>White</td>\n",
       "      <td>Male</td>\n",
       "      <td>0.0</td>\n",
       "      <td>0.0</td>\n",
       "      <td>BrainDrain</td>\n",
       "      <td>United-States</td>\n",
       "      <td>1</td>\n",
       "      <td>0.0</td>\n",
       "      <td>0.997778</td>\n",
       "    </tr>\n",
       "    <tr>\n",
       "      <th>4378</th>\n",
       "      <td>Young</td>\n",
       "      <td>Private</td>\n",
       "      <td>Bachelors</td>\n",
       "      <td>Sales</td>\n",
       "      <td>Married</td>\n",
       "      <td>White</td>\n",
       "      <td>Female</td>\n",
       "      <td>0.0</td>\n",
       "      <td>0.0</td>\n",
       "      <td>FullTime</td>\n",
       "      <td>United-States</td>\n",
       "      <td>0</td>\n",
       "      <td>1.0</td>\n",
       "      <td>1.000000</td>\n",
       "    </tr>\n",
       "    <tr>\n",
       "      <th>4404</th>\n",
       "      <td>Young</td>\n",
       "      <td>Self-emp-not-inc</td>\n",
       "      <td>Prof-school</td>\n",
       "      <td>Prof-specialty</td>\n",
       "      <td>Married</td>\n",
       "      <td>White</td>\n",
       "      <td>Female</td>\n",
       "      <td>0.0</td>\n",
       "      <td>0.0</td>\n",
       "      <td>OverTime</td>\n",
       "      <td>United-States</td>\n",
       "      <td>0</td>\n",
       "      <td>1.0</td>\n",
       "      <td>0.990000</td>\n",
       "    </tr>\n",
       "  </tbody>\n",
       "</table>\n",
       "</div>"
      ],
      "text/plain": [
       "        Age         Workclass     Education         Occupation   Relationship  \\\n",
       "96     Aged           Private       HS-grad    Exec-managerial  Not-in-family   \n",
       "363    Aged           Private  Some-college    Exec-managerial  Not-in-family   \n",
       "438    Aged           Private     Bachelors              Sales        Married   \n",
       "663    Aged           Private     Bachelors              Sales        Married   \n",
       "664    Aged           Private     Doctorate     Prof-specialty        Married   \n",
       "696    Aged           Private          11th      Other-service        Married   \n",
       "725    Aged           Private           9th  Machine-op-inspct        Married   \n",
       "993   Young           Private     Assoc-voc       Craft-repair      Own-child   \n",
       "1042  Young           Private  Some-college    Exec-managerial  Not-in-family   \n",
       "1144  Young           Private       Masters     Prof-specialty        Married   \n",
       "1317   Aged           Private          11th       Craft-repair        Married   \n",
       "1369  Young         Local-gov     Bachelors     Prof-specialty      Unmarried   \n",
       "1581  Young           Private  Some-college       Craft-repair  Not-in-family   \n",
       "1605   Aged           Private       HS-grad   Transport-moving        Married   \n",
       "1621   Aged           Private       HS-grad       Craft-repair      Unmarried   \n",
       "1889  Young  Self-emp-not-inc  Some-college    Farming-fishing        Married   \n",
       "1912   Aged           Private       HS-grad   Transport-moving  Not-in-family   \n",
       "1970   Aged         State-gov     Doctorate     Prof-specialty        Married   \n",
       "2004  Young           Private     Bachelors    Exec-managerial      Own-child   \n",
       "2006   Aged           Private     Bachelors       Tech-support  Not-in-family   \n",
       "2029   Aged           Private          10th    Exec-managerial        Married   \n",
       "2034   Aged         State-gov  Some-college    Protective-serv      Unmarried   \n",
       "2053   Aged           Private       HS-grad       Adm-clerical  Not-in-family   \n",
       "2146   Aged           Private       HS-grad              Sales  Not-in-family   \n",
       "2151  Young  Self-emp-not-inc       HS-grad              Sales        Married   \n",
       "2337   Aged           Private          11th   Transport-moving        Married   \n",
       "2447   Aged           Private  Some-college   Transport-moving        Married   \n",
       "2461  Young           Private     Bachelors              Sales        Married   \n",
       "2511   Aged           Private  Some-college              Sales  Not-in-family   \n",
       "2642  Young           Private  Some-college       Adm-clerical  Not-in-family   \n",
       "2810   Aged           Private          10th  Machine-op-inspct        Married   \n",
       "2862   Aged  Self-emp-not-inc       HS-grad    Exec-managerial        Married   \n",
       "2877  Young         Local-gov       Masters     Prof-specialty  Not-in-family   \n",
       "2927  Young           Private       Masters     Prof-specialty      Own-child   \n",
       "2969   Aged           Private     Assoc-voc       Craft-repair        Married   \n",
       "3008   Aged           Private  Some-college              Sales  Not-in-family   \n",
       "3533   Aged           Private       HS-grad  Machine-op-inspct        Married   \n",
       "3762  Young           Private       HS-grad      Other-service        Married   \n",
       "3787   Aged      Self-emp-inc  Some-college              Sales        Married   \n",
       "3909   Aged         Local-gov     Bachelors     Prof-specialty  Not-in-family   \n",
       "3977  Young           Private       HS-grad       Craft-repair        Married   \n",
       "4099   Aged           Private     Assoc-voc       Craft-repair        Married   \n",
       "4109  Young           Private          10th       Craft-repair      Own-child   \n",
       "4150   Aged           Private     Bachelors     Prof-specialty      Own-child   \n",
       "4206   Aged           Private  Some-college    Exec-managerial  Not-in-family   \n",
       "4376  Young           Private       HS-grad    Farming-fishing        Married   \n",
       "4378  Young           Private     Bachelors              Sales        Married   \n",
       "4404  Young  Self-emp-not-inc   Prof-school     Prof-specialty        Married   \n",
       "\n",
       "                    Race     Sex  Capital Gain  Capital Loss Hours per week  \\\n",
       "96                 White    Male           0.0           0.0       OverTime   \n",
       "363                White    Male           0.0           0.0       OverTime   \n",
       "438                White  Female           0.0           0.0     BrainDrain   \n",
       "663                White  Female           0.0           0.0       FullTime   \n",
       "664                White    Male           0.0           0.0     BrainDrain   \n",
       "696                Black    Male           0.0           0.0        MidTime   \n",
       "725                White    Male           0.0           0.0       FullTime   \n",
       "993                White    Male           0.0           0.0       FullTime   \n",
       "1042               White    Male           0.0           0.0       OverTime   \n",
       "1144               White  Female           0.0           0.0       OverTime   \n",
       "1317               White  Female           0.0           0.0       OverTime   \n",
       "1369               White  Female           0.0           0.0       FullTime   \n",
       "1581               White    Male           0.0           0.0       FullTime   \n",
       "1605               Black    Male           0.0           0.0       FullTime   \n",
       "1621               White    Male           0.0           0.0       FullTime   \n",
       "1889               White  Female           0.0           0.0       OverTime   \n",
       "1912               White    Male           0.0           0.0       OverTime   \n",
       "1970               White    Male           0.0           0.0       OverTime   \n",
       "2004               White    Male           0.0           0.0       OverTime   \n",
       "2006               White    Male           0.0           0.0       FullTime   \n",
       "2029               White    Male           0.0           0.0       FullTime   \n",
       "2034  Amer-Indian-Eskimo  Female           0.0           0.0       FullTime   \n",
       "2053               White  Female           0.0           0.0       OverTime   \n",
       "2146               White  Female           0.0           0.0        MidTime   \n",
       "2151               White    Male           0.0           0.0       OverTime   \n",
       "2337               White    Male           0.0           0.0       FullTime   \n",
       "2447               White  Female           0.0           0.0       OverTime   \n",
       "2461               White  Female           0.0           0.0       FullTime   \n",
       "2511               White    Male           0.0           0.0     BrainDrain   \n",
       "2642               White  Female           0.0           0.0       FullTime   \n",
       "2810               White  Female           0.0           0.0       FullTime   \n",
       "2862               White    Male           0.0           0.0       FullTime   \n",
       "2877               White  Female           0.0           0.0       FullTime   \n",
       "2927               White  Female           0.0           0.0       FullTime   \n",
       "2969               White    Male           0.0           0.0       OverTime   \n",
       "3008               White    Male           0.0           0.0     BrainDrain   \n",
       "3533               Black    Male           0.0           0.0        MidTime   \n",
       "3762               White  Female           0.0           0.0        MidTime   \n",
       "3787               White    Male           0.0           0.0        MidTime   \n",
       "3909               White    Male           0.0           0.0       OverTime   \n",
       "3977               Black    Male           0.0           0.0       FullTime   \n",
       "4099               White    Male           0.0           0.0       OverTime   \n",
       "4109               Other    Male           0.0           0.0       OverTime   \n",
       "4150               White  Female           0.0           0.0        MidTime   \n",
       "4206               White    Male           0.0           0.0       OverTime   \n",
       "4376               White    Male           0.0           0.0     BrainDrain   \n",
       "4378               White  Female           0.0           0.0       FullTime   \n",
       "4404               White  Female           0.0           0.0       OverTime   \n",
       "\n",
       "            Country  label  prediction  confidence  \n",
       "96    United-States      1         0.0    1.000000  \n",
       "363   United-States      1         0.0    1.000000  \n",
       "438   United-States      0         1.0    0.990000  \n",
       "663   United-States      0         1.0    1.000000  \n",
       "664   United-States      0         1.0    0.996000  \n",
       "696   United-States      1         0.0    0.988333  \n",
       "725   United-States      1         0.0    0.997500  \n",
       "993   United-States      1         0.0    0.995500  \n",
       "1042  United-States      1         0.0    1.000000  \n",
       "1144  United-States      0         1.0    0.984167  \n",
       "1317  United-States      1         0.0    0.982500  \n",
       "1369  United-States      1         0.0    0.996071  \n",
       "1581  United-States      1         0.0    1.000000  \n",
       "1605  United-States      1         0.0    0.986667  \n",
       "1621  United-States      1         0.0    1.000000  \n",
       "1889  United-States      1         0.0    0.990000  \n",
       "1912  United-States      1         0.0    1.000000  \n",
       "1970  United-States      0         1.0    0.983333  \n",
       "2004  United-States      1         0.0    1.000000  \n",
       "2006  United-States      1         0.0    0.997500  \n",
       "2029  United-States      1         0.0    1.000000  \n",
       "2034  United-States      1         0.0    0.990000  \n",
       "2053  United-States      1         0.0    1.000000  \n",
       "2146  United-States      1         0.0    1.000000  \n",
       "2151  United-States      1         0.0    1.000000  \n",
       "2337  United-States      1         0.0    1.000000  \n",
       "2447  United-States      1         0.0    0.990000  \n",
       "2461  United-States      0         1.0    1.000000  \n",
       "2511  United-States      1         0.0    1.000000  \n",
       "2642  United-States      1         0.0    1.000000  \n",
       "2810  United-States      1         0.0    1.000000  \n",
       "2862  United-States      1         0.0    1.000000  \n",
       "2877  United-States      1         0.0    1.000000  \n",
       "2927  United-States      1         0.0    0.990000  \n",
       "2969  United-States      0         1.0    0.990000  \n",
       "3008  United-States      1         0.0    1.000000  \n",
       "3533  United-States      1         0.0    0.986317  \n",
       "3762  United-States      1         0.0    0.995000  \n",
       "3787  United-States      0         1.0    0.980714  \n",
       "3909  United-States      1         0.0    0.990000  \n",
       "3977  United-States      1         0.0    0.985662  \n",
       "4099  United-States      0         1.0    0.990000  \n",
       "4109  United-States      1         0.0    0.990000  \n",
       "4150  United-States      1         0.0    0.982333  \n",
       "4206  United-States      1         0.0    1.000000  \n",
       "4376  United-States      1         0.0    0.997778  \n",
       "4378  United-States      0         1.0    1.000000  \n",
       "4404  United-States      0         1.0    0.990000  "
      ]
     },
     "execution_count": 82,
     "metadata": {},
     "output_type": "execute_result"
    }
   ],
   "source": [
    "# Add confidence scores to the test dataframe\n",
    "confidence_scores = model_private.predict_proba(test_private).max(axis=1)\n",
    "test_df_private[\"confidence\"] = confidence_scores\n",
    "\n",
    "# Identify high-confidence errors\n",
    "high_confidence_errors = test_df_private[\n",
    "    (test_df_private[\"label\"] != test_df_private[\"prediction\"]) &\n",
    "    (test_df_private[\"confidence\"] > 0.98)]\n",
    "\n",
    "print(f'There are {high_confidence_errors.shape[0]} instances where the model was wrong but had a confidence greater than 0.98')\n",
    "print(\"Instances with High-Confidence Errors (> 0.98):\")\n",
    "\n",
    "high_confidence_errors"
   ]
  },
  {
   "cell_type": "code",
   "execution_count": 83,
   "id": "f37a1c33-4953-414b-a196-d29652298e48",
   "metadata": {},
   "outputs": [
    {
     "data": {
      "text/plain": [
       "Index([  96,  363,  438,  663,  664,  696,  725,  993, 1042, 1144, 1317, 1369,\n",
       "       1581, 1605, 1621, 1889, 1912, 1970, 2004, 2006, 2029, 2034, 2053, 2146,\n",
       "       2151, 2337, 2447, 2461, 2511, 2642, 2810, 2862, 2877, 2927, 2969, 3008,\n",
       "       3533, 3762, 3787, 3909, 3977, 4099, 4109, 4150, 4206, 4376, 4378, 4404],\n",
       "      dtype='int64')"
      ]
     },
     "execution_count": 83,
     "metadata": {},
     "output_type": "execute_result"
    }
   ],
   "source": [
    "high_conf_idx = high_confidence_errors.index\n",
    "high_conf_idx"
   ]
  },
  {
   "cell_type": "code",
   "execution_count": 84,
   "id": "5103c6f8-cb55-425f-9ea9-8572e543ef1f",
   "metadata": {},
   "outputs": [],
   "source": [
    "explainers = TabularExplainer(\n",
    "  explainers=['lime', 'mace'],                       # The explainers to apply\n",
    "  mode=\"classification\",                             # The task type\n",
    "  data=train_data_private,                           # The data for initializing the explainers\n",
    "  model=model_private,                               # The ML model to explain\n",
    "  preprocess=lambda z: transformer.transform(z),     # Converts raw features into the model inputs\n",
    "  params={\n",
    "        \"mace\": {\"ignored_features\": [\"Sex\", \"Race\"]}# params which cannot change when creating counterfactuals\n",
    "    }\n",
    ")\n",
    "\n",
    "# analysing instances\n",
    "instance_ids = [96, 663, 696, 1144]\n",
    "comments = [\n",
    "    \"incorrect prediction for true label=1, and the model is 100% confident\",\n",
    "    \"incorrect prediction for true label=0, and the model is 100% confident\",\n",
    "    \"incorrect prediction for true label=1, and the model is highly confident\",\n",
    "    \"incorrect prediction for true label=0, and the model is highly confident\"\n",
    "]\n",
    "\n",
    "n_instances = len(instance_ids)\n",
    "\n",
    "test_instances = test_data_private[instance_ids]\n",
    "local_explanations = explainers.explain(X=test_instances)"
   ]
  },
  {
   "cell_type": "code",
   "execution_count": 85,
   "id": "bb70fdea-6e41-427f-83a1-1df32484afc4",
   "metadata": {},
   "outputs": [
    {
     "name": "stdout",
     "output_type": "stream",
     "text": [
      "LIME results:\n",
      "incorrect prediction for true label=1, and the model is 100% confident\n",
      "Instance 96 has label 1 and prediction 0.0, with probs [1. 0.]\n"
     ]
    },
    {
     "data": {
      "application/vnd.plotly.v1+json": {
       "config": {
        "linkText": "Export to plot.ly",
        "plotlyServerURL": "https://plot.ly",
        "showLink": false
       },
       "data": [
        {
         "alignmentgroup": "True",
         "hovertemplate": "Positive=False<br>Importance scores=%{x}<br>Features=%{y}<extra></extra>",
         "legendgroup": "False",
         "marker": {
          "color": "#DC143C",
          "pattern": {
           "shape": ""
          }
         },
         "name": "False",
         "offsetgroup": "False",
         "orientation": "h",
         "showlegend": true,
         "textposition": "auto",
         "type": "bar",
         "x": [
          -0.007250182519433473,
          -0.01800405323051259,
          -0.026014687020387037,
          -0.07156492258830391,
          -0.098721154821807
         ],
         "xaxis": "x",
         "y": [
          "Country = United-States",
          "Race = White",
          "Age = Aged",
          "Hours per week = OverTime",
          "Occupation = Exec-managerial"
         ],
         "yaxis": "y"
        },
        {
         "alignmentgroup": "True",
         "hovertemplate": "Positive=True<br>Importance scores=%{x}<br>Features=%{y}<extra></extra>",
         "legendgroup": "True",
         "marker": {
          "color": "#008B8B",
          "pattern": {
           "shape": ""
          }
         },
         "name": "True",
         "offsetgroup": "True",
         "orientation": "h",
         "showlegend": true,
         "textposition": "auto",
         "type": "bar",
         "x": [
          0.010572834952244332,
          0.07504539872297547,
          0.09108261503169278,
          0.15378290110901333,
          0.4966373173241992
         ],
         "xaxis": "x",
         "y": [
          "Workclass = Private",
          "Education = HS-grad",
          "Capital Loss = 0",
          "Relationship = Not-in-family",
          "Capital Gain = 0"
         ],
         "yaxis": "y"
        }
       ],
       "layout": {
        "autosize": true,
        "barmode": "relative",
        "legend": {
         "title": {
          "text": "Positive"
         },
         "tracegroupgap": 0
        },
        "template": {
         "data": {
          "bar": [
           {
            "error_x": {
             "color": "#2a3f5f"
            },
            "error_y": {
             "color": "#2a3f5f"
            },
            "marker": {
             "line": {
              "color": "#E5ECF6",
              "width": 0.5
             },
             "pattern": {
              "fillmode": "overlay",
              "size": 10,
              "solidity": 0.2
             }
            },
            "type": "bar"
           }
          ],
          "barpolar": [
           {
            "marker": {
             "line": {
              "color": "#E5ECF6",
              "width": 0.5
             },
             "pattern": {
              "fillmode": "overlay",
              "size": 10,
              "solidity": 0.2
             }
            },
            "type": "barpolar"
           }
          ],
          "carpet": [
           {
            "aaxis": {
             "endlinecolor": "#2a3f5f",
             "gridcolor": "white",
             "linecolor": "white",
             "minorgridcolor": "white",
             "startlinecolor": "#2a3f5f"
            },
            "baxis": {
             "endlinecolor": "#2a3f5f",
             "gridcolor": "white",
             "linecolor": "white",
             "minorgridcolor": "white",
             "startlinecolor": "#2a3f5f"
            },
            "type": "carpet"
           }
          ],
          "choropleth": [
           {
            "colorbar": {
             "outlinewidth": 0,
             "ticks": ""
            },
            "type": "choropleth"
           }
          ],
          "contour": [
           {
            "colorbar": {
             "outlinewidth": 0,
             "ticks": ""
            },
            "colorscale": [
             [
              0,
              "#0d0887"
             ],
             [
              0.1111111111111111,
              "#46039f"
             ],
             [
              0.2222222222222222,
              "#7201a8"
             ],
             [
              0.3333333333333333,
              "#9c179e"
             ],
             [
              0.4444444444444444,
              "#bd3786"
             ],
             [
              0.5555555555555556,
              "#d8576b"
             ],
             [
              0.6666666666666666,
              "#ed7953"
             ],
             [
              0.7777777777777778,
              "#fb9f3a"
             ],
             [
              0.8888888888888888,
              "#fdca26"
             ],
             [
              1,
              "#f0f921"
             ]
            ],
            "type": "contour"
           }
          ],
          "contourcarpet": [
           {
            "colorbar": {
             "outlinewidth": 0,
             "ticks": ""
            },
            "type": "contourcarpet"
           }
          ],
          "heatmap": [
           {
            "colorbar": {
             "outlinewidth": 0,
             "ticks": ""
            },
            "colorscale": [
             [
              0,
              "#0d0887"
             ],
             [
              0.1111111111111111,
              "#46039f"
             ],
             [
              0.2222222222222222,
              "#7201a8"
             ],
             [
              0.3333333333333333,
              "#9c179e"
             ],
             [
              0.4444444444444444,
              "#bd3786"
             ],
             [
              0.5555555555555556,
              "#d8576b"
             ],
             [
              0.6666666666666666,
              "#ed7953"
             ],
             [
              0.7777777777777778,
              "#fb9f3a"
             ],
             [
              0.8888888888888888,
              "#fdca26"
             ],
             [
              1,
              "#f0f921"
             ]
            ],
            "type": "heatmap"
           }
          ],
          "heatmapgl": [
           {
            "colorbar": {
             "outlinewidth": 0,
             "ticks": ""
            },
            "colorscale": [
             [
              0,
              "#0d0887"
             ],
             [
              0.1111111111111111,
              "#46039f"
             ],
             [
              0.2222222222222222,
              "#7201a8"
             ],
             [
              0.3333333333333333,
              "#9c179e"
             ],
             [
              0.4444444444444444,
              "#bd3786"
             ],
             [
              0.5555555555555556,
              "#d8576b"
             ],
             [
              0.6666666666666666,
              "#ed7953"
             ],
             [
              0.7777777777777778,
              "#fb9f3a"
             ],
             [
              0.8888888888888888,
              "#fdca26"
             ],
             [
              1,
              "#f0f921"
             ]
            ],
            "type": "heatmapgl"
           }
          ],
          "histogram": [
           {
            "marker": {
             "pattern": {
              "fillmode": "overlay",
              "size": 10,
              "solidity": 0.2
             }
            },
            "type": "histogram"
           }
          ],
          "histogram2d": [
           {
            "colorbar": {
             "outlinewidth": 0,
             "ticks": ""
            },
            "colorscale": [
             [
              0,
              "#0d0887"
             ],
             [
              0.1111111111111111,
              "#46039f"
             ],
             [
              0.2222222222222222,
              "#7201a8"
             ],
             [
              0.3333333333333333,
              "#9c179e"
             ],
             [
              0.4444444444444444,
              "#bd3786"
             ],
             [
              0.5555555555555556,
              "#d8576b"
             ],
             [
              0.6666666666666666,
              "#ed7953"
             ],
             [
              0.7777777777777778,
              "#fb9f3a"
             ],
             [
              0.8888888888888888,
              "#fdca26"
             ],
             [
              1,
              "#f0f921"
             ]
            ],
            "type": "histogram2d"
           }
          ],
          "histogram2dcontour": [
           {
            "colorbar": {
             "outlinewidth": 0,
             "ticks": ""
            },
            "colorscale": [
             [
              0,
              "#0d0887"
             ],
             [
              0.1111111111111111,
              "#46039f"
             ],
             [
              0.2222222222222222,
              "#7201a8"
             ],
             [
              0.3333333333333333,
              "#9c179e"
             ],
             [
              0.4444444444444444,
              "#bd3786"
             ],
             [
              0.5555555555555556,
              "#d8576b"
             ],
             [
              0.6666666666666666,
              "#ed7953"
             ],
             [
              0.7777777777777778,
              "#fb9f3a"
             ],
             [
              0.8888888888888888,
              "#fdca26"
             ],
             [
              1,
              "#f0f921"
             ]
            ],
            "type": "histogram2dcontour"
           }
          ],
          "mesh3d": [
           {
            "colorbar": {
             "outlinewidth": 0,
             "ticks": ""
            },
            "type": "mesh3d"
           }
          ],
          "parcoords": [
           {
            "line": {
             "colorbar": {
              "outlinewidth": 0,
              "ticks": ""
             }
            },
            "type": "parcoords"
           }
          ],
          "pie": [
           {
            "automargin": true,
            "type": "pie"
           }
          ],
          "scatter": [
           {
            "fillpattern": {
             "fillmode": "overlay",
             "size": 10,
             "solidity": 0.2
            },
            "type": "scatter"
           }
          ],
          "scatter3d": [
           {
            "line": {
             "colorbar": {
              "outlinewidth": 0,
              "ticks": ""
             }
            },
            "marker": {
             "colorbar": {
              "outlinewidth": 0,
              "ticks": ""
             }
            },
            "type": "scatter3d"
           }
          ],
          "scattercarpet": [
           {
            "marker": {
             "colorbar": {
              "outlinewidth": 0,
              "ticks": ""
             }
            },
            "type": "scattercarpet"
           }
          ],
          "scattergeo": [
           {
            "marker": {
             "colorbar": {
              "outlinewidth": 0,
              "ticks": ""
             }
            },
            "type": "scattergeo"
           }
          ],
          "scattergl": [
           {
            "marker": {
             "colorbar": {
              "outlinewidth": 0,
              "ticks": ""
             }
            },
            "type": "scattergl"
           }
          ],
          "scattermapbox": [
           {
            "marker": {
             "colorbar": {
              "outlinewidth": 0,
              "ticks": ""
             }
            },
            "type": "scattermapbox"
           }
          ],
          "scatterpolar": [
           {
            "marker": {
             "colorbar": {
              "outlinewidth": 0,
              "ticks": ""
             }
            },
            "type": "scatterpolar"
           }
          ],
          "scatterpolargl": [
           {
            "marker": {
             "colorbar": {
              "outlinewidth": 0,
              "ticks": ""
             }
            },
            "type": "scatterpolargl"
           }
          ],
          "scatterternary": [
           {
            "marker": {
             "colorbar": {
              "outlinewidth": 0,
              "ticks": ""
             }
            },
            "type": "scatterternary"
           }
          ],
          "surface": [
           {
            "colorbar": {
             "outlinewidth": 0,
             "ticks": ""
            },
            "colorscale": [
             [
              0,
              "#0d0887"
             ],
             [
              0.1111111111111111,
              "#46039f"
             ],
             [
              0.2222222222222222,
              "#7201a8"
             ],
             [
              0.3333333333333333,
              "#9c179e"
             ],
             [
              0.4444444444444444,
              "#bd3786"
             ],
             [
              0.5555555555555556,
              "#d8576b"
             ],
             [
              0.6666666666666666,
              "#ed7953"
             ],
             [
              0.7777777777777778,
              "#fb9f3a"
             ],
             [
              0.8888888888888888,
              "#fdca26"
             ],
             [
              1,
              "#f0f921"
             ]
            ],
            "type": "surface"
           }
          ],
          "table": [
           {
            "cells": {
             "fill": {
              "color": "#EBF0F8"
             },
             "line": {
              "color": "white"
             }
            },
            "header": {
             "fill": {
              "color": "#C8D4E3"
             },
             "line": {
              "color": "white"
             }
            },
            "type": "table"
           }
          ]
         },
         "layout": {
          "annotationdefaults": {
           "arrowcolor": "#2a3f5f",
           "arrowhead": 0,
           "arrowwidth": 1
          },
          "autotypenumbers": "strict",
          "coloraxis": {
           "colorbar": {
            "outlinewidth": 0,
            "ticks": ""
           }
          },
          "colorscale": {
           "diverging": [
            [
             0,
             "#8e0152"
            ],
            [
             0.1,
             "#c51b7d"
            ],
            [
             0.2,
             "#de77ae"
            ],
            [
             0.3,
             "#f1b6da"
            ],
            [
             0.4,
             "#fde0ef"
            ],
            [
             0.5,
             "#f7f7f7"
            ],
            [
             0.6,
             "#e6f5d0"
            ],
            [
             0.7,
             "#b8e186"
            ],
            [
             0.8,
             "#7fbc41"
            ],
            [
             0.9,
             "#4d9221"
            ],
            [
             1,
             "#276419"
            ]
           ],
           "sequential": [
            [
             0,
             "#0d0887"
            ],
            [
             0.1111111111111111,
             "#46039f"
            ],
            [
             0.2222222222222222,
             "#7201a8"
            ],
            [
             0.3333333333333333,
             "#9c179e"
            ],
            [
             0.4444444444444444,
             "#bd3786"
            ],
            [
             0.5555555555555556,
             "#d8576b"
            ],
            [
             0.6666666666666666,
             "#ed7953"
            ],
            [
             0.7777777777777778,
             "#fb9f3a"
            ],
            [
             0.8888888888888888,
             "#fdca26"
            ],
            [
             1,
             "#f0f921"
            ]
           ],
           "sequentialminus": [
            [
             0,
             "#0d0887"
            ],
            [
             0.1111111111111111,
             "#46039f"
            ],
            [
             0.2222222222222222,
             "#7201a8"
            ],
            [
             0.3333333333333333,
             "#9c179e"
            ],
            [
             0.4444444444444444,
             "#bd3786"
            ],
            [
             0.5555555555555556,
             "#d8576b"
            ],
            [
             0.6666666666666666,
             "#ed7953"
            ],
            [
             0.7777777777777778,
             "#fb9f3a"
            ],
            [
             0.8888888888888888,
             "#fdca26"
            ],
            [
             1,
             "#f0f921"
            ]
           ]
          },
          "colorway": [
           "#636efa",
           "#EF553B",
           "#00cc96",
           "#ab63fa",
           "#FFA15A",
           "#19d3f3",
           "#FF6692",
           "#B6E880",
           "#FF97FF",
           "#FECB52"
          ],
          "font": {
           "color": "#2a3f5f"
          },
          "geo": {
           "bgcolor": "white",
           "lakecolor": "white",
           "landcolor": "#E5ECF6",
           "showlakes": true,
           "showland": true,
           "subunitcolor": "white"
          },
          "hoverlabel": {
           "align": "left"
          },
          "hovermode": "closest",
          "mapbox": {
           "style": "light"
          },
          "paper_bgcolor": "white",
          "plot_bgcolor": "#E5ECF6",
          "polar": {
           "angularaxis": {
            "gridcolor": "white",
            "linecolor": "white",
            "ticks": ""
           },
           "bgcolor": "#E5ECF6",
           "radialaxis": {
            "gridcolor": "white",
            "linecolor": "white",
            "ticks": ""
           }
          },
          "scene": {
           "xaxis": {
            "backgroundcolor": "#E5ECF6",
            "gridcolor": "white",
            "gridwidth": 2,
            "linecolor": "white",
            "showbackground": true,
            "ticks": "",
            "zerolinecolor": "white"
           },
           "yaxis": {
            "backgroundcolor": "#E5ECF6",
            "gridcolor": "white",
            "gridwidth": 2,
            "linecolor": "white",
            "showbackground": true,
            "ticks": "",
            "zerolinecolor": "white"
           },
           "zaxis": {
            "backgroundcolor": "#E5ECF6",
            "gridcolor": "white",
            "gridwidth": 2,
            "linecolor": "white",
            "showbackground": true,
            "ticks": "",
            "zerolinecolor": "white"
           }
          },
          "shapedefaults": {
           "line": {
            "color": "#2a3f5f"
           }
          },
          "ternary": {
           "aaxis": {
            "gridcolor": "white",
            "linecolor": "white",
            "ticks": ""
           },
           "baxis": {
            "gridcolor": "white",
            "linecolor": "white",
            "ticks": ""
           },
           "bgcolor": "#E5ECF6",
           "caxis": {
            "gridcolor": "white",
            "linecolor": "white",
            "ticks": ""
           }
          },
          "title": {
           "x": 0.05
          },
          "xaxis": {
           "automargin": true,
           "gridcolor": "white",
           "linecolor": "white",
           "ticks": "",
           "title": {
            "standoff": 15
           },
           "zerolinecolor": "white",
           "zerolinewidth": 2
          },
          "yaxis": {
           "automargin": true,
           "gridcolor": "white",
           "linecolor": "white",
           "ticks": "",
           "title": {
            "standoff": 15
           },
           "zerolinecolor": "white",
           "zerolinewidth": 2
          }
         }
        },
        "title": {
         "text": "Label: Class 0"
        },
        "xaxis": {
         "anchor": "y",
         "autorange": true,
         "domain": [
          0,
          1
         ],
         "range": [
          -0.13179662549658513,
          0.5297127879989774
         ],
         "title": {
          "text": "Importance scores"
         },
         "type": "linear"
        },
        "yaxis": {
         "anchor": "x",
         "autorange": true,
         "domain": [
          0,
          1
         ],
         "range": [
          -0.5,
          9.5
         ],
         "title": {
          "text": "Features"
         },
         "type": "category"
        }
       }
      },
      "text/html": [
       "<div>                            <div id=\"da7e1bf5-3400-4a7f-b154-74cde908b9f1\" class=\"plotly-graph-div\" style=\"height:525px; width:100%;\"></div>            <script type=\"text/javascript\">                require([\"plotly\"], function(Plotly) {                    window.PLOTLYENV=window.PLOTLYENV || {};                                    if (document.getElementById(\"da7e1bf5-3400-4a7f-b154-74cde908b9f1\")) {                    Plotly.newPlot(                        \"da7e1bf5-3400-4a7f-b154-74cde908b9f1\",                        [{\"alignmentgroup\":\"True\",\"hovertemplate\":\"Positive=False\\u003cbr\\u003eImportance scores=%{x}\\u003cbr\\u003eFeatures=%{y}\\u003cextra\\u003e\\u003c\\u002fextra\\u003e\",\"legendgroup\":\"False\",\"marker\":{\"color\":\"#DC143C\",\"pattern\":{\"shape\":\"\"}},\"name\":\"False\",\"offsetgroup\":\"False\",\"orientation\":\"h\",\"showlegend\":true,\"textposition\":\"auto\",\"x\":[-0.007250182519433473,-0.01800405323051259,-0.026014687020387037,-0.07156492258830391,-0.098721154821807],\"xaxis\":\"x\",\"y\":[\"Country = United-States\",\"Race = White\",\"Age = Aged\",\"Hours per week = OverTime\",\"Occupation = Exec-managerial\"],\"yaxis\":\"y\",\"type\":\"bar\"},{\"alignmentgroup\":\"True\",\"hovertemplate\":\"Positive=True\\u003cbr\\u003eImportance scores=%{x}\\u003cbr\\u003eFeatures=%{y}\\u003cextra\\u003e\\u003c\\u002fextra\\u003e\",\"legendgroup\":\"True\",\"marker\":{\"color\":\"#008B8B\",\"pattern\":{\"shape\":\"\"}},\"name\":\"True\",\"offsetgroup\":\"True\",\"orientation\":\"h\",\"showlegend\":true,\"textposition\":\"auto\",\"x\":[0.010572834952244332,0.07504539872297547,0.09108261503169278,0.15378290110901333,0.4966373173241992],\"xaxis\":\"x\",\"y\":[\"Workclass = Private\",\"Education = HS-grad\",\"Capital Loss = 0\",\"Relationship = Not-in-family\",\"Capital Gain = 0\"],\"yaxis\":\"y\",\"type\":\"bar\"}],                        {\"barmode\":\"relative\",\"legend\":{\"title\":{\"text\":\"Positive\"},\"tracegroupgap\":0},\"template\":{\"data\":{\"barpolar\":[{\"marker\":{\"line\":{\"color\":\"#E5ECF6\",\"width\":0.5},\"pattern\":{\"fillmode\":\"overlay\",\"size\":10,\"solidity\":0.2}},\"type\":\"barpolar\"}],\"bar\":[{\"error_x\":{\"color\":\"#2a3f5f\"},\"error_y\":{\"color\":\"#2a3f5f\"},\"marker\":{\"line\":{\"color\":\"#E5ECF6\",\"width\":0.5},\"pattern\":{\"fillmode\":\"overlay\",\"size\":10,\"solidity\":0.2}},\"type\":\"bar\"}],\"carpet\":[{\"aaxis\":{\"endlinecolor\":\"#2a3f5f\",\"gridcolor\":\"white\",\"linecolor\":\"white\",\"minorgridcolor\":\"white\",\"startlinecolor\":\"#2a3f5f\"},\"baxis\":{\"endlinecolor\":\"#2a3f5f\",\"gridcolor\":\"white\",\"linecolor\":\"white\",\"minorgridcolor\":\"white\",\"startlinecolor\":\"#2a3f5f\"},\"type\":\"carpet\"}],\"choropleth\":[{\"colorbar\":{\"outlinewidth\":0,\"ticks\":\"\"},\"type\":\"choropleth\"}],\"contourcarpet\":[{\"colorbar\":{\"outlinewidth\":0,\"ticks\":\"\"},\"type\":\"contourcarpet\"}],\"contour\":[{\"colorbar\":{\"outlinewidth\":0,\"ticks\":\"\"},\"colorscale\":[[0.0,\"#0d0887\"],[0.1111111111111111,\"#46039f\"],[0.2222222222222222,\"#7201a8\"],[0.3333333333333333,\"#9c179e\"],[0.4444444444444444,\"#bd3786\"],[0.5555555555555556,\"#d8576b\"],[0.6666666666666666,\"#ed7953\"],[0.7777777777777778,\"#fb9f3a\"],[0.8888888888888888,\"#fdca26\"],[1.0,\"#f0f921\"]],\"type\":\"contour\"}],\"heatmapgl\":[{\"colorbar\":{\"outlinewidth\":0,\"ticks\":\"\"},\"colorscale\":[[0.0,\"#0d0887\"],[0.1111111111111111,\"#46039f\"],[0.2222222222222222,\"#7201a8\"],[0.3333333333333333,\"#9c179e\"],[0.4444444444444444,\"#bd3786\"],[0.5555555555555556,\"#d8576b\"],[0.6666666666666666,\"#ed7953\"],[0.7777777777777778,\"#fb9f3a\"],[0.8888888888888888,\"#fdca26\"],[1.0,\"#f0f921\"]],\"type\":\"heatmapgl\"}],\"heatmap\":[{\"colorbar\":{\"outlinewidth\":0,\"ticks\":\"\"},\"colorscale\":[[0.0,\"#0d0887\"],[0.1111111111111111,\"#46039f\"],[0.2222222222222222,\"#7201a8\"],[0.3333333333333333,\"#9c179e\"],[0.4444444444444444,\"#bd3786\"],[0.5555555555555556,\"#d8576b\"],[0.6666666666666666,\"#ed7953\"],[0.7777777777777778,\"#fb9f3a\"],[0.8888888888888888,\"#fdca26\"],[1.0,\"#f0f921\"]],\"type\":\"heatmap\"}],\"histogram2dcontour\":[{\"colorbar\":{\"outlinewidth\":0,\"ticks\":\"\"},\"colorscale\":[[0.0,\"#0d0887\"],[0.1111111111111111,\"#46039f\"],[0.2222222222222222,\"#7201a8\"],[0.3333333333333333,\"#9c179e\"],[0.4444444444444444,\"#bd3786\"],[0.5555555555555556,\"#d8576b\"],[0.6666666666666666,\"#ed7953\"],[0.7777777777777778,\"#fb9f3a\"],[0.8888888888888888,\"#fdca26\"],[1.0,\"#f0f921\"]],\"type\":\"histogram2dcontour\"}],\"histogram2d\":[{\"colorbar\":{\"outlinewidth\":0,\"ticks\":\"\"},\"colorscale\":[[0.0,\"#0d0887\"],[0.1111111111111111,\"#46039f\"],[0.2222222222222222,\"#7201a8\"],[0.3333333333333333,\"#9c179e\"],[0.4444444444444444,\"#bd3786\"],[0.5555555555555556,\"#d8576b\"],[0.6666666666666666,\"#ed7953\"],[0.7777777777777778,\"#fb9f3a\"],[0.8888888888888888,\"#fdca26\"],[1.0,\"#f0f921\"]],\"type\":\"histogram2d\"}],\"histogram\":[{\"marker\":{\"pattern\":{\"fillmode\":\"overlay\",\"size\":10,\"solidity\":0.2}},\"type\":\"histogram\"}],\"mesh3d\":[{\"colorbar\":{\"outlinewidth\":0,\"ticks\":\"\"},\"type\":\"mesh3d\"}],\"parcoords\":[{\"line\":{\"colorbar\":{\"outlinewidth\":0,\"ticks\":\"\"}},\"type\":\"parcoords\"}],\"pie\":[{\"automargin\":true,\"type\":\"pie\"}],\"scatter3d\":[{\"line\":{\"colorbar\":{\"outlinewidth\":0,\"ticks\":\"\"}},\"marker\":{\"colorbar\":{\"outlinewidth\":0,\"ticks\":\"\"}},\"type\":\"scatter3d\"}],\"scattercarpet\":[{\"marker\":{\"colorbar\":{\"outlinewidth\":0,\"ticks\":\"\"}},\"type\":\"scattercarpet\"}],\"scattergeo\":[{\"marker\":{\"colorbar\":{\"outlinewidth\":0,\"ticks\":\"\"}},\"type\":\"scattergeo\"}],\"scattergl\":[{\"marker\":{\"colorbar\":{\"outlinewidth\":0,\"ticks\":\"\"}},\"type\":\"scattergl\"}],\"scattermapbox\":[{\"marker\":{\"colorbar\":{\"outlinewidth\":0,\"ticks\":\"\"}},\"type\":\"scattermapbox\"}],\"scatterpolargl\":[{\"marker\":{\"colorbar\":{\"outlinewidth\":0,\"ticks\":\"\"}},\"type\":\"scatterpolargl\"}],\"scatterpolar\":[{\"marker\":{\"colorbar\":{\"outlinewidth\":0,\"ticks\":\"\"}},\"type\":\"scatterpolar\"}],\"scatter\":[{\"fillpattern\":{\"fillmode\":\"overlay\",\"size\":10,\"solidity\":0.2},\"type\":\"scatter\"}],\"scatterternary\":[{\"marker\":{\"colorbar\":{\"outlinewidth\":0,\"ticks\":\"\"}},\"type\":\"scatterternary\"}],\"surface\":[{\"colorbar\":{\"outlinewidth\":0,\"ticks\":\"\"},\"colorscale\":[[0.0,\"#0d0887\"],[0.1111111111111111,\"#46039f\"],[0.2222222222222222,\"#7201a8\"],[0.3333333333333333,\"#9c179e\"],[0.4444444444444444,\"#bd3786\"],[0.5555555555555556,\"#d8576b\"],[0.6666666666666666,\"#ed7953\"],[0.7777777777777778,\"#fb9f3a\"],[0.8888888888888888,\"#fdca26\"],[1.0,\"#f0f921\"]],\"type\":\"surface\"}],\"table\":[{\"cells\":{\"fill\":{\"color\":\"#EBF0F8\"},\"line\":{\"color\":\"white\"}},\"header\":{\"fill\":{\"color\":\"#C8D4E3\"},\"line\":{\"color\":\"white\"}},\"type\":\"table\"}]},\"layout\":{\"annotationdefaults\":{\"arrowcolor\":\"#2a3f5f\",\"arrowhead\":0,\"arrowwidth\":1},\"autotypenumbers\":\"strict\",\"coloraxis\":{\"colorbar\":{\"outlinewidth\":0,\"ticks\":\"\"}},\"colorscale\":{\"diverging\":[[0,\"#8e0152\"],[0.1,\"#c51b7d\"],[0.2,\"#de77ae\"],[0.3,\"#f1b6da\"],[0.4,\"#fde0ef\"],[0.5,\"#f7f7f7\"],[0.6,\"#e6f5d0\"],[0.7,\"#b8e186\"],[0.8,\"#7fbc41\"],[0.9,\"#4d9221\"],[1,\"#276419\"]],\"sequential\":[[0.0,\"#0d0887\"],[0.1111111111111111,\"#46039f\"],[0.2222222222222222,\"#7201a8\"],[0.3333333333333333,\"#9c179e\"],[0.4444444444444444,\"#bd3786\"],[0.5555555555555556,\"#d8576b\"],[0.6666666666666666,\"#ed7953\"],[0.7777777777777778,\"#fb9f3a\"],[0.8888888888888888,\"#fdca26\"],[1.0,\"#f0f921\"]],\"sequentialminus\":[[0.0,\"#0d0887\"],[0.1111111111111111,\"#46039f\"],[0.2222222222222222,\"#7201a8\"],[0.3333333333333333,\"#9c179e\"],[0.4444444444444444,\"#bd3786\"],[0.5555555555555556,\"#d8576b\"],[0.6666666666666666,\"#ed7953\"],[0.7777777777777778,\"#fb9f3a\"],[0.8888888888888888,\"#fdca26\"],[1.0,\"#f0f921\"]]},\"colorway\":[\"#636efa\",\"#EF553B\",\"#00cc96\",\"#ab63fa\",\"#FFA15A\",\"#19d3f3\",\"#FF6692\",\"#B6E880\",\"#FF97FF\",\"#FECB52\"],\"font\":{\"color\":\"#2a3f5f\"},\"geo\":{\"bgcolor\":\"white\",\"lakecolor\":\"white\",\"landcolor\":\"#E5ECF6\",\"showlakes\":true,\"showland\":true,\"subunitcolor\":\"white\"},\"hoverlabel\":{\"align\":\"left\"},\"hovermode\":\"closest\",\"mapbox\":{\"style\":\"light\"},\"paper_bgcolor\":\"white\",\"plot_bgcolor\":\"#E5ECF6\",\"polar\":{\"angularaxis\":{\"gridcolor\":\"white\",\"linecolor\":\"white\",\"ticks\":\"\"},\"bgcolor\":\"#E5ECF6\",\"radialaxis\":{\"gridcolor\":\"white\",\"linecolor\":\"white\",\"ticks\":\"\"}},\"scene\":{\"xaxis\":{\"backgroundcolor\":\"#E5ECF6\",\"gridcolor\":\"white\",\"gridwidth\":2,\"linecolor\":\"white\",\"showbackground\":true,\"ticks\":\"\",\"zerolinecolor\":\"white\"},\"yaxis\":{\"backgroundcolor\":\"#E5ECF6\",\"gridcolor\":\"white\",\"gridwidth\":2,\"linecolor\":\"white\",\"showbackground\":true,\"ticks\":\"\",\"zerolinecolor\":\"white\"},\"zaxis\":{\"backgroundcolor\":\"#E5ECF6\",\"gridcolor\":\"white\",\"gridwidth\":2,\"linecolor\":\"white\",\"showbackground\":true,\"ticks\":\"\",\"zerolinecolor\":\"white\"}},\"shapedefaults\":{\"line\":{\"color\":\"#2a3f5f\"}},\"ternary\":{\"aaxis\":{\"gridcolor\":\"white\",\"linecolor\":\"white\",\"ticks\":\"\"},\"baxis\":{\"gridcolor\":\"white\",\"linecolor\":\"white\",\"ticks\":\"\"},\"bgcolor\":\"#E5ECF6\",\"caxis\":{\"gridcolor\":\"white\",\"linecolor\":\"white\",\"ticks\":\"\"}},\"title\":{\"x\":0.05},\"xaxis\":{\"automargin\":true,\"gridcolor\":\"white\",\"linecolor\":\"white\",\"ticks\":\"\",\"title\":{\"standoff\":15},\"zerolinecolor\":\"white\",\"zerolinewidth\":2},\"yaxis\":{\"automargin\":true,\"gridcolor\":\"white\",\"linecolor\":\"white\",\"ticks\":\"\",\"title\":{\"standoff\":15},\"zerolinecolor\":\"white\",\"zerolinewidth\":2}}},\"title\":{\"text\":\"Label: Class 0\"},\"xaxis\":{\"anchor\":\"y\",\"domain\":[0.0,1.0],\"title\":{\"text\":\"Importance scores\"}},\"yaxis\":{\"anchor\":\"x\",\"domain\":[0.0,1.0],\"title\":{\"text\":\"Features\"}}},                        {\"responsive\": true}                    ).then(function(){\n",
       "                            \n",
       "var gd = document.getElementById('da7e1bf5-3400-4a7f-b154-74cde908b9f1');\n",
       "var x = new MutationObserver(function (mutations, observer) {{\n",
       "        var display = window.getComputedStyle(gd).display;\n",
       "        if (!display || display === 'none') {{\n",
       "            console.log([gd, 'removed!']);\n",
       "            Plotly.purge(gd);\n",
       "            observer.disconnect();\n",
       "        }}\n",
       "}});\n",
       "\n",
       "// Listen for the removal of the full notebook cells\n",
       "var notebookContainer = gd.closest('#notebook-container');\n",
       "if (notebookContainer) {{\n",
       "    x.observe(notebookContainer, {childList: true});\n",
       "}}\n",
       "\n",
       "// Listen for the clearing of the current output cell\n",
       "var outputEl = gd.closest('.output');\n",
       "if (outputEl) {{\n",
       "    x.observe(outputEl, {childList: true});\n",
       "}}\n",
       "\n",
       "                        })                };                });            </script>        </div>"
      ]
     },
     "metadata": {},
     "output_type": "display_data"
    },
    {
     "name": "stdout",
     "output_type": "stream",
     "text": [
      "-./-./-./-./-./-./-./-./-./-./-./-./-./-./-./-./-./-./-./-./-./-./-./-./-./-./-./-./-./-./-./-./-./-./-./-./-./-./-./-./-./-./-./-./-./-./-./-./-./-./\n",
      "\n",
      "\n",
      "incorrect prediction for true label=0, and the model is 100% confident\n",
      "Instance 663 has label 0 and prediction 1.0, with probs [0. 1.]\n"
     ]
    },
    {
     "data": {
      "application/vnd.plotly.v1+json": {
       "config": {
        "linkText": "Export to plot.ly",
        "plotlyServerURL": "https://plot.ly",
        "showLink": false
       },
       "data": [
        {
         "alignmentgroup": "True",
         "hovertemplate": "Positive=False<br>Importance scores=%{x}<br>Features=%{y}<extra></extra>",
         "legendgroup": "False",
         "marker": {
          "color": "#DC143C",
          "pattern": {
           "shape": ""
          }
         },
         "name": "False",
         "offsetgroup": "False",
         "orientation": "h",
         "showlegend": true,
         "textposition": "auto",
         "type": "bar",
         "x": [
          -0.007248006879959774,
          -0.007886399757969731,
          -0.022391298425056678,
          -0.1032880338059045,
          -0.48687828446379205
         ],
         "xaxis": "x",
         "y": [
          "Hours per week = FullTime",
          "Race = White",
          "Workclass = Private",
          "Capital Loss = 0",
          "Capital Gain = 0"
         ],
         "yaxis": "y"
        },
        {
         "alignmentgroup": "True",
         "hovertemplate": "Positive=True<br>Importance scores=%{x}<br>Features=%{y}<extra></extra>",
         "legendgroup": "True",
         "marker": {
          "color": "#008B8B",
          "pattern": {
           "shape": ""
          }
         },
         "name": "True",
         "offsetgroup": "True",
         "orientation": "h",
         "showlegend": true,
         "textposition": "auto",
         "type": "bar",
         "x": [
          0.015300024998649324,
          0.026671869092724617,
          0.03713542727242365,
          0.09213897130074214,
          0.2906914355990221
         ],
         "xaxis": "x",
         "y": [
          "Country = United-States",
          "Occupation = Sales",
          "Age = Aged",
          "Education = Bachelors",
          "Relationship = Married"
         ],
         "yaxis": "y"
        }
       ],
       "layout": {
        "autosize": true,
        "barmode": "relative",
        "legend": {
         "title": {
          "text": "Positive"
         },
         "tracegroupgap": 0
        },
        "template": {
         "data": {
          "bar": [
           {
            "error_x": {
             "color": "#2a3f5f"
            },
            "error_y": {
             "color": "#2a3f5f"
            },
            "marker": {
             "line": {
              "color": "#E5ECF6",
              "width": 0.5
             },
             "pattern": {
              "fillmode": "overlay",
              "size": 10,
              "solidity": 0.2
             }
            },
            "type": "bar"
           }
          ],
          "barpolar": [
           {
            "marker": {
             "line": {
              "color": "#E5ECF6",
              "width": 0.5
             },
             "pattern": {
              "fillmode": "overlay",
              "size": 10,
              "solidity": 0.2
             }
            },
            "type": "barpolar"
           }
          ],
          "carpet": [
           {
            "aaxis": {
             "endlinecolor": "#2a3f5f",
             "gridcolor": "white",
             "linecolor": "white",
             "minorgridcolor": "white",
             "startlinecolor": "#2a3f5f"
            },
            "baxis": {
             "endlinecolor": "#2a3f5f",
             "gridcolor": "white",
             "linecolor": "white",
             "minorgridcolor": "white",
             "startlinecolor": "#2a3f5f"
            },
            "type": "carpet"
           }
          ],
          "choropleth": [
           {
            "colorbar": {
             "outlinewidth": 0,
             "ticks": ""
            },
            "type": "choropleth"
           }
          ],
          "contour": [
           {
            "colorbar": {
             "outlinewidth": 0,
             "ticks": ""
            },
            "colorscale": [
             [
              0,
              "#0d0887"
             ],
             [
              0.1111111111111111,
              "#46039f"
             ],
             [
              0.2222222222222222,
              "#7201a8"
             ],
             [
              0.3333333333333333,
              "#9c179e"
             ],
             [
              0.4444444444444444,
              "#bd3786"
             ],
             [
              0.5555555555555556,
              "#d8576b"
             ],
             [
              0.6666666666666666,
              "#ed7953"
             ],
             [
              0.7777777777777778,
              "#fb9f3a"
             ],
             [
              0.8888888888888888,
              "#fdca26"
             ],
             [
              1,
              "#f0f921"
             ]
            ],
            "type": "contour"
           }
          ],
          "contourcarpet": [
           {
            "colorbar": {
             "outlinewidth": 0,
             "ticks": ""
            },
            "type": "contourcarpet"
           }
          ],
          "heatmap": [
           {
            "colorbar": {
             "outlinewidth": 0,
             "ticks": ""
            },
            "colorscale": [
             [
              0,
              "#0d0887"
             ],
             [
              0.1111111111111111,
              "#46039f"
             ],
             [
              0.2222222222222222,
              "#7201a8"
             ],
             [
              0.3333333333333333,
              "#9c179e"
             ],
             [
              0.4444444444444444,
              "#bd3786"
             ],
             [
              0.5555555555555556,
              "#d8576b"
             ],
             [
              0.6666666666666666,
              "#ed7953"
             ],
             [
              0.7777777777777778,
              "#fb9f3a"
             ],
             [
              0.8888888888888888,
              "#fdca26"
             ],
             [
              1,
              "#f0f921"
             ]
            ],
            "type": "heatmap"
           }
          ],
          "heatmapgl": [
           {
            "colorbar": {
             "outlinewidth": 0,
             "ticks": ""
            },
            "colorscale": [
             [
              0,
              "#0d0887"
             ],
             [
              0.1111111111111111,
              "#46039f"
             ],
             [
              0.2222222222222222,
              "#7201a8"
             ],
             [
              0.3333333333333333,
              "#9c179e"
             ],
             [
              0.4444444444444444,
              "#bd3786"
             ],
             [
              0.5555555555555556,
              "#d8576b"
             ],
             [
              0.6666666666666666,
              "#ed7953"
             ],
             [
              0.7777777777777778,
              "#fb9f3a"
             ],
             [
              0.8888888888888888,
              "#fdca26"
             ],
             [
              1,
              "#f0f921"
             ]
            ],
            "type": "heatmapgl"
           }
          ],
          "histogram": [
           {
            "marker": {
             "pattern": {
              "fillmode": "overlay",
              "size": 10,
              "solidity": 0.2
             }
            },
            "type": "histogram"
           }
          ],
          "histogram2d": [
           {
            "colorbar": {
             "outlinewidth": 0,
             "ticks": ""
            },
            "colorscale": [
             [
              0,
              "#0d0887"
             ],
             [
              0.1111111111111111,
              "#46039f"
             ],
             [
              0.2222222222222222,
              "#7201a8"
             ],
             [
              0.3333333333333333,
              "#9c179e"
             ],
             [
              0.4444444444444444,
              "#bd3786"
             ],
             [
              0.5555555555555556,
              "#d8576b"
             ],
             [
              0.6666666666666666,
              "#ed7953"
             ],
             [
              0.7777777777777778,
              "#fb9f3a"
             ],
             [
              0.8888888888888888,
              "#fdca26"
             ],
             [
              1,
              "#f0f921"
             ]
            ],
            "type": "histogram2d"
           }
          ],
          "histogram2dcontour": [
           {
            "colorbar": {
             "outlinewidth": 0,
             "ticks": ""
            },
            "colorscale": [
             [
              0,
              "#0d0887"
             ],
             [
              0.1111111111111111,
              "#46039f"
             ],
             [
              0.2222222222222222,
              "#7201a8"
             ],
             [
              0.3333333333333333,
              "#9c179e"
             ],
             [
              0.4444444444444444,
              "#bd3786"
             ],
             [
              0.5555555555555556,
              "#d8576b"
             ],
             [
              0.6666666666666666,
              "#ed7953"
             ],
             [
              0.7777777777777778,
              "#fb9f3a"
             ],
             [
              0.8888888888888888,
              "#fdca26"
             ],
             [
              1,
              "#f0f921"
             ]
            ],
            "type": "histogram2dcontour"
           }
          ],
          "mesh3d": [
           {
            "colorbar": {
             "outlinewidth": 0,
             "ticks": ""
            },
            "type": "mesh3d"
           }
          ],
          "parcoords": [
           {
            "line": {
             "colorbar": {
              "outlinewidth": 0,
              "ticks": ""
             }
            },
            "type": "parcoords"
           }
          ],
          "pie": [
           {
            "automargin": true,
            "type": "pie"
           }
          ],
          "scatter": [
           {
            "fillpattern": {
             "fillmode": "overlay",
             "size": 10,
             "solidity": 0.2
            },
            "type": "scatter"
           }
          ],
          "scatter3d": [
           {
            "line": {
             "colorbar": {
              "outlinewidth": 0,
              "ticks": ""
             }
            },
            "marker": {
             "colorbar": {
              "outlinewidth": 0,
              "ticks": ""
             }
            },
            "type": "scatter3d"
           }
          ],
          "scattercarpet": [
           {
            "marker": {
             "colorbar": {
              "outlinewidth": 0,
              "ticks": ""
             }
            },
            "type": "scattercarpet"
           }
          ],
          "scattergeo": [
           {
            "marker": {
             "colorbar": {
              "outlinewidth": 0,
              "ticks": ""
             }
            },
            "type": "scattergeo"
           }
          ],
          "scattergl": [
           {
            "marker": {
             "colorbar": {
              "outlinewidth": 0,
              "ticks": ""
             }
            },
            "type": "scattergl"
           }
          ],
          "scattermapbox": [
           {
            "marker": {
             "colorbar": {
              "outlinewidth": 0,
              "ticks": ""
             }
            },
            "type": "scattermapbox"
           }
          ],
          "scatterpolar": [
           {
            "marker": {
             "colorbar": {
              "outlinewidth": 0,
              "ticks": ""
             }
            },
            "type": "scatterpolar"
           }
          ],
          "scatterpolargl": [
           {
            "marker": {
             "colorbar": {
              "outlinewidth": 0,
              "ticks": ""
             }
            },
            "type": "scatterpolargl"
           }
          ],
          "scatterternary": [
           {
            "marker": {
             "colorbar": {
              "outlinewidth": 0,
              "ticks": ""
             }
            },
            "type": "scatterternary"
           }
          ],
          "surface": [
           {
            "colorbar": {
             "outlinewidth": 0,
             "ticks": ""
            },
            "colorscale": [
             [
              0,
              "#0d0887"
             ],
             [
              0.1111111111111111,
              "#46039f"
             ],
             [
              0.2222222222222222,
              "#7201a8"
             ],
             [
              0.3333333333333333,
              "#9c179e"
             ],
             [
              0.4444444444444444,
              "#bd3786"
             ],
             [
              0.5555555555555556,
              "#d8576b"
             ],
             [
              0.6666666666666666,
              "#ed7953"
             ],
             [
              0.7777777777777778,
              "#fb9f3a"
             ],
             [
              0.8888888888888888,
              "#fdca26"
             ],
             [
              1,
              "#f0f921"
             ]
            ],
            "type": "surface"
           }
          ],
          "table": [
           {
            "cells": {
             "fill": {
              "color": "#EBF0F8"
             },
             "line": {
              "color": "white"
             }
            },
            "header": {
             "fill": {
              "color": "#C8D4E3"
             },
             "line": {
              "color": "white"
             }
            },
            "type": "table"
           }
          ]
         },
         "layout": {
          "annotationdefaults": {
           "arrowcolor": "#2a3f5f",
           "arrowhead": 0,
           "arrowwidth": 1
          },
          "autotypenumbers": "strict",
          "coloraxis": {
           "colorbar": {
            "outlinewidth": 0,
            "ticks": ""
           }
          },
          "colorscale": {
           "diverging": [
            [
             0,
             "#8e0152"
            ],
            [
             0.1,
             "#c51b7d"
            ],
            [
             0.2,
             "#de77ae"
            ],
            [
             0.3,
             "#f1b6da"
            ],
            [
             0.4,
             "#fde0ef"
            ],
            [
             0.5,
             "#f7f7f7"
            ],
            [
             0.6,
             "#e6f5d0"
            ],
            [
             0.7,
             "#b8e186"
            ],
            [
             0.8,
             "#7fbc41"
            ],
            [
             0.9,
             "#4d9221"
            ],
            [
             1,
             "#276419"
            ]
           ],
           "sequential": [
            [
             0,
             "#0d0887"
            ],
            [
             0.1111111111111111,
             "#46039f"
            ],
            [
             0.2222222222222222,
             "#7201a8"
            ],
            [
             0.3333333333333333,
             "#9c179e"
            ],
            [
             0.4444444444444444,
             "#bd3786"
            ],
            [
             0.5555555555555556,
             "#d8576b"
            ],
            [
             0.6666666666666666,
             "#ed7953"
            ],
            [
             0.7777777777777778,
             "#fb9f3a"
            ],
            [
             0.8888888888888888,
             "#fdca26"
            ],
            [
             1,
             "#f0f921"
            ]
           ],
           "sequentialminus": [
            [
             0,
             "#0d0887"
            ],
            [
             0.1111111111111111,
             "#46039f"
            ],
            [
             0.2222222222222222,
             "#7201a8"
            ],
            [
             0.3333333333333333,
             "#9c179e"
            ],
            [
             0.4444444444444444,
             "#bd3786"
            ],
            [
             0.5555555555555556,
             "#d8576b"
            ],
            [
             0.6666666666666666,
             "#ed7953"
            ],
            [
             0.7777777777777778,
             "#fb9f3a"
            ],
            [
             0.8888888888888888,
             "#fdca26"
            ],
            [
             1,
             "#f0f921"
            ]
           ]
          },
          "colorway": [
           "#636efa",
           "#EF553B",
           "#00cc96",
           "#ab63fa",
           "#FFA15A",
           "#19d3f3",
           "#FF6692",
           "#B6E880",
           "#FF97FF",
           "#FECB52"
          ],
          "font": {
           "color": "#2a3f5f"
          },
          "geo": {
           "bgcolor": "white",
           "lakecolor": "white",
           "landcolor": "#E5ECF6",
           "showlakes": true,
           "showland": true,
           "subunitcolor": "white"
          },
          "hoverlabel": {
           "align": "left"
          },
          "hovermode": "closest",
          "mapbox": {
           "style": "light"
          },
          "paper_bgcolor": "white",
          "plot_bgcolor": "#E5ECF6",
          "polar": {
           "angularaxis": {
            "gridcolor": "white",
            "linecolor": "white",
            "ticks": ""
           },
           "bgcolor": "#E5ECF6",
           "radialaxis": {
            "gridcolor": "white",
            "linecolor": "white",
            "ticks": ""
           }
          },
          "scene": {
           "xaxis": {
            "backgroundcolor": "#E5ECF6",
            "gridcolor": "white",
            "gridwidth": 2,
            "linecolor": "white",
            "showbackground": true,
            "ticks": "",
            "zerolinecolor": "white"
           },
           "yaxis": {
            "backgroundcolor": "#E5ECF6",
            "gridcolor": "white",
            "gridwidth": 2,
            "linecolor": "white",
            "showbackground": true,
            "ticks": "",
            "zerolinecolor": "white"
           },
           "zaxis": {
            "backgroundcolor": "#E5ECF6",
            "gridcolor": "white",
            "gridwidth": 2,
            "linecolor": "white",
            "showbackground": true,
            "ticks": "",
            "zerolinecolor": "white"
           }
          },
          "shapedefaults": {
           "line": {
            "color": "#2a3f5f"
           }
          },
          "ternary": {
           "aaxis": {
            "gridcolor": "white",
            "linecolor": "white",
            "ticks": ""
           },
           "baxis": {
            "gridcolor": "white",
            "linecolor": "white",
            "ticks": ""
           },
           "bgcolor": "#E5ECF6",
           "caxis": {
            "gridcolor": "white",
            "linecolor": "white",
            "ticks": ""
           }
          },
          "title": {
           "x": 0.05
          },
          "xaxis": {
           "automargin": true,
           "gridcolor": "white",
           "linecolor": "white",
           "ticks": "",
           "title": {
            "standoff": 15
           },
           "zerolinecolor": "white",
           "zerolinewidth": 2
          },
          "yaxis": {
           "automargin": true,
           "gridcolor": "white",
           "linecolor": "white",
           "ticks": "",
           "title": {
            "standoff": 15
           },
           "zerolinecolor": "white",
           "zerolinewidth": 2
          }
         }
        },
        "title": {
         "text": "Label: Class 1"
        },
        "xaxis": {
         "anchor": "y",
         "autorange": true,
         "domain": [
          0,
          1
         ],
         "range": [
          -0.5300766022450595,
          0.3338897533802896
         ],
         "title": {
          "text": "Importance scores"
         },
         "type": "linear"
        },
        "yaxis": {
         "anchor": "x",
         "autorange": true,
         "domain": [
          0,
          1
         ],
         "range": [
          -0.5,
          9.5
         ],
         "title": {
          "text": "Features"
         },
         "type": "category"
        }
       }
      },
      "text/html": [
       "<div>                            <div id=\"1a084269-ca3e-4e37-8783-da33b10bbf9c\" class=\"plotly-graph-div\" style=\"height:525px; width:100%;\"></div>            <script type=\"text/javascript\">                require([\"plotly\"], function(Plotly) {                    window.PLOTLYENV=window.PLOTLYENV || {};                                    if (document.getElementById(\"1a084269-ca3e-4e37-8783-da33b10bbf9c\")) {                    Plotly.newPlot(                        \"1a084269-ca3e-4e37-8783-da33b10bbf9c\",                        [{\"alignmentgroup\":\"True\",\"hovertemplate\":\"Positive=False\\u003cbr\\u003eImportance scores=%{x}\\u003cbr\\u003eFeatures=%{y}\\u003cextra\\u003e\\u003c\\u002fextra\\u003e\",\"legendgroup\":\"False\",\"marker\":{\"color\":\"#DC143C\",\"pattern\":{\"shape\":\"\"}},\"name\":\"False\",\"offsetgroup\":\"False\",\"orientation\":\"h\",\"showlegend\":true,\"textposition\":\"auto\",\"x\":[-0.007248006879959774,-0.007886399757969731,-0.022391298425056678,-0.1032880338059045,-0.48687828446379205],\"xaxis\":\"x\",\"y\":[\"Hours per week = FullTime\",\"Race = White\",\"Workclass = Private\",\"Capital Loss = 0\",\"Capital Gain = 0\"],\"yaxis\":\"y\",\"type\":\"bar\"},{\"alignmentgroup\":\"True\",\"hovertemplate\":\"Positive=True\\u003cbr\\u003eImportance scores=%{x}\\u003cbr\\u003eFeatures=%{y}\\u003cextra\\u003e\\u003c\\u002fextra\\u003e\",\"legendgroup\":\"True\",\"marker\":{\"color\":\"#008B8B\",\"pattern\":{\"shape\":\"\"}},\"name\":\"True\",\"offsetgroup\":\"True\",\"orientation\":\"h\",\"showlegend\":true,\"textposition\":\"auto\",\"x\":[0.015300024998649324,0.026671869092724617,0.03713542727242365,0.09213897130074214,0.2906914355990221],\"xaxis\":\"x\",\"y\":[\"Country = United-States\",\"Occupation = Sales\",\"Age = Aged\",\"Education = Bachelors\",\"Relationship = Married\"],\"yaxis\":\"y\",\"type\":\"bar\"}],                        {\"barmode\":\"relative\",\"legend\":{\"title\":{\"text\":\"Positive\"},\"tracegroupgap\":0},\"template\":{\"data\":{\"barpolar\":[{\"marker\":{\"line\":{\"color\":\"#E5ECF6\",\"width\":0.5},\"pattern\":{\"fillmode\":\"overlay\",\"size\":10,\"solidity\":0.2}},\"type\":\"barpolar\"}],\"bar\":[{\"error_x\":{\"color\":\"#2a3f5f\"},\"error_y\":{\"color\":\"#2a3f5f\"},\"marker\":{\"line\":{\"color\":\"#E5ECF6\",\"width\":0.5},\"pattern\":{\"fillmode\":\"overlay\",\"size\":10,\"solidity\":0.2}},\"type\":\"bar\"}],\"carpet\":[{\"aaxis\":{\"endlinecolor\":\"#2a3f5f\",\"gridcolor\":\"white\",\"linecolor\":\"white\",\"minorgridcolor\":\"white\",\"startlinecolor\":\"#2a3f5f\"},\"baxis\":{\"endlinecolor\":\"#2a3f5f\",\"gridcolor\":\"white\",\"linecolor\":\"white\",\"minorgridcolor\":\"white\",\"startlinecolor\":\"#2a3f5f\"},\"type\":\"carpet\"}],\"choropleth\":[{\"colorbar\":{\"outlinewidth\":0,\"ticks\":\"\"},\"type\":\"choropleth\"}],\"contourcarpet\":[{\"colorbar\":{\"outlinewidth\":0,\"ticks\":\"\"},\"type\":\"contourcarpet\"}],\"contour\":[{\"colorbar\":{\"outlinewidth\":0,\"ticks\":\"\"},\"colorscale\":[[0.0,\"#0d0887\"],[0.1111111111111111,\"#46039f\"],[0.2222222222222222,\"#7201a8\"],[0.3333333333333333,\"#9c179e\"],[0.4444444444444444,\"#bd3786\"],[0.5555555555555556,\"#d8576b\"],[0.6666666666666666,\"#ed7953\"],[0.7777777777777778,\"#fb9f3a\"],[0.8888888888888888,\"#fdca26\"],[1.0,\"#f0f921\"]],\"type\":\"contour\"}],\"heatmapgl\":[{\"colorbar\":{\"outlinewidth\":0,\"ticks\":\"\"},\"colorscale\":[[0.0,\"#0d0887\"],[0.1111111111111111,\"#46039f\"],[0.2222222222222222,\"#7201a8\"],[0.3333333333333333,\"#9c179e\"],[0.4444444444444444,\"#bd3786\"],[0.5555555555555556,\"#d8576b\"],[0.6666666666666666,\"#ed7953\"],[0.7777777777777778,\"#fb9f3a\"],[0.8888888888888888,\"#fdca26\"],[1.0,\"#f0f921\"]],\"type\":\"heatmapgl\"}],\"heatmap\":[{\"colorbar\":{\"outlinewidth\":0,\"ticks\":\"\"},\"colorscale\":[[0.0,\"#0d0887\"],[0.1111111111111111,\"#46039f\"],[0.2222222222222222,\"#7201a8\"],[0.3333333333333333,\"#9c179e\"],[0.4444444444444444,\"#bd3786\"],[0.5555555555555556,\"#d8576b\"],[0.6666666666666666,\"#ed7953\"],[0.7777777777777778,\"#fb9f3a\"],[0.8888888888888888,\"#fdca26\"],[1.0,\"#f0f921\"]],\"type\":\"heatmap\"}],\"histogram2dcontour\":[{\"colorbar\":{\"outlinewidth\":0,\"ticks\":\"\"},\"colorscale\":[[0.0,\"#0d0887\"],[0.1111111111111111,\"#46039f\"],[0.2222222222222222,\"#7201a8\"],[0.3333333333333333,\"#9c179e\"],[0.4444444444444444,\"#bd3786\"],[0.5555555555555556,\"#d8576b\"],[0.6666666666666666,\"#ed7953\"],[0.7777777777777778,\"#fb9f3a\"],[0.8888888888888888,\"#fdca26\"],[1.0,\"#f0f921\"]],\"type\":\"histogram2dcontour\"}],\"histogram2d\":[{\"colorbar\":{\"outlinewidth\":0,\"ticks\":\"\"},\"colorscale\":[[0.0,\"#0d0887\"],[0.1111111111111111,\"#46039f\"],[0.2222222222222222,\"#7201a8\"],[0.3333333333333333,\"#9c179e\"],[0.4444444444444444,\"#bd3786\"],[0.5555555555555556,\"#d8576b\"],[0.6666666666666666,\"#ed7953\"],[0.7777777777777778,\"#fb9f3a\"],[0.8888888888888888,\"#fdca26\"],[1.0,\"#f0f921\"]],\"type\":\"histogram2d\"}],\"histogram\":[{\"marker\":{\"pattern\":{\"fillmode\":\"overlay\",\"size\":10,\"solidity\":0.2}},\"type\":\"histogram\"}],\"mesh3d\":[{\"colorbar\":{\"outlinewidth\":0,\"ticks\":\"\"},\"type\":\"mesh3d\"}],\"parcoords\":[{\"line\":{\"colorbar\":{\"outlinewidth\":0,\"ticks\":\"\"}},\"type\":\"parcoords\"}],\"pie\":[{\"automargin\":true,\"type\":\"pie\"}],\"scatter3d\":[{\"line\":{\"colorbar\":{\"outlinewidth\":0,\"ticks\":\"\"}},\"marker\":{\"colorbar\":{\"outlinewidth\":0,\"ticks\":\"\"}},\"type\":\"scatter3d\"}],\"scattercarpet\":[{\"marker\":{\"colorbar\":{\"outlinewidth\":0,\"ticks\":\"\"}},\"type\":\"scattercarpet\"}],\"scattergeo\":[{\"marker\":{\"colorbar\":{\"outlinewidth\":0,\"ticks\":\"\"}},\"type\":\"scattergeo\"}],\"scattergl\":[{\"marker\":{\"colorbar\":{\"outlinewidth\":0,\"ticks\":\"\"}},\"type\":\"scattergl\"}],\"scattermapbox\":[{\"marker\":{\"colorbar\":{\"outlinewidth\":0,\"ticks\":\"\"}},\"type\":\"scattermapbox\"}],\"scatterpolargl\":[{\"marker\":{\"colorbar\":{\"outlinewidth\":0,\"ticks\":\"\"}},\"type\":\"scatterpolargl\"}],\"scatterpolar\":[{\"marker\":{\"colorbar\":{\"outlinewidth\":0,\"ticks\":\"\"}},\"type\":\"scatterpolar\"}],\"scatter\":[{\"fillpattern\":{\"fillmode\":\"overlay\",\"size\":10,\"solidity\":0.2},\"type\":\"scatter\"}],\"scatterternary\":[{\"marker\":{\"colorbar\":{\"outlinewidth\":0,\"ticks\":\"\"}},\"type\":\"scatterternary\"}],\"surface\":[{\"colorbar\":{\"outlinewidth\":0,\"ticks\":\"\"},\"colorscale\":[[0.0,\"#0d0887\"],[0.1111111111111111,\"#46039f\"],[0.2222222222222222,\"#7201a8\"],[0.3333333333333333,\"#9c179e\"],[0.4444444444444444,\"#bd3786\"],[0.5555555555555556,\"#d8576b\"],[0.6666666666666666,\"#ed7953\"],[0.7777777777777778,\"#fb9f3a\"],[0.8888888888888888,\"#fdca26\"],[1.0,\"#f0f921\"]],\"type\":\"surface\"}],\"table\":[{\"cells\":{\"fill\":{\"color\":\"#EBF0F8\"},\"line\":{\"color\":\"white\"}},\"header\":{\"fill\":{\"color\":\"#C8D4E3\"},\"line\":{\"color\":\"white\"}},\"type\":\"table\"}]},\"layout\":{\"annotationdefaults\":{\"arrowcolor\":\"#2a3f5f\",\"arrowhead\":0,\"arrowwidth\":1},\"autotypenumbers\":\"strict\",\"coloraxis\":{\"colorbar\":{\"outlinewidth\":0,\"ticks\":\"\"}},\"colorscale\":{\"diverging\":[[0,\"#8e0152\"],[0.1,\"#c51b7d\"],[0.2,\"#de77ae\"],[0.3,\"#f1b6da\"],[0.4,\"#fde0ef\"],[0.5,\"#f7f7f7\"],[0.6,\"#e6f5d0\"],[0.7,\"#b8e186\"],[0.8,\"#7fbc41\"],[0.9,\"#4d9221\"],[1,\"#276419\"]],\"sequential\":[[0.0,\"#0d0887\"],[0.1111111111111111,\"#46039f\"],[0.2222222222222222,\"#7201a8\"],[0.3333333333333333,\"#9c179e\"],[0.4444444444444444,\"#bd3786\"],[0.5555555555555556,\"#d8576b\"],[0.6666666666666666,\"#ed7953\"],[0.7777777777777778,\"#fb9f3a\"],[0.8888888888888888,\"#fdca26\"],[1.0,\"#f0f921\"]],\"sequentialminus\":[[0.0,\"#0d0887\"],[0.1111111111111111,\"#46039f\"],[0.2222222222222222,\"#7201a8\"],[0.3333333333333333,\"#9c179e\"],[0.4444444444444444,\"#bd3786\"],[0.5555555555555556,\"#d8576b\"],[0.6666666666666666,\"#ed7953\"],[0.7777777777777778,\"#fb9f3a\"],[0.8888888888888888,\"#fdca26\"],[1.0,\"#f0f921\"]]},\"colorway\":[\"#636efa\",\"#EF553B\",\"#00cc96\",\"#ab63fa\",\"#FFA15A\",\"#19d3f3\",\"#FF6692\",\"#B6E880\",\"#FF97FF\",\"#FECB52\"],\"font\":{\"color\":\"#2a3f5f\"},\"geo\":{\"bgcolor\":\"white\",\"lakecolor\":\"white\",\"landcolor\":\"#E5ECF6\",\"showlakes\":true,\"showland\":true,\"subunitcolor\":\"white\"},\"hoverlabel\":{\"align\":\"left\"},\"hovermode\":\"closest\",\"mapbox\":{\"style\":\"light\"},\"paper_bgcolor\":\"white\",\"plot_bgcolor\":\"#E5ECF6\",\"polar\":{\"angularaxis\":{\"gridcolor\":\"white\",\"linecolor\":\"white\",\"ticks\":\"\"},\"bgcolor\":\"#E5ECF6\",\"radialaxis\":{\"gridcolor\":\"white\",\"linecolor\":\"white\",\"ticks\":\"\"}},\"scene\":{\"xaxis\":{\"backgroundcolor\":\"#E5ECF6\",\"gridcolor\":\"white\",\"gridwidth\":2,\"linecolor\":\"white\",\"showbackground\":true,\"ticks\":\"\",\"zerolinecolor\":\"white\"},\"yaxis\":{\"backgroundcolor\":\"#E5ECF6\",\"gridcolor\":\"white\",\"gridwidth\":2,\"linecolor\":\"white\",\"showbackground\":true,\"ticks\":\"\",\"zerolinecolor\":\"white\"},\"zaxis\":{\"backgroundcolor\":\"#E5ECF6\",\"gridcolor\":\"white\",\"gridwidth\":2,\"linecolor\":\"white\",\"showbackground\":true,\"ticks\":\"\",\"zerolinecolor\":\"white\"}},\"shapedefaults\":{\"line\":{\"color\":\"#2a3f5f\"}},\"ternary\":{\"aaxis\":{\"gridcolor\":\"white\",\"linecolor\":\"white\",\"ticks\":\"\"},\"baxis\":{\"gridcolor\":\"white\",\"linecolor\":\"white\",\"ticks\":\"\"},\"bgcolor\":\"#E5ECF6\",\"caxis\":{\"gridcolor\":\"white\",\"linecolor\":\"white\",\"ticks\":\"\"}},\"title\":{\"x\":0.05},\"xaxis\":{\"automargin\":true,\"gridcolor\":\"white\",\"linecolor\":\"white\",\"ticks\":\"\",\"title\":{\"standoff\":15},\"zerolinecolor\":\"white\",\"zerolinewidth\":2},\"yaxis\":{\"automargin\":true,\"gridcolor\":\"white\",\"linecolor\":\"white\",\"ticks\":\"\",\"title\":{\"standoff\":15},\"zerolinecolor\":\"white\",\"zerolinewidth\":2}}},\"title\":{\"text\":\"Label: Class 1\"},\"xaxis\":{\"anchor\":\"y\",\"domain\":[0.0,1.0],\"title\":{\"text\":\"Importance scores\"}},\"yaxis\":{\"anchor\":\"x\",\"domain\":[0.0,1.0],\"title\":{\"text\":\"Features\"}}},                        {\"responsive\": true}                    ).then(function(){\n",
       "                            \n",
       "var gd = document.getElementById('1a084269-ca3e-4e37-8783-da33b10bbf9c');\n",
       "var x = new MutationObserver(function (mutations, observer) {{\n",
       "        var display = window.getComputedStyle(gd).display;\n",
       "        if (!display || display === 'none') {{\n",
       "            console.log([gd, 'removed!']);\n",
       "            Plotly.purge(gd);\n",
       "            observer.disconnect();\n",
       "        }}\n",
       "}});\n",
       "\n",
       "// Listen for the removal of the full notebook cells\n",
       "var notebookContainer = gd.closest('#notebook-container');\n",
       "if (notebookContainer) {{\n",
       "    x.observe(notebookContainer, {childList: true});\n",
       "}}\n",
       "\n",
       "// Listen for the clearing of the current output cell\n",
       "var outputEl = gd.closest('.output');\n",
       "if (outputEl) {{\n",
       "    x.observe(outputEl, {childList: true});\n",
       "}}\n",
       "\n",
       "                        })                };                });            </script>        </div>"
      ]
     },
     "metadata": {},
     "output_type": "display_data"
    },
    {
     "name": "stdout",
     "output_type": "stream",
     "text": [
      "-./-./-./-./-./-./-./-./-./-./-./-./-./-./-./-./-./-./-./-./-./-./-./-./-./-./-./-./-./-./-./-./-./-./-./-./-./-./-./-./-./-./-./-./-./-./-./-./-./-./\n",
      "\n",
      "\n",
      "incorrect prediction for true label=1, and the model is highly confident\n",
      "Instance 696 has label 1 and prediction 0.0, with probs [0.98833333 0.01166667]\n"
     ]
    },
    {
     "data": {
      "application/vnd.plotly.v1+json": {
       "config": {
        "linkText": "Export to plot.ly",
        "plotlyServerURL": "https://plot.ly",
        "showLink": false
       },
       "data": [
        {
         "alignmentgroup": "True",
         "hovertemplate": "Positive=False<br>Importance scores=%{x}<br>Features=%{y}<extra></extra>",
         "legendgroup": "False",
         "marker": {
          "color": "#DC143C",
          "pattern": {
           "shape": ""
          }
         },
         "name": "False",
         "offsetgroup": "False",
         "orientation": "h",
         "showlegend": true,
         "textposition": "auto",
         "type": "bar",
         "x": [
          -0.020338047328913617,
          -0.02776299872426237,
          -0.2882416782168066
         ],
         "xaxis": "x",
         "y": [
          "Country = United-States",
          "Age = Aged",
          "Relationship = Married"
         ],
         "yaxis": "y"
        },
        {
         "alignmentgroup": "True",
         "hovertemplate": "Positive=True<br>Importance scores=%{x}<br>Features=%{y}<extra></extra>",
         "legendgroup": "True",
         "marker": {
          "color": "#008B8B",
          "pattern": {
           "shape": ""
          }
         },
         "name": "True",
         "offsetgroup": "True",
         "orientation": "h",
         "showlegend": true,
         "textposition": "auto",
         "type": "bar",
         "x": [
          0.020975033556077428,
          0.030367088544313,
          0.03291236094173713,
          0.07502859506486868,
          0.095806181211552,
          0.10098250967299459,
          0.47809173112275744
         ],
         "xaxis": "x",
         "y": [
          "Workclass = Private",
          "Hours per week = MidTime",
          "Race = Black",
          "Education = 11th",
          "Occupation = Other-service",
          "Capital Loss = 0",
          "Capital Gain = 0"
         ],
         "yaxis": "y"
        }
       ],
       "layout": {
        "autosize": true,
        "barmode": "relative",
        "legend": {
         "title": {
          "text": "Positive"
         },
         "tracegroupgap": 0
        },
        "template": {
         "data": {
          "bar": [
           {
            "error_x": {
             "color": "#2a3f5f"
            },
            "error_y": {
             "color": "#2a3f5f"
            },
            "marker": {
             "line": {
              "color": "#E5ECF6",
              "width": 0.5
             },
             "pattern": {
              "fillmode": "overlay",
              "size": 10,
              "solidity": 0.2
             }
            },
            "type": "bar"
           }
          ],
          "barpolar": [
           {
            "marker": {
             "line": {
              "color": "#E5ECF6",
              "width": 0.5
             },
             "pattern": {
              "fillmode": "overlay",
              "size": 10,
              "solidity": 0.2
             }
            },
            "type": "barpolar"
           }
          ],
          "carpet": [
           {
            "aaxis": {
             "endlinecolor": "#2a3f5f",
             "gridcolor": "white",
             "linecolor": "white",
             "minorgridcolor": "white",
             "startlinecolor": "#2a3f5f"
            },
            "baxis": {
             "endlinecolor": "#2a3f5f",
             "gridcolor": "white",
             "linecolor": "white",
             "minorgridcolor": "white",
             "startlinecolor": "#2a3f5f"
            },
            "type": "carpet"
           }
          ],
          "choropleth": [
           {
            "colorbar": {
             "outlinewidth": 0,
             "ticks": ""
            },
            "type": "choropleth"
           }
          ],
          "contour": [
           {
            "colorbar": {
             "outlinewidth": 0,
             "ticks": ""
            },
            "colorscale": [
             [
              0,
              "#0d0887"
             ],
             [
              0.1111111111111111,
              "#46039f"
             ],
             [
              0.2222222222222222,
              "#7201a8"
             ],
             [
              0.3333333333333333,
              "#9c179e"
             ],
             [
              0.4444444444444444,
              "#bd3786"
             ],
             [
              0.5555555555555556,
              "#d8576b"
             ],
             [
              0.6666666666666666,
              "#ed7953"
             ],
             [
              0.7777777777777778,
              "#fb9f3a"
             ],
             [
              0.8888888888888888,
              "#fdca26"
             ],
             [
              1,
              "#f0f921"
             ]
            ],
            "type": "contour"
           }
          ],
          "contourcarpet": [
           {
            "colorbar": {
             "outlinewidth": 0,
             "ticks": ""
            },
            "type": "contourcarpet"
           }
          ],
          "heatmap": [
           {
            "colorbar": {
             "outlinewidth": 0,
             "ticks": ""
            },
            "colorscale": [
             [
              0,
              "#0d0887"
             ],
             [
              0.1111111111111111,
              "#46039f"
             ],
             [
              0.2222222222222222,
              "#7201a8"
             ],
             [
              0.3333333333333333,
              "#9c179e"
             ],
             [
              0.4444444444444444,
              "#bd3786"
             ],
             [
              0.5555555555555556,
              "#d8576b"
             ],
             [
              0.6666666666666666,
              "#ed7953"
             ],
             [
              0.7777777777777778,
              "#fb9f3a"
             ],
             [
              0.8888888888888888,
              "#fdca26"
             ],
             [
              1,
              "#f0f921"
             ]
            ],
            "type": "heatmap"
           }
          ],
          "heatmapgl": [
           {
            "colorbar": {
             "outlinewidth": 0,
             "ticks": ""
            },
            "colorscale": [
             [
              0,
              "#0d0887"
             ],
             [
              0.1111111111111111,
              "#46039f"
             ],
             [
              0.2222222222222222,
              "#7201a8"
             ],
             [
              0.3333333333333333,
              "#9c179e"
             ],
             [
              0.4444444444444444,
              "#bd3786"
             ],
             [
              0.5555555555555556,
              "#d8576b"
             ],
             [
              0.6666666666666666,
              "#ed7953"
             ],
             [
              0.7777777777777778,
              "#fb9f3a"
             ],
             [
              0.8888888888888888,
              "#fdca26"
             ],
             [
              1,
              "#f0f921"
             ]
            ],
            "type": "heatmapgl"
           }
          ],
          "histogram": [
           {
            "marker": {
             "pattern": {
              "fillmode": "overlay",
              "size": 10,
              "solidity": 0.2
             }
            },
            "type": "histogram"
           }
          ],
          "histogram2d": [
           {
            "colorbar": {
             "outlinewidth": 0,
             "ticks": ""
            },
            "colorscale": [
             [
              0,
              "#0d0887"
             ],
             [
              0.1111111111111111,
              "#46039f"
             ],
             [
              0.2222222222222222,
              "#7201a8"
             ],
             [
              0.3333333333333333,
              "#9c179e"
             ],
             [
              0.4444444444444444,
              "#bd3786"
             ],
             [
              0.5555555555555556,
              "#d8576b"
             ],
             [
              0.6666666666666666,
              "#ed7953"
             ],
             [
              0.7777777777777778,
              "#fb9f3a"
             ],
             [
              0.8888888888888888,
              "#fdca26"
             ],
             [
              1,
              "#f0f921"
             ]
            ],
            "type": "histogram2d"
           }
          ],
          "histogram2dcontour": [
           {
            "colorbar": {
             "outlinewidth": 0,
             "ticks": ""
            },
            "colorscale": [
             [
              0,
              "#0d0887"
             ],
             [
              0.1111111111111111,
              "#46039f"
             ],
             [
              0.2222222222222222,
              "#7201a8"
             ],
             [
              0.3333333333333333,
              "#9c179e"
             ],
             [
              0.4444444444444444,
              "#bd3786"
             ],
             [
              0.5555555555555556,
              "#d8576b"
             ],
             [
              0.6666666666666666,
              "#ed7953"
             ],
             [
              0.7777777777777778,
              "#fb9f3a"
             ],
             [
              0.8888888888888888,
              "#fdca26"
             ],
             [
              1,
              "#f0f921"
             ]
            ],
            "type": "histogram2dcontour"
           }
          ],
          "mesh3d": [
           {
            "colorbar": {
             "outlinewidth": 0,
             "ticks": ""
            },
            "type": "mesh3d"
           }
          ],
          "parcoords": [
           {
            "line": {
             "colorbar": {
              "outlinewidth": 0,
              "ticks": ""
             }
            },
            "type": "parcoords"
           }
          ],
          "pie": [
           {
            "automargin": true,
            "type": "pie"
           }
          ],
          "scatter": [
           {
            "fillpattern": {
             "fillmode": "overlay",
             "size": 10,
             "solidity": 0.2
            },
            "type": "scatter"
           }
          ],
          "scatter3d": [
           {
            "line": {
             "colorbar": {
              "outlinewidth": 0,
              "ticks": ""
             }
            },
            "marker": {
             "colorbar": {
              "outlinewidth": 0,
              "ticks": ""
             }
            },
            "type": "scatter3d"
           }
          ],
          "scattercarpet": [
           {
            "marker": {
             "colorbar": {
              "outlinewidth": 0,
              "ticks": ""
             }
            },
            "type": "scattercarpet"
           }
          ],
          "scattergeo": [
           {
            "marker": {
             "colorbar": {
              "outlinewidth": 0,
              "ticks": ""
             }
            },
            "type": "scattergeo"
           }
          ],
          "scattergl": [
           {
            "marker": {
             "colorbar": {
              "outlinewidth": 0,
              "ticks": ""
             }
            },
            "type": "scattergl"
           }
          ],
          "scattermapbox": [
           {
            "marker": {
             "colorbar": {
              "outlinewidth": 0,
              "ticks": ""
             }
            },
            "type": "scattermapbox"
           }
          ],
          "scatterpolar": [
           {
            "marker": {
             "colorbar": {
              "outlinewidth": 0,
              "ticks": ""
             }
            },
            "type": "scatterpolar"
           }
          ],
          "scatterpolargl": [
           {
            "marker": {
             "colorbar": {
              "outlinewidth": 0,
              "ticks": ""
             }
            },
            "type": "scatterpolargl"
           }
          ],
          "scatterternary": [
           {
            "marker": {
             "colorbar": {
              "outlinewidth": 0,
              "ticks": ""
             }
            },
            "type": "scatterternary"
           }
          ],
          "surface": [
           {
            "colorbar": {
             "outlinewidth": 0,
             "ticks": ""
            },
            "colorscale": [
             [
              0,
              "#0d0887"
             ],
             [
              0.1111111111111111,
              "#46039f"
             ],
             [
              0.2222222222222222,
              "#7201a8"
             ],
             [
              0.3333333333333333,
              "#9c179e"
             ],
             [
              0.4444444444444444,
              "#bd3786"
             ],
             [
              0.5555555555555556,
              "#d8576b"
             ],
             [
              0.6666666666666666,
              "#ed7953"
             ],
             [
              0.7777777777777778,
              "#fb9f3a"
             ],
             [
              0.8888888888888888,
              "#fdca26"
             ],
             [
              1,
              "#f0f921"
             ]
            ],
            "type": "surface"
           }
          ],
          "table": [
           {
            "cells": {
             "fill": {
              "color": "#EBF0F8"
             },
             "line": {
              "color": "white"
             }
            },
            "header": {
             "fill": {
              "color": "#C8D4E3"
             },
             "line": {
              "color": "white"
             }
            },
            "type": "table"
           }
          ]
         },
         "layout": {
          "annotationdefaults": {
           "arrowcolor": "#2a3f5f",
           "arrowhead": 0,
           "arrowwidth": 1
          },
          "autotypenumbers": "strict",
          "coloraxis": {
           "colorbar": {
            "outlinewidth": 0,
            "ticks": ""
           }
          },
          "colorscale": {
           "diverging": [
            [
             0,
             "#8e0152"
            ],
            [
             0.1,
             "#c51b7d"
            ],
            [
             0.2,
             "#de77ae"
            ],
            [
             0.3,
             "#f1b6da"
            ],
            [
             0.4,
             "#fde0ef"
            ],
            [
             0.5,
             "#f7f7f7"
            ],
            [
             0.6,
             "#e6f5d0"
            ],
            [
             0.7,
             "#b8e186"
            ],
            [
             0.8,
             "#7fbc41"
            ],
            [
             0.9,
             "#4d9221"
            ],
            [
             1,
             "#276419"
            ]
           ],
           "sequential": [
            [
             0,
             "#0d0887"
            ],
            [
             0.1111111111111111,
             "#46039f"
            ],
            [
             0.2222222222222222,
             "#7201a8"
            ],
            [
             0.3333333333333333,
             "#9c179e"
            ],
            [
             0.4444444444444444,
             "#bd3786"
            ],
            [
             0.5555555555555556,
             "#d8576b"
            ],
            [
             0.6666666666666666,
             "#ed7953"
            ],
            [
             0.7777777777777778,
             "#fb9f3a"
            ],
            [
             0.8888888888888888,
             "#fdca26"
            ],
            [
             1,
             "#f0f921"
            ]
           ],
           "sequentialminus": [
            [
             0,
             "#0d0887"
            ],
            [
             0.1111111111111111,
             "#46039f"
            ],
            [
             0.2222222222222222,
             "#7201a8"
            ],
            [
             0.3333333333333333,
             "#9c179e"
            ],
            [
             0.4444444444444444,
             "#bd3786"
            ],
            [
             0.5555555555555556,
             "#d8576b"
            ],
            [
             0.6666666666666666,
             "#ed7953"
            ],
            [
             0.7777777777777778,
             "#fb9f3a"
            ],
            [
             0.8888888888888888,
             "#fdca26"
            ],
            [
             1,
             "#f0f921"
            ]
           ]
          },
          "colorway": [
           "#636efa",
           "#EF553B",
           "#00cc96",
           "#ab63fa",
           "#FFA15A",
           "#19d3f3",
           "#FF6692",
           "#B6E880",
           "#FF97FF",
           "#FECB52"
          ],
          "font": {
           "color": "#2a3f5f"
          },
          "geo": {
           "bgcolor": "white",
           "lakecolor": "white",
           "landcolor": "#E5ECF6",
           "showlakes": true,
           "showland": true,
           "subunitcolor": "white"
          },
          "hoverlabel": {
           "align": "left"
          },
          "hovermode": "closest",
          "mapbox": {
           "style": "light"
          },
          "paper_bgcolor": "white",
          "plot_bgcolor": "#E5ECF6",
          "polar": {
           "angularaxis": {
            "gridcolor": "white",
            "linecolor": "white",
            "ticks": ""
           },
           "bgcolor": "#E5ECF6",
           "radialaxis": {
            "gridcolor": "white",
            "linecolor": "white",
            "ticks": ""
           }
          },
          "scene": {
           "xaxis": {
            "backgroundcolor": "#E5ECF6",
            "gridcolor": "white",
            "gridwidth": 2,
            "linecolor": "white",
            "showbackground": true,
            "ticks": "",
            "zerolinecolor": "white"
           },
           "yaxis": {
            "backgroundcolor": "#E5ECF6",
            "gridcolor": "white",
            "gridwidth": 2,
            "linecolor": "white",
            "showbackground": true,
            "ticks": "",
            "zerolinecolor": "white"
           },
           "zaxis": {
            "backgroundcolor": "#E5ECF6",
            "gridcolor": "white",
            "gridwidth": 2,
            "linecolor": "white",
            "showbackground": true,
            "ticks": "",
            "zerolinecolor": "white"
           }
          },
          "shapedefaults": {
           "line": {
            "color": "#2a3f5f"
           }
          },
          "ternary": {
           "aaxis": {
            "gridcolor": "white",
            "linecolor": "white",
            "ticks": ""
           },
           "baxis": {
            "gridcolor": "white",
            "linecolor": "white",
            "ticks": ""
           },
           "bgcolor": "#E5ECF6",
           "caxis": {
            "gridcolor": "white",
            "linecolor": "white",
            "ticks": ""
           }
          },
          "title": {
           "x": 0.05
          },
          "xaxis": {
           "automargin": true,
           "gridcolor": "white",
           "linecolor": "white",
           "ticks": "",
           "title": {
            "standoff": 15
           },
           "zerolinecolor": "white",
           "zerolinewidth": 2
          },
          "yaxis": {
           "automargin": true,
           "gridcolor": "white",
           "linecolor": "white",
           "ticks": "",
           "title": {
            "standoff": 15
           },
           "zerolinecolor": "white",
           "zerolinewidth": 2
          }
         }
        },
        "title": {
         "text": "Label: Class 0"
        },
        "xaxis": {
         "anchor": "y",
         "autorange": true,
         "domain": [
          0,
          1
         ],
         "range": [
          -0.330815756513449,
          0.5206658094193999
         ],
         "title": {
          "text": "Importance scores"
         },
         "type": "linear"
        },
        "yaxis": {
         "anchor": "x",
         "autorange": true,
         "domain": [
          0,
          1
         ],
         "range": [
          -0.5,
          9.5
         ],
         "title": {
          "text": "Features"
         },
         "type": "category"
        }
       }
      },
      "text/html": [
       "<div>                            <div id=\"dc66ac4a-294c-4b42-9cbe-fb39d20be947\" class=\"plotly-graph-div\" style=\"height:525px; width:100%;\"></div>            <script type=\"text/javascript\">                require([\"plotly\"], function(Plotly) {                    window.PLOTLYENV=window.PLOTLYENV || {};                                    if (document.getElementById(\"dc66ac4a-294c-4b42-9cbe-fb39d20be947\")) {                    Plotly.newPlot(                        \"dc66ac4a-294c-4b42-9cbe-fb39d20be947\",                        [{\"alignmentgroup\":\"True\",\"hovertemplate\":\"Positive=False\\u003cbr\\u003eImportance scores=%{x}\\u003cbr\\u003eFeatures=%{y}\\u003cextra\\u003e\\u003c\\u002fextra\\u003e\",\"legendgroup\":\"False\",\"marker\":{\"color\":\"#DC143C\",\"pattern\":{\"shape\":\"\"}},\"name\":\"False\",\"offsetgroup\":\"False\",\"orientation\":\"h\",\"showlegend\":true,\"textposition\":\"auto\",\"x\":[-0.020338047328913617,-0.02776299872426237,-0.2882416782168066],\"xaxis\":\"x\",\"y\":[\"Country = United-States\",\"Age = Aged\",\"Relationship = Married\"],\"yaxis\":\"y\",\"type\":\"bar\"},{\"alignmentgroup\":\"True\",\"hovertemplate\":\"Positive=True\\u003cbr\\u003eImportance scores=%{x}\\u003cbr\\u003eFeatures=%{y}\\u003cextra\\u003e\\u003c\\u002fextra\\u003e\",\"legendgroup\":\"True\",\"marker\":{\"color\":\"#008B8B\",\"pattern\":{\"shape\":\"\"}},\"name\":\"True\",\"offsetgroup\":\"True\",\"orientation\":\"h\",\"showlegend\":true,\"textposition\":\"auto\",\"x\":[0.020975033556077428,0.030367088544313,0.03291236094173713,0.07502859506486868,0.095806181211552,0.10098250967299459,0.47809173112275744],\"xaxis\":\"x\",\"y\":[\"Workclass = Private\",\"Hours per week = MidTime\",\"Race = Black\",\"Education = 11th\",\"Occupation = Other-service\",\"Capital Loss = 0\",\"Capital Gain = 0\"],\"yaxis\":\"y\",\"type\":\"bar\"}],                        {\"barmode\":\"relative\",\"legend\":{\"title\":{\"text\":\"Positive\"},\"tracegroupgap\":0},\"template\":{\"data\":{\"barpolar\":[{\"marker\":{\"line\":{\"color\":\"#E5ECF6\",\"width\":0.5},\"pattern\":{\"fillmode\":\"overlay\",\"size\":10,\"solidity\":0.2}},\"type\":\"barpolar\"}],\"bar\":[{\"error_x\":{\"color\":\"#2a3f5f\"},\"error_y\":{\"color\":\"#2a3f5f\"},\"marker\":{\"line\":{\"color\":\"#E5ECF6\",\"width\":0.5},\"pattern\":{\"fillmode\":\"overlay\",\"size\":10,\"solidity\":0.2}},\"type\":\"bar\"}],\"carpet\":[{\"aaxis\":{\"endlinecolor\":\"#2a3f5f\",\"gridcolor\":\"white\",\"linecolor\":\"white\",\"minorgridcolor\":\"white\",\"startlinecolor\":\"#2a3f5f\"},\"baxis\":{\"endlinecolor\":\"#2a3f5f\",\"gridcolor\":\"white\",\"linecolor\":\"white\",\"minorgridcolor\":\"white\",\"startlinecolor\":\"#2a3f5f\"},\"type\":\"carpet\"}],\"choropleth\":[{\"colorbar\":{\"outlinewidth\":0,\"ticks\":\"\"},\"type\":\"choropleth\"}],\"contourcarpet\":[{\"colorbar\":{\"outlinewidth\":0,\"ticks\":\"\"},\"type\":\"contourcarpet\"}],\"contour\":[{\"colorbar\":{\"outlinewidth\":0,\"ticks\":\"\"},\"colorscale\":[[0.0,\"#0d0887\"],[0.1111111111111111,\"#46039f\"],[0.2222222222222222,\"#7201a8\"],[0.3333333333333333,\"#9c179e\"],[0.4444444444444444,\"#bd3786\"],[0.5555555555555556,\"#d8576b\"],[0.6666666666666666,\"#ed7953\"],[0.7777777777777778,\"#fb9f3a\"],[0.8888888888888888,\"#fdca26\"],[1.0,\"#f0f921\"]],\"type\":\"contour\"}],\"heatmapgl\":[{\"colorbar\":{\"outlinewidth\":0,\"ticks\":\"\"},\"colorscale\":[[0.0,\"#0d0887\"],[0.1111111111111111,\"#46039f\"],[0.2222222222222222,\"#7201a8\"],[0.3333333333333333,\"#9c179e\"],[0.4444444444444444,\"#bd3786\"],[0.5555555555555556,\"#d8576b\"],[0.6666666666666666,\"#ed7953\"],[0.7777777777777778,\"#fb9f3a\"],[0.8888888888888888,\"#fdca26\"],[1.0,\"#f0f921\"]],\"type\":\"heatmapgl\"}],\"heatmap\":[{\"colorbar\":{\"outlinewidth\":0,\"ticks\":\"\"},\"colorscale\":[[0.0,\"#0d0887\"],[0.1111111111111111,\"#46039f\"],[0.2222222222222222,\"#7201a8\"],[0.3333333333333333,\"#9c179e\"],[0.4444444444444444,\"#bd3786\"],[0.5555555555555556,\"#d8576b\"],[0.6666666666666666,\"#ed7953\"],[0.7777777777777778,\"#fb9f3a\"],[0.8888888888888888,\"#fdca26\"],[1.0,\"#f0f921\"]],\"type\":\"heatmap\"}],\"histogram2dcontour\":[{\"colorbar\":{\"outlinewidth\":0,\"ticks\":\"\"},\"colorscale\":[[0.0,\"#0d0887\"],[0.1111111111111111,\"#46039f\"],[0.2222222222222222,\"#7201a8\"],[0.3333333333333333,\"#9c179e\"],[0.4444444444444444,\"#bd3786\"],[0.5555555555555556,\"#d8576b\"],[0.6666666666666666,\"#ed7953\"],[0.7777777777777778,\"#fb9f3a\"],[0.8888888888888888,\"#fdca26\"],[1.0,\"#f0f921\"]],\"type\":\"histogram2dcontour\"}],\"histogram2d\":[{\"colorbar\":{\"outlinewidth\":0,\"ticks\":\"\"},\"colorscale\":[[0.0,\"#0d0887\"],[0.1111111111111111,\"#46039f\"],[0.2222222222222222,\"#7201a8\"],[0.3333333333333333,\"#9c179e\"],[0.4444444444444444,\"#bd3786\"],[0.5555555555555556,\"#d8576b\"],[0.6666666666666666,\"#ed7953\"],[0.7777777777777778,\"#fb9f3a\"],[0.8888888888888888,\"#fdca26\"],[1.0,\"#f0f921\"]],\"type\":\"histogram2d\"}],\"histogram\":[{\"marker\":{\"pattern\":{\"fillmode\":\"overlay\",\"size\":10,\"solidity\":0.2}},\"type\":\"histogram\"}],\"mesh3d\":[{\"colorbar\":{\"outlinewidth\":0,\"ticks\":\"\"},\"type\":\"mesh3d\"}],\"parcoords\":[{\"line\":{\"colorbar\":{\"outlinewidth\":0,\"ticks\":\"\"}},\"type\":\"parcoords\"}],\"pie\":[{\"automargin\":true,\"type\":\"pie\"}],\"scatter3d\":[{\"line\":{\"colorbar\":{\"outlinewidth\":0,\"ticks\":\"\"}},\"marker\":{\"colorbar\":{\"outlinewidth\":0,\"ticks\":\"\"}},\"type\":\"scatter3d\"}],\"scattercarpet\":[{\"marker\":{\"colorbar\":{\"outlinewidth\":0,\"ticks\":\"\"}},\"type\":\"scattercarpet\"}],\"scattergeo\":[{\"marker\":{\"colorbar\":{\"outlinewidth\":0,\"ticks\":\"\"}},\"type\":\"scattergeo\"}],\"scattergl\":[{\"marker\":{\"colorbar\":{\"outlinewidth\":0,\"ticks\":\"\"}},\"type\":\"scattergl\"}],\"scattermapbox\":[{\"marker\":{\"colorbar\":{\"outlinewidth\":0,\"ticks\":\"\"}},\"type\":\"scattermapbox\"}],\"scatterpolargl\":[{\"marker\":{\"colorbar\":{\"outlinewidth\":0,\"ticks\":\"\"}},\"type\":\"scatterpolargl\"}],\"scatterpolar\":[{\"marker\":{\"colorbar\":{\"outlinewidth\":0,\"ticks\":\"\"}},\"type\":\"scatterpolar\"}],\"scatter\":[{\"fillpattern\":{\"fillmode\":\"overlay\",\"size\":10,\"solidity\":0.2},\"type\":\"scatter\"}],\"scatterternary\":[{\"marker\":{\"colorbar\":{\"outlinewidth\":0,\"ticks\":\"\"}},\"type\":\"scatterternary\"}],\"surface\":[{\"colorbar\":{\"outlinewidth\":0,\"ticks\":\"\"},\"colorscale\":[[0.0,\"#0d0887\"],[0.1111111111111111,\"#46039f\"],[0.2222222222222222,\"#7201a8\"],[0.3333333333333333,\"#9c179e\"],[0.4444444444444444,\"#bd3786\"],[0.5555555555555556,\"#d8576b\"],[0.6666666666666666,\"#ed7953\"],[0.7777777777777778,\"#fb9f3a\"],[0.8888888888888888,\"#fdca26\"],[1.0,\"#f0f921\"]],\"type\":\"surface\"}],\"table\":[{\"cells\":{\"fill\":{\"color\":\"#EBF0F8\"},\"line\":{\"color\":\"white\"}},\"header\":{\"fill\":{\"color\":\"#C8D4E3\"},\"line\":{\"color\":\"white\"}},\"type\":\"table\"}]},\"layout\":{\"annotationdefaults\":{\"arrowcolor\":\"#2a3f5f\",\"arrowhead\":0,\"arrowwidth\":1},\"autotypenumbers\":\"strict\",\"coloraxis\":{\"colorbar\":{\"outlinewidth\":0,\"ticks\":\"\"}},\"colorscale\":{\"diverging\":[[0,\"#8e0152\"],[0.1,\"#c51b7d\"],[0.2,\"#de77ae\"],[0.3,\"#f1b6da\"],[0.4,\"#fde0ef\"],[0.5,\"#f7f7f7\"],[0.6,\"#e6f5d0\"],[0.7,\"#b8e186\"],[0.8,\"#7fbc41\"],[0.9,\"#4d9221\"],[1,\"#276419\"]],\"sequential\":[[0.0,\"#0d0887\"],[0.1111111111111111,\"#46039f\"],[0.2222222222222222,\"#7201a8\"],[0.3333333333333333,\"#9c179e\"],[0.4444444444444444,\"#bd3786\"],[0.5555555555555556,\"#d8576b\"],[0.6666666666666666,\"#ed7953\"],[0.7777777777777778,\"#fb9f3a\"],[0.8888888888888888,\"#fdca26\"],[1.0,\"#f0f921\"]],\"sequentialminus\":[[0.0,\"#0d0887\"],[0.1111111111111111,\"#46039f\"],[0.2222222222222222,\"#7201a8\"],[0.3333333333333333,\"#9c179e\"],[0.4444444444444444,\"#bd3786\"],[0.5555555555555556,\"#d8576b\"],[0.6666666666666666,\"#ed7953\"],[0.7777777777777778,\"#fb9f3a\"],[0.8888888888888888,\"#fdca26\"],[1.0,\"#f0f921\"]]},\"colorway\":[\"#636efa\",\"#EF553B\",\"#00cc96\",\"#ab63fa\",\"#FFA15A\",\"#19d3f3\",\"#FF6692\",\"#B6E880\",\"#FF97FF\",\"#FECB52\"],\"font\":{\"color\":\"#2a3f5f\"},\"geo\":{\"bgcolor\":\"white\",\"lakecolor\":\"white\",\"landcolor\":\"#E5ECF6\",\"showlakes\":true,\"showland\":true,\"subunitcolor\":\"white\"},\"hoverlabel\":{\"align\":\"left\"},\"hovermode\":\"closest\",\"mapbox\":{\"style\":\"light\"},\"paper_bgcolor\":\"white\",\"plot_bgcolor\":\"#E5ECF6\",\"polar\":{\"angularaxis\":{\"gridcolor\":\"white\",\"linecolor\":\"white\",\"ticks\":\"\"},\"bgcolor\":\"#E5ECF6\",\"radialaxis\":{\"gridcolor\":\"white\",\"linecolor\":\"white\",\"ticks\":\"\"}},\"scene\":{\"xaxis\":{\"backgroundcolor\":\"#E5ECF6\",\"gridcolor\":\"white\",\"gridwidth\":2,\"linecolor\":\"white\",\"showbackground\":true,\"ticks\":\"\",\"zerolinecolor\":\"white\"},\"yaxis\":{\"backgroundcolor\":\"#E5ECF6\",\"gridcolor\":\"white\",\"gridwidth\":2,\"linecolor\":\"white\",\"showbackground\":true,\"ticks\":\"\",\"zerolinecolor\":\"white\"},\"zaxis\":{\"backgroundcolor\":\"#E5ECF6\",\"gridcolor\":\"white\",\"gridwidth\":2,\"linecolor\":\"white\",\"showbackground\":true,\"ticks\":\"\",\"zerolinecolor\":\"white\"}},\"shapedefaults\":{\"line\":{\"color\":\"#2a3f5f\"}},\"ternary\":{\"aaxis\":{\"gridcolor\":\"white\",\"linecolor\":\"white\",\"ticks\":\"\"},\"baxis\":{\"gridcolor\":\"white\",\"linecolor\":\"white\",\"ticks\":\"\"},\"bgcolor\":\"#E5ECF6\",\"caxis\":{\"gridcolor\":\"white\",\"linecolor\":\"white\",\"ticks\":\"\"}},\"title\":{\"x\":0.05},\"xaxis\":{\"automargin\":true,\"gridcolor\":\"white\",\"linecolor\":\"white\",\"ticks\":\"\",\"title\":{\"standoff\":15},\"zerolinecolor\":\"white\",\"zerolinewidth\":2},\"yaxis\":{\"automargin\":true,\"gridcolor\":\"white\",\"linecolor\":\"white\",\"ticks\":\"\",\"title\":{\"standoff\":15},\"zerolinecolor\":\"white\",\"zerolinewidth\":2}}},\"title\":{\"text\":\"Label: Class 0\"},\"xaxis\":{\"anchor\":\"y\",\"domain\":[0.0,1.0],\"title\":{\"text\":\"Importance scores\"}},\"yaxis\":{\"anchor\":\"x\",\"domain\":[0.0,1.0],\"title\":{\"text\":\"Features\"}}},                        {\"responsive\": true}                    ).then(function(){\n",
       "                            \n",
       "var gd = document.getElementById('dc66ac4a-294c-4b42-9cbe-fb39d20be947');\n",
       "var x = new MutationObserver(function (mutations, observer) {{\n",
       "        var display = window.getComputedStyle(gd).display;\n",
       "        if (!display || display === 'none') {{\n",
       "            console.log([gd, 'removed!']);\n",
       "            Plotly.purge(gd);\n",
       "            observer.disconnect();\n",
       "        }}\n",
       "}});\n",
       "\n",
       "// Listen for the removal of the full notebook cells\n",
       "var notebookContainer = gd.closest('#notebook-container');\n",
       "if (notebookContainer) {{\n",
       "    x.observe(notebookContainer, {childList: true});\n",
       "}}\n",
       "\n",
       "// Listen for the clearing of the current output cell\n",
       "var outputEl = gd.closest('.output');\n",
       "if (outputEl) {{\n",
       "    x.observe(outputEl, {childList: true});\n",
       "}}\n",
       "\n",
       "                        })                };                });            </script>        </div>"
      ]
     },
     "metadata": {},
     "output_type": "display_data"
    },
    {
     "name": "stdout",
     "output_type": "stream",
     "text": [
      "-./-./-./-./-./-./-./-./-./-./-./-./-./-./-./-./-./-./-./-./-./-./-./-./-./-./-./-./-./-./-./-./-./-./-./-./-./-./-./-./-./-./-./-./-./-./-./-./-./-./\n",
      "\n",
      "\n",
      "incorrect prediction for true label=0, and the model is highly confident\n",
      "Instance 1144 has label 0 and prediction 1.0, with probs [0.01583333 0.98416667]\n"
     ]
    },
    {
     "data": {
      "application/vnd.plotly.v1+json": {
       "config": {
        "linkText": "Export to plot.ly",
        "plotlyServerURL": "https://plot.ly",
        "showLink": false
       },
       "data": [
        {
         "alignmentgroup": "True",
         "hovertemplate": "Positive=True<br>Importance scores=%{x}<br>Features=%{y}<extra></extra>",
         "legendgroup": "True",
         "marker": {
          "color": "#008B8B",
          "pattern": {
           "shape": ""
          }
         },
         "name": "True",
         "offsetgroup": "True",
         "orientation": "h",
         "showlegend": true,
         "textposition": "auto",
         "type": "bar",
         "x": [
          0.010734177626859461,
          0.023725258035538842,
          0.05201266499362214,
          0.0693832392376783,
          0.15466184402460895,
          0.2835396620374741
         ],
         "xaxis": "x",
         "y": [
          "Race = White",
          "Country = United-States",
          "Hours per week = OverTime",
          "Occupation = Prof-specialty",
          "Education = Masters",
          "Relationship = Married"
         ],
         "yaxis": "y"
        },
        {
         "alignmentgroup": "True",
         "hovertemplate": "Positive=False<br>Importance scores=%{x}<br>Features=%{y}<extra></extra>",
         "legendgroup": "False",
         "marker": {
          "color": "#DC143C",
          "pattern": {
           "shape": ""
          }
         },
         "name": "False",
         "offsetgroup": "False",
         "orientation": "h",
         "showlegend": true,
         "textposition": "auto",
         "type": "bar",
         "x": [
          -0.021192822874666617,
          -0.0269199100238017,
          -0.0886873302903675,
          -0.49817724771401994
         ],
         "xaxis": "x",
         "y": [
          "Workclass = Private",
          "Age = Young",
          "Capital Loss = 0",
          "Capital Gain = 0"
         ],
         "yaxis": "y"
        }
       ],
       "layout": {
        "autosize": true,
        "barmode": "relative",
        "legend": {
         "title": {
          "text": "Positive"
         },
         "tracegroupgap": 0
        },
        "template": {
         "data": {
          "bar": [
           {
            "error_x": {
             "color": "#2a3f5f"
            },
            "error_y": {
             "color": "#2a3f5f"
            },
            "marker": {
             "line": {
              "color": "#E5ECF6",
              "width": 0.5
             },
             "pattern": {
              "fillmode": "overlay",
              "size": 10,
              "solidity": 0.2
             }
            },
            "type": "bar"
           }
          ],
          "barpolar": [
           {
            "marker": {
             "line": {
              "color": "#E5ECF6",
              "width": 0.5
             },
             "pattern": {
              "fillmode": "overlay",
              "size": 10,
              "solidity": 0.2
             }
            },
            "type": "barpolar"
           }
          ],
          "carpet": [
           {
            "aaxis": {
             "endlinecolor": "#2a3f5f",
             "gridcolor": "white",
             "linecolor": "white",
             "minorgridcolor": "white",
             "startlinecolor": "#2a3f5f"
            },
            "baxis": {
             "endlinecolor": "#2a3f5f",
             "gridcolor": "white",
             "linecolor": "white",
             "minorgridcolor": "white",
             "startlinecolor": "#2a3f5f"
            },
            "type": "carpet"
           }
          ],
          "choropleth": [
           {
            "colorbar": {
             "outlinewidth": 0,
             "ticks": ""
            },
            "type": "choropleth"
           }
          ],
          "contour": [
           {
            "colorbar": {
             "outlinewidth": 0,
             "ticks": ""
            },
            "colorscale": [
             [
              0,
              "#0d0887"
             ],
             [
              0.1111111111111111,
              "#46039f"
             ],
             [
              0.2222222222222222,
              "#7201a8"
             ],
             [
              0.3333333333333333,
              "#9c179e"
             ],
             [
              0.4444444444444444,
              "#bd3786"
             ],
             [
              0.5555555555555556,
              "#d8576b"
             ],
             [
              0.6666666666666666,
              "#ed7953"
             ],
             [
              0.7777777777777778,
              "#fb9f3a"
             ],
             [
              0.8888888888888888,
              "#fdca26"
             ],
             [
              1,
              "#f0f921"
             ]
            ],
            "type": "contour"
           }
          ],
          "contourcarpet": [
           {
            "colorbar": {
             "outlinewidth": 0,
             "ticks": ""
            },
            "type": "contourcarpet"
           }
          ],
          "heatmap": [
           {
            "colorbar": {
             "outlinewidth": 0,
             "ticks": ""
            },
            "colorscale": [
             [
              0,
              "#0d0887"
             ],
             [
              0.1111111111111111,
              "#46039f"
             ],
             [
              0.2222222222222222,
              "#7201a8"
             ],
             [
              0.3333333333333333,
              "#9c179e"
             ],
             [
              0.4444444444444444,
              "#bd3786"
             ],
             [
              0.5555555555555556,
              "#d8576b"
             ],
             [
              0.6666666666666666,
              "#ed7953"
             ],
             [
              0.7777777777777778,
              "#fb9f3a"
             ],
             [
              0.8888888888888888,
              "#fdca26"
             ],
             [
              1,
              "#f0f921"
             ]
            ],
            "type": "heatmap"
           }
          ],
          "heatmapgl": [
           {
            "colorbar": {
             "outlinewidth": 0,
             "ticks": ""
            },
            "colorscale": [
             [
              0,
              "#0d0887"
             ],
             [
              0.1111111111111111,
              "#46039f"
             ],
             [
              0.2222222222222222,
              "#7201a8"
             ],
             [
              0.3333333333333333,
              "#9c179e"
             ],
             [
              0.4444444444444444,
              "#bd3786"
             ],
             [
              0.5555555555555556,
              "#d8576b"
             ],
             [
              0.6666666666666666,
              "#ed7953"
             ],
             [
              0.7777777777777778,
              "#fb9f3a"
             ],
             [
              0.8888888888888888,
              "#fdca26"
             ],
             [
              1,
              "#f0f921"
             ]
            ],
            "type": "heatmapgl"
           }
          ],
          "histogram": [
           {
            "marker": {
             "pattern": {
              "fillmode": "overlay",
              "size": 10,
              "solidity": 0.2
             }
            },
            "type": "histogram"
           }
          ],
          "histogram2d": [
           {
            "colorbar": {
             "outlinewidth": 0,
             "ticks": ""
            },
            "colorscale": [
             [
              0,
              "#0d0887"
             ],
             [
              0.1111111111111111,
              "#46039f"
             ],
             [
              0.2222222222222222,
              "#7201a8"
             ],
             [
              0.3333333333333333,
              "#9c179e"
             ],
             [
              0.4444444444444444,
              "#bd3786"
             ],
             [
              0.5555555555555556,
              "#d8576b"
             ],
             [
              0.6666666666666666,
              "#ed7953"
             ],
             [
              0.7777777777777778,
              "#fb9f3a"
             ],
             [
              0.8888888888888888,
              "#fdca26"
             ],
             [
              1,
              "#f0f921"
             ]
            ],
            "type": "histogram2d"
           }
          ],
          "histogram2dcontour": [
           {
            "colorbar": {
             "outlinewidth": 0,
             "ticks": ""
            },
            "colorscale": [
             [
              0,
              "#0d0887"
             ],
             [
              0.1111111111111111,
              "#46039f"
             ],
             [
              0.2222222222222222,
              "#7201a8"
             ],
             [
              0.3333333333333333,
              "#9c179e"
             ],
             [
              0.4444444444444444,
              "#bd3786"
             ],
             [
              0.5555555555555556,
              "#d8576b"
             ],
             [
              0.6666666666666666,
              "#ed7953"
             ],
             [
              0.7777777777777778,
              "#fb9f3a"
             ],
             [
              0.8888888888888888,
              "#fdca26"
             ],
             [
              1,
              "#f0f921"
             ]
            ],
            "type": "histogram2dcontour"
           }
          ],
          "mesh3d": [
           {
            "colorbar": {
             "outlinewidth": 0,
             "ticks": ""
            },
            "type": "mesh3d"
           }
          ],
          "parcoords": [
           {
            "line": {
             "colorbar": {
              "outlinewidth": 0,
              "ticks": ""
             }
            },
            "type": "parcoords"
           }
          ],
          "pie": [
           {
            "automargin": true,
            "type": "pie"
           }
          ],
          "scatter": [
           {
            "fillpattern": {
             "fillmode": "overlay",
             "size": 10,
             "solidity": 0.2
            },
            "type": "scatter"
           }
          ],
          "scatter3d": [
           {
            "line": {
             "colorbar": {
              "outlinewidth": 0,
              "ticks": ""
             }
            },
            "marker": {
             "colorbar": {
              "outlinewidth": 0,
              "ticks": ""
             }
            },
            "type": "scatter3d"
           }
          ],
          "scattercarpet": [
           {
            "marker": {
             "colorbar": {
              "outlinewidth": 0,
              "ticks": ""
             }
            },
            "type": "scattercarpet"
           }
          ],
          "scattergeo": [
           {
            "marker": {
             "colorbar": {
              "outlinewidth": 0,
              "ticks": ""
             }
            },
            "type": "scattergeo"
           }
          ],
          "scattergl": [
           {
            "marker": {
             "colorbar": {
              "outlinewidth": 0,
              "ticks": ""
             }
            },
            "type": "scattergl"
           }
          ],
          "scattermapbox": [
           {
            "marker": {
             "colorbar": {
              "outlinewidth": 0,
              "ticks": ""
             }
            },
            "type": "scattermapbox"
           }
          ],
          "scatterpolar": [
           {
            "marker": {
             "colorbar": {
              "outlinewidth": 0,
              "ticks": ""
             }
            },
            "type": "scatterpolar"
           }
          ],
          "scatterpolargl": [
           {
            "marker": {
             "colorbar": {
              "outlinewidth": 0,
              "ticks": ""
             }
            },
            "type": "scatterpolargl"
           }
          ],
          "scatterternary": [
           {
            "marker": {
             "colorbar": {
              "outlinewidth": 0,
              "ticks": ""
             }
            },
            "type": "scatterternary"
           }
          ],
          "surface": [
           {
            "colorbar": {
             "outlinewidth": 0,
             "ticks": ""
            },
            "colorscale": [
             [
              0,
              "#0d0887"
             ],
             [
              0.1111111111111111,
              "#46039f"
             ],
             [
              0.2222222222222222,
              "#7201a8"
             ],
             [
              0.3333333333333333,
              "#9c179e"
             ],
             [
              0.4444444444444444,
              "#bd3786"
             ],
             [
              0.5555555555555556,
              "#d8576b"
             ],
             [
              0.6666666666666666,
              "#ed7953"
             ],
             [
              0.7777777777777778,
              "#fb9f3a"
             ],
             [
              0.8888888888888888,
              "#fdca26"
             ],
             [
              1,
              "#f0f921"
             ]
            ],
            "type": "surface"
           }
          ],
          "table": [
           {
            "cells": {
             "fill": {
              "color": "#EBF0F8"
             },
             "line": {
              "color": "white"
             }
            },
            "header": {
             "fill": {
              "color": "#C8D4E3"
             },
             "line": {
              "color": "white"
             }
            },
            "type": "table"
           }
          ]
         },
         "layout": {
          "annotationdefaults": {
           "arrowcolor": "#2a3f5f",
           "arrowhead": 0,
           "arrowwidth": 1
          },
          "autotypenumbers": "strict",
          "coloraxis": {
           "colorbar": {
            "outlinewidth": 0,
            "ticks": ""
           }
          },
          "colorscale": {
           "diverging": [
            [
             0,
             "#8e0152"
            ],
            [
             0.1,
             "#c51b7d"
            ],
            [
             0.2,
             "#de77ae"
            ],
            [
             0.3,
             "#f1b6da"
            ],
            [
             0.4,
             "#fde0ef"
            ],
            [
             0.5,
             "#f7f7f7"
            ],
            [
             0.6,
             "#e6f5d0"
            ],
            [
             0.7,
             "#b8e186"
            ],
            [
             0.8,
             "#7fbc41"
            ],
            [
             0.9,
             "#4d9221"
            ],
            [
             1,
             "#276419"
            ]
           ],
           "sequential": [
            [
             0,
             "#0d0887"
            ],
            [
             0.1111111111111111,
             "#46039f"
            ],
            [
             0.2222222222222222,
             "#7201a8"
            ],
            [
             0.3333333333333333,
             "#9c179e"
            ],
            [
             0.4444444444444444,
             "#bd3786"
            ],
            [
             0.5555555555555556,
             "#d8576b"
            ],
            [
             0.6666666666666666,
             "#ed7953"
            ],
            [
             0.7777777777777778,
             "#fb9f3a"
            ],
            [
             0.8888888888888888,
             "#fdca26"
            ],
            [
             1,
             "#f0f921"
            ]
           ],
           "sequentialminus": [
            [
             0,
             "#0d0887"
            ],
            [
             0.1111111111111111,
             "#46039f"
            ],
            [
             0.2222222222222222,
             "#7201a8"
            ],
            [
             0.3333333333333333,
             "#9c179e"
            ],
            [
             0.4444444444444444,
             "#bd3786"
            ],
            [
             0.5555555555555556,
             "#d8576b"
            ],
            [
             0.6666666666666666,
             "#ed7953"
            ],
            [
             0.7777777777777778,
             "#fb9f3a"
            ],
            [
             0.8888888888888888,
             "#fdca26"
            ],
            [
             1,
             "#f0f921"
            ]
           ]
          },
          "colorway": [
           "#636efa",
           "#EF553B",
           "#00cc96",
           "#ab63fa",
           "#FFA15A",
           "#19d3f3",
           "#FF6692",
           "#B6E880",
           "#FF97FF",
           "#FECB52"
          ],
          "font": {
           "color": "#2a3f5f"
          },
          "geo": {
           "bgcolor": "white",
           "lakecolor": "white",
           "landcolor": "#E5ECF6",
           "showlakes": true,
           "showland": true,
           "subunitcolor": "white"
          },
          "hoverlabel": {
           "align": "left"
          },
          "hovermode": "closest",
          "mapbox": {
           "style": "light"
          },
          "paper_bgcolor": "white",
          "plot_bgcolor": "#E5ECF6",
          "polar": {
           "angularaxis": {
            "gridcolor": "white",
            "linecolor": "white",
            "ticks": ""
           },
           "bgcolor": "#E5ECF6",
           "radialaxis": {
            "gridcolor": "white",
            "linecolor": "white",
            "ticks": ""
           }
          },
          "scene": {
           "xaxis": {
            "backgroundcolor": "#E5ECF6",
            "gridcolor": "white",
            "gridwidth": 2,
            "linecolor": "white",
            "showbackground": true,
            "ticks": "",
            "zerolinecolor": "white"
           },
           "yaxis": {
            "backgroundcolor": "#E5ECF6",
            "gridcolor": "white",
            "gridwidth": 2,
            "linecolor": "white",
            "showbackground": true,
            "ticks": "",
            "zerolinecolor": "white"
           },
           "zaxis": {
            "backgroundcolor": "#E5ECF6",
            "gridcolor": "white",
            "gridwidth": 2,
            "linecolor": "white",
            "showbackground": true,
            "ticks": "",
            "zerolinecolor": "white"
           }
          },
          "shapedefaults": {
           "line": {
            "color": "#2a3f5f"
           }
          },
          "ternary": {
           "aaxis": {
            "gridcolor": "white",
            "linecolor": "white",
            "ticks": ""
           },
           "baxis": {
            "gridcolor": "white",
            "linecolor": "white",
            "ticks": ""
           },
           "bgcolor": "#E5ECF6",
           "caxis": {
            "gridcolor": "white",
            "linecolor": "white",
            "ticks": ""
           }
          },
          "title": {
           "x": 0.05
          },
          "xaxis": {
           "automargin": true,
           "gridcolor": "white",
           "linecolor": "white",
           "ticks": "",
           "title": {
            "standoff": 15
           },
           "zerolinecolor": "white",
           "zerolinewidth": 2
          },
          "yaxis": {
           "automargin": true,
           "gridcolor": "white",
           "linecolor": "white",
           "ticks": "",
           "title": {
            "standoff": 15
           },
           "zerolinecolor": "white",
           "zerolinewidth": 2
          }
         }
        },
        "title": {
         "text": "Label: Class 1"
        },
        "xaxis": {
         "anchor": "y",
         "autorange": true,
         "domain": [
          0,
          1
         ],
         "range": [
          -0.5416059649224363,
          0.32696837924589045
         ],
         "title": {
          "text": "Importance scores"
         },
         "type": "linear"
        },
        "yaxis": {
         "anchor": "x",
         "autorange": true,
         "domain": [
          0,
          1
         ],
         "range": [
          -0.5,
          9.5
         ],
         "title": {
          "text": "Features"
         },
         "type": "category"
        }
       }
      },
      "text/html": [
       "<div>                            <div id=\"892e72fe-025f-44c7-84df-fd9dc4f336a6\" class=\"plotly-graph-div\" style=\"height:525px; width:100%;\"></div>            <script type=\"text/javascript\">                require([\"plotly\"], function(Plotly) {                    window.PLOTLYENV=window.PLOTLYENV || {};                                    if (document.getElementById(\"892e72fe-025f-44c7-84df-fd9dc4f336a6\")) {                    Plotly.newPlot(                        \"892e72fe-025f-44c7-84df-fd9dc4f336a6\",                        [{\"alignmentgroup\":\"True\",\"hovertemplate\":\"Positive=True\\u003cbr\\u003eImportance scores=%{x}\\u003cbr\\u003eFeatures=%{y}\\u003cextra\\u003e\\u003c\\u002fextra\\u003e\",\"legendgroup\":\"True\",\"marker\":{\"color\":\"#008B8B\",\"pattern\":{\"shape\":\"\"}},\"name\":\"True\",\"offsetgroup\":\"True\",\"orientation\":\"h\",\"showlegend\":true,\"textposition\":\"auto\",\"x\":[0.010734177626859461,0.023725258035538842,0.05201266499362214,0.0693832392376783,0.15466184402460895,0.2835396620374741],\"xaxis\":\"x\",\"y\":[\"Race = White\",\"Country = United-States\",\"Hours per week = OverTime\",\"Occupation = Prof-specialty\",\"Education = Masters\",\"Relationship = Married\"],\"yaxis\":\"y\",\"type\":\"bar\"},{\"alignmentgroup\":\"True\",\"hovertemplate\":\"Positive=False\\u003cbr\\u003eImportance scores=%{x}\\u003cbr\\u003eFeatures=%{y}\\u003cextra\\u003e\\u003c\\u002fextra\\u003e\",\"legendgroup\":\"False\",\"marker\":{\"color\":\"#DC143C\",\"pattern\":{\"shape\":\"\"}},\"name\":\"False\",\"offsetgroup\":\"False\",\"orientation\":\"h\",\"showlegend\":true,\"textposition\":\"auto\",\"x\":[-0.021192822874666617,-0.0269199100238017,-0.0886873302903675,-0.49817724771401994],\"xaxis\":\"x\",\"y\":[\"Workclass = Private\",\"Age = Young\",\"Capital Loss = 0\",\"Capital Gain = 0\"],\"yaxis\":\"y\",\"type\":\"bar\"}],                        {\"barmode\":\"relative\",\"legend\":{\"title\":{\"text\":\"Positive\"},\"tracegroupgap\":0},\"template\":{\"data\":{\"barpolar\":[{\"marker\":{\"line\":{\"color\":\"#E5ECF6\",\"width\":0.5},\"pattern\":{\"fillmode\":\"overlay\",\"size\":10,\"solidity\":0.2}},\"type\":\"barpolar\"}],\"bar\":[{\"error_x\":{\"color\":\"#2a3f5f\"},\"error_y\":{\"color\":\"#2a3f5f\"},\"marker\":{\"line\":{\"color\":\"#E5ECF6\",\"width\":0.5},\"pattern\":{\"fillmode\":\"overlay\",\"size\":10,\"solidity\":0.2}},\"type\":\"bar\"}],\"carpet\":[{\"aaxis\":{\"endlinecolor\":\"#2a3f5f\",\"gridcolor\":\"white\",\"linecolor\":\"white\",\"minorgridcolor\":\"white\",\"startlinecolor\":\"#2a3f5f\"},\"baxis\":{\"endlinecolor\":\"#2a3f5f\",\"gridcolor\":\"white\",\"linecolor\":\"white\",\"minorgridcolor\":\"white\",\"startlinecolor\":\"#2a3f5f\"},\"type\":\"carpet\"}],\"choropleth\":[{\"colorbar\":{\"outlinewidth\":0,\"ticks\":\"\"},\"type\":\"choropleth\"}],\"contourcarpet\":[{\"colorbar\":{\"outlinewidth\":0,\"ticks\":\"\"},\"type\":\"contourcarpet\"}],\"contour\":[{\"colorbar\":{\"outlinewidth\":0,\"ticks\":\"\"},\"colorscale\":[[0.0,\"#0d0887\"],[0.1111111111111111,\"#46039f\"],[0.2222222222222222,\"#7201a8\"],[0.3333333333333333,\"#9c179e\"],[0.4444444444444444,\"#bd3786\"],[0.5555555555555556,\"#d8576b\"],[0.6666666666666666,\"#ed7953\"],[0.7777777777777778,\"#fb9f3a\"],[0.8888888888888888,\"#fdca26\"],[1.0,\"#f0f921\"]],\"type\":\"contour\"}],\"heatmapgl\":[{\"colorbar\":{\"outlinewidth\":0,\"ticks\":\"\"},\"colorscale\":[[0.0,\"#0d0887\"],[0.1111111111111111,\"#46039f\"],[0.2222222222222222,\"#7201a8\"],[0.3333333333333333,\"#9c179e\"],[0.4444444444444444,\"#bd3786\"],[0.5555555555555556,\"#d8576b\"],[0.6666666666666666,\"#ed7953\"],[0.7777777777777778,\"#fb9f3a\"],[0.8888888888888888,\"#fdca26\"],[1.0,\"#f0f921\"]],\"type\":\"heatmapgl\"}],\"heatmap\":[{\"colorbar\":{\"outlinewidth\":0,\"ticks\":\"\"},\"colorscale\":[[0.0,\"#0d0887\"],[0.1111111111111111,\"#46039f\"],[0.2222222222222222,\"#7201a8\"],[0.3333333333333333,\"#9c179e\"],[0.4444444444444444,\"#bd3786\"],[0.5555555555555556,\"#d8576b\"],[0.6666666666666666,\"#ed7953\"],[0.7777777777777778,\"#fb9f3a\"],[0.8888888888888888,\"#fdca26\"],[1.0,\"#f0f921\"]],\"type\":\"heatmap\"}],\"histogram2dcontour\":[{\"colorbar\":{\"outlinewidth\":0,\"ticks\":\"\"},\"colorscale\":[[0.0,\"#0d0887\"],[0.1111111111111111,\"#46039f\"],[0.2222222222222222,\"#7201a8\"],[0.3333333333333333,\"#9c179e\"],[0.4444444444444444,\"#bd3786\"],[0.5555555555555556,\"#d8576b\"],[0.6666666666666666,\"#ed7953\"],[0.7777777777777778,\"#fb9f3a\"],[0.8888888888888888,\"#fdca26\"],[1.0,\"#f0f921\"]],\"type\":\"histogram2dcontour\"}],\"histogram2d\":[{\"colorbar\":{\"outlinewidth\":0,\"ticks\":\"\"},\"colorscale\":[[0.0,\"#0d0887\"],[0.1111111111111111,\"#46039f\"],[0.2222222222222222,\"#7201a8\"],[0.3333333333333333,\"#9c179e\"],[0.4444444444444444,\"#bd3786\"],[0.5555555555555556,\"#d8576b\"],[0.6666666666666666,\"#ed7953\"],[0.7777777777777778,\"#fb9f3a\"],[0.8888888888888888,\"#fdca26\"],[1.0,\"#f0f921\"]],\"type\":\"histogram2d\"}],\"histogram\":[{\"marker\":{\"pattern\":{\"fillmode\":\"overlay\",\"size\":10,\"solidity\":0.2}},\"type\":\"histogram\"}],\"mesh3d\":[{\"colorbar\":{\"outlinewidth\":0,\"ticks\":\"\"},\"type\":\"mesh3d\"}],\"parcoords\":[{\"line\":{\"colorbar\":{\"outlinewidth\":0,\"ticks\":\"\"}},\"type\":\"parcoords\"}],\"pie\":[{\"automargin\":true,\"type\":\"pie\"}],\"scatter3d\":[{\"line\":{\"colorbar\":{\"outlinewidth\":0,\"ticks\":\"\"}},\"marker\":{\"colorbar\":{\"outlinewidth\":0,\"ticks\":\"\"}},\"type\":\"scatter3d\"}],\"scattercarpet\":[{\"marker\":{\"colorbar\":{\"outlinewidth\":0,\"ticks\":\"\"}},\"type\":\"scattercarpet\"}],\"scattergeo\":[{\"marker\":{\"colorbar\":{\"outlinewidth\":0,\"ticks\":\"\"}},\"type\":\"scattergeo\"}],\"scattergl\":[{\"marker\":{\"colorbar\":{\"outlinewidth\":0,\"ticks\":\"\"}},\"type\":\"scattergl\"}],\"scattermapbox\":[{\"marker\":{\"colorbar\":{\"outlinewidth\":0,\"ticks\":\"\"}},\"type\":\"scattermapbox\"}],\"scatterpolargl\":[{\"marker\":{\"colorbar\":{\"outlinewidth\":0,\"ticks\":\"\"}},\"type\":\"scatterpolargl\"}],\"scatterpolar\":[{\"marker\":{\"colorbar\":{\"outlinewidth\":0,\"ticks\":\"\"}},\"type\":\"scatterpolar\"}],\"scatter\":[{\"fillpattern\":{\"fillmode\":\"overlay\",\"size\":10,\"solidity\":0.2},\"type\":\"scatter\"}],\"scatterternary\":[{\"marker\":{\"colorbar\":{\"outlinewidth\":0,\"ticks\":\"\"}},\"type\":\"scatterternary\"}],\"surface\":[{\"colorbar\":{\"outlinewidth\":0,\"ticks\":\"\"},\"colorscale\":[[0.0,\"#0d0887\"],[0.1111111111111111,\"#46039f\"],[0.2222222222222222,\"#7201a8\"],[0.3333333333333333,\"#9c179e\"],[0.4444444444444444,\"#bd3786\"],[0.5555555555555556,\"#d8576b\"],[0.6666666666666666,\"#ed7953\"],[0.7777777777777778,\"#fb9f3a\"],[0.8888888888888888,\"#fdca26\"],[1.0,\"#f0f921\"]],\"type\":\"surface\"}],\"table\":[{\"cells\":{\"fill\":{\"color\":\"#EBF0F8\"},\"line\":{\"color\":\"white\"}},\"header\":{\"fill\":{\"color\":\"#C8D4E3\"},\"line\":{\"color\":\"white\"}},\"type\":\"table\"}]},\"layout\":{\"annotationdefaults\":{\"arrowcolor\":\"#2a3f5f\",\"arrowhead\":0,\"arrowwidth\":1},\"autotypenumbers\":\"strict\",\"coloraxis\":{\"colorbar\":{\"outlinewidth\":0,\"ticks\":\"\"}},\"colorscale\":{\"diverging\":[[0,\"#8e0152\"],[0.1,\"#c51b7d\"],[0.2,\"#de77ae\"],[0.3,\"#f1b6da\"],[0.4,\"#fde0ef\"],[0.5,\"#f7f7f7\"],[0.6,\"#e6f5d0\"],[0.7,\"#b8e186\"],[0.8,\"#7fbc41\"],[0.9,\"#4d9221\"],[1,\"#276419\"]],\"sequential\":[[0.0,\"#0d0887\"],[0.1111111111111111,\"#46039f\"],[0.2222222222222222,\"#7201a8\"],[0.3333333333333333,\"#9c179e\"],[0.4444444444444444,\"#bd3786\"],[0.5555555555555556,\"#d8576b\"],[0.6666666666666666,\"#ed7953\"],[0.7777777777777778,\"#fb9f3a\"],[0.8888888888888888,\"#fdca26\"],[1.0,\"#f0f921\"]],\"sequentialminus\":[[0.0,\"#0d0887\"],[0.1111111111111111,\"#46039f\"],[0.2222222222222222,\"#7201a8\"],[0.3333333333333333,\"#9c179e\"],[0.4444444444444444,\"#bd3786\"],[0.5555555555555556,\"#d8576b\"],[0.6666666666666666,\"#ed7953\"],[0.7777777777777778,\"#fb9f3a\"],[0.8888888888888888,\"#fdca26\"],[1.0,\"#f0f921\"]]},\"colorway\":[\"#636efa\",\"#EF553B\",\"#00cc96\",\"#ab63fa\",\"#FFA15A\",\"#19d3f3\",\"#FF6692\",\"#B6E880\",\"#FF97FF\",\"#FECB52\"],\"font\":{\"color\":\"#2a3f5f\"},\"geo\":{\"bgcolor\":\"white\",\"lakecolor\":\"white\",\"landcolor\":\"#E5ECF6\",\"showlakes\":true,\"showland\":true,\"subunitcolor\":\"white\"},\"hoverlabel\":{\"align\":\"left\"},\"hovermode\":\"closest\",\"mapbox\":{\"style\":\"light\"},\"paper_bgcolor\":\"white\",\"plot_bgcolor\":\"#E5ECF6\",\"polar\":{\"angularaxis\":{\"gridcolor\":\"white\",\"linecolor\":\"white\",\"ticks\":\"\"},\"bgcolor\":\"#E5ECF6\",\"radialaxis\":{\"gridcolor\":\"white\",\"linecolor\":\"white\",\"ticks\":\"\"}},\"scene\":{\"xaxis\":{\"backgroundcolor\":\"#E5ECF6\",\"gridcolor\":\"white\",\"gridwidth\":2,\"linecolor\":\"white\",\"showbackground\":true,\"ticks\":\"\",\"zerolinecolor\":\"white\"},\"yaxis\":{\"backgroundcolor\":\"#E5ECF6\",\"gridcolor\":\"white\",\"gridwidth\":2,\"linecolor\":\"white\",\"showbackground\":true,\"ticks\":\"\",\"zerolinecolor\":\"white\"},\"zaxis\":{\"backgroundcolor\":\"#E5ECF6\",\"gridcolor\":\"white\",\"gridwidth\":2,\"linecolor\":\"white\",\"showbackground\":true,\"ticks\":\"\",\"zerolinecolor\":\"white\"}},\"shapedefaults\":{\"line\":{\"color\":\"#2a3f5f\"}},\"ternary\":{\"aaxis\":{\"gridcolor\":\"white\",\"linecolor\":\"white\",\"ticks\":\"\"},\"baxis\":{\"gridcolor\":\"white\",\"linecolor\":\"white\",\"ticks\":\"\"},\"bgcolor\":\"#E5ECF6\",\"caxis\":{\"gridcolor\":\"white\",\"linecolor\":\"white\",\"ticks\":\"\"}},\"title\":{\"x\":0.05},\"xaxis\":{\"automargin\":true,\"gridcolor\":\"white\",\"linecolor\":\"white\",\"ticks\":\"\",\"title\":{\"standoff\":15},\"zerolinecolor\":\"white\",\"zerolinewidth\":2},\"yaxis\":{\"automargin\":true,\"gridcolor\":\"white\",\"linecolor\":\"white\",\"ticks\":\"\",\"title\":{\"standoff\":15},\"zerolinecolor\":\"white\",\"zerolinewidth\":2}}},\"title\":{\"text\":\"Label: Class 1\"},\"xaxis\":{\"anchor\":\"y\",\"domain\":[0.0,1.0],\"title\":{\"text\":\"Importance scores\"}},\"yaxis\":{\"anchor\":\"x\",\"domain\":[0.0,1.0],\"title\":{\"text\":\"Features\"}}},                        {\"responsive\": true}                    ).then(function(){\n",
       "                            \n",
       "var gd = document.getElementById('892e72fe-025f-44c7-84df-fd9dc4f336a6');\n",
       "var x = new MutationObserver(function (mutations, observer) {{\n",
       "        var display = window.getComputedStyle(gd).display;\n",
       "        if (!display || display === 'none') {{\n",
       "            console.log([gd, 'removed!']);\n",
       "            Plotly.purge(gd);\n",
       "            observer.disconnect();\n",
       "        }}\n",
       "}});\n",
       "\n",
       "// Listen for the removal of the full notebook cells\n",
       "var notebookContainer = gd.closest('#notebook-container');\n",
       "if (notebookContainer) {{\n",
       "    x.observe(notebookContainer, {childList: true});\n",
       "}}\n",
       "\n",
       "// Listen for the clearing of the current output cell\n",
       "var outputEl = gd.closest('.output');\n",
       "if (outputEl) {{\n",
       "    x.observe(outputEl, {childList: true});\n",
       "}}\n",
       "\n",
       "                        })                };                });            </script>        </div>"
      ]
     },
     "metadata": {},
     "output_type": "display_data"
    },
    {
     "name": "stdout",
     "output_type": "stream",
     "text": [
      "-./-./-./-./-./-./-./-./-./-./-./-./-./-./-./-./-./-./-./-./-./-./-./-./-./-./-./-./-./-./-./-./-./-./-./-./-./-./-./-./-./-./-./-./-./-./-./-./-./-./\n",
      "\n",
      "\n"
     ]
    }
   ],
   "source": [
    "print(\"LIME results:\")\n",
    "\n",
    "for i, instance_id in enumerate(instance_ids):\n",
    "    print(comments[i])\n",
    "    print(f\"Instance {instance_id} has label {test_labels_private[instance_id]} and prediction {predictions_private[instance_id]}, with probs {model_private.predict_proba(test_private[instance_id:instance_id+1])[0]}\")\n",
    "    local_explanations[\"lime\"].ipython_plot(index=i, class_names=class_names)\n",
    "    print('-./'*50)\n",
    "    print('\\n')"
   ]
  },
  {
   "cell_type": "code",
   "execution_count": 86,
   "id": "64cc9d74-f084-4420-91d4-4275b2c0c0f6",
   "metadata": {},
   "outputs": [
    {
     "name": "stdout",
     "output_type": "stream",
     "text": [
      "MACE results:\n"
     ]
    },
    {
     "data": {
      "text/html": [
       "<style type=\"text/css\">\n",
       "#T_99649_row1_col2, #T_99649_row1_col11, #T_99649_row2_col2, #T_99649_row2_col3, #T_99649_row2_col11, #T_99649_row3_col2, #T_99649_row3_col4, #T_99649_row3_col11, #T_99649_row4_col4, #T_99649_row4_col8, #T_99649_row4_col11, #T_99649_row5_col1, #T_99649_row5_col3, #T_99649_row5_col4, #T_99649_row5_col7, #T_99649_row5_col11 {\n",
       "  color: red;\n",
       "}\n",
       "</style>\n",
       "<table id=\"T_99649\">\n",
       "  <thead>\n",
       "    <tr>\n",
       "      <th class=\"blank level0\" >&nbsp;</th>\n",
       "      <th id=\"T_99649_level0_col0\" class=\"col_heading level0 col0\" >Age</th>\n",
       "      <th id=\"T_99649_level0_col1\" class=\"col_heading level0 col1\" >Workclass</th>\n",
       "      <th id=\"T_99649_level0_col2\" class=\"col_heading level0 col2\" >Education</th>\n",
       "      <th id=\"T_99649_level0_col3\" class=\"col_heading level0 col3\" >Occupation</th>\n",
       "      <th id=\"T_99649_level0_col4\" class=\"col_heading level0 col4\" >Relationship</th>\n",
       "      <th id=\"T_99649_level0_col5\" class=\"col_heading level0 col5\" >Race</th>\n",
       "      <th id=\"T_99649_level0_col6\" class=\"col_heading level0 col6\" >Sex</th>\n",
       "      <th id=\"T_99649_level0_col7\" class=\"col_heading level0 col7\" >Capital Gain</th>\n",
       "      <th id=\"T_99649_level0_col8\" class=\"col_heading level0 col8\" >Capital Loss</th>\n",
       "      <th id=\"T_99649_level0_col9\" class=\"col_heading level0 col9\" >Hours per week</th>\n",
       "      <th id=\"T_99649_level0_col10\" class=\"col_heading level0 col10\" >Country</th>\n",
       "      <th id=\"T_99649_level0_col11\" class=\"col_heading level0 col11\" >label</th>\n",
       "    </tr>\n",
       "  </thead>\n",
       "  <tbody>\n",
       "    <tr>\n",
       "      <th id=\"T_99649_level0_row0\" class=\"row_heading level0 row0\" >96</th>\n",
       "      <td id=\"T_99649_row0_col0\" class=\"data row0 col0\" >Aged</td>\n",
       "      <td id=\"T_99649_row0_col1\" class=\"data row0 col1\" >Private</td>\n",
       "      <td id=\"T_99649_row0_col2\" class=\"data row0 col2\" >HS-grad</td>\n",
       "      <td id=\"T_99649_row0_col3\" class=\"data row0 col3\" >Exec-managerial</td>\n",
       "      <td id=\"T_99649_row0_col4\" class=\"data row0 col4\" >Not-in-family</td>\n",
       "      <td id=\"T_99649_row0_col5\" class=\"data row0 col5\" >White</td>\n",
       "      <td id=\"T_99649_row0_col6\" class=\"data row0 col6\" >Male</td>\n",
       "      <td id=\"T_99649_row0_col7\" class=\"data row0 col7\" >0.000000</td>\n",
       "      <td id=\"T_99649_row0_col8\" class=\"data row0 col8\" >0.000000</td>\n",
       "      <td id=\"T_99649_row0_col9\" class=\"data row0 col9\" >OverTime</td>\n",
       "      <td id=\"T_99649_row0_col10\" class=\"data row0 col10\" >United-States</td>\n",
       "      <td id=\"T_99649_row0_col11\" class=\"data row0 col11\" >0</td>\n",
       "    </tr>\n",
       "    <tr>\n",
       "      <th id=\"T_99649_level0_row1\" class=\"row_heading level0 row1\" >CF[0] for 96</th>\n",
       "      <td id=\"T_99649_row1_col0\" class=\"data row1 col0\" >Aged</td>\n",
       "      <td id=\"T_99649_row1_col1\" class=\"data row1 col1\" >Private</td>\n",
       "      <td id=\"T_99649_row1_col2\" class=\"data row1 col2\" >Masters</td>\n",
       "      <td id=\"T_99649_row1_col3\" class=\"data row1 col3\" >Exec-managerial</td>\n",
       "      <td id=\"T_99649_row1_col4\" class=\"data row1 col4\" >Not-in-family</td>\n",
       "      <td id=\"T_99649_row1_col5\" class=\"data row1 col5\" >White</td>\n",
       "      <td id=\"T_99649_row1_col6\" class=\"data row1 col6\" >Male</td>\n",
       "      <td id=\"T_99649_row1_col7\" class=\"data row1 col7\" >0.000000</td>\n",
       "      <td id=\"T_99649_row1_col8\" class=\"data row1 col8\" >0.000000</td>\n",
       "      <td id=\"T_99649_row1_col9\" class=\"data row1 col9\" >OverTime</td>\n",
       "      <td id=\"T_99649_row1_col10\" class=\"data row1 col10\" >United-States</td>\n",
       "      <td id=\"T_99649_row1_col11\" class=\"data row1 col11\" >1</td>\n",
       "    </tr>\n",
       "    <tr>\n",
       "      <th id=\"T_99649_level0_row2\" class=\"row_heading level0 row2\" >CF[1] for 96</th>\n",
       "      <td id=\"T_99649_row2_col0\" class=\"data row2 col0\" >Aged</td>\n",
       "      <td id=\"T_99649_row2_col1\" class=\"data row2 col1\" >Private</td>\n",
       "      <td id=\"T_99649_row2_col2\" class=\"data row2 col2\" >Masters</td>\n",
       "      <td id=\"T_99649_row2_col3\" class=\"data row2 col3\" >Craft-repair</td>\n",
       "      <td id=\"T_99649_row2_col4\" class=\"data row2 col4\" >Not-in-family</td>\n",
       "      <td id=\"T_99649_row2_col5\" class=\"data row2 col5\" >White</td>\n",
       "      <td id=\"T_99649_row2_col6\" class=\"data row2 col6\" >Male</td>\n",
       "      <td id=\"T_99649_row2_col7\" class=\"data row2 col7\" >0.000000</td>\n",
       "      <td id=\"T_99649_row2_col8\" class=\"data row2 col8\" >0.000000</td>\n",
       "      <td id=\"T_99649_row2_col9\" class=\"data row2 col9\" >OverTime</td>\n",
       "      <td id=\"T_99649_row2_col10\" class=\"data row2 col10\" >United-States</td>\n",
       "      <td id=\"T_99649_row2_col11\" class=\"data row2 col11\" >1</td>\n",
       "    </tr>\n",
       "    <tr>\n",
       "      <th id=\"T_99649_level0_row3\" class=\"row_heading level0 row3\" >CF[2] for 96</th>\n",
       "      <td id=\"T_99649_row3_col0\" class=\"data row3 col0\" >Aged</td>\n",
       "      <td id=\"T_99649_row3_col1\" class=\"data row3 col1\" >Private</td>\n",
       "      <td id=\"T_99649_row3_col2\" class=\"data row3 col2\" >Bachelors</td>\n",
       "      <td id=\"T_99649_row3_col3\" class=\"data row3 col3\" >Exec-managerial</td>\n",
       "      <td id=\"T_99649_row3_col4\" class=\"data row3 col4\" >Married</td>\n",
       "      <td id=\"T_99649_row3_col5\" class=\"data row3 col5\" >White</td>\n",
       "      <td id=\"T_99649_row3_col6\" class=\"data row3 col6\" >Male</td>\n",
       "      <td id=\"T_99649_row3_col7\" class=\"data row3 col7\" >0.000000</td>\n",
       "      <td id=\"T_99649_row3_col8\" class=\"data row3 col8\" >0.000000</td>\n",
       "      <td id=\"T_99649_row3_col9\" class=\"data row3 col9\" >OverTime</td>\n",
       "      <td id=\"T_99649_row3_col10\" class=\"data row3 col10\" >United-States</td>\n",
       "      <td id=\"T_99649_row3_col11\" class=\"data row3 col11\" >1</td>\n",
       "    </tr>\n",
       "    <tr>\n",
       "      <th id=\"T_99649_level0_row4\" class=\"row_heading level0 row4\" >CF[3] for 96</th>\n",
       "      <td id=\"T_99649_row4_col0\" class=\"data row4 col0\" >Aged</td>\n",
       "      <td id=\"T_99649_row4_col1\" class=\"data row4 col1\" >Private</td>\n",
       "      <td id=\"T_99649_row4_col2\" class=\"data row4 col2\" >HS-grad</td>\n",
       "      <td id=\"T_99649_row4_col3\" class=\"data row4 col3\" >Exec-managerial</td>\n",
       "      <td id=\"T_99649_row4_col4\" class=\"data row4 col4\" >Married</td>\n",
       "      <td id=\"T_99649_row4_col5\" class=\"data row4 col5\" >White</td>\n",
       "      <td id=\"T_99649_row4_col6\" class=\"data row4 col6\" >Male</td>\n",
       "      <td id=\"T_99649_row4_col7\" class=\"data row4 col7\" >0.000000</td>\n",
       "      <td id=\"T_99649_row4_col8\" class=\"data row4 col8\" >987.875000</td>\n",
       "      <td id=\"T_99649_row4_col9\" class=\"data row4 col9\" >OverTime</td>\n",
       "      <td id=\"T_99649_row4_col10\" class=\"data row4 col10\" >United-States</td>\n",
       "      <td id=\"T_99649_row4_col11\" class=\"data row4 col11\" >1</td>\n",
       "    </tr>\n",
       "    <tr>\n",
       "      <th id=\"T_99649_level0_row5\" class=\"row_heading level0 row5\" >CF[4] for 96</th>\n",
       "      <td id=\"T_99649_row5_col0\" class=\"data row5 col0\" >Aged</td>\n",
       "      <td id=\"T_99649_row5_col1\" class=\"data row5 col1\" >Self-emp-not-inc</td>\n",
       "      <td id=\"T_99649_row5_col2\" class=\"data row5 col2\" >HS-grad</td>\n",
       "      <td id=\"T_99649_row5_col3\" class=\"data row5 col3\" >Craft-repair</td>\n",
       "      <td id=\"T_99649_row5_col4\" class=\"data row5 col4\" >Married</td>\n",
       "      <td id=\"T_99649_row5_col5\" class=\"data row5 col5\" >White</td>\n",
       "      <td id=\"T_99649_row5_col6\" class=\"data row5 col6\" >Male</td>\n",
       "      <td id=\"T_99649_row5_col7\" class=\"data row5 col7\" >5285.500000</td>\n",
       "      <td id=\"T_99649_row5_col8\" class=\"data row5 col8\" >0.000000</td>\n",
       "      <td id=\"T_99649_row5_col9\" class=\"data row5 col9\" >OverTime</td>\n",
       "      <td id=\"T_99649_row5_col10\" class=\"data row5 col10\" >United-States</td>\n",
       "      <td id=\"T_99649_row5_col11\" class=\"data row5 col11\" >1</td>\n",
       "    </tr>\n",
       "  </tbody>\n",
       "</table>\n"
      ],
      "text/plain": [
       "<pandas.io.formats.style.Styler at 0x25c6a2efa10>"
      ]
     },
     "metadata": {},
     "output_type": "display_data"
    },
    {
     "data": {
      "text/html": [
       "<style type=\"text/css\">\n",
       "#T_90ff2_row1_col3, #T_90ff2_row1_col11, #T_90ff2_row2_col3, #T_90ff2_row2_col9, #T_90ff2_row2_col11, #T_90ff2_row3_col2, #T_90ff2_row3_col3, #T_90ff2_row3_col11, #T_90ff2_row4_col4, #T_90ff2_row4_col9, #T_90ff2_row4_col11, #T_90ff2_row5_col2, #T_90ff2_row5_col4, #T_90ff2_row5_col9, #T_90ff2_row5_col11 {\n",
       "  color: red;\n",
       "}\n",
       "</style>\n",
       "<table id=\"T_90ff2\">\n",
       "  <thead>\n",
       "    <tr>\n",
       "      <th class=\"blank level0\" >&nbsp;</th>\n",
       "      <th id=\"T_90ff2_level0_col0\" class=\"col_heading level0 col0\" >Age</th>\n",
       "      <th id=\"T_90ff2_level0_col1\" class=\"col_heading level0 col1\" >Workclass</th>\n",
       "      <th id=\"T_90ff2_level0_col2\" class=\"col_heading level0 col2\" >Education</th>\n",
       "      <th id=\"T_90ff2_level0_col3\" class=\"col_heading level0 col3\" >Occupation</th>\n",
       "      <th id=\"T_90ff2_level0_col4\" class=\"col_heading level0 col4\" >Relationship</th>\n",
       "      <th id=\"T_90ff2_level0_col5\" class=\"col_heading level0 col5\" >Race</th>\n",
       "      <th id=\"T_90ff2_level0_col6\" class=\"col_heading level0 col6\" >Sex</th>\n",
       "      <th id=\"T_90ff2_level0_col7\" class=\"col_heading level0 col7\" >Capital Gain</th>\n",
       "      <th id=\"T_90ff2_level0_col8\" class=\"col_heading level0 col8\" >Capital Loss</th>\n",
       "      <th id=\"T_90ff2_level0_col9\" class=\"col_heading level0 col9\" >Hours per week</th>\n",
       "      <th id=\"T_90ff2_level0_col10\" class=\"col_heading level0 col10\" >Country</th>\n",
       "      <th id=\"T_90ff2_level0_col11\" class=\"col_heading level0 col11\" >label</th>\n",
       "    </tr>\n",
       "  </thead>\n",
       "  <tbody>\n",
       "    <tr>\n",
       "      <th id=\"T_90ff2_level0_row0\" class=\"row_heading level0 row0\" >663</th>\n",
       "      <td id=\"T_90ff2_row0_col0\" class=\"data row0 col0\" >Aged</td>\n",
       "      <td id=\"T_90ff2_row0_col1\" class=\"data row0 col1\" >Private</td>\n",
       "      <td id=\"T_90ff2_row0_col2\" class=\"data row0 col2\" >Bachelors</td>\n",
       "      <td id=\"T_90ff2_row0_col3\" class=\"data row0 col3\" >Sales</td>\n",
       "      <td id=\"T_90ff2_row0_col4\" class=\"data row0 col4\" >Married</td>\n",
       "      <td id=\"T_90ff2_row0_col5\" class=\"data row0 col5\" >White</td>\n",
       "      <td id=\"T_90ff2_row0_col6\" class=\"data row0 col6\" >Female</td>\n",
       "      <td id=\"T_90ff2_row0_col7\" class=\"data row0 col7\" >0.000000</td>\n",
       "      <td id=\"T_90ff2_row0_col8\" class=\"data row0 col8\" >0.000000</td>\n",
       "      <td id=\"T_90ff2_row0_col9\" class=\"data row0 col9\" >FullTime</td>\n",
       "      <td id=\"T_90ff2_row0_col10\" class=\"data row0 col10\" >United-States</td>\n",
       "      <td id=\"T_90ff2_row0_col11\" class=\"data row0 col11\" >1</td>\n",
       "    </tr>\n",
       "    <tr>\n",
       "      <th id=\"T_90ff2_level0_row1\" class=\"row_heading level0 row1\" >CF[0] for 663</th>\n",
       "      <td id=\"T_90ff2_row1_col0\" class=\"data row1 col0\" >Aged</td>\n",
       "      <td id=\"T_90ff2_row1_col1\" class=\"data row1 col1\" >Private</td>\n",
       "      <td id=\"T_90ff2_row1_col2\" class=\"data row1 col2\" >Bachelors</td>\n",
       "      <td id=\"T_90ff2_row1_col3\" class=\"data row1 col3\" >Handlers-cleaners</td>\n",
       "      <td id=\"T_90ff2_row1_col4\" class=\"data row1 col4\" >Married</td>\n",
       "      <td id=\"T_90ff2_row1_col5\" class=\"data row1 col5\" >White</td>\n",
       "      <td id=\"T_90ff2_row1_col6\" class=\"data row1 col6\" >Female</td>\n",
       "      <td id=\"T_90ff2_row1_col7\" class=\"data row1 col7\" >0.000000</td>\n",
       "      <td id=\"T_90ff2_row1_col8\" class=\"data row1 col8\" >0.000000</td>\n",
       "      <td id=\"T_90ff2_row1_col9\" class=\"data row1 col9\" >FullTime</td>\n",
       "      <td id=\"T_90ff2_row1_col10\" class=\"data row1 col10\" >United-States</td>\n",
       "      <td id=\"T_90ff2_row1_col11\" class=\"data row1 col11\" >0</td>\n",
       "    </tr>\n",
       "    <tr>\n",
       "      <th id=\"T_90ff2_level0_row2\" class=\"row_heading level0 row2\" >CF[1] for 663</th>\n",
       "      <td id=\"T_90ff2_row2_col0\" class=\"data row2 col0\" >Aged</td>\n",
       "      <td id=\"T_90ff2_row2_col1\" class=\"data row2 col1\" >Private</td>\n",
       "      <td id=\"T_90ff2_row2_col2\" class=\"data row2 col2\" >Bachelors</td>\n",
       "      <td id=\"T_90ff2_row2_col3\" class=\"data row2 col3\" >Transport-moving</td>\n",
       "      <td id=\"T_90ff2_row2_col4\" class=\"data row2 col4\" >Married</td>\n",
       "      <td id=\"T_90ff2_row2_col5\" class=\"data row2 col5\" >White</td>\n",
       "      <td id=\"T_90ff2_row2_col6\" class=\"data row2 col6\" >Female</td>\n",
       "      <td id=\"T_90ff2_row2_col7\" class=\"data row2 col7\" >0.000000</td>\n",
       "      <td id=\"T_90ff2_row2_col8\" class=\"data row2 col8\" >0.000000</td>\n",
       "      <td id=\"T_90ff2_row2_col9\" class=\"data row2 col9\" >OverTime</td>\n",
       "      <td id=\"T_90ff2_row2_col10\" class=\"data row2 col10\" >United-States</td>\n",
       "      <td id=\"T_90ff2_row2_col11\" class=\"data row2 col11\" >0</td>\n",
       "    </tr>\n",
       "    <tr>\n",
       "      <th id=\"T_90ff2_level0_row3\" class=\"row_heading level0 row3\" >CF[2] for 663</th>\n",
       "      <td id=\"T_90ff2_row3_col0\" class=\"data row3 col0\" >Aged</td>\n",
       "      <td id=\"T_90ff2_row3_col1\" class=\"data row3 col1\" >Private</td>\n",
       "      <td id=\"T_90ff2_row3_col2\" class=\"data row3 col2\" >7th-8th</td>\n",
       "      <td id=\"T_90ff2_row3_col3\" class=\"data row3 col3\" >Handlers-cleaners</td>\n",
       "      <td id=\"T_90ff2_row3_col4\" class=\"data row3 col4\" >Married</td>\n",
       "      <td id=\"T_90ff2_row3_col5\" class=\"data row3 col5\" >White</td>\n",
       "      <td id=\"T_90ff2_row3_col6\" class=\"data row3 col6\" >Female</td>\n",
       "      <td id=\"T_90ff2_row3_col7\" class=\"data row3 col7\" >0.000000</td>\n",
       "      <td id=\"T_90ff2_row3_col8\" class=\"data row3 col8\" >0.000000</td>\n",
       "      <td id=\"T_90ff2_row3_col9\" class=\"data row3 col9\" >FullTime</td>\n",
       "      <td id=\"T_90ff2_row3_col10\" class=\"data row3 col10\" >United-States</td>\n",
       "      <td id=\"T_90ff2_row3_col11\" class=\"data row3 col11\" >0</td>\n",
       "    </tr>\n",
       "    <tr>\n",
       "      <th id=\"T_90ff2_level0_row4\" class=\"row_heading level0 row4\" >CF[3] for 663</th>\n",
       "      <td id=\"T_90ff2_row4_col0\" class=\"data row4 col0\" >Aged</td>\n",
       "      <td id=\"T_90ff2_row4_col1\" class=\"data row4 col1\" >Private</td>\n",
       "      <td id=\"T_90ff2_row4_col2\" class=\"data row4 col2\" >Bachelors</td>\n",
       "      <td id=\"T_90ff2_row4_col3\" class=\"data row4 col3\" >Sales</td>\n",
       "      <td id=\"T_90ff2_row4_col4\" class=\"data row4 col4\" >Unmarried</td>\n",
       "      <td id=\"T_90ff2_row4_col5\" class=\"data row4 col5\" >White</td>\n",
       "      <td id=\"T_90ff2_row4_col6\" class=\"data row4 col6\" >Female</td>\n",
       "      <td id=\"T_90ff2_row4_col7\" class=\"data row4 col7\" >0.000000</td>\n",
       "      <td id=\"T_90ff2_row4_col8\" class=\"data row4 col8\" >0.000000</td>\n",
       "      <td id=\"T_90ff2_row4_col9\" class=\"data row4 col9\" >OverTime</td>\n",
       "      <td id=\"T_90ff2_row4_col10\" class=\"data row4 col10\" >United-States</td>\n",
       "      <td id=\"T_90ff2_row4_col11\" class=\"data row4 col11\" >0</td>\n",
       "    </tr>\n",
       "    <tr>\n",
       "      <th id=\"T_90ff2_level0_row5\" class=\"row_heading level0 row5\" >CF[4] for 663</th>\n",
       "      <td id=\"T_90ff2_row5_col0\" class=\"data row5 col0\" >Aged</td>\n",
       "      <td id=\"T_90ff2_row5_col1\" class=\"data row5 col1\" >Private</td>\n",
       "      <td id=\"T_90ff2_row5_col2\" class=\"data row5 col2\" >Masters</td>\n",
       "      <td id=\"T_90ff2_row5_col3\" class=\"data row5 col3\" >Sales</td>\n",
       "      <td id=\"T_90ff2_row5_col4\" class=\"data row5 col4\" >Unmarried</td>\n",
       "      <td id=\"T_90ff2_row5_col5\" class=\"data row5 col5\" >White</td>\n",
       "      <td id=\"T_90ff2_row5_col6\" class=\"data row5 col6\" >Female</td>\n",
       "      <td id=\"T_90ff2_row5_col7\" class=\"data row5 col7\" >0.000000</td>\n",
       "      <td id=\"T_90ff2_row5_col8\" class=\"data row5 col8\" >0.000000</td>\n",
       "      <td id=\"T_90ff2_row5_col9\" class=\"data row5 col9\" >OverTime</td>\n",
       "      <td id=\"T_90ff2_row5_col10\" class=\"data row5 col10\" >United-States</td>\n",
       "      <td id=\"T_90ff2_row5_col11\" class=\"data row5 col11\" >0</td>\n",
       "    </tr>\n",
       "  </tbody>\n",
       "</table>\n"
      ],
      "text/plain": [
       "<pandas.io.formats.style.Styler at 0x25c65930510>"
      ]
     },
     "metadata": {},
     "output_type": "display_data"
    },
    {
     "data": {
      "text/html": [
       "<style type=\"text/css\">\n",
       "#T_6e8dc_row1_col2, #T_6e8dc_row1_col3, #T_6e8dc_row1_col11, #T_6e8dc_row2_col2, #T_6e8dc_row2_col3, #T_6e8dc_row2_col9, #T_6e8dc_row2_col11, #T_6e8dc_row3_col2, #T_6e8dc_row3_col8, #T_6e8dc_row3_col11, #T_6e8dc_row4_col3, #T_6e8dc_row4_col7, #T_6e8dc_row4_col11 {\n",
       "  color: red;\n",
       "}\n",
       "</style>\n",
       "<table id=\"T_6e8dc\">\n",
       "  <thead>\n",
       "    <tr>\n",
       "      <th class=\"blank level0\" >&nbsp;</th>\n",
       "      <th id=\"T_6e8dc_level0_col0\" class=\"col_heading level0 col0\" >Age</th>\n",
       "      <th id=\"T_6e8dc_level0_col1\" class=\"col_heading level0 col1\" >Workclass</th>\n",
       "      <th id=\"T_6e8dc_level0_col2\" class=\"col_heading level0 col2\" >Education</th>\n",
       "      <th id=\"T_6e8dc_level0_col3\" class=\"col_heading level0 col3\" >Occupation</th>\n",
       "      <th id=\"T_6e8dc_level0_col4\" class=\"col_heading level0 col4\" >Relationship</th>\n",
       "      <th id=\"T_6e8dc_level0_col5\" class=\"col_heading level0 col5\" >Race</th>\n",
       "      <th id=\"T_6e8dc_level0_col6\" class=\"col_heading level0 col6\" >Sex</th>\n",
       "      <th id=\"T_6e8dc_level0_col7\" class=\"col_heading level0 col7\" >Capital Gain</th>\n",
       "      <th id=\"T_6e8dc_level0_col8\" class=\"col_heading level0 col8\" >Capital Loss</th>\n",
       "      <th id=\"T_6e8dc_level0_col9\" class=\"col_heading level0 col9\" >Hours per week</th>\n",
       "      <th id=\"T_6e8dc_level0_col10\" class=\"col_heading level0 col10\" >Country</th>\n",
       "      <th id=\"T_6e8dc_level0_col11\" class=\"col_heading level0 col11\" >label</th>\n",
       "    </tr>\n",
       "  </thead>\n",
       "  <tbody>\n",
       "    <tr>\n",
       "      <th id=\"T_6e8dc_level0_row0\" class=\"row_heading level0 row0\" >696</th>\n",
       "      <td id=\"T_6e8dc_row0_col0\" class=\"data row0 col0\" >Aged</td>\n",
       "      <td id=\"T_6e8dc_row0_col1\" class=\"data row0 col1\" >Private</td>\n",
       "      <td id=\"T_6e8dc_row0_col2\" class=\"data row0 col2\" >11th</td>\n",
       "      <td id=\"T_6e8dc_row0_col3\" class=\"data row0 col3\" >Other-service</td>\n",
       "      <td id=\"T_6e8dc_row0_col4\" class=\"data row0 col4\" >Married</td>\n",
       "      <td id=\"T_6e8dc_row0_col5\" class=\"data row0 col5\" >Black</td>\n",
       "      <td id=\"T_6e8dc_row0_col6\" class=\"data row0 col6\" >Male</td>\n",
       "      <td id=\"T_6e8dc_row0_col7\" class=\"data row0 col7\" >0.000000</td>\n",
       "      <td id=\"T_6e8dc_row0_col8\" class=\"data row0 col8\" >0.000000</td>\n",
       "      <td id=\"T_6e8dc_row0_col9\" class=\"data row0 col9\" >MidTime</td>\n",
       "      <td id=\"T_6e8dc_row0_col10\" class=\"data row0 col10\" >United-States</td>\n",
       "      <td id=\"T_6e8dc_row0_col11\" class=\"data row0 col11\" >0</td>\n",
       "    </tr>\n",
       "    <tr>\n",
       "      <th id=\"T_6e8dc_level0_row1\" class=\"row_heading level0 row1\" >CF[0] for 696</th>\n",
       "      <td id=\"T_6e8dc_row1_col0\" class=\"data row1 col0\" >Aged</td>\n",
       "      <td id=\"T_6e8dc_row1_col1\" class=\"data row1 col1\" >Private</td>\n",
       "      <td id=\"T_6e8dc_row1_col2\" class=\"data row1 col2\" >Some-college</td>\n",
       "      <td id=\"T_6e8dc_row1_col3\" class=\"data row1 col3\" >Craft-repair</td>\n",
       "      <td id=\"T_6e8dc_row1_col4\" class=\"data row1 col4\" >Married</td>\n",
       "      <td id=\"T_6e8dc_row1_col5\" class=\"data row1 col5\" >Black</td>\n",
       "      <td id=\"T_6e8dc_row1_col6\" class=\"data row1 col6\" >Male</td>\n",
       "      <td id=\"T_6e8dc_row1_col7\" class=\"data row1 col7\" >0.000000</td>\n",
       "      <td id=\"T_6e8dc_row1_col8\" class=\"data row1 col8\" >0.000000</td>\n",
       "      <td id=\"T_6e8dc_row1_col9\" class=\"data row1 col9\" >MidTime</td>\n",
       "      <td id=\"T_6e8dc_row1_col10\" class=\"data row1 col10\" >United-States</td>\n",
       "      <td id=\"T_6e8dc_row1_col11\" class=\"data row1 col11\" >1</td>\n",
       "    </tr>\n",
       "    <tr>\n",
       "      <th id=\"T_6e8dc_level0_row2\" class=\"row_heading level0 row2\" >CF[1] for 696</th>\n",
       "      <td id=\"T_6e8dc_row2_col0\" class=\"data row2 col0\" >Aged</td>\n",
       "      <td id=\"T_6e8dc_row2_col1\" class=\"data row2 col1\" >Private</td>\n",
       "      <td id=\"T_6e8dc_row2_col2\" class=\"data row2 col2\" >Bachelors</td>\n",
       "      <td id=\"T_6e8dc_row2_col3\" class=\"data row2 col3\" >Craft-repair</td>\n",
       "      <td id=\"T_6e8dc_row2_col4\" class=\"data row2 col4\" >Married</td>\n",
       "      <td id=\"T_6e8dc_row2_col5\" class=\"data row2 col5\" >Black</td>\n",
       "      <td id=\"T_6e8dc_row2_col6\" class=\"data row2 col6\" >Male</td>\n",
       "      <td id=\"T_6e8dc_row2_col7\" class=\"data row2 col7\" >0.000000</td>\n",
       "      <td id=\"T_6e8dc_row2_col8\" class=\"data row2 col8\" >0.000000</td>\n",
       "      <td id=\"T_6e8dc_row2_col9\" class=\"data row2 col9\" >OverTime</td>\n",
       "      <td id=\"T_6e8dc_row2_col10\" class=\"data row2 col10\" >United-States</td>\n",
       "      <td id=\"T_6e8dc_row2_col11\" class=\"data row2 col11\" >1</td>\n",
       "    </tr>\n",
       "    <tr>\n",
       "      <th id=\"T_6e8dc_level0_row3\" class=\"row_heading level0 row3\" >CF[2] for 696</th>\n",
       "      <td id=\"T_6e8dc_row3_col0\" class=\"data row3 col0\" >Aged</td>\n",
       "      <td id=\"T_6e8dc_row3_col1\" class=\"data row3 col1\" >Private</td>\n",
       "      <td id=\"T_6e8dc_row3_col2\" class=\"data row3 col2\" >Bachelors</td>\n",
       "      <td id=\"T_6e8dc_row3_col3\" class=\"data row3 col3\" >Other-service</td>\n",
       "      <td id=\"T_6e8dc_row3_col4\" class=\"data row3 col4\" >Married</td>\n",
       "      <td id=\"T_6e8dc_row3_col5\" class=\"data row3 col5\" >Black</td>\n",
       "      <td id=\"T_6e8dc_row3_col6\" class=\"data row3 col6\" >Male</td>\n",
       "      <td id=\"T_6e8dc_row3_col7\" class=\"data row3 col7\" >0.000000</td>\n",
       "      <td id=\"T_6e8dc_row3_col8\" class=\"data row3 col8\" >1848.000000</td>\n",
       "      <td id=\"T_6e8dc_row3_col9\" class=\"data row3 col9\" >MidTime</td>\n",
       "      <td id=\"T_6e8dc_row3_col10\" class=\"data row3 col10\" >United-States</td>\n",
       "      <td id=\"T_6e8dc_row3_col11\" class=\"data row3 col11\" >1</td>\n",
       "    </tr>\n",
       "    <tr>\n",
       "      <th id=\"T_6e8dc_level0_row4\" class=\"row_heading level0 row4\" >CF[3] for 696</th>\n",
       "      <td id=\"T_6e8dc_row4_col0\" class=\"data row4 col0\" >Aged</td>\n",
       "      <td id=\"T_6e8dc_row4_col1\" class=\"data row4 col1\" >Private</td>\n",
       "      <td id=\"T_6e8dc_row4_col2\" class=\"data row4 col2\" >11th</td>\n",
       "      <td id=\"T_6e8dc_row4_col3\" class=\"data row4 col3\" >Craft-repair</td>\n",
       "      <td id=\"T_6e8dc_row4_col4\" class=\"data row4 col4\" >Married</td>\n",
       "      <td id=\"T_6e8dc_row4_col5\" class=\"data row4 col5\" >Black</td>\n",
       "      <td id=\"T_6e8dc_row4_col6\" class=\"data row4 col6\" >Male</td>\n",
       "      <td id=\"T_6e8dc_row4_col7\" class=\"data row4 col7\" >5473.500000</td>\n",
       "      <td id=\"T_6e8dc_row4_col8\" class=\"data row4 col8\" >0.000000</td>\n",
       "      <td id=\"T_6e8dc_row4_col9\" class=\"data row4 col9\" >MidTime</td>\n",
       "      <td id=\"T_6e8dc_row4_col10\" class=\"data row4 col10\" >United-States</td>\n",
       "      <td id=\"T_6e8dc_row4_col11\" class=\"data row4 col11\" >1</td>\n",
       "    </tr>\n",
       "  </tbody>\n",
       "</table>\n"
      ],
      "text/plain": [
       "<pandas.io.formats.style.Styler at 0x25c6a003a50>"
      ]
     },
     "metadata": {},
     "output_type": "display_data"
    },
    {
     "data": {
      "text/html": [
       "<style type=\"text/css\">\n",
       "#T_d6051_row1_col4, #T_d6051_row1_col11, #T_d6051_row2_col4, #T_d6051_row2_col9, #T_d6051_row2_col11, #T_d6051_row3_col1, #T_d6051_row3_col4, #T_d6051_row3_col11, #T_d6051_row4_col0, #T_d6051_row4_col1, #T_d6051_row4_col2, #T_d6051_row4_col9, #T_d6051_row4_col11, #T_d6051_row5_col2, #T_d6051_row5_col8, #T_d6051_row5_col11 {\n",
       "  color: red;\n",
       "}\n",
       "</style>\n",
       "<table id=\"T_d6051\">\n",
       "  <thead>\n",
       "    <tr>\n",
       "      <th class=\"blank level0\" >&nbsp;</th>\n",
       "      <th id=\"T_d6051_level0_col0\" class=\"col_heading level0 col0\" >Age</th>\n",
       "      <th id=\"T_d6051_level0_col1\" class=\"col_heading level0 col1\" >Workclass</th>\n",
       "      <th id=\"T_d6051_level0_col2\" class=\"col_heading level0 col2\" >Education</th>\n",
       "      <th id=\"T_d6051_level0_col3\" class=\"col_heading level0 col3\" >Occupation</th>\n",
       "      <th id=\"T_d6051_level0_col4\" class=\"col_heading level0 col4\" >Relationship</th>\n",
       "      <th id=\"T_d6051_level0_col5\" class=\"col_heading level0 col5\" >Race</th>\n",
       "      <th id=\"T_d6051_level0_col6\" class=\"col_heading level0 col6\" >Sex</th>\n",
       "      <th id=\"T_d6051_level0_col7\" class=\"col_heading level0 col7\" >Capital Gain</th>\n",
       "      <th id=\"T_d6051_level0_col8\" class=\"col_heading level0 col8\" >Capital Loss</th>\n",
       "      <th id=\"T_d6051_level0_col9\" class=\"col_heading level0 col9\" >Hours per week</th>\n",
       "      <th id=\"T_d6051_level0_col10\" class=\"col_heading level0 col10\" >Country</th>\n",
       "      <th id=\"T_d6051_level0_col11\" class=\"col_heading level0 col11\" >label</th>\n",
       "    </tr>\n",
       "  </thead>\n",
       "  <tbody>\n",
       "    <tr>\n",
       "      <th id=\"T_d6051_level0_row0\" class=\"row_heading level0 row0\" >1144</th>\n",
       "      <td id=\"T_d6051_row0_col0\" class=\"data row0 col0\" >Young</td>\n",
       "      <td id=\"T_d6051_row0_col1\" class=\"data row0 col1\" >Private</td>\n",
       "      <td id=\"T_d6051_row0_col2\" class=\"data row0 col2\" >Masters</td>\n",
       "      <td id=\"T_d6051_row0_col3\" class=\"data row0 col3\" >Prof-specialty</td>\n",
       "      <td id=\"T_d6051_row0_col4\" class=\"data row0 col4\" >Married</td>\n",
       "      <td id=\"T_d6051_row0_col5\" class=\"data row0 col5\" >White</td>\n",
       "      <td id=\"T_d6051_row0_col6\" class=\"data row0 col6\" >Female</td>\n",
       "      <td id=\"T_d6051_row0_col7\" class=\"data row0 col7\" >0.000000</td>\n",
       "      <td id=\"T_d6051_row0_col8\" class=\"data row0 col8\" >0.000000</td>\n",
       "      <td id=\"T_d6051_row0_col9\" class=\"data row0 col9\" >OverTime</td>\n",
       "      <td id=\"T_d6051_row0_col10\" class=\"data row0 col10\" >United-States</td>\n",
       "      <td id=\"T_d6051_row0_col11\" class=\"data row0 col11\" >1</td>\n",
       "    </tr>\n",
       "    <tr>\n",
       "      <th id=\"T_d6051_level0_row1\" class=\"row_heading level0 row1\" >CF[0] for 1144</th>\n",
       "      <td id=\"T_d6051_row1_col0\" class=\"data row1 col0\" >Young</td>\n",
       "      <td id=\"T_d6051_row1_col1\" class=\"data row1 col1\" >Private</td>\n",
       "      <td id=\"T_d6051_row1_col2\" class=\"data row1 col2\" >Masters</td>\n",
       "      <td id=\"T_d6051_row1_col3\" class=\"data row1 col3\" >Prof-specialty</td>\n",
       "      <td id=\"T_d6051_row1_col4\" class=\"data row1 col4\" >Unmarried</td>\n",
       "      <td id=\"T_d6051_row1_col5\" class=\"data row1 col5\" >White</td>\n",
       "      <td id=\"T_d6051_row1_col6\" class=\"data row1 col6\" >Female</td>\n",
       "      <td id=\"T_d6051_row1_col7\" class=\"data row1 col7\" >0.000000</td>\n",
       "      <td id=\"T_d6051_row1_col8\" class=\"data row1 col8\" >0.000000</td>\n",
       "      <td id=\"T_d6051_row1_col9\" class=\"data row1 col9\" >OverTime</td>\n",
       "      <td id=\"T_d6051_row1_col10\" class=\"data row1 col10\" >United-States</td>\n",
       "      <td id=\"T_d6051_row1_col11\" class=\"data row1 col11\" >0</td>\n",
       "    </tr>\n",
       "    <tr>\n",
       "      <th id=\"T_d6051_level0_row2\" class=\"row_heading level0 row2\" >CF[1] for 1144</th>\n",
       "      <td id=\"T_d6051_row2_col0\" class=\"data row2 col0\" >Young</td>\n",
       "      <td id=\"T_d6051_row2_col1\" class=\"data row2 col1\" >Private</td>\n",
       "      <td id=\"T_d6051_row2_col2\" class=\"data row2 col2\" >Masters</td>\n",
       "      <td id=\"T_d6051_row2_col3\" class=\"data row2 col3\" >Prof-specialty</td>\n",
       "      <td id=\"T_d6051_row2_col4\" class=\"data row2 col4\" >Unmarried</td>\n",
       "      <td id=\"T_d6051_row2_col5\" class=\"data row2 col5\" >White</td>\n",
       "      <td id=\"T_d6051_row2_col6\" class=\"data row2 col6\" >Female</td>\n",
       "      <td id=\"T_d6051_row2_col7\" class=\"data row2 col7\" >0.000000</td>\n",
       "      <td id=\"T_d6051_row2_col8\" class=\"data row2 col8\" >0.000000</td>\n",
       "      <td id=\"T_d6051_row2_col9\" class=\"data row2 col9\" >MidTime</td>\n",
       "      <td id=\"T_d6051_row2_col10\" class=\"data row2 col10\" >United-States</td>\n",
       "      <td id=\"T_d6051_row2_col11\" class=\"data row2 col11\" >0</td>\n",
       "    </tr>\n",
       "    <tr>\n",
       "      <th id=\"T_d6051_level0_row3\" class=\"row_heading level0 row3\" >CF[2] for 1144</th>\n",
       "      <td id=\"T_d6051_row3_col0\" class=\"data row3 col0\" >Young</td>\n",
       "      <td id=\"T_d6051_row3_col1\" class=\"data row3 col1\" >Local-gov</td>\n",
       "      <td id=\"T_d6051_row3_col2\" class=\"data row3 col2\" >Masters</td>\n",
       "      <td id=\"T_d6051_row3_col3\" class=\"data row3 col3\" >Prof-specialty</td>\n",
       "      <td id=\"T_d6051_row3_col4\" class=\"data row3 col4\" >Not-in-family</td>\n",
       "      <td id=\"T_d6051_row3_col5\" class=\"data row3 col5\" >White</td>\n",
       "      <td id=\"T_d6051_row3_col6\" class=\"data row3 col6\" >Female</td>\n",
       "      <td id=\"T_d6051_row3_col7\" class=\"data row3 col7\" >0.000000</td>\n",
       "      <td id=\"T_d6051_row3_col8\" class=\"data row3 col8\" >0.000000</td>\n",
       "      <td id=\"T_d6051_row3_col9\" class=\"data row3 col9\" >OverTime</td>\n",
       "      <td id=\"T_d6051_row3_col10\" class=\"data row3 col10\" >United-States</td>\n",
       "      <td id=\"T_d6051_row3_col11\" class=\"data row3 col11\" >0</td>\n",
       "    </tr>\n",
       "    <tr>\n",
       "      <th id=\"T_d6051_level0_row4\" class=\"row_heading level0 row4\" >CF[3] for 1144</th>\n",
       "      <td id=\"T_d6051_row4_col0\" class=\"data row4 col0\" >Aged</td>\n",
       "      <td id=\"T_d6051_row4_col1\" class=\"data row4 col1\" >Local-gov</td>\n",
       "      <td id=\"T_d6051_row4_col2\" class=\"data row4 col2\" >Bachelors</td>\n",
       "      <td id=\"T_d6051_row4_col3\" class=\"data row4 col3\" >Prof-specialty</td>\n",
       "      <td id=\"T_d6051_row4_col4\" class=\"data row4 col4\" >Married</td>\n",
       "      <td id=\"T_d6051_row4_col5\" class=\"data row4 col5\" >White</td>\n",
       "      <td id=\"T_d6051_row4_col6\" class=\"data row4 col6\" >Female</td>\n",
       "      <td id=\"T_d6051_row4_col7\" class=\"data row4 col7\" >0.000000</td>\n",
       "      <td id=\"T_d6051_row4_col8\" class=\"data row4 col8\" >0.000000</td>\n",
       "      <td id=\"T_d6051_row4_col9\" class=\"data row4 col9\" >PartTime</td>\n",
       "      <td id=\"T_d6051_row4_col10\" class=\"data row4 col10\" >United-States</td>\n",
       "      <td id=\"T_d6051_row4_col11\" class=\"data row4 col11\" >0</td>\n",
       "    </tr>\n",
       "    <tr>\n",
       "      <th id=\"T_d6051_level0_row5\" class=\"row_heading level0 row5\" >CF[4] for 1144</th>\n",
       "      <td id=\"T_d6051_row5_col0\" class=\"data row5 col0\" >Young</td>\n",
       "      <td id=\"T_d6051_row5_col1\" class=\"data row5 col1\" >Private</td>\n",
       "      <td id=\"T_d6051_row5_col2\" class=\"data row5 col2\" >Assoc-voc</td>\n",
       "      <td id=\"T_d6051_row5_col3\" class=\"data row5 col3\" >Prof-specialty</td>\n",
       "      <td id=\"T_d6051_row5_col4\" class=\"data row5 col4\" >Married</td>\n",
       "      <td id=\"T_d6051_row5_col5\" class=\"data row5 col5\" >White</td>\n",
       "      <td id=\"T_d6051_row5_col6\" class=\"data row5 col6\" >Female</td>\n",
       "      <td id=\"T_d6051_row5_col7\" class=\"data row5 col7\" >0.000000</td>\n",
       "      <td id=\"T_d6051_row5_col8\" class=\"data row5 col8\" >125.125000</td>\n",
       "      <td id=\"T_d6051_row5_col9\" class=\"data row5 col9\" >OverTime</td>\n",
       "      <td id=\"T_d6051_row5_col10\" class=\"data row5 col10\" >United-States</td>\n",
       "      <td id=\"T_d6051_row5_col11\" class=\"data row5 col11\" >0</td>\n",
       "    </tr>\n",
       "  </tbody>\n",
       "</table>\n"
      ],
      "text/plain": [
       "<pandas.io.formats.style.Styler at 0x25c69ff4850>"
      ]
     },
     "metadata": {},
     "output_type": "display_data"
    }
   ],
   "source": [
    "print(\"MACE results:\")\n",
    "\n",
    "\n",
    "for expl_id, instance_id in enumerate(instance_ids):\n",
    "    \n",
    "    query_df = local_explanations['mace'].get_explanations()[expl_id]['query'].reset_index(drop=True)\n",
    "    query_df.index = [f\"{instance_id}\"] * len(query_df)\n",
    "    # display(query_df)\n",
    "\n",
    "\n",
    "    counter_df = local_explanations['mace'].get_explanations()[expl_id]['counterfactual'].reset_index(drop=True)\n",
    "    counter_df.index = [ f\"CF[{cnt}] for {instance_id}\" for cnt in range(len(counter_df))]\n",
    "    # display(counter_df)\n",
    "\n",
    "    combined_df = pd.concat([query_df, counter_df])\n",
    "\n",
    "\n",
    "    # Highlighting function\n",
    "    def highlight_changes(row):\n",
    "        instance_row = combined_df.iloc[0]  # Reference row for the instance\n",
    "        return [\"color: red\" if row[col] != instance_row[col] else \"\" for col in combined_df.columns]\n",
    "\n",
    "    # Apply the style\n",
    "    styled_df = combined_df.style.apply(highlight_changes, axis=1)\n",
    "    \n",
    "    # Display the styled dataframe\n",
    "    display(styled_df) \n",
    "\n"
   ]
  },
  {
   "cell_type": "markdown",
   "id": "49c2ac57-f02e-47b2-9b0b-cd44e2054c93",
   "metadata": {},
   "source": [
    "Changing the values of the attributes in red will change the label"
   ]
  },
  {
   "cell_type": "markdown",
   "id": "f736cdc4-4866-4870-8757-aef366316329",
   "metadata": {},
   "source": [
    "### Investigate Noisy Values "
   ]
  },
  {
   "cell_type": "markdown",
   "id": "41b52c44-dc38-49db-b88a-925daa107fa0",
   "metadata": {},
   "source": [
    "To investiate the noisy values, we will compare the predictions from the private classifier to the predictions of the original classifier where the Age and Sex columns changed. \n",
    "\n",
    "If the noisy values for these attributes lead to a change in the prediction, we can conclude that the noisy values are responsible for the model being confident and wrong \n"
   ]
  },
  {
   "cell_type": "code",
   "execution_count": 87,
   "id": "f9c6bbd3-d0ed-432a-86a7-f8fb2d064257",
   "metadata": {},
   "outputs": [],
   "source": [
    "# Compare original and noisy attributes for misclassified instances\n",
    "original_sensitive = test_df.iloc[high_conf_idx][['Age', 'Sex', 'prediction', 'label']]\n",
    "noisy_sensitive = high_confidence_errors[['Age', 'Sex', 'prediction', 'confidence']]\n",
    "noisy_sensitive.rename(columns={'prediction': 'prediction_private', 'Age':'Age_private', 'Sex':'Sex_private'}, inplace=True)"
   ]
  },
  {
   "cell_type": "code",
   "execution_count": 88,
   "id": "17c80d3a-bda0-4a7b-b3db-cf89366bb7e0",
   "metadata": {},
   "outputs": [
    {
     "name": "stdout",
     "output_type": "stream",
     "text": [
      "Comparison of original vs. noisy sensitive attributes for high confidence errors:\n"
     ]
    },
    {
     "data": {
      "text/html": [
       "<div>\n",
       "<style scoped>\n",
       "    .dataframe tbody tr th:only-of-type {\n",
       "        vertical-align: middle;\n",
       "    }\n",
       "\n",
       "    .dataframe tbody tr th {\n",
       "        vertical-align: top;\n",
       "    }\n",
       "\n",
       "    .dataframe thead th {\n",
       "        text-align: right;\n",
       "    }\n",
       "</style>\n",
       "<table border=\"1\" class=\"dataframe\">\n",
       "  <thead>\n",
       "    <tr style=\"text-align: right;\">\n",
       "      <th></th>\n",
       "      <th>Age</th>\n",
       "      <th>Sex</th>\n",
       "      <th>prediction</th>\n",
       "      <th>label</th>\n",
       "      <th>Age_private</th>\n",
       "      <th>Sex_private</th>\n",
       "      <th>prediction_private</th>\n",
       "      <th>confidence</th>\n",
       "    </tr>\n",
       "  </thead>\n",
       "  <tbody>\n",
       "    <tr>\n",
       "      <th>96</th>\n",
       "      <td>Aged</td>\n",
       "      <td>Male</td>\n",
       "      <td>0.0</td>\n",
       "      <td>1</td>\n",
       "      <td>Aged</td>\n",
       "      <td>Male</td>\n",
       "      <td>0.0</td>\n",
       "      <td>1.000000</td>\n",
       "    </tr>\n",
       "    <tr>\n",
       "      <th>363</th>\n",
       "      <td>Young</td>\n",
       "      <td>Female</td>\n",
       "      <td>0.0</td>\n",
       "      <td>1</td>\n",
       "      <td>Aged</td>\n",
       "      <td>Male</td>\n",
       "      <td>0.0</td>\n",
       "      <td>1.000000</td>\n",
       "    </tr>\n",
       "    <tr>\n",
       "      <th>438</th>\n",
       "      <td>Aged</td>\n",
       "      <td>Male</td>\n",
       "      <td>1.0</td>\n",
       "      <td>0</td>\n",
       "      <td>Aged</td>\n",
       "      <td>Female</td>\n",
       "      <td>1.0</td>\n",
       "      <td>0.990000</td>\n",
       "    </tr>\n",
       "    <tr>\n",
       "      <th>663</th>\n",
       "      <td>Young</td>\n",
       "      <td>Male</td>\n",
       "      <td>1.0</td>\n",
       "      <td>0</td>\n",
       "      <td>Aged</td>\n",
       "      <td>Female</td>\n",
       "      <td>1.0</td>\n",
       "      <td>1.000000</td>\n",
       "    </tr>\n",
       "    <tr>\n",
       "      <th>664</th>\n",
       "      <td>Aged</td>\n",
       "      <td>Male</td>\n",
       "      <td>1.0</td>\n",
       "      <td>0</td>\n",
       "      <td>Aged</td>\n",
       "      <td>Male</td>\n",
       "      <td>1.0</td>\n",
       "      <td>0.996000</td>\n",
       "    </tr>\n",
       "    <tr>\n",
       "      <th>696</th>\n",
       "      <td>Aged</td>\n",
       "      <td>Female</td>\n",
       "      <td>0.0</td>\n",
       "      <td>1</td>\n",
       "      <td>Aged</td>\n",
       "      <td>Male</td>\n",
       "      <td>0.0</td>\n",
       "      <td>0.988333</td>\n",
       "    </tr>\n",
       "    <tr>\n",
       "      <th>725</th>\n",
       "      <td>Aged</td>\n",
       "      <td>Female</td>\n",
       "      <td>0.0</td>\n",
       "      <td>1</td>\n",
       "      <td>Aged</td>\n",
       "      <td>Male</td>\n",
       "      <td>0.0</td>\n",
       "      <td>0.997500</td>\n",
       "    </tr>\n",
       "    <tr>\n",
       "      <th>993</th>\n",
       "      <td>Young</td>\n",
       "      <td>Male</td>\n",
       "      <td>0.0</td>\n",
       "      <td>1</td>\n",
       "      <td>Young</td>\n",
       "      <td>Male</td>\n",
       "      <td>0.0</td>\n",
       "      <td>0.995500</td>\n",
       "    </tr>\n",
       "    <tr>\n",
       "      <th>1042</th>\n",
       "      <td>Aged</td>\n",
       "      <td>Male</td>\n",
       "      <td>0.0</td>\n",
       "      <td>1</td>\n",
       "      <td>Young</td>\n",
       "      <td>Male</td>\n",
       "      <td>0.0</td>\n",
       "      <td>1.000000</td>\n",
       "    </tr>\n",
       "    <tr>\n",
       "      <th>1144</th>\n",
       "      <td>Aged</td>\n",
       "      <td>Male</td>\n",
       "      <td>1.0</td>\n",
       "      <td>0</td>\n",
       "      <td>Young</td>\n",
       "      <td>Female</td>\n",
       "      <td>1.0</td>\n",
       "      <td>0.984167</td>\n",
       "    </tr>\n",
       "    <tr>\n",
       "      <th>1317</th>\n",
       "      <td>Young</td>\n",
       "      <td>Male</td>\n",
       "      <td>0.0</td>\n",
       "      <td>1</td>\n",
       "      <td>Aged</td>\n",
       "      <td>Female</td>\n",
       "      <td>0.0</td>\n",
       "      <td>0.982500</td>\n",
       "    </tr>\n",
       "    <tr>\n",
       "      <th>1369</th>\n",
       "      <td>Aged</td>\n",
       "      <td>Female</td>\n",
       "      <td>0.0</td>\n",
       "      <td>1</td>\n",
       "      <td>Young</td>\n",
       "      <td>Female</td>\n",
       "      <td>0.0</td>\n",
       "      <td>0.996071</td>\n",
       "    </tr>\n",
       "    <tr>\n",
       "      <th>1581</th>\n",
       "      <td>Young</td>\n",
       "      <td>Male</td>\n",
       "      <td>0.0</td>\n",
       "      <td>1</td>\n",
       "      <td>Young</td>\n",
       "      <td>Male</td>\n",
       "      <td>0.0</td>\n",
       "      <td>1.000000</td>\n",
       "    </tr>\n",
       "    <tr>\n",
       "      <th>1605</th>\n",
       "      <td>Aged</td>\n",
       "      <td>Male</td>\n",
       "      <td>0.0</td>\n",
       "      <td>1</td>\n",
       "      <td>Aged</td>\n",
       "      <td>Male</td>\n",
       "      <td>0.0</td>\n",
       "      <td>0.986667</td>\n",
       "    </tr>\n",
       "    <tr>\n",
       "      <th>1621</th>\n",
       "      <td>Aged</td>\n",
       "      <td>Male</td>\n",
       "      <td>0.0</td>\n",
       "      <td>1</td>\n",
       "      <td>Aged</td>\n",
       "      <td>Male</td>\n",
       "      <td>0.0</td>\n",
       "      <td>1.000000</td>\n",
       "    </tr>\n",
       "    <tr>\n",
       "      <th>1889</th>\n",
       "      <td>Young</td>\n",
       "      <td>Male</td>\n",
       "      <td>0.0</td>\n",
       "      <td>1</td>\n",
       "      <td>Young</td>\n",
       "      <td>Female</td>\n",
       "      <td>0.0</td>\n",
       "      <td>0.990000</td>\n",
       "    </tr>\n",
       "    <tr>\n",
       "      <th>1912</th>\n",
       "      <td>Young</td>\n",
       "      <td>Male</td>\n",
       "      <td>0.0</td>\n",
       "      <td>1</td>\n",
       "      <td>Aged</td>\n",
       "      <td>Male</td>\n",
       "      <td>0.0</td>\n",
       "      <td>1.000000</td>\n",
       "    </tr>\n",
       "    <tr>\n",
       "      <th>1970</th>\n",
       "      <td>Aged</td>\n",
       "      <td>Male</td>\n",
       "      <td>1.0</td>\n",
       "      <td>0</td>\n",
       "      <td>Aged</td>\n",
       "      <td>Male</td>\n",
       "      <td>1.0</td>\n",
       "      <td>0.983333</td>\n",
       "    </tr>\n",
       "    <tr>\n",
       "      <th>2004</th>\n",
       "      <td>Young</td>\n",
       "      <td>Male</td>\n",
       "      <td>0.0</td>\n",
       "      <td>1</td>\n",
       "      <td>Young</td>\n",
       "      <td>Male</td>\n",
       "      <td>0.0</td>\n",
       "      <td>1.000000</td>\n",
       "    </tr>\n",
       "    <tr>\n",
       "      <th>2006</th>\n",
       "      <td>Aged</td>\n",
       "      <td>Male</td>\n",
       "      <td>0.0</td>\n",
       "      <td>1</td>\n",
       "      <td>Aged</td>\n",
       "      <td>Male</td>\n",
       "      <td>0.0</td>\n",
       "      <td>0.997500</td>\n",
       "    </tr>\n",
       "    <tr>\n",
       "      <th>2029</th>\n",
       "      <td>Aged</td>\n",
       "      <td>Male</td>\n",
       "      <td>0.0</td>\n",
       "      <td>1</td>\n",
       "      <td>Aged</td>\n",
       "      <td>Male</td>\n",
       "      <td>0.0</td>\n",
       "      <td>1.000000</td>\n",
       "    </tr>\n",
       "    <tr>\n",
       "      <th>2034</th>\n",
       "      <td>Aged</td>\n",
       "      <td>Female</td>\n",
       "      <td>0.0</td>\n",
       "      <td>1</td>\n",
       "      <td>Aged</td>\n",
       "      <td>Female</td>\n",
       "      <td>0.0</td>\n",
       "      <td>0.990000</td>\n",
       "    </tr>\n",
       "    <tr>\n",
       "      <th>2053</th>\n",
       "      <td>Young</td>\n",
       "      <td>Male</td>\n",
       "      <td>0.0</td>\n",
       "      <td>1</td>\n",
       "      <td>Aged</td>\n",
       "      <td>Female</td>\n",
       "      <td>0.0</td>\n",
       "      <td>1.000000</td>\n",
       "    </tr>\n",
       "    <tr>\n",
       "      <th>2146</th>\n",
       "      <td>Aged</td>\n",
       "      <td>Female</td>\n",
       "      <td>0.0</td>\n",
       "      <td>1</td>\n",
       "      <td>Aged</td>\n",
       "      <td>Female</td>\n",
       "      <td>0.0</td>\n",
       "      <td>1.000000</td>\n",
       "    </tr>\n",
       "    <tr>\n",
       "      <th>2151</th>\n",
       "      <td>Aged</td>\n",
       "      <td>Male</td>\n",
       "      <td>0.0</td>\n",
       "      <td>1</td>\n",
       "      <td>Young</td>\n",
       "      <td>Male</td>\n",
       "      <td>0.0</td>\n",
       "      <td>1.000000</td>\n",
       "    </tr>\n",
       "    <tr>\n",
       "      <th>2337</th>\n",
       "      <td>Aged</td>\n",
       "      <td>Male</td>\n",
       "      <td>0.0</td>\n",
       "      <td>1</td>\n",
       "      <td>Aged</td>\n",
       "      <td>Male</td>\n",
       "      <td>0.0</td>\n",
       "      <td>1.000000</td>\n",
       "    </tr>\n",
       "    <tr>\n",
       "      <th>2447</th>\n",
       "      <td>Aged</td>\n",
       "      <td>Male</td>\n",
       "      <td>0.0</td>\n",
       "      <td>1</td>\n",
       "      <td>Aged</td>\n",
       "      <td>Female</td>\n",
       "      <td>0.0</td>\n",
       "      <td>0.990000</td>\n",
       "    </tr>\n",
       "    <tr>\n",
       "      <th>2461</th>\n",
       "      <td>Young</td>\n",
       "      <td>Male</td>\n",
       "      <td>1.0</td>\n",
       "      <td>0</td>\n",
       "      <td>Young</td>\n",
       "      <td>Female</td>\n",
       "      <td>1.0</td>\n",
       "      <td>1.000000</td>\n",
       "    </tr>\n",
       "    <tr>\n",
       "      <th>2511</th>\n",
       "      <td>Aged</td>\n",
       "      <td>Male</td>\n",
       "      <td>0.0</td>\n",
       "      <td>1</td>\n",
       "      <td>Aged</td>\n",
       "      <td>Male</td>\n",
       "      <td>0.0</td>\n",
       "      <td>1.000000</td>\n",
       "    </tr>\n",
       "    <tr>\n",
       "      <th>2642</th>\n",
       "      <td>Young</td>\n",
       "      <td>Female</td>\n",
       "      <td>0.0</td>\n",
       "      <td>1</td>\n",
       "      <td>Young</td>\n",
       "      <td>Female</td>\n",
       "      <td>0.0</td>\n",
       "      <td>1.000000</td>\n",
       "    </tr>\n",
       "    <tr>\n",
       "      <th>2810</th>\n",
       "      <td>Aged</td>\n",
       "      <td>Male</td>\n",
       "      <td>0.0</td>\n",
       "      <td>1</td>\n",
       "      <td>Aged</td>\n",
       "      <td>Female</td>\n",
       "      <td>0.0</td>\n",
       "      <td>1.000000</td>\n",
       "    </tr>\n",
       "    <tr>\n",
       "      <th>2862</th>\n",
       "      <td>Aged</td>\n",
       "      <td>Male</td>\n",
       "      <td>0.0</td>\n",
       "      <td>1</td>\n",
       "      <td>Aged</td>\n",
       "      <td>Male</td>\n",
       "      <td>0.0</td>\n",
       "      <td>1.000000</td>\n",
       "    </tr>\n",
       "    <tr>\n",
       "      <th>2877</th>\n",
       "      <td>Aged</td>\n",
       "      <td>Female</td>\n",
       "      <td>0.0</td>\n",
       "      <td>1</td>\n",
       "      <td>Young</td>\n",
       "      <td>Female</td>\n",
       "      <td>0.0</td>\n",
       "      <td>1.000000</td>\n",
       "    </tr>\n",
       "    <tr>\n",
       "      <th>2927</th>\n",
       "      <td>Young</td>\n",
       "      <td>Female</td>\n",
       "      <td>0.0</td>\n",
       "      <td>1</td>\n",
       "      <td>Young</td>\n",
       "      <td>Female</td>\n",
       "      <td>0.0</td>\n",
       "      <td>0.990000</td>\n",
       "    </tr>\n",
       "    <tr>\n",
       "      <th>2969</th>\n",
       "      <td>Young</td>\n",
       "      <td>Male</td>\n",
       "      <td>0.0</td>\n",
       "      <td>0</td>\n",
       "      <td>Aged</td>\n",
       "      <td>Male</td>\n",
       "      <td>1.0</td>\n",
       "      <td>0.990000</td>\n",
       "    </tr>\n",
       "    <tr>\n",
       "      <th>3008</th>\n",
       "      <td>Aged</td>\n",
       "      <td>Male</td>\n",
       "      <td>0.0</td>\n",
       "      <td>1</td>\n",
       "      <td>Aged</td>\n",
       "      <td>Male</td>\n",
       "      <td>0.0</td>\n",
       "      <td>1.000000</td>\n",
       "    </tr>\n",
       "    <tr>\n",
       "      <th>3533</th>\n",
       "      <td>Aged</td>\n",
       "      <td>Male</td>\n",
       "      <td>0.0</td>\n",
       "      <td>1</td>\n",
       "      <td>Aged</td>\n",
       "      <td>Male</td>\n",
       "      <td>0.0</td>\n",
       "      <td>0.986317</td>\n",
       "    </tr>\n",
       "    <tr>\n",
       "      <th>3762</th>\n",
       "      <td>Aged</td>\n",
       "      <td>Female</td>\n",
       "      <td>0.0</td>\n",
       "      <td>1</td>\n",
       "      <td>Young</td>\n",
       "      <td>Female</td>\n",
       "      <td>0.0</td>\n",
       "      <td>0.995000</td>\n",
       "    </tr>\n",
       "    <tr>\n",
       "      <th>3787</th>\n",
       "      <td>Aged</td>\n",
       "      <td>Male</td>\n",
       "      <td>1.0</td>\n",
       "      <td>0</td>\n",
       "      <td>Aged</td>\n",
       "      <td>Male</td>\n",
       "      <td>1.0</td>\n",
       "      <td>0.980714</td>\n",
       "    </tr>\n",
       "    <tr>\n",
       "      <th>3909</th>\n",
       "      <td>Aged</td>\n",
       "      <td>Male</td>\n",
       "      <td>0.0</td>\n",
       "      <td>1</td>\n",
       "      <td>Aged</td>\n",
       "      <td>Male</td>\n",
       "      <td>0.0</td>\n",
       "      <td>0.990000</td>\n",
       "    </tr>\n",
       "    <tr>\n",
       "      <th>3977</th>\n",
       "      <td>Aged</td>\n",
       "      <td>Male</td>\n",
       "      <td>0.0</td>\n",
       "      <td>1</td>\n",
       "      <td>Young</td>\n",
       "      <td>Male</td>\n",
       "      <td>0.0</td>\n",
       "      <td>0.985662</td>\n",
       "    </tr>\n",
       "    <tr>\n",
       "      <th>4099</th>\n",
       "      <td>Aged</td>\n",
       "      <td>Male</td>\n",
       "      <td>1.0</td>\n",
       "      <td>0</td>\n",
       "      <td>Aged</td>\n",
       "      <td>Male</td>\n",
       "      <td>1.0</td>\n",
       "      <td>0.990000</td>\n",
       "    </tr>\n",
       "    <tr>\n",
       "      <th>4109</th>\n",
       "      <td>Aged</td>\n",
       "      <td>Male</td>\n",
       "      <td>0.0</td>\n",
       "      <td>1</td>\n",
       "      <td>Young</td>\n",
       "      <td>Male</td>\n",
       "      <td>0.0</td>\n",
       "      <td>0.990000</td>\n",
       "    </tr>\n",
       "    <tr>\n",
       "      <th>4150</th>\n",
       "      <td>Aged</td>\n",
       "      <td>Female</td>\n",
       "      <td>0.0</td>\n",
       "      <td>1</td>\n",
       "      <td>Aged</td>\n",
       "      <td>Female</td>\n",
       "      <td>0.0</td>\n",
       "      <td>0.982333</td>\n",
       "    </tr>\n",
       "    <tr>\n",
       "      <th>4206</th>\n",
       "      <td>Aged</td>\n",
       "      <td>Male</td>\n",
       "      <td>0.0</td>\n",
       "      <td>1</td>\n",
       "      <td>Aged</td>\n",
       "      <td>Male</td>\n",
       "      <td>0.0</td>\n",
       "      <td>1.000000</td>\n",
       "    </tr>\n",
       "    <tr>\n",
       "      <th>4376</th>\n",
       "      <td>Young</td>\n",
       "      <td>Male</td>\n",
       "      <td>0.0</td>\n",
       "      <td>1</td>\n",
       "      <td>Young</td>\n",
       "      <td>Male</td>\n",
       "      <td>0.0</td>\n",
       "      <td>0.997778</td>\n",
       "    </tr>\n",
       "    <tr>\n",
       "      <th>4378</th>\n",
       "      <td>Young</td>\n",
       "      <td>Male</td>\n",
       "      <td>1.0</td>\n",
       "      <td>0</td>\n",
       "      <td>Young</td>\n",
       "      <td>Female</td>\n",
       "      <td>1.0</td>\n",
       "      <td>1.000000</td>\n",
       "    </tr>\n",
       "    <tr>\n",
       "      <th>4404</th>\n",
       "      <td>Aged</td>\n",
       "      <td>Male</td>\n",
       "      <td>1.0</td>\n",
       "      <td>0</td>\n",
       "      <td>Young</td>\n",
       "      <td>Female</td>\n",
       "      <td>1.0</td>\n",
       "      <td>0.990000</td>\n",
       "    </tr>\n",
       "  </tbody>\n",
       "</table>\n",
       "</div>"
      ],
      "text/plain": [
       "        Age     Sex  prediction  label Age_private Sex_private  \\\n",
       "96     Aged    Male         0.0      1        Aged        Male   \n",
       "363   Young  Female         0.0      1        Aged        Male   \n",
       "438    Aged    Male         1.0      0        Aged      Female   \n",
       "663   Young    Male         1.0      0        Aged      Female   \n",
       "664    Aged    Male         1.0      0        Aged        Male   \n",
       "696    Aged  Female         0.0      1        Aged        Male   \n",
       "725    Aged  Female         0.0      1        Aged        Male   \n",
       "993   Young    Male         0.0      1       Young        Male   \n",
       "1042   Aged    Male         0.0      1       Young        Male   \n",
       "1144   Aged    Male         1.0      0       Young      Female   \n",
       "1317  Young    Male         0.0      1        Aged      Female   \n",
       "1369   Aged  Female         0.0      1       Young      Female   \n",
       "1581  Young    Male         0.0      1       Young        Male   \n",
       "1605   Aged    Male         0.0      1        Aged        Male   \n",
       "1621   Aged    Male         0.0      1        Aged        Male   \n",
       "1889  Young    Male         0.0      1       Young      Female   \n",
       "1912  Young    Male         0.0      1        Aged        Male   \n",
       "1970   Aged    Male         1.0      0        Aged        Male   \n",
       "2004  Young    Male         0.0      1       Young        Male   \n",
       "2006   Aged    Male         0.0      1        Aged        Male   \n",
       "2029   Aged    Male         0.0      1        Aged        Male   \n",
       "2034   Aged  Female         0.0      1        Aged      Female   \n",
       "2053  Young    Male         0.0      1        Aged      Female   \n",
       "2146   Aged  Female         0.0      1        Aged      Female   \n",
       "2151   Aged    Male         0.0      1       Young        Male   \n",
       "2337   Aged    Male         0.0      1        Aged        Male   \n",
       "2447   Aged    Male         0.0      1        Aged      Female   \n",
       "2461  Young    Male         1.0      0       Young      Female   \n",
       "2511   Aged    Male         0.0      1        Aged        Male   \n",
       "2642  Young  Female         0.0      1       Young      Female   \n",
       "2810   Aged    Male         0.0      1        Aged      Female   \n",
       "2862   Aged    Male         0.0      1        Aged        Male   \n",
       "2877   Aged  Female         0.0      1       Young      Female   \n",
       "2927  Young  Female         0.0      1       Young      Female   \n",
       "2969  Young    Male         0.0      0        Aged        Male   \n",
       "3008   Aged    Male         0.0      1        Aged        Male   \n",
       "3533   Aged    Male         0.0      1        Aged        Male   \n",
       "3762   Aged  Female         0.0      1       Young      Female   \n",
       "3787   Aged    Male         1.0      0        Aged        Male   \n",
       "3909   Aged    Male         0.0      1        Aged        Male   \n",
       "3977   Aged    Male         0.0      1       Young        Male   \n",
       "4099   Aged    Male         1.0      0        Aged        Male   \n",
       "4109   Aged    Male         0.0      1       Young        Male   \n",
       "4150   Aged  Female         0.0      1        Aged      Female   \n",
       "4206   Aged    Male         0.0      1        Aged        Male   \n",
       "4376  Young    Male         0.0      1       Young        Male   \n",
       "4378  Young    Male         1.0      0       Young      Female   \n",
       "4404   Aged    Male         1.0      0       Young      Female   \n",
       "\n",
       "      prediction_private  confidence  \n",
       "96                   0.0    1.000000  \n",
       "363                  0.0    1.000000  \n",
       "438                  1.0    0.990000  \n",
       "663                  1.0    1.000000  \n",
       "664                  1.0    0.996000  \n",
       "696                  0.0    0.988333  \n",
       "725                  0.0    0.997500  \n",
       "993                  0.0    0.995500  \n",
       "1042                 0.0    1.000000  \n",
       "1144                 1.0    0.984167  \n",
       "1317                 0.0    0.982500  \n",
       "1369                 0.0    0.996071  \n",
       "1581                 0.0    1.000000  \n",
       "1605                 0.0    0.986667  \n",
       "1621                 0.0    1.000000  \n",
       "1889                 0.0    0.990000  \n",
       "1912                 0.0    1.000000  \n",
       "1970                 1.0    0.983333  \n",
       "2004                 0.0    1.000000  \n",
       "2006                 0.0    0.997500  \n",
       "2029                 0.0    1.000000  \n",
       "2034                 0.0    0.990000  \n",
       "2053                 0.0    1.000000  \n",
       "2146                 0.0    1.000000  \n",
       "2151                 0.0    1.000000  \n",
       "2337                 0.0    1.000000  \n",
       "2447                 0.0    0.990000  \n",
       "2461                 1.0    1.000000  \n",
       "2511                 0.0    1.000000  \n",
       "2642                 0.0    1.000000  \n",
       "2810                 0.0    1.000000  \n",
       "2862                 0.0    1.000000  \n",
       "2877                 0.0    1.000000  \n",
       "2927                 0.0    0.990000  \n",
       "2969                 1.0    0.990000  \n",
       "3008                 0.0    1.000000  \n",
       "3533                 0.0    0.986317  \n",
       "3762                 0.0    0.995000  \n",
       "3787                 1.0    0.980714  \n",
       "3909                 0.0    0.990000  \n",
       "3977                 0.0    0.985662  \n",
       "4099                 1.0    0.990000  \n",
       "4109                 0.0    0.990000  \n",
       "4150                 0.0    0.982333  \n",
       "4206                 0.0    1.000000  \n",
       "4376                 0.0    0.997778  \n",
       "4378                 1.0    1.000000  \n",
       "4404                 1.0    0.990000  "
      ]
     },
     "execution_count": 88,
     "metadata": {},
     "output_type": "execute_result"
    }
   ],
   "source": [
    "# Analyze differences\n",
    "sensitive_comparison = pd.concat([original_sensitive, noisy_sensitive], axis=1)\n",
    "print(\"Comparison of original vs. noisy sensitive attributes for high confidence errors:\")\n",
    "sensitive_comparison"
   ]
  },
  {
   "cell_type": "code",
   "execution_count": 89,
   "id": "27de3486-6994-4d34-8bb5-0c44625b30df",
   "metadata": {},
   "outputs": [
    {
     "name": "stdout",
     "output_type": "stream",
     "text": [
      "There are 23 instances where noisy values occur in the test data\n"
     ]
    },
    {
     "data": {
      "text/html": [
       "<div>\n",
       "<style scoped>\n",
       "    .dataframe tbody tr th:only-of-type {\n",
       "        vertical-align: middle;\n",
       "    }\n",
       "\n",
       "    .dataframe tbody tr th {\n",
       "        vertical-align: top;\n",
       "    }\n",
       "\n",
       "    .dataframe thead th {\n",
       "        text-align: right;\n",
       "    }\n",
       "</style>\n",
       "<table border=\"1\" class=\"dataframe\">\n",
       "  <thead>\n",
       "    <tr style=\"text-align: right;\">\n",
       "      <th></th>\n",
       "      <th>Age</th>\n",
       "      <th>Sex</th>\n",
       "      <th>prediction</th>\n",
       "      <th>label</th>\n",
       "      <th>Age_private</th>\n",
       "      <th>Sex_private</th>\n",
       "      <th>prediction_private</th>\n",
       "      <th>confidence</th>\n",
       "    </tr>\n",
       "  </thead>\n",
       "  <tbody>\n",
       "    <tr>\n",
       "      <th>363</th>\n",
       "      <td>Young</td>\n",
       "      <td>Female</td>\n",
       "      <td>0.0</td>\n",
       "      <td>1</td>\n",
       "      <td>Aged</td>\n",
       "      <td>Male</td>\n",
       "      <td>0.0</td>\n",
       "      <td>1.000000</td>\n",
       "    </tr>\n",
       "    <tr>\n",
       "      <th>438</th>\n",
       "      <td>Aged</td>\n",
       "      <td>Male</td>\n",
       "      <td>1.0</td>\n",
       "      <td>0</td>\n",
       "      <td>Aged</td>\n",
       "      <td>Female</td>\n",
       "      <td>1.0</td>\n",
       "      <td>0.990000</td>\n",
       "    </tr>\n",
       "    <tr>\n",
       "      <th>663</th>\n",
       "      <td>Young</td>\n",
       "      <td>Male</td>\n",
       "      <td>1.0</td>\n",
       "      <td>0</td>\n",
       "      <td>Aged</td>\n",
       "      <td>Female</td>\n",
       "      <td>1.0</td>\n",
       "      <td>1.000000</td>\n",
       "    </tr>\n",
       "    <tr>\n",
       "      <th>696</th>\n",
       "      <td>Aged</td>\n",
       "      <td>Female</td>\n",
       "      <td>0.0</td>\n",
       "      <td>1</td>\n",
       "      <td>Aged</td>\n",
       "      <td>Male</td>\n",
       "      <td>0.0</td>\n",
       "      <td>0.988333</td>\n",
       "    </tr>\n",
       "    <tr>\n",
       "      <th>725</th>\n",
       "      <td>Aged</td>\n",
       "      <td>Female</td>\n",
       "      <td>0.0</td>\n",
       "      <td>1</td>\n",
       "      <td>Aged</td>\n",
       "      <td>Male</td>\n",
       "      <td>0.0</td>\n",
       "      <td>0.997500</td>\n",
       "    </tr>\n",
       "    <tr>\n",
       "      <th>1042</th>\n",
       "      <td>Aged</td>\n",
       "      <td>Male</td>\n",
       "      <td>0.0</td>\n",
       "      <td>1</td>\n",
       "      <td>Young</td>\n",
       "      <td>Male</td>\n",
       "      <td>0.0</td>\n",
       "      <td>1.000000</td>\n",
       "    </tr>\n",
       "    <tr>\n",
       "      <th>1144</th>\n",
       "      <td>Aged</td>\n",
       "      <td>Male</td>\n",
       "      <td>1.0</td>\n",
       "      <td>0</td>\n",
       "      <td>Young</td>\n",
       "      <td>Female</td>\n",
       "      <td>1.0</td>\n",
       "      <td>0.984167</td>\n",
       "    </tr>\n",
       "    <tr>\n",
       "      <th>1317</th>\n",
       "      <td>Young</td>\n",
       "      <td>Male</td>\n",
       "      <td>0.0</td>\n",
       "      <td>1</td>\n",
       "      <td>Aged</td>\n",
       "      <td>Female</td>\n",
       "      <td>0.0</td>\n",
       "      <td>0.982500</td>\n",
       "    </tr>\n",
       "    <tr>\n",
       "      <th>1369</th>\n",
       "      <td>Aged</td>\n",
       "      <td>Female</td>\n",
       "      <td>0.0</td>\n",
       "      <td>1</td>\n",
       "      <td>Young</td>\n",
       "      <td>Female</td>\n",
       "      <td>0.0</td>\n",
       "      <td>0.996071</td>\n",
       "    </tr>\n",
       "    <tr>\n",
       "      <th>1889</th>\n",
       "      <td>Young</td>\n",
       "      <td>Male</td>\n",
       "      <td>0.0</td>\n",
       "      <td>1</td>\n",
       "      <td>Young</td>\n",
       "      <td>Female</td>\n",
       "      <td>0.0</td>\n",
       "      <td>0.990000</td>\n",
       "    </tr>\n",
       "    <tr>\n",
       "      <th>1912</th>\n",
       "      <td>Young</td>\n",
       "      <td>Male</td>\n",
       "      <td>0.0</td>\n",
       "      <td>1</td>\n",
       "      <td>Aged</td>\n",
       "      <td>Male</td>\n",
       "      <td>0.0</td>\n",
       "      <td>1.000000</td>\n",
       "    </tr>\n",
       "    <tr>\n",
       "      <th>2053</th>\n",
       "      <td>Young</td>\n",
       "      <td>Male</td>\n",
       "      <td>0.0</td>\n",
       "      <td>1</td>\n",
       "      <td>Aged</td>\n",
       "      <td>Female</td>\n",
       "      <td>0.0</td>\n",
       "      <td>1.000000</td>\n",
       "    </tr>\n",
       "    <tr>\n",
       "      <th>2151</th>\n",
       "      <td>Aged</td>\n",
       "      <td>Male</td>\n",
       "      <td>0.0</td>\n",
       "      <td>1</td>\n",
       "      <td>Young</td>\n",
       "      <td>Male</td>\n",
       "      <td>0.0</td>\n",
       "      <td>1.000000</td>\n",
       "    </tr>\n",
       "    <tr>\n",
       "      <th>2447</th>\n",
       "      <td>Aged</td>\n",
       "      <td>Male</td>\n",
       "      <td>0.0</td>\n",
       "      <td>1</td>\n",
       "      <td>Aged</td>\n",
       "      <td>Female</td>\n",
       "      <td>0.0</td>\n",
       "      <td>0.990000</td>\n",
       "    </tr>\n",
       "    <tr>\n",
       "      <th>2461</th>\n",
       "      <td>Young</td>\n",
       "      <td>Male</td>\n",
       "      <td>1.0</td>\n",
       "      <td>0</td>\n",
       "      <td>Young</td>\n",
       "      <td>Female</td>\n",
       "      <td>1.0</td>\n",
       "      <td>1.000000</td>\n",
       "    </tr>\n",
       "    <tr>\n",
       "      <th>2810</th>\n",
       "      <td>Aged</td>\n",
       "      <td>Male</td>\n",
       "      <td>0.0</td>\n",
       "      <td>1</td>\n",
       "      <td>Aged</td>\n",
       "      <td>Female</td>\n",
       "      <td>0.0</td>\n",
       "      <td>1.000000</td>\n",
       "    </tr>\n",
       "    <tr>\n",
       "      <th>2877</th>\n",
       "      <td>Aged</td>\n",
       "      <td>Female</td>\n",
       "      <td>0.0</td>\n",
       "      <td>1</td>\n",
       "      <td>Young</td>\n",
       "      <td>Female</td>\n",
       "      <td>0.0</td>\n",
       "      <td>1.000000</td>\n",
       "    </tr>\n",
       "    <tr>\n",
       "      <th>2969</th>\n",
       "      <td>Young</td>\n",
       "      <td>Male</td>\n",
       "      <td>0.0</td>\n",
       "      <td>0</td>\n",
       "      <td>Aged</td>\n",
       "      <td>Male</td>\n",
       "      <td>1.0</td>\n",
       "      <td>0.990000</td>\n",
       "    </tr>\n",
       "    <tr>\n",
       "      <th>3762</th>\n",
       "      <td>Aged</td>\n",
       "      <td>Female</td>\n",
       "      <td>0.0</td>\n",
       "      <td>1</td>\n",
       "      <td>Young</td>\n",
       "      <td>Female</td>\n",
       "      <td>0.0</td>\n",
       "      <td>0.995000</td>\n",
       "    </tr>\n",
       "    <tr>\n",
       "      <th>3977</th>\n",
       "      <td>Aged</td>\n",
       "      <td>Male</td>\n",
       "      <td>0.0</td>\n",
       "      <td>1</td>\n",
       "      <td>Young</td>\n",
       "      <td>Male</td>\n",
       "      <td>0.0</td>\n",
       "      <td>0.985662</td>\n",
       "    </tr>\n",
       "    <tr>\n",
       "      <th>4109</th>\n",
       "      <td>Aged</td>\n",
       "      <td>Male</td>\n",
       "      <td>0.0</td>\n",
       "      <td>1</td>\n",
       "      <td>Young</td>\n",
       "      <td>Male</td>\n",
       "      <td>0.0</td>\n",
       "      <td>0.990000</td>\n",
       "    </tr>\n",
       "    <tr>\n",
       "      <th>4378</th>\n",
       "      <td>Young</td>\n",
       "      <td>Male</td>\n",
       "      <td>1.0</td>\n",
       "      <td>0</td>\n",
       "      <td>Young</td>\n",
       "      <td>Female</td>\n",
       "      <td>1.0</td>\n",
       "      <td>1.000000</td>\n",
       "    </tr>\n",
       "    <tr>\n",
       "      <th>4404</th>\n",
       "      <td>Aged</td>\n",
       "      <td>Male</td>\n",
       "      <td>1.0</td>\n",
       "      <td>0</td>\n",
       "      <td>Young</td>\n",
       "      <td>Female</td>\n",
       "      <td>1.0</td>\n",
       "      <td>0.990000</td>\n",
       "    </tr>\n",
       "  </tbody>\n",
       "</table>\n",
       "</div>"
      ],
      "text/plain": [
       "        Age     Sex  prediction  label Age_private Sex_private  \\\n",
       "363   Young  Female         0.0      1        Aged        Male   \n",
       "438    Aged    Male         1.0      0        Aged      Female   \n",
       "663   Young    Male         1.0      0        Aged      Female   \n",
       "696    Aged  Female         0.0      1        Aged        Male   \n",
       "725    Aged  Female         0.0      1        Aged        Male   \n",
       "1042   Aged    Male         0.0      1       Young        Male   \n",
       "1144   Aged    Male         1.0      0       Young      Female   \n",
       "1317  Young    Male         0.0      1        Aged      Female   \n",
       "1369   Aged  Female         0.0      1       Young      Female   \n",
       "1889  Young    Male         0.0      1       Young      Female   \n",
       "1912  Young    Male         0.0      1        Aged        Male   \n",
       "2053  Young    Male         0.0      1        Aged      Female   \n",
       "2151   Aged    Male         0.0      1       Young        Male   \n",
       "2447   Aged    Male         0.0      1        Aged      Female   \n",
       "2461  Young    Male         1.0      0       Young      Female   \n",
       "2810   Aged    Male         0.0      1        Aged      Female   \n",
       "2877   Aged  Female         0.0      1       Young      Female   \n",
       "2969  Young    Male         0.0      0        Aged        Male   \n",
       "3762   Aged  Female         0.0      1       Young      Female   \n",
       "3977   Aged    Male         0.0      1       Young        Male   \n",
       "4109   Aged    Male         0.0      1       Young        Male   \n",
       "4378  Young    Male         1.0      0       Young      Female   \n",
       "4404   Aged    Male         1.0      0       Young      Female   \n",
       "\n",
       "      prediction_private  confidence  \n",
       "363                  0.0    1.000000  \n",
       "438                  1.0    0.990000  \n",
       "663                  1.0    1.000000  \n",
       "696                  0.0    0.988333  \n",
       "725                  0.0    0.997500  \n",
       "1042                 0.0    1.000000  \n",
       "1144                 1.0    0.984167  \n",
       "1317                 0.0    0.982500  \n",
       "1369                 0.0    0.996071  \n",
       "1889                 0.0    0.990000  \n",
       "1912                 0.0    1.000000  \n",
       "2053                 0.0    1.000000  \n",
       "2151                 0.0    1.000000  \n",
       "2447                 0.0    0.990000  \n",
       "2461                 1.0    1.000000  \n",
       "2810                 0.0    1.000000  \n",
       "2877                 0.0    1.000000  \n",
       "2969                 1.0    0.990000  \n",
       "3762                 0.0    0.995000  \n",
       "3977                 0.0    0.985662  \n",
       "4109                 0.0    0.990000  \n",
       "4378                 1.0    1.000000  \n",
       "4404                 1.0    0.990000  "
      ]
     },
     "execution_count": 89,
     "metadata": {},
     "output_type": "execute_result"
    }
   ],
   "source": [
    "# get instances where noisy values occur\n",
    "noisy_values = sensitive_comparison[(sensitive_comparison['Age'] != sensitive_comparison['Age_private']) | (sensitive_comparison['Sex'] != sensitive_comparison['Sex_private'])]\n",
    "print(f'There are {noisy_values.shape[0]} instances where noisy values occur in the test data')\n",
    "noisy_values"
   ]
  },
  {
   "cell_type": "code",
   "execution_count": 90,
   "id": "80b5abdc-8ed6-4951-b58a-6c17338551d8",
   "metadata": {
    "scrolled": true
   },
   "outputs": [
    {
     "name": "stdout",
     "output_type": "stream",
     "text": [
      "There is 1 instance where the predictions using the private classifier differs from the original classifier\n"
     ]
    },
    {
     "data": {
      "text/html": [
       "<div>\n",
       "<style scoped>\n",
       "    .dataframe tbody tr th:only-of-type {\n",
       "        vertical-align: middle;\n",
       "    }\n",
       "\n",
       "    .dataframe tbody tr th {\n",
       "        vertical-align: top;\n",
       "    }\n",
       "\n",
       "    .dataframe thead th {\n",
       "        text-align: right;\n",
       "    }\n",
       "</style>\n",
       "<table border=\"1\" class=\"dataframe\">\n",
       "  <thead>\n",
       "    <tr style=\"text-align: right;\">\n",
       "      <th></th>\n",
       "      <th>Age</th>\n",
       "      <th>Sex</th>\n",
       "      <th>prediction</th>\n",
       "      <th>label</th>\n",
       "      <th>Age_private</th>\n",
       "      <th>Sex_private</th>\n",
       "      <th>prediction_private</th>\n",
       "      <th>confidence</th>\n",
       "    </tr>\n",
       "  </thead>\n",
       "  <tbody>\n",
       "    <tr>\n",
       "      <th>2969</th>\n",
       "      <td>Young</td>\n",
       "      <td>Male</td>\n",
       "      <td>0.0</td>\n",
       "      <td>0</td>\n",
       "      <td>Aged</td>\n",
       "      <td>Male</td>\n",
       "      <td>1.0</td>\n",
       "      <td>0.99</td>\n",
       "    </tr>\n",
       "  </tbody>\n",
       "</table>\n",
       "</div>"
      ],
      "text/plain": [
       "        Age   Sex  prediction  label Age_private Sex_private  \\\n",
       "2969  Young  Male         0.0      0        Aged        Male   \n",
       "\n",
       "      prediction_private  confidence  \n",
       "2969                 1.0        0.99  "
      ]
     },
     "execution_count": 90,
     "metadata": {},
     "output_type": "execute_result"
    }
   ],
   "source": [
    "# get instances where the predictions for the private classifier and original classifier are different\n",
    "diff_pred = noisy_values[noisy_values['prediction'] != noisy_values['prediction_private']]\n",
    "print(f'There is {diff_pred.shape[0]} instance where the predictions using the private classifier differs from the original classifier')\n",
    "diff_pred "
   ]
  },
  {
   "cell_type": "markdown",
   "id": "edf45ad2-29b9-4b63-ab47-7398f306ddfa",
   "metadata": {},
   "source": [
    "Since there is only one instance where the predictions using the private classifier differ from the original classifier, we can conclude that the noisy values for Sex and Age are not responsible for the model being confident and wrong since they mostly return the same predicted value."
   ]
  },
  {
   "cell_type": "markdown",
   "id": "8701f6b1-1203-43de-bb98-3816791f1ce7",
   "metadata": {},
   "source": [
    "#### Investigating with a Reduced Confidence Threshold > 0.90"
   ]
  },
  {
   "cell_type": "code",
   "execution_count": 91,
   "id": "ee67ed29-89f6-4afe-a52d-32c89dccc08f",
   "metadata": {},
   "outputs": [
    {
     "name": "stdout",
     "output_type": "stream",
     "text": [
      "There are 118 instances where the model was wrong but had a confidence greater than 0.98\n",
      "Comparison of original vs. noisy sensitive attributes for high confidence errors:\n"
     ]
    },
    {
     "data": {
      "text/html": [
       "<div>\n",
       "<style scoped>\n",
       "    .dataframe tbody tr th:only-of-type {\n",
       "        vertical-align: middle;\n",
       "    }\n",
       "\n",
       "    .dataframe tbody tr th {\n",
       "        vertical-align: top;\n",
       "    }\n",
       "\n",
       "    .dataframe thead th {\n",
       "        text-align: right;\n",
       "    }\n",
       "</style>\n",
       "<table border=\"1\" class=\"dataframe\">\n",
       "  <thead>\n",
       "    <tr style=\"text-align: right;\">\n",
       "      <th></th>\n",
       "      <th>Age</th>\n",
       "      <th>Sex</th>\n",
       "      <th>prediction</th>\n",
       "      <th>label</th>\n",
       "      <th>Age_private</th>\n",
       "      <th>Sex_private</th>\n",
       "      <th>prediction_private</th>\n",
       "      <th>confidence</th>\n",
       "    </tr>\n",
       "  </thead>\n",
       "  <tbody>\n",
       "    <tr>\n",
       "      <th>34</th>\n",
       "      <td>Aged</td>\n",
       "      <td>Male</td>\n",
       "      <td>0.0</td>\n",
       "      <td>1</td>\n",
       "      <td>Aged</td>\n",
       "      <td>Female</td>\n",
       "      <td>0.0</td>\n",
       "      <td>0.973333</td>\n",
       "    </tr>\n",
       "    <tr>\n",
       "      <th>96</th>\n",
       "      <td>Aged</td>\n",
       "      <td>Male</td>\n",
       "      <td>0.0</td>\n",
       "      <td>1</td>\n",
       "      <td>Aged</td>\n",
       "      <td>Male</td>\n",
       "      <td>0.0</td>\n",
       "      <td>1.000000</td>\n",
       "    </tr>\n",
       "    <tr>\n",
       "      <th>119</th>\n",
       "      <td>Young</td>\n",
       "      <td>Male</td>\n",
       "      <td>1.0</td>\n",
       "      <td>0</td>\n",
       "      <td>Aged</td>\n",
       "      <td>Female</td>\n",
       "      <td>1.0</td>\n",
       "      <td>0.949905</td>\n",
       "    </tr>\n",
       "    <tr>\n",
       "      <th>125</th>\n",
       "      <td>Aged</td>\n",
       "      <td>Male</td>\n",
       "      <td>1.0</td>\n",
       "      <td>0</td>\n",
       "      <td>Aged</td>\n",
       "      <td>Male</td>\n",
       "      <td>1.0</td>\n",
       "      <td>0.916667</td>\n",
       "    </tr>\n",
       "    <tr>\n",
       "      <th>161</th>\n",
       "      <td>Aged</td>\n",
       "      <td>Female</td>\n",
       "      <td>0.0</td>\n",
       "      <td>1</td>\n",
       "      <td>Aged</td>\n",
       "      <td>Female</td>\n",
       "      <td>0.0</td>\n",
       "      <td>0.915287</td>\n",
       "    </tr>\n",
       "  </tbody>\n",
       "</table>\n",
       "</div>"
      ],
      "text/plain": [
       "       Age     Sex  prediction  label Age_private Sex_private  \\\n",
       "34    Aged    Male         0.0      1        Aged      Female   \n",
       "96    Aged    Male         0.0      1        Aged        Male   \n",
       "119  Young    Male         1.0      0        Aged      Female   \n",
       "125   Aged    Male         1.0      0        Aged        Male   \n",
       "161   Aged  Female         0.0      1        Aged      Female   \n",
       "\n",
       "     prediction_private  confidence  \n",
       "34                  0.0    0.973333  \n",
       "96                  0.0    1.000000  \n",
       "119                 1.0    0.949905  \n",
       "125                 1.0    0.916667  \n",
       "161                 0.0    0.915287  "
      ]
     },
     "execution_count": 91,
     "metadata": {},
     "output_type": "execute_result"
    }
   ],
   "source": [
    "# Identify high-confidence errors greater than 0.90\n",
    "high_confidence_errors_90 = test_df_private[\n",
    "    (test_df_private[\"label\"] != test_df_private[\"prediction\"]) &\n",
    "    (test_df_private[\"confidence\"] > 0.90)]\n",
    "\n",
    "print(f'There are {high_confidence_errors_90.shape[0]} instances where the model was wrong but had a confidence greater than 0.98')\n",
    "\n",
    "high_conf_idx_90 = high_confidence_errors_90.index\n",
    "\n",
    "# Compare original and noisy attributes for misclassified instances\n",
    "original_sensitive_90 = test_df.iloc[high_conf_idx_90][['Age', 'Sex', 'prediction', 'label']]\n",
    "noisy_sensitive_90 = high_confidence_errors_90[['Age', 'Sex', 'prediction', 'confidence']]\n",
    "noisy_sensitive_90.rename(columns={'prediction': 'prediction_private', 'Age':'Age_private', 'Sex':'Sex_private'}, inplace=True)\n",
    "\n",
    "# Analyze differences\n",
    "sensitive_comparison_90 = pd.concat([original_sensitive_90, noisy_sensitive_90], axis=1)\n",
    "print(\"Comparison of original vs. noisy sensitive attributes for high confidence errors:\")\n",
    "sensitive_comparison_90.head()"
   ]
  },
  {
   "cell_type": "code",
   "execution_count": 92,
   "id": "de6e159f-8c24-4cf9-b679-81c4dbd63a7d",
   "metadata": {},
   "outputs": [
    {
     "name": "stdout",
     "output_type": "stream",
     "text": [
      "There are 58 instances where noisy values occur in the test data\n",
      "There are 2 instances where the predictions using the private classifier differs from the original classifier\n"
     ]
    },
    {
     "data": {
      "text/html": [
       "<div>\n",
       "<style scoped>\n",
       "    .dataframe tbody tr th:only-of-type {\n",
       "        vertical-align: middle;\n",
       "    }\n",
       "\n",
       "    .dataframe tbody tr th {\n",
       "        vertical-align: top;\n",
       "    }\n",
       "\n",
       "    .dataframe thead th {\n",
       "        text-align: right;\n",
       "    }\n",
       "</style>\n",
       "<table border=\"1\" class=\"dataframe\">\n",
       "  <thead>\n",
       "    <tr style=\"text-align: right;\">\n",
       "      <th></th>\n",
       "      <th>Age</th>\n",
       "      <th>Sex</th>\n",
       "      <th>prediction</th>\n",
       "      <th>label</th>\n",
       "      <th>Age_private</th>\n",
       "      <th>Sex_private</th>\n",
       "      <th>prediction_private</th>\n",
       "      <th>confidence</th>\n",
       "    </tr>\n",
       "  </thead>\n",
       "  <tbody>\n",
       "    <tr>\n",
       "      <th>528</th>\n",
       "      <td>Young</td>\n",
       "      <td>Male</td>\n",
       "      <td>0.0</td>\n",
       "      <td>0</td>\n",
       "      <td>Aged</td>\n",
       "      <td>Male</td>\n",
       "      <td>1.0</td>\n",
       "      <td>0.902237</td>\n",
       "    </tr>\n",
       "    <tr>\n",
       "      <th>2969</th>\n",
       "      <td>Young</td>\n",
       "      <td>Male</td>\n",
       "      <td>0.0</td>\n",
       "      <td>0</td>\n",
       "      <td>Aged</td>\n",
       "      <td>Male</td>\n",
       "      <td>1.0</td>\n",
       "      <td>0.990000</td>\n",
       "    </tr>\n",
       "  </tbody>\n",
       "</table>\n",
       "</div>"
      ],
      "text/plain": [
       "        Age   Sex  prediction  label Age_private Sex_private  \\\n",
       "528   Young  Male         0.0      0        Aged        Male   \n",
       "2969  Young  Male         0.0      0        Aged        Male   \n",
       "\n",
       "      prediction_private  confidence  \n",
       "528                  1.0    0.902237  \n",
       "2969                 1.0    0.990000  "
      ]
     },
     "execution_count": 92,
     "metadata": {},
     "output_type": "execute_result"
    }
   ],
   "source": [
    "# get instances where noisy values occur\n",
    "noisy_values_90 = sensitive_comparison_90[(sensitive_comparison_90['Age'] != sensitive_comparison_90['Age_private'])\n",
    "            | (sensitive_comparison_90['Sex'] != sensitive_comparison_90['Sex_private'])]\n",
    "print(f'There are {noisy_values_90.shape[0]} instances where noisy values occur in the test data')\n",
    "\n",
    "# get instances where the predictions for the private classifier and original classifier are different\n",
    "diff_pred_90 = noisy_values_90[noisy_values_90['prediction'] != noisy_values_90['prediction_private']]\n",
    "print(f'There are {diff_pred_90.shape[0]} instances where the predictions using the private classifier differs from the original classifier')\n",
    "diff_pred_90"
   ]
  },
  {
   "cell_type": "markdown",
   "id": "f5c3c97c-c132-432a-aa7b-4ef2c04da2e2",
   "metadata": {},
   "source": [
    "Since there are only two instances where the predictions using the private classifier differ from the original classifier, we can conclude that the noisy values for Sex and Age are not significantly responsible for the model being confident and wrong since they mostly return the same predicted value."
   ]
  },
  {
   "cell_type": "markdown",
   "id": "1d8e93e3",
   "metadata": {},
   "source": [
    "### Explainability and LLMs\n",
    "create a natural language interface with SHAP explainability method"
   ]
  },
  {
   "cell_type": "code",
   "execution_count": null,
   "id": "32a50f76-4a49-407d-a2fb-a0de4e12c8b8",
   "metadata": {},
   "outputs": [],
   "source": [
    "import shap\n",
    "import requests\n",
    "import pandas as pd\n",
    "import numpy as np\n",
    "\n",
    "# Select test sample index\n",
    "test_index = 0  # Change this value to select a specific sample\n",
    "print(f\"Selected Test Sample Index: {test_index}\")\n",
    "\n",
    "# SHAP Explanation Section\n",
    "try:\n",
    "    # Use the transformed test sample\n",
    "    test_sample_transformed = test_private[test_index:test_index + 1]\n",
    "\n",
    "    # Convert transformed data to a DataFrame with column names\n",
    "    transformed_feature_names = transformer_private.get_feature_names()  # Use correct function from transformer\n",
    "    test_sample_transformed_df = pd.DataFrame(test_sample_transformed, columns=transformed_feature_names)\n",
    "    print(\"\\nTransformed Test Sample (Input to Model):\")\n",
    "    print(test_sample_transformed_df)\n",
    "\n",
    "    # Generate SHAP values using TreeExplainer\n",
    "    shap_explainer = shap.TreeExplainer(model_private)\n",
    "    shap_values = shap_explainer.shap_values(test_sample_transformed_df)\n",
    "    print(\"\\nSHAP Values Generated Successfully.\")\n",
    "\n",
    "    # Dynamically aggregate SHAP values based on original feature prefixes\n",
    "    shap_aggregated = {}\n",
    "    for feature in [\"Age\", \"Workclass\", \"Education\", \"Occupation\", \"Relationship\", \"Race\", \"Sex\", \"Capital Gain\",\n",
    "                    \"Capital Loss\", \"Hours per week\", \"Country\"]:  # Adjust this list to include all original features\n",
    "        # Identify columns related to this original feature\n",
    "        related_columns = [col for col in transformed_feature_names if col.startswith(feature)]\n",
    "        shap_aggregated[feature] = sum(\n",
    "            shap_values[1][0][i] for i, col in enumerate(transformed_feature_names) if col in related_columns\n",
    "        )\n",
    "\n",
    "    # Display aggregated SHAP values\n",
    "    print(\"\\nAggregated SHAP Values (Mapped to Original Features):\")\n",
    "    for feature, importance in shap_aggregated.items():\n",
    "        print(f\"{feature}: {importance:.2f}\")\n",
    "\n",
    "except Exception as e:\n",
    "    print(f\"Error generating SHAP explanation: {e}\")\n",
    "    shap_aggregated = {}\n",
    "\n",
    "# Natural Language Explanation Section\n",
    "try:\n",
    "    # Function to generate natural language explanations\n",
    "    def generate_explanation(feature_importances):\n",
    "        feature_str = \"\\n\".join([f\"{feature}: {importance:.2f}\" for feature, importance in feature_importances.items()])\n",
    "        prompt = f\"\"\"\n",
    "        Based on the following feature SHAP values:\n",
    "        {feature_str}\n",
    "        Explain the SHAP values for the prediction of whether an individual earns more than $50,000 per year. \n",
    "        Each SHAP value represents the contribution of a feature to the prediction relative to a baseline probability. \n",
    "        For each feature: Indicate whether it increases or decreases the likelihood of earning more than $50,000.\n",
    "        Avoid percentages or unsupported assumptions. Be concise and clear.\"\"\"\n",
    "        url = \"http://localhost:1337/v1/chat/completions\"  \n",
    "        headers = {\n",
    "            \"Content-Type\": \"application/json\",\n",
    "            \"Authorization\": \"api_key\",  # Replace\n",
    "        }\n",
    "        payload = {\n",
    "            \"messages\": [\n",
    "                {\"role\": \"system\", \"content\": \"You are an assistant that explains model predictions based on these SHAP values.\"},\n",
    "                {\"role\": \"user\", \"content\": prompt},\n",
    "            ],\n",
    "            \"model\": \"llama3.2-1b-instruct\",  \n",
    "            \"max_tokens\": 700,\n",
    "            \"temperature\": 0.2,\n",
    "            \"top_p\": 0.95,\n",
    "        }\n",
    "        response = requests.post(url, headers=headers, json=payload)\n",
    "        if response.status_code == 200:\n",
    "            return response.json()[\"choices\"][0][\"message\"][\"content\"]\n",
    "        else:\n",
    "            return f\"Error: {response.status_code}, {response.text}\"\n",
    "\n",
    "    # Check if SHAP values were successfully generated\n",
    "    if shap_aggregated:\n",
    "        explanation_text = generate_explanation(shap_aggregated)\n",
    "        print(\"\\nGenerated Natural Language Explanation:\")\n",
    "        print(explanation_text)\n",
    "    else:\n",
    "        print(\"SHAP explanation failed; skipping natural language explanation.\")\n",
    "except Exception as e:\n",
    "    print(f\"Error generating natural language explanation: {e}\")\n"
   ]
  }
 ],
 "metadata": {
  "kernelspec": {
   "display_name": "Python 3 (ipykernel)",
   "language": "python",
   "name": "python3"
  },
  "language_info": {
   "codemirror_mode": {
    "name": "ipython",
    "version": 3
   },
   "file_extension": ".py",
   "mimetype": "text/x-python",
   "name": "python",
   "nbconvert_exporter": "python",
   "pygments_lexer": "ipython3",
   "version": "3.11.10"
  }
 },
 "nbformat": 4,
 "nbformat_minor": 5
}
